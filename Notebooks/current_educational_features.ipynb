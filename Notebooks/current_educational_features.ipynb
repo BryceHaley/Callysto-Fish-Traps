{
 "cells": [
  {
   "cell_type": "markdown",
   "metadata": {},
   "source": [
    "# Initial notebook to highlight educational components"
   ]
  },
  {
   "cell_type": "markdown",
   "metadata": {},
   "source": [
    "This notebook showcases the initial education features intended by the callysto fish-trap project.\n",
    "\n",
    "It will use basic geometry to allow the user to build a traps. As the fish traps modeled are semi-circular traps found along beaches and rivers the user  will be able to specify:\n",
    "\n",
    "* the radius of the trap\n",
    "* the height of its walls\n",
    "\n",
    "The slope of the beach, the tide levels, and the location of the trap on the beach are fixed parameters."
   ]
  },
  {
   "cell_type": "code",
   "execution_count": null,
   "metadata": {},
   "outputs": [],
   "source": [
    "%run -i ./scripts/scripts.py"
   ]
  },
  {
   "cell_type": "code",
   "execution_count": null,
   "metadata": {},
   "outputs": [],
   "source": [
    "create_tide_plot()\n",
    "tide_values = get_tide_values()\n",
    "print(\"the plot has minimal value:\", min(tide_values))\n",
    "print(\"the plot has maximal value:\", max(tide_values))"
   ]
  },
  {
   "cell_type": "markdown",
   "metadata": {},
   "source": [
    "The tide values are based of measured readings from a the goverment for 1 week in May. They are measured hourly. To catch fish - the traps lowest point needs to be between the minimum and maximum values. The height of the fish trap is given by:\n",
    "\n",
    "$$z = (b+h)  +m \\cdot y$$\n",
    "\n",
    "where $m$ is the slope of the beach with intercept $b$, and $h$ is the hight of the trap built. The $y$ values come from the user inputs for the radius:\n",
    "\n",
    "$$y = r \\cdot \\sin(\\theta) + \\Delta$$\n",
    "$$x = r \\cdot \\cos(\\theta)$$\n",
    "$$\\theta \\in (0, \\pi)$$\n",
    "\n",
    "The user contols $r$. $\\Delta$ is how far down the beach the trap is fixed at 5m down the beach.\n",
    "\n",
    "\n",
    "The trap can be \"built\" with user controlled inputs"
   ]
  },
  {
   "cell_type": "code",
   "execution_count": null,
   "metadata": {},
   "outputs": [],
   "source": [
    "trap_points = get_perimeter(radius = 25, height = 2)\n",
    "\n",
    "print(\"the highest point of the trap is:\", max(trap_points[2]), \"m\")\n",
    "print(\"the lowest point of the trap is:\", min(trap_points[2]), \"m\")"
   ]
  },
  {
   "cell_type": "code",
   "execution_count": null,
   "metadata": {},
   "outputs": [],
   "source": [
    "data = run_trap(radius = 25, height = 2)"
   ]
  },
  {
   "cell_type": "markdown",
   "metadata": {},
   "source": [
    "run_trap() returns an array of arrays where the first three indexes are\n",
    "* The total number of harvested fish at hour indexed\n",
    "* The total number of fish in the trap at hour at hour indexed\n",
    "* the total number of fish outside the trap at hour indexed\n",
    "\n",
    "and the final one is just a list of the size of all harvests. This looks like"
   ]
  },
  {
   "cell_type": "code",
   "execution_count": null,
   "metadata": {},
   "outputs": [],
   "source": [
    "plot_trap(radius = 25, height = 2)"
   ]
  },
  {
   "cell_type": "code",
   "execution_count": null,
   "metadata": {},
   "outputs": [],
   "source": [
    "plot_trap(radius = 25, height = 2, constant_population = False)"
   ]
  },
  {
   "cell_type": "markdown",
   "metadata": {},
   "source": [
    "the constant_population is a default true value that when true will reset the total fish population to 1000 after every harvest. When false the fish population dwindels as fish are harvested."
   ]
  },
  {
   "cell_type": "markdown",
   "metadata": {},
   "source": [
    "## Future Work\n",
    "\n",
    "The end result is the students will be able to manipulate parameters via toggling radio buttons or manipulating slidin scales to see the effect of the variables on the model. The students will also have to decide at each low tide, how many fish they want to harvest. This will allow them to see the effect of unsustainable fishing practices"
   ]
  },
  {
   "cell_type": "code",
   "execution_count": null,
   "metadata": {},
   "outputs": [],
   "source": []
  }
 ],
 "metadata": {
  "kernelspec": {
   "display_name": "Python 3",
   "language": "python",
   "name": "python3"
  },
  "language_info": {
   "codemirror_mode": {
    "name": "ipython",
    "version": 3
   },
   "file_extension": ".py",
   "mimetype": "text/x-python",
   "name": "python",
   "nbconvert_exporter": "python",
   "pygments_lexer": "ipython3",
   "version": "3.8.0"
  }
 },
 "nbformat": 4,
 "nbformat_minor": 4
}
