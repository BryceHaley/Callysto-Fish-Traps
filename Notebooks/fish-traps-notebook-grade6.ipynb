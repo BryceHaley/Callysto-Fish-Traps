{
 "cells": [
  {
   "cell_type": "markdown",
   "metadata": {},
   "source": [
    "![Callysto.ca Banner](https://github.com/callysto/curriculum-notebooks/blob/master/callysto-notebook-banner-top.jpg?raw=true)"
   ]
  },
  {
   "cell_type": "markdown",
   "metadata": {},
   "source": [
    "# The Mathematics Behind First Nations Fish Traps\n",
    "\n",
    "[Introduction to history, findings] \n",
    "\n",
    "___\n",
    "\n",
    "## Modelling Fish Traps\n",
    "\n",
    "### 1. Identifying elements involved in building fish traps\n",
    "\n",
    "#### What location are we choosing?\n",
    "\n",
    "The Comox Valley is a region on the east coast of Vancouver Island, British Columbia, Canada. It includes:\n",
    "\n",
    "1. The city of Courtenay,\n",
    "\n",
    "2. the town of Comox, \n",
    "\n",
    "3. the village of Cumberland, and \n",
    "\n",
    "4. the unincorporated settlements of Royston, Union Bay, Fanny Bay, Black Creek and Merville [1]. \n",
    "\n",
    "\n",
    "The communities of Denman Island and Hornby Island are also considered part of the Comox Valley. The Comox Valley is listed as the 59th largest metropolitan area in Canada.\n",
    "\n",
    "When we say \"unincorporated settlement\", \"unincorporated community\" or \"unincorporated area\", we are referring to a region of land that is not governed by its own local municipal corporation. Instead, it is governed as part of 'administrative divisions'. Examples of administrative divisions include a township, parish, borough, county, city, canton, state, province or country [2].\n",
    "\n",
    "\n",
    "[1] https://latitude.to/articles-by-country/ca/canada/42519/comox-valley\n",
    "\n",
    "[2] https://kids.kiddle.co/Unincorporated_area\n",
    "\n",
    "\n",
    "\n",
    "In this notebook we will focus on the Comox Valley Harbour. "
   ]
  },
  {
   "cell_type": "code",
   "execution_count": null,
   "metadata": {},
   "outputs": [],
   "source": [
    "%run -i ./scripts/scripts.py\n",
    "# Coordinates for Comox Harbour https://latitude.to/articles-by-country/ca/canada/42519/comox-valley\n",
    "latitude =  49.669226\n",
    "longitude = -124.9694\n",
    "plot_interactive_map(latitude,longitude)"
   ]
  },
  {
   "cell_type": "markdown",
   "metadata": {},
   "source": [
    "#### What are the tides like in there?\n",
    "\n",
    "Let's take a look at tide levels at Comox Harbour for a day, then for a week. \n",
    "\n",
    "Run the cell below. You should see a plot. Interact with it to see how high the tides were and wen. \n",
    "\n",
    "On the x-axis you can see how high was the tide during the day. On the x-axis you can see the time of day (24 hour format), use the table below to help you convert it if you are not familiar with 24 hour format:\n",
    "\n",
    "|<b>Time in 24 hour format</b>|<b>Time in 12 hour format</b>||<b>Time in 24 hour format</b>|<b>Time in 12 hour format</b>|\n",
    "|-|-|-|-|-|\n",
    "|0:00|12:00 AM| |12:00|12:00 PM| \n",
    "|1:00|1:00 AM| |13:00 | 1:00 PM |\n",
    "|2:00|2:00 AM| |14:00| 2:00 PM|\n",
    "|3:00|3:00 AM| | 15:00| 3:00 PM |\n",
    "|4:00|4:00 AM| | 16:00| 4:00 PM |\n",
    "|5:00|5:00 AM| | 17:00| 5:00 PM|\n",
    "|6:00|6:00 AM| | 18:00| 6:00 PM|\n",
    "|7:00|7:00 AM| | 19:00| 7:00 PM|\n",
    "|8:00|8:00 AM| | 20:00| 8:00 PM|\n",
    "|9:00|9:00 AM| | 21:00| 9:00 PM|\n",
    "|10:00|10:00 AM| | 22:00| 10:00 PM|\n",
    "|11:00|11:00 AM| | 23:00| 11:00 PM |\n"
   ]
  },
  {
   "cell_type": "code",
   "execution_count": null,
   "metadata": {},
   "outputs": [],
   "source": [
    "create_tide_plot(\"day\",1)"
   ]
  },
  {
   "cell_type": "markdown",
   "metadata": {},
   "source": [
    "How does the tide behave during the week?"
   ]
  },
  {
   "cell_type": "code",
   "execution_count": null,
   "metadata": {},
   "outputs": [],
   "source": [
    "# Have these in days and hours \n",
    "create_tide_plot()"
   ]
  },
  {
   "cell_type": "markdown",
   "metadata": {},
   "source": [
    "#### Where to locate the trap"
   ]
  },
  {
   "cell_type": "markdown",
   "metadata": {},
   "source": [
    "### Shape of the trap"
   ]
  },
  {
   "cell_type": "markdown",
   "metadata": {},
   "source": [
    "Notes:\n",
    "1. normalize tide level to fish trap level not sea level.\n",
    "Bryce Haley12:08 PM\n",
    "2. add map showing fish trap location and measurement location"
   ]
  },
  {
   "cell_type": "code",
   "execution_count": null,
   "metadata": {},
   "outputs": [],
   "source": [
    "%run -i ./scripts/particle_box.py\n",
    "\n",
    "HTML(ani.to_html5_video())"
   ]
  },
  {
   "cell_type": "markdown",
   "metadata": {},
   "source": [
    "### Simulate trapping fish\n",
    "\n",
    "### Simulate harvesting fish - add plot (similar to tide plot)\n",
    "\n",
    "\n",
    "---> Robust code for harvesting. \n",
    "\n",
    "4. plot for harvesting (text based input is okay)"
   ]
  },
  {
   "cell_type": "code",
   "execution_count": null,
   "metadata": {},
   "outputs": [],
   "source": [
    "flag = False\n",
    "results = []\n",
    "selected_harvest = 0\n",
    "while(not flag):\n",
    "    results = run_trap_harvesting(prev_values = results, selected_harvest = selected_harvest)\n",
    "    selected_harvest = math.floor(results[1][-1])\n",
    "    flag = results[4]\n",
    "fish_simulation = {\"Total harvested fish\":results[0],\n",
    "                    \"Total fish in the trap\":results[1],\n",
    "                    \"Total fish outside the trap\":results[2]}"
   ]
  },
  {
   "cell_type": "code",
   "execution_count": null,
   "metadata": {},
   "outputs": [],
   "source": [
    "plot_caught_fish(fish_simulation)"
   ]
  },
  {
   "cell_type": "code",
   "execution_count": null,
   "metadata": {},
   "outputs": [],
   "source": [
    "# Getting fish data\n",
    "df = generate_df_from_simulation(fish_simulation)\n",
    "\n",
    "# Getting tide data\n",
    "tide_df = pd.DataFrame(get_tide_values())\n",
    "tide_df = tide_df.rename(columns = {0:'tide_level'})\n",
    "tide_df['hour'] = tide_df.index\n",
    "tide_df[\"day_hour\"] = tide_df[\"hour\"] % 24\n",
    "tide_df[\"day\"] = tide_df['hour'] // 24\n",
    "\n",
    "\n",
    "x = tide_df.hour\n",
    "y = tide_df.tide_level\n",
    "\n",
    "x1 = df['hour']\n",
    "y1 = df['In Trap']\n",
    "\n",
    "\n",
    "trace1 = go.Scatter(x=x,y=y,name='tide')\n",
    "trace2 = go.Scatter(x=x1,y=y1,name='Trap',yaxis='y2')\n",
    "    \n",
    "layout = go.Layout(\n",
    "        title= ('Number of fish trapped vs tide level'),\n",
    "        yaxis=dict(title='Tide level',\\\n",
    "                   titlefont=dict(color='blue'), tickfont=dict(color='blue')),\n",
    "        yaxis2=dict(title='Number of fish in trap', titlefont=dict(color='red'), \\\n",
    "                    tickfont=dict(color='red'), overlaying='y', side='right'),\n",
    "        showlegend=False)\n",
    "fig = go.Figure(data=[trace1,trace2],layout=layout)\n",
    "fig.update_yaxes(showgrid=True)\n",
    "fig.show()"
   ]
  },
  {
   "cell_type": "markdown",
   "metadata": {},
   "source": [
    "5. explore problems and benefits of modelling different shapes"
   ]
  },
  {
   "cell_type": "markdown",
   "metadata": {},
   "source": [
    "[![Callysto.ca License](https://github.com/callysto/curriculum-notebooks/blob/master/callysto-notebook-banner-bottom.jpg?raw=true)](https://github.com/callysto/curriculum-notebooks/blob/master/LICENSE.md)"
   ]
  }
 ],
 "metadata": {
  "kernelspec": {
   "display_name": "Python 3",
   "language": "python",
   "name": "python3"
  },
  "language_info": {
   "codemirror_mode": {
    "name": "ipython",
    "version": 3
   },
   "file_extension": ".py",
   "mimetype": "text/x-python",
   "name": "python",
   "nbconvert_exporter": "python",
   "pygments_lexer": "ipython3",
   "version": "3.8.0"
  }
 },
 "nbformat": 4,
 "nbformat_minor": 4
}
