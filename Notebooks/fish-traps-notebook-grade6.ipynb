{
 "cells": [
  {
   "cell_type": "markdown",
   "metadata": {},
   "source": [
    "![Callysto.ca Banner](https://github.com/callysto/curriculum-notebooks/blob/master/callysto-notebook-banner-top.jpg?raw=true)"
   ]
  },
  {
   "cell_type": "markdown",
   "metadata": {},
   "source": [
    "# The Mathematics Behind First Nations Fish Traps\n",
    "\n",
    "[Introduction to history, findings] \n",
    "\n",
    "___\n",
    "\n",
    "## Modelling Fish Traps\n",
    "\n",
    "### 1. Identifying elements involved in building fish traps\n",
    "\n",
    "#### What location are we choosing?\n",
    "\n",
    "The Comox Valley is a region on the east coast of Vancouver Island, British Columbia, Canada. It includes:\n",
    "\n",
    "1. The city of Courtenay,\n",
    "\n",
    "2. the town of Comox, \n",
    "\n",
    "3. the village of Cumberland, and \n",
    "\n",
    "4. the unincorporated settlements of Royston, Union Bay, Fanny Bay, Black Creek and Merville [1]. \n",
    "\n",
    "\n",
    "The communities of Denman Island and Hornby Island are also considered part of the Comox Valley. The Comox Valley is listed as the 59th largest metropolitan area in Canada.\n",
    "\n",
    "When we say \"unincorporated settlement\", \"unincorporated community\" or \"unincorporated area\", we are referring to a region of land that is not governed by its own local municipal corporation. Instead, it is governed as part of 'administrative divisions'. Examples of administrative divisions include a township, parish, borough, county, city, canton, state, province or country [2].\n",
    "\n",
    "\n",
    "[1] https://latitude.to/articles-by-country/ca/canada/42519/comox-valley\n",
    "\n",
    "[2] https://kids.kiddle.co/Unincorporated_area\n",
    "\n",
    "\n",
    "\n",
    "In this notebook we will focus on the Comox Valley Harbour. "
   ]
  },
  {
   "cell_type": "code",
   "execution_count": 55,
   "metadata": {},
   "outputs": [
    {
     "data": {
      "text/html": [
       "<div style=\"width:100%;\"><div style=\"position:relative;width:100%;height:0;padding-bottom:60%;\"><span style=\"color:#565656\">Make this Notebook Trusted to load map: File -> Trust Notebook</span><iframe src=\"about:blank\" style=\"position:absolute;width:100%;height:100%;left:0;top:0;border:none !important;\" data-html=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 onload=\"this.contentDocument.open();this.contentDocument.write(atob(this.getAttribute('data-html')));this.contentDocument.close();\" allowfullscreen webkitallowfullscreen mozallowfullscreen></iframe></div></div>"
      ],
      "text/plain": [
       "<folium.folium.Map at 0x7f748af95100>"
      ]
     },
     "metadata": {},
     "output_type": "display_data"
    }
   ],
   "source": [
    "%run -i ./scripts/scripts.py\n",
    "# Coordinates for Comox Harbour https://latitude.to/articles-by-country/ca/canada/42519/comox-valley\n",
    "latitude =  49.6798\n",
    "longitude = -124.9694\n",
    "plot_interactive_map(latitude,longitude)"
   ]
  },
  {
   "cell_type": "markdown",
   "metadata": {},
   "source": [
    "#### What are the tides like in there?\n",
    "\n",
    "Let's take a look at tide levels at Comox Harbour for a day, then for a week. \n",
    "\n",
    "Run the cell below. You should see a plot. Interact with it to see how high the tides were and wen. \n",
    "\n",
    "On the x-axis you can see how high was the tide during the day. On the x-axis you can see the time of day (24 hour format), use the table below to help you convert it if you are not familiar with 24 hour format:\n",
    "\n",
    "|<b>Time in 24 hour format</b>|<b>Time in 12 hour format</b>||<b>Time in 24 hour format</b>|<b>Time in 12 hour format</b>|\n",
    "|-|-|-|-|-|\n",
    "|0:00|12:00 AM| |12:00|12:00 PM| \n",
    "|1:00|1:00 AM| |13:00 | 1:00 PM |\n",
    "|2:00|2:00 AM| |14:00| 2:00 PM|\n",
    "|3:00|3:00 AM| | 15:00| 3:00 PM |\n",
    "|4:00|4:00 AM| | 16:00| 4:00 PM |\n",
    "|5:00|5:00 AM| | 17:00| 5:00 PM|\n",
    "|6:00|6:00 AM| | 18:00| 6:00 PM|\n",
    "|7:00|7:00 AM| | 19:00| 7:00 PM|\n",
    "|8:00|8:00 AM| | 20:00| 8:00 PM|\n",
    "|9:00|9:00 AM| | 21:00| 9:00 PM|\n",
    "|10:00|10:00 AM| | 22:00| 10:00 PM|\n",
    "|11:00|11:00 AM| | 23:00| 11:00 PM |\n"
   ]
  },
  {
   "cell_type": "code",
   "execution_count": 56,
   "metadata": {},
   "outputs": [
    {
     "data": {
      "application/vnd.plotly.v1+json": {
       "config": {
        "plotlyServerURL": "https://plot.ly"
       },
       "data": [
        {
         "hovertemplate": "%{text}<br>%{y:}m above sea-level",
         "legendgroup": "",
         "line": {
          "color": "#636efa",
          "dash": "solid",
          "shape": "spline"
         },
         "mode": "lines",
         "name": "",
         "orientation": "v",
         "showlegend": false,
         "text": [
          "<b>Day</b>: 1<br><b>Hour</b>: 0",
          "<b>Day</b>: 1<br><b>Hour</b>: 1",
          "<b>Day</b>: 1<br><b>Hour</b>: 2",
          "<b>Day</b>: 1<br><b>Hour</b>: 3",
          "<b>Day</b>: 1<br><b>Hour</b>: 4",
          "<b>Day</b>: 1<br><b>Hour</b>: 5",
          "<b>Day</b>: 1<br><b>Hour</b>: 6",
          "<b>Day</b>: 1<br><b>Hour</b>: 7",
          "<b>Day</b>: 1<br><b>Hour</b>: 8",
          "<b>Day</b>: 1<br><b>Hour</b>: 9",
          "<b>Day</b>: 1<br><b>Hour</b>: 10",
          "<b>Day</b>: 1<br><b>Hour</b>: 11",
          "<b>Day</b>: 1<br><b>Hour</b>: 12",
          "<b>Day</b>: 1<br><b>Hour</b>: 13",
          "<b>Day</b>: 1<br><b>Hour</b>: 14",
          "<b>Day</b>: 1<br><b>Hour</b>: 15",
          "<b>Day</b>: 1<br><b>Hour</b>: 16",
          "<b>Day</b>: 1<br><b>Hour</b>: 17",
          "<b>Day</b>: 1<br><b>Hour</b>: 18",
          "<b>Day</b>: 1<br><b>Hour</b>: 19",
          "<b>Day</b>: 1<br><b>Hour</b>: 20",
          "<b>Day</b>: 1<br><b>Hour</b>: 21",
          "<b>Day</b>: 1<br><b>Hour</b>: 22",
          "<b>Day</b>: 1<br><b>Hour</b>: 23"
         ],
         "type": "scatter",
         "x": [
          0,
          1,
          2,
          3,
          4,
          5,
          6,
          7,
          8,
          9,
          10,
          11,
          12,
          13,
          14,
          15,
          16,
          17,
          18,
          19,
          20,
          21,
          22,
          23
         ],
         "xaxis": "x",
         "y": [
          3.9,
          4.4,
          4.7,
          4.7,
          4.5,
          4.2,
          3.7,
          3.3,
          3.1,
          3,
          3.1,
          3.2,
          3.5,
          3.6,
          3.6,
          3.4,
          3.1,
          2.6,
          2.2,
          1.8,
          1.7,
          1.8,
          2.2,
          2.8
         ],
         "yaxis": "y"
        }
       ],
       "layout": {
        "legend": {
         "tracegroupgap": 0
        },
        "margin": {
         "t": 60
        },
        "template": {
         "data": {
          "bar": [
           {
            "error_x": {
             "color": "#2a3f5f"
            },
            "error_y": {
             "color": "#2a3f5f"
            },
            "marker": {
             "line": {
              "color": "#E5ECF6",
              "width": 0.5
             }
            },
            "type": "bar"
           }
          ],
          "barpolar": [
           {
            "marker": {
             "line": {
              "color": "#E5ECF6",
              "width": 0.5
             }
            },
            "type": "barpolar"
           }
          ],
          "carpet": [
           {
            "aaxis": {
             "endlinecolor": "#2a3f5f",
             "gridcolor": "white",
             "linecolor": "white",
             "minorgridcolor": "white",
             "startlinecolor": "#2a3f5f"
            },
            "baxis": {
             "endlinecolor": "#2a3f5f",
             "gridcolor": "white",
             "linecolor": "white",
             "minorgridcolor": "white",
             "startlinecolor": "#2a3f5f"
            },
            "type": "carpet"
           }
          ],
          "choropleth": [
           {
            "colorbar": {
             "outlinewidth": 0,
             "ticks": ""
            },
            "type": "choropleth"
           }
          ],
          "contour": [
           {
            "colorbar": {
             "outlinewidth": 0,
             "ticks": ""
            },
            "colorscale": [
             [
              0,
              "#0d0887"
             ],
             [
              0.1111111111111111,
              "#46039f"
             ],
             [
              0.2222222222222222,
              "#7201a8"
             ],
             [
              0.3333333333333333,
              "#9c179e"
             ],
             [
              0.4444444444444444,
              "#bd3786"
             ],
             [
              0.5555555555555556,
              "#d8576b"
             ],
             [
              0.6666666666666666,
              "#ed7953"
             ],
             [
              0.7777777777777778,
              "#fb9f3a"
             ],
             [
              0.8888888888888888,
              "#fdca26"
             ],
             [
              1,
              "#f0f921"
             ]
            ],
            "type": "contour"
           }
          ],
          "contourcarpet": [
           {
            "colorbar": {
             "outlinewidth": 0,
             "ticks": ""
            },
            "type": "contourcarpet"
           }
          ],
          "heatmap": [
           {
            "colorbar": {
             "outlinewidth": 0,
             "ticks": ""
            },
            "colorscale": [
             [
              0,
              "#0d0887"
             ],
             [
              0.1111111111111111,
              "#46039f"
             ],
             [
              0.2222222222222222,
              "#7201a8"
             ],
             [
              0.3333333333333333,
              "#9c179e"
             ],
             [
              0.4444444444444444,
              "#bd3786"
             ],
             [
              0.5555555555555556,
              "#d8576b"
             ],
             [
              0.6666666666666666,
              "#ed7953"
             ],
             [
              0.7777777777777778,
              "#fb9f3a"
             ],
             [
              0.8888888888888888,
              "#fdca26"
             ],
             [
              1,
              "#f0f921"
             ]
            ],
            "type": "heatmap"
           }
          ],
          "heatmapgl": [
           {
            "colorbar": {
             "outlinewidth": 0,
             "ticks": ""
            },
            "colorscale": [
             [
              0,
              "#0d0887"
             ],
             [
              0.1111111111111111,
              "#46039f"
             ],
             [
              0.2222222222222222,
              "#7201a8"
             ],
             [
              0.3333333333333333,
              "#9c179e"
             ],
             [
              0.4444444444444444,
              "#bd3786"
             ],
             [
              0.5555555555555556,
              "#d8576b"
             ],
             [
              0.6666666666666666,
              "#ed7953"
             ],
             [
              0.7777777777777778,
              "#fb9f3a"
             ],
             [
              0.8888888888888888,
              "#fdca26"
             ],
             [
              1,
              "#f0f921"
             ]
            ],
            "type": "heatmapgl"
           }
          ],
          "histogram": [
           {
            "marker": {
             "colorbar": {
              "outlinewidth": 0,
              "ticks": ""
             }
            },
            "type": "histogram"
           }
          ],
          "histogram2d": [
           {
            "colorbar": {
             "outlinewidth": 0,
             "ticks": ""
            },
            "colorscale": [
             [
              0,
              "#0d0887"
             ],
             [
              0.1111111111111111,
              "#46039f"
             ],
             [
              0.2222222222222222,
              "#7201a8"
             ],
             [
              0.3333333333333333,
              "#9c179e"
             ],
             [
              0.4444444444444444,
              "#bd3786"
             ],
             [
              0.5555555555555556,
              "#d8576b"
             ],
             [
              0.6666666666666666,
              "#ed7953"
             ],
             [
              0.7777777777777778,
              "#fb9f3a"
             ],
             [
              0.8888888888888888,
              "#fdca26"
             ],
             [
              1,
              "#f0f921"
             ]
            ],
            "type": "histogram2d"
           }
          ],
          "histogram2dcontour": [
           {
            "colorbar": {
             "outlinewidth": 0,
             "ticks": ""
            },
            "colorscale": [
             [
              0,
              "#0d0887"
             ],
             [
              0.1111111111111111,
              "#46039f"
             ],
             [
              0.2222222222222222,
              "#7201a8"
             ],
             [
              0.3333333333333333,
              "#9c179e"
             ],
             [
              0.4444444444444444,
              "#bd3786"
             ],
             [
              0.5555555555555556,
              "#d8576b"
             ],
             [
              0.6666666666666666,
              "#ed7953"
             ],
             [
              0.7777777777777778,
              "#fb9f3a"
             ],
             [
              0.8888888888888888,
              "#fdca26"
             ],
             [
              1,
              "#f0f921"
             ]
            ],
            "type": "histogram2dcontour"
           }
          ],
          "mesh3d": [
           {
            "colorbar": {
             "outlinewidth": 0,
             "ticks": ""
            },
            "type": "mesh3d"
           }
          ],
          "parcoords": [
           {
            "line": {
             "colorbar": {
              "outlinewidth": 0,
              "ticks": ""
             }
            },
            "type": "parcoords"
           }
          ],
          "pie": [
           {
            "automargin": true,
            "type": "pie"
           }
          ],
          "scatter": [
           {
            "marker": {
             "colorbar": {
              "outlinewidth": 0,
              "ticks": ""
             }
            },
            "type": "scatter"
           }
          ],
          "scatter3d": [
           {
            "line": {
             "colorbar": {
              "outlinewidth": 0,
              "ticks": ""
             }
            },
            "marker": {
             "colorbar": {
              "outlinewidth": 0,
              "ticks": ""
             }
            },
            "type": "scatter3d"
           }
          ],
          "scattercarpet": [
           {
            "marker": {
             "colorbar": {
              "outlinewidth": 0,
              "ticks": ""
             }
            },
            "type": "scattercarpet"
           }
          ],
          "scattergeo": [
           {
            "marker": {
             "colorbar": {
              "outlinewidth": 0,
              "ticks": ""
             }
            },
            "type": "scattergeo"
           }
          ],
          "scattergl": [
           {
            "marker": {
             "colorbar": {
              "outlinewidth": 0,
              "ticks": ""
             }
            },
            "type": "scattergl"
           }
          ],
          "scattermapbox": [
           {
            "marker": {
             "colorbar": {
              "outlinewidth": 0,
              "ticks": ""
             }
            },
            "type": "scattermapbox"
           }
          ],
          "scatterpolar": [
           {
            "marker": {
             "colorbar": {
              "outlinewidth": 0,
              "ticks": ""
             }
            },
            "type": "scatterpolar"
           }
          ],
          "scatterpolargl": [
           {
            "marker": {
             "colorbar": {
              "outlinewidth": 0,
              "ticks": ""
             }
            },
            "type": "scatterpolargl"
           }
          ],
          "scatterternary": [
           {
            "marker": {
             "colorbar": {
              "outlinewidth": 0,
              "ticks": ""
             }
            },
            "type": "scatterternary"
           }
          ],
          "surface": [
           {
            "colorbar": {
             "outlinewidth": 0,
             "ticks": ""
            },
            "colorscale": [
             [
              0,
              "#0d0887"
             ],
             [
              0.1111111111111111,
              "#46039f"
             ],
             [
              0.2222222222222222,
              "#7201a8"
             ],
             [
              0.3333333333333333,
              "#9c179e"
             ],
             [
              0.4444444444444444,
              "#bd3786"
             ],
             [
              0.5555555555555556,
              "#d8576b"
             ],
             [
              0.6666666666666666,
              "#ed7953"
             ],
             [
              0.7777777777777778,
              "#fb9f3a"
             ],
             [
              0.8888888888888888,
              "#fdca26"
             ],
             [
              1,
              "#f0f921"
             ]
            ],
            "type": "surface"
           }
          ],
          "table": [
           {
            "cells": {
             "fill": {
              "color": "#EBF0F8"
             },
             "line": {
              "color": "white"
             }
            },
            "header": {
             "fill": {
              "color": "#C8D4E3"
             },
             "line": {
              "color": "white"
             }
            },
            "type": "table"
           }
          ]
         },
         "layout": {
          "annotationdefaults": {
           "arrowcolor": "#2a3f5f",
           "arrowhead": 0,
           "arrowwidth": 1
          },
          "coloraxis": {
           "colorbar": {
            "outlinewidth": 0,
            "ticks": ""
           }
          },
          "colorscale": {
           "diverging": [
            [
             0,
             "#8e0152"
            ],
            [
             0.1,
             "#c51b7d"
            ],
            [
             0.2,
             "#de77ae"
            ],
            [
             0.3,
             "#f1b6da"
            ],
            [
             0.4,
             "#fde0ef"
            ],
            [
             0.5,
             "#f7f7f7"
            ],
            [
             0.6,
             "#e6f5d0"
            ],
            [
             0.7,
             "#b8e186"
            ],
            [
             0.8,
             "#7fbc41"
            ],
            [
             0.9,
             "#4d9221"
            ],
            [
             1,
             "#276419"
            ]
           ],
           "sequential": [
            [
             0,
             "#0d0887"
            ],
            [
             0.1111111111111111,
             "#46039f"
            ],
            [
             0.2222222222222222,
             "#7201a8"
            ],
            [
             0.3333333333333333,
             "#9c179e"
            ],
            [
             0.4444444444444444,
             "#bd3786"
            ],
            [
             0.5555555555555556,
             "#d8576b"
            ],
            [
             0.6666666666666666,
             "#ed7953"
            ],
            [
             0.7777777777777778,
             "#fb9f3a"
            ],
            [
             0.8888888888888888,
             "#fdca26"
            ],
            [
             1,
             "#f0f921"
            ]
           ],
           "sequentialminus": [
            [
             0,
             "#0d0887"
            ],
            [
             0.1111111111111111,
             "#46039f"
            ],
            [
             0.2222222222222222,
             "#7201a8"
            ],
            [
             0.3333333333333333,
             "#9c179e"
            ],
            [
             0.4444444444444444,
             "#bd3786"
            ],
            [
             0.5555555555555556,
             "#d8576b"
            ],
            [
             0.6666666666666666,
             "#ed7953"
            ],
            [
             0.7777777777777778,
             "#fb9f3a"
            ],
            [
             0.8888888888888888,
             "#fdca26"
            ],
            [
             1,
             "#f0f921"
            ]
           ]
          },
          "colorway": [
           "#636efa",
           "#EF553B",
           "#00cc96",
           "#ab63fa",
           "#FFA15A",
           "#19d3f3",
           "#FF6692",
           "#B6E880",
           "#FF97FF",
           "#FECB52"
          ],
          "font": {
           "color": "#2a3f5f"
          },
          "geo": {
           "bgcolor": "white",
           "lakecolor": "white",
           "landcolor": "#E5ECF6",
           "showlakes": true,
           "showland": true,
           "subunitcolor": "white"
          },
          "hoverlabel": {
           "align": "left"
          },
          "hovermode": "closest",
          "mapbox": {
           "style": "light"
          },
          "paper_bgcolor": "white",
          "plot_bgcolor": "#E5ECF6",
          "polar": {
           "angularaxis": {
            "gridcolor": "white",
            "linecolor": "white",
            "ticks": ""
           },
           "bgcolor": "#E5ECF6",
           "radialaxis": {
            "gridcolor": "white",
            "linecolor": "white",
            "ticks": ""
           }
          },
          "scene": {
           "xaxis": {
            "backgroundcolor": "#E5ECF6",
            "gridcolor": "white",
            "gridwidth": 2,
            "linecolor": "white",
            "showbackground": true,
            "ticks": "",
            "zerolinecolor": "white"
           },
           "yaxis": {
            "backgroundcolor": "#E5ECF6",
            "gridcolor": "white",
            "gridwidth": 2,
            "linecolor": "white",
            "showbackground": true,
            "ticks": "",
            "zerolinecolor": "white"
           },
           "zaxis": {
            "backgroundcolor": "#E5ECF6",
            "gridcolor": "white",
            "gridwidth": 2,
            "linecolor": "white",
            "showbackground": true,
            "ticks": "",
            "zerolinecolor": "white"
           }
          },
          "shapedefaults": {
           "line": {
            "color": "#2a3f5f"
           }
          },
          "ternary": {
           "aaxis": {
            "gridcolor": "white",
            "linecolor": "white",
            "ticks": ""
           },
           "baxis": {
            "gridcolor": "white",
            "linecolor": "white",
            "ticks": ""
           },
           "bgcolor": "#E5ECF6",
           "caxis": {
            "gridcolor": "white",
            "linecolor": "white",
            "ticks": ""
           }
          },
          "title": {
           "x": 0.05
          },
          "xaxis": {
           "automargin": true,
           "gridcolor": "white",
           "linecolor": "white",
           "ticks": "",
           "title": {
            "standoff": 15
           },
           "zerolinecolor": "white",
           "zerolinewidth": 2
          },
          "yaxis": {
           "automargin": true,
           "gridcolor": "white",
           "linecolor": "white",
           "ticks": "",
           "title": {
            "standoff": 15
           },
           "zerolinecolor": "white",
           "zerolinewidth": 2
          }
         }
        },
        "title": {
         "text": "Measured Tide Readings for Comox Harbour"
        },
        "xaxis": {
         "anchor": "y",
         "domain": [
          0,
          1
         ],
         "title": {
          "text": "Time (Hours)"
         }
        },
        "yaxis": {
         "anchor": "x",
         "domain": [
          0,
          1
         ],
         "title": {
          "text": "Tide Level (Meters Above Sea Level)"
         }
        }
       }
      },
      "text/html": [
       "<div>\n",
       "        \n",
       "        \n",
       "            <div id=\"4ab06d7c-8ad7-4cc0-ad25-b3fe3b6ade8c\" class=\"plotly-graph-div\" style=\"height:525px; width:100%;\"></div>\n",
       "            <script type=\"text/javascript\">\n",
       "                require([\"plotly\"], function(Plotly) {\n",
       "                    window.PLOTLYENV=window.PLOTLYENV || {};\n",
       "                    \n",
       "                if (document.getElementById(\"4ab06d7c-8ad7-4cc0-ad25-b3fe3b6ade8c\")) {\n",
       "                    Plotly.newPlot(\n",
       "                        '4ab06d7c-8ad7-4cc0-ad25-b3fe3b6ade8c',\n",
       "                        [{\"hovertemplate\": \"%{text}<br>%{y:}m above sea-level\", \"legendgroup\": \"\", \"line\": {\"color\": \"#636efa\", \"dash\": \"solid\", \"shape\": \"spline\"}, \"mode\": \"lines\", \"name\": \"\", \"orientation\": \"v\", \"showlegend\": false, \"text\": [\"<b>Day</b>: 1<br><b>Hour</b>: 0\", \"<b>Day</b>: 1<br><b>Hour</b>: 1\", \"<b>Day</b>: 1<br><b>Hour</b>: 2\", \"<b>Day</b>: 1<br><b>Hour</b>: 3\", \"<b>Day</b>: 1<br><b>Hour</b>: 4\", \"<b>Day</b>: 1<br><b>Hour</b>: 5\", \"<b>Day</b>: 1<br><b>Hour</b>: 6\", \"<b>Day</b>: 1<br><b>Hour</b>: 7\", \"<b>Day</b>: 1<br><b>Hour</b>: 8\", \"<b>Day</b>: 1<br><b>Hour</b>: 9\", \"<b>Day</b>: 1<br><b>Hour</b>: 10\", \"<b>Day</b>: 1<br><b>Hour</b>: 11\", \"<b>Day</b>: 1<br><b>Hour</b>: 12\", \"<b>Day</b>: 1<br><b>Hour</b>: 13\", \"<b>Day</b>: 1<br><b>Hour</b>: 14\", \"<b>Day</b>: 1<br><b>Hour</b>: 15\", \"<b>Day</b>: 1<br><b>Hour</b>: 16\", \"<b>Day</b>: 1<br><b>Hour</b>: 17\", \"<b>Day</b>: 1<br><b>Hour</b>: 18\", \"<b>Day</b>: 1<br><b>Hour</b>: 19\", \"<b>Day</b>: 1<br><b>Hour</b>: 20\", \"<b>Day</b>: 1<br><b>Hour</b>: 21\", \"<b>Day</b>: 1<br><b>Hour</b>: 22\", \"<b>Day</b>: 1<br><b>Hour</b>: 23\"], \"type\": \"scatter\", \"x\": [0, 1, 2, 3, 4, 5, 6, 7, 8, 9, 10, 11, 12, 13, 14, 15, 16, 17, 18, 19, 20, 21, 22, 23], \"xaxis\": \"x\", \"y\": [3.9, 4.4, 4.7, 4.7, 4.5, 4.2, 3.7, 3.3, 3.1, 3.0, 3.1, 3.2, 3.5, 3.6, 3.6, 3.4, 3.1, 2.6, 2.2, 1.8, 1.7, 1.8, 2.2, 2.8], \"yaxis\": \"y\"}],\n",
       "                        {\"legend\": {\"tracegroupgap\": 0}, \"margin\": {\"t\": 60}, \"template\": {\"data\": {\"bar\": [{\"error_x\": {\"color\": \"#2a3f5f\"}, \"error_y\": {\"color\": \"#2a3f5f\"}, \"marker\": {\"line\": {\"color\": \"#E5ECF6\", \"width\": 0.5}}, \"type\": \"bar\"}], \"barpolar\": [{\"marker\": {\"line\": {\"color\": \"#E5ECF6\", \"width\": 0.5}}, \"type\": \"barpolar\"}], \"carpet\": [{\"aaxis\": {\"endlinecolor\": \"#2a3f5f\", \"gridcolor\": \"white\", \"linecolor\": \"white\", \"minorgridcolor\": \"white\", \"startlinecolor\": \"#2a3f5f\"}, \"baxis\": {\"endlinecolor\": \"#2a3f5f\", \"gridcolor\": \"white\", \"linecolor\": \"white\", \"minorgridcolor\": \"white\", \"startlinecolor\": \"#2a3f5f\"}, \"type\": \"carpet\"}], \"choropleth\": [{\"colorbar\": {\"outlinewidth\": 0, \"ticks\": \"\"}, \"type\": \"choropleth\"}], \"contour\": [{\"colorbar\": {\"outlinewidth\": 0, \"ticks\": \"\"}, \"colorscale\": [[0.0, \"#0d0887\"], [0.1111111111111111, \"#46039f\"], [0.2222222222222222, \"#7201a8\"], [0.3333333333333333, \"#9c179e\"], [0.4444444444444444, \"#bd3786\"], [0.5555555555555556, \"#d8576b\"], [0.6666666666666666, \"#ed7953\"], [0.7777777777777778, \"#fb9f3a\"], [0.8888888888888888, \"#fdca26\"], [1.0, \"#f0f921\"]], \"type\": \"contour\"}], \"contourcarpet\": [{\"colorbar\": {\"outlinewidth\": 0, \"ticks\": \"\"}, \"type\": \"contourcarpet\"}], \"heatmap\": [{\"colorbar\": {\"outlinewidth\": 0, \"ticks\": \"\"}, \"colorscale\": [[0.0, \"#0d0887\"], [0.1111111111111111, \"#46039f\"], [0.2222222222222222, \"#7201a8\"], [0.3333333333333333, \"#9c179e\"], [0.4444444444444444, \"#bd3786\"], [0.5555555555555556, \"#d8576b\"], [0.6666666666666666, \"#ed7953\"], [0.7777777777777778, \"#fb9f3a\"], [0.8888888888888888, \"#fdca26\"], [1.0, \"#f0f921\"]], \"type\": \"heatmap\"}], \"heatmapgl\": [{\"colorbar\": {\"outlinewidth\": 0, \"ticks\": \"\"}, \"colorscale\": [[0.0, \"#0d0887\"], [0.1111111111111111, \"#46039f\"], [0.2222222222222222, \"#7201a8\"], [0.3333333333333333, \"#9c179e\"], [0.4444444444444444, \"#bd3786\"], [0.5555555555555556, \"#d8576b\"], [0.6666666666666666, \"#ed7953\"], [0.7777777777777778, \"#fb9f3a\"], [0.8888888888888888, \"#fdca26\"], [1.0, \"#f0f921\"]], \"type\": \"heatmapgl\"}], \"histogram\": [{\"marker\": {\"colorbar\": {\"outlinewidth\": 0, \"ticks\": \"\"}}, \"type\": \"histogram\"}], \"histogram2d\": [{\"colorbar\": {\"outlinewidth\": 0, \"ticks\": \"\"}, \"colorscale\": [[0.0, \"#0d0887\"], [0.1111111111111111, \"#46039f\"], [0.2222222222222222, \"#7201a8\"], [0.3333333333333333, \"#9c179e\"], [0.4444444444444444, \"#bd3786\"], [0.5555555555555556, \"#d8576b\"], [0.6666666666666666, \"#ed7953\"], [0.7777777777777778, \"#fb9f3a\"], [0.8888888888888888, \"#fdca26\"], [1.0, \"#f0f921\"]], \"type\": \"histogram2d\"}], \"histogram2dcontour\": [{\"colorbar\": {\"outlinewidth\": 0, \"ticks\": \"\"}, \"colorscale\": [[0.0, \"#0d0887\"], [0.1111111111111111, \"#46039f\"], [0.2222222222222222, \"#7201a8\"], [0.3333333333333333, \"#9c179e\"], [0.4444444444444444, \"#bd3786\"], [0.5555555555555556, \"#d8576b\"], [0.6666666666666666, \"#ed7953\"], [0.7777777777777778, \"#fb9f3a\"], [0.8888888888888888, \"#fdca26\"], [1.0, \"#f0f921\"]], \"type\": \"histogram2dcontour\"}], \"mesh3d\": [{\"colorbar\": {\"outlinewidth\": 0, \"ticks\": \"\"}, \"type\": \"mesh3d\"}], \"parcoords\": [{\"line\": {\"colorbar\": {\"outlinewidth\": 0, \"ticks\": \"\"}}, \"type\": \"parcoords\"}], \"pie\": [{\"automargin\": true, \"type\": \"pie\"}], \"scatter\": [{\"marker\": {\"colorbar\": {\"outlinewidth\": 0, \"ticks\": \"\"}}, \"type\": \"scatter\"}], \"scatter3d\": [{\"line\": {\"colorbar\": {\"outlinewidth\": 0, \"ticks\": \"\"}}, \"marker\": {\"colorbar\": {\"outlinewidth\": 0, \"ticks\": \"\"}}, \"type\": \"scatter3d\"}], \"scattercarpet\": [{\"marker\": {\"colorbar\": {\"outlinewidth\": 0, \"ticks\": \"\"}}, \"type\": \"scattercarpet\"}], \"scattergeo\": [{\"marker\": {\"colorbar\": {\"outlinewidth\": 0, \"ticks\": \"\"}}, \"type\": \"scattergeo\"}], \"scattergl\": [{\"marker\": {\"colorbar\": {\"outlinewidth\": 0, \"ticks\": \"\"}}, \"type\": \"scattergl\"}], \"scattermapbox\": [{\"marker\": {\"colorbar\": {\"outlinewidth\": 0, \"ticks\": \"\"}}, \"type\": \"scattermapbox\"}], \"scatterpolar\": [{\"marker\": {\"colorbar\": {\"outlinewidth\": 0, \"ticks\": \"\"}}, \"type\": \"scatterpolar\"}], \"scatterpolargl\": [{\"marker\": {\"colorbar\": {\"outlinewidth\": 0, \"ticks\": \"\"}}, \"type\": \"scatterpolargl\"}], \"scatterternary\": [{\"marker\": {\"colorbar\": {\"outlinewidth\": 0, \"ticks\": \"\"}}, \"type\": \"scatterternary\"}], \"surface\": [{\"colorbar\": {\"outlinewidth\": 0, \"ticks\": \"\"}, \"colorscale\": [[0.0, \"#0d0887\"], [0.1111111111111111, \"#46039f\"], [0.2222222222222222, \"#7201a8\"], [0.3333333333333333, \"#9c179e\"], [0.4444444444444444, \"#bd3786\"], [0.5555555555555556, \"#d8576b\"], [0.6666666666666666, \"#ed7953\"], [0.7777777777777778, \"#fb9f3a\"], [0.8888888888888888, \"#fdca26\"], [1.0, \"#f0f921\"]], \"type\": \"surface\"}], \"table\": [{\"cells\": {\"fill\": {\"color\": \"#EBF0F8\"}, \"line\": {\"color\": \"white\"}}, \"header\": {\"fill\": {\"color\": \"#C8D4E3\"}, \"line\": {\"color\": \"white\"}}, \"type\": \"table\"}]}, \"layout\": {\"annotationdefaults\": {\"arrowcolor\": \"#2a3f5f\", \"arrowhead\": 0, \"arrowwidth\": 1}, \"coloraxis\": {\"colorbar\": {\"outlinewidth\": 0, \"ticks\": \"\"}}, \"colorscale\": {\"diverging\": [[0, \"#8e0152\"], [0.1, \"#c51b7d\"], [0.2, \"#de77ae\"], [0.3, \"#f1b6da\"], [0.4, \"#fde0ef\"], [0.5, \"#f7f7f7\"], [0.6, \"#e6f5d0\"], [0.7, \"#b8e186\"], [0.8, \"#7fbc41\"], [0.9, \"#4d9221\"], [1, \"#276419\"]], \"sequential\": [[0.0, \"#0d0887\"], [0.1111111111111111, \"#46039f\"], [0.2222222222222222, \"#7201a8\"], [0.3333333333333333, \"#9c179e\"], [0.4444444444444444, \"#bd3786\"], [0.5555555555555556, \"#d8576b\"], [0.6666666666666666, \"#ed7953\"], [0.7777777777777778, \"#fb9f3a\"], [0.8888888888888888, \"#fdca26\"], [1.0, \"#f0f921\"]], \"sequentialminus\": [[0.0, \"#0d0887\"], [0.1111111111111111, \"#46039f\"], [0.2222222222222222, \"#7201a8\"], [0.3333333333333333, \"#9c179e\"], [0.4444444444444444, \"#bd3786\"], [0.5555555555555556, \"#d8576b\"], [0.6666666666666666, \"#ed7953\"], [0.7777777777777778, \"#fb9f3a\"], [0.8888888888888888, \"#fdca26\"], [1.0, \"#f0f921\"]]}, \"colorway\": [\"#636efa\", \"#EF553B\", \"#00cc96\", \"#ab63fa\", \"#FFA15A\", \"#19d3f3\", \"#FF6692\", \"#B6E880\", \"#FF97FF\", \"#FECB52\"], \"font\": {\"color\": \"#2a3f5f\"}, \"geo\": {\"bgcolor\": \"white\", \"lakecolor\": \"white\", \"landcolor\": \"#E5ECF6\", \"showlakes\": true, \"showland\": true, \"subunitcolor\": \"white\"}, \"hoverlabel\": {\"align\": \"left\"}, \"hovermode\": \"closest\", \"mapbox\": {\"style\": \"light\"}, \"paper_bgcolor\": \"white\", \"plot_bgcolor\": \"#E5ECF6\", \"polar\": {\"angularaxis\": {\"gridcolor\": \"white\", \"linecolor\": \"white\", \"ticks\": \"\"}, \"bgcolor\": \"#E5ECF6\", \"radialaxis\": {\"gridcolor\": \"white\", \"linecolor\": \"white\", \"ticks\": \"\"}}, \"scene\": {\"xaxis\": {\"backgroundcolor\": \"#E5ECF6\", \"gridcolor\": \"white\", \"gridwidth\": 2, \"linecolor\": \"white\", \"showbackground\": true, \"ticks\": \"\", \"zerolinecolor\": \"white\"}, \"yaxis\": {\"backgroundcolor\": \"#E5ECF6\", \"gridcolor\": \"white\", \"gridwidth\": 2, \"linecolor\": \"white\", \"showbackground\": true, \"ticks\": \"\", \"zerolinecolor\": \"white\"}, \"zaxis\": {\"backgroundcolor\": \"#E5ECF6\", \"gridcolor\": \"white\", \"gridwidth\": 2, \"linecolor\": \"white\", \"showbackground\": true, \"ticks\": \"\", \"zerolinecolor\": \"white\"}}, \"shapedefaults\": {\"line\": {\"color\": \"#2a3f5f\"}}, \"ternary\": {\"aaxis\": {\"gridcolor\": \"white\", \"linecolor\": \"white\", \"ticks\": \"\"}, \"baxis\": {\"gridcolor\": \"white\", \"linecolor\": \"white\", \"ticks\": \"\"}, \"bgcolor\": \"#E5ECF6\", \"caxis\": {\"gridcolor\": \"white\", \"linecolor\": \"white\", \"ticks\": \"\"}}, \"title\": {\"x\": 0.05}, \"xaxis\": {\"automargin\": true, \"gridcolor\": \"white\", \"linecolor\": \"white\", \"ticks\": \"\", \"title\": {\"standoff\": 15}, \"zerolinecolor\": \"white\", \"zerolinewidth\": 2}, \"yaxis\": {\"automargin\": true, \"gridcolor\": \"white\", \"linecolor\": \"white\", \"ticks\": \"\", \"title\": {\"standoff\": 15}, \"zerolinecolor\": \"white\", \"zerolinewidth\": 2}}}, \"title\": {\"text\": \"Measured Tide Readings for Comox Harbour\"}, \"xaxis\": {\"anchor\": \"y\", \"domain\": [0.0, 1.0], \"title\": {\"text\": \"Time (Hours)\"}}, \"yaxis\": {\"anchor\": \"x\", \"domain\": [0.0, 1.0], \"title\": {\"text\": \"Tide Level (Meters Above Sea Level)\"}}},\n",
       "                        {\"responsive\": true}\n",
       "                    ).then(function(){\n",
       "                            \n",
       "var gd = document.getElementById('4ab06d7c-8ad7-4cc0-ad25-b3fe3b6ade8c');\n",
       "var x = new MutationObserver(function (mutations, observer) {{\n",
       "        var display = window.getComputedStyle(gd).display;\n",
       "        if (!display || display === 'none') {{\n",
       "            console.log([gd, 'removed!']);\n",
       "            Plotly.purge(gd);\n",
       "            observer.disconnect();\n",
       "        }}\n",
       "}});\n",
       "\n",
       "// Listen for the removal of the full notebook cells\n",
       "var notebookContainer = gd.closest('#notebook-container');\n",
       "if (notebookContainer) {{\n",
       "    x.observe(notebookContainer, {childList: true});\n",
       "}}\n",
       "\n",
       "// Listen for the clearing of the current output cell\n",
       "var outputEl = gd.closest('.output');\n",
       "if (outputEl) {{\n",
       "    x.observe(outputEl, {childList: true});\n",
       "}}\n",
       "\n",
       "                        })\n",
       "                };\n",
       "                });\n",
       "            </script>\n",
       "        </div>"
      ]
     },
     "metadata": {},
     "output_type": "display_data"
    },
    {
     "name": "stdout",
     "output_type": "stream",
     "text": [
      "The lowest tide reaches 1.7 meters on day 0 at 20 hours\n",
      "The highest tide reaches 4.7 meters on day 0 at 2 hours\n"
     ]
    }
   ],
   "source": [
    "create_tide_plot(\"day\",1)"
   ]
  },
  {
   "cell_type": "markdown",
   "metadata": {},
   "source": [
    "How does the tide behave during the week?"
   ]
  },
  {
   "cell_type": "code",
   "execution_count": 57,
   "metadata": {},
   "outputs": [
    {
     "data": {
      "application/vnd.plotly.v1+json": {
       "config": {
        "plotlyServerURL": "https://plot.ly"
       },
       "data": [
        {
         "hovertemplate": "%{text}<br>%{y:}m above sea-level",
         "legendgroup": "",
         "line": {
          "color": "#636efa",
          "dash": "solid",
          "shape": "spline"
         },
         "mode": "lines",
         "name": "",
         "orientation": "v",
         "showlegend": false,
         "text": [
          "<b>Day</b>: 0<br><b>Hour</b>: 0",
          "<b>Day</b>: 0<br><b>Hour</b>: 1",
          "<b>Day</b>: 0<br><b>Hour</b>: 2",
          "<b>Day</b>: 0<br><b>Hour</b>: 3",
          "<b>Day</b>: 0<br><b>Hour</b>: 4",
          "<b>Day</b>: 0<br><b>Hour</b>: 5",
          "<b>Day</b>: 0<br><b>Hour</b>: 6",
          "<b>Day</b>: 0<br><b>Hour</b>: 7",
          "<b>Day</b>: 0<br><b>Hour</b>: 8",
          "<b>Day</b>: 0<br><b>Hour</b>: 9",
          "<b>Day</b>: 0<br><b>Hour</b>: 10",
          "<b>Day</b>: 0<br><b>Hour</b>: 11",
          "<b>Day</b>: 0<br><b>Hour</b>: 12",
          "<b>Day</b>: 0<br><b>Hour</b>: 13",
          "<b>Day</b>: 0<br><b>Hour</b>: 14",
          "<b>Day</b>: 0<br><b>Hour</b>: 15",
          "<b>Day</b>: 0<br><b>Hour</b>: 16",
          "<b>Day</b>: 0<br><b>Hour</b>: 17",
          "<b>Day</b>: 0<br><b>Hour</b>: 18",
          "<b>Day</b>: 0<br><b>Hour</b>: 19",
          "<b>Day</b>: 0<br><b>Hour</b>: 20",
          "<b>Day</b>: 0<br><b>Hour</b>: 21",
          "<b>Day</b>: 0<br><b>Hour</b>: 22",
          "<b>Day</b>: 0<br><b>Hour</b>: 23",
          "<b>Day</b>: 1<br><b>Hour</b>: 0",
          "<b>Day</b>: 1<br><b>Hour</b>: 1",
          "<b>Day</b>: 1<br><b>Hour</b>: 2",
          "<b>Day</b>: 1<br><b>Hour</b>: 3",
          "<b>Day</b>: 1<br><b>Hour</b>: 4",
          "<b>Day</b>: 1<br><b>Hour</b>: 5",
          "<b>Day</b>: 1<br><b>Hour</b>: 6",
          "<b>Day</b>: 1<br><b>Hour</b>: 7",
          "<b>Day</b>: 1<br><b>Hour</b>: 8",
          "<b>Day</b>: 1<br><b>Hour</b>: 9",
          "<b>Day</b>: 1<br><b>Hour</b>: 10",
          "<b>Day</b>: 1<br><b>Hour</b>: 11",
          "<b>Day</b>: 1<br><b>Hour</b>: 12",
          "<b>Day</b>: 1<br><b>Hour</b>: 13",
          "<b>Day</b>: 1<br><b>Hour</b>: 14",
          "<b>Day</b>: 1<br><b>Hour</b>: 15",
          "<b>Day</b>: 1<br><b>Hour</b>: 16",
          "<b>Day</b>: 1<br><b>Hour</b>: 17",
          "<b>Day</b>: 1<br><b>Hour</b>: 18",
          "<b>Day</b>: 1<br><b>Hour</b>: 19",
          "<b>Day</b>: 1<br><b>Hour</b>: 20",
          "<b>Day</b>: 1<br><b>Hour</b>: 21",
          "<b>Day</b>: 1<br><b>Hour</b>: 22",
          "<b>Day</b>: 1<br><b>Hour</b>: 23",
          "<b>Day</b>: 2<br><b>Hour</b>: 0",
          "<b>Day</b>: 2<br><b>Hour</b>: 1",
          "<b>Day</b>: 2<br><b>Hour</b>: 2",
          "<b>Day</b>: 2<br><b>Hour</b>: 3",
          "<b>Day</b>: 2<br><b>Hour</b>: 4",
          "<b>Day</b>: 2<br><b>Hour</b>: 5",
          "<b>Day</b>: 2<br><b>Hour</b>: 6",
          "<b>Day</b>: 2<br><b>Hour</b>: 7",
          "<b>Day</b>: 2<br><b>Hour</b>: 8",
          "<b>Day</b>: 2<br><b>Hour</b>: 9",
          "<b>Day</b>: 2<br><b>Hour</b>: 10",
          "<b>Day</b>: 2<br><b>Hour</b>: 11",
          "<b>Day</b>: 2<br><b>Hour</b>: 12",
          "<b>Day</b>: 2<br><b>Hour</b>: 13",
          "<b>Day</b>: 2<br><b>Hour</b>: 14",
          "<b>Day</b>: 2<br><b>Hour</b>: 15",
          "<b>Day</b>: 2<br><b>Hour</b>: 16",
          "<b>Day</b>: 2<br><b>Hour</b>: 17",
          "<b>Day</b>: 2<br><b>Hour</b>: 18",
          "<b>Day</b>: 2<br><b>Hour</b>: 19",
          "<b>Day</b>: 2<br><b>Hour</b>: 20",
          "<b>Day</b>: 2<br><b>Hour</b>: 21",
          "<b>Day</b>: 2<br><b>Hour</b>: 22",
          "<b>Day</b>: 2<br><b>Hour</b>: 23",
          "<b>Day</b>: 3<br><b>Hour</b>: 0",
          "<b>Day</b>: 3<br><b>Hour</b>: 1",
          "<b>Day</b>: 3<br><b>Hour</b>: 2",
          "<b>Day</b>: 3<br><b>Hour</b>: 3",
          "<b>Day</b>: 3<br><b>Hour</b>: 4",
          "<b>Day</b>: 3<br><b>Hour</b>: 5",
          "<b>Day</b>: 3<br><b>Hour</b>: 6",
          "<b>Day</b>: 3<br><b>Hour</b>: 7",
          "<b>Day</b>: 3<br><b>Hour</b>: 8",
          "<b>Day</b>: 3<br><b>Hour</b>: 9",
          "<b>Day</b>: 3<br><b>Hour</b>: 10",
          "<b>Day</b>: 3<br><b>Hour</b>: 11",
          "<b>Day</b>: 3<br><b>Hour</b>: 12",
          "<b>Day</b>: 3<br><b>Hour</b>: 13",
          "<b>Day</b>: 3<br><b>Hour</b>: 14",
          "<b>Day</b>: 3<br><b>Hour</b>: 15",
          "<b>Day</b>: 3<br><b>Hour</b>: 16",
          "<b>Day</b>: 3<br><b>Hour</b>: 17",
          "<b>Day</b>: 3<br><b>Hour</b>: 18",
          "<b>Day</b>: 3<br><b>Hour</b>: 19",
          "<b>Day</b>: 3<br><b>Hour</b>: 20",
          "<b>Day</b>: 3<br><b>Hour</b>: 21",
          "<b>Day</b>: 3<br><b>Hour</b>: 22",
          "<b>Day</b>: 3<br><b>Hour</b>: 23",
          "<b>Day</b>: 4<br><b>Hour</b>: 0",
          "<b>Day</b>: 4<br><b>Hour</b>: 1",
          "<b>Day</b>: 4<br><b>Hour</b>: 2",
          "<b>Day</b>: 4<br><b>Hour</b>: 3",
          "<b>Day</b>: 4<br><b>Hour</b>: 4",
          "<b>Day</b>: 4<br><b>Hour</b>: 5",
          "<b>Day</b>: 4<br><b>Hour</b>: 6",
          "<b>Day</b>: 4<br><b>Hour</b>: 7",
          "<b>Day</b>: 4<br><b>Hour</b>: 8",
          "<b>Day</b>: 4<br><b>Hour</b>: 9",
          "<b>Day</b>: 4<br><b>Hour</b>: 10",
          "<b>Day</b>: 4<br><b>Hour</b>: 11",
          "<b>Day</b>: 4<br><b>Hour</b>: 12",
          "<b>Day</b>: 4<br><b>Hour</b>: 13",
          "<b>Day</b>: 4<br><b>Hour</b>: 14",
          "<b>Day</b>: 4<br><b>Hour</b>: 15",
          "<b>Day</b>: 4<br><b>Hour</b>: 16",
          "<b>Day</b>: 4<br><b>Hour</b>: 17",
          "<b>Day</b>: 4<br><b>Hour</b>: 18",
          "<b>Day</b>: 4<br><b>Hour</b>: 19",
          "<b>Day</b>: 4<br><b>Hour</b>: 20",
          "<b>Day</b>: 4<br><b>Hour</b>: 21",
          "<b>Day</b>: 4<br><b>Hour</b>: 22",
          "<b>Day</b>: 4<br><b>Hour</b>: 23",
          "<b>Day</b>: 5<br><b>Hour</b>: 0",
          "<b>Day</b>: 5<br><b>Hour</b>: 1",
          "<b>Day</b>: 5<br><b>Hour</b>: 2",
          "<b>Day</b>: 5<br><b>Hour</b>: 3",
          "<b>Day</b>: 5<br><b>Hour</b>: 4",
          "<b>Day</b>: 5<br><b>Hour</b>: 5",
          "<b>Day</b>: 5<br><b>Hour</b>: 6",
          "<b>Day</b>: 5<br><b>Hour</b>: 7",
          "<b>Day</b>: 5<br><b>Hour</b>: 8",
          "<b>Day</b>: 5<br><b>Hour</b>: 9",
          "<b>Day</b>: 5<br><b>Hour</b>: 10",
          "<b>Day</b>: 5<br><b>Hour</b>: 11",
          "<b>Day</b>: 5<br><b>Hour</b>: 12",
          "<b>Day</b>: 5<br><b>Hour</b>: 13",
          "<b>Day</b>: 5<br><b>Hour</b>: 14",
          "<b>Day</b>: 5<br><b>Hour</b>: 15",
          "<b>Day</b>: 5<br><b>Hour</b>: 16",
          "<b>Day</b>: 5<br><b>Hour</b>: 17",
          "<b>Day</b>: 5<br><b>Hour</b>: 18",
          "<b>Day</b>: 5<br><b>Hour</b>: 19",
          "<b>Day</b>: 5<br><b>Hour</b>: 20",
          "<b>Day</b>: 5<br><b>Hour</b>: 21",
          "<b>Day</b>: 5<br><b>Hour</b>: 22",
          "<b>Day</b>: 5<br><b>Hour</b>: 23",
          "<b>Day</b>: 6<br><b>Hour</b>: 0",
          "<b>Day</b>: 6<br><b>Hour</b>: 1",
          "<b>Day</b>: 6<br><b>Hour</b>: 2",
          "<b>Day</b>: 6<br><b>Hour</b>: 3",
          "<b>Day</b>: 6<br><b>Hour</b>: 4",
          "<b>Day</b>: 6<br><b>Hour</b>: 5",
          "<b>Day</b>: 6<br><b>Hour</b>: 6",
          "<b>Day</b>: 6<br><b>Hour</b>: 7",
          "<b>Day</b>: 6<br><b>Hour</b>: 8",
          "<b>Day</b>: 6<br><b>Hour</b>: 9",
          "<b>Day</b>: 6<br><b>Hour</b>: 10",
          "<b>Day</b>: 6<br><b>Hour</b>: 11",
          "<b>Day</b>: 6<br><b>Hour</b>: 12",
          "<b>Day</b>: 6<br><b>Hour</b>: 13",
          "<b>Day</b>: 6<br><b>Hour</b>: 14",
          "<b>Day</b>: 6<br><b>Hour</b>: 15",
          "<b>Day</b>: 6<br><b>Hour</b>: 16",
          "<b>Day</b>: 6<br><b>Hour</b>: 17",
          "<b>Day</b>: 6<br><b>Hour</b>: 18",
          "<b>Day</b>: 6<br><b>Hour</b>: 19",
          "<b>Day</b>: 6<br><b>Hour</b>: 20",
          "<b>Day</b>: 6<br><b>Hour</b>: 21",
          "<b>Day</b>: 6<br><b>Hour</b>: 22",
          "<b>Day</b>: 6<br><b>Hour</b>: 23"
         ],
         "type": "scatter",
         "x": [
          0,
          1,
          2,
          3,
          4,
          5,
          6,
          7,
          8,
          9,
          10,
          11,
          12,
          13,
          14,
          15,
          16,
          17,
          18,
          19,
          20,
          21,
          22,
          23,
          24,
          25,
          26,
          27,
          28,
          29,
          30,
          31,
          32,
          33,
          34,
          35,
          36,
          37,
          38,
          39,
          40,
          41,
          42,
          43,
          44,
          45,
          46,
          47,
          48,
          49,
          50,
          51,
          52,
          53,
          54,
          55,
          56,
          57,
          58,
          59,
          60,
          61,
          62,
          63,
          64,
          65,
          66,
          67,
          68,
          69,
          70,
          71,
          72,
          73,
          74,
          75,
          76,
          77,
          78,
          79,
          80,
          81,
          82,
          83,
          84,
          85,
          86,
          87,
          88,
          89,
          90,
          91,
          92,
          93,
          94,
          95,
          96,
          97,
          98,
          99,
          100,
          101,
          102,
          103,
          104,
          105,
          106,
          107,
          108,
          109,
          110,
          111,
          112,
          113,
          114,
          115,
          116,
          117,
          118,
          119,
          120,
          121,
          122,
          123,
          124,
          125,
          126,
          127,
          128,
          129,
          130,
          131,
          132,
          133,
          134,
          135,
          136,
          137,
          138,
          139,
          140,
          141,
          142,
          143,
          144,
          145,
          146,
          147,
          148,
          149,
          150,
          151,
          152,
          153,
          154,
          155,
          156,
          157,
          158,
          159,
          160,
          161,
          162,
          163,
          164,
          165,
          166,
          167
         ],
         "xaxis": "x",
         "y": [
          4.3,
          4.6,
          4.7,
          4.5,
          4.3,
          3.9,
          3.6,
          3.4,
          3.3,
          3.4,
          3.5,
          3.6,
          3.6,
          3.5,
          3.2,
          2.9,
          2.4,
          2,
          1.7,
          1.5,
          1.7,
          2.1,
          2.6,
          3.3,
          3.9,
          4.4,
          4.7,
          4.7,
          4.5,
          4.2,
          3.7,
          3.3,
          3.1,
          3,
          3.1,
          3.2,
          3.5,
          3.6,
          3.6,
          3.4,
          3.1,
          2.6,
          2.2,
          1.8,
          1.7,
          1.8,
          2.2,
          2.8,
          3.4,
          4.1,
          4.6,
          4.8,
          4.7,
          4.4,
          3.9,
          3.4,
          2.9,
          2.6,
          2.6,
          2.7,
          3.1,
          3.4,
          3.7,
          3.8,
          3.7,
          3.3,
          2.9,
          2.4,
          2,
          1.8,
          1.9,
          2.3,
          3,
          3.7,
          4.3,
          4.7,
          4.8,
          4.6,
          4.2,
          3.6,
          3,
          2.4,
          2.1,
          2.1,
          2.4,
          2.9,
          3.4,
          3.9,
          4.1,
          4,
          3.6,
          3.2,
          2.7,
          2.2,
          2,
          2.2,
          2.6,
          3.2,
          3.9,
          4.5,
          4.9,
          4.8,
          4.5,
          3.9,
          3.2,
          2.4,
          1.9,
          1.6,
          1.7,
          2.2,
          2.8,
          3.5,
          4.1,
          4.3,
          4.2,
          3.9,
          3.4,
          2.9,
          2.5,
          2.3,
          2.5,
          2.9,
          3.6,
          4.2,
          4.7,
          4.9,
          4.7,
          4.2,
          3.5,
          2.7,
          1.9,
          1.3,
          1.1,
          1.4,
          2,
          2.8,
          3.7,
          4.3,
          4.6,
          4.5,
          4.2,
          3.7,
          3.2,
          2.7,
          2.6,
          2.8,
          3.3,
          3.9,
          4.5,
          4.9,
          4.9,
          4.5,
          3.9,
          3,
          2.1,
          1.3,
          0.8,
          0.8,
          1.2,
          2,
          2.9,
          3.9,
          4.5,
          4.8,
          4.7,
          4.4,
          3.9,
          3.4
         ],
         "yaxis": "y"
        }
       ],
       "layout": {
        "legend": {
         "tracegroupgap": 0
        },
        "margin": {
         "t": 60
        },
        "template": {
         "data": {
          "bar": [
           {
            "error_x": {
             "color": "#2a3f5f"
            },
            "error_y": {
             "color": "#2a3f5f"
            },
            "marker": {
             "line": {
              "color": "#E5ECF6",
              "width": 0.5
             }
            },
            "type": "bar"
           }
          ],
          "barpolar": [
           {
            "marker": {
             "line": {
              "color": "#E5ECF6",
              "width": 0.5
             }
            },
            "type": "barpolar"
           }
          ],
          "carpet": [
           {
            "aaxis": {
             "endlinecolor": "#2a3f5f",
             "gridcolor": "white",
             "linecolor": "white",
             "minorgridcolor": "white",
             "startlinecolor": "#2a3f5f"
            },
            "baxis": {
             "endlinecolor": "#2a3f5f",
             "gridcolor": "white",
             "linecolor": "white",
             "minorgridcolor": "white",
             "startlinecolor": "#2a3f5f"
            },
            "type": "carpet"
           }
          ],
          "choropleth": [
           {
            "colorbar": {
             "outlinewidth": 0,
             "ticks": ""
            },
            "type": "choropleth"
           }
          ],
          "contour": [
           {
            "colorbar": {
             "outlinewidth": 0,
             "ticks": ""
            },
            "colorscale": [
             [
              0,
              "#0d0887"
             ],
             [
              0.1111111111111111,
              "#46039f"
             ],
             [
              0.2222222222222222,
              "#7201a8"
             ],
             [
              0.3333333333333333,
              "#9c179e"
             ],
             [
              0.4444444444444444,
              "#bd3786"
             ],
             [
              0.5555555555555556,
              "#d8576b"
             ],
             [
              0.6666666666666666,
              "#ed7953"
             ],
             [
              0.7777777777777778,
              "#fb9f3a"
             ],
             [
              0.8888888888888888,
              "#fdca26"
             ],
             [
              1,
              "#f0f921"
             ]
            ],
            "type": "contour"
           }
          ],
          "contourcarpet": [
           {
            "colorbar": {
             "outlinewidth": 0,
             "ticks": ""
            },
            "type": "contourcarpet"
           }
          ],
          "heatmap": [
           {
            "colorbar": {
             "outlinewidth": 0,
             "ticks": ""
            },
            "colorscale": [
             [
              0,
              "#0d0887"
             ],
             [
              0.1111111111111111,
              "#46039f"
             ],
             [
              0.2222222222222222,
              "#7201a8"
             ],
             [
              0.3333333333333333,
              "#9c179e"
             ],
             [
              0.4444444444444444,
              "#bd3786"
             ],
             [
              0.5555555555555556,
              "#d8576b"
             ],
             [
              0.6666666666666666,
              "#ed7953"
             ],
             [
              0.7777777777777778,
              "#fb9f3a"
             ],
             [
              0.8888888888888888,
              "#fdca26"
             ],
             [
              1,
              "#f0f921"
             ]
            ],
            "type": "heatmap"
           }
          ],
          "heatmapgl": [
           {
            "colorbar": {
             "outlinewidth": 0,
             "ticks": ""
            },
            "colorscale": [
             [
              0,
              "#0d0887"
             ],
             [
              0.1111111111111111,
              "#46039f"
             ],
             [
              0.2222222222222222,
              "#7201a8"
             ],
             [
              0.3333333333333333,
              "#9c179e"
             ],
             [
              0.4444444444444444,
              "#bd3786"
             ],
             [
              0.5555555555555556,
              "#d8576b"
             ],
             [
              0.6666666666666666,
              "#ed7953"
             ],
             [
              0.7777777777777778,
              "#fb9f3a"
             ],
             [
              0.8888888888888888,
              "#fdca26"
             ],
             [
              1,
              "#f0f921"
             ]
            ],
            "type": "heatmapgl"
           }
          ],
          "histogram": [
           {
            "marker": {
             "colorbar": {
              "outlinewidth": 0,
              "ticks": ""
             }
            },
            "type": "histogram"
           }
          ],
          "histogram2d": [
           {
            "colorbar": {
             "outlinewidth": 0,
             "ticks": ""
            },
            "colorscale": [
             [
              0,
              "#0d0887"
             ],
             [
              0.1111111111111111,
              "#46039f"
             ],
             [
              0.2222222222222222,
              "#7201a8"
             ],
             [
              0.3333333333333333,
              "#9c179e"
             ],
             [
              0.4444444444444444,
              "#bd3786"
             ],
             [
              0.5555555555555556,
              "#d8576b"
             ],
             [
              0.6666666666666666,
              "#ed7953"
             ],
             [
              0.7777777777777778,
              "#fb9f3a"
             ],
             [
              0.8888888888888888,
              "#fdca26"
             ],
             [
              1,
              "#f0f921"
             ]
            ],
            "type": "histogram2d"
           }
          ],
          "histogram2dcontour": [
           {
            "colorbar": {
             "outlinewidth": 0,
             "ticks": ""
            },
            "colorscale": [
             [
              0,
              "#0d0887"
             ],
             [
              0.1111111111111111,
              "#46039f"
             ],
             [
              0.2222222222222222,
              "#7201a8"
             ],
             [
              0.3333333333333333,
              "#9c179e"
             ],
             [
              0.4444444444444444,
              "#bd3786"
             ],
             [
              0.5555555555555556,
              "#d8576b"
             ],
             [
              0.6666666666666666,
              "#ed7953"
             ],
             [
              0.7777777777777778,
              "#fb9f3a"
             ],
             [
              0.8888888888888888,
              "#fdca26"
             ],
             [
              1,
              "#f0f921"
             ]
            ],
            "type": "histogram2dcontour"
           }
          ],
          "mesh3d": [
           {
            "colorbar": {
             "outlinewidth": 0,
             "ticks": ""
            },
            "type": "mesh3d"
           }
          ],
          "parcoords": [
           {
            "line": {
             "colorbar": {
              "outlinewidth": 0,
              "ticks": ""
             }
            },
            "type": "parcoords"
           }
          ],
          "pie": [
           {
            "automargin": true,
            "type": "pie"
           }
          ],
          "scatter": [
           {
            "marker": {
             "colorbar": {
              "outlinewidth": 0,
              "ticks": ""
             }
            },
            "type": "scatter"
           }
          ],
          "scatter3d": [
           {
            "line": {
             "colorbar": {
              "outlinewidth": 0,
              "ticks": ""
             }
            },
            "marker": {
             "colorbar": {
              "outlinewidth": 0,
              "ticks": ""
             }
            },
            "type": "scatter3d"
           }
          ],
          "scattercarpet": [
           {
            "marker": {
             "colorbar": {
              "outlinewidth": 0,
              "ticks": ""
             }
            },
            "type": "scattercarpet"
           }
          ],
          "scattergeo": [
           {
            "marker": {
             "colorbar": {
              "outlinewidth": 0,
              "ticks": ""
             }
            },
            "type": "scattergeo"
           }
          ],
          "scattergl": [
           {
            "marker": {
             "colorbar": {
              "outlinewidth": 0,
              "ticks": ""
             }
            },
            "type": "scattergl"
           }
          ],
          "scattermapbox": [
           {
            "marker": {
             "colorbar": {
              "outlinewidth": 0,
              "ticks": ""
             }
            },
            "type": "scattermapbox"
           }
          ],
          "scatterpolar": [
           {
            "marker": {
             "colorbar": {
              "outlinewidth": 0,
              "ticks": ""
             }
            },
            "type": "scatterpolar"
           }
          ],
          "scatterpolargl": [
           {
            "marker": {
             "colorbar": {
              "outlinewidth": 0,
              "ticks": ""
             }
            },
            "type": "scatterpolargl"
           }
          ],
          "scatterternary": [
           {
            "marker": {
             "colorbar": {
              "outlinewidth": 0,
              "ticks": ""
             }
            },
            "type": "scatterternary"
           }
          ],
          "surface": [
           {
            "colorbar": {
             "outlinewidth": 0,
             "ticks": ""
            },
            "colorscale": [
             [
              0,
              "#0d0887"
             ],
             [
              0.1111111111111111,
              "#46039f"
             ],
             [
              0.2222222222222222,
              "#7201a8"
             ],
             [
              0.3333333333333333,
              "#9c179e"
             ],
             [
              0.4444444444444444,
              "#bd3786"
             ],
             [
              0.5555555555555556,
              "#d8576b"
             ],
             [
              0.6666666666666666,
              "#ed7953"
             ],
             [
              0.7777777777777778,
              "#fb9f3a"
             ],
             [
              0.8888888888888888,
              "#fdca26"
             ],
             [
              1,
              "#f0f921"
             ]
            ],
            "type": "surface"
           }
          ],
          "table": [
           {
            "cells": {
             "fill": {
              "color": "#EBF0F8"
             },
             "line": {
              "color": "white"
             }
            },
            "header": {
             "fill": {
              "color": "#C8D4E3"
             },
             "line": {
              "color": "white"
             }
            },
            "type": "table"
           }
          ]
         },
         "layout": {
          "annotationdefaults": {
           "arrowcolor": "#2a3f5f",
           "arrowhead": 0,
           "arrowwidth": 1
          },
          "coloraxis": {
           "colorbar": {
            "outlinewidth": 0,
            "ticks": ""
           }
          },
          "colorscale": {
           "diverging": [
            [
             0,
             "#8e0152"
            ],
            [
             0.1,
             "#c51b7d"
            ],
            [
             0.2,
             "#de77ae"
            ],
            [
             0.3,
             "#f1b6da"
            ],
            [
             0.4,
             "#fde0ef"
            ],
            [
             0.5,
             "#f7f7f7"
            ],
            [
             0.6,
             "#e6f5d0"
            ],
            [
             0.7,
             "#b8e186"
            ],
            [
             0.8,
             "#7fbc41"
            ],
            [
             0.9,
             "#4d9221"
            ],
            [
             1,
             "#276419"
            ]
           ],
           "sequential": [
            [
             0,
             "#0d0887"
            ],
            [
             0.1111111111111111,
             "#46039f"
            ],
            [
             0.2222222222222222,
             "#7201a8"
            ],
            [
             0.3333333333333333,
             "#9c179e"
            ],
            [
             0.4444444444444444,
             "#bd3786"
            ],
            [
             0.5555555555555556,
             "#d8576b"
            ],
            [
             0.6666666666666666,
             "#ed7953"
            ],
            [
             0.7777777777777778,
             "#fb9f3a"
            ],
            [
             0.8888888888888888,
             "#fdca26"
            ],
            [
             1,
             "#f0f921"
            ]
           ],
           "sequentialminus": [
            [
             0,
             "#0d0887"
            ],
            [
             0.1111111111111111,
             "#46039f"
            ],
            [
             0.2222222222222222,
             "#7201a8"
            ],
            [
             0.3333333333333333,
             "#9c179e"
            ],
            [
             0.4444444444444444,
             "#bd3786"
            ],
            [
             0.5555555555555556,
             "#d8576b"
            ],
            [
             0.6666666666666666,
             "#ed7953"
            ],
            [
             0.7777777777777778,
             "#fb9f3a"
            ],
            [
             0.8888888888888888,
             "#fdca26"
            ],
            [
             1,
             "#f0f921"
            ]
           ]
          },
          "colorway": [
           "#636efa",
           "#EF553B",
           "#00cc96",
           "#ab63fa",
           "#FFA15A",
           "#19d3f3",
           "#FF6692",
           "#B6E880",
           "#FF97FF",
           "#FECB52"
          ],
          "font": {
           "color": "#2a3f5f"
          },
          "geo": {
           "bgcolor": "white",
           "lakecolor": "white",
           "landcolor": "#E5ECF6",
           "showlakes": true,
           "showland": true,
           "subunitcolor": "white"
          },
          "hoverlabel": {
           "align": "left"
          },
          "hovermode": "closest",
          "mapbox": {
           "style": "light"
          },
          "paper_bgcolor": "white",
          "plot_bgcolor": "#E5ECF6",
          "polar": {
           "angularaxis": {
            "gridcolor": "white",
            "linecolor": "white",
            "ticks": ""
           },
           "bgcolor": "#E5ECF6",
           "radialaxis": {
            "gridcolor": "white",
            "linecolor": "white",
            "ticks": ""
           }
          },
          "scene": {
           "xaxis": {
            "backgroundcolor": "#E5ECF6",
            "gridcolor": "white",
            "gridwidth": 2,
            "linecolor": "white",
            "showbackground": true,
            "ticks": "",
            "zerolinecolor": "white"
           },
           "yaxis": {
            "backgroundcolor": "#E5ECF6",
            "gridcolor": "white",
            "gridwidth": 2,
            "linecolor": "white",
            "showbackground": true,
            "ticks": "",
            "zerolinecolor": "white"
           },
           "zaxis": {
            "backgroundcolor": "#E5ECF6",
            "gridcolor": "white",
            "gridwidth": 2,
            "linecolor": "white",
            "showbackground": true,
            "ticks": "",
            "zerolinecolor": "white"
           }
          },
          "shapedefaults": {
           "line": {
            "color": "#2a3f5f"
           }
          },
          "ternary": {
           "aaxis": {
            "gridcolor": "white",
            "linecolor": "white",
            "ticks": ""
           },
           "baxis": {
            "gridcolor": "white",
            "linecolor": "white",
            "ticks": ""
           },
           "bgcolor": "#E5ECF6",
           "caxis": {
            "gridcolor": "white",
            "linecolor": "white",
            "ticks": ""
           }
          },
          "title": {
           "x": 0.05
          },
          "xaxis": {
           "automargin": true,
           "gridcolor": "white",
           "linecolor": "white",
           "ticks": "",
           "title": {
            "standoff": 15
           },
           "zerolinecolor": "white",
           "zerolinewidth": 2
          },
          "yaxis": {
           "automargin": true,
           "gridcolor": "white",
           "linecolor": "white",
           "ticks": "",
           "title": {
            "standoff": 15
           },
           "zerolinecolor": "white",
           "zerolinewidth": 2
          }
         }
        },
        "title": {
         "text": "Measured Tide Readings for Comox Harbour"
        },
        "xaxis": {
         "anchor": "y",
         "domain": [
          0,
          1
         ],
         "ticktext": [
          0,
          1,
          2,
          3,
          4,
          5,
          6
         ],
         "tickvals": [
          0,
          24,
          48,
          72,
          96,
          120,
          144
         ],
         "title": {
          "text": "Time (Days Since Start)"
         }
        },
        "yaxis": {
         "anchor": "x",
         "domain": [
          0,
          1
         ],
         "title": {
          "text": "Tide Level (Meters Above Sea Level)"
         }
        }
       }
      },
      "text/html": [
       "<div>\n",
       "        \n",
       "        \n",
       "            <div id=\"9b52a4c1-cf23-46c2-a890-51ed95442bbe\" class=\"plotly-graph-div\" style=\"height:525px; width:100%;\"></div>\n",
       "            <script type=\"text/javascript\">\n",
       "                require([\"plotly\"], function(Plotly) {\n",
       "                    window.PLOTLYENV=window.PLOTLYENV || {};\n",
       "                    \n",
       "                if (document.getElementById(\"9b52a4c1-cf23-46c2-a890-51ed95442bbe\")) {\n",
       "                    Plotly.newPlot(\n",
       "                        '9b52a4c1-cf23-46c2-a890-51ed95442bbe',\n",
       "                        [{\"hovertemplate\": \"%{text}<br>%{y:}m above sea-level\", \"legendgroup\": \"\", \"line\": {\"color\": \"#636efa\", \"dash\": \"solid\", \"shape\": \"spline\"}, \"mode\": \"lines\", \"name\": \"\", \"orientation\": \"v\", \"showlegend\": false, \"text\": [\"<b>Day</b>: 0<br><b>Hour</b>: 0\", \"<b>Day</b>: 0<br><b>Hour</b>: 1\", \"<b>Day</b>: 0<br><b>Hour</b>: 2\", \"<b>Day</b>: 0<br><b>Hour</b>: 3\", \"<b>Day</b>: 0<br><b>Hour</b>: 4\", \"<b>Day</b>: 0<br><b>Hour</b>: 5\", \"<b>Day</b>: 0<br><b>Hour</b>: 6\", \"<b>Day</b>: 0<br><b>Hour</b>: 7\", \"<b>Day</b>: 0<br><b>Hour</b>: 8\", \"<b>Day</b>: 0<br><b>Hour</b>: 9\", \"<b>Day</b>: 0<br><b>Hour</b>: 10\", \"<b>Day</b>: 0<br><b>Hour</b>: 11\", \"<b>Day</b>: 0<br><b>Hour</b>: 12\", \"<b>Day</b>: 0<br><b>Hour</b>: 13\", \"<b>Day</b>: 0<br><b>Hour</b>: 14\", \"<b>Day</b>: 0<br><b>Hour</b>: 15\", \"<b>Day</b>: 0<br><b>Hour</b>: 16\", \"<b>Day</b>: 0<br><b>Hour</b>: 17\", \"<b>Day</b>: 0<br><b>Hour</b>: 18\", \"<b>Day</b>: 0<br><b>Hour</b>: 19\", \"<b>Day</b>: 0<br><b>Hour</b>: 20\", \"<b>Day</b>: 0<br><b>Hour</b>: 21\", \"<b>Day</b>: 0<br><b>Hour</b>: 22\", \"<b>Day</b>: 0<br><b>Hour</b>: 23\", \"<b>Day</b>: 1<br><b>Hour</b>: 0\", \"<b>Day</b>: 1<br><b>Hour</b>: 1\", \"<b>Day</b>: 1<br><b>Hour</b>: 2\", \"<b>Day</b>: 1<br><b>Hour</b>: 3\", \"<b>Day</b>: 1<br><b>Hour</b>: 4\", \"<b>Day</b>: 1<br><b>Hour</b>: 5\", \"<b>Day</b>: 1<br><b>Hour</b>: 6\", \"<b>Day</b>: 1<br><b>Hour</b>: 7\", \"<b>Day</b>: 1<br><b>Hour</b>: 8\", \"<b>Day</b>: 1<br><b>Hour</b>: 9\", \"<b>Day</b>: 1<br><b>Hour</b>: 10\", \"<b>Day</b>: 1<br><b>Hour</b>: 11\", \"<b>Day</b>: 1<br><b>Hour</b>: 12\", \"<b>Day</b>: 1<br><b>Hour</b>: 13\", \"<b>Day</b>: 1<br><b>Hour</b>: 14\", \"<b>Day</b>: 1<br><b>Hour</b>: 15\", \"<b>Day</b>: 1<br><b>Hour</b>: 16\", \"<b>Day</b>: 1<br><b>Hour</b>: 17\", \"<b>Day</b>: 1<br><b>Hour</b>: 18\", \"<b>Day</b>: 1<br><b>Hour</b>: 19\", \"<b>Day</b>: 1<br><b>Hour</b>: 20\", \"<b>Day</b>: 1<br><b>Hour</b>: 21\", \"<b>Day</b>: 1<br><b>Hour</b>: 22\", \"<b>Day</b>: 1<br><b>Hour</b>: 23\", \"<b>Day</b>: 2<br><b>Hour</b>: 0\", \"<b>Day</b>: 2<br><b>Hour</b>: 1\", \"<b>Day</b>: 2<br><b>Hour</b>: 2\", \"<b>Day</b>: 2<br><b>Hour</b>: 3\", \"<b>Day</b>: 2<br><b>Hour</b>: 4\", \"<b>Day</b>: 2<br><b>Hour</b>: 5\", \"<b>Day</b>: 2<br><b>Hour</b>: 6\", \"<b>Day</b>: 2<br><b>Hour</b>: 7\", \"<b>Day</b>: 2<br><b>Hour</b>: 8\", \"<b>Day</b>: 2<br><b>Hour</b>: 9\", \"<b>Day</b>: 2<br><b>Hour</b>: 10\", \"<b>Day</b>: 2<br><b>Hour</b>: 11\", \"<b>Day</b>: 2<br><b>Hour</b>: 12\", \"<b>Day</b>: 2<br><b>Hour</b>: 13\", \"<b>Day</b>: 2<br><b>Hour</b>: 14\", \"<b>Day</b>: 2<br><b>Hour</b>: 15\", \"<b>Day</b>: 2<br><b>Hour</b>: 16\", \"<b>Day</b>: 2<br><b>Hour</b>: 17\", \"<b>Day</b>: 2<br><b>Hour</b>: 18\", \"<b>Day</b>: 2<br><b>Hour</b>: 19\", \"<b>Day</b>: 2<br><b>Hour</b>: 20\", \"<b>Day</b>: 2<br><b>Hour</b>: 21\", \"<b>Day</b>: 2<br><b>Hour</b>: 22\", \"<b>Day</b>: 2<br><b>Hour</b>: 23\", \"<b>Day</b>: 3<br><b>Hour</b>: 0\", \"<b>Day</b>: 3<br><b>Hour</b>: 1\", \"<b>Day</b>: 3<br><b>Hour</b>: 2\", \"<b>Day</b>: 3<br><b>Hour</b>: 3\", \"<b>Day</b>: 3<br><b>Hour</b>: 4\", \"<b>Day</b>: 3<br><b>Hour</b>: 5\", \"<b>Day</b>: 3<br><b>Hour</b>: 6\", \"<b>Day</b>: 3<br><b>Hour</b>: 7\", \"<b>Day</b>: 3<br><b>Hour</b>: 8\", \"<b>Day</b>: 3<br><b>Hour</b>: 9\", \"<b>Day</b>: 3<br><b>Hour</b>: 10\", \"<b>Day</b>: 3<br><b>Hour</b>: 11\", \"<b>Day</b>: 3<br><b>Hour</b>: 12\", \"<b>Day</b>: 3<br><b>Hour</b>: 13\", \"<b>Day</b>: 3<br><b>Hour</b>: 14\", \"<b>Day</b>: 3<br><b>Hour</b>: 15\", \"<b>Day</b>: 3<br><b>Hour</b>: 16\", \"<b>Day</b>: 3<br><b>Hour</b>: 17\", \"<b>Day</b>: 3<br><b>Hour</b>: 18\", \"<b>Day</b>: 3<br><b>Hour</b>: 19\", \"<b>Day</b>: 3<br><b>Hour</b>: 20\", \"<b>Day</b>: 3<br><b>Hour</b>: 21\", \"<b>Day</b>: 3<br><b>Hour</b>: 22\", \"<b>Day</b>: 3<br><b>Hour</b>: 23\", \"<b>Day</b>: 4<br><b>Hour</b>: 0\", \"<b>Day</b>: 4<br><b>Hour</b>: 1\", \"<b>Day</b>: 4<br><b>Hour</b>: 2\", \"<b>Day</b>: 4<br><b>Hour</b>: 3\", \"<b>Day</b>: 4<br><b>Hour</b>: 4\", \"<b>Day</b>: 4<br><b>Hour</b>: 5\", \"<b>Day</b>: 4<br><b>Hour</b>: 6\", \"<b>Day</b>: 4<br><b>Hour</b>: 7\", \"<b>Day</b>: 4<br><b>Hour</b>: 8\", \"<b>Day</b>: 4<br><b>Hour</b>: 9\", \"<b>Day</b>: 4<br><b>Hour</b>: 10\", \"<b>Day</b>: 4<br><b>Hour</b>: 11\", \"<b>Day</b>: 4<br><b>Hour</b>: 12\", \"<b>Day</b>: 4<br><b>Hour</b>: 13\", \"<b>Day</b>: 4<br><b>Hour</b>: 14\", \"<b>Day</b>: 4<br><b>Hour</b>: 15\", \"<b>Day</b>: 4<br><b>Hour</b>: 16\", \"<b>Day</b>: 4<br><b>Hour</b>: 17\", \"<b>Day</b>: 4<br><b>Hour</b>: 18\", \"<b>Day</b>: 4<br><b>Hour</b>: 19\", \"<b>Day</b>: 4<br><b>Hour</b>: 20\", \"<b>Day</b>: 4<br><b>Hour</b>: 21\", \"<b>Day</b>: 4<br><b>Hour</b>: 22\", \"<b>Day</b>: 4<br><b>Hour</b>: 23\", \"<b>Day</b>: 5<br><b>Hour</b>: 0\", \"<b>Day</b>: 5<br><b>Hour</b>: 1\", \"<b>Day</b>: 5<br><b>Hour</b>: 2\", \"<b>Day</b>: 5<br><b>Hour</b>: 3\", \"<b>Day</b>: 5<br><b>Hour</b>: 4\", \"<b>Day</b>: 5<br><b>Hour</b>: 5\", \"<b>Day</b>: 5<br><b>Hour</b>: 6\", \"<b>Day</b>: 5<br><b>Hour</b>: 7\", \"<b>Day</b>: 5<br><b>Hour</b>: 8\", \"<b>Day</b>: 5<br><b>Hour</b>: 9\", \"<b>Day</b>: 5<br><b>Hour</b>: 10\", \"<b>Day</b>: 5<br><b>Hour</b>: 11\", \"<b>Day</b>: 5<br><b>Hour</b>: 12\", \"<b>Day</b>: 5<br><b>Hour</b>: 13\", \"<b>Day</b>: 5<br><b>Hour</b>: 14\", \"<b>Day</b>: 5<br><b>Hour</b>: 15\", \"<b>Day</b>: 5<br><b>Hour</b>: 16\", \"<b>Day</b>: 5<br><b>Hour</b>: 17\", \"<b>Day</b>: 5<br><b>Hour</b>: 18\", \"<b>Day</b>: 5<br><b>Hour</b>: 19\", \"<b>Day</b>: 5<br><b>Hour</b>: 20\", \"<b>Day</b>: 5<br><b>Hour</b>: 21\", \"<b>Day</b>: 5<br><b>Hour</b>: 22\", \"<b>Day</b>: 5<br><b>Hour</b>: 23\", \"<b>Day</b>: 6<br><b>Hour</b>: 0\", \"<b>Day</b>: 6<br><b>Hour</b>: 1\", \"<b>Day</b>: 6<br><b>Hour</b>: 2\", \"<b>Day</b>: 6<br><b>Hour</b>: 3\", \"<b>Day</b>: 6<br><b>Hour</b>: 4\", \"<b>Day</b>: 6<br><b>Hour</b>: 5\", \"<b>Day</b>: 6<br><b>Hour</b>: 6\", \"<b>Day</b>: 6<br><b>Hour</b>: 7\", \"<b>Day</b>: 6<br><b>Hour</b>: 8\", \"<b>Day</b>: 6<br><b>Hour</b>: 9\", \"<b>Day</b>: 6<br><b>Hour</b>: 10\", \"<b>Day</b>: 6<br><b>Hour</b>: 11\", \"<b>Day</b>: 6<br><b>Hour</b>: 12\", \"<b>Day</b>: 6<br><b>Hour</b>: 13\", \"<b>Day</b>: 6<br><b>Hour</b>: 14\", \"<b>Day</b>: 6<br><b>Hour</b>: 15\", \"<b>Day</b>: 6<br><b>Hour</b>: 16\", \"<b>Day</b>: 6<br><b>Hour</b>: 17\", \"<b>Day</b>: 6<br><b>Hour</b>: 18\", \"<b>Day</b>: 6<br><b>Hour</b>: 19\", \"<b>Day</b>: 6<br><b>Hour</b>: 20\", \"<b>Day</b>: 6<br><b>Hour</b>: 21\", \"<b>Day</b>: 6<br><b>Hour</b>: 22\", \"<b>Day</b>: 6<br><b>Hour</b>: 23\"], \"type\": \"scatter\", \"x\": [0, 1, 2, 3, 4, 5, 6, 7, 8, 9, 10, 11, 12, 13, 14, 15, 16, 17, 18, 19, 20, 21, 22, 23, 24, 25, 26, 27, 28, 29, 30, 31, 32, 33, 34, 35, 36, 37, 38, 39, 40, 41, 42, 43, 44, 45, 46, 47, 48, 49, 50, 51, 52, 53, 54, 55, 56, 57, 58, 59, 60, 61, 62, 63, 64, 65, 66, 67, 68, 69, 70, 71, 72, 73, 74, 75, 76, 77, 78, 79, 80, 81, 82, 83, 84, 85, 86, 87, 88, 89, 90, 91, 92, 93, 94, 95, 96, 97, 98, 99, 100, 101, 102, 103, 104, 105, 106, 107, 108, 109, 110, 111, 112, 113, 114, 115, 116, 117, 118, 119, 120, 121, 122, 123, 124, 125, 126, 127, 128, 129, 130, 131, 132, 133, 134, 135, 136, 137, 138, 139, 140, 141, 142, 143, 144, 145, 146, 147, 148, 149, 150, 151, 152, 153, 154, 155, 156, 157, 158, 159, 160, 161, 162, 163, 164, 165, 166, 167], \"xaxis\": \"x\", \"y\": [4.3, 4.6, 4.7, 4.5, 4.3, 3.9, 3.6, 3.4, 3.3, 3.4, 3.5, 3.6, 3.6, 3.5, 3.2, 2.9, 2.4, 2.0, 1.7, 1.5, 1.7, 2.1, 2.6, 3.3, 3.9, 4.4, 4.7, 4.7, 4.5, 4.2, 3.7, 3.3, 3.1, 3.0, 3.1, 3.2, 3.5, 3.6, 3.6, 3.4, 3.1, 2.6, 2.2, 1.8, 1.7, 1.8, 2.2, 2.8, 3.4, 4.1, 4.6, 4.8, 4.7, 4.4, 3.9, 3.4, 2.9, 2.6, 2.6, 2.7, 3.1, 3.4, 3.7, 3.8, 3.7, 3.3, 2.9, 2.4, 2.0, 1.8, 1.9, 2.3, 3.0, 3.7, 4.3, 4.7, 4.8, 4.6, 4.2, 3.6, 3.0, 2.4, 2.1, 2.1, 2.4, 2.9, 3.4, 3.9, 4.1, 4.0, 3.6, 3.2, 2.7, 2.2, 2.0, 2.2, 2.6, 3.2, 3.9, 4.5, 4.9, 4.8, 4.5, 3.9, 3.2, 2.4, 1.9, 1.6, 1.7, 2.2, 2.8, 3.5, 4.1, 4.3, 4.2, 3.9, 3.4, 2.9, 2.5, 2.3, 2.5, 2.9, 3.6, 4.2, 4.7, 4.9, 4.7, 4.2, 3.5, 2.7, 1.9, 1.3, 1.1, 1.4, 2.0, 2.8, 3.7, 4.3, 4.6, 4.5, 4.2, 3.7, 3.2, 2.7, 2.6, 2.8, 3.3, 3.9, 4.5, 4.9, 4.9, 4.5, 3.9, 3.0, 2.1, 1.3, 0.8, 0.8, 1.2, 2.0, 2.9, 3.9, 4.5, 4.8, 4.7, 4.4, 3.9, 3.4], \"yaxis\": \"y\"}],\n",
       "                        {\"legend\": {\"tracegroupgap\": 0}, \"margin\": {\"t\": 60}, \"template\": {\"data\": {\"bar\": [{\"error_x\": {\"color\": \"#2a3f5f\"}, \"error_y\": {\"color\": \"#2a3f5f\"}, \"marker\": {\"line\": {\"color\": \"#E5ECF6\", \"width\": 0.5}}, \"type\": \"bar\"}], \"barpolar\": [{\"marker\": {\"line\": {\"color\": \"#E5ECF6\", \"width\": 0.5}}, \"type\": \"barpolar\"}], \"carpet\": [{\"aaxis\": {\"endlinecolor\": \"#2a3f5f\", \"gridcolor\": \"white\", \"linecolor\": \"white\", \"minorgridcolor\": \"white\", \"startlinecolor\": \"#2a3f5f\"}, \"baxis\": {\"endlinecolor\": \"#2a3f5f\", \"gridcolor\": \"white\", \"linecolor\": \"white\", \"minorgridcolor\": \"white\", \"startlinecolor\": \"#2a3f5f\"}, \"type\": \"carpet\"}], \"choropleth\": [{\"colorbar\": {\"outlinewidth\": 0, \"ticks\": \"\"}, \"type\": \"choropleth\"}], \"contour\": [{\"colorbar\": {\"outlinewidth\": 0, \"ticks\": \"\"}, \"colorscale\": [[0.0, \"#0d0887\"], [0.1111111111111111, \"#46039f\"], [0.2222222222222222, \"#7201a8\"], [0.3333333333333333, \"#9c179e\"], [0.4444444444444444, \"#bd3786\"], [0.5555555555555556, \"#d8576b\"], [0.6666666666666666, \"#ed7953\"], [0.7777777777777778, \"#fb9f3a\"], [0.8888888888888888, \"#fdca26\"], [1.0, \"#f0f921\"]], \"type\": \"contour\"}], \"contourcarpet\": [{\"colorbar\": {\"outlinewidth\": 0, \"ticks\": \"\"}, \"type\": \"contourcarpet\"}], \"heatmap\": [{\"colorbar\": {\"outlinewidth\": 0, \"ticks\": \"\"}, \"colorscale\": [[0.0, \"#0d0887\"], [0.1111111111111111, \"#46039f\"], [0.2222222222222222, \"#7201a8\"], [0.3333333333333333, \"#9c179e\"], [0.4444444444444444, \"#bd3786\"], [0.5555555555555556, \"#d8576b\"], [0.6666666666666666, \"#ed7953\"], [0.7777777777777778, \"#fb9f3a\"], [0.8888888888888888, \"#fdca26\"], [1.0, \"#f0f921\"]], \"type\": \"heatmap\"}], \"heatmapgl\": [{\"colorbar\": {\"outlinewidth\": 0, \"ticks\": \"\"}, \"colorscale\": [[0.0, \"#0d0887\"], [0.1111111111111111, \"#46039f\"], [0.2222222222222222, \"#7201a8\"], [0.3333333333333333, \"#9c179e\"], [0.4444444444444444, \"#bd3786\"], [0.5555555555555556, \"#d8576b\"], [0.6666666666666666, \"#ed7953\"], [0.7777777777777778, \"#fb9f3a\"], [0.8888888888888888, \"#fdca26\"], [1.0, \"#f0f921\"]], \"type\": \"heatmapgl\"}], \"histogram\": [{\"marker\": {\"colorbar\": {\"outlinewidth\": 0, \"ticks\": \"\"}}, \"type\": \"histogram\"}], \"histogram2d\": [{\"colorbar\": {\"outlinewidth\": 0, \"ticks\": \"\"}, \"colorscale\": [[0.0, \"#0d0887\"], [0.1111111111111111, \"#46039f\"], [0.2222222222222222, \"#7201a8\"], [0.3333333333333333, \"#9c179e\"], [0.4444444444444444, \"#bd3786\"], [0.5555555555555556, \"#d8576b\"], [0.6666666666666666, \"#ed7953\"], [0.7777777777777778, \"#fb9f3a\"], [0.8888888888888888, \"#fdca26\"], [1.0, \"#f0f921\"]], \"type\": \"histogram2d\"}], \"histogram2dcontour\": [{\"colorbar\": {\"outlinewidth\": 0, \"ticks\": \"\"}, \"colorscale\": [[0.0, \"#0d0887\"], [0.1111111111111111, \"#46039f\"], [0.2222222222222222, \"#7201a8\"], [0.3333333333333333, \"#9c179e\"], [0.4444444444444444, \"#bd3786\"], [0.5555555555555556, \"#d8576b\"], [0.6666666666666666, \"#ed7953\"], [0.7777777777777778, \"#fb9f3a\"], [0.8888888888888888, \"#fdca26\"], [1.0, \"#f0f921\"]], \"type\": \"histogram2dcontour\"}], \"mesh3d\": [{\"colorbar\": {\"outlinewidth\": 0, \"ticks\": \"\"}, \"type\": \"mesh3d\"}], \"parcoords\": [{\"line\": {\"colorbar\": {\"outlinewidth\": 0, \"ticks\": \"\"}}, \"type\": \"parcoords\"}], \"pie\": [{\"automargin\": true, \"type\": \"pie\"}], \"scatter\": [{\"marker\": {\"colorbar\": {\"outlinewidth\": 0, \"ticks\": \"\"}}, \"type\": \"scatter\"}], \"scatter3d\": [{\"line\": {\"colorbar\": {\"outlinewidth\": 0, \"ticks\": \"\"}}, \"marker\": {\"colorbar\": {\"outlinewidth\": 0, \"ticks\": \"\"}}, \"type\": \"scatter3d\"}], \"scattercarpet\": [{\"marker\": {\"colorbar\": {\"outlinewidth\": 0, \"ticks\": \"\"}}, \"type\": \"scattercarpet\"}], \"scattergeo\": [{\"marker\": {\"colorbar\": {\"outlinewidth\": 0, \"ticks\": \"\"}}, \"type\": \"scattergeo\"}], \"scattergl\": [{\"marker\": {\"colorbar\": {\"outlinewidth\": 0, \"ticks\": \"\"}}, \"type\": \"scattergl\"}], \"scattermapbox\": [{\"marker\": {\"colorbar\": {\"outlinewidth\": 0, \"ticks\": \"\"}}, \"type\": \"scattermapbox\"}], \"scatterpolar\": [{\"marker\": {\"colorbar\": {\"outlinewidth\": 0, \"ticks\": \"\"}}, \"type\": \"scatterpolar\"}], \"scatterpolargl\": [{\"marker\": {\"colorbar\": {\"outlinewidth\": 0, \"ticks\": \"\"}}, \"type\": \"scatterpolargl\"}], \"scatterternary\": [{\"marker\": {\"colorbar\": {\"outlinewidth\": 0, \"ticks\": \"\"}}, \"type\": \"scatterternary\"}], \"surface\": [{\"colorbar\": {\"outlinewidth\": 0, \"ticks\": \"\"}, \"colorscale\": [[0.0, \"#0d0887\"], [0.1111111111111111, \"#46039f\"], [0.2222222222222222, \"#7201a8\"], [0.3333333333333333, \"#9c179e\"], [0.4444444444444444, \"#bd3786\"], [0.5555555555555556, \"#d8576b\"], [0.6666666666666666, \"#ed7953\"], [0.7777777777777778, \"#fb9f3a\"], [0.8888888888888888, \"#fdca26\"], [1.0, \"#f0f921\"]], \"type\": \"surface\"}], \"table\": [{\"cells\": {\"fill\": {\"color\": \"#EBF0F8\"}, \"line\": {\"color\": \"white\"}}, \"header\": {\"fill\": {\"color\": \"#C8D4E3\"}, \"line\": {\"color\": \"white\"}}, \"type\": \"table\"}]}, \"layout\": {\"annotationdefaults\": {\"arrowcolor\": \"#2a3f5f\", \"arrowhead\": 0, \"arrowwidth\": 1}, \"coloraxis\": {\"colorbar\": {\"outlinewidth\": 0, \"ticks\": \"\"}}, \"colorscale\": {\"diverging\": [[0, \"#8e0152\"], [0.1, \"#c51b7d\"], [0.2, \"#de77ae\"], [0.3, \"#f1b6da\"], [0.4, \"#fde0ef\"], [0.5, \"#f7f7f7\"], [0.6, \"#e6f5d0\"], [0.7, \"#b8e186\"], [0.8, \"#7fbc41\"], [0.9, \"#4d9221\"], [1, \"#276419\"]], \"sequential\": [[0.0, \"#0d0887\"], [0.1111111111111111, \"#46039f\"], [0.2222222222222222, \"#7201a8\"], [0.3333333333333333, \"#9c179e\"], [0.4444444444444444, \"#bd3786\"], [0.5555555555555556, \"#d8576b\"], [0.6666666666666666, \"#ed7953\"], [0.7777777777777778, \"#fb9f3a\"], [0.8888888888888888, \"#fdca26\"], [1.0, \"#f0f921\"]], \"sequentialminus\": [[0.0, \"#0d0887\"], [0.1111111111111111, \"#46039f\"], [0.2222222222222222, \"#7201a8\"], [0.3333333333333333, \"#9c179e\"], [0.4444444444444444, \"#bd3786\"], [0.5555555555555556, \"#d8576b\"], [0.6666666666666666, \"#ed7953\"], [0.7777777777777778, \"#fb9f3a\"], [0.8888888888888888, \"#fdca26\"], [1.0, \"#f0f921\"]]}, \"colorway\": [\"#636efa\", \"#EF553B\", \"#00cc96\", \"#ab63fa\", \"#FFA15A\", \"#19d3f3\", \"#FF6692\", \"#B6E880\", \"#FF97FF\", \"#FECB52\"], \"font\": {\"color\": \"#2a3f5f\"}, \"geo\": {\"bgcolor\": \"white\", \"lakecolor\": \"white\", \"landcolor\": \"#E5ECF6\", \"showlakes\": true, \"showland\": true, \"subunitcolor\": \"white\"}, \"hoverlabel\": {\"align\": \"left\"}, \"hovermode\": \"closest\", \"mapbox\": {\"style\": \"light\"}, \"paper_bgcolor\": \"white\", \"plot_bgcolor\": \"#E5ECF6\", \"polar\": {\"angularaxis\": {\"gridcolor\": \"white\", \"linecolor\": \"white\", \"ticks\": \"\"}, \"bgcolor\": \"#E5ECF6\", \"radialaxis\": {\"gridcolor\": \"white\", \"linecolor\": \"white\", \"ticks\": \"\"}}, \"scene\": {\"xaxis\": {\"backgroundcolor\": \"#E5ECF6\", \"gridcolor\": \"white\", \"gridwidth\": 2, \"linecolor\": \"white\", \"showbackground\": true, \"ticks\": \"\", \"zerolinecolor\": \"white\"}, \"yaxis\": {\"backgroundcolor\": \"#E5ECF6\", \"gridcolor\": \"white\", \"gridwidth\": 2, \"linecolor\": \"white\", \"showbackground\": true, \"ticks\": \"\", \"zerolinecolor\": \"white\"}, \"zaxis\": {\"backgroundcolor\": \"#E5ECF6\", \"gridcolor\": \"white\", \"gridwidth\": 2, \"linecolor\": \"white\", \"showbackground\": true, \"ticks\": \"\", \"zerolinecolor\": \"white\"}}, \"shapedefaults\": {\"line\": {\"color\": \"#2a3f5f\"}}, \"ternary\": {\"aaxis\": {\"gridcolor\": \"white\", \"linecolor\": \"white\", \"ticks\": \"\"}, \"baxis\": {\"gridcolor\": \"white\", \"linecolor\": \"white\", \"ticks\": \"\"}, \"bgcolor\": \"#E5ECF6\", \"caxis\": {\"gridcolor\": \"white\", \"linecolor\": \"white\", \"ticks\": \"\"}}, \"title\": {\"x\": 0.05}, \"xaxis\": {\"automargin\": true, \"gridcolor\": \"white\", \"linecolor\": \"white\", \"ticks\": \"\", \"title\": {\"standoff\": 15}, \"zerolinecolor\": \"white\", \"zerolinewidth\": 2}, \"yaxis\": {\"automargin\": true, \"gridcolor\": \"white\", \"linecolor\": \"white\", \"ticks\": \"\", \"title\": {\"standoff\": 15}, \"zerolinecolor\": \"white\", \"zerolinewidth\": 2}}}, \"title\": {\"text\": \"Measured Tide Readings for Comox Harbour\"}, \"xaxis\": {\"anchor\": \"y\", \"domain\": [0.0, 1.0], \"ticktext\": [0, 1, 2, 3, 4, 5, 6], \"tickvals\": [0, 24, 48, 72, 96, 120, 144], \"title\": {\"text\": \"Time (Days Since Start)\"}}, \"yaxis\": {\"anchor\": \"x\", \"domain\": [0.0, 1.0], \"title\": {\"text\": \"Tide Level (Meters Above Sea Level)\"}}},\n",
       "                        {\"responsive\": true}\n",
       "                    ).then(function(){\n",
       "                            \n",
       "var gd = document.getElementById('9b52a4c1-cf23-46c2-a890-51ed95442bbe');\n",
       "var x = new MutationObserver(function (mutations, observer) {{\n",
       "        var display = window.getComputedStyle(gd).display;\n",
       "        if (!display || display === 'none') {{\n",
       "            console.log([gd, 'removed!']);\n",
       "            Plotly.purge(gd);\n",
       "            observer.disconnect();\n",
       "        }}\n",
       "}});\n",
       "\n",
       "// Listen for the removal of the full notebook cells\n",
       "var notebookContainer = gd.closest('#notebook-container');\n",
       "if (notebookContainer) {{\n",
       "    x.observe(notebookContainer, {childList: true});\n",
       "}}\n",
       "\n",
       "// Listen for the clearing of the current output cell\n",
       "var outputEl = gd.closest('.output');\n",
       "if (outputEl) {{\n",
       "    x.observe(outputEl, {childList: true});\n",
       "}}\n",
       "\n",
       "                        })\n",
       "                };\n",
       "                });\n",
       "            </script>\n",
       "        </div>"
      ]
     },
     "metadata": {},
     "output_type": "display_data"
    },
    {
     "name": "stdout",
     "output_type": "stream",
     "text": [
      "The lowest tide reaches 0.8 meters on day 6 at 12 hours\n",
      "The highest tide reaches 4.9 meters on day 6 at 4 hours\n"
     ]
    }
   ],
   "source": [
    "# Have these in days and hours \n",
    "create_tide_plot()"
   ]
  },
  {
   "cell_type": "markdown",
   "metadata": {},
   "source": [
    "#### Where to locate the trap"
   ]
  },
  {
   "cell_type": "markdown",
   "metadata": {},
   "source": [
    "### Shape of the trap"
   ]
  },
  {
   "cell_type": "markdown",
   "metadata": {},
   "source": [
    "Notes:\n",
    "1. normalize tide level to fish trap level not sea level.\n",
    "Bryce Haley12:08 PM\n",
    "2. add map showing fish trap location and measurement location"
   ]
  },
  {
   "cell_type": "code",
   "execution_count": 58,
   "metadata": {},
   "outputs": [
    {
     "data": {
      "text/html": [
       "<video width=\"432\" height=\"288\" controls autoplay loop>\n",
       "  <source type=\"video/mp4\" src=\"data:video/mp4;base64,AAAAHGZ0eXBNNFYgAAACAGlzb21pc28yYXZjMQAAAAhmcmVlAANLDW1kYXQAAAKuBgX//6rcRem9\n",
       "5tlIt5Ys2CDZI+7veDI2NCAtIGNvcmUgMTU1IHIyOTE3IDBhODRkOTggLSBILjI2NC9NUEVHLTQg\n",
       "QVZDIGNvZGVjIC0gQ29weWxlZnQgMjAwMy0yMDE4IC0gaHR0cDovL3d3dy52aWRlb2xhbi5vcmcv\n",
       "eDI2NC5odG1sIC0gb3B0aW9uczogY2FiYWM9MSByZWY9MyBkZWJsb2NrPTE6MDowIGFuYWx5c2U9\n",
       "MHgzOjB4MTEzIG1lPWhleCBzdWJtZT03IHBzeT0xIHBzeV9yZD0xLjAwOjAuMDAgbWl4ZWRfcmVm\n",
       "PTEgbWVfcmFuZ2U9MTYgY2hyb21hX21lPTEgdHJlbGxpcz0xIDh4OGRjdD0xIGNxbT0wIGRlYWR6\n",
       "b25lPTIxLDExIGZhc3RfcHNraXA9MSBjaHJvbWFfcXBfb2Zmc2V0PS0yIHRocmVhZHM9OSBsb29r\n",
       "YWhlYWRfdGhyZWFkcz0xIHNsaWNlZF90aHJlYWRzPTAgbnI9MCBkZWNpbWF0ZT0xIGludGVybGFj\n",
       "ZWQ9MCBibHVyYXlfY29tcGF0PTAgY29uc3RyYWluZWRfaW50cmE9MCBiZnJhbWVzPTMgYl9weXJh\n",
       "bWlkPTIgYl9hZGFwdD0xIGJfYmlhcz0wIGRpcmVjdD0xIHdlaWdodGI9MSBvcGVuX2dvcD0wIHdl\n",
       "aWdodHA9MiBrZXlpbnQ9MjUwIGtleWludF9taW49MjUgc2NlbmVjdXQ9NDAgaW50cmFfcmVmcmVz\n",
       "aD0wIHJjX2xvb2thaGVhZD00MCByYz1jcmYgbWJ0cmVlPTEgY3JmPTIzLjAgcWNvbXA9MC42MCBx\n",
       "cG1pbj0wIHFwbWF4PTY5IHFwc3RlcD00IGlwX3JhdGlvPTEuNDAgYXE9MToxLjAwAIAAAAjQZYiE\n",
       "ACP//vUn+BTUEvxL4Wth7dS3fPCqILV+YSdcAAADAABv5wMDXawT2v4AE27OEOTbHNT7hN9Pi9no\n",
       "HSPACcf2lVn42kEwbhfrIJLzMlobcNpxKQZBASOL5Mqv45bNIXj10jEFO5EMwn5vybsVtCkyTlIp\n",
       "3bttmLWcfWVjTXNnM2k59rK3LxYZFK0omiTcHq+ZnyDbbwgFR+Fb55ttZgNoAsNHPYiXrRBdwTy4\n",
       "jp6Uv6orYPqvuPRqiUF3KgOHbEGoXI40J6C0nExjDlouBONenNTefK4udiYOHpw7Thd8HHu2ouQ9\n",
       "LebbpigqVObBjfY+jRlxpcLAQSmRbNx17OI9YN/G6S80SReHSfA09PJ1A3W3Nd+7+hhP0IsUJrb3\n",
       "O95wYSZ+LNhSeseDRr0XSUIrSIY51Huf8AewxU6eUpsaF58XNybR+KoiwncWTRRf1XEfW3uQxcNW\n",
       "NhXZm2MVVOwXkT1uZoeBMR+At05A+V7/A5ERdpNSk0J1jToDIeNryIMMKRspIm3APqNWUqr7TR3S\n",
       "U4XheeDW7Gt1SBM+qG/67/rX7NSi3grARlGkm6Cy8SAgzMEU0//vPSxRRtKTMC2zyLiDV2Q9ueRN\n",
       "l6cemUpzM9XJBV8wYyKQBYyaTVoZ9WSIco11/1CRoLZ6HsPY+bJBpOs3uZTYNcanjMTi+5kYMYc5\n",
       "2oWiwuUtxfME1oGz/raOezviCfbfar2Cd1ZewhdYPSrBx+2cGNGI68NrG/fR/+mr1R0qnGg2mDU6\n",
       "5lOMeYxJKu73lXWm1SwdwRW9P28nIWplQDEPY7csTAbOhlQkIXomjPSseW/PyLTejI9tWAAjZo73\n",
       "JflWij0IPExcnsXNQl1P7zk6oi6y8fNoMb2DoVBABgkg47r26Rev62qXfN/W3TsiQjgPGJc2/X1O\n",
       "TYOetcxIhKFNywvigFIdmOx7luBi17tMSdSalZjO5kbp2NKxFD9y0z1/mgb8zWNn+qP0sBrEm9iy\n",
       "e/ItXQfNMBmqN/wRgcyyVQc3Lv9KVgxNTGUbpKy8Y6gDEGmUQj32CqPrKEt+52UCIOi9jz270zYl\n",
       "3bPum+/lEmycjwH9K9LmyiHOZKy6/PbQ1gYUVSFphqpr/ZOusNzwVcw1b+X+XB6esBFmJxtdgUqW\n",
       "GFNlyctzfaT/K9UY8rh5Os/Ci3O/9Q0S6LWnS9DatRTgZ79bucYP+9s5ZwfoxaJMJOWRZVjgLs0E\n",
       "o3MZzfXGTeppqr+cyDzLhy+4rkeQe7KzlB2B4IDe7zxOzWUPcuO7sa8j6iymf8vo/PZzOJp5xifn\n",
       "RtfsvHw5DtIx003O4nYv4n9Y157BxMH7WsxFGRuHFu2+kzRvQZXUnH6be2tH+QLJMZTamvkp7772\n",
       "iqis+7Dsjhz14RP9VgTzmdRskl8mSoNnP3BXIthkMqYu19++FvXyZLuYqOfVLh/AaosxdbdhCgDA\n",
       "/2dBL+IcDHPVyz6enJKz5s6roId43nbweQhgQk+5y/qexPSHO4VWgNamFzcJzirQCsB/3UvHh3kw\n",
       "3M1/cgWULZVtY6S5EKRr0T9MTFvQmNcSmqCXqdxMcYN1rS0Lgp2i7iu6avskHSIrO8T8n2Bb7MfS\n",
       "gbqP5mzKeDJnYk9XocakRSTwdNF18Grd/wBsNgwyE3vNMFcjI4cF67vsPT+w59RIx86UdC61QNJE\n",
       "JteVE00kGdW3D+KHzbc8P/IkFXve9frOrkhy3VjWs/9hkFa07N9rp/uz9FaX3bzvzHbhZGAWTtNB\n",
       "7pwNusnVur4d66V9gHwBFZ4u6qCvrHIKZ/qE00DDB7TxaytKea3XtHApGqHkMVv/LZzcvKCUjJxq\n",
       "vHWMpEgn4J/BOGIGPD5oJzkGHcWg0BBdEK7i2qYNIYGneqdiig/5yqN7xMeOw5eEnsF5PxxM7WsO\n",
       "Rg79WqLezdrrW9VSYJJRzh56TAJiXIedft1zCMVjnzFgSv6u/re77GFLuFI+RK5kBxHJr+YChzkj\n",
       "oG8fzq0HFsOdb3/d9zCk2WIMoJ7wG6s6xVgSk9X8a7/4QYfTpbheIACtIek23jayvkhWdvvhIUM/\n",
       "A8PZUM60inCKTj8PJKzjEB1+fhuQOEppziRjf9PWujX+TZCRHeSJowsTXjql7mSXNWRtHT1eZEGb\n",
       "i/AQnXUinB5C+0vRhhfu3aqcvSW3LmKaRC0nzKqIcTbvCiFzaZz4YyUS2TpQTWiyMF2dHhZwPUpP\n",
       "t5rz0TqgHJ2k5cGXKXCM9llZK4yppmyhqdlZeaqBBhLXqrF7otyvL7iVWete+zERHuR78z6okltA\n",
       "dR7Ofb7Yx6zl7dhYqs9kEOBptgQsPbF/54u8tpzfxy2BZo4YZL+paB1jOPXWw9qfyPOv1IV0Js0U\n",
       "Xkiib810shOBh5H5gOjBayV1Su14OHfN1UiKydGAGv9ynCemcA7bK9yM+zu+CQnTNa47bbNhri7b\n",
       "sELO0Z8+740UgDc91d4TY38Vohm5xW5Ru4AVLqOc22myQctk4inXIWV5cobTmyzvmB+gsPXLK6aJ\n",
       "fPNw61P3151V8gwc7fZTXJKvHiuIhdjiSX57w/3fmXRsds5oTzeK5+kFmCJyOlS76R0zGD7DZBwb\n",
       "TCqJ4OXimuZ/8E4GtJ7HNKu4xhqL4T2izCzrBqaAb9GI37e9rEM8vCPD0ce+WXW1TjDqZCFdNgbl\n",
       "/rl5RwgZRN5HrwqBvfSu3KDdRXxpgiOauIVvCV8tX/9sjhsFosGAMiMUv+kP8o5vf9RGRuKuBk8j\n",
       "0J65uPAol/02mSBL/yUvi46yNlQu/xwRqWkrrVxVVF+8XVAuMv8JNtBqDa2wUizuMX0nMMVsPiyp\n",
       "O8V2rEo1XXO95Y3EiMj3a7nZ4p58tkN9TSjLFGwYdiwkgssAwXvX/uGD8Oq1HBqvwEtBnjPJOknf\n",
       "WGljsohgEj5sB2ntTGEp6Y4Un22AQcdbRsY/rSHuz2vd0JXOr3MFnuJg4li6dGit/yLsyw7q10eN\n",
       "bVXLAKFYYiMvEmNFAeX8eKf6iJO78AAEUrflnBFRAAABVEGaIWxCP/3hk90KVQGihUfoPC7YwcWA\n",
       "OFsJXjoxXCIPUx9SZJOm2G979X9w9xY3d8YCqbp0tr8l3KnpDM9zsiNyy837V4LMjZIRgNscvCel\n",
       "IpI2CJshJeubjCslhAJwtydL+pnA6sqrQwJJ7ExuvDIfD8oYY73aob4XUSyVZo8od1edA8UNWzsm\n",
       "arkM2at+Z9Ze0+2urqrx/lUDKnK4TL7Yu7XOr0FX+reu3yi+DmAQliQTzJriSvAq/69QF/d1tpJ6\n",
       "W+STunl6AfFPC6QLhdx6oYmSXqRu4LjUSSTW2W2tD88QIbBfD5OzCI691xvszMwtfna1D+dtTjH4\n",
       "iH86fJKVkknfk/YE6NEyDiHreDke+zviHOKblgjiuNCOjk1nCXVAWtIGWr446hWF8FNOoV/jK/kB\n",
       "QQiu9VQ75L8otHH0DiU20kO2QrvzbtIGIgei5mSEAPAAAAIcQZpDPCGTKYQj//3hA7cYwDif6Vap\n",
       "jcWhvI7pYR3RFNGGa+Gn3r+7vHfO2b8yUl12Fe7DAf7FZSpo/EP+z9M34ZzFfjx2oLTwsA2bgsAL\n",
       "Odtv4rEy23eo01oAkfjF1iG9yxxSzI0jqy7h7cgCxCcrRZVlwbqDPtO7ASyc5erVQrx2FBekyezh\n",
       "Wr3+gSaIQipT0mHExWOWqRE3p758OlBHoEBe39xVGuqSgJjRYoChZnm8kJMOmDNFp7jRrx06DNdf\n",
       "zv3Z6QPUWA6Fq4G00UvYPJvrZYZzTd8tz+B/PASgzi8U9oXFYloGRVxg4K81QlAA7jGva9VrKBrG\n",
       "Iabm6CjQcOyxjulsaemMmilrq+p6FhKN1Oqe+nZMws0sq/QvJilp2obCeJJJHDGsBH2RgmT7Vucz\n",
       "BbF/dEQzAWBiOcvOSNbsl8OH58PB+uu0XG/A/1u+IfvHmGdDZv8UB8vuytgBpwaPQO1uOthA56c4\n",
       "O98GNCUMYENs7mhfVKFdjyZgrk8oUaWZwwFQJKqLi7VQbFTdsxSjP4ZqcsoLkof2c2mfpN2xGBYJ\n",
       "+EH8XjVuSpTolrYlybdIBILfU2WE2tUgc4WLXAuUSeIZ/uiV1Or158J97eZda+FUPHEOStFUMAVI\n",
       "fcSkRXkpa2e1OFKdZ5Cq/JEbAi4yne8JZMK4w1FQv43mhNp4FLr9OLL9CteioRs5feNohV2lJooc\n",
       "jkl4rWaRAAAAlwGeYmpF/wqyTrDEhpi4twABzCMR25V6JzVKAFWqbrP3ZZ8c4j9TvOplnd0S+tsp\n",
       "BiKFrUrMX+NGOr/YfZl/yePYXW2BU8cRrUuloTgit1G+Tyb5wQCm78imE8KYFvB/rrPyRotPkE+o\n",
       "OFVgdjWThWTH/gH+rIjl1Oknrn9Wi1JicjGrP0XYWDZCXroqtPIRdMYhPH0V2fgAAAH6QZplSeEP\n",
       "JlMFPCP//cT6cIFRtjHagA5NZipnetJAmj5CKnBHhT1qMkNq8CL+IqOFgkOV3huDzpapE3/knEt8\n",
       "fNtmFuKsjWiwNpJZjftsY2SqTYVluswprBQeOM7Zq+DbCim0LV1NPCbDsroN4+Dw2utMbFyFS8BG\n",
       "sVN2ybISxZH5CFSTcwWNTaQbEPLHFOb7vdRidQFf97OUdNBIvRkvxDtidQDeyMYguWYywNxJsEtk\n",
       "oppgd9P27ClJvXLJlFifBhAyIGVOhEjpv17BO+pbKglAJQ4XkE7/i4V+2PkIOUQfrgg+xHHNR2fU\n",
       "kKfYfE6PoSIwle1/BInP2YZlBkco+27UvEkokiSUhqsOKEL2K2CjmXfDldsVRspdW6v+Scyt6Rn3\n",
       "q6wBJ1WnRdZi9aX9lOGspF6GaFH8wH3OyUInmCAh5dk+ISc/U7gEfEPM5oo2Y9MiKMLdsau3u+iI\n",
       "G2iuLBfstpZi6o+gQw+LkMsUQC5UclY26s32z6GFgZx+VzN9e+pcTtk9zgz6YLTH76oo+RCkxrRY\n",
       "OiKRS1xFEt9NYzZyW4TXX0Q5UtKb2CPqadbp2w5Za/JJyfIQNF7meck0uSS9u7t++7ZnFhoaxDyq\n",
       "ZzoAk2TCtlJzqHrrb2WZVoUbhwdY/d55Su3XR94XfbyLmUYTuMYtcV3RifkAAACMAZ6EakX/BPzm\n",
       "mGa4sLVqP+4GKpSRhQ5cWBUovWMmPifHn2W4JJtFdVeZ7tUfjCcPRjfwBBpkyR9D+gOIPAIw4VRb\n",
       "dICn6S+tVgE9Y5lIkPuFkBqVrN6Mi+W1Es6tYIcxx1V9jL5xBLRegT6XS5kQp5GiYYd+CyvSOHHA\n",
       "CEyoVKQDVzx97bOGlEllAaEAAAIyQZqHSeEPJlMFPCP//eEDUpwmbADORZjAyJzQ4hYOvB9tY9Xl\n",
       "sEfyU2aS/NAwg7cr2pmjbkjKSM2Y7NrkoZxLtiriG2IIV2j6Gf0XRXznWaKlagmg9sE2Him+JxjL\n",
       "t1qlAyQw/OTyxSkZpOp58e9vO82WFMl6b3iOibaIA6Oq6b//2HGPap+tv7MIzrf+fufPRn/m7v9O\n",
       "e+ik2Ny0/jBfsqOxcz5uPZMVF93l6e5KAp3bLEq63SD9q7pVQIC8QgGRWuvRx9fbe3wuarRXq9S/\n",
       "JPnHFcaDWvn0UOIZpOC+Z9SbdO7DBuuIBQBRGpDGPiyEbOxERDMc1BwD1ap3hpO9wmcEZae1KVvV\n",
       "yTo+6bM/FBXiax2auplafli2wpfbztnkAFM3UGhGfLdJgRm4t2x+9MdOtE5vu5csbvvCxH6NtBXJ\n",
       "Y461h10gMbfBT90EySv12L3QVJSSfhsTdDrLXwbVw8mhqjLhAYGwkcjq2sjZeEQqa6zquprRimbn\n",
       "3Tb0et2Qjp0+OLqX0cgW+SOVHn6KPs65NaT8Vhw4VFbJodgbP5ZDt4U+MnWXNPXE/Ryu8nr9ngma\n",
       "75SPXS+qXzEXITWxgxsHPFk2G6oeGEGFLYgISDrwA9GfuIKF/ZuNOBrAMioPKj4+8l66BtU1LDlT\n",
       "Xj4Efr5fyXsMX8TC8H3UWs0vVLHfUqeJ1qOoUfw2HbkEp+eySBlq7ajgIXTYohHrtaCj4gXiv3pU\n",
       "WZ8TUNUY/0MLbPVceQAAAI0BnqZqRf8KueHrPCZQAbTKPL0hcGUc3LHUASUP5mF7ZV27r+PJR8Vn\n",
       "WMVPEYPNBG+ZVREsmbMSpBvvvmzDFcg0a6/ahkBPCLi1kU+knbQWHvHtOG6NSXT/U8BsjoKd92Fd\n",
       "zKJ84yLDb2ooEbspoxTzRlax9tJhW4uYt3bURFG9DA1fr58ARU7zx92tnDEAAAH2QZqpSeEPJlMF\n",
       "PCP//eECMPF0hsAHN/AKHo4KkyJMbcnT3QDU8JONc0PBi0MRivnRo6uqPGMevhHjEqM/Y3+5XPWd\n",
       "1LOn1fGYAGTzAsTo3ccCr3RPo/ekLckMN+mGaehmhgSFpJQBVozHjtcaDId3Lx29KqAlM5JmNJro\n",
       "/WcV1yoygvmGgwRggh4DZUYt7DRqUnuzAJA0waiAJeo0KezRtWnPZiUfi45P6UY3s94gKfFhaEPP\n",
       "AGaxs3NIRdEm+HUtkhi8jm5qCU935eY8w+uj/7FEDwel6KbFBa8LK/n/TrjepPZicwSK3zQlytzU\n",
       "QGVJo30vAE79ddw7GxokIwSr443EzW32I8drouIu5Zd3FoQRtzEyppsiUsE61HSzY3GXlX5rSRlU\n",
       "VNLaGkjTo8mXIesPy7EUAmB23fm6tnPNA56BjmAcJxez6n9EcSzsnce8EQNqJY17Lx9HbbdFYEbD\n",
       "UbN9rC4IKI7moFuLPYRfanl1HPjc5ij8MYwOmnBAExWXD2JWRflG107DlM+KPHspXgxufyq8kXCP\n",
       "5iKlJK2HnQZFL4HCTovB6DH1Y3DspabT8B2XTCGuXtcpWWi5WFXPJgfLTRqm1pvkQrpv/o4SPt7X\n",
       "ayzDWYo/c7mfg9IngwX/GkO8fHkfVCvMzz8/Zu933pU7m5MeBgAAAJMBnshqRf8E12oMidb84QAr\n",
       "f3IDtSX77VLMSobYDTFqT8vPTEHssqblXlQTfJaNbWmz09ETrZgzhoBI/lnXQsg6FjmUAXPMi+mp\n",
       "PCb6G30X3g1hXLb+3pN9QLSZophfW0ONrprqriTkJsC2hRoM2lrIssgqF1FnYAWSNnME9Y2EbIT5\n",
       "KR7laTa9F1b5jDPD++fYe7AAAAILQZrLSeEPJlMFPCf//fEArXKOAtJQhzAAAipg4OlPJ0eVztpz\n",
       "an6wIKMYBaUjQtTseBqmv27YQePv6hp0+/2Djbqz/DZfoB9qvu67fA0Z0sjPtWneb57yz6PP6LXc\n",
       "GywN9qRx2C5SnaKQ1KXJk0LuicJaeJc8imu7PryNQJ16pFZJ/Tf/UeXdJ+E0UdVpubw69iXM0Eqz\n",
       "8nfRe+7nSoQxfdsomCITb7mm+w8lkOkW5vllb9I3kJplZIMBvHqU/VgrGyBGRHqVIKZox4j+kEz2\n",
       "2RHCXe5gRju64DjFH/jrkqonomudv7SarNxfX4xAhWCrYbs6dgNxkypqjlpWrwXxpImCmx8QXPIp\n",
       "/a9YNgg6ZNATSvHFX65doHJOCpjdMgPzxChl3u45h733zxYAGk5mgzaXUT9VJCd6b0iw1L6zcwis\n",
       "AiFoHBr5lU/R4nPmyGe6mr+BsrJk9yT9UkTW3buakBlGmXwXD1vl5XUACMZi6qBJu6BuQqpfYtma\n",
       "+zg7qgRBY0WKKmyenDPGCyNHyyJ5HgI4qc6Jb0giAkhfn8auPjo3NPaH7vySJYDLSdu03giyFuRY\n",
       "5HGDRbha2zl+7L4H2ZtjsbXGr/pC4uzlR5l8/PGfskYliW3H5xUH+aEdXn1gpA2NPsmFOCD0hdIv\n",
       "KQiHgdk/xuewajXQNtqdA89HlzmfmYfond3tmScbpwAAAI4BnupqRf8EtV5RPbhcV/Zdzu4KuQs4\n",
       "S7g/8jQ2jML66FzRx++eMm/r0qr+i45fmAFsXmBli8lNrjjVTTDdrC6PhkEV80hA3iMX6MAY8T08\n",
       "Z0JhcEPr5KNYqzOeFF+22noVsbOVhSqRZMHg+2hnpY10VhccKsgtbZC5uiWfnNRt1X92h7rd8NP+\n",
       "4Xzx9N8gAAACgUGa7UnhDyZTBTwn//3xAg1S+ACNs0OGHXr95jxSMH7smgoWsjLoyhokEumal7/n\n",
       "eGHJIrLlI1kfYU773DwCrVUO16OouON7W2SGCQEhHHalcg2OFvZVOCqp91jbEWtrTsezVaxmf11C\n",
       "YTxV2FctsDS7p5uxTs92FEIeqPR740cZ/izJXw3IR6KF5pAh5rAG5jvsHyoVQJJ/GSLR2MkcMUsm\n",
       "a4oxWP2rWxJwlVuHisXKC1M1zqvHTAyMbKgZYUWesfnHT7LPupGLb8/rqlNpkmtBRzXPbFqB6MQ9\n",
       "vMYQANZMwWdxRnfePuz0LBjMMpbJ8/QNIgWOr5fqpALNBa9BPWZGyEIys285lXHG3WDjblpBy1Oy\n",
       "/L6l2Xm2MLbn2v52SxvOuJHx/SGA/xP6xa6o+uBIrMhRcBdnHHadLrtR3igsaNsPLF42ckCJESP3\n",
       "ZrOo3Zipd3/mRqwhgMPjrMABRhZ2/CvvSZvyNyZHvlhSnn8rRA6Nod7USpdVil35TakE22l2/VlF\n",
       "jUnFwMZzOy7iDa0QUal0Ng3LSj/hVodcPsqFOt8jpsC3T/Z5rExltJNHqZE5cF0zVXZvYvFRjFrA\n",
       "HCC8xrX+AAhw4jsAlKpGJMaGhK5xxp9VnSP821ZuWIBLrx60wTXU/Q0FqlT0qhSQAMg7BADRmqQU\n",
       "hwJPvoJj+QCNWZgYUV2pBXMUW1O3IETMf7psNPBP/utX/iw+xzPY06YrEaqorfxteqbiS7bFP1zV\n",
       "J+6fNrmZWaLY0SATAFlijfNf/cCROP7tBBeR4FgVghKtenEu7i84J513LAae0JNlPIYxPBQyd+la\n",
       "7h6UL8bNFNZ+NP+tDSUsT19KcVsIfQrUAAAAnAGfDGpF/wqyTrDEhpgAEk/6aN61jhUJ8APzTddw\n",
       "Sb7n4bOBe+yfTrINUegcT5vIDFaZoRKA+AA+uuMtVqK2QsGEBvhdJnvwACvW1eGB9f57HYsZhuwn\n",
       "yzhf9Tq/21TowY7t50KOWlHQvvQGV77OrRZs4kqzkedTWhvbVCiWM/5OuuxBfkODdi4ZKBxwF889\n",
       "reTqWNH4H747rqiP1wAAAvFBmxFJ4Q8mUwIT//3xAmNE0CABg/QobacNYSac5PACbECH3c5eerQH\n",
       "gCJ4opPgFf/npUjeO+8qxARGUWe1LRoGIdBRZho1P6K4Fq0SrLAp3c+hKhCkj8y7wIswUtIbIdg2\n",
       "vzS3ZFFW6JKuevOwKO/YLBRIOT+aH/hPnc0xq5ZwnSCYIbiUB5AUr/gbrWp3GKZlDsnescCelk/O\n",
       "ntR1BvaUcBPIhiGaiTDANIVB9kkvUN11RSA7+m45j0jWIMKNCTQqW9RAx1HB4qPpiHLvLnsfaKBh\n",
       "DlzjO4moQsizlDONnpk07hQZuqlZSOv4qmuIfsMn1pinlLGubqo5fuTYtt8IcrHdSIt7jv40gIwy\n",
       "PAxHXyuEWGVfNodkf51foFnCy6yKS8bdNlljaOLl818GDy8Pp9AhiBz7FYKPjftkP4tWAcY8cON2\n",
       "ZK2Iwqv437EUfnMV3dYQhN9wcliMzQGEP+ThKRdJnLPxG7u6Ik3z3OmES/UgNR2Fq3iQ7OPz2QVl\n",
       "4GKJQG890FMnv0BEC7WRoXqy11HBbD4c4zp2M/Nvky/w3MP3GvSwZ3NA3bPxhV90/padSXTipQWp\n",
       "d+/BMJJtRU21y9ZOvj9DTsrHVZ4mqA7iaZQrLTNAX0tCjGdVgWGrP7eqTwwdkR2o5mXsweAjXWMc\n",
       "Bhk702J7HnhHAPVUUaefL9wPfrI1QIVNoJ/BMHAwnSaLoTq1jPmciLD4GGSkIBxfTOEItlFQSPHs\n",
       "mdpgU70bC2tXrzalKH4vkS0MNw3b3wVTvIhYQ27WkWHZk6HFeiHUF2iFE76Y1EVXItoZn6QCMhfp\n",
       "sbWcjsdtsxF7/m5awZj9O/ghbCSu09fQr3mvyHKl0zDE1T1F4BqsXJOKKDuDskAygCN9Y2IS3kxr\n",
       "jG31Py1evehsCeAiXtKM8SkoIeDZV1L6t+JLkX34RafCG1S/eslWHVywBocl/uOQa9oBhzV3yquC\n",
       "RDNd/P7eKu5HU0PO/XxY4jx38IhzsWIXoGKJhI8AAAEOQZ8vRRE8bwiJ902K34sdZugAIWd5pN+A\n",
       "CHD9UdJfUvKxwiWNVY8+xWyBczI3vQ59Hb7Ncp4ZY7uYGt7lA+/p/mHOwaai7vqCxjdQ1KcV/dXn\n",
       "bCe0bVnV8cADunUUVR9bqB0SHg1qti6TQpSpCoFf9+zidXHWfT/iYN4rR9u4LQ2fSIsx+ROaSAbn\n",
       "Jy5DPVY9vlufNokmyGRRS5Le7LhItyct5DL0Am0uNYq8a1rutMTrS+39yqIsDdzzQFKts73WeBec\n",
       "+mkKV6C3T0aE+5VYk1181aqISUip5PHi3qv5Lbkhi8ac0iv6XndZSGO3dzxE3pInXBoymruwnbQ9\n",
       "hXx2yNPxqKzK9njE0xkJ8CSfAAAAgAGfTnRF/wS0g+E+ctv85TBRfGKCwdFQNRV7ckNqGX/Puv9n\n",
       "sAMLwg2Yo+NMh+08INrFPG8pl0L2MC5Wzbhe7T6bND+ZnSOn4wtoOFP+uxzD40FJbzfP9gP70ksg\n",
       "BW3VBBUDvC1r3A8bzQTli9TBWz7XzIUpXBb8NS2XJ42JuYWUAAAAlwGfUGpF/wq+/9fLdxU6Xpjg\n",
       "ASuLLbKZwADelC5N3yG/ivt2ESneW4l7nFBxy4W1BnpZM1MRb/mvGP/Hm/Jni8Dac1GOQdXiZ7tn\n",
       "fPdcbEpoVQ9+d/4aOrw6+ytUdnJDx16VbMtBtyZAezwJ4udmw3wQinYt7KVs5BZpeKSHDEsTGH2+\n",
       "V47IA4lZD6pfHHPtNNrD7BXhw5AAAAKdQZtVSahBaJlMCEf//eECOLAqLsABrxswJEBiCsAIW0EE\n",
       "pQvn+DC8ewMNqGJOeqXfRMwqY0Z0Tf6Oluoa1u/QbxfwFQR35lYDjsRxf2VDOT+eUujNz1E003S4\n",
       "RFpNS+qFS/Ka8QAIuof4Bv5Ao4BgxvD+KRQ9h37nPQbLBok53Q5GnmYudt8YFRILSOMHo6bcTqfs\n",
       "cbBqdKQOg0K+HH83fhz22oEOTfCXHDQ+P33ENp3C2SvMaMmek/v6/GGgjCwpcnGUAmsEdXrmCXUt\n",
       "wJ/GUgt6P4IQUcplFK7t2RSeAvCFqAqLj6xzXpMWTEZiyB3lI/7tFr6l81Bq4YAELd28RtkxKQvU\n",
       "crwMcI2I4q706xyPeyb7ObxnnE7jKe0ZyysjGYrv9FdFUYR1SZEoFaIiU9SX7PaKkjNKlGL/mNgJ\n",
       "3d1I0nhZF1ZyOtR+rYhjt5XDkuTLaMNzF/YZ1G0AHNiNg7CTJX0NkRf8CHkHm16A+4fIb2/uE9uO\n",
       "rt6v0pZ/Bu8siBz4S35SnLYWeoEiqI0wWJzAUoo9jkeflyjIdXmK7iPw1cqOmb4IROq2ON1wZFHz\n",
       "Jwdp9r7Ze0Lxk4EYoRaAoqeLQdLpfUFhv1nHIl4Oc3tv5/5Plqb22m0ueBMtmzh9sA7vt31Wb/2O\n",
       "M8vIoyQS3PmbvS1+nXVIUhjIOuQEzeEIDxiqiwa26+iBacgMioFLHkVHaEHLMUJjxKYFKr96SMF4\n",
       "z0JYCSpOh5xnGrTkzfX1mKfbcV9G62KN3/EnwilH2du4TZXiOOxjVCi1WfWePxW6tSJJd+wKQ5y1\n",
       "dv6KUVD1siKcycOOFbCfgcccgYpd2nRtP2JkJ83W3V/rgQQTaPhH1SJssmtk+VX328tOl49NLtY4\n",
       "Tn0Cp15rfgQNAAAA4UGfc0URLG8D2u2ykFHIoMLzppfjQdofTmuUOgne+48tMdNC+fEuXIjyY/qS\n",
       "cazoBYixdJcKOzn0hDRSAECRmZSdjS2ApJNIup+cWzat7pwYGvUF7e9hDXi8W7/8she6/QSLSblN\n",
       "m3uITOXuR0AsyECyqul2a+Z7t2uhbNz36SIjuucQArJNYwtSzZwIsUPTzMe9MpzLLXZnUB1inffC\n",
       "nQo25MpDxe1RUnTHfhIND8imhR1tT+FCnt5s3lVSTjlWaH083RN4AgPshUO6JcEVFwpMgU+twp2y\n",
       "vrOggX6ZW9MFxQAAAI4Bn5J0Rf8JiX7U2hhTQAzh7pcjqXIcudWH6yJtHn7UEe8Dpohh7DYKdJWs\n",
       "6IQNW0ZpKO511O+SqVYWIJwrjLao5bLPJaUbATn+OjUDivamj6oAWK5Z3cAFynZG/WO+pXtFqjUF\n",
       "xBDriR/8ZNDGrc13GbaB6cfhW7eDR3FZGdLhrgmZUWcV1aaSmE8UPDeiAAAAiQGflGpF/wT85+ar\n",
       "gbFTMFRa7cGzXjdzHh+qMXUgfqmfITF6331al7YFiKZCK9SCUI+1i6HOuSL/QU0fYAndgJNq6Q+w\n",
       "YeITlkQ1GcrkNlSJ7+hv0vX7wVLAEyhMqao7gzn+FRq3lv1AMZZAu4S62QFpENT3qZppv56AGfM3\n",
       "lac2WCLGv0XYCGMbAAACFUGbl0moQWyZTBRMI//94QNSoprYAavJTockz04Cf+4z7z/cv/s7/vZa\n",
       "/NZ2fHGnY2OcDTPFkwRECQXslME4KVZDIEbME83cB2+NkbxO7sAMdn81vqC/CVwOCKnKKKZ5iYWC\n",
       "j6h8O5MnVEucgcQTf5letPAm1v7yJRcvQymVLVq0+MSNiYcPVr4s9busG4XSpHhCdmrdePgXw6jr\n",
       "tzygXmDw1VweET5f3IP63eJjqflWAeD9ApJO/NEAEUziTjIm6RtUZ3Ra+rKSCBC04I4U31GduOdM\n",
       "GTcQGI/M3EhJRid9OjkhhrZmK4LJbBi3lsSJpcZEc7PnOQqiaaSDntKrQQaUgVyA3TSniOZOBPmp\n",
       "/6MBMy7lP75jsSnB5piu18staiqdBPK3XUtXOng6brQrZ8Ga8j45C8GwN3siCYbAeyQylymIF06l\n",
       "UAgK+x9mOUUWfbCf/a05AXJKAGYDYuYRlnr2ZpFd1vyclSs3uxznz4xMpLLCzJcCOF1yNcVYxtzA\n",
       "I07N0Nu6ZHcU9talwPyjZ6NS+b4wUkv+51tS2/MJeKLlHiNnuNOTKMLwkrt2r9ZxmayVux3SozPd\n",
       "fRq9u9rvttOh06LpkFuE6RQynnCstemxHSZQV0R3ZV6I1LlA7l1buEwC6VltyNnLWdZ3BJ3dQYtW\n",
       "OEelS9AEZMzKt8r1R6pHHH8YvYQJF8x/XHZk2+b7G7fKgU1yAAAAjAGftmpF/wqyTrDEhpgAElUu\n",
       "KNVjRZDKUet6wi4fqXhfO+uPaKHgHh6QSA2LGXEh1xMgOep8Hy0dYFnVBekhEfDKEEtirssaIW26\n",
       "HtPMXx26S3epSjzN6/aFNLJ+szioN93Zg9RZeyY+Q1t/PVE0ADZeIp7rANdCHUKSMUXGPeijW6Pm\n",
       "zMT7JJJnp3N5AAABoUGbuUnhClJlMFLCf/3xAD9diSM45HdAPg8nxxEEx3oACoPSMNHv2MSJEo1f\n",
       "/yU/f/V12ZTne45H09zFjJJHP94hz6kRUzKnDgnafwqd921/9yVKaZ7ofpXfjjYYFN9zZzsVDh9f\n",
       "ih2SVzspDLJu0nrQYg/A5J0dBAcphlz3o58Y9vNoELKu3dOEXEKgQtZMOm2pLzDuQYCIY+xL/QTW\n",
       "/+kMZB+bEDoj72usfMRxpiAhOD1UiDjss/Xvd0MdrJ5/6i2TCHA1v493x4rJ16s4p0FFvpZGGWhN\n",
       "Ecza0Y4uRchOiEjvnRNxQTdWOSASwvmBGUA1vUP8UhBCJ9FnSU65O2cL/LLk2sSPdiEffy1oNW1h\n",
       "KZyuOavDCYIZsDkX7ylrL5x2UeuuL91WAsh0T4+YN/kM2XF7J3fXuhskf/hfBm0+qiejYKf3m8cE\n",
       "y7CLYmkypXf90m8Gds6cseecoo4UnpcGkl2anEfQKa8ZxGjMlHohb8hfVlYmZVyKxpw/fYd8L022\n",
       "YiVznCVS2UN7BwNNXZfuxpwIy83KN9bTTVpNEppz+QAAAH8Bn9hqRf8E+fbVbVzTN5il8fktAyQl\n",
       "3mA7MB7m6FTcPg/VDbDwAZcpFYQy6UjODcf+oE4EVQRPihLv28n3UPgJ92kO/wxh+50S9Op+TACT\n",
       "Ei9QuxSTOqkE8R1fTMQjdhyJXL5JYSlaRvXim6wbT8rkOFO2QxkXgQi387NKRW3kAAAB+EGb20nh\n",
       "DomUwUTCf/3xAg1S+ADh0IGRk0c31vnq2yhirRdPiq0Y/8EQuJzVo9/13hh0a3udLV01xHPlfbfG\n",
       "RI+YaIoLKO22zPsjes8ZfiAwRCdsbyenEADSs2LjOcU26TFu+DnHbt1MatOIemn7DKtlB5HmZrDr\n",
       "ayV8+9vyltVvIc7HWNpr6gz8OHg01sqVrBKLC+SvFQHdSVy2fgQ6uxAWTklBCHZMsRW1TszxNP8B\n",
       "Dac9IGkHmne+9AKEn+Etk8+iiYanBPO0HR88rxokvzkV3CP2f1IG1UIzNErK3Lnw2A33D7fLpyw3\n",
       "aLRpPE/UgKZhsWxCGestH0wZqJZATNuVfJMB6qC0OSakSIIhMOT6HCNM/8M0yVClzeQ+thNBpuFr\n",
       "7xPo58365icG78HhHNvj3371MPZ5NeYkYz1NOQhywXVwuF0K++It4/Jvxf+5gkWe5XNaKzKRcp6X\n",
       "mB5nxOuyxU7l2ptpH+VopE08JytCrpEKniif89eiXIe+Xg59u/fssQ+5aagyPy1MkV/yIQH87OGU\n",
       "1kHVwUrV2NpLDd5sawlIuOTlXBKs03u1R7d70lgdI/ktajUYc0phqiFlmzWXiKBmoUNLTwSdUy0F\n",
       "zp4qm0AkxRWQ62KYcOGCnydSvIeWzlUIflrTNg0oYIFH8iH7JL/+bjCQQQAAAIsBn/pqRf8KueHr\n",
       "OXAOpwAACsPeuTLPcoMtEZdBmCEmGmDVSCgHrFemkIYIg8rWAZApf1hyKMA+qRQBOme8UpJtrZkT\n",
       "9wtTseIZ9oWDmypffpbap+DMg11StoUED/oX+gA/w7AVLZxeVsxfoL3QGkltuuSuq3Zm6AV1snHZ\n",
       "31mIqkY2VZilLv7CjxfoAAACQ0Gb/0nhDyZTAhP//fEA3eXIADws5t1yPr+9LJgxjnZwtUgXJS7/\n",
       "KJNPlEcxMai0I4pZdBy1KNS0KwUbOkJjN2CV7eHD5cvw7WiUHbACYqGH7qN+NuLCmvk0rH2pwX0l\n",
       "OOF/8KGFTw0CfGmQkgHjdr1MAX9luW7SJXOYzeQzbbLYj07lYajklOLLv3k89rPdFpI2z/myrvUD\n",
       "n422c+tNLXfDXc7PbbgQUKEBJq5juGkkTGb4r8/+DDXqpFOa55Pxu7kC1LTMdoXFyogyyJOWxnkT\n",
       "+0ZY1b9Ob35MnGwqXMH1LgtDbZDs0Ev9OPmPsaDycom/VDWGGIBQiqLkIwGOFmKT85jpm6+F4vP+\n",
       "WadqWft+B4ANzGRAHR5s7swdxmaMfzd8X+MjUy0aKL631OqdgpNgu7bIVk86ioR/zlkzg59gnVSV\n",
       "7TAii+fNi0hHItZQxOvzSwyTj9jszzHXr+QKHoLre77y9gXAhZ35QhD0YA4QQ+AeA0rajkMsEUfa\n",
       "rgb+72zPeh3IxjZIhvPNgkFUFHubZ0vMgD/SZyBTNhaFKPKPhehli5JmnCumyf1AWBpeJwIgQDl9\n",
       "T27TGRcM6QofC3i+g06pmHO3R7Uq9cvM3lTEb6C96rmU8+9EAVNQ+frEl1HWad4zs3Gg81Lg6D6K\n",
       "nZFsbmP+27ghNzrbyPWKQgYzk0Th7edQ++ScR/U4J2Rk5GrLAX/tZwdDfyXoI88keIwXXr29qT2w\n",
       "AQBoLeQPPq5YFYNL4C473VNvd/2W5LkGfu3W4QAAANJBnh1FETxvA9q+EArcGqPuhFGIev+PeqnU\n",
       "rR2cTDd8EhaJ59ZMoeMm7B4E+d7fRC7ZNVWaJn8CHn58Jk8tP2wPQkHi8YEMajxXxaV7ifdg2juE\n",
       "w2CRsBpKPkvsgxj+Yi6jPXo5Yvk9Rol0M1zo0iId6dGDJIFOcd0moi40qOSu3aat9Sn1qybTR6XI\n",
       "730nDzj4dnCyLHKbXT6Oj8VdaLY7ISQhDCvc2qY6P0UFtmSzaXkBFSVYLUNlWp/V+aTe7E5fVcFN\n",
       "fO6IjBFL6A6/SMzufsEAAABvAZ48dEX/BPtN3kNaQg1pMd9iaqbV13UCSTRR9Dg0ntnMyw7odk3r\n",
       "dPdDhJN32h1QVI7R7pZk2hLGCWqzc/nNJH7HZU21mE2yHIyTp+T1wkGwdo6RZXURONdPI8s4tSQQ\n",
       "dhlGolhyzu9beAIuElYgAAAAdgGePmpF/wT66m/FQd7peDbmG62P+0FnQ5x4OKNoT2NtMylJnBiT\n",
       "5XelYDJapA39dNMF4eSgbQS5CtVkgirLlfkP8C6rO128FHHS6Q9Iiw7GLciBPM55hB0VerqgGD5T\n",
       "GhJU+7YZ2s+rWfU/bTqyO8VytF9K+YAAAAIOQZohSahBaJlMFPCf/fECafhAGDf+GIREmEv9DT5D\n",
       "dMswn6ZQ7sidD5N70Mia3yQUeOePY7y/42Lhnfmv1GgM+4UYARaLVwvfm2U2ED0g1+IDEYd10byj\n",
       "0aLTK6zzKHIxHJtFf1ZWRBxAwfwr9RSN9KS4kj0NmRdi5WHchqSbVDLyERv0BfGutbHZOmb63XsT\n",
       "68SGGZYzDjs7ylGnl/tzC3QybC2gkqT/5mSL258Ok1ZmIbra3dJTwhGud8YQG1/VXF+7hPEFd/Ev\n",
       "kjzz25GZ7Cq++60O9Wg6eC5isHT9bK5lB12GjChvfuC/p1eUTTagvyw5Gdj4EI3UPqRKxCjqHZjZ\n",
       "0nEkSLTpdIuRcBKd0h9vdhVyS75XwBRMYYHEWpUt7vXT6M7wVwe17XAaxe2fcEUTc3yh9NOy6612\n",
       "nsLeA/blXIxZFdzoynuRUVT+GDQRyOLZ2IkzRfucNsb7haVXTAeoWcszc+HEZecxxo/dEp3r1Tq6\n",
       "F8CzMvsRc4PDiMc+5tdPsUXO5kXroKgl/gIQw41wBK13kezdVl3Xxr0nFCp2yLC1hs+q71iFk3Pz\n",
       "1BfkXW4O3fkrN1dSYgCLB8VJh0GrkbCpHlE6KkH+sKz4KCng0pk+8jb6JRsHZB2q+NAyaUrj+qDB\n",
       "m9Wv9zdYhVVVn51CSQaK4qgvv7sdZxU4iOOaG9RhI2xX+25nDB7eKwAAAIIBnkBqRf8Ksk6wxIaY\n",
       "ABJbtXpv0rt6wFs5FxMFHACd8cgL5YbP6dFuPUo7hH+HNTPdF6Kx3XLGLo/7mrJ7cJ7MAuHlbxEZ\n",
       "KxP95wZPa2/O6rhlAV0q6dWOC+MqlQGYhFnwjNjEwAsgF3k4szlYdeBvhU1ndxOBOr5rmAQMHOKl\n",
       "I+bAAAAClUGaRUnhClJlMCE//fECDVL4AR2oQfiyowvcGEddiSX/be+6C0fqXHW6anxfXQU9awaw\n",
       "nqfopatUY4QgnDNIXWw7RduPiAwTAi18C+nSKGMG5p4FdzAOMLI/QSltg6dxtrozEflqsjoi+3Qa\n",
       "HXaBP4aFi2r7E81DSsS8kYcR+6pQfQLFa2LeNcE7QRkE0ShH4VGcq3cOyQIjuumRhA3HEPmc81li\n",
       "6fNfMUTFAv6aw8KJvfPB1mtLSDN2BaVL26DRiljHvo+tgmBF1FFEolR7WpoJ4UJxewhX1wT3K5+K\n",
       "yd9oYF6DPht6xyuA2Nq+1DY1D9KneVvxW33hfZGivXhGl2ZVJRGmHEntMk6mHdQckAhoPg0XNlPS\n",
       "lKHLqchQx+BmIqR36Wv8H4W7dijy/CCaYoMga3qzUmnbsMXD+hrAL54X86wkJPSMyTXGsA1DX6YY\n",
       "rgkztGFeL7oaxf9PCZ+3DjFnAOo0SlL1OBoM+QRMVIaDvOgZCZ9HTl/V4ORwS/mEVaNRcdI1mC+8\n",
       "Ky58AXm+f4ujV1NwlxtTarJadFUYVtzKBSRXs0lBNthZ7XenIrHBIdwau4F1jDwEPDT+BZthaAxI\n",
       "agD++lJ4inTYGeflFrBbfX5XEVhOiQ7roxVT8YqNneHVB5HTyPKXYMNU7SnmoEddJVM+Zhd1lWwl\n",
       "8vkxCiCXqNRp7BwINkts45F1V2hxF76ue7L+t5VdSpdcu/jh7/5paFYtgVcFCXk0D65FAba9ELmL\n",
       "pp6O65EtXXd68kgyU16cIej12DbGZiGBTIsFxWPEjQrGNz7yCbZj8cKlBB00SJ2/xZU7FmKGPXGd\n",
       "wMWU4O9boz17d3TZoPgLDmW+hbfXqbz8YaP7BqVQRXSSN+8LKTAev4EAAAEOQZ5jRTRMbwiJ903Q\n",
       "2ztAQAA0zkYYHc20CtYny36Qjl6ciI8MHXRQrlKsdFFvilRl5z/gYL/VwysHMTLIEALJfecofF47\n",
       "m24h9AGUnEwmXk/zpvp2MIlfjZu3echQHTu40DalQ8uXp+y0sF43yodJlyEoBeaRY0sv0M36J9Ne\n",
       "J6jyYOr4uyeLcf7vfZUEJLSvpYrK2eTWrpB7kM7BG3xbq5MA3zB98U9Jvt3L4MUrox8s0nRo+Xws\n",
       "1qGHFhjIC9WJ+HX0rfxDuwg1z2MsbV7lFW8UEi6b0Yis7ggdw7yQBdHIg+QyQSFEGjOmmDwd+G0H\n",
       "PYCCCt1GPzf9F/ONPlHWyZZrjj4IUOOOSWHkdtJgAAAAhgGegnRF/wT9CCxnOAVrG12ApfwKk4Pc\n",
       "oP2CTSJXIAFnefHKgtooWhyOMZ6ajsLrkPhhiw29skO+CAJovcKeop9MMB+RXmynz4lnpcfiadpC\n",
       "fKGhRNsrdzECKlJhEc+NqR0W/RN8qO3lpuVvVay9E3N9837DM//IWsaDL1SIZthI1lPZtv1hAAAA\n",
       "ogGehGpF/wq54ermFD4AAAMAvwkvudJErvwXbDEFBRm8oR7d+bbqssX7uuLPoIgG3XcGEV6+VtTX\n",
       "7vqRFcfm9k+NPZUagFevm0pc7j9iioLpeoxL1OG9Extwqme/brywTMJ/rkDsqMXXRMWXpeUetjVl\n",
       "QrioYhfMh2FdLS21nkVDKJSGFNGkPs1QsUlyFN4PKJr5TN2OTcagWvekTghCdaEOxwAAAl5BmolJ\n",
       "qEFomUwIT//98QA8pxQupBgYAE431U0exvtH9iswwRTtfuLskRDxTNE0z52GE4mT7O+2zvdSpmm1\n",
       "0ANAYlkFWXaGLrdjeOP+CMLnrxmUtC/dhUk2LGlsKm8/MJiLfYUUw5ckFvbZs1u24kHeIFNTDIRR\n",
       "NObPs3wsIdAwoFscV0erpG7pYiDlXHk1iLSk3pWymqT9bWr6QEdFkUIhssBsEWFhz5s8GI85LPWT\n",
       "S6r8vThQXX92xLSiEoSgIYn8rOZqWwmgmxeeKEewPnuQ0CwfCYvTkiahBG+WuNjepXFRSRRiFqg+\n",
       "8wMYDDCTr+ttARoPXMg/Cb3BAGO/Ag0KBr3GKA8cZTD4mZQgAsPC3qONpAX492bWgoSx3BRRoCnu\n",
       "71aLbyfWSwqTrLguCG8O5gV6qXld9kdX057c2ROL6c03dHhlKB5yZaTLBW2UrcXvsf3FbDoM5G6F\n",
       "oX7fH/Ks8sCmzNGYjUE6Hlas4R3C7BhAUzyXz4/uVcinOY1Nyy7a6pJlchbMHRMQekjnot/5cdMz\n",
       "mn7rmik7u0I2FJybv54U4Tg9RZAuw312DU70CDMbAEJsZXE01Cfmw5w1gl3hEIxnpHFJKZRvcuDH\n",
       "ZDS6SkBQwQnUqP5O0VuhCaotmTeOT9ZXeCyiKCx/RoH/K3EJGAo0U9HYLfrG6eGF9uxRrCLSu/iC\n",
       "hcJ4Jde/Y6b1KoiBNxlL9HprbemqPaJndaDY09t8KOELSo6bfHImHjozgjXhqDce5RVOcr3RaRzB\n",
       "gCo4EPn0GoFQrnpZg2KhLZRRZiz5aQx2KRr6SGhsO9kAAAEWQZ6nRREsbwPXa9pl4WACzlkQLDxg\n",
       "hxKfzaeNulMv4OeDF4+I6jE7cPIzqa3djzFLWO1WxckmAS+2rfNHvjYRFuqbPniOhyFDfs8MPdLP\n",
       "dK1CivUjaTuqGemHeGv9m9uN7rXjPiOa5Pu5sLZnSXnkHLS4I1qFPCFIAYEQZ7HGObsUWx2yZSh8\n",
       "XE4A9T6VZpiKL6sG5Mq/Q6BgrkggigE/nYGypJu62gCApFiXxVJMqzvUw2dUxorj6VcC+Nut2ZV3\n",
       "nnZzfh/x48Af2beLc7QmNUFdWLP6O3bjGAQwNpVWj+MyuSp6D+qcgrd2w/MpVD9e+QQnvvNYJMvv\n",
       "U0FpKFk9Pem8rUoKLUK0DbxP6fVUJw5JzHkEdOEAAACFAZ7GdEX/BPcShMb0P/45kWY0bIfVgHkS\n",
       "WEpyxACYx9nE9FI4Js+UvZzU2fVP+KTD9vvc0L3wEpdBQjAaExuxl3mTBAF6EmjPJxz/ntK8Oi69\n",
       "UzoPRF9aPnQJEREJ0Mzbe79PWRBtgX8ormCfZesjGOsWnpG2qvo9Sz0I90PYlXMQlSZHwAAAAI8B\n",
       "nshqRf8E0y79xVUxAM2tM+qigdJOZNgta4pr0hmQ9SraWAD4t7s0rg+v0Vjk277RWqmkg14w+O3o\n",
       "vhJRgqv9Vbrv5jykl+hdPYXFJfiFCzezoKNotJTfQ72i+PGgCpqkPaNCYVRpcw224Mw2BMOC4P0w\n",
       "iob9zxDd3iUXxu0EaB0tkDVdCtCLBKx292XuFgAAAnFBmstJqEFsmUwUTCf//fECf/gywC8LIAZ3\n",
       "PD9TiIZNjWqO8HSnHWovzpd5EQzj9WvEeYcbWgr+o6lzvl5ZCC4Osgj8IPwOlgh6APhwPe4JWcYE\n",
       "cG6Aa6TXo/KngxUJEKNPqrjmS/KoervT4GjuXHRSL1NZwFvMmxaqYrqNjdV8c4MpZoWguvaX7fop\n",
       "sbqIEdUHknGirBjtHCgiXGRVmEQM1S540gNqP4AkAZ86spEg5knkucaZIrPGviAGISBr3AARyocd\n",
       "ZrB2dp8QZUQSFTj+Gl1TaLCk71Cf+NWfuS16c10+xPNEiN2sC9DTlrjwyC/4q8qJLbRTlBvdWdw8\n",
       "lAhIekurrPEVcE/FinHWjHjTq56UtNMTpiHTNkKQE3LTEITcx/+TEHk7Df5wFlSzd+s8C3uR6FXl\n",
       "5gamkOmgLw55mMHMGKVcs4CxGrQwVHILkjsuBpVs8vptM60H+M2MVJx1P2M9bx+ib6qwOAH0LVgc\n",
       "k9WAcLDKYmQ85pV0Wx8rYzo5hYHHcsrUZPr2AKvLWVWZnVksaBNwvTpE3o3+IrRBFPtcrAVDNkjZ\n",
       "qF0TU3NxdreAcUKM+5TveE34naGOwemrtdQ2MXWSQclJHmcXBHMCFJ3f2AzN/aexTMBj/pnuhMQz\n",
       "3c6wYAd9TpSbT2QF54IRucqr1hTtV/SVret0nE0FOFsOaeBCkenX0uOp+0+cVZPAhWOzZB0mXN4B\n",
       "mBrK37+sQa/6fjAy8McoayKzFGq5HNuD5uCAejycmhyanNHHwvvdCFC62b0mii9W1hkd3PDBsjWt\n",
       "YWFxp68bmKq2lYS9BMDiY6dDSEzzE+9NEWAA7MFDAAAAlwGe6mpF/wqyTrDEhpgAEY68XT6kuqBa\n",
       "LIKn1gSGv8sSQrnLHfHNX9DAv1nv8duXLKfRvjzqFgCxi8RV2Cn8AFyWlnOMb0j0xloz3uAmuDKD\n",
       "rh6M/rq81Q2/NAA2u8L2gLnl5d8b+dY3orcw95evr3pbWSnptC7eQknAvm5lodhgq1pbH+YJqC97\n",
       "6+VEckB/IrHf0mB5c8AAAAKWQZrvSeEKUmUwIR/94QM3XAAJpu0ldtSge78G14CnQyZEocWbvgOC\n",
       "lwRHWAuctGWH/9Ej+aDNCPobaMr8YkLrHP9qsuyWhfxJ6aIO9S8jYxWs/yliFpF/bSvKmTzeC7kJ\n",
       "1fJVL3PR3hmfksEB7dnOr/lijub1pEvQFWjqVRvPB32Q6bHgFIKZmgxQ2R+IvwELPvonfmQZrUBN\n",
       "pjw9Wx/TxGFz5vqpjjTGY1Xx2HdaQN2Qsq7BBKl/qeqnhvggMSzgEpk4YrndexBJSZEEFPE7FDuF\n",
       "Vpk4oXEdJYFEp6A/ISvU2Ak4L+ZlRk+N8rxA47QTS8Ehejv97JEzzTzoMjgxa1hJJbj749D42BFZ\n",
       "mHYo/mIVYrfB4QXPL2SVG/XKXV7ZGuE5EjZ6jdm6BGhQSyFgn70bhYPuZsr80Vd0/fAHpb+CZThE\n",
       "dlImLsuAF0waAaRDnvE43oP2/CHZ8n+uhdJGSyxlfp2HUZmLFDKqSkABIDUYcmG+WOrJpEJxQNkQ\n",
       "QhymjVc03tHazqmyEQHpriohhLbuSIrbOwRWSEh9ywyeXr6xRNDY5p7vr4kECtMzB8GPRZZ6mCpT\n",
       "zH2jUeTcj9eSW0ma1yFvWFidYnbkFv+tR1tRNRKKYJM5yF0CUaBxXH0r0hU0O30V/rYKEEQVK/Oy\n",
       "9VxAv+u9+LTLTBn9Taxop/KBy9ObOU1tQnaMqGm8jqhG1xAh5Hc+eE/G9e5Zbc4qRcs1QTy2bwPb\n",
       "yoD9QFB30MmvYxlERE9UXdOf3fgVOB8kdZyzN07YY+oHYDs9SMHuLR67DJSOeynOb5HOuWcjaDKh\n",
       "XFdKc0U+gP9Ye4Jb9JV6nPB5+CRNPeIMlSCPx588lVg7nAwyNy5PBzPpkxph/V5dPNsABOAAAAEv\n",
       "QZ8NRTRMbwPw7X9DCvBzUZ7+x/CgSdTQA0QLBwByQs4QNovrwYRl8smpz2ItiKIZvbwAAlIAAnVa\n",
       "Kiv3Vr08rjE76Oa2UtsKi/Pt1jUUhxH0ac+hA9LKh9KfbYvAuk9BhpTwLn384VAiQjBM3B/LimeY\n",
       "i7Vpi2HTIaea6BWutGcBEcwP90Z5XqBELbV/1nH8lySgNen4gImQFBY2Dk/CLyzoQx5hs44HA343\n",
       "bHg5BPmNrfK9jigSoTXr9WR35YlExasLhrv98au+q4LGSQx3g1FYSEDxoriHJ0EK8AJ5tD3kfnr2\n",
       "iMNnqzWeBvXupYfAuSpuZtek3OtN5P6snNhwYQLgEQKD4fR6CSRtKiYsvrG9TXjsOJ/lvxw/tyqa\n",
       "rEWAVLHhfJAcxa3G7k4pX72BAAAAlgGfLHRF/wTX+TJ0DyCsQnNA3gku5VgHIzFoi3mwfQWuyRqD\n",
       "ss0Z6OD5EAEqA5VcfR+GzwWxU3gW1BF7/um8dTiXnWzQcdDA206DjQsdrC3ftgppu1kLLix4G57u\n",
       "m0kAz4ggJccm2+oiNsYg74QA8zqq9GQ1po39EY8d1DYq0Z+VF6QEiJYioLwuCtulDH4igbhSuqbN\n",
       "aQAAAIoBny5qRf8FIN64alJugBJ040E6P0wjsWgAAHd1LDOUY+vadBPHvJgg/jR+WCsg5nUMQDBv\n",
       "LH1xn6LGDhflST4tso+/PYcq5lxNCsnl4/ppsDa2RSe7mXIKAD0NsbeP0fvddEb7UdxyZNDacYNk\n",
       "kN31zxnI5y06USumMeZcDJ38PERXIH2c1lkCG4EAAAHwQZsxSahBaJlMFPCf/fEAPV3fIhdlYX4H\n",
       "9SJgXWEnttBCMzKbtUoc8JRhKerxdBddhpvDGR/6p6T7gM9FXbKCLwcsVustpYpg5Tt6PaTQBJW0\n",
       "4ZDsqE+PD0QJkL0ZDar024G3rEcHePfvJXwKIbH2w6wkT+23E80OkbRhOQ6I9jz7F/fTrtzpsdKX\n",
       "YuVRksAb7zqO5fsPBJmNFPilxex5Z2JVqXnI9EVl2MPoxfIOxza4p4upblJh8YxwrYQ5RqfCOwba\n",
       "8bY2fbfghwFSuXVKwgpNsVxwOGZ/yuyrQNXzAkRZRF/gPT07ES/Vk4x4ux2Quzmm61PYtkT362MU\n",
       "EAR99a4jUU4DCC3xZRXmOxviVR7AqVfBLzkEY2DGVth67JZX3xxzLgKYVPzXlJ4mjLBhWou5Eve4\n",
       "xMGO5+sRL0aOcml7vGThT3TGgW2vQoN8POFQTvLKNl6ssmb05lfAJdMDJ+PLIsNhMilfUJFTdRT/\n",
       "OjSvhN59KJbpnXG/KH7hNQ3dkcy52zR8OlX8MVMognHB0mf/9YX0xJ1dWoVwA5uCmt36tM7aWu8d\n",
       "SUtUSFSbmm50htYvCw1SuAi7WEAHp+OVuWvdI/1ST0mAm6CDOvaFaTyV0O+GALwjpqyRa0P6jFF6\n",
       "TTL+RryTGHCWNcFFTj8d+AAAAIABn1BqRf8E+Gt2xKFD8Uv/XFWpfByCJ/UhSoxUZaDK4JLvv/r7\n",
       "KQ9a9nsLxUyNhxJBc5j7FCadAylT/R9lWbxZHJACrtepLkuZ7d7uNQkndkMWzZ7L8RI3Dwb1hBIl\n",
       "4aqu+JQm/Z3NhC2szagTBoFqQTGiLUzt+Pk8qg7oDWODhAAAAf9Bm1RJ4QpSZTAhP/3xAD7jBoAA\n",
       "hOGbcb4RnNXKqa7ZzLpf4pqbjQjectSLegKnUyjcM8PzIqWpDfwjQb5bRTEcI48Uym6QKgKC7Q1Q\n",
       "FB0YMYGPYvNg2igKCtrR+ZSHpnjac0qpHb4QChHAQzp4YcOO4pZC/7yXXqEr/SdWRzORc5dChrZd\n",
       "ITzkXlVj/ei9m5dkndg1cWeJHPnoOAOQ0rZjNGakwOzY0oaTbayfQqmyE1TuV/+l0BXPFYxXiRsL\n",
       "zacjfy4nKxv49ucHAaNSRaa76FbbvOaZ2NcdrkMcMF36E+QprTD5Z/VTWV3B19IpEjmzgsj5WlPA\n",
       "mKycVLwQOoNxeQG/weBNt2OduMGv3DEe6zL8slVJoPU1ERWaaBN4Z5gQZigDYbYEbtwIzkOxgVUc\n",
       "/ErVWCHyVtF+CxgYT+Cw6mYI3ihe+Q+9djE0uhLQcfp7viflgu+i3GJtzXFeewxR0xWbIrJCsioj\n",
       "avCQtdA8gEmscJlTSVAcKP3ML7VJPmippWK1a/ghzgjVeJK1f9CNuBTfO67IqVsIL1ACk6FS1Tff\n",
       "Fvl6n4srGPOGaV8h4KUYtE0Yosn9UGbGhGzRsg+5WC2U83ZL717QRq7Cv4REjerkP+az383twqcN\n",
       "aPMBQgDvAZuVUH+eTOFzNtbqNAp7MpsFvfANBz5UG7O70qfRAAAApEGfckU0TF8FHzRpPf9/VYnR\n",
       "DGo4MwALZzf4rlFoABDKfutRa4DnpETNS6DuQVMwk7QqWu3MBi+r/CUev0trFgeIcGJY7Kfi4iuT\n",
       "Gth+06LgZ401GBtXv4yIIqEoLX5qSOQrNJkWDSLXEN7aoN0us4Mgke8LxU4yfnQLwFVDbW7T/LeU\n",
       "Y5aW315guj0UaANcU77RoSWz8g/8tPGCDFsNM1HPWUorAAAAggGfk2pF/wUg6SGD4JNhO4AAASp6\n",
       "uRSz7pVXC+Ous87y2w1CWdmfcYUWzgWThOABJ3Ekd4tP5jif/RSPMyoxK2g1zDz/ybzleTkjIyft\n",
       "Ey5+7Tv8y/zHBt9jeNm7Gkht7o4MIbEvUQ4tUpBOnWBGRe8+ZI286gkok2ttQNVBrId7RDwAAAHS\n",
       "QZuWSahBaJlMFPCf/fEBGm+fZySRqAyUWmJVSvhd+uHYBw4AdahtDLUnIiA3wNW/EixsXhOyIgOW\n",
       "OuKekXRGvbUoYXm539ScQxeEcnxdEqSa4CMNQ3c866xDYiWWoJcOi+iu5q5ftmD8koCT90et7OsG\n",
       "QoFbN3ef9r53XFI3ijzW2iS4HZUCYYD9aawBXxOGYuxVeZCT+q5ai85FJ+n8ZWoCRpPJmlglpcZ6\n",
       "NHm8ZjU+Xvz1n7JoHoa8Fs2xi2+lIbqM3db6SuWp3olPC6a00B91U4+iC9eDjsx+9p77nbyL62Lj\n",
       "SwqXxWLoq4FevIS/JPtw+nPTfuGXQyGt1Il6vG7mUWn8sqKsxODd5rTYdO8XSOyz5dWIwzAfzKNn\n",
       "uZAvVmAsQTnIBj3vuUIKMOoH0dVaOIZVUcanCTM0jE9ePbK+rNEFG0Ln75DzrPd6CSpwNEyro45W\n",
       "lZtuODrE+g+gl82vKPO9emPQrPTuQ6JEf3kMPm0j0FTvzy8eiWU9E+lNOYUAkJzb0o/nF6k3KwXG\n",
       "uModf+hJgLz9IIxbAO7MjvKWgL50kUKWdvB3EQT0T0MhKG00XVHmkCNvXDOFhp1Ayf/J3JT+yi2c\n",
       "keejMacGXCnWQQAAAHABn7VqRf8E0mHBjMWb32+jIsw7DRT7WjnSZlc0lNoIN/G0dSHc6UG5Hs1r\n",
       "zVdj3xXb7wp7E/JbxWh9T3KIQDvXTYo6QD5ouRImknQ0Z3tbEiTmfR2ZeiuRHN+nlA62sKckTVA8\n",
       "oBy5Qd3OH20e8LOAAAACeEGbuknhClJlMCE//fEAPuMGgADt1aa3ti6SR4u+ozP6Ze3TNajaFucv\n",
       "lnldI+MZktmd2nUmb2Ju5RlbSUxMf0tXnBQNR41uk2sQxQZSnGf+BNITyLmcoI/DSHfEZA3hPlF9\n",
       "bhgnrC1EyuFKSyrUF7MeTuXjeIDw5UGndxE5t0SysEhu4pCG+KwBRDxE0NvNtQ0bpTiwgUgw5nWg\n",
       "Nz81iY1dWIBkBvEvZBDedhAOSlM5dMB2dy49LoRc5CMAGn5olAD54zWsmZ5YQwoMooNiEckfAcOL\n",
       "raZANj/2sXgxGp9Vsh8jvfSFi+a+MEQIy71RwuYPOa/vuA76BmVezqNkb5WATuAnnFCEyxvIV5mj\n",
       "C5DlnMdlc6DToXULlvjLF3hgRnm+QNMz1tSnPncdLz+MDAdS/gIl0IIIanYmCdyM5HtgaijyYAOU\n",
       "1HJ1VuoFo63yMJuLxR0kqVrvu0h9vthAak0VutpqPUBdSYB6+bEdW8D+HiFTO85M7ZssyXTQmosx\n",
       "F+Ij8tZduLmwkGtAgi5iXlN6L08hDjMhcIyLm+CXpUSVH/rq9bRVeETVEXRYqH1DvhrefG2g+wA2\n",
       "/lR4I6SzTH91ARAl6TjTmqP3sxneToonC3/oGqE+rjfoHGclUTNvCH38YomCJ1gaSnMRJNbuhnDH\n",
       "P/DEh3qqwvGiZXpuEnb2kSa8uGU+6SQLn0WgfelnevmweGr857K7noX67Rr4tX0ATe4NSW1I82VR\n",
       "Tww6ceFCYzWjfe477oTuDAXTZz/2arfudExHaNiL/ZhsHQ6ihp4HxK35U4PXwUTBRVgkJ8WGGNNS\n",
       "CYtttRoKxHnphFe9x6p2oI+8z0nBAAAA8EGf2EU0TG8D8O3Jm7lY9wpkrg9lOgAsK7AEUVYa8tFK\n",
       "WrYTr5447wNX8Fx9rp0U6bQphnhNgiYfe7iFLY0TEoi55ULfNsewg2WnqwteRW5GHb/UwbIqhE/h\n",
       "HCil5FYadNtgAn+1ArrufD7bRbW0SclpqqWTVV5jhhBBuFbkiEUzo/44wRFJd0mb4FpdUHYHtg6v\n",
       "QoENq2BlDsjH4l2r6jdx40YomfEVfZknjwrgHkPILKFaHIwxfUDIDXdjKmfmfYRX9PEn3KKuzree\n",
       "xv6bcntIlw/gDdfvUDYZN+R+RDtg4Dlar57KNurP4xFT2a9CYQAAAIkBn/d0Rf8E0YegydrVmP+e\n",
       "5IqLTecrsZbicAD7xO8c1+vd/5xMYKM0tcMAXUDiD9l3gjTqKX2WTVyusJEWw5z7j/gAziPCrL5i\n",
       "+fuMxQc6tZtTHApZB+ALp2OaYNe5m6pAVQj/gN7zpn9/m7W4Pk1G7BxQv11V2kVaUN0+VQSpeYVD\n",
       "FVOGGOYepgAAAIgBn/lqRf8FHGLvpFFTjOtT3Fgv2L4oiErmNC/taBgvmnwDZ6xlWmrrsaiEwGxD\n",
       "RPjLbEN9x8F3UkGfj1kxiA8Dt8jkQXEufZi+ldrrCRUkkYww5rajOkOqnG1hL7ysoFJJDX3Un3S7\n",
       "252GateZB6xxTgTMip4JATOe9HDaDrITlnLoGWxulfphAAACVUGb/kmoQWiZTAhH//3hAGOB6Efq\n",
       "41XVa8cEqJYfGknA3jdThwcNxaGfQK5I4M42MA7Nd28sbzjtBOiwegDTV9haBlE9N9V8xX2kAC0P\n",
       "htr1gcIGbC/FGcdKblGzpLGWlK4SnfbFUXk5TFJoWFgAMq/bpRD+5ZTtR9riwVrNwfWU975S5+vx\n",
       "Q2B8utVQ5mMwX2tvnocY7RD1wnsoIQDm5MQ6usQujQk8279d2rNjoZta8iqF277tvLNWR9yOh6J/\n",
       "PVyyuYk/ZMCXcNxGhMd+S7suEm/HLGu1nwHmBVJDZaocT/KVM8y3qmeQh5yHvx/u5rBZi6AwjX0R\n",
       "7f0ONTXyz3l/uj9sjFBBbTNVGl6I5W1QiBlbdnmLPne2JWEL+steQ6lNU+viQqPTavXXSKKD8iht\n",
       "FmouPpiOv95UkfuZfYM9qmDEetlfH4sgYjNdb/AOFk785JIWr4qALDgCIL785M2WdxKcsbn8reYu\n",
       "owlx3KQ+VJDokXlFkFpzdl8r3ngU6c6QFR0o/8wbP4STB0Jrqhey5I7EQoRZkMgtMy+Lde8aM8lK\n",
       "CN+HGZA96gnj4ZNZTAHU6L/AXz0X80WvmZPT+IJQrD5iKr7+2Ky1CCUuaA2/JdPfBEjuWaEK6uXC\n",
       "H2i66Dvk51Z4QTz+oG2ofJlsAcQzN368LGE6jzMD96HeKxQeXrtaKqcmHNUVkS3Npurb+jNELF5N\n",
       "+CwdgqsQ5GA4oyopUnElygCy8M9eMxXocd0rIsHbVU2At98nmKR7v9gEHp/lNvqjs8HgsNociLw9\n",
       "R3r8h7pNgAAAAOpBnhxFESxvA/DtzIdkUvsyybrt4/t228PQAfIAqxXdvJXcnT6qpRMpKrocsTDg\n",
       "KXN9NthskOlkWQGlVHKMVU58WdWT6f0t8cNzGkZ8KtIbiOKD38MgzWWdtS34UOTrVNHBpYmFVyhn\n",
       "6mLo9keUSMonXb4fjjOIlQOxnd1NMFfZ8YM21wRRYNM5ycZKJXPQlEDOba9GeXpvCkqypXGqMfgD\n",
       "nn8wA6ewWRq+Es7mTI4h4FVRk3+lgPa770dg3jVCl0EL5b5gBKpjtffWDofD0apq7p4yu8xiGnWO\n",
       "G68vlr2FrV7ET7AqfoGE9aEAAACRAZ47dEX/BNiNqsP+6jxvJYIFdYgmNSqQD+hUBuusvvix3712\n",
       "fDNqr3o9hkzqBqgUCDQFrYjyomwo2zkX1mcoIHFYLjn25+zrEoJp5nPpLIwTl3nzfLGCmURDeSJH\n",
       "oV+2EWA29z2+H6J+aABJvK3fcs7DRJSC0vBSEXlBNRjpL69/yHlwkbVfYZvCS0xH9ZMpUQAAAIYB\n",
       "nj1qRf8FIOkjLv//OMNUMNFhRiTc1dojlzW7R5YRlPksev5IAo78uYkaaNVISV9mrF7biozyb9T9\n",
       "BhsiTcAzHgUzMDmpE78Xi4kf1ZSA+J1zifcEUB34YFPm3YwuKlvwZRcjqOFmXCAmdNFTfG8GyT/D\n",
       "NACSgStp6WiIACpJcC//OkhD4gAAAXBBmiBJqEFsmUwUTCf//fEAO1/I8BIJDI7/ie+hbcsRhNiL\n",
       "54we1aoUAadDxomRqytoQQr80X6F1bLt+4z93mcbJTtU8Cy28rEKZltr9smv6k4SLF54+a+I/JA6\n",
       "a+YGJtsoQzfZL3Qwhm6ljZg7rvb1z7oEFXRsGU53Ef1Sck9tcwDqd5wt10vvMAItgBke+SQGIYeW\n",
       "THb69NiIv759eCsYyS85Nq2LWAp7lYXynp8n+D4lTfKKnQ4BX0eznHwYNZNt7kXKlpEUYOSrawo/\n",
       "/zFT8KYS6h2ERWg7pHjumpfiHrU+L1VGHrsQqiACtjv6YW2RfEkUrgrqp2z3Xue5Z1cXM2TumSGX\n",
       "Oiz8COxeVH+uLxNEplYsl2a6L5RISKZ9yzuXSMb877147kLdK7l9u6mkZSOtXl+wq9sk+X4IHOBc\n",
       "FkkqTpmr0esrUUvPsLR7nByLrrv/6HL1oG3a7wMK6CHn/UYsgd8Sdvu5M8GBiiyHHgAAAIABnl9q\n",
       "Rf8El8pqub9HmHMM82EfoFTjCFnwqOo/i+x90ypCNWMj+8rtXHfUJ3akiG097puhmITwkIJR8KYE\n",
       "Fl+DEjlAfFLRv1cEvZXHp9C8fZqOHjwUn54clhgAloN1o7sCDO+Euz0SD72pGmefha2QE9ePACtS\n",
       "P+ndm4/z0HIFnQAAAa1BmkJJ4QpSZTBSwn/98QDlO9EBmHZJPZgAkQgj2UxVGsv50yrjXeIeMolP\n",
       "scsVG5g3C2dO7gPGFs/UzcPsvnGssXIVmGxZReE1P2zepccmV39WnRa2PqqVHOO4YzCK/Dwp+hBW\n",
       "xtBPatEgk9YDoKPoxxYK96N5NHZh3JcoM4NRDXvkf27IriQ7r7l6pSxl4Zwj54rR2JD9U+J7pMLF\n",
       "Ggs+8+Xg5DnBRUGud7Fxc6rPEdaaLPkbGFijZm2gepksG2CR1Ou2//tY5g4r1EgUPw+8loP2V98P\n",
       "R+j3eskWd+P2KOdMrI4LNkYHMFRubSGrVgY3uXnpPQP/h+jE5hydiJ3Skl0Oe5pGkWQWDm782B4G\n",
       "571rM6oepU/G2AnsTVWolNzALWtw48SXUbQj0JX4/G2SKXaclyIqMuzc7f3PTIog5isGr9SXx5AV\n",
       "M/ylb+DX/p/uAXaqst03YpfzwQRc8dS/Vsy/SWG6INNU/66TS76IQM3dfU/hplH64jy1QCfU+bxR\n",
       "2nUVI7U7WVM0u2UHtEIiD2Ip41YOGcBDk7d1myjn4z3SLXXjVmTA9NWrFoAAAACFAZ5hakX/BJcq\n",
       "kXJYPw11ltNlYYkX1wFt925nk5zzm0ZMl5vSypXnvCyKVR1nQ9wu2w981Olx6ETVbEBKp5tlnnqM\n",
       "58/SMIXxtqr32OxIn2ClUwYpqHd/EFRQjs2fCXzdDwa3qns74CPhRWYbX36ti5iG0MAgTEDy8063\n",
       "m3JmuSSo81MPOQAAAhhBmmVJ4Q6JlMCE//3xAD7jBoAA7d1Rn1vm4+NpW/B0BckdBrMWnHafElVz\n",
       "EJ5Evn8H3/whONlLG4/lWlT5vLjSYVUZOeVUIYATj9LeNR9CoaeqnjQKZV/EeiSiEcyqjx2/haHE\n",
       "kwOC31ONby4lCIRh2CUyqjNZdOz6Dcp5tQSSsXV8ANYpXIiqpyGLKC6dZE2fteadg5dR/+xWASLA\n",
       "azZr/3I8Ig6zoxb795qusxE382r6TW+Tc8H8geoYweXko1Uk1WlPWrNvG8wbmgQxpR+AOMeuNzAE\n",
       "L6eBPGKVbQVwS4Bo+TPUM8tn5zK+aiS73uzMU1VQBQdojJXyOhoVmZKFgrxYeAfnc5AEImRuIDov\n",
       "lzLngSBiEAPSuuV0k6WECCumZB51ibrFKOjdR9IBjkryfVvo6xVFVZgLfa/NB1s5jczliW3ehmcp\n",
       "NQiOudYYDRdk7v7MzMGXbOb/m0k7KlRVys5uximhsMbULOABdkj/DV/3U02lA96PjFQo5NeKYuL8\n",
       "zeGEi6tfjtLvd1oeS+DN93I3gEcH7zvfA24++OaT1vXQw6Iizia4KIM/6GyTuDrXgAKvyCCzJXMa\n",
       "atFz205jnvpP5Nk4NRBjme764Nh8O+5horEILXTTSwFboXL/PvuOn53CDwcwdu0yxxtoHhucJJem\n",
       "6ke3KdrBdRcvur++Io0prBGxTxrbZAi+xCe7nESFbRBJYuWsgAAAAKJBnoNFFTxfBRxikXUyMcXk\n",
       "wJRAcCusyFgM9yjQK42Hef348j4YE5mogTUejUXXZzfyCKMREK/ljmgf6tu4+0ufYk052v5PxD0k\n",
       "g0H0Z4jarPFirxaee5ulKsVLJcgPprzoRABxyUSnCSejNfpFRqepAwU8hU4mDKWdNQzuZEIpye98\n",
       "Ls9CjANOELn0P505XwNFrqAvGtgOL7B64K+8v3YDpREAAACEAZ6kakX/BHVn7xfg0ZsP6W4Fb3Ja\n",
       "cd3UI4MAM0Hb4ZNCOz9hVPmYK34oPXWNSNkZHm/zzuRqxgIlE5gnBGNJwCN+r1AQnUSdKRuLBY9k\n",
       "/33mGJ87VUAzJSDfvMLjyGkKZUOBsZ2l87rBS3Zqp7vBS91ASWp4Zz2eyO70dRF08Mwahy0hAAAC\n",
       "IUGaqUmoQWiZTAhP//3xAD7vWis+LTPZ31vyYHpQAlwBk56wByxDAh1S0RL0X2gQvPcMEkxj3x20\n",
       "ansymTdBlTyZ++mEsJZ2EMrHX0PxSU7tgNeP68H88O+OTjFn4zs7eokN2RL4vfbwDHdE60k3GWtT\n",
       "YoprB3aPCGnwlxVlXCm2Pb7+l87fJ1t7wOD2Cv0BXsrobWLmdKoUb64cM8ECkif0+I8siB0P1aEO\n",
       "D0KY+BNBXUAs0VbUL/REGvJXBgrGYF3AxfR17ns+inOOk1Merx7AxFqaV6G0sDCCtFW2zmed8MMS\n",
       "aaCTZbuGoTlo6ovdVwjRP9F3bWt0yCaOcUfz9eJwQq4jEwsoH3gr3TRtjUnLKSTHTTdhGkNy5clf\n",
       "RWLZWAiC9MX9CyRTfnVmSavoWZ6iK0XsNsem9pdS9tb5bsUh+ZPav0C+E5u+sVs/iPLZ/wI5Zhdr\n",
       "nwAGMG5b7dWyebyqUGJu6ha3ajfVTUJL2GoA5Qv+p/P101DhaxUTg1fyBQduNoBaco5cYqjmfRhd\n",
       "MFYcW+h7yVSW94eyohMOvFeBhrJGKctc46T5lW2Ye5HOzmH44G+F0XrW+muFj7a9P0cichL5Fylh\n",
       "zwSXYmk6Q3fmK7rqxrFVUoKKOwBI1LHabnPZyLy9ikJ/WTBeNSiU1jPD2y6xmzh8Ob+RM+BQ2ONO\n",
       "M9vNlo7mnwJaMFmIsj0MaIo9HKDQ5kT3+C+Rr7jMTo2JAAAA5EGex0URLG8D8O3TdBvSm0GMgU5X\n",
       "QAlL3WRNqa2L2LLQtyLNV2qE2EC6eKPFLN+x0MkV9Rj7oj3q4oJSLkixyI2NYFZsdwyxpAqoQ/wX\n",
       "QwKzrVyN5Zp47Ip2JeakX13ZWifgTj+2qPyKpvmNpXyX706yI3O2trct8OmwxZkdz7Nbg1s+DMeN\n",
       "EAvDGXfc0ehqQDkmP8p1+sOclXuQRgeERaZn++kR1Gfdg1MDWxn0f2f0/in8ZC36lPnrHvVvrVH2\n",
       "7Df4f82NfEKFbPBJ80Y6dX+K/gHnfAkzgK1Yw7FDtDW2O0bMWwAAAHcBnuZ0Rf8ElIPhOup/IZeX\n",
       "PX8baS0Fo+utYt5pcjOUpsP6On4OxzbB8dmMaehN9qYNttDUeGHJsmHalNiH1ccXL8WDIJZtaFxJ\n",
       "NJdTgLfHAfqBIH+nJuyLbnKUUM2LmSlLUre9NQUeGO7pQOl4ZZGvPXBpeh7L2gAAAH8BnuhqRf8F\n",
       "HGKRbgs3biT9vBwAJwyDZoAiboFkOpIj5eDMh29/zQ3oVHS+3O74NQssQL5nbtCx0QiHJCcUot7B\n",
       "03cnpv2F8J0zhokM+A/MRmRf+ZsKRCjI5C+YLr6JcS3vBFGdTHD1gFD29O9Yr/hQNSGY2dK9dAaw\n",
       "3Vy2z7fNAAACN0Ga7UmoQWyZTAhP//3xAD7sOKsED1sUBrVdKAAh+dq/Uu/x5v/Hx2Mlua0fI5m6\n",
       "c6jwNVnsBm/jFy1wyXMINoS/eGW0vUgpCVOx3n6n/bDwV8M0BzxycnD/YXgU/UYKvIx+iX+10G1h\n",
       "LnxZoH1wFr5WvR6U8F81ZE8QIoYPwMT6a3jshmYXh3y6xzwMR/Yr0yXeg+AF84iI2zawRCtSi6B/\n",
       "JgGp2nQLPC0z7pzmHdrDfYjdDyQrGjFGKSoW5v9Hr4k2IEdZiazggKWNcUhpgBUlvL2PBcIhbQZs\n",
       "KIANBqdwrBz7PoGqINM2g1XxPm80cjg08x3PSlYhCLKiYCr5oMeOBU3iAqAbG+0j6gj1E8w3tvGs\n",
       "8txvez5aY9hQrZ2wBrHZTumD1ZP+uaJKFT36w32bgGPPbGOOTGpwn8yh2Cot4JzZrWxqBTcNwGtt\n",
       "lalRmBMCj3evZra29OBHZK2D+pZN47GxqWDaKxzDy2p7BQm71palzDLaS1fq2FASvsIivVUImGaH\n",
       "i7+PK6rUoQawV5gbAOLdbTDaiVjHUiGRMtHL9WF23FiqWGfFXA3y1rFUeziun5xzw99K2TnsUokl\n",
       "HMRfkhgcsnkr5+vatwplUTMyFlaEG3b1G1oWW/M8O3n3j61sYuJ9CIAkZgZd7UroizQ+MA18W2af\n",
       "Jv10emKnjwDD2NW9Ds65iiteOGqt4wDtF33oPzCkuasAqQimZYHIIRXJ6XgQvX7qJx84AGkQrxlP\n",
       "coWVdMtPyQAAAPpBnwtFFSxvA/Dt03Q32wE8FSjhMWgBKaBRC8dzDBawvXNWfbKJfKOJO/t+qh+i\n",
       "6gpi88OmYYEKIB7eSlenTNzd/8Xjg3Fuv8N2acc+eQLAUmFbDPuerHKf0AZ/IdhJ8wgUXANlgvqN\n",
       "/EzmlmYcbYJ22LDEbqON6Se3W251Co5k7no731ORS8V3OD7yP+qCEawtjYc+CtWTMWLfj+9nJwX7\n",
       "NEQpeOcmA/kA0ZumVJ2cSrXVLLUzg6IwgUXfBTTkaYIjt3iHNNcr2A6YvznZiVfFbpaBt8aTY2Ra\n",
       "yIx6jaS+80E4TVBAzaPH+uwt7vwStGGtX/Xz8Pexr7igAAAAhgGfKnRF/wR0ixBS1WdJjSUvLt1U\n",
       "x6kVqv4ohg8vgc4JltGAuq5ybzlwwX1r1tazPuWT4ZrD9aUadGHkwAmNyYGCVgrxborwcLvxlUPc\n",
       "+CPs4DOHrjmK0a3qa6aiGoVD1ZoceyJYgX15sVAhr5f6ko6lgD9JNvoTROFZkwdY2EBRiOLcC9uA\n",
       "AAAAnQGfLGpF/wUg6SPgwZL3gA/EJyUBIopMWv7jwFCj/AakZCEI1JKquWocSx6nUC1JuSBLISZN\n",
       "ev3XNBm+f4gQwKSs9ikzSyd9bqZMobUgQL98KLuho5bvMwUKXNvOL+7iRy7QN+rkrg/Os1VkL0im\n",
       "lAoit43U803pzNrMqBFnncmwAYifkrcSKlZc2hWSWUKo5wGe5eXpETaJlim45/EAAAHnQZsxSahB\n",
       "bJlMCEf//eEAU+o59QAIgyrtKLPSz7vkR+FhzNTn0ZNQGHgiKPpK2hFN0kErXC8Wkcu1KzcmLAID\n",
       "WhHfxJceZbbtzDxrK8BLihO8Y2L4YEqIsu0GXvj1EejHlXZkNTWtMPh1Q4ikYMEWBEhSfKBeqfy0\n",
       "9VMCdoiMvRn+0DKUmtnPpK4mgaboYLHA/8M1IrJkk/pVqjmVfKLI5qXPX5QMRM9ykHfLDBsA54Xv\n",
       "aOzdGkecfmgnZh6wa95kYt3OABHaDj+lPKUAVr/hqqdGbPzrhghSXjahCLzgaHr7qB5VcVEzLJDq\n",
       "sy2qaBmLJwMteCKD8+Gjd9Qs7XWj2Mu9mmIEmjdQ5ylGtN/o/bmvqvRha/uT+Lxq3r2QQI2R/DNo\n",
       "Dyq3vI/z29pDicKjUtzEkngk4r5grvMYKnHn+V6iw9PmNL1iQ/YAycDMsM1ILrmqlUdsG4Bx+35M\n",
       "VwVrj09WHcdPoJtmJ5e/T9FMg2oZoTVMDAWP7qEH6UCZS4n9rddM+HBXyNG7txxrrsl2anl2Y+v7\n",
       "yjo4NDhJBqQYR2eGWWPwSr9cnaPcQ5b20M9GGegjrYtBaKj1rdqva1TQv50lKnJDyD2dKFPuGV7r\n",
       "VG2VhXn5EWx9KVdsKX1aLPhFecdI2l5NzwAAAO9Bn09FFSxvA3Ybsau4AErYoiRh/GnlRFRCFPe1\n",
       "80RcpCwUx3OVLAukilWEwVY3XxB771kwipl1xGUTMENdCco5T0AwOfup2LLNZSscTEHijjptJLDt\n",
       "kALoe0v0tRU1m3DCFwYLyX5SxB0VBQpGcxep6lnxmD5Dty2Lw1FCJGSE959F33CeBROkCkv1Dmww\n",
       "SSUWlc4HZEcuN+NEyOQ2AQUAMYAbsIRd3xIl50aIfpe2XqpHzyEb66h2dv8+kRFPxX4zpZQMNYdC\n",
       "2EmskAbOwAcvFcCVVfrqsoBVrdDRcf/LcIsrZyPJVr8feIonTxZ/wQAAAHUBn250Rf8EWI2dV4cU\n",
       "0wwc0BsaCm8dXg1dkKF3Uwpqi+hVQbVdoKayqrpWNXEwbMQs+J/MNcxQeTQC7ZJ3t5btARzYkwE0\n",
       "zFtH0dayO13lMxPEinOVEo1kcqX4zSl5l/KW3Hb0+lm6IcG+Xn8FqY7rYv9QVEAAAAB0AZ9wakX/\n",
       "BFV7AhMOL5U+GFNXLCvjwnvQO1dU4GES75hK4UV5GduDyeq9bGevKvjtL5f4cuE/KOmHJkv/nDl2\n",
       "PZgiWyaIHxUSDnjgcEygXKfmk9ddW54WLULVFrRBZavfUGQxeY33tPmABLX+ejcESksMh0AAAAHh\n",
       "QZtzSahBbJlMFEwj//3hAGNxWcDoAsHn/2U/w7x+XDpDz9XslMw+INQ6Bse/iLZIQTijkC1pBTMM\n",
       "vxKmEzJDsNPQyJETIPwa3TWgAmxIZwsbEpD+vWqFznNnqQOZ8dPDJ0JY7uoZsxRPbsQFYPPSAmGV\n",
       "8fGzv4T+lpiRCxDRfTPVUxRtp5b1/tsXPhNCTBBy/H3utVQXdX94p5KCFhtIW/XE9JLplvrsy870\n",
       "ukwUrsmAwpMn4K3hZoJR1PEu3IIWC0KQHKn8lgP+10LZbuUaqE1BbFuiTEbCstwB1wLvSjQPeKCG\n",
       "dvW7dj7wgNeGJKzLZxWcfeKRUCb9NF/5MtNk0ibzjhULdeCBGPG4UFteGsH31eMEvHOTKo3gM0F/\n",
       "S5YieuWGqV6qapuEYWg5ve/5MFqpvCf89oda4zdzjJLb1MjqNtlqZtmpz6j6luqgCKZWYYFzqBnz\n",
       "bsOZfH4jwOAxZrSEm5nmZ+JZ8claz1fI8wGoClgJP3MfyFq+OeGImTssSW3S6IYsz9Bh4NYdZ1Zu\n",
       "jFweyknqieYvKD3LQXlh2orrj558WhDrhSI7RQUFh3kS4FmKNodZKi5sbvlxsmqVMO8zpcAkqqxO\n",
       "qDcpIV576C6MJCzZvmW41XM2Z36Bww+dgQAAAH0Bn5JqRf8FHGKRYX6v1uPNpcJl7upCy+fd7O7K\n",
       "3eaZHezIju4B8Br20tOKYS95emBYWM5QXHEn0SJ2Se8c8Lyfj8Bv1jE++e6jc01jwT4smUSuOFnZ\n",
       "L0EsC0O0j8JBeV6Go1SmghHB+oNBpvzyKk03x+BMuy8dy1or5OHTLgAAAaVBm5VJ4QpSZTBSwn/9\n",
       "8QA1lZXijcAJcpJ8aTpfg1u+94hHHuj24M3JaffysCA3m/3Z4/IqJPqn8RtcVV2KLnt9px4Vlas6\n",
       "xnY4tydTfkf0nkENZCS6Nfo7u19l1X44KnlFrcvPhaI+q6fnGnU1jUgY8KZBvNnBOxDWEmUGVG71\n",
       "SlV9oLIk9wisxoH/qmcsD7N9sUvGvrl1Nb+PBWRTydH3UVmvtaEHQixYGNwwXcR+Esw8t5jjpDR2\n",
       "ODIojE1qjBwPvwKZ3X5j25F+5HBJ+QRQ3WbhGsCQKdSGBiyI2qMPPzFS17UN/bU4MArGYL050xX+\n",
       "mBGLUiTr/PXBOYcdQJ86VPJwetTC6W6mR7OulKvaVB5ilNqiLqmzSnNIylCIqi4jO/j0BDdZ7z8I\n",
       "dJiVP78D5oGo3kfAcd1Sm/7x0Pm/scVuzOundZz6Q5nBXzlA4Ly2yTWtO60Jm4ndrfu3Ef3gsHHU\n",
       "r1rWslrZnJCvHyEaJiojMpv0H/E0T9FjFpmCGMfLA7bIR+cfQzyWfQrKUw/lb/FkulB1T/9PtX2E\n",
       "UITkEY4GQVnEAAAAeQGftGpF/wOgIME/7lxlMCjPSgFjoCnYcAKgp9EKOBCX1CR6n6P/6KCiCGdk\n",
       "XUImOwrz6pZO0MEFf3fpj4Jpk4OJG9Jjb+bFKisAmLWSqLO64U8Eh0tj92xZXGuGvYrwFlOrFa3P\n",
       "SjwwipSXEG1nQCiBp8RxnAcO6ccAAAGVQZu3SeEOiZTBRMJ//fEAPu9at01QBz6qRV2AxqAVVX3n\n",
       "6frCxvrkOYiOf820knfhRKq/ORxvBPq6NXZ02/fscDkAHb0VEj11aYW/DfgWYtpgit9NpQKofQvM\n",
       "myLm+s8mSBkr9PA6g1EW2VaigSqZx9eV/a/mmf5dMy6jM1bA+Lw3sw975/zqlV/2fkdyEgOJJw14\n",
       "wYjrwd7y6SgPl/iYnevk6nIOQw0pWbALJf0hwBXpfvJ/RZbzaeldqRVTFjkcdW4AfwE+ShswtT22\n",
       "4IYYvey4jkxRE5RxEppwR8mFscmC+w6cJXCvQxUfNDYNvSOBPSBasV5rEkBimMeP01vnEl5uuwtW\n",
       "Ga6WHOPvcv8vOcCnEQsyZhgXvi8/EXptzmfFO11iTBYcu8i23RsMAvTz90enLUAush0ussrnUW4S\n",
       "pCg5vobj5YKGNwFFuVa1kCzf7UKVqRPwSbHRM5Jdr3XwCYd9hlfnvsYCBe0G6o9W1pOraUeHXW5C\n",
       "xXi+fUdLWPhNcK8eJJf7etRCMGg5S7ALW0Gce9ugAAAAiAGf1mpF/wUfNFvz5xB0DM/FOtWT/y2I\n",
       "AE4xyDpvTNxXrqReV/7RYcZ9GpaM2jDRsdEEbmF4aEys+muG1GxXZKnb+YhFAry5fhz8g6lawYBQ\n",
       "Nqoy7ujOczK94c7Njwg2hzZe2LIsP5dH5gKC2VJMNtWrN3SwN2f7HoUXNvtV2IJjgc/ffvG6h8UA\n",
       "AAHKQZvbSeEPJlMCE//98QA1lIga0AAhGsBLqcKiQH1YxRhnjpYqba8TR2A/gpnfl09pO91cTJEN\n",
       "p/x8ezvCL46ST9w1jctgy+JNLIKd53IrWaqemtwgCNtHXOX97HPBMuAwVfraZc/DaUPQ0uU6ELJV\n",
       "yknXs9S5BVkDzuWae9AwNppiWPMkghu7NQYcPr6eR9fHPFhHhZMzDTvtIQt/TSCUShYddw5vKiiu\n",
       "bgi1KfjnfWwHLyfOtUxg65WE6Eu65OMKOj0nOD/QYcJLEwQDklrqV9ntliw2KBBnIEMU6pAkdye3\n",
       "nlKtitBc6UVPXdXRDWIw2wz1mRpKV1Lg2Zodh/rFsN2L9YOM3YhagO6JlpLGjJ2LxLOZdwHNAnjE\n",
       "SN/PYfJ6VLQbBMq6V1QH9koodVcpMK8WZUHXbNpT+SVHbZ+BvoztlGpC9qsAoimDRkw59Vg5faq6\n",
       "swNHQDORzSaW3uvE3HQj+f1TYTgChAoX90Sdekr4B/ANxEwRD+xjOFwt6xVCsMydjqz27VcAPfMV\n",
       "e5teZRrSPCQL3ceAxqeCTJJCYhp99Jhutdd5Vokob58ZyoeHjflZH2/2AusZBsUBOw89C78Qopd1\n",
       "D2OpY4EAAADDQZ/5RRE8bwN/qrhz9AC2nY+/rihQLt3I8jZe5Vilz4f5olwr6SRTiXPTXW6FKe/2\n",
       "TrGkaKPxRaZegn3VPIunNEussXycT6Ymq1hYdLuDKoUa63qGta6Fh507jyPC3/mEq12BtzEtpi+i\n",
       "2X0RG19YBQBKg17JivHLVkxIGd1hxpFS/kfHKa0c7QWWmxKpf5JdC+eRW5lH2tqSvB6UsI77a7yS\n",
       "QSZrpc9wss8UrVd/M7sn3GlW+jL50VpeOFHZ0dJo2lFAAAAAeAGeGHRF/wI6puoWKkNs504AA2Ms\n",
       "Jms+MXnilCU0LgdLf7/Hbm28LLpvln9HynAzro4ONS+nIgP7rRq0nqxEVCqJ6bdAUTjs8Vduecea\n",
       "kSUg+bMyZbB23354RinMn3QAvUUN8OqFFGTlhszEO0Ar0IFB/FusQ/NCZwAAAHcBnhpqRf8Ed9C2\n",
       "WeIxSMV79/yvuwdF4y0MB0KHxJmaC1fQ2Ivzi4AWsWK6adVax+bcSSeHCail3WZX3h3G30JlED2I\n",
       "9HoWKg0yNsvqvUQtGk4lWT7OCxgxlg3wxNdS+HPCyn5jIzQx2FOYb8732t7EL9uEVVyD5gAAAcNB\n",
       "mh9JqEFomUwIR//94QBkJ/aRkAZ3LodmtNS0F7JS56/mnLFddZGPnDMEoc6+fq0oCb03crjVijgv\n",
       "6TMQdzXBwjxJR5wNQ5ea6Ll3dC7V3d2tqG8NhJqSC8XD7baVaiAJw4wZpAPGBRmwJ8SIHVmAXZAn\n",
       "h2ajRiB/p6hqLzXvRrLyoxVJBlex59SiCPEzPIgEnsodlSOZDe+FBdFWGkQ/ew2GgUta8wg7HHy3\n",
       "4e0Jz+QMrFOJAQGNqE2xBxofONmXsNNBSHEfpcmv5EFBmZxMj5+FvDPDu467yZLqb5b8n/zDbxEu\n",
       "3aMw12hQ/W3aR07emvzVPi+8Hlf79WtMJvXR3vBz3ePTGPT6dNJLsIk1mTJ7owhQ9r3I06t7oqSZ\n",
       "LltxdTCOYInKseVt+yuEzDxImCBM/KjE3ILL2ed/zVec2IDaskzxb2Ky3GgQS5llkgJV3O5XJblu\n",
       "8n4xenmhNHjjkplrTw3YLcMSKzC6Nelf73q6iaVHGtQNlcuPVcavpi6cdDWTweqEefqVCx9EvXk6\n",
       "/AWaGC9cdMnUfiUb9K+meeWJCyCqyG4GJ0xihpubtCeXSGiIat6ySiZrLw93LcKNiO9BAAAAxkGe\n",
       "PUURLG8D7ycR38cGEAJIooYzYlX+q0tldgzMFgBJ8dn0quWRwEK6TeblJdPkVE1C3w44AHRvtVS0\n",
       "RcBNWhK2S+OQpdlwc/7mR163Ime2BVSNCdawrKWdYXNQXsQF61fzhoFJGdS+XaRjcz6AkTJd/73h\n",
       "WeEDWbr70GO2SzU74e1xs7d14MPWsEcRwN8A8+5kPSSk87f74g7Elo+F5htBNNQazAijsMVvng+V\n",
       "aRPdiIUaXOyl1qtrn5QJ4Wn8OKKGPAdfQQAAAIUBnlx0Rf8FHb9QW9ctgMzABE7PkJnyhUu3suHR\n",
       "qiERORUbSx4R0ILZuAAzadaiwNYqYc4UAg1htQf+fAL6uakqwq/Q3ailSYTercd6gQUvcj2oZEiG\n",
       "oZM61Zuw33SOfdh4FF+7JjInNfn2lp+5YAbOQO2MyBY4iNXJTpduPR6KfwNiAA04AAAAZgGeXmpF\n",
       "/wI8H4Vw9hXoY4j8WdoASWCadud92DgOJ0U6yp3n9eUM9osCOF/mvXMQ5dGjMTNRehBDsRwjJxqx\n",
       "pPYxw7nNPUia6DD0tA8OlWv6JGiYoxQ60LLl7tHu7aUdJh34jPRCSgAAAaxBmkFJqEFsmUwUTCf/\n",
       "/fEAP05En3AIsSaaxHRoUCvGUE8ffyPjiqL271XVMCRD5p9eGDn/wvs9931ulKiD8s3H1DKCkMMV\n",
       "QYsz6r5JkuhqSXobgRTN+VjPtqmqTGy7n9jF++6oyNOTdca35eNsZyhtsIwHbS0K1zOjs8p5WbNA\n",
       "9dWyXso7EzNg3Txbj/BdgMklxFkKBGAzVPFhhEHwwRAVSKmdU/yp6I2FEuAVc5vtqbGGVwtYfGbr\n",
       "56Ysn/5fdVlWuI9jc+3HfRzH9EssN1WzR6WL+yXM4IkIDJtdyBKEzSg+EQeckcnB2ylWyf6p3qod\n",
       "j6tIcMLsRaOV/hMW+wACXj5Cy4K8gHKlvRi3McOyq9rIUPnO2ez0t94mkYBv+RDT+rFP68UB4ium\n",
       "EB8LoBAaot69WxUNPdBAZzaXV3SX3VoT24kDrjo4H5uRKmfA9bAuYT0cHNAbG8wvztjpGTI8ZSSJ\n",
       "UEzq7TRaetxT1NkKyjMZoRWYfgjSwfjEly56Q7QaZP5jr2rs9Kwkh4yWzn9cWZzZg1yPqEClKM1S\n",
       "L8FNGviROV/qO42kZaV1BQAAAIkBnmBqRf8FHzRwIbgG2HAAN0Yr+yupIMGRu59KOX6nvDQKZAYc\n",
       "7VHQAGeRdHT5iiRotYfjD1CuDfukIPsSb6B0rpgkkrybSoY6ytfMKmhigpr3izL8aPCl9VlJHDLJ\n",
       "sAZ8iKsSwLjWJOY+BT/n313it/JQ0Z4EitRgwzWuk2+uVTgj0ZGUQFqWMAAAAdhBmmNJ4QpSZTBS\n",
       "wn/98QA9XeBv7OJHcLAQmUBJdXtRgh/1UaJH9wLem69VL+VtKkFhKDlXEHmfdVma7bS9bp+f0WeB\n",
       "pRbVVIuGTsFMlU7fM8aMo9dv+v6fQCi+EfQhFlU+JIKa8PizQo6XvkKoBlm0L4/rFL6Ypt01771H\n",
       "JbOV8JlRHfQNyChhSIFCdK3CLSZzKU7kGsHxGeomhGw8Ov3ETZg5G+6tOivwaFD+6uGUogLiUvnX\n",
       "iKovaj3mNDKdAGSjzASEu3g89K4NeDCMoHmrPWmsU2ONy4UoRKHq7zLuEZhKBm9b+Jlco3xw7kwO\n",
       "9qPahQaPOY51l/UlsZsqQCya3dAPF9Gbiap77jmAl+tAdCW3bYAyCZA6UoOmb+vv74+Caqnevk8z\n",
       "+BQnQyPXGywkIkCoIn1nrEYQtLm6dmzyBRwaNai7IPLabR1l7/ByLzyFyxXXwj3wKooCmZ6+xY7l\n",
       "gN0PKNnepRhGUf7yJXKdgvYU5xCEUW6FNM9OmMIAQm0oxTkS3rIQCHCDcUQ0VZ+GHhYiIFhL3IDW\n",
       "/79qzMoijneyjA0ak+a6UP+ifxGCrdPQ58A/lGM9zPZabrT7s3CRSahX++yc4a1CaqQcPdHF0CRn\n",
       "kUI/X7yBAAAAggGegmpF/wToziM4+RJQIbbRhynJNSWy7Pf8W54AD8Yn6NFw23n4rfphxY2WAfR2\n",
       "FyQ2zF/bsMem7a32jdpMBpVQu9+98cWD4lvUYlURLEuF2U8X69oyXvE3EB4zofm4uADvxfgbvkKD\n",
       "e7rgcd4pStE/W6lh6Hiak8TQptWN2yw8dUAAAAJrQZqHSeEOiZTAhP/98QA/VD+aQQBCRNs6Gaup\n",
       "a7lIFjFWNdUco1Nh5gy53wHneAtQrYgxSBRXkU+91FCTYTyk3IrLeGI7QM/XwrMAl2Vg7gNSiAOx\n",
       "FdBeopwA6Ed5wb2GA6OnIrhQ20ek/H1/ZY5K2Asxq5cs/VKHIZfBaggXNEh8l+JKuUnssKQhM6Iq\n",
       "swllPBM8nm74/t7it8Uo/Z9AmMaeeGWFdAyyLtSI5zYaaF3wjeToU/m6RTSpb4yND5h6Nghq2t4g\n",
       "AgT1EU3IHiiuGwM1gVf+Mq/HMomEpvKhHYks+yWzlK7CbJcjpn+RXHIjWBsqwhVjifB+tuHcHtKG\n",
       "BiKIgVm8jHm1rH/26/llmmoj6ppuBdK5yE7bWXeM5YbqDloNNKlFmuHcUS0GFSJII7h/ltWecsx3\n",
       "LWlG4BLtGTdjd4FwaC+wy+I8eiVAdRuwxc3wD/2jGcKPuG2h2xq1foq17Fh4zaj7zQ5ReZ+kt8iq\n",
       "t4Oxq3DGlntWmByzAOQ9D7mG3RrbJBrFVE9f7qf3d4kvNilUJ4YcL3QOucEPRkkl/1MeQxfafHWT\n",
       "UrHnNwJ1dy3J1Rx22lCGlHnxv25U7xHYggtYMrOkcGp/nwDUewe576mOMpXAalxHvrd56ETHey2E\n",
       "BPI/A7XFmiOqghFtuUVsboCCEMxRy9Wm7UoWmz65KPNR0pGKRgH1ooOaS32Ton8/VtJ1peQ0YTcz\n",
       "SGTUYqRCxDJFc7W1hM7i0Xm84FsPOW7B3vMGEEXz9w21tOgWVY3a5dk3znRMm8XOSFIfOUGDLDJZ\n",
       "ZB4pqCeb9hjmz8jUUETpExZ3d3mHaQAAARNBnqVFFTxvA/DsyFZP3GOMXBOiyh/NzlrzQXrzGlYf\n",
       "wBDvL4JDRxQhxIb1QqWtyS2bx/ys9i558ejt1g9rc6nVQOQ1UB7GPFWeR1D5F2MMdLDdbeG+MlnT\n",
       "pWT9etGu+xxAr4uHYh01pPDNAoHCgCDiBgQxg3g9HeQFjgIDAQnMU7vXHYO8y2TIfcAo8MCm+N0A\n",
       "14nWGMk+HM/7QmtXhotP+6Z59bSzWt/rvmFWY6zrRJaZghiDQgWM7KAvHXYIy3xVlwJXNcMB342a\n",
       "tLlt/eA1vPiOdzbF+fBTf+kvWTpvdt5cmy8yQ/JY+l/e2h/qJDWbxUEWG9GkhbQkH5hqZSfDO+PC\n",
       "sbqQxkGHe5TZosHAo1fVmQAAAGsBnsR0Rf8E94xMnz7EqFOJtRUcyejCotm0iAUUknbdkXE5b7aD\n",
       "+JnCnkhxnG3g7zsavH4QPBBsyHP67mfGH5iVg4ytuf+rLep4nawJNOONQgCNDsl+9WtmN2tNqZY0\n",
       "QnXYPJMJucHA4S2PyQAAAKwBnsZqRf8FHGKRYkNMAipXRYldKj8/zt8ANSvMH355LXgcJDMxbs4Y\n",
       "y13AuhtaKYmoBmNdohrjP1LWo6MOQT1eetFTGcgwtf7A7K09b2i1STn+gMRkhnO4ronQ4NNsUu1K\n",
       "gD5CxctEorH7XVf/Jy3cz7S3sBPQ79fwQ/vokZgC3pciS2IFYUMnOlKQ0+fIj67kyZIxYgoB3sPX\n",
       "YhXFHXOb275U0cmN6JetShxBAAACXUGay0moQWiZTAhH//3hAGQkyLr4KKlYLGPEtxNXt2T7Ygs3\n",
       "at7gHY3YMmJuoZJJp6HBZ3086vid3Qsj+hb7bJy5lv8LAXXliuVbxvLPkv4XUPcVYm+udyRUpFPS\n",
       "XdN8YVlRdfg4/uyKKRYYSzETF+7yqnKSYB53DjcbIC2zMyxIZb8ptv6wWv8EoF60PWC/rHKyoxxQ\n",
       "Z2P4tOdjK3EnNF7qt5z9VbeYqvD88h2x/U28EyTpVAWxnQUKHuVqoE91VjmQyVdJCRJFfGBwR7MJ\n",
       "jLctR2WM+WcMDxGoSg0b2/edeWasPAws7vbgmr99t5z6IyApwrkl6aGD2kcDYIYe3x5QYP0aISzO\n",
       "4VSr+XzOLCtrL4Z4WS3mZtleFOd0FVVYn8iSXhnbju7RVuvfOC6m2mUI6qKb9kfc+7t2rhhEgMkU\n",
       "/W4Yaw1SPwx+Yl4cfltig65XRQFliEhHQHHHcc0spi6pgdeaZz6TQVRh498ZstKB6O6poyfaViXj\n",
       "zDXemDu8Rgi9EVriYMYEo0nbTCLDTckYMh3571ZI17SegD5/DN1P7N6gJ6fYr8a4GLmoizyg9Utt\n",
       "HnI3eoL3ULCz/pDkjp4K1h8nZz6hi2Zrj+qSSodPcApBa1s67zzhVGGJZY7m5dQWSt8oI4W3pfQj\n",
       "SmifV24e6u9CJqmCkPD/gX27GarM//cKm4kNbNAohGk+KgKTwmm7Ag8FaiAjpD8Lx7FbXdhW+qE6\n",
       "63WyW7pnEXLh74eQFnXFdONOFjMjbgcQmvbUzmhPgGDFs+fhnNe6il4jzwu6lku1LBdFHMnyCnWA\n",
       "AAABIEGe6UURLG8D8O3Ta4tuAB4KxIn9830xld2t0brd1VswA6xhofdzi8i1QY1ETIcOj5PSuqtJ\n",
       "0nSqKc4XrbiX+xfT1nwGb2FZynPSziRKKppIaWxcdAn14WPIlHqCUzhjdDiFrMcETEeFZQNGlEGc\n",
       "NoggWCKfRycJGynYm6G57D9MfkUtqrwAOB5bXHeHaVnnLio+5Q11YFC6O5Zvkjt1RPWm6bnAC3kl\n",
       "UHITgMSLY+MNdvmVekmPv+l9yXnqsSoyR1OIndthyW6Od1R/JDTIynQyxDCc4bwa6sY2gg0I7xS+\n",
       "YV8fapyeo7Ppt+zzrsrqqzxR+QylYcdnG9qatbT3b/AGUNAIp1qqkfJ/omDBK8ZtOeY2wK2ccHRG\n",
       "Svj2bLuigAAAAJgBnwh0Rf8CMzQrzkALXd5PSq/uGw1aVVyrOEHDl/jPrYge8AKjztiWL85LIlyC\n",
       "asY78+n+/LYzM2igzaeTE/DnXJ4TttyKPoJPb8gpFipra/ws2dMvEw1x/8kSXJ9A+tgtWp0WWYps\n",
       "DJo53zX9GkOWNBezBCL4t+jhjvFgp7nR5c8L7l/n7NQmRWhM6cnjH+FEu6y5RR+RQQAAAIsBnwpq\n",
       "Rf8FHzRwJi6wsxywAF12XtgBJE7WFdnGtufB30oPM0AJoerF1PgnCbZ6WJdYHjzx+Rk/zRYPxb7X\n",
       "04s81F+GERMemLA47/0VvCfmOv5x66QbsNQUpVxVGZ+WtDMmylTfcIFnJ8Sr0yU0Qa+2OHdHMwab\n",
       "Qy+3LG5L+ZAYJy9pb68AbqOm/G1AAAAB3kGbDUmoQWyZTBRMI//94QBRSHA+OivhsgBoGNXEMAD2\n",
       "Zv1X6VC4owDphH0zGGilvfyBYBzQGrS6IYWFcL+5BjJh601NhIyTqzMXnsIakqTvSVt7f/ilMCpZ\n",
       "UhC/Pi8BEoIYb02I9ZetuFBrfnJEcVvVv7HZaqjQvotXBuESH2K9mU7iFiqxkSXF9j/eCAVlA5YV\n",
       "i7Il6LflFBLXfxgwmPPmZ5FgYL4UByDldU/VrPCF/cMLbZ5xoPHAIM4tAtQPrMi3p23GtB2R9S8A\n",
       "L5iSRMCBpa1e6Fm0sYCGgnsfMnTS8LpQ6JkCVPv3ohQUchLJ51cxmNDl8jm4rKt73lHXz8JH66NM\n",
       "nrABBattUhIlazK5Yo1/uwf2aZtf+P+02LhjofuYuRwlya9f6Oxvx0Z9uqT1RpnGjhCL9FxD5N8w\n",
       "3WiiZbO7UBNkvD07U8lVr3c0COgDkCYE90M3fb/GnFN6pdo3biorb8Cv3fEmzAko+hQ0C07AUdiZ\n",
       "05gR2O4gKEP/GnakTCkpvPZTBU1ewK0nTymebENigkAWilmpoaMawPLfJgU+uxNO7iex/wbOPi2y\n",
       "FBX1kuqogBoByFXLr3lRKRT3+Mnz/vXMmlDhXnOOSDkYQSyPffzMVTCvCBw8dIAAAABvAZ8sakX/\n",
       "Ajvg+gFClJivgNwpwQOJcNcqPUjhYPCdKD6Z4A062TqqfngtfjvKi3BII7H3KI/8jJTjg0JIp4EB\n",
       "zr60tfuGq/fnUUwph1HTbo8a5JZede7uzZuYtWQnf78BF32aHztBLIMmbX7ILp5hAAACA0GbL0nh\n",
       "ClJlMFLCP/3hAFGC+hiTMf5Or/ACtQSGDRi3v7k4R+OjS3NVLNXPi+nVV/Nc8JRYe1CaIZWYaTf7\n",
       "1Y7OfC5i6pMmgHRwxdPwUl5NCpaec53IFOOg8Ex7QOMLP6K5ycZc9eJnd6rS/Cjw3LvkYng9LeFq\n",
       "t7Ldj0KGetMS6Dbo6vsZoYdAfw0rQZ+TZwMaMiaArthZFGO1xT10wYJD5b/GLLowfXfoFGiIojVB\n",
       "AIRD6zeINZ21dG0b6aTY6VNE3Yi+k7MI6fZPgJLP41OD1ysnp1+6O+kYiJCaHIo2ChNJjl8w93j0\n",
       "SvdxMTq+iMe5qEHCdNiX641nWfuxEwgrzR0A7NgivR8UIT4owh9b+uXvSvBtaelGp0ucJYs/CBdQ\n",
       "CMOd4rMBgJcJCxLyZ2ZpP/tT2ZUT5uT4TgEfDUIJak72G50Fei5Avbh4qBaKedOP5jD8kt4vU9TC\n",
       "1VVYsLb1lldLJzNydXreBmUvYDT1zcj+Mgps3DOaBFWV3ZN0w2CAhHCE4LJ6xVLPUs+jIlhlvuEl\n",
       "A21iyENGPsDXM9sAa2pOli1cqipbg+IiPzMeEQcuM/S24JOORcDSUyCk1QE5d/F54V9kRuqOVFSo\n",
       "2+U0Tv9j4nZ0UTr03t7j9WjG6K95bcedtRe4+XvkbSRVXEDFsnb71yxypPeRQrvFruUyVIWTAAAA\n",
       "fwGfTmpF/wRVemzaAYZouMZlyy5QGxBpJ7mzwsK+7acoDyTLOx3CJqLUtFUkfXcsAD8fBbvHZp5O\n",
       "Y4ufQscZlMIL5ySx4X6bb34zt1Ab9mbpOsTcx8IOipjjSWmf09tx7rFlgGfi9p2pjVzo04o4/C3C\n",
       "YJ2HTnJxRRwayaTXzdEAAAIOQZtRSeEOiZTBRMI//eEAY3FAbACya+Z80xpxELeyUzD4scLce6c6\n",
       "d7E7UHiegdVjvnCZM0uJB65gz2AOt9MXqG5BL22vRSZEMqVGyGjy40oMhnrhInI3KwvbDKWsNdIi\n",
       "VdyF9j7FcKmsUBerDVLPMlu4VFtZFn39cNlVy/BCoWitgnRpla9ArP1zfrYwcErRBwjAzm0kfzdv\n",
       "L4LehKVJAZQQUy3mGQt2kGZa6JXwpUVnCL3wIJG03jrHj5Zxvlv12NgmySufUhJmCJdbzI1IFa35\n",
       "5Wvvy7Sp+2dMvgQMTz5iNxo80Wruu76XK0V17wFZlEuNeKJ+7ZJxgwr82PKdGCIUqUyf9fhBlVZS\n",
       "MM9Ytg/mVA9KLOtrQRApJMmBTjSHJv5m5iVkyYmNHjrBcmJWAl4yd6c8TNw1bgYbLKAHVO/nBn1T\n",
       "ODDwJyYt2Lr3EkHnNU9h+quty/GtVKAW8pMnXzRq134PgZkxvK5br+0qvrzMhk4yI04FUSPdyedZ\n",
       "wRsaFcWycpEQapjE1cvqfBY8iFxXOs8ddIu9h2N/G6+Jzg4E2G4WIDVEfRwksbzyc7L+n4UxH6pO\n",
       "eK4w+SJng8JXwIEt6UUVjcasqjZ0Kt5ghGM5obsRAbYvRzQSyuCvKo4sN5JfwJXGCHtGsSx4ljSk\n",
       "oCc/kEbHB/gAH2DuKW/p5iEJwmkB96Rkx3eZQwDuTgAAAKABn3BqRf8FHGKUPlegASqEM0AIe/PC\n",
       "lrgBaxJXQ/nSeRmHcsT99h4agNvwtru0SQtLwZWOi8fPAiYHIgxUCFqqyybv7N7Q/Fi3/tac7Vse\n",
       "LyFfWSpFmSxiB44MQaGMhTTE+0Wu99IDoDYGMi4MknhY8FPjde8dlM+VL9QfB3otUA1Pw/KY+XEq\n",
       "E1WmJoVyzQi1ZoFBCO5pn8s8Irf/fHDgAAABs0Gbc0nhDyZTBTwn//3xADVow0ANubfiXAcmMn2S\n",
       "xG3Pjyis5wYmdhaWOpuoHkB7ycgBK/KmKX5YBsUD7N14uHf1KD2IbLAO1wTb51LMJQYqexA6IQ/Z\n",
       "C3Erd+InadeKvOSAFUmpypRHAtxTWwejNg0dOnWhe4cL/aONEjAHCfCoMXS+qvf8j0P7sRt2S3aH\n",
       "GtTb/JJbYkZDFoluTErR26eZQZTNucTRIteca5Kgz8DTleaedubtRpKgEL2bzc59x3Sr5bjRIS7H\n",
       "GePVSBJilh/Qaqg/fPCrz3lXH3oYAnr6uhY1tlsh3sjI+xyEH1pF3uHLHxWgEhRAdGg/uHiDK3Oi\n",
       "f4O2fg5sUl+mQ8fAr4p9lxadGt0OCAVyqHACRak09rci5QBSsW+yr1EDrdwQvCZkUo2FEL9aXjgU\n",
       "0NB+QrfV6sFA3+iX/sIiVV10p8DJEO+xNfA7qZGKFxx2h4DTrsAYuGgG0oo9Z+n11nbm4kBxZSom\n",
       "8QzE4Xcfi4FORl6J+42SXCCCQkkpWxWgdJVNxth+PcATarywiUvhfa1FYS7ufHjUQkatCU6rKBhG\n",
       "OjRpXxwYYwAAAHQBn5JqRf8CO2HTKoKGiGZuhxZQy2bxFJ2M/YJsxj2xhAAVEDb02CW2VRJHTXAc\n",
       "rE3nQKMqyPjyfMgfsohNf/QCcFh864SRxJ6X/maDxSZ47h3we+D3KrrjjNi1GXx3Bbnb1m+ob6zc\n",
       "cQ7El226toBzIlhHuAAAAlNBm5dJ4Q8mUwIR//3hAGNxOHVG10BAYbXHxZp+pxkJl+IKh6ty6vJx\n",
       "x3hbRwXSq2YOyG5SHgSTi5x+LkAAg3i2smgNooRQZPJgXJOPR27gthUU+TMZhjvgnt+6D2YoQNgd\n",
       "Oxyflh+GX9h0QQPgw05zsu5ggOz9X9YwB3percHjpjjCPwgfu6hU5NhcYc7rnrsPNAO4+1erNuyA\n",
       "kV/TvyGFjja+sQBpSFXYE4vflz/GvCkFfPBdeH+PVpBuXK+DdwPQXtC5rVBSZgtOXQKzDh1slNwK\n",
       "mQEwTj8htbvp1VsJX0ie3YgwQUt+kXkoVTeM+y4QNnFOeM7Oarzq3AtQs6ucMjhdw1Taa0Cmpg3v\n",
       "VAXS60kZ6Op2giDHincvt/BwPGZqfk1Yk/oKLY8GzC+qMlneShmfsEGkRTX2FTZ8+vpZOSB7ACxg\n",
       "3z1SuOtkzoCDk4L4WYfIZMeAxYfVYl900a3v2rUjKvl6Jfb1ZW0qBTMO6pvc6tFua+MuT9Dut8qu\n",
       "xt6YmjtgpyvaFZIiix2pqYH5z2bWSbjEwOosU6Ynsh7bEDwGymwn7OVmPhCdwtkmNLW+7VtFs+/8\n",
       "G3GI84PTk2m7L4l14JP5cFakwBMqR7LGty2rh6l79hRCPe+jfh7aGrSs0VN+lPlsuO3rz4vP9Roi\n",
       "zeFQxKEslIa5wlWBCtHoNW7sWyaIdWgxZk8qnt61bNyA3KgmDmM2Yu9ekmOLpShnMuxE4Tu8ebq6\n",
       "L9Rmj472NQwt3glviFjAS5BPlvHwOdbDXtZOadWCdG1IItLiBgiJ+hsRAAAA/UGftUURPG8D7ych\n",
       "nusmoAFOEv5OljtNMzBiC9ISDwSvWaHovGciQUs3699py5upulWKaJ0oAFs4sY+JNy0jFKpnZknL\n",
       "SOVs9ZtRr0cV/JrKQIJJViK2R5pJQF902SNPC/Pnn79fhPt62Vx2oaYiPLXKVhdeKyPVix7Uc0Qt\n",
       "aNDkBUY+J2DrKW6R2NSfGkY2xUYniEi/mWye6Xid0j3ViIgx77LqlDcdef2fycfDrcgVQUtsP71z\n",
       "PWxIu7cs8gC418ZrhfWm9gCuBzYwdaYwlu8fvss/bw8nMKUn9yiZBY7V+wODZhUr5xUfDDt8l6PC\n",
       "H8rs3EDO2vfsVviWKs8AAACkAZ/UdEX/BR/em07QwAB4QpmgBCBKN4zAAAcbk2cF9E5GuyS8nR9a\n",
       "4VXelDFM4YDql5Gupn9mKjYixNasYktTci+YT0fLY3fPAFdneddcwXh2xj7xah3M6jxj0xoS4YbL\n",
       "XD2QUiVGhy7Hi8n+jZfeV+Q0bhvIlzGn+DG84QM+IqQmFwcppdqg+GJjNgc51Qjhx3l8Ecy3+x8K\n",
       "+4t+z4JDyRfmt4IAAAB9AZ/WakX/AjphSvq57PlH9pMor5PqnCZOdpDT1Q0RQAr0pCSj2x/ObsAo\n",
       "gjqaiyJmu+GgI3nMsje3/InVHQg79XdUwBAT1EGTIK1ck6rosTT+QVfNRXdFN58zL5CldS/qDxQj\n",
       "USpfSOwYNMxNCQF+0FjVMpDJKEx0oG9rrPEAAAGyQZvZSahBaJlMFPCP/eEAKgg3JXqFmAC22bIf\n",
       "jCv/TkdT7Zg1Rj8VCqF9xghIXV/7q5NFxb8/GjAtrKO6t7xCm1G1968wFzbeHx7MTEPo+YL9nswY\n",
       "X/IxFkbQn+Zy0Pv3n/mUNN8rdkZ7PfOHJ5OQd6v+S7OT4t6u7lC3QiysuYPnVa4CSlKdgLHk2Juo\n",
       "gdIRgk22ajM7BPQr7QUQqQ8VhuenPPJL9j9qPTd/SulnDwL8hRFEFQ0aMuf+OAH4O3n17QmjgQu3\n",
       "YaHE+/WRh3RU3Xo6xh5NJToiApi+j1BN+knwgsEvkYEHAwqVPIH+UsEsSyQuaCsrlYQRTH/o4FnA\n",
       "eiq+9p0sIbPd1aJqcflUYCWgEezjptdnP8BQv9lF6rbq9Zo6Ddrld9/DfcVp6G/GB6oFokfKtWg1\n",
       "6Bq/f48ELpOeMzG4nkgjSo5NyLurSqDNLr0favvSxNNyYSuscFgbDBlvUkLpS4i/LtQvr5rioz++\n",
       "z0XWIcFAdOdjSc/c/CUQzegQaZRkJBn7Ys7r4bwLaGKoFCry+fBA6HZguNhtTugbX/5ZOSZAOuyV\n",
       "50JDK4FkwkEAAACDAZ/4akX/AjvhWW1NvHk1DDR5Lasn33HDp9ykx9WLyp11XwiwbjYVuX5ZUBJL\n",
       "mPVzUNRQAln4j36ohY31kxzuXjUDFtcTZn6osRm8z0GUKh50ibZ/DmSsKDxPzkYCdgiRhUz0pQOf\n",
       "H+SxbmeAtRqchILhsAXJ+2uMSl2g5KUZWVdJMocAAAJYQZv7SeEKUmUwUsI//eEAZGsKPBESoB1o\n",
       "pkbdiaDu8TDTNSiDGhBaui75P9GBkp2QFDs26Mqr95LAWxKsWgRhGwmUKmGAEDp1SrLuP/VD+lw1\n",
       "6A3/kclHUzXLUOraxLot3YaZunEEyp3MzCv/9g+lxNUS1wfJHMfDh6sAJYa06dTwyWulHJXWvoKk\n",
       "cqOEvEQIAACGlPaSJTXuck8u1WsCmqKMnYdTHge4dcndw5BNC7vdBU4Yb7MCNU7dXSY99xzqWD4Y\n",
       "k42xsh8Lc8rH9NLNVGelMQblbI2uzEcO0PXUQ9xvGGTHGucKnPdmLQK01CP5ZfP8dtxU3JDT2TS9\n",
       "ucnG0GXqoHdFbz3ltuJwAuYZgKbaZ15HjSrOzrWpjCIQS8vuA2XUOrXSqce5ssAMPyqRnahVKfTx\n",
       "PbmVzLgJPoIrvl5/UNF8Yp0sn1YnKAwy3PCl1NZt1Face4sf1uBUK3T5nWY3hKA029eFz8Py3WVi\n",
       "zz62xNwjuG1iYIn0UX8Dw67BHamJWjDnROLtfky1QE39n+jl6zgA+7vypvECSfr5APQuhlJgsdtf\n",
       "pEFSpPAUsqnaBwN9mhOVkx4rZ+eCQ6HRsAE9zkCQFXeY6a3tiIV5vLEbrGSLRmE5jUHA9RkYUTeo\n",
       "AafCHm1MPCSj5LoadS942El/jOWxQsd5WSDnrDLJq+nYKKZzzRGrvpzLk1b6N56+jc/fm88ggVGO\n",
       "Nff8oN0LPHp+fCMt7EwamyzOKzsIkc+3oEemCG3eP0dgnP9V1R+41VMCJQ9vuecCIPtoHRbZIozh\n",
       "xBtDtxohAAAAkQGeGmpF/wUcYpFiQ0wACMhZw7ZR9B+svkzqt8Vn4m2nisXC7PEmUPAOgPqw4QBi\n",
       "g0kr+Kk0gGxRR+QAcCssKgckViGsxSm/+XzqGzObn+FG/kj3lLDoKeb8GFl0ZMCQlehjZz9JJ1R5\n",
       "EP20csD9afxAqIZa8+jjZWcL6KCtJI1YwiPjbwr8jjVm9w5YJ2Bla8AAAAHgQZodSeEOiZTBRMJ/\n",
       "/fEAM/YUVuAYRw7RHaHAA83XhenNeTvTj9TEkP3rId7JuGoMy+DIYqelZ/1tcRYv3Pj/uUPIk/rn\n",
       "5G8gfMFdqR7quozv8P959s9baHAUvwsRyp3mIrj08pxoDSFISy5HBhDgZIWyQPbR0kNT/clCd6kX\n",
       "4Y/x5LPh+swILOLS+top4pV5MBzc5ddv+Q4lBLpDgClGzXda4iagPGXpoHesZxXikjKKbP+zzqDl\n",
       "cczPSnCrI+d0c8+rHAnId7hfLhxATkwfYZKPHbp19IKtelcvD7Jpe/gTzCLMYOM9gpwPNBEhjDaL\n",
       "D71RRtvOvDgx6bkjD+rMs658A+G+OW7Ik4JIFz8RWVBh7ECjK1vbzmetyHORabmN2F6hTOMGtUa3\n",
       "sGZxWAMS6KQbecsuS3oTBBqjAXtCNAZ1MGSw6hYb/qd1LeVWJ+CRGlx4LxjGX1Mm/yPl7IDOIHJ7\n",
       "HXIGDswOF2If27qig2LTDIoxP/UYhsOTMyIASC3CNIoQX278XBwsvb7kh23CNJzmCyG8KpazWZOn\n",
       "ZhPwUYiJ2cDIeS6iQsO1QbHead1AJVQOkRkRbfKOwBd4MP6h4Vva9yzpc2gxGqQBZusi4CV7tSEZ\n",
       "svsk3nHe2P+kW0bRAAAAfwGePGpF/wI6req8qsOWqTgtXGzIABUFOz8N2cvXhWVmUuh8ErscM7bD\n",
       "tfsFOHGJHjx+MrNhHTrWOF+jwnobVw2q/3G9vkvfIBRX0xmTkPMp3B5tysHlERBUEVP2PIQjzatj\n",
       "mHwiuqdvjJ29Q3GtN6M//q7DTupqfoErP5KD8iEAAAI2QZogSeEPJlMCEf/94QBjmJGECK4+UFpe\n",
       "bxlp2YM6fIxT8X625LIP8qCwOfJESIUJny3i2Epfn/Nm2vYtV5nI2Y0d8IhF7qqPLpl+FQXt2ge8\n",
       "OeHe2sXfixk53V7ZLkKbKWoJSczdk3qOaVJXyWpmmgQw11zk1C2VmVia0nMB6DtspNtywbvW0Vbw\n",
       "BetNL3hy5kyFA/SIg6SHPOdyD55x+aCdnArJ7F8L8W689Ii7XADZgdGT+EeTbWQODVY6PSlSreXW\n",
       "dD+TA0gAtz8W5gkRWUEkSzc/eTeyyRh2RzIXGvt5R+I75LgQtniOhAlnFySMvQGRpdoAoKPeedd4\n",
       "1ortr5/Q9466UbXx13NbSLz8Ve8iQOrMA7hqVjgbQwNoOZF1jMaGDNMgFvE6Ps8/bH3cHeAeOCPS\n",
       "yJXSY5cM8L6fufsU2g55cplxzD7vyr5gF9Ya6OnoKvMpk2SoTPJjrMy+DDzm+e9frJ6hHeBXvEcj\n",
       "nSKrLLr1zAmVChYyQV5Nmz+LZsF9ciZOwO6j4UYSkCxKAI7z3uuohlXVHohWO6JDyJW27LcSgupf\n",
       "IOqxq5uEeeya0h1bYgwVXX3vlznub21VTY94Tt+34+NZImLeTVNOyqKmd5+kNOzBdjQcOwIRMiqI\n",
       "3bA4RM0g4aP2yQJdwQC0rR6fmYXnkFg9s55EQbCLXJDNJ1nj5qzSlQ0LqKsEOxytMG4kUHWHXnzv\n",
       "MoFUy1Lz/R07G4Zo+17gABejUjt+J+UinkYCKK4AAAC5QZ5eRRE8XwKPmjVcwoojUABLWyCAMW0L\n",
       "hvttCmFFGBILKi2kb39VFgRFu1RdWliwkry1ysHsuqqMEBbAyXLLZat5Ru6tCsA+hrheuJPZX67G\n",
       "Mf6hq7XzeBBZWsZANQ6MK8C4tVsoWqDrzGJJdCBdn/N2VY8AgDcx7MYkBN1A5/v4OTy7gQYq875y\n",
       "HqqxBRDaO0FPGCCdCt4I1BqYSVSFLX5hbmwaH4MFQ8YCMOXXn5dLBZYQCFZQ5DwAAACDAZ5/akX/\n",
       "Ao4xSLEhpgBsU2wv8z9u/p3e5wDcdrN4/m2vjb2bxBz428jtvEPV+vzyCDJ9wQLav20kXcZ4FuEU\n",
       "rE/jr7ADNB/yYF4v9IBFp8Q5mq8CgIgXTcaxn0inste1U8IDDnOibPwC4XDFgQVKywZLWiLhhiGB\n",
       "DEP/ETtrJSdo7r8AAAGQQZpiSahBaJlMFPCf/fEAPthMBBF72UDGKNP9GxI74k7jyjE9eq/HVKsl\n",
       "+3VGvz805BQFtOqlWX4o+PHb8rqXnNNJxCSfS5K4OhWHKBLbM1ioiD2hOyXrZdRv1p+sYqwOivyr\n",
       "3hm+6CGQgMYvvwPwede2uIDpqgk+p7ooOEXSMPM+12guQh+gySEPPGxnl0s6Ofrsn7A2vQ7uFCjs\n",
       "dMK8xCkuqzxikjqW2+jts//6k5fv6Q2M5IZk7fIy3/20FYbCDksy6RdG8bXw0oJ01hMHbR2pyyed\n",
       "xph/Paz/J8miMDO1JL3SJca5TsU2QAXIFJXvCJJEGC/ril9aTe36CnCbuoJ1oxmLNdFuaG3h2sF8\n",
       "wYR5JWXcTWVEED2n6iJ3GmCOtqS2o7HfQn/GHIa+fjxc+IOW+3970QnqKVAQS5b7uq3VFoM7hbgc\n",
       "RLZoTRDTs6UplWXwCY09WtdfmhyTOc4JDTmLEg+8e3AM+MstOXeef+DGb9dx93vgv0ZLY6Sn1XPb\n",
       "ypTPg0vSe74mxHTIvidpgAAAAHEBnoFqRf8CO+NMW2rj0jw5T4nz08wydlysxribKx9q/wVPx0J/\n",
       "wXNp2APMCOEeXamrqBvhiP22sIjTtMz93wnv3dhoCOjuOyMzLuzOzAIwiQ7rAhoAVacdYlnl1/Z8\n",
       "pKCeCHP2jZmumsv/fp/KwwxjOQAAAghBmoVJ4QpSZTAhP/3xADd/XslUd67D85bWRpDoANYgVung\n",
       "tTMcC7FdH742mo85Mphlw6dB21bPaUuD7cxQ/4+nHLVz9ubvLxm5zVjPJTk1QJz13jIUOv5oJlhK\n",
       "Vcchu5oWEne9ILLDJBJcDP4omslurCwUNEx4Z7du56HuA7AEab6EJSGztEuLl6/+TUIyZ4KcQoOR\n",
       "o+npRapFtuqjqD55u6mjOberbxNpdzmn8hUFI0n/XjUdP3WwhxqH1blCazPrjV8HZqkYxLsMh9Pu\n",
       "nlsZREJWguZW/IaK0wCZkNAgbMIdQE8OLjiBhC/Y0j/EqKmZzW0f5cILaSEOcdNyz/5sJ8gOB6jm\n",
       "8TS45KQSvRF0+rA4/tmzk6HP+cJqkpIpYehvpbYHsVmLpP3yt9ezEI4LU29y5xFyxACgxnVIA2yf\n",
       "NoMfu2TKrJK+yUoAuRj1Fk5qWVWhcv5jXuFByHf3W+M0TltC+Zogsd4ZnFenLhekBU7665Npy4fq\n",
       "HmzUkCYOKSKwUssmX65YSSfAqcG2MExLtrigrMbxtGlXqLvWuBGeBEjSkSNmrt9K2k7YH5sUkeYy\n",
       "AYMKxyEeN4yIrW8F+RWRFZZvi+z6Qde74uyxd80W2wvgiMdg8DqPPfLwlmWl6FLoLo1yykZx6r8g\n",
       "ynKvrUzCpao2KdyK1XqeShlzG3blrAWhW2K5QhiAAAAAskGeo0U0TF8Cj5o1XMRfBiNZgAJ2DrQL\n",
       "HXngAEkEis0grFzxLP/S7YeSiTLdUew4r7vTbwbmW8eSbpIZH+Egfm99InT/GNohucBiEYZ8QvXl\n",
       "nujy+DpDnO0nex2vu/PfJnDEHwLhGOhSd7orLk/YWKo+fhKnXK4BvAJD5ZRzkJqDNDmghXcjUehn\n",
       "RTbEwQkzRSkEmCyfhLtfxQzwJ9+ynCn3y0jGuhNcYBr/ygn0tjJQKmEAAACNAZ7EakX/Ao4xSLDV\n",
       "3VE8nAbvGTcMfKzdF4tYxxekI1YdI2AK9OyK7QIzNa6i/XqgBbIUPfbp51cx5YcJ48wcM9v/tCFY\n",
       "zNnx+SGxYAGkN9apsdHYhCtrEq8IT4T+EEsKvO0SdKvvPlZlTLO8KuBVpkRfWTgl5IzJRdFGY0n8\n",
       "uuNsxLC++MGr3yfIoDKJAAACF0Gax0moQWiZTBTwn/3xADlfXstxnlc5OhYE8qmSJjhnoBNzw/8l\n",
       "Te9VFNcKnqQvQVXcOWqBNYDt8gF+d+W0RlkZvW1bXU1ePYAwlviBuoxZfOAhLEyXwAej/Ot/s5M+\n",
       "JnxgLv0jEeXIfdlZFoPb/VkbjQbmYsv8YyRgmb3/A2LBbkVrB4NyljxSmLzSizr7hXFONRS4GAhO\n",
       "WVWmKTeKH9JVP9sK5WBW0kFsasFGZwx0UQUmJ+h58p4LKeM/6foFwOuBRLkMvzuhlCmP5juS4js2\n",
       "MrcroVJFczp1hJITYBrT931arQRx6pX/Gd/35WZFNPXA5M7RhGFUyuav2Hl/j3JoVs/JL8JITHjT\n",
       "3Vt5sjAKI4p0tyhHFRP3h3jpwrFs7rP59IAtBMlC2M6h4ya3QIl9TBby2T7k+BOseJZr/y+2a1If\n",
       "oEC1RjMpT2/gtCIxPwpBTAgCG2wBIDkFxkMQxtoFohk04gHqWZ+2YbvMgw3sYuDEUMKnoTLuENEz\n",
       "g2kA217THGR2DjqkPBpo3hRIcab4hBpyBSG5w0vGtDLNj09PmceBODAdQJytFa+Cx26g+yHP3uoi\n",
       "wbK0ddaP9bJuMlRsJC58lOQB0HlWGGM8AWHSzG3T2P6qaEc3XTce+IO+UnLMSQsrHytlPHhMaY8h\n",
       "qrqGpyoqZbze2e1NA9qG8oTeFU1GIfqmDm6ENv/wXPYh2F1F7IIgZMkAAACYAZ7makX/AivlQSxt\n",
       "dVEPbITuKhC2+Y3O8xo4mpWMuR1F05IC/QQiEbaGg2+Ie9Au4X7jIvEv+2IAW34+MatmpydUJtZW\n",
       "VHezM6GP54cwfNeX9NtwW4Cu0zz5J9T2kdVWrittZ0vJAzC9yFEQ+ktbSPzNgjY60yfkV2nd1azD\n",
       "dfNXdpFPdG3D8eLetsOwvYC7+qWHxYayxmEAAAIPQZrrSeEKUmUwIT/98QA9Xzj9LMUufMtlPJ1h\n",
       "Jj3zmFE8NuRrIGAGeyb3Pm3UoE3zamPzzHSq9BbWI5mYaSyJiPluPf5sckZFVIFg/N2I+cyNGXbh\n",
       "7DGJ4hVGu2h7SXtoWKKo2FHFh1+bWCmxSngTa60ECNSaLmHOlJXOvMhDxi8sddEEcQHxuPHjgYAC\n",
       "ihNMps14CDq3xU021/8csIMSr0a0pNndf/I7RT8lIXMM8k1RF297ht+J1cfil5mgFyeZ1HiRDWEU\n",
       "NmOERGshnp2R9p/cKcqZMZk1t93AgmKHOFu52wpdCkdkq4FVkuxmVyon9UWmReuZC9G01gye68uh\n",
       "2wtCrSQIVOg5yqGw9g02cNXpF7pRf4N1yAxRknkyDYc7Tb6EGHERnwoFi2jb1EXTh7yGZ/mENLFX\n",
       "3TZuZoqqwxzMcgMk+RtenI2F6WPx+RXZ8gliaf60Q27yyCerv261Xfwq8Q9/gy3VIKKeR/ImGFVQ\n",
       "pnZIxahvIiT9C4cFwF3T8W6y2JzhbeROaU863RHC5B9UoyG9HP+tMwxwrnUxVC1JLFSNQYg4sFmF\n",
       "oVuXoGmp0kPgnlJA2RYhjF2reyNBABj2M9PeO45X65N1rQM4YSPth+Em8zwEIvryaa5Br7eLHKpv\n",
       "EbX9KtNDDuDbL7W2buMMvL9xjBfFM3nDSxfiN8paB8GXUV2GwCgh4/lr8pAAAADfQZ8JRTRMbwH5\n",
       "loVAeBU9NIZlZ+bYDyxCc0s2GfZ08TlyoTp8p7LgA4idWghw3C4LI3LIKn7mduFTikcWrUMewBD0\n",
       "NG6sIfSxa0xluqQIRnkmVPPR5bbA/On/MNvhPPmew5d9L6NAzwXe+zSqsA9kf2wK7L6/03A7OQ5q\n",
       "R3mHt1t63lB0mVHgweP4civY58H7fKy1sdlAIV/76Pl3sEzSQsurBHCjhwwEjoCmxeG32rK1gv8p\n",
       "JOL/1LXyR1/OUkMvTQ9lBFnq6nC4kdcbrGE7xDo4T59xtXIN2jShWkOF3AAAAJYBnyh0Rf8Cj+9N\n",
       "4tHDbO3g2fSKIWVJWJpQ70hpMSOfkCS6Ojn3o/SFK+XjKRE37nJ6wzutcG810Vo0/9rQAtllwcP2\n",
       "yqYVKHWVwH+8DTnk2YsBLHSoaCZjqDpeteZbFupcXH7l6w4zKu+9nDygA1XXAsf8jArEgO5NSGWw\n",
       "3dzDsfHHZEMueEHf+ywJiTLmcNGa1liyFfEAAACAAZ8qakX/An2WXld9YGOm+BpgRyA+kMuqRvSi\n",
       "h5dD0mU/8Jd5kFqpPrfbeb6xm6n0sD7iIrTA65GOSJ7Au3Aw7vwNaQO29uSf2PLAX5cyjKFBJeI/\n",
       "DbhT5YvfTzzHt0mhNbSFYjPQ6/TNNwADgiq+l3NENpJuAU+LPc6D9cJFuSAAAAG9QZstSahBaJlM\n",
       "FPCf/fEAPthMBJH/r/hwFDnGhKTgFJTgrDXaa30cYi2EdDQwQl0w5Sjz2hVYGw1/H3FQXLgGlwPi\n",
       "f9ijaC8kw9btf6/XYfupa0s09Aae1I5reD212fPoCHsWOqUH9nUQNTp4cICZGc/+Mp2JiQ1PRhoh\n",
       "tE8+41O8smqKkC1gTcGDT++8zwIbqhguDh/GCoVxDkf43k3GIvSZHPWuclA1UHzTf/emE/zF0K/r\n",
       "IM2HQrnMvlTYnxft5H80VEBY5DBjbuIEFxTA0lhHohlA7s2gWpR4YKO92bG7xiDhvhISbDoyEkyE\n",
       "RppBBiBDwKRzIVS5IkpFg9P3lpVHbq0zvnUJcHzYnf3uycW8ef9JP71uLzii6TlYnrTVPN9KMHYu\n",
       "P7fh9tPbL0w0nhDEwp2IFpQut3cmVhWy2RuOYvRwRYxpclHnfbtsfXvTHwQggYhR82ELTaC2sblS\n",
       "4MMrVX1uJTOIQm/S/I4OnFsrpWe8hxEbOnWD0m4PHwSOi13ZXG1gWssdnVXW8mRfZREYQO5dLCLl\n",
       "ICB1mWYHqrp+UGiSBHvXu+dKqK7qFBmBcyerTIzo269d4LgwLAAAAHoBn0xqRf8CfCroWEbn3yZB\n",
       "HrBkF0QOJIkkn+b5ZpoVKKQN+PiUVoP80Kp20+8qclb9bhkZ4p+c24B/I/IQgVR6T/e9Cyv+VTb2\n",
       "INR6wZUyfxHr0R7Lmc4PXEcWnJhHTRigCzoA+uEcZ/GEMrhCU+m9rssGFfpg55x3QQAAAmdBm1FJ\n",
       "4QpSZTAhP/3xADld1+ozB/AAEJwza+fCJmjIpi/gh1eUq6AMUA3hnawQYChTcDZ9hMmLy74OCMyb\n",
       "PfDBcvw0sL8zJoTkkbjNbcPEQ8zPDIuwTxi6Orw2vzKFl1TvNraThs6v/3AHtTqJ1KTLeK+wqF9j\n",
       "6jUAo+Znnujvx1VQfF+24h2qwjxt9KATL8oAg0ywnFY+47lLWZQ3sVbaD0DeeHRUPTgFEVquoP4L\n",
       "NknfgAaLk49B30TTNPc/mU50tAltONMup56h5+94nJXA1lo8RqUHQQrBcl4HQ93v3DpURkuclL4u\n",
       "7snuz6QvoYCigJIVDY6NFErrgIMYE3bhNvjsDbZ0lG5eNqLESdo6VmDIGsqubb61HkWj4GCaK7Gy\n",
       "c3sEXYSBxmKcg6spi8CGT1qIpSKtf78Oc343KmKWvdKKRNmYQj/rsIdNfK12PTWU3T9Htj99Oy37\n",
       "gWU1iHmHoNlNPBVpLX1IGLg1sqfvGgM7kat2GCzCy9RcDKllb9XO8b+oL65VIdWjgR7hvjaTktLj\n",
       "X790XKuhBkHmn82hINfbUEZRLgeuBzYXD78cHL/lqWxu8itkFBLU5nAOtQCvB5HR2SmeDf+ZaNNi\n",
       "kA2fZa+qj4XX9h7IGc+Yp3tScCJmtNZANOkWqbfHyj+cZ+97/tvpvk0+VWDOUWWoKjB+wpl6TKaA\n",
       "4zkz+0kuvAXNtjkYw65frnTWBQtz16TMI0t9gtc3clL/KoQjjYCU+c2Lhr7HQ2m69q6ysvYCj/0L\n",
       "JeHPlXasMTivbrpiXWDVnRmVaYNrlbNujHzbeq+hSZ56CVGox9t4J4EAAADPQZ9vRTRMbwH5k56c\n",
       "4DL99IB9+fokAHyGFFYn5nqHUvyTt8eKeItAEWk4F3k0IzcNVXob4I0JIW7DYkFSI64fgfvtaCCP\n",
       "c/YCJZ32Zm6sRg4hCeRLuTA2y5h41gisMVfAR1sk4VDX0rxePQmWmwOL2WGi+y3q5OALbSqd/KF/\n",
       "+us0UukpFjJuaddAr+ABgqwnPoCe1IybEGw0Dz9hD/XcO9JK8pKr0leN7ATswYjb7NeCuWYFnvwa\n",
       "pYD2TD6YFfEwdIP+ZTheEygkqoWkbDthAAAAjQGfjnRF/wKNuOrTyXjAeUhcMicfTnpgX3FwAbTK\n",
       "O5MDYp/FeFjhVUcqSyIOqBqZAvy21LjdQEAIndcn5q+NxH40EHeFztdgc+dY9INY/ghZhoQtYScx\n",
       "TzlzFnEGCtYmXbVafmnzPPabqEm2ndjL3jqcllHtLv3cRv8urG01u8o6fcQcGIN0uzcIVIK34AAA\n",
       "AH8Bn5BqRf8Cal3fZ4XeohNyArLn3kxADRnUK7lIS8U7lQons9CPZvg2KcbvU1HbKKjW5rAa3O/F\n",
       "po5AnCgB0PpB8yfDzcm3RochFXheJFhR9Vi2Yk0Sq+sWOYdXZRyAuSoRGfnqs03NpzIzefUmqZnx\n",
       "upHLintHZIFb4s1nL1zAAAACo0GblUmoQWiZTAhP//3xACpc2EBGBiYU9RkReUSU5yMnK36DPpzG\n",
       "e679B6L3+2JmpiOlnC86iu0XVbrBLxsDwNCV4QhINFBAxHhMHh3mMTFwwkf6kVOkTmFVqwiqCDr6\n",
       "+RjwvoYHDAajBwGymzYPvHaVdrw55N0RJbMoOet9OfcRoWP/owlVi61nNXWZASyz1U9wiqXO/n0j\n",
       "bUXmrn4BqrYCBjQjK7UFUR3L3FKuiUYfuvWhC0fz9lZeU/6pCEvt3JCQvYLczuoS1LXTH8uLz8tB\n",
       "C9FcdpaOMZCQLyzBv7EnyHF+Tn8LBDMB2Rovc/AlgMaD1LYDHHFNkAt4yal/7a+MPHJg4SydDSPB\n",
       "fyP7K9MIcZkETt6kNv0YPIFJeBl9VuyWdxBzVt4E8S9yKDmMH61hxxj4dHPdBFPr+f4B1S7nIAKm\n",
       "Ew76/okpEBZ3JFcYqK6DJ0+Z1pe9eTyihb1j1MAIhZr465oQEcaSy+P86JvdZy0CE/ZLsrbghkxm\n",
       "0T9JZfxv593TEoV84SZDQKcw0uA1KDsinATfKlAPme3CM88IhGxiHC6M6M4SwaqFP84cg5cIFQ7o\n",
       "DFoC+zqtkhsdRSKKzdPcxcPvCjoWBj7DpCK225aKDzlf2EqT5ty0kXK24uYaGweoxvdC7j85CwVN\n",
       "hgl/44eVdNytNUH1MSeo6v/sl8hP2rX9GpZwF0FwtS47+zTpRaNnAfDrnRgRf2cX94gXJiYdl3C9\n",
       "cyCsfsoHT+4SWqQgI2569cU2DJx3zodxKScDvg77zHI8r4e5OJX8yJfv/KV8X5ac9bo8ElI1tTqS\n",
       "dYyJXNk/Ki8Xwm4r99Cs8ZM23R3KbTpIOlbFu/ySmu7zAipL2yphYO96givxGQSl4CGOjoEzviKs\n",
       "1q0RtMIBS7JmgQAAAQJBn7NFESxvAvWQsCKoVj3QABNMjPQHUHCft8wX7Nyft+4efVLXBL6UCA/r\n",
       "BRAYylunHlS/ZOc7QeEN93VldK0a2bMWTX5R+Uft73CI1CesjR2zXOhLda8u57JupkDzGbVtgxD3\n",
       "WvDZfpLtbsZIZL1apyDGGDTsATXDubZw7rqpYjHxB6IjzLYIr4Q81eGubQsoQG7EdaST7T4YQzSG\n",
       "EnqjbQGky1F+191xLorz1Ks16dEGh720JboPpoVGRQ9gSeDVsq3pHs+/2vPfGbPih69yUonZ+ZfW\n",
       "1xaZKUeOFxwkMGSHqixrvFoDfLM9dubSK+qaCeNjRsBsXBrZaZSx4l1ID2AAAACcAZ/SdEX/Ao/v\n",
       "OuMAcPity1C3Qn+AACbClNDvifumel9gwcMaCNMq6W/Jq1PFCNhrq+sBakGcUJeKpHnkwmZJDibU\n",
       "sFr4n1webmDet6/BMMlhKmVhhQzNZcCmAfrChmTLlywXEpV49C0PHrL0cHBvsIzZU/Zhcjtnr1IG\n",
       "uljgnr8Y4AVplxqc+v/KMbFX+cpmp5snf4dCO+CSCoagAAAAgwGf1GpF/wO24OfSqjKoJYhxkKSe\n",
       "/NLxGZHSFAMpYKyQdrlulwjQxIcd9Zv28nABJiSo27EdoV5GRTa4G3fprg4XrPElIyfa4rto3ZQJ\n",
       "tXkr+kQHvZfkZtpCvqx8XXuf6tvuFcjxjG1c/AbkkH/GEVNcKLNHMKa7rnGUg/bfJoMpFMN7AAAC\n",
       "OUGb2UmoQWyZTAhP//3xACxcpuqCiYGZGPWN8dxGJelA03AVj9Xk0hmTOCNwUQVEAJE5e4oLd5eh\n",
       "pTKLXQB1bhgc+glkDKdvaDY88Nt2Cjph81DtzSNhlVrYJIO7DO/8tRxukRsdIZwCL7iR5lJJzltv\n",
       "9h5zDn5Gc7UbnO0uI8MNYx5H7BnuOPqEmyYGKtEBuce4+Qscr2JUa0ZzdHGsJ4pmZzcMfUyQoj9y\n",
       "8JhiQnPHYt/tqapt9fGVEqh6rMbrGY7yKjF7ZSEcUlYq9M4yPwcqGuyv1KCLu7WrwnuaVWOoLjVq\n",
       "QBCsG5JbxYvH1o58L8oxwWbmoxdIHWJzZM3Zn7w+F0YXTsVZRJ63gl/KxJTD2PGlEUg7wypZaco8\n",
       "j+aVGXCaBCb2RageK1AMklJxwBspROtz3t1y2QpnyXXgfZiVEYUu3qTITwF6ZRNzPz8Oey+KQegT\n",
       "+ypOUw3eaLPx0euh6X3/ZJTXtA3Za8jS+0Rk9WUDyBCKdlzFroP2cXSFQKADEMIC+Am2MmAaxwWn\n",
       "ddFfZYxnUI9GH3upJERVBUjFySiV+REmWSDQ/FbX2/plGfAMWQkVKtMP++8mJj8fifLQfxQHa3q8\n",
       "lvdem3VoPNmJRVLff1ANZngnvhhIIhsXcYGsIMsfvGPcu+mfUAp94RIiT+u0W+DVEdo3YHNKtvci\n",
       "ezf2ogqqhQy+MufoUGN45n5/KgAMeiTyGjib0kyXrNphlynSTnsPjDHnQphwzgP9dB6ZUTcQnx9V\n",
       "AAABBkGf90UVLG8C9GQTfckNoP3K6eekL+DntWBAxk2SngAE4X4gG8aAHcpXILywDs8zn4gqBoCe\n",
       "qKt8z6UH4iYV3rz3Wjh7LgN65D0gm0nuPUh+d+j4IxCG1VGR5JYgRXO4agyJnS1hkMJkeCWvFVBk\n",
       "sr9Gwnc6w5ALoaYxQSWa0TxSKxSDx/PG9ELn9iZ9EAKh0Gez+kpKuEHPnv4O3qbsLUrrdKzp2Yfn\n",
       "TGdjEq0yLD8SfqJ7FbWp4+OsM2QD6O6fOGeRLFhefdxnVkgJJ/BTFN6twkZYp30biNh5UEnymarF\n",
       "qJALK1heKb89Ctf0tD1Wbq8140ZPAOmDdjgKmedJUQm58b8baekAAAB2AZ4WdEX/A7RcENzsTnyR\n",
       "yVUanElPCFUdkD07/EyXLEvdXJJz++l1Mwv7HgAFz2+9Onfyogb0Heycet/SC8UNkflxAba4V1t2\n",
       "ZF6IzjJfdwpYR7gWYu35pPA255wJ3vaFg7mbfAxDgoN9M7WqptI4v+jcvgrE2QAAAIQBnhhqRf8C\n",
       "jjFnwBz+qdBkt0BljRBOslgpy2XcO+lh7NLtEKOLpYfxuia+5cZaemXgBZOgNEQ4nC6DXShTrkGB\n",
       "tYTW7OKuxsVa9BY7weZWYKk8glOjvqwGn9NOkFd4cfuDHTRQs+WbVUEzoVL2njsnmrzhywHzYvSB\n",
       "4ul2XT88S9d9MKgAAALBQZodSahBbJlMCEf//eEAL3w0Wq1awoChrlH9uQneUGR9YegaQqaIQDcq\n",
       "KkkgtXs+kfecIpnpk+ORD69f90M2Aws+u32BDPgAFHxi+0mI3oiSfnKMA9HwaYvdOCPmB2d3gfvc\n",
       "ddsZeJf7OSi2+hqrfVUK2hldAy+A9gv+1YdhX0RE1peWP85qU3nc/5ik127X8hNB6YgNWPhNSFWi\n",
       "SLi7gMeGyniK9f8l1IhysIQGszW7rnA3KG9jRD/bTQ2Of+ouQZw2p0g9lu3sZ7eb0bVU/FQMtmUk\n",
       "qTsgftf12keGlmR9i2abpT6SusYbqJi6RR/spklTxBo9Ro4H6p1YTQIjdsIklw0qIG/AJeBF4vZa\n",
       "UbjC+18RXgP0VofcCsLc8KsxmVtZqImr6RbbTO18z7hTmzXg58XnMKuOGIRVKJnYAfyQK4hs1HBF\n",
       "QRwx6pYpOj7ySSSWv6GcDYwhKxxniTIXgiTjteb2p1Nnxs1FL7TQqcfnlKBgy1faSyvVt4ow9LLB\n",
       "G5PFL/Yo/wRVIETpWJEHaT1UIbcJauutdd5qN/8WgX+lIowCOueQt2SoXXGGH7vZvYFS0HMbOTA8\n",
       "Er5U4RlStu4qGkWEpCoNN267V4m5eS730DIkkPLotEmzGkCZEFWP1utSZkEfQf87NXJxZka9RzPA\n",
       "GgUKfer4CdutzMRBfncpqLlY9gtc6zV3HPLlAt6Cj6fgxMiGBDBOjGevqVYaBE5eEPOBRFS5b7Tv\n",
       "mdgtdEI3JPQmGhW4xF+yORbN+RyLkTEvggzWmvwaStMeRnolyGspymgeBD5284vvGNmsE1VlkbJ8\n",
       "iQSEm34StVfiE4yzHp5uqB2ap4YH0cgrzwS+VabextpR2Tei0oXC42FKmb5/GlF17ZS6FuVM8tpI\n",
       "QYE43O8xAPuyN76Zu+cH99OstMZ46Zg/bleeRdQmjzeW6MGBAAABFEGeO0UVLG8B+nbmQ7IEiBbr\n",
       "jTLdgREAKpogHL8ebWECBh9Ug09MGi6x0M/5TzRYLRWyAJE0gxBN63n5Qr5oiIJnGVq0G7PGrpwI\n",
       "vzy5u7Jv7270Ph9B8WuAERoFh2d1pxKomgMsXIex43gorGVC0pgaALVk/wulgP8HF033ZB54Zydn\n",
       "WTtW1krVoz+xIuUygt6AleIKcBz+mjHKX5yzb7LPOuEL5sm9KzPAQp/wd4wLumGi+DTxNjq9bPlh\n",
       "6DlNjdTlUgNPhnNZzIwOGobTdGqTInhu1fVXXPWvLxogjHKVXTqEzsQZ/2+B8wgdBv6oqqsKh+Kj\n",
       "ZwOag8D326Ww/5gbNbsXfywYYUBVwXPBOW7bD7MZIAAAAH8Bnlp0Rf8CakIVM+kHIBeYBnT2NxeO\n",
       "CW/vrw6hbOH2w7e/B60pfnayhyS4EI0Up+NMBBKLFvPLZbldSOAAEv8I5bS9pdDpE2+F7PZVLx65\n",
       "fCobSQslt/B7gp8/lGFdN1eLBmLXlA8XfEu4fjjKGe1OwIcDcL5wPweO+rmLYRlBAAAAnAGeXGpF\n",
       "/wKPmjcIUOhuJKa05SAD9dWaeeroSP0LXVv/JkoS/w/fGFwnUvigObjQt7k1TvkZuMYqdz3NjJlL\n",
       "VDCvXtAyy+xSkTsSMRJdBZeunxun0y/RTJcZUktLxp+wqIFLt8yZocgCCRyBpLpYQhlJbzKlsB+0\n",
       "4wQb4RYvL8vsDLivkLL/crnmE6KwCKsKI36M9mRbsKt2PlqtgQAAAgJBml9JqEFsmUwUTCP//eEA\n",
       "LEbyRKAAfur3tjYUfPiTNDLTSILJuwJ5Csq5ENejcEiVYC7VDhbviFWHIMQaHcFJqZzQbPhIzpO+\n",
       "T4uBNS3ODpUDUpfzGWB06i4p7m/Ig8LVnoGCfyzmumkcqFy79hxWRaw9IXKo7FP4g/gWjc6OJ2Oi\n",
       "YBaEoWyja4zhZtGzvy2sGy7EcmcJ8AO6sm8x1oePWMgwufUh45WOhKijcRA3USSRO9Jv/W/hX0QV\n",
       "+nN9nrmsT0cCCWOsZz9q4cyTwTirTYmEcVMDvzabEcZungvpne2uPbvBHzbaJHerbb8Wd/Ldpg3I\n",
       "aoGUw13aJT9THu9bqQmtVpisLvF6txEYDQRV59IFA7jq1OPINCiFXeJHJ24d5s3mM8cF5Ezyl9l5\n",
       "rPl8xqbgzZeBG+Nq/ohIJ9/jJhg1ZndPbpvIdLpNxW4r32xogp1ry4zAGRQJLbjF4XIN5FjTFt00\n",
       "gns0L7B4l7SbqxXOdKamWavwimjKCePeT+th18pZhhaCrZ430ZAL2pWbwAZ7O8siTuOWRQhDojIx\n",
       "hy03g4VpAo4i+082aU37Oly8Ie4ONXC7zMXuNNK2GMMkimvdl7Om96HXPDjlZ8PefFO+4Lej6mF1\n",
       "J6aNZ1cWriWpEe1VBAwMVqHsNQHrk1AjZSQBzEWq+SPHufcOafXOUBGAAAAAgwGefmpF/wJbwXM3\n",
       "OO4A9LN7rdkhekuVonLq5Bxd5gVTSmhAUw00vOb3L1It/uDNNR3jlFdzJa7tDwgfsIXXselTJkfa\n",
       "MxEa2v2FMR6XcNHYEtrLmfVXQA4rmscQJAzyeVJ5zGJkB96HB9GnxW/yIQJUWCQ/FXn1Pt7eGIJC\n",
       "hIaMC35QAAACGEGaYknhClJlMCEf/eEAL354LgT3ScANwTfmYxGvC7LcXz89bbvjlaNT9BQWMQcT\n",
       "wrMmTQPQDYKHQ1y1t8SMalKC0yCvstUViYuruzngqffCnUnOOtNEiWdOB+Aleyp+okjhn/TDZTxv\n",
       "zdkT/0KuF8gQnqvc8F/XHE0Co13zPy/Db7jO1ubLMz7pANiXiZf0SH6M9iGJYOXj69PNJAez+4Vg\n",
       "7U4rFwkYGcsCAVD1Zj6D1gRkFh2HHeNNqEc7qCGYhQ7Y1t2oFgZEXI/vHJlnt8JpvSI6kRkT4j7A\n",
       "6K4plbhD3/ItWrEN9YNlqol1cPgvFD3OxOBLQm31B6PDouGw4gA4Db8U6mLZLbIEjtROth3WEeFg\n",
       "w+gml4qa+B0lOeczeUZXBWdDmvWFYGBomIGiKtJgOaliD80PoRwG+VyBhK+YlGYEgMai/XNZEfQ8\n",
       "b5kQK2lO4D2POmYRDEvBn2kUhD+XkMEfigT/lImzDYqJXRfnkoTo6+GopZj/2y38eFEjBgEMRpnf\n",
       "eJ2A/kl27KhyDnl6jnLXHb73B1FhMUjByRfWSk0kFlGRdXvfw2SeGvAkhaE3NjXsqD+k0FL+56b8\n",
       "WidWwJCvf7BIVIYWlNR/qy9PvLc3LKcN/WpxHpmKaQjqZCYO0vs2eTQPMmQI6b+/sGR6Dbk4d/yt\n",
       "5GBlWPJSk5TBvl/iaG3sWhnX34XrHvlPJVJKI6rcYU2ZAAAAtkGegEU0TF8Cj5o1Y3sZhi9dnqif\n",
       "d9BfTIrXQAftHrBOFhbYHDfwmddHIlV8uWAsLmdsQRi+4SrTCcDVaM3r3M3QhKv+6dEWC5NA8NMF\n",
       "0yspoabrjZVs/y2niPArEw2lStuKr3y7kngxK0q3eHjWQRETQ4vFJrlD7QQ1OrMXLeiFuN699893\n",
       "HFvAi03qHJozA7Uyrget0/DItKTJVZHtozl3JgCLCQf26rRlWeLg0jjWpvHTcFV0AAAAkgGeoWpF\n",
       "/wKPmjVjgggAATTKKE/j+zMC/2jQAAaWZcrDolIJ7/K9UyU7nnTxK4xlNb8lTK/Wzhqv6tiOHmJp\n",
       "Gw6iKgOG9i19EdHHJyLcUYt9PCgulYHJxaOr2k/c6DPV7ZmJ2WMC1kz2zMVT8keKdT8bbFttwpIz\n",
       "Q1s8PVHXlc/B5qG/5vtSLeT9tAR4FizduHHNAAABxEGapEmoQWiZTBTwj/3hACwNyKkAGzyJSwOg\n",
       "NQ5jtOFWAU2JqJjziYNZwNneO0QrcPTu8Jm3UU6uPLZyGNyU6kVbxigmS+DbLgMXrZajMI+xeN0x\n",
       "Brt+M/U+zPe366ZJQotQcBuXGXiDFKXn4FwJBzraHWydjOFbV/pocBf4wPXQzFgMLYD2qy6R/BOj\n",
       "iSn/vApERoh9TMfzCqW921uIjbLiVoT0AvEidMTPfTummp1x8jnLwVywjqWfmk/pi/9TkS5AxcDe\n",
       "TsksyAhMLwOynXNOdFMKfIo6aP2TWOMfZQyWx+qHHNTbbDwexMokdKcJncwapzqj6wP0cPyEhZoB\n",
       "oHjCqawXrptMlZbb7ApyQq/GjF5TLPFB9EN5Al4yO3qiW6eyn+D3Zzwh9LkyhrJV/LhMXwFd14xV\n",
       "uGn4h6VbhkM5Cd0ZP15ZonzMiI/2Ld2u4HMQptXnbmKKEeFx80843anssrop1/QBuUgYXa6KlKUQ\n",
       "W6Ksz50Fl/TMYt5ioAi4ZFisYsA691B/PzWuznkX6zIGicCAN0PW+KCKdNosGaWj0mZA2Y+1DRbz\n",
       "x8GqMgAY7wqmOGhB3y/43i9t837aPI5brZFAAAAAfQGew2pF/wIpQeHL+WJIMCVKyubdzDtZomnJ\n",
       "ZKMgH+dTtyxsrln724PgrvIDgYo9VN1bBONjaMc/+GdMLbqqjD6oxY3Ik2Bj4HMEUa7CHcBg3upV\n",
       "GYxWQb/ToYTkliMGxVba2w/UfDlnuPhyc4MlFPRDKZbwFUh7l4FU4tm/AAABL0GaxUnhClJlMCE/\n",
       "/fEAN340Rxk7FWRdj5v6xQ1tBtFXh69JZQSmI26aqmLAMjQ1fvxZq5lpZy7aLFSnn1hMoZtzw9P1\n",
       "IBvMXu8cmJul6ttt6Z11XwD2KFgJDqD+0V81OGp8HuuLmusEkbPOPharTbPq1x+oNAzntQm8PZAM\n",
       "xK+EHf9FiFO5cUSpGMGK1Vz1jtDkotNhKEzJ0cSWFhQoX83iUMLIKyPH7CnkZtFIbrFx9k4Ulbyh\n",
       "01p9dCOK7euEqypmRS7ExLinKqnRb7r6envEuehD0xSw3EIU8zVctKwqCemjqtZXdwqDX1cGbJTV\n",
       "r4OIHp6jWcL8+C45v5NWx69Q/8ieq5ELZwxuw13Ta1yqmag/0ReenWUWCOHPUIONupr0dBgCFhS+\n",
       "C1DoNRjTgQAAAodBmulJ4Q6JlMCE//3xAB2Q+aAAQNwBck50Kg30eS/1cxnRGJ4ypcggJfI4JDPi\n",
       "hkOfOZUz+ihcSxFgceBUPt1DnevERRfusKbiZVTIBUq05HrmGWJPU/8jNFyQrclzVTCILel5OLBp\n",
       "Z9Psbkt8VXvTQHZabw0NrmQsf6S3ybOhnkvKTpNkGsfEXaxCVgQKqRwSOty/bM0M3QIc3qq5MOLc\n",
       "SmSBPrMifkmeEDO+h08m2P60mxmCp/wLRF8888bjt+T5PmKX/4FBS9gHATIVhqNzXgw406y+x0Co\n",
       "GJjm4CktbgNhJdcKIAj4KjcXy7u2sR9GcSvkCs9EbwXIRY4y5FT8gpW1H/+SfGor7Usdi7TDfpF6\n",
       "iKsLuMfXav9ADyATrVkIN+z6Y7ZnlFQsFI+2oG7cBwOR4QPCBypewXP0Q/H7D6m92KpxKE6Yhp9r\n",
       "2sQK3CScPuts27vJG6q5d6dH6mvdaK/hIMLIbHeLoI9Pu7WtTlOw8PVhgq1WWxQhMyg5D6HHODqV\n",
       "cqdhzFM/dPXEPeGY81JhlEpy9x8ZgoBaRu18namj49nK4PD/unIhmfHTgb4Jc8icx/b1IUp/jBUh\n",
       "r/w5mPi/5SD61rFCyh/+ii8LtDHXHyD09vjP7umIYPfx5T2jorkr9x56SJPWv+sueLqoG9hFLjEG\n",
       "o031CTCurg8v2jzNM1kgDLvTG6OPF3LS2tTLrvEjmW1IpkD9L1n4KvfbSpAFeoAkI9mTBa41jEiR\n",
       "uRCK4cpLcB+yMYxaL1j4MmBizkAxrPBBMYwuRxW55rWYz6MADlCeBXeb2iQme+A3pvZ36vbo0yhl\n",
       "BMhRzrSYYIjLg/ncgSDJsJZlbJXyLVfNPZa0RZVZmQAAAMVBnwdFETxvAfmTj9w3EeWf+VLz5FQA\n",
       "ihP4D89psuOwkACe8MBZvOfPYnZNEv6H2asa/7CqcB7ERMdYpgJxmz2cHY2JXJ95Xhb0swI9lzS/\n",
       "PFgMV9faIytFcxDuJ7dnS1nURyQVHy24TyfklFGqWNOrXD+ud7cyjjphsu0sGaXeX6gqw3FtGRXK\n",
       "yquCPWKUG7VMgsoiqT4vWuoKbesdH/yARUkctfcihflSKx06Q3yck2oZoEQsUXI5C+qf085WPgIW\n",
       "qoKXQQAAAIoBnyZ0Rf8Cj+9NZqxsl5tAAldrlAL90h13zQT5ouJARBR6DN+LABZuuJ84Ou9TN1TW\n",
       "yc9GV2DETaZl1Uh1gu4g5lFDq+JxP86BN0UBjdFuN1eSGPZCZYkhgoInrr8A6+9GBrNxh3CHbLaY\n",
       "bENBhr5RmGfkMYNFmWPTF2GrHx8k7pFcCvkvWYWN8vYAAAB7AZ8oakX/AlvBdUqmgHzrW9PJfyhp\n",
       "lSYJcRHupbZgL1lHnh4QQv/FfdcPUztsmdWj8IUrB8r5jEZuXCogma7TwqT0rCFUBKqJfwRZyQeL\n",
       "27CIY7aZa2O8FxbqOB2TcaWKbHTL8wpa7ISAzVStBEjHV/866g7toy+5aCngAAAB8kGbLEmoQWiZ\n",
       "TAhP//3xAB2UvBWfFp/MHLlmgALnlwYz/+bYQJIbi2DAPqUFSbdE595fACCcrsQ/nFmTcQbW/F/a\n",
       "afVZC9JY+tm9NSr4kST4fgbt02Uu+mmnGly31zMSGjt3zvmipGf2+ZMsYUtn+dbfOaqLCLJzsq7e\n",
       "jYjBEeMM+/TD4H7dYcTdPSdCn+ap5CygBcYaR9zWW49xTzqcWq+9ZN0pMXJXT1MKx9Vd/wuXi7Ia\n",
       "Ay9qFnTotwkiaIS0QnW1BYCq8wWdc82AfUODRp/TCzrg74qWtHPje76KpJXO0OZZo0s5DNgkq1pB\n",
       "8dq6ZkFfN+JR3EPEYV777fOpukDOWb1RH56guIU6ZvOhBIQDdyRLgSqso+mQsXlVQLzlOhNTeYQZ\n",
       "7vpRO+TzoxZcweFSHdrglTsjnj3u9jWXq0nl4/J9qRA6f7Ty01th86Z3JNgsXys+VRkuxxZ/DK97\n",
       "yQr3KjBCCk5cGDu74637MqobpXa/UgmeaXowLJB5qzWTMZ68qbtmXJyJIVNizEvb7hApQ1YmehQy\n",
       "rrFBVLpp05vjLywTsMTjrfEIPHLKVnDNxm3iVmNKfE3t/Z+zR41WUkGih948nwoIpYq/Dx39Os4G\n",
       "UabEDEBSURjaSJlG9HkIjVdy5E5O32xQ5h6p+E17Sc2lwQAAAKxBn0pFESxfAo+aNWN8VPAghh9X\n",
       "AAADAU6/cmrxP39SCwAoiaKDVm4rjgGRYreNEmHXqcKE55oHR6PWkfR9kIbgkBLcUh4k9sIF2T3B\n",
       "VBWmd/lJJFewKGSK1TZJVWcH9tLsUtK+WV0+yCci+mrN0ZjFSBUi3JlV3EQP6K0XPZps9QnlmMoN\n",
       "2gQQgsqcQr8u8kzFptPpPLGoldRbiUYsMBcQOgYjJJEacx4AO9AgAAAAhAGfa2pF/wKPmjVjWN5x\n",
       "2QJCYUDAOiHm88BMy+K50bJ/Ssw9VXG8Fi4NwDvMhpNKMwwvGhjThLH/4EZNVgF/ZZ4zmqcrjAEU\n",
       "044gQ2U05dTvrT0POHCi9Bosrtcs4sr4Fh9wPVAMBgGaVpPMTNaTCRloqJdlQuTNlJGWPTJcq3Zf\n",
       "y3G5dgAAAgFBm29JqEFsmUwIT//98QAbr8o4AbVrpLzcJUVCDMvSho/rwYEv3Sj4y++3OuvwhkSr\n",
       "XquRzui4OPMlCshKpmIex7lFEq/abMk0sWuuXAn9fuCKuzj3JE3h03rDKeHGEhYNt3RJSk8urfGD\n",
       "2QkklQNl5xNsARUrFvp47F6wSKR0zt+3DTqi7uJTowAaDn1Q/b3KK+MkbI3kHM1T5pcxkT7DgZfn\n",
       "JZM0XnMUS1Pl63hErhdsd8fqBdJ9Rakox7ufFqOBEkYcWhd3Tf6yBKC+0VBqsiPJ89tVRk1Rq2kQ\n",
       "3gpI59Rl8FLT27yTBtoDH8ySP/6hUPZ84/UEMG7ehddoKU6Og9lU5sd3U2xBfheeMrzXuiw21PeJ\n",
       "HsFwjO4ZONsSbaE5o+BLQzwtdxDA6pkrsqVSQnsVVJmr1gTAnisi+h387w2PpfHvsnzPQsyIhg80\n",
       "zJ0jOBayF73uzapncVHezK2PiojxAfGg90ocIyn4CKXFevZluvXWDPznpOm1/qr1lgbdHZol+neW\n",
       "G6ms4/l72ice/Q+c/OZ4VxwK98H2ydmlTnYTq3KlLZGckDgtrNySWOQ5QYiOeJcLW5wlqwnphacj\n",
       "F/c47r0I73LpEdVHSkkl9Jb8SsC8290puMrrwH8kVjGkx2NEpjwR2xBE93HVnLnr3aiLY32hpf5B\n",
       "7mg5v91P3fMAAACSQZ+NRRUsXwJaJyYr9owSdOTRi+uao0NgofrIzjDfj33G3BwYCIvqUUlV2Cr1\n",
       "i2Ozav/Z7I3cqpBAmfOTGpeqoyi+YZtUBTB+MuQ665D4aufXASrCYTs3fNDldyhHzllVMKSoRoAZ\n",
       "oPa/YEePxUTr/CcJpDtQn8JeV63yUe7hOPw6C6mrAKXrBwOgSF7MvccMHLkAAAB/AZ+uakX/AkvB\n",
       "d3tGVOnJFS1EYQUYh/EIRsTxiGfYG/gJOmEfKKfGYEW02z6fQdw4tbTJJidsl/mYuIACrrCPQrF3\n",
       "wLV+HARMMEniGyocL01yTXUVbPVYAM+Zl+jJWoJ16XCDI6hP+A2w4mMMcBi5mXGt1W2cBxJlFBLm\n",
       "l01HfwAAAc1Bm7FJqEFsmUwUTCf//fEAHZD5oAA9VgmmsSNC2ghWxNrjd5na31opvZTgBkG64tpT\n",
       "5iSZWGMm+HP7BmSJZkgNwLFHDWPZyABkNJO/zfyWfGse0VBYl90D9X2atnPSpBRBJGN+8FAW3quC\n",
       "LHNNcmsQaAfJp1z8UZ8FV+Ib+vCIe53q0NyozeKzozt9p58TjzMNz4l9jeH1LJ/Klu0Z/HwROteC\n",
       "o39/2Fv79GO2xi0bVqLWECMJwvRbCCQKNeSsf3Uc04OvaqF5Eh9lXtIiVgze+BzXo51owbUbimXx\n",
       "0L0Ymq8xtaHN1kxMi54wzm93pfTZb7s4gecOdy0zo5O8zonSmt96b9/q4yIKqtt9yFn6fKMbSpqj\n",
       "4eSwvGuxGIRFXQf3yZegHRLvSxOjNH8QDg0aieEq4r+U/TYr6OzR+/0Q736h3ZAiXsaPSo4nHHLc\n",
       "H/ezl3eRHzP68WNF8uY1w+CH44xWoGkyut/lIKZSpDjZDUtmYHvrp4oCO+NRSoZ5edhX0HLvV32g\n",
       "6/Va9l+C5DE6sI4MobyUctivMy+D54hRU+UBZ8Yf2s9ozw29iXeiLEjx4syFfgtQ6QwrioeSL/Lx\n",
       "7MW5+4vLyhwyXshA1gAAAIcBn9BqRf8Cj5o1XKa3bS1ZV2gAJ09ouVYTt++NitIYcHrt3iIzyyk3\n",
       "c/FF58l02u6AA2TdRnIZZtj/ViYrO3ykg11cwzwec/jIAEvVlDs3PoHwsSYD6IUV1vrlk7ZTn61c\n",
       "J7qkIMcdSHDO2jCHG9sHJzaI1HCvxCqdACL1QmkMsAvSYNbUZlAAAAIlQZvVSeEKUmUwIT/98QAd\n",
       "k6JoAAqwBZ4d+6jgotOcgcoa6mJ7jHMFT8v6QFJFaHWNJVm/gyVEF98TSjb23ORBj6tGHAiaGgrr\n",
       "u8tMO74/EET5DTDTEKaShH5t/GzV9z1kAkIoeySbJpBeLFd75N+4GVnVEjb6TMOrLN5OqlHf48R3\n",
       "yEnHs2OclqmWyZz5rR4sIw4aX5weeOUkxGxiaQRzsNGo1bDdPKYOx+pw95H34rjis+xTcWoS8fK/\n",
       "CxrkdDHulNw5u4ayKra1UzbkvvEQml9UiiqPLy21MUQNkoHlVxYEzpwN5oRPfddJQwYjd/6msxFZ\n",
       "q7/vw7JheSFdvtD+wt9J/sKt36FtxLOhYnW82bgq1+p4G14n9pC0nUIBQ2QGyf+oMEng+5qaEm/M\n",
       "O0MijfhJg6OUDN+RuMASpoj0PHwkJ6ZIbDdTDxn+Dy1/sKn3URyx46+k2avP99uno/VxrvYA1uGm\n",
       "x4RJi+u/Kjzm5eB9jxeooyg9s7Ty8lvezaY0gRXyv7OxbLWsrlNnndQIQIb56d1As7My+AZLY9Nt\n",
       "U8xjIR0z/12rQzQYE3PtG9AsBZJm26J0N3DELtpVxtoQwlLkqVz0ppLetUGDgpjaUiSi4TryWa3J\n",
       "k3Qybgicwt6PJj9uM/gttRNCQ9JGmid8sdT46nStQ3WAFlkem22ZQ7MLz3rUDGQ2Xrn5fIYFdtem\n",
       "XwnYbObxnhZXIrVJVfsrb7dbDyVhAAAA6UGf80U0TG8DxPK0eTpikNoekCGRW2b2LE0UMRqK0syC\n",
       "Id3LlsgL0wbKv4FA0NIFsl+aqZXuSJLACY+mkVGjEV9F3LdUa1K95erop5V83luJXZ/9i2wP6oyL\n",
       "sJFRx61ZnXx1UZAeHg6lHV8Qkn6hCgXEUm6b+osjv1hekRpUrQWiiLbEBemqWvQyDfyvbRGUw7Ud\n",
       "TfVeqZr0QOxeDFBbiC/+NuSBYPbFpYgMZSqa4xhwARG0m/MtrYJojYz8YY/i5Chr8Sf+9Q6X3olr\n",
       "j0uGMP/B6I4vE5Wp35EcTKiaJhEWsoxfTsYtloxYAAAAewGeEnRF/wKO5hJqRj1C627C1QWpsLkR\n",
       "21meVPYQEQwgBAGZmmQ8nYTeTKC61pd5dU1JODinfBYkHzi4124L5svsmfUS3SMc8Fs8P5pIFigo\n",
       "RERGm33V6X1XelokZhNKJy7+111axzSlDe9ngp64GKbS860E8kZlKILuOAAAAI8BnhRqRf8E19Jy\n",
       "q8jR2U5e4RG4rcBw5zWR+YlC0sGjWuZpphHGSTrTRb5qjsjjkhEwBRqXADUzb3LT/jUj3dIAOcde\n",
       "hGxkpVNMwT923p/23TOvt9+vPNIDbEZmqg1YwmAZKy2iKoMoMYiSAmJbK8L2SiGnpHX2/ydM4S3o\n",
       "ejQ4loc88g/wEANnYDn+HZ5fQQAAAotBmhlJqEFomUwIT//98QA62UwHuBjgB+YM1gp4gNIyPKbQ\n",
       "ZMBvv7UxJ9p+5bmemyA9eM3+zoygqJhwmaS4a2P19sX1vI+snwZgAde5tAmZQkjAqtVfwTbZo4K5\n",
       "62rRbs9I7FXXbxOzqezINN2eWvULjbtN83i9rmG37JIp+iEmyM02tiX9jBcHdIl4iaU/hXhQ33MX\n",
       "kQVj0//PxKuRCtjBajowq98L26WKPJqRnLyyy4HpHVm31l+ZBZJ4rlcpK2Gz1UNT1VERI4kYDamU\n",
       "bdGkkk2gTNWqZ+6zRqssK4JTLz+DxiZ2m+Mr26QwNZ8epRG94csv645Ukfk0v0+V+LfJrz9WzWqv\n",
       "nOj3mNgdh2VqzbHROnnzUyIazB5BIcgOkqrB1kGe+hckR8WxAvVqoc/Or7/+bXIZMrSbmzLIw+Iy\n",
       "rQnO9nMX7bcWSP67ApBaE8uqrjQBroxO6cOJi64AbYX4GWmBIpyDuUjWpMqkWHwR6rZ1O/Q+Olo/\n",
       "7NkRa0pdsnWphhYc1XMKxb37ceRIYZTmc061QHaql3/bjGBiLiKoGNN66Rq9WBcafZvZhdm3Mz2N\n",
       "TiOXMpA7sOP8W4aZIZy/4i2Hxqdhh4LIokTcqEG7cQF5/vYBJY4zTdJLuX/UKmLNQesKdGn1yAiB\n",
       "nqeIBc4ZTqkEHJJm9BrnbZf4uA2bdByJ2cqWdARBAHqy9HkvcRh//DuOpYwRPFWN+k4LL2B0kEaO\n",
       "WsWkS02tYPr4lFGIIVKkhKmmeiZxnb+mz1D/ty5AU1nR425ltA7/zF/d4hSJ1VwdsfBQmlDLDxlF\n",
       "lM3SJnLAojehgEXw1wWQ/deqxnqjwzaPasr1HWUYbTLIUy/HrbIfOQxTeuX1bGAAAADbQZ43RREs\n",
       "bwPDOFm9/R3zAAraccICLsolb0ARJ6FeShVNRC7g3toPiH3FA6PEoMBIokSF5KgsRpQbEe1Zyqi7\n",
       "Bz54EGXhujx0roVKG/1jwPfHWWJnr/5Uv4/c8LFaNSGwVlKiBM7vVDpIQQPFO9/aMwjk2xraWgoU\n",
       "0Ryi4jMAkUWbGZ0tJ0JSqmSwfef7VMVjqdy1ZDLd8AF1PLFqE0C96H8XdAwJdxj0xFoiDhqC/PdD\n",
       "PRxeCSFsgMvQQHXl9xT8atU+x0M3tuJfM51RBaFT33gai6iW7KG6PjvRAAAAjgGeVnRF/wTUlLri\n",
       "z7Eqx+PdgASpO1hXZ0AUsUvPePqAAMFhAY1G2m6480lhQuogNTjT50K9JTU05pxhkXeF4UjVIKyg\n",
       "PjAchIdK2MQrQ/hmSvDZZZPmViiy2A4RX6ydyf/ahcClnAuDCHOz+RjJ/xR4IC/mdhZdMTtXeJeW\n",
       "9WOxtXl0mYIKCJa3BtsgmFUAAAB9AZ5YakX/AmvsEGWgXJOUwUNvcv/lFCuAdP9xbCFZm4JmYC8f\n",
       "ZtcmJoQa/INEH1EJPJals0EeZ9yAG45amcIurQWtMygquB05CeH1vMCdzgOY3Zmno8ezfSQd1Vkf\n",
       "XGTSUDI46EAOCzxeP0IoBXfi2WtqBe2Lvq+zT9XwHLAAAAIhQZpcSahBbJlMCE///fEAHZS8HD1G\n",
       "cpdZCaGlAiAgZXSu0dhEJxBoJQVdm6Ql+UvUNDtZeJU9WoA3r47rk6S8ERcZ3xv2VoA7AOexArcc\n",
       "CdssVswJ52b4NJon5hUH6w7XdYdaXh3Luxbf/a9FIdc/aS+abNCouH6RyLxlB5FZvTfTPaKwkqGQ\n",
       "G22Zs3iy8xhUFF9ziUg+o2iyyQDHXaAWKTuIJ87Y0Q/7EmUxT1YRTVnKmr8fpIPz4QIx8ert2T3z\n",
       "sCpKEZ5qp1x7aCg8iprOD67bXmkMIcqOWKH4DhHJhvXNpZm3YMmqsws4/XGK/T2UCEywiwUIlG/2\n",
       "oETj9GmHvvJSFSzz8pIqkCcrufdvLi6YNtFlWizSKLPuK6GXaj2iAIjmzbdoh4irSQ6Mh7WR188A\n",
       "Hn8jEJHXbUDR/qXTvFsX4JWlp+LQPYajxqngj2lgjlgTOv8B1CNb5IKl4++7indeZKRJoZMDfBYk\n",
       "Jc7/A+T8H+ZmBhWDmCA21QJ6nCleVJaEAZg5gXASco1qzzggBeUYeiaHv0UwgnwKfxnMD1VGrI9p\n",
       "DKsB2UxunSLMZbeLd4UMsA7XR1qaTBs0uY17mCX+sd+zESDugQNfypjkPvAoemH/PaRhcgh/QQWw\n",
       "Vo4fcLiR6NuqW7qh/3u23Rmo3eI7RH2gRGvDUGkAl5MNktVaeuQsn8Lrl6Rzpz/N4ZOjgzGoS2Gx\n",
       "t6zHrPqSKDwizQsAAACQQZ56RRUsXwKPmjicZi4dS0AAAXMyezU4LAD5TANdslH2DwqzuUzd74MN\n",
       "wAexXPoFowiyJVJSPuqtMIlkN/W66ZkPiH2KDUwkvnsXrJO6Bz4Mt8wQnqvu63npFPbrYELZmETF\n",
       "F0F6LGI3+hG8f0BoV98TQDo5CDefhYZfNJEEkzemk4J+ng1Z7g7AoXf9Wqh8AAAAjQGem2pF/wKO\n",
       "MXIpzEX5AACBIDdbUAM2OFkz0emEwY3ajnv9NOPpoIAgXwEOWcTxWz9HHLOcA8+YR3x0jzDLWJnc\n",
       "72lF7jEIadnyhK4+byEJrX2mWXeHHulnbbASlzSaKJaIrqtfrNoRD4RT70IRU479gY9c4mSPLV37\n",
       "/qmKLglPgrpoBaar5V5lHM5rUQAAAghBmoBJqEFsmUwIT//98QAdk5oqxwqDClxqH77joTgB3ebx\n",
       "LcQ5jqg12oQUgvFUhE67oXgCK05w1qmDCA3IX3x6B0JcEtpnCyJs6LF4SI6foKg0V+ffKBtSmscq\n",
       "iLYpNKwiHC3xcxXq8MuwuQ5r0hjBek9ll3DK/GhAusG05kzXfga8q8Dr8vZpz0Lt64k73lV1rtOP\n",
       "z2IHX2livC+iQqn+Teh+gBbLKkbQcbJ5qOv6ly2fS/tNkLrrsjTTd3UhLA3ELgtk+vKrzZZJqQpE\n",
       "++zJW0v98y6l87ZQjG69ByMOroly8RKxGSvtGQ017N9EkQeO+NFrl5AZrcF5Rm2lDpGUDU2v9I7x\n",
       "SVM2lmHPV3iY7RbG1l+He5L17wp1YZ4DBdhNGRj6xX4sswUjHewZJfXM6v2E0SPNd0+KEsWJWitL\n",
       "XwGVvf7FZqGmoYEb2Ox5rctcSHOrMGNT/ukGTyetGkLkEK2jNNzyOj95tJrFq/OQ+2zzsmoNlsH8\n",
       "2EEKc4kjkGSqLL9VonXT2d69MSz392L+gbkvau44jfee4fajfhs0CqY2FRHmbuY0brmep8v0Y2r0\n",
       "8/ugPV4H4wMT3+LeRKuzswximaIy7bSEU+kzuz0JqCIAacqoJhqP7YJYBuha3HzcClM/SDS10VWH\n",
       "BNqI9ZN8YHhZhCuz6hM7OjRNUOWMljMC3Q/XG0NBAAAA3UGevkUVLG8B+nbq5qviwhTamgACQ7JY\n",
       "olQwxIAbU/IVAbUlKtUtJASAQ0OxpRZrbq58M9zWQL7EelfWhbp3/890bJ0MxArdUf9YvXQjS86C\n",
       "At/MaVSAQr1C9jMpyaccclwX+gc3jZQJrYFvinaR693V8jppNrVWVqvyjMFSrxDIE4d4IjYUOcAv\n",
       "08xNN4TVGN1BHJxvCFEx74kSY06T6eUbPLlxG7FlHNpAd3cWLr7VzeNb9j4JPsEM6Y08Flb7b8JG\n",
       "vjVQPzUuRgo9+yhiT6AZcIgPDz/AeJ7dMC2gAAAAjQGe3XRF/wE0SiD5cAAslaHAzx7qnAjFPc/s\n",
       "HKwj/U6JtkNHmUZb6h/+qlUdkeFBT3TSipcLdBIxJ1mC504DzbmLpI7vNRNGmxfECQm8KrqKqr+A\n",
       "UR1qJl9WM1F37fFm5quTSJP9b929zgblZyT8PSb4KKaJ22QivRrvDt75FQP7lfIaKyu8+T8nOpgt\n",
       "gAAAAKABnt9qRf8Cj5ol+BbkRM61NaQAGPCP+F9g4AbLzkbnDb5aYPD8P/W3WGKWMFq6SDuwDB+8\n",
       "GLpU8MPbJYjpf7bawc+hibe0cLJcFnAy2CFw62LDQVvd2PfEIj47xmtncJmIwvMPYxxeq79tSZcn\n",
       "4bgQ8nhwSWQAITWSdAdnlKoWiegbjLAOptOR6q6J7bdbXVMWhEVcisqhb5+nuk6VTPSBAAACDUGa\n",
       "wkmoQWyZTBRMJ//98QAOdiyTQBO4dbRUI0cgSIzEXdDFikPfUEjpNbT17pF0eRjGkKXSpmRl0Rrm\n",
       "jthbGQRo8nBPWrBvw7q/QsHHi3J808Gcd9UI3eCTKWuVMsmk5B2lLVmIon1UPX8P6Ea89CYCaH0G\n",
       "c2wWW+vLlWZ/t7Sbntx54tla6k6QS9eRWwhKYkky/oLzyoeq6bTbkQmmS4DYDwd8nuOmMTcFYoGC\n",
       "WE1f0DrydYITlEm7CMxQtmdp1LfOSgtdXHf+8NSzIUBsO3Uti9Uoex88Aw5e3fpY83SQKiOEaPpb\n",
       "F0pbSfmBP+b+D1CG3Uqk6c626YNs87HcxiCRdQvx1z/Qmwlr7N0Pp+2ITgsUWqcnQBHYQ2C/M/xy\n",
       "R9xhpIm5+TrQfCC6EJl7fUsfk5AzO1teAuYUlWEHIogg7+yPyAzP9tL0Ty+O3DgIL/cr5OIqt5Hx\n",
       "Aszdv4XyktWBnotr5EAw0Tgr3mactR69tO+ML8pAm/svVS0GokL03rP6MQJmSkTb1AY2KWv8Rt97\n",
       "dECOrjC9I19+kFYrDpKSNOn6iBt8WPslRIf0A+FIDTsiY1YlFUaSt6yulLsZ7gqTNPzRsa0pnIMW\n",
       "DUicqEOv+8blj+Ur6DNFV/wmjgNDb+FUsjZirXZ0E9KMnKoOtgU88MAzOOPbbu0+2/ic9HU53h6Q\n",
       "xd+h6FMnGOoW6AAAAJ4BnuFqRf8BPscg3MWR8AKj1lGGvLqoRzVwE89BZQfULi7r2nm3yuimH6/D\n",
       "gkIWGOjrlGToCslK0HHZX5qXXLN23pQPmAYYjgg3gX3uRLZ/czRPE5z5W7odwEYhdYgtvUwiLAXY\n",
       "4tzLptudds1Kt8uauEedVLezkPcp9qQTz43gCKHzo1oYBkaCF1dVgCDYkrU9i0QY7VIhVBUo7l5U\n",
       "wQAAAldBmuVJ4QpSZTAhP/3xAB2Q+LEc8N7DV/JXAyMfDfcl1X7LwlTI+33pWm8SrGJwAewzfWja\n",
       "5nYsoE9PlPHzenL3Ce38bWicIYpJANhkwUhu3Q9r8AUDtGXifWYih+ViyOOii97245PgWpiPAGVR\n",
       "E26shWWpY4Y/wx+tf5WeXVUN6h/h3F863CksV5m0kS2yW9Ywktq/PbH1ZvIn7BVfUzAQ6hFiTGPe\n",
       "B38zhRV/8wyGRjubxvcZsNBSzo/+nPmOBHWTElcoHT4X/3Jp2bzvTM7OgHIS8atheD6sn2qTuyEh\n",
       "pU/32QV5OVv9E+BZxwXfuV8GpywJ4gL1L6VxTQznsqvotclYIadEODPHbIBtdl6kk2l1AgXMEhpK\n",
       "j2uX/hsI7/ttK1XGJhp2Y3U4qpW/q/U9c9OGnWLmH67HSpoTeUU8QBJHiAdpkGWuqEwxIrI/lJGS\n",
       "ueTXWt5I40Tr2PxBuMGhhkFvY2BN+cOwJ3IPo7eCJ5BkXJezkboE1d3CVSFcEE0+XmLAc9Bzztod\n",
       "KZCCLN7c2rPs2cWD9RV9b4P0LlOsm4YrexfGxDrkrjTYgGhY8VCySIRupWhDywAulGPqhGfftaeT\n",
       "ogAfdigtn45qkSgOy5qbw/xK2j8luF2bSHQ8b8lpmo0GmgXnvkRjcheGlZGFx0LWYeDvbDkSbbW6\n",
       "nKHS/kT70H0z28cwosPK7CUhooNvOh6zTO3qkZm/19jP/BvVW2+huCGK8sckGHtg7P+D0zVDUGdn\n",
       "/2VCW5LDIchXRfMLcZ3dtT8w6wxDW6lnaQ/okUQHpdFNEAAAAKxBnwNFNExfAo+aNVzCh8AAABgZ\n",
       "WmuEGDCR/5oAccrlrVz1P8LO/XAoGcslnvjQIr2AcARN8y49LncBp/ZWlEvU0cohuR84Zdr6jnAA\n",
       "5J5nWpd8Z0/+zzNCoAyssCXmusQVND4xcJRrMFJrMn2N+QuF9Xfq4tQbLF5d5Or3uSv6DW59F7G9\n",
       "PS1vJ6rgiTbQeaLn+Rh/CeCs+l6R3XyWpc7BrJ6U+2dTjNuJovThAAAArwGfJGpF/wKPmjVcwofS\n",
       "EUBAAPqnDw2+gA4GDLcIt/fKAmNn5cqfO0UZkCaMQOMromwzgU4aENDlT0H7jdO7Ge9E/WlCZjXn\n",
       "WcWcmW9nw2BhnHhp1RUlqhkLCmSp9lPe5f7Mg/O2bdq8vsrllUrIgOWasamRt8YVWuVhH9l+rMWi\n",
       "f/RKIjhmj8h4UBRbQMFyKcwT8hLPy5E9cgsJKk+M7xGE0iJnbxWrI4n/dYZljeEAAAJvQZspSahB\n",
       "aJlMCE///fEADoaZWoQOlMAC6gR2p+uwkqMVkv5aPNmiEYsGUz7rd3Q0c7vvKA+XW782utowdIz4\n",
       "WS5WdF7UKDF4s3iYdw8nrUhi275ehcl9SOR8RMWaPqAoTXuTMi9SE757qHBd/mvzgqmL/+qY6Rr6\n",
       "7KLfSaQW0S/Gzh8FShuYCQ4HRYtJxaIRBvaKvQo3w1E3ndTwlsWJqxm2+06hB4CDyhD0/KW6TYUX\n",
       "fFDf/7bEGlyI3qVLj0ykjlBDctRjG8AavwHSTr2ws9u0ppV16DJWFfca5uZofo2XiptU7KkZlzhp\n",
       "fWKF6wVaxfyXKb9pDG4MoRgOykf1Jh+cJcboInf9kMmdPplbGhEX4d+sR03qGY5N07E97v+9lo3p\n",
       "MGrd64E+mNOE9ZBLwyHMqQ4eJW8xYo0MgqCXjWhDjI7zXXCOT2Kb4iLB+aWeonFNwEghgfXIIFb8\n",
       "x7zjyd8HMajVh2MjKcnevSu25z5YsBhnF6vO+LbBKcqSyWkcv9PIwhnFn/izeVGshKW3w5QeyYXZ\n",
       "QgWf/8hcbFubYWCCQzW+03NfVuFj8QXBEvmlERrMwOOmsQNYDzAQ0XWvywOHfMRbYWFdob6wvdqa\n",
       "zxCifljxAyJdk01s/vMYqEt3Q3EHI7fj85pyz19fRWnKKamptZZj19iJkjDbOkFyOIbxgWrCKkHj\n",
       "N9BVgQSp9fxSDoBUEUZGXCCRr74A2mwsHyn0IqUn6x5hS61EHnfmhg+ObZwd9uMmoSlNiPbnXTlT\n",
       "L6Ba6ob2OIURZSW4FYth7MA+N2Q/3TIlJNanxIxbbcuzxTl8dC3fKenTyo+ZPyEAAAEQQZ9HRREs\n",
       "bwD27FFuPZAAcXUZn6h8sik2hJ69AfROBpe77Y3QXUYHAa3zzr/AysUi+HOFgmczgGlibU9V4ict\n",
       "D5kSHEMcaN6iobrtmGnO+spZztsHKF0CZpV0Poo5sBpIr7NdZbfr4YgR/fb5GIgLQJY5NH85ojyX\n",
       "XlIsX9539qgjx62ZLnRIZkd1Zx0bjXCh+ai+sOINh8Y03v6IQV5eIV5KrafZbqghNb7M2s+6feUA\n",
       "muiqxUI3uO9taMpIfeSggtitn3BXPhqV5E9skSwejEeJYm9uT91ZIsSo6YpmFwPl07OzFN+KtjhW\n",
       "W7nH9NVXiM4NdCo6fIu228/I3B7RZJm1NLs4haqE59pr1mI9J4EAAACHAZ9mdEX/AT3jjcsjrb0E\n",
       "3MopBvn9l1tPB1CwEAEqVOR+VahKmSZVu8itARWBWmhmkeeKwy9+7evWWL/e5bGogYJ/cWA6lxbG\n",
       "W5fRkj/LP7FrzrZnk6pTR3AFw4t/w5fr2pbh5lKVwm02YDASILzj7RRnulbc1ThRywG8KZJqkJef\n",
       "oukl31OBAAAAbgGfaGpF/wEdLvbP98sRgPGS7ABU31pyTW9odolNmTs2vOq9GoG2J5GlkNNFh5Ok\n",
       "uyLNWydDVADDMy1EnuhK5CKSs6pX5K4IOaRbi+tnubp3vkeptS8LABZ89/fBKd3b1aQ+ZpWNjgu8\n",
       "1muNOhYgAAAB8UGba0moQWyZTBRMJ//98QAdkNlToQodYGweyQo17j8zfc0/JsBth9EKKEnn5SRb\n",
       "BW3eZvs/M0Ug/8S1CXQxwB1gJGclhy7zdf+Ci/bA4L2cRzIxUbC/egjqIAx1TTucxr46+392oIMh\n",
       "GbFmLsVnsJxs0QoAtQzqKQBeuzNFCExvK483G0eKLoeWq/t2UIeeq8RQ8QVJyoEtRKX9tk/OV18W\n",
       "/EnAMlOLBEZrwYm6PPCXemojyC0fbc5qwdgBFRb+0qsICwvvdWcwLAwuUDr9juSQH/GYW05bDBo1\n",
       "7BPBtO8m60uvlpkbtWJMQNlMaXP14SrKvMzvM8YAgN3OTHxNBjqLEjfBM80F/5yg7EkCWFVjyjdz\n",
       "M7Ac6PDiEbDyavCPnNn2vcQ1lxDZlSPqmju3z6YKtDOpeafYX0t/XHJafQksqtaRF6wUAbNF2lEw\n",
       "F5wHwW1XHBhK1ZuW8e+I539h4tl+nG+r26/I0VytGK5EqYQTyibHbGfzpbjpKJJopLrCjbeaXNE5\n",
       "CIkbLgLRv0glDs+0KdwDvWEsGNAXwxr7j6uiEj2r9XUulVDnoJvLivNYceEH+tG3K2vS08xN7M0o\n",
       "Sg8q6VoM2tM+WGYW4HSmU3RosQAhLZRt1dU32EupTVkLUhMmZPHCQsTV4BYDCAtCt6RpAAAAiAGf\n",
       "impF/wKOMUixIaYABF97hZyBYELz11w6RHdhHyJWSihnBhcgBVqBnk3TSAff6uMr+rcZH7DVuUhA\n",
       "jfdvdLxYuWekndS2GFsoCoEfxb97XgWBOi6L35Y1ZtpWB/eh76LPPZmNN8Yyxj+xCmoE52+Rn938\n",
       "BGqdC9k41m1a7D1o/i2NAktW8oAAAAIWQZuPSeEKUmUwIT/98QAdv+m6BkjtvPxKtpOGfwj7OCf7\n",
       "8v2K57Sr50PSTMdKtKbocWq4R2lTn1KNZZTrhosuOHYNcxzLQ6NJTWcMMsRlABNijY/BSqeA9hdj\n",
       "bqjG8L9AJKmfaNDf0kiHUuFY8ePKY8uYmfAB0jBvUiqgQrxxgHzAWW9mGtxw8xgHfgW4p4HVXsk0\n",
       "hzn1TIeYfXW+DUm3mrjcraUY47YzPutgSYUsCraSwysIswYucyvDIwJ4IFH8iC/KfaR5zBSQ7/HC\n",
       "OdWu9+oTKHFpiNY2ySuECiuO63dOJGrfykUZr2yfS/6jjLmr16TJlq6Q03ENFSHFb+Il4qz9p17A\n",
       "yyte3WvEEK+ROaU6t+9fm3GnMLiXOkU/1SV4xU4U1nz1ATCTwTPxgqdZEsX+nmP2RtX7Re8PkF5y\n",
       "a367qlZ0SbmQKdkmkCmcFBRANoURsA6HAyY1ZcC9c5av3btbfbU9cdX1jktH8hkJVZ5Jq1KjUerX\n",
       "RkaHUBAwdtXb/S3PuVSrtLw6a+fWKllmtZWj/47uorFrBHQpgtiGW9etfkqt1jsqoUw5s6QA2dnP\n",
       "LdKUvKS0T9cD3tVaEo4hyg4RlZ0Xlf4XcSqsDstcr+UumPnnn3ClqAdOF3A1RrnEMtle/SUpqqKn\n",
       "FZjOC6KyhSksNHtqFdGcyY+kcQnyiVrUkb0SEZu3xbip8etskU3AnH+icwSJAAAAykGfrUU0TG8A\n",
       "/jrQPErAAuGMnFSdOkHiZlpY27trZzhpqXiIjK6V1dCGw86lvRIQyhSt9PKKYLvhXyt7b1a5k/QL\n",
       "XQpHEUIHKeAlA0IrJb+inPNNtN1GMc/Vj2st0+xg3WzHS70LUG3y0h9UoFS2T1Z36gao+A9BeEeG\n",
       "42qGtoZ/WsAjGyyYVbsRcPr63gSNglicFb5pUf4FmY9IEUs9y5++fOJTQyhzpKKZW6ShM5DlY1G7\n",
       "uXV/B6O0ep6Xg6Cka4J6wf3HyLURICEAAABpAZ/MdEX/AT6LVwgJZRmvWfvQT317ikKUqHYvxuem\n",
       "cPi/ZsPkoxBcwANB/hFhWJQNznZ2Sl61vHAl4tefV+PothUjp3cg028z5bfyGTPIA5pzFavuZ0FK\n",
       "AqjyuoXbYnR67q8oDc8HTRJLAAAAbgGfzmpF/wFHzRl6ZuADyyVpvX21dI456sZcK9Iyq33TGwyk\n",
       "QeA3Y+BLji9uMAH7OixthDNc4jKvTO8bOkU/K4eRdtV5qz6Tmb/HIdKBbhC0Zp2tOSAqdJO80avH\n",
       "oVZW8kg8v6p1eq7GmdRWcbHhAAACQkGb00moQWiZTAhP//3xAA6HUGRGFdUtd7Eqg0AHl+NtfBLg\n",
       "y7Qoo8Cd8MnGWNTgjWiX//HXJZ+1XsrRL++1m9YNWZt/3bk7taz8YjJbhMF6y4BLr1rMMSCEw53n\n",
       "EberBErJlBApjVjXGjlDwD3YmLYi3+nGC7Qb9ndNrnQmC1ywjnA9VHL8FL8pPMNhhsLF5/WND+8x\n",
       "8Ih8YtVU3twjJOjIeQZrAZREozTj8nIGlC1pJPf57LPVeabEy1kuy3WdKRvV6yCi7B6alv/5sUw0\n",
       "NCOciCsg6dep8Kf1LGbLt4LjJBDocrwyN7nAULx43FT/yLKl7jLFsht3IE4Wzt46mkiJ6a6UCVZu\n",
       "ja9/qyN9zPWVe1tVG9TjRsUd6ot+dXyVmJPcwpS9XGXUsFwwe1lKNkk+fxDfDbYp39u3af3WP/k7\n",
       "FAxUge9/lo1BOAzP9NtpVnfR4cca2kzPNBnoV1x01axYkZ5orU30FpYRa10D1OzirQfzeHii98Xz\n",
       "andKdsJ8Wi6j/dAfqSOUdocF+cmaHyzbJp2/kE+SJulKUFxoYWE+Mv4kc7pNWD7CP7OHQ8PUMwV3\n",
       "T4BSbJOTbaDOlxTKq4MyzFYR0PL/6JTNXihoEYLdbH9aaGUc+6h0el2PeXy0gJ/KZ5WA/6Qd5jDA\n",
       "7DDqdh57prvS9IowhRKjDqMVNSaIRMzIknfnq6lwVqw7b2L4IwJaWAzNurVDUXU0rSDBS5DGssSQ\n",
       "oOxTt7OBM1ndvsQfTdKxXfghTF/PSpXZpqXR3j0gAAAA1EGf8UURLG8A98YuAUs9kSUjlGVt3uWd\n",
       "zgAt3aBiJsmQNGlmM698jGMKv1Czbd8AKOIHsLgV9cAspZzR8+W1O+rmkzvMOSk0DUsENaL7EfVg\n",
       "6pcrHz6DD56h0Te9Yb7ZjuyGE4REoO9CPvJK7PQnVPoaGkZ3l+cF2aHH20Afilhu+T0cNRFraBG5\n",
       "uGb+AiPZqdy58zfpDazlcP346a5tQPUbT0Tcor/50A/umipOLdoB2M1pqBappkc1f6dMQpNhXnTh\n",
       "UbjccdSAijoSpEdmzZSCkp7QAAAAgAGeEHRF/wE+8cZiJI1mUB2MCHZ7O45feMlsBp9Kd6z/psx0\n",
       "pTrM543AtUPi+3QHUPUBbep7iPZQnAGkz3I7laetocTIrPJDJcRSYMr7EXyzeB4WACV9LzyOy+ad\n",
       "DzjtLykCxO0Ahsp1i0V5BTGatYOsyci1Nv4fEXgVM7XTi4UlAAAAcAGeEmpF/wE+ymRRBoKovX1v\n",
       "eb1r89aedfw0lJOuNWiVQ0gOjtDcHQi2BZE+GhPV8P5yT+n32jaJTFNSTgM97caNgBbOtW1R4+t8\n",
       "9q5Gtk23o5Pd8gw1ugT98mTu40LcJutc4hrzLV/3l7StIQLppmcAAAJrQZoXSahBbJlMCE///fEA\n",
       "Hb9NzGieJgNlMrNL20Bk5QHSkGVABk2bgVlbEJMw017LAI/g7wWq4kRSx4UkToO908XWumTBe6Oz\n",
       "rjRdoAQmtvI06O5HvOoi/2A5qhjsBNv6RYkDzqYZsHP113YjajwjWxHpReAVcq5Ibr2bQzXgZJpl\n",
       "2o247O48182eM/DWYs3tYQhlOcMZXFa0f23cOg0kKl1oBmp0O/G7loF571C91RKuNZvOvfm9dkyt\n",
       "t9uwRo3uOVDRE35tRusMcOvIcu9ceWv3xFPaDGS9CMtWxa68gDA7i81d9MOcVbpU93Lnj0cjqdWw\n",
       "firSkzMtg9zVEBQTuHGfrwnCINkvkhVr8EVMcwgQvPc1pV+oOghnj4u5up3kNlRDn/VuWLqfgVru\n",
       "7Z5X7yc/fjuBwx2dKbnDK7MP6GXvMOQfNHHUgyVI1iPK8RuoWWRsjkcc1Vx7VgDYWwcB6trtwW1O\n",
       "LD4GopNSMWOVjqZXcp/G/YEwwyf6+XLnV91WXpv/vKBCM6af4g2UHXXbCxoMu0E1cU2GHPMHqOYv\n",
       "hnMWmaqb2WpIJI3zVOKudluj9qQjxh5P7r7oNKhGYqhatYSsEMmm8MIGte0+IQmlCCVhBmqIU70S\n",
       "rxORZX4ZXZJ8wNws1EjddgpU6yD/z+9p24ngQSCQVWvvgvUq88fkguoAnAeGSdfXOYFqPnLznD/D\n",
       "vf2JtMQP/CYljWB2izj8PfmfnDiIDfA5wjA8RtHa82K2751c1QevE7B+eJR0Rt8andVLNCbzSNqX\n",
       "zk6s7Lx8GK1Z8QiVSi231SQMXVVWkiLS83Y7MqhWgPrCmQAAAMVBnjVFFSxvAP3IO7D5YdZAm7UW\n",
       "hMufAAXR4xlpnhfohLuiQAWkjZi5T6nAsT7cruWGoZfI1/NLJOIGyunqzMvvBKyiOK6KkOedNPGN\n",
       "1s1Aynn9F0fJm1o35Q6uOi15KeqZxOKmufr5SR6LdvO7aAQ0gSxuakFysSshaRCV+RO8aY5HCoJv\n",
       "YGIJ2TEEGRE10CsB+4SVqzokEYogpusooI5lBaybYw2mDTAGFDa1FeMmTAK8OTzPWsNzEYhBYa/x\n",
       "lv9cgy+B8QAAAIkBnlR0Rf8BRtxILMc69h2Gf2H4uy9X6gA8AgHgUTlWA547KwuZz8NQrbWqCjAq\n",
       "bH51TSF/wUDvYncR2byh8/KFBTxQPUP819ZIM3LrvlwC4FTUp1ZvjFlc/paTjFzZ89ZCh7/YCXeY\n",
       "fA1u9lKhBJU5/GdesKEonP7kA2T9c+AOA96Re8K4VkiT7gAAAHgBnlZqRf8BPehF5AErBXEAbsqm\n",
       "Z5L9XJ4I6FsYHThXIvldY/bCPvpBcchGlHwUZpAMC0pNJzz3FLH4FRVd0LBUI8mW1P0akOQ7uTTz\n",
       "o+wJB/L7XhRCkXtKf8oLJicCFhlIvyGL9jXka86ws64Cb8F9+b7FERLbc4EAAAJNQZpbSahBbJlM\n",
       "CE///fEADtJeCj1QR0657g4Q7pX3nXqD1ifI/sHuKmVF4G+GNPlRcmLkKT2cY+Kf+lOoB24GgWta\n",
       "CK+lR49t4xjcEJYY/kXOLOukp+PnYi+YNUl5jPEjwcv/gq+9CIcJ1xv0/qk0FwP3NelvPXtRsLZ2\n",
       "32e8b+tz2Y7csojfo9VHrQm7vF8sPbdL1LSHpawxXqxVjQ1+7GaF76oOJcv/mRlA60c5Lb2VADG2\n",
       "yVoDB3d14wYMWG/D6rJzwv4c4YOhpz+jFfZJn0N8Y+UZfKaMBXgF9NXkxVKSDUbhorkmrwA977ay\n",
       "D5c4TDlYu5sD65tXSXPWbwfqvRI1x6uyjY1yViBgNwDbrow3kJU+Vty+AnR6MKsZuO+dwnnUDMEz\n",
       "mcc9Z0bgero/myxEwe+Gk22Uaumh07mkkVnRWKh7kcUVx9tXgwC70mJWdFboxxqxcPMq3rzyRKvW\n",
       "1w3up92A0sbEbmkNNr7mC8RUHlAqP0W7Z1WJFpixFniHovXegxqtC0icXnhqNSbfKzCGYtiRtca7\n",
       "lDGUmz6GopEdVohEaodbcB2urqzYBB2/xZH74Kf5/UIjIMsznJqRtI+oya/iO1yff7LCr29BfQOz\n",
       "cRx7XigwLPgczKEb2go1eXB8fJ4WMoFFMxsHAWL1LZCffRtjc8ez1D88iFnzh6LU9K0UtCRYTnRN\n",
       "mgsjKIG5GAXT32b0HoG9ojsaCNecFIA/I1E4w7GswjHBdFJFE6SD8fLEFzrBKY5GtPpLEG65OtgL\n",
       "RTHqki4RXmtPtwAAANpBnnlFFSxvAP3INL4qfv658ssae0T9P9p72rGABOxzhUvF02/EMc81sAND\n",
       "IpEW/1+1rXAATWL+GgwUxVYj8A8lJ36H7AX1Zjh7BPJT1nKsAKgW1uOmsKs9KiXmmxx4FdD1DZLs\n",
       "nGq0ztAiJz4VQj/j6aePgMV8h/QjdSE9fCjI7RTgPJ25IZhv1uRqoDYs40JurFy+5iUdQBRe09hC\n",
       "8+v2C7mcfEwiYgArIBzt8NuzPmLJVXPnrFPyyWIOqU9cfercTOuyRmVG+OcVkOxbtYZ9AlElwhPH\n",
       "trMT/AAAAH4Bnph0Rf8BR/Jg8zBps2n2MeRBjJmusAEs2K9ruBZYOAWz+KXEIo6nwiF7CcyunCFG\n",
       "5HFIc43XJjHCBiuameIusCAyiIBEG8idtx5u8HA/Fj5WHRfZswaxQ71UOQGQteuw7c08451ofpSr\n",
       "DBaSBdwzVfSQ+UvVNK9gMAr0GIEAAACFAZ6aakX/AT4NmZ8ioKHqyIIz6DRfZ+OcVhxf/Nn1cF3m\n",
       "ktANjghdF17POznEPqf08+gNalk0OhGWexwjsrfrtoPgK1q1LQnZ2S9LAsOeNKbsAJaJFjo6q2Uo\n",
       "i2jYhGJW1Uhz+ASoGrApFYuLscrRa/KvvRKPlwmjwksYqgeI7N8xAcBewAAAAidBmp9JqEFsmUwI\n",
       "R//94QAX+G2U79/0CoCv2iXf9D7EgBmH+6kjzLiGynCG5XUWxtG1rLsxSud5BxmEPX3bj6dB/kQJ\n",
       "33VgXIORJJQvU0W4sfuIVURF5HqDYJNMJi5qEyM1zT62Sg1IhfSCoBgnJBFCPJFFMDoJ+4qa55nl\n",
       "ewI89MYoPpmUYsyKqv4Ss2wKDu4HApsnzYe6LBavaURTILzELg+op7pNaiaqM95zu7CYHS43tV2I\n",
       "+8sk0AiRfpjdOlrH0t7ySlBBvYYYdufJdR6nTe6eVD0Y6QnKM0DeorcqACUG2h56qb39dg/hAmwb\n",
       "sqo8onCcld2MBSBLI9AmoZQfaHAARVudFg87+uW1yDuLA5gdNyyg4epRo6ktcH/F42iJAWlFLpfI\n",
       "xE0ypMbRMO7ZQlfwtWofQNH83Xf+0pcVNHvJQL1+L1de+Aaf5pWEQWT+WRgS+JBvVMg5rXof8JSM\n",
       "7em9sEKbGkwzM0P+I2blW11sAlkxfXWaPIUgaDheigKib6NXvt2H4/Ru1FjnAxBzP1AAg1yi3H+S\n",
       "ejRlNn1c0SIIxoW93/Fbys+VpbjvPTBFwGamoW63wwqgFObblChLBVYtmxP+EjQr4Wsa+SP+KCvI\n",
       "0nLM3QqXZ6mpZtheafNNgAR6lyq3X/dj5qwtMrFDnpdiqLd+E/Hc+NMxjfdk4vZOuPwsjQ4vx3lq\n",
       "QIj/xVrb8eIXWBpnVfMcJAIcu20GCT3TEBKkhQAAAN5Bnr1FFSxvAP46Jl7JaQyjEm1+UUeueSB2\n",
       "+m1ABNRnJIoqoLCuOXcB1TMdpbpD2Bc7TJoPu/gYWM9Kc+OPV6Jzkd3wtQPjOUzc7IJ7kid2DIRR\n",
       "VnsmWy7I36Mbffm2tVcRLVmPHwJInNAJmuEjaFvrkvMSd3sp6gONScO94SfeBSryqOp5KpNMjoip\n",
       "5DtkNHvcQBz0LT6hgFTDbEnmXhzLEFkUa8e88waaGPvBxYIMOKYuZrveI0EzRBg01yWRD8sE8WuN\n",
       "LUz+mGiPhrVkI5wzZ+1vHDecKuO8D2LyrjUAAAB/AZ7cdEX/AT3ceE8vfbe+qSOy8ZeQlMDdoyF2\n",
       "DGv48MFMBinU3Gmpux6igUyyW9xE8FkZvoPXLOW8jXuB/L2+Xw5U9cI/6wNRqRyKUk0DH4CzfZV0\n",
       "2GWX1BGu0Di6XiAGy/1NHmqcMjiTZuWYzG2noKaJweqVm9UAVYc+ieBfQAAAAHUBnt5qRf8BRxik\n",
       "WI65SjevoASbYrCu0HGPn17RyTQ+yUtnw/pyWj2MIXSmp4Uj7a1IY3mWRRYqush9omhUhv+lcNCq\n",
       "AfJ/WFKzkrLWFRnR/L8HuqEmifQeiTh2KNY+hEU3B0gS078mKQKCfBz91zeg3veDbkwAAAHMQZrB\n",
       "SahBbJlMFEwj//3hABfUSWgAIWOKliUZC92cc3ORWRwUI8WLYKYQm1zykv0sMyerBwsnd4kJu0H8\n",
       "QsPEF2E1K81A5E4nw6CUFHzOXdjaefcKL2HtqTo+P3O1agRsmcP0y12SPRcklQEcVhg0UY5hEmVM\n",
       "/KRLieq3noKsY2ocJ68W2zIIjy11NxRWPHHuLfeMBu/Hj5uXIl8G2QPp8iMQqbCmYfi3G+nEBwIg\n",
       "MhVuxxO69GpGNDqwglUPWYRTtQekD00nso86e1bo1HNNc45NZakLi2riOI+Jb7+jKpJcIEe32cgP\n",
       "goLTgn9z3aUcqtN4pOjyUYt6CuoYpvit9aZ3Lf2sIqHMAx3Zp+WI+Q7WuHFbR6szJHkmcV8+rm/G\n",
       "z4ZWS9J+KYi6YgM0TbiQNVEmXVpxGgEkYY9vfY3qDK43/WPwA5u2VklP4hP18f+TNMPhsY9fYZ3a\n",
       "jemnI6JG90tZKnN7JVxHeVsrQg6X90W/EUVId3rNVqNh6OHDGIwej3CEYQ8qJAUX1eD5cTs59E7a\n",
       "RfofAQhQzqyFu7PRAvHMBdYCKVRoETBSWHswdCJ/Onf6CdCCh1pem9mq7IgpNG5zjZzZjIxdJ0L+\n",
       "qQAAAGwBnuBqRf8B5nCMYul+rG5OHpasUqVzSfTpFjyPuour59rWb8X2J7juDm+SD43yWAfqabzz\n",
       "Wuk4pgNQfAxXjQ9kLV/X8jKO+MWxFG+sWepACP8tTBFWKKUaA7WkCxbMbF7inekA8FmJvyHIDOgA\n",
       "AAG6QZrjSeEKUmUwUsJ//fEADuACOF7fIAnPoZhmWyqpGTQS+vd/sE9I07au/EK7rSCm78eo5Vg5\n",
       "PkyuLefMQ+0eFfC6A8R+7S+oUalF+h2O4NeyDo+giGfRwLwo0wb80o/RvtNl75OjdGCRwMBlhnRE\n",
       "OJOedlsCfuaOKxqoqKwwirzSA2iUTBYB0VkTWSjlqu3fLyQexv1xiV9PTZrL/r/tk9bPnwlSBOMc\n",
       "mFrJJ/FkA95kD1OAI33i4BrjMUA6DZq9LbIBUCB9fcVWP9L+jQo8jM2B5AS0/1jDrVqWxPhO2HNL\n",
       "/NSUCO/M9RRsQEmEtaxtNWKY69e47LrxW/3UrFVvGPTevU1PCr0TO0hXfGSqU0LuBBxxGJTooMAi\n",
       "nNBA9ur6yXReAY4G2/IKN60KD/Vzn/dyHvnAia1U1ikNlHjiIiV47FKFJcrFOyJYvnQVoHuNzZSB\n",
       "IEeuvTUej/dR77UGlW9KBaODV8HCMh9mCoXKdpbpQmit6er9TVy/x/qbomo765eslByaZ0PWj4fl\n",
       "x6DwwyPMhINC+5sIa3C9pQeu254ZlITf0S1Ob5aHWf5TBpzsj+p4HIb8mwhuIQAAAIIBnwJqRf8B\n",
       "5xEgr4P6AAQnVceP3DSGASjjBwy+03N6uchiw0THvC8K0i+fN4u2wULMX9tpeq2U1c6HZ0zmlpJ7\n",
       "+dVuJCQ2XdegDcKw6R9o14yP4qsUHrr24drlq8NbeMmd5zzmEKXiaiX+lGQqSytaLND0ZjRG5QG5\n",
       "89fVrHWOate6AAABm0GbBUnhDomUwUTCf/3xABbPYjB/7xgFPUs0aOY8juB98aMbEX7B7QJtBUnZ\n",
       "GAX+AB3vvdEJ56QjTdmVnJ9dAgP8u4XaNkfHmfzRR7Soo27P5fCyQ6iqb9hRdIAsacQZYvjJC6FM\n",
       "aaZMAcD+PGW/97cdbef6K+eV8gWwkKXwkrWEw7ozZIU1zbddF+f48FwGoR6nC9tyxvnlefRZixsZ\n",
       "60KUQVRkR8vYLQnuFjFHF3wYWyyzBF6WfSzXrLiWkh5fGRnjc7N1pO00ZKbpKyB49Qi19HxvYox2\n",
       "GkgE1eSDrdn90xTU+z4MxFn61fK2umDnM+dqlONkNUEd5o6lzT13pCk8vfmTtzmcUN9/NXFsAl96\n",
       "5pKoXuisreb9bFW3FGm2IU3Pz+vTHndGNPMlgfBApdYBudQm9VIfkVCxC5H6KIkGjcmV0xGy2KmP\n",
       "MhYPgfKAOxgekBrStg8VOE7hXaA4aeCESSn4JHR7YNe/F3AS+H9WoH6Y0DbTo8vr5olp77vOe7K0\n",
       "UbgqY+KvaWW9OEgWshtiizpmNoMZsCF/IQAAAHQBnyRqRf8B5YQRDl7WsjvMRieaJlLVHsMTZfBA\n",
       "CWFxTSCW7bhIZ1JkavvBk3A8iplHJ6v+kTIPCUmHrHdhQjx9NQSQXlEwQoNBb5AM6Ao4gWlKdn0E\n",
       "NgyPYA65Z0l8Jc4fW6vs+mV8K/QTX9sHelWh/qAOyQAAAjNBmylJ4Q8mUwIR//3hABfyudlTgCJm\n",
       "Xp95/zn4RxzKpq9gSf4ssZXEYyL41c6LzdgpO43KY6rKa2ya+fOGjO8/g4sy2qUVk9VfKFCYLXOO\n",
       "PGAaqdD8Pp1FSt6KWWcV8hlJPIcYS9iH/OzAvCxyBEU55zBrpsw2kDdFBPweNWEt0Azd9vzv+VXK\n",
       "7M8m/Ni+U+XwR+Lb4+ERJWw8wI90YFBnHpM0rJhmy1e/0LwhUApMloDmLRICguEJSHMaFL2w0itT\n",
       "D1mlbDWgb+7/PVHRf4FDDnbvk5o5ohfQEBhTrnfHc/oIL3dKpDEgCBh0rcglkxGCjCNGiP7ZTzRG\n",
       "HqKlQ/B9wXCfGIfwkNULeo77+W6zQUBmNfSef+5HClHfjT8j3bfmHkEzVDJQm3AcJCEE1jgNG0se\n",
       "AAmerYBqZCb3Q1fCR/xhRK0uj6x1rIJ3Xi6zkEx1My8WqoAMkUgbzM9AHT7f2Meeiq6ybw3B5V2X\n",
       "cFyZXLnRLQHjtzlavuo/i3hSLsXywVr53CIoDR7eXpra1zIZsQXqHI4eeMiF/9UwXd3rNKJNuz28\n",
       "7yAKeE9opo0NXI4XgCmreFVWh+EPjlIy2/IZpdvUHzzm9OCh7JQr5HCizcekFoEMl8I3zlr/ScsY\n",
       "LvvYMp95AOZxASJz+M8HLyfNJ55xKg6u/k8GbgVCSFCwkDGKEZ0NjcDn3y4xriKJkn1QMt8uMt/g\n",
       "EVHohEYLyMxc3AIRNVbKDZFJIK691uoXhgV3wQAAAOpBn0dFETxvAP47dN0Ns6kCfdPigAENRiZp\n",
       "LJcK2j6CxDtaXPDJyUDUUK/63r10EoTvQNy1mFi2aqTwxBC6uu6k9LzSb+gmNEwu/k/i3Ev1E09G\n",
       "6NUxd/KlY3EJjiJXnMhf2Q42UWjSi17MijyVQJGjawu2mBmaVKYlaxnwGu1tN3u53zb+d13QtQiN\n",
       "gMwNR5oxUx7h7IYYQacVqu7FK4H+fdTwAxFNRbE8AiPNIkO8XDaHNHdGsDp5oIEZtKMy9m4z5Hy7\n",
       "2alMVdFy2c5pvYdM9fnM/lGGYpmOJr8lc71B8FARVD80YbqhBW0AAABwAZ9mdEX/AQ385JniwwLJ\n",
       "jAcFtyh57vC+ho2Uwp74XYy6IofUy0KoD7zcIkfk2a74R5gW3HchAIYm9k9I1Np+cvyWI4MALUCL\n",
       "FwIrVh1Oel8mNHu1fIx2I53RKLNChu184r+57YF7JBIuPeioKOFxQAAAAIcBn2hqRf8BRxikWJEi\n",
       "TanJM5xiaQHsACWobNAEL02K/R8saljxX+jVwhjWvj5ByNyjPi3OAIAAoh4rdgER/bxOVR/cgfD1\n",
       "wHHhPWi5m0IYT0dRYVbqnr2FKc4DAssI9p2CR1IFAeBDUXIEJd6yHkukv5vX8VKy5W5tQGgbUlql\n",
       "XtInhtzuSFgAAAGmQZtrSahBaJlMFPCf/fEADIlboyqlR4AOTybbu0ZReC9pN3p6IthpOINAFYQH\n",
       "RsiEOKtRsqWNCLq/UrLMPglL+opO9lhAgKyTDs6pWhmptYjbpGDWCkCa1R1S5DLZvLjxBvrsEhKo\n",
       "mDMo15lzmT6IbWARiXFFO40cq3xdE0PC/2wSKeog9ZVC9LkaAe1Jel1gaQQroaNjdfXq20fmxNCy\n",
       "BJhIPnQ5O+tXTa9FB9pMXItkTQkfuu8wyRBPW7XCnNf3vamUSW/rhOD8PTfGUA8TLVI5vPk0RclC\n",
       "qMbLyoWRt2yt1YiF/8zRuseqDs4tcfHAnmlKnoThbUwN5C1emtFznRabZtWXJlv9Qb7MK1bii9Qr\n",
       "xu9obm4ytUFynZw/TgHP3pLaWADrEdu8+2CZbNwVh+O259kPZeDmXBIo7AZTVNw2/wrfgWwBIqnl\n",
       "/Y3aKPXDOLlxByL9OKOmoHQ91YtJRV6/bR2bM4fdZlutXDkay6B5/Q1eber/zD28BJel7BVn/IlU\n",
       "AEwFmeMntrPifRNKgBcXvskG24+t7jNU2EAJpBfqr5qwoCEAAACQAZ+KakX/AQ0w5nypGnNr5Lrw\n",
       "TLn+L6yumoJcGBho82zyagn/BC12lI9L6TScY6AEndXW/mHQcJAhU9tW5zr1wIAs8kA4/ZE9492b\n",
       "3mtIeVRIFAB0u7vg4vIv4Wf9GcsqYm1G3lMzKo3Tb0Nj+kIyeiBvmsNgc+b6nySIwYDNv6dewlS9\n",
       "n7NBf06yN86QW/EwAAACKkGbjUnhClJlMFLCf/3xAA7KHE/yqz5AE5t5b4s6M5ujDH/bV/gj2n8I\n",
       "Gy3UO1OsGZXUOOFp0NzQ+MaIEU9J0UAJkmJQH1DuJR8yv6HdTwXoD+/B4GR0gs3ZM0pFUPOKogj5\n",
       "5sMkPiKZE1RJfpeM237BdlHvlzZ5D8K+l9JND/mcNScMdCwZmLMfIkew+fCnlIbQCiK6tR9/Rx+S\n",
       "b6GegJIyBmZ7kX0qWTeo/+4rRI0S3HYRtJTC+j4p4v7kLP+MrkXLdhBfyNstAMFj7Tg3HVFGjJLD\n",
       "BmdqhWCjJKIklF1lbU9x3o5NM2YnQuRK/lJ7njrtXOtjqI7rTMO3jvaAPiR21BhK4U43v7bz78OM\n",
       "WdvPt7B0Q8tEh0qiy1FbQggd+84s4DRHQZPLHwO/e1REgA38CHAtGkq4hgc+Su2z7BpY9+7iWg6U\n",
       "SBzTUPj/R8t8Fvd80d4mc+4RUvj3VF46EjlLNyfnuvqa/qWusQOdCYjQwJgFttqBRZFJXDSIt+Fh\n",
       "++mcyVJjhhhnSjF/0dyej1MCBfgHMfaDWYR+Ja14JQ4jGrdAT43ciSG1CZO0+FD4vMmhX9on3HUk\n",
       "Ijdn48KJz2S1SHwW0pDn009H01WUvmA6QE26puUS+cKJFuTEwAZwC4s6L8T/SjF7SLnpfWs9WDC/\n",
       "CjizPv9YYCDpLRdwKAe3xyun7w7+HIffy0QpTBQN7zOW9VXVyU53njfHyv+ymWzF2XYjqRfV5rEM\n",
       "AAAAlgGfrGpF/wFHzRquYUQLiy/RQw8QQAfzgK3vFqkP+eHQqfGXIxS+QwG+RmI5pV7CBP4HwrZM\n",
       "b/FaM8pvtN9Nq0nukVbNSMV7078/UKs1Zs75SuouPQ8F253DRogR4Mc79n89fRru3XsxYxYhDSuU\n",
       "ZEilOr+EdXcvnFulAHg4A8FwZFYx/wMbddFx/wPP7XtwzzxHvVmbIQAAAhNBm7FJ4Q6JlMCE//3x\n",
       "AA7PXuiAGejqBAzuYqMSce5rQ8f9am7ruc8+VsSMTjkbC1os4x1lQjB1tVVHNA/XC36QrhH1zv9Q\n",
       "wjm2G6wW4suMhJ+/M0lHpGkpcKurAK1a+XHWuoAE2oGRyBAt/1e/k2Cjgyw0/Y1tO/TkNX8el3NW\n",
       "HPzwYcnIhKAqvgJdSJP2KXKz9SoyO1nlpQesVwYBsSmBIjPgQn4AP117tOkBin4QheEEn+Dvbvw4\n",
       "fNtBBE6JerKK7ajiZCuAkpdfBcwr6DjLzuWbgjUb75uIU0vsShBLVL8X+NaQ+4JXk7c2ZZ6yxbDi\n",
       "AFLh78NAZdf6WF476HqYHB7KCZnu6p7RS23aPCsSC+Mn2/0ynWvfkgUwcd/Q14rshAxp4XYZdP+m\n",
       "Wh6fOZOkgqghrWpfnE0CPmrt9yS4jl/WNHzE/Oa3ud4C9nOnB2Smr5YP+duO1J8GMNQoSmiD/UT9\n",
       "Q0r0J/su46pgB7ZzBRZbIEm3Qar7tuknXyibCE4gL7TiYZ1zZhdLsPWXQezKJ8qMjfwvDk2Oq5oF\n",
       "FD+jbm18uTxduX6X1D8mhVbnM1+1uknGNEvuXIz32pjSXF+3qdSNHwqZc/y/l3ueUUTNSfTUEYW/\n",
       "9p/eTjxLuVD7FtcHI7EWbejXTh4XYwW9vAHSGD7Xh7CiMs53de3bukDEGg5lWTwfKGRjG4LSs0BJ\n",
       "gaeomfkAAAD7QZ/PRRU8bwDcz9m+5Xjv6KaAyNyKlW/vu9FPNYXp3MoTtJSF8wgcmuLy5bZdzG+A\n",
       "3GEYa6QvRZ+XOpUWtmQAH631Rcn0qaRAKkD7kGYksxijb0/ww6fF4NGmy2clxIU3EhB/45CnB5b2\n",
       "pOy3AfdsaYlJdAORwvtjeNDZu2dVf0Iw/e9xa3r19X+438YADqEUhsfmutEV8P4scsP0fIIWX8UT\n",
       "sxeiqageCJOtvzdonzuVsVIIbYy/F6sRosLGFN05yJk8PN6z50xxDhZu9ZIwMPxZF/OSuE9lo4VE\n",
       "lyGVNXQjnKaMNvWHols+BY9UMxc8/S/c+Hd7I4k2ysEAAACNAZ/udEX/ARYcQpAPNL7vBbosw8Tv\n",
       "dGEOkUSsGfJFXcNgOgN+oPZRwyIa3jUzPEMADQArVIZgFAj2U4rkWLELee2O7CVIJLfTVGouoaNI\n",
       "XrbvoXutOyIzGmntlgNZpUXvL4FpbFVugLTGOHP/kr0EC5JSuTke/MvYKhN4R03/q/mXMMC5Bf3k\n",
       "rZmYD4dUAAAAdAGf8GpF/wEVMOGy/8V1hmyY2Iwf9lJgIGO4qKuxPU5usW9dEuxTlsfn0gOv09FW\n",
       "n5WX5gBCcAAwE6r8/5Bub/SQozpMGb60yPJlR3vTzAAuvJNp156ekqFgWK4iH22fsGcMGiy2Ykiq\n",
       "9TD+oBVCvQ7GP+1AAAACskGb9UmoQWiZTAhP//3xAA7QfX3RAEPOk3XLQm28G9mtEKeEhO5KbhmD\n",
       "Zj5vPdwdPdtzpatUY4QX7VIZ6f+dIc3tAfwHR+75YRDa/WATG9EQ0FXkN44HedXi29hQrMmX/Afw\n",
       "RgRTDGpUds2LLFtNE256h74oddD7TLysYcj3w1XFNI6uSq7xzi5fci8EMyNSafpbgGrXZtB2KIKG\n",
       "XFabJQIXJIDlxgjfM6YT6PlCjGRh5DuUPqazkepyDBQPMMD8Z2Tgmuz58xO6wMLvG74MHyIoCE9M\n",
       "OeTrLJYUEzO/7BJxg5AknpTUbPzChSkeqfKf1EU1XdTYRW0zWgPBg0tdr6pMFvH8xmFzb8AJHbvw\n",
       "Tck7K2w2hCGB7XcGHJpYdiNZP9lLvpzYBtOinCXbiNwr+TWocaDYSkRy8p5AH4WRA46GiTwJDEOE\n",
       "79MUPy4ntD2eHwihCS+PMyOQkVBYYArqTErBKiFe8v9f21LdGPBDnR5MN/4XvComdd2GvSKIJJBY\n",
       "0c4ArUGbxWEsWpXjPHHM6piDcIqhUs1G1li/Io/X0Ucvb48TFJp26lzZ06iC5vSQHXOT03SfwvCa\n",
       "AiS1f9B3xVrW/KXC07TPawNAo5ICMC/dvyPr3wX0rZjfNFPyluQnd8Ib6VBGNLGfQU6KVo9HRW13\n",
       "sS7rHjTWZh2IPxh5icOsK4U0rFZPIGNGcWsIGCqBQ+6AS0J3JVIZQRLckdPCqAw3pDUr2T5fIEr+\n",
       "JbRbTFdp3VQ46XcLf79S1UA7C7O3Jas+2+tdXrXDuC6I8q+ddjH29E05aDf1VRu30akAfUj/lvJ9\n",
       "+vFsOr/L4HbmYudbEr7MA5w+88dKhVm3VECThzRkdTy3JVee/im9L5QjfVg7DM3UqTyN1OynN9P1\n",
       "/L7GtJ7hcCMiS163DDl/x+xJTGPw6wAAAPdBnhNFESxvAP3JyGe7y38YAC4ic/SYhweHaUnlxaZe\n",
       "q4BMpA1xQZoAjvcfZ8ivaI/7JOad0N0CTwmL4MTAb0baUZxNVk1aGQnAbTh5xnHlXa64cA0qb/wn\n",
       "vc31+jqYIWOrk3mN1ewJbSe8IOw2/noDZpEuJanb8BEgMw/g3YWmVtCWLxd9uJ1gjtMxX7aTiZNp\n",
       "0YdAahSd5hCMW5JoRd1PtzXcldRsxC85DzmNgd7ay4GHtGpMpXy0DzddBXl16nnAvsX0I2/JjyBR\n",
       "oTBB/zg1F3L61L32okt/lWo+9D9lOIxTT5Fw3tc99SuP59+ujA8w168rr1pAAAAAcgGeMnRF/wFG\n",
       "3HhPNSS4UiwWhxtAsvV5sUyQRv0NhXjB8lVDFLnhh94RNA3Ot8dtwDECW3UiVLg0+AE2opp0Q+t0\n",
       "bURz0Lyikvf8wGNuw3N82I0QIbK2tc8mf3TaJaIOlPlI/cvxTBU4ABY5G/rsl3gzcAAAAHsBnjRq\n",
       "Rf8BFTcjB43BZA1k77RXfvG59IV2VSRspf3o5Ovl1D8m9egMwNKqu+kC2/PWSa7VSRgEingevbyK\n",
       "wAtR3E7SsiLdS2txeM76GVRA1dVcv25i8hNUGgv2RRn7EjeANtMbwVqUyGXNuf2FZs8XYeQSAb0G\n",
       "GcYjzRUAAAIoQZo4SahBbJlMCE///fEADtB80AAXkYJ751Gfzy5SPGscIM/XSVlUxUrdJRk+Kkoy\n",
       "byXO14ud/vKIAaviy2Z6n0u150LS+7Y/IiSRyB255GBCqeSk8TBb3uqgflayOQ+3yCaL0q9Oa/ql\n",
       "YFsjjE3yYZsPegPiMURy0XlY469hyrZzpo0+DLumM0Wu3eg9pctPz0Wsl3/1bSqmowIM+64bTu7O\n",
       "GFvbpdrZLORdI3JKWqJCq6/b3kFURdgdk8DEcqAhGT/qEUGDbVUCPbITUKkb2CQ6pkGBGfyqv/pn\n",
       "6Crwb+FbleOmaBLDVQQ7SX3Vjhv7P2KP3F7W0sXZdCZcWqvDcsj5Gzcb8zKexKekFRCyjpmsW6jp\n",
       "0MayWeg90Qek3ULx4d5NASsuwfDTSS9JczFJo2RXDrNBjFvrO5Abh01PJjcmW6JB/uk3Cixbtc9Z\n",
       "i4R+H9DFE+U5jV24RxfCs+zoBdv/VDtV4ylJeyjQMcAezSTJDiMw2/tSJ7uK/Sx7VgowyjrwKu6u\n",
       "j7T5punuUrD7lssZKjhvsqiRPreq4ZaOczOCWOxL4y/pb1x9PsE/98SHH7qv/DaTF7E8fQmXK52Q\n",
       "J5SnQOJSOReKRqYlkERxupcaBxCnT3GBW8RJTaMAAETjWD57esgpYoWR5j2GDbIwM6cnokHFiZoS\n",
       "K+iSOSM3CgFuCBT+rCXPJdsXuwinXHQhpERnNHJMaJc5g/LqxYP7Uy5dfBKmqU7gAAAAwEGeVkUV\n",
       "LF8BSA1XgwAg+T0MQgtT/mC9SzEIx5JtOIX1m8QWQDOQIJwukn0VkjG8SPEzJJBkczmL3/EFFMax\n",
       "r8VzGRtdDJkiqNgI0PSxrbMTfypk4B6IULArqXbgxFZtHD3uiAAxKwUnaadwBEDPA1vay0B27AQg\n",
       "HHhEvf5Em2ij37S2Cye4/Hm1c1HoMbOWBvCaJ+rPyD9VPrJLiJbFpZwGB/qb7Ivo9h2Q69tmX+b2\n",
       "d6ehJrz2NMLvQvWiytSFYwAAAIcBnndqRf8BRxikWI62sJ3pwTeJgATSMxJJ+gm0yXfNgRsMs/Tt\n",
       "kCwxl4AYJkFkTBIduSV3brEthiv9cz5qTf/me6LctIJ94N1wG0dFv8qnKpaTvirK0TIM0gw938LQ\n",
       "c0Omkf8SNelP+WK85ZboNGMdTWbOnK6chUljVALC6JNvO55a5WYOSuEAAACdQZp5SahBbJlMCL/6\n",
       "WACbxvBfBzUpiz9e7LrTHOal5pCcAELzzP7B+NllXp0vpe+ygsqD8dYUjwr+lAq2Bnxqs92XLPSC\n",
       "/KPOZPkv2tjwFMkEKzBcXIpz2fgc/642U0NtPi334KZyfM2gN+suOm7LFX6K+K+lVULCBFm0Xozy\n",
       "mv0Tn9/ZewBiitlDSmbz+JAXD/2SgluBY98KWH63wAAACi9liIIADP/+9uy+BTX9n9CXESzF2kpw\n",
       "PiqkgIB3NMAAAAMAAHgdKF8N/4aN2zANnu7+Rnr6pThFbpAXeEJZLO4s2sFMFAztHWIfJwr28fks\n",
       "TIFm7YQzsaQQ9wMPppLrJES/4HRUNmcv0/Hd8SUTWNX/xmRkLTwSMz/qvygbYNr4RbqmrPvUyfmV\n",
       "bMhAAAGcWDVYEqPr3bd0/uATVX8pLvn7YNpzJpGX3jhgEnPWoC0Ny/fnB9cVm+ckoRaY8W/j4laH\n",
       "jevlPBpBToVlwT+RL1fghQwR/GamnCCll4SunRe3KlUqWCyV089hmAAVBOrQ6JHVzSjEXjinLzkh\n",
       "OmkOu+bODZeviHR/bdXE3E7UiGqViQEnT3wUyDY4XJXynNWJp9LgoSBGtVEVIaYO6cAOqvikQ7pY\n",
       "ZfbULy668Vo7qpSfdDBhhHqMNhRIfI1XgRzAUK5pt/RWlo06elrRw2/vHk7f89uId/RcYeqxdUc6\n",
       "yN1pJumREL8zDz1TXzfO4pHI5nj0beMBkvWyNR91WQkAfuCUo2rNx455K68DKnnFNf3GVW0YX3AE\n",
       "rIRnZ/fb0ywPgUHAhej/dymk5O0vHQmeqTIjAKkub6wvGvLm5bE8k3NlBE3BCaOoexyD1PlbkO1+\n",
       "hfeFJ4+b8huTbffiSvJq1OsjEkFa9b2Fx+59HTrW9I5Ah3AKmMdl2rV/0tklEPic/eVKooVQ38nx\n",
       "8CP9vJYme2RJQ65bcBnCKlN31IGAEm96lmvS4r+/P9sdKyEnUztVG5xC6gSHXtwyvgM7UYsU4iGg\n",
       "eDDJ30WFmqz/zTGHPlHAO1aEwK1MGYuVdXTYYFqkp5Ggumfw3saxGm0V3Ea2VVOUWCPSdiLv2Y0x\n",
       "nkS3HzdQbc81/LpC8avyuu2vf2IRYrumWPmakzugFBPT+5VPJ+Wg2mz023YzE3Xupt7Bdr+71sCJ\n",
       "RJNhaS2567sdLYbZpIjJcT6S1c2NpXumchdfiEQMFtKdeUow/5NxWF7sHhTehebGXx+evRTpB3dS\n",
       "0UW3R41SMriH8ELMJU+rv1kjk7joLa/eBsEsbpzrpCH+6twFFqImZQm753JKXXUcRiHSzJBNtnHw\n",
       "yMawW/SgpEAlhv7XqkW9CsfmZiDSCS4VpDIbwYIqK/bdqP9DnKR8Eh+VFHNOeOqQ1pjBunuFbfQI\n",
       "zbqfa3J7YeV+o4hUTOo3eejvbEt8qYgPyvXJo4VtBiQo+dWNuqKrQ2OjVfy15dmvIxZtJfC2Kktk\n",
       "fLectlG9rVYA3WsOqxxWMkENWPs0bSsplsw4dDsg785s+57C6lUVA6HMIGJ/vk/O7oGD57N6cxPN\n",
       "s17PjGpDSyVujr6SqbH1QIYn5GlG/huMkn6aaGI/PWZNfTsVM99EuFQoqwactrgYc7USWNyNEzKX\n",
       "Pgebt0uDcYsSwlPcd2AwWHyCXSTnt1QwUgWy/pzpmQMCgAH4nK9rzfHH7S426qKAFn9no7EIO4/a\n",
       "V1wzX901CQtg8I/cd+DfhFUxrLE/ck2vbuBgzvXxeW3ffE/7OzdbcGgU/D/+jc3nIG0Ck3beBW7E\n",
       "FbqrWbeytY9n/9l3iZtlRYhUCOWlRVnEcqOPnSaIIsXUACtKAsw4MfZJ3vCiRS1mzJZssa3Zb46I\n",
       "z4lnwtI+35gx4QDu0lvUHnKi3shx8TxlOq3LyTqOKER5TsX8bW3VliBz1nUpKa5/2Ug6pUyExg89\n",
       "uMm2nDislxYPRYEyxt3OvFkU4WCebHySrnZD2S4XczAjviP+HSruM1qFKX1tHO64XcqUBmu/pQ+5\n",
       "GcYEYUVqx95VBYQfDma5qsUsvD69lwVqaJwy7nur78Lcpt8vxCUjRMpn0o1GKmXqf4M4UeUp5cFu\n",
       "/ebRZARcfMVl8InDfsdx8ECjtHyAc5C4vb29ECmf1LudaAuXRB6JxPc9RDuqAtlOO4eyVeH376Kv\n",
       "+5wk96ndaJzJuNlJV/YIBgfqLTuiCR6U3WywXwS1g850wIAEJON+O7IzS5RdJz5dWHZHc0h79Sad\n",
       "IsAuQtbb4aptsX+mxB8DsLsA3WUugJUFjbdoYm3jMo0sTXB54AZ8PjPDr6ddeCJy3kSYi7h6+1Zs\n",
       "uHyeciLke0MAT6A0HHQqnAUN6IoilZRPBPKBTp9wrhQ0/jMZ+yHLENG2AoavUwGJvdtVl5hFYrWc\n",
       "MkP4KY2DYU+ii2csSxHB5rkCTlog8D4bPzDw3U6iZ/B4sm6kPcXfyV2vdhlP4mQYZzJjhAZkNd07\n",
       "8N3rf1goL14+0eWGJyPu+LCjGVh8FXtF37jZyQovRdZCeG/fQyVA9lBceT3plcG6/VxcZa65mVTg\n",
       "tSsWUOkFXuTfZ6z7t3HmQR2AAlHOmremEB+emhvKS2yBe42oL+uPkLOBTPsPP6x904WRoOopv3ys\n",
       "abAAfFJyDhFpR2fvOxt5GuNc2Awh4kgez9M40A8O22MGDXyfmA2WKnFqpRO+A4EVypblI+a/00M5\n",
       "dlJyGR760be0ziHvnl6eJrnNil+KOfDDnOHZJTOgtklewRwK6q/D9OjBdCf4XTlTXc88+TOYb5Oc\n",
       "qa2LyTOXmivgg0Sbkm/oia1XIXa84Awwou+D10bRwMRiQjkb1xRhjdn7kfcBDVD5ExhvXcXF7CGm\n",
       "YRiksq/918kBQfl6aJoSC/DrRTvKdYFMghSRya3JGmTb+Gio0PdH6YcgM58I9rCf3nh7Okn3eycO\n",
       "Xp679YwvGak+Mg50O3xaMoFceUvZ4U0OXnFDirLq6mfQ638FQrC+O9fkYyySkPDLyKk+cRprEGaJ\n",
       "HzeDhDSJqSZ4USFm2/RRUamsYwO2qz6IVVTmAGecM35XRhWhN2v30hd1VHME4O6dAYV9gZ3QM3JU\n",
       "CFSL1D5iIW7ZuJDgmwS8qIQaDM8iBWVot5dEkkGmKXUzSQwNFb6U+o43yjMuT3/smlA00hf3QraX\n",
       "HjT8dyJcDdQlg71a5lu6/ODeW2mBRDXleXi/uyuYM4CvzfvuCRMj4kEcpXwfgaIPHZfMbakf3lV+\n",
       "co6H0PnO4WHdMIfoXU3tb6mchU4T4FGFQ2n72BMCYA/r1AAzIaZwuhD6ojG/lUQxzaPiqGGlRkUi\n",
       "7dB3hqzXOdVZHtCQZ/EzysLIEfczsLwq8e5Y+vavtZWbLrZ+Jb2ZJD6UcIZWuCOEdU+cCmCGclE3\n",
       "4WOsf7KR/bxa/hcc+sISKoyetW/LflknuSZal/puUtEqYsuXV33uP9OyMdInOOUKUwVjJbs/dczU\n",
       "zzoy+XvuQoUKTCY7xwcy3Jzx97lzt9lJZaN0xUtH/4mCQys9AUXM3nLAKmDR1CkAmjPbj4m2y6UB\n",
       "KSDunBY0cEjUjjvaP5CTbTR1v+3XfahIASez1VhALTY5qhJog3uI3l4hBrKvbTJiRY8NrF9DjIrs\n",
       "1ejiE6vCYhfrW56S5L6FJrhh/yDElt1MQlMmCpSAEY7UTeCFy5b2EMqLgfrK7c3B3AxknveZ5OL7\n",
       "P6az1QMohRSQv+hwbQAB9gAEgvkAAAIRQZojbEJ//fEADtQpoAAaFrX6tohcfopatUY4f2aTHfLX\n",
       "IDmz8qn7tVeGHWhrJ7VRA2q9+zkHkvw4H2Si9vgXiOHD1r06FkeLsM5YcO3AvfmJw/EUZV1g6Z3B\n",
       "MEd2E+1EyOK8Vly8j3lwf9/m05cC6owLss8ck0xWLFj3Fu0RJCcD3R41fdrZMlI9NqXNZHwEwATu\n",
       "fPHDpGgDgNniqI4Hh5Vp2Q4HImHC/2lTxZnrpg5h6X614F4MgxvMI5A9g0nSCKJjBQ290lu3u74Y\n",
       "wrlYglqszxMYTemb8o+5IWgk7AFg385WfcAba2ZYSDFrir6U/cN/OZmWvyeNS0PtUOO9QO0V/tZS\n",
       "AMsi7KlT3Aumy65IfR5PJBj4XDEyo1C3o7dwbLlJz0XoQe4TBrKP8UcvaV0y8N5BNM98WWXIceKL\n",
       "a+8ooCJH5B5ws92kcPueFrRnvgkHD/nhQJQP/kGWEbw5J/0eM9oY2lyxZp/ONlapTQknSGnuoHBv\n",
       "2JUCwSVY/KPdlrxvxSAnMfOQY8MXT8Iu7ZKX3WBcEhrUxgpCEJYxic1irioB7uIwzx2+EgzPiyEW\n",
       "9ZF9X/HHQR8aAhreVm69XhgTR7ysaUUO9r4o8LV0YjD8JkNuDEK9STZcIAyXH/cmoYyWg4wecOK1\n",
       "wQdcVQ9l+m69/SUpHnM0zL8J9P0VkUvZd716eQqpmebTCwfVPlvBFwAAAJNBnkF4i/8BR/em8Wlq\n",
       "qidmhNnh3qiAD8JSeMRnaMvdPq49Q/OMOwIDayaua5s811so7W4y+1u1+3o3V6dQY9tGGZi20Cqz\n",
       "PYZ29BHjih1AO2qPGl3sc7gbarKCQoZT2DakRii6Mzo3C7Tv0rG2ZPy8qgtm4hJNPq1r6Spu6mDL\n",
       "gYCjRUmfT3WHoJLDZVsGSNO3NwUAAACUAZ5iakX/AUcYpFiUtkGlABOwcAnqUTsFjG1Vr946ZSG8\n",
       "A/16GwyyIWrgiGqI31QG+HMAOgXmHEHLT3o8mwLP1O4m6srg7SKkNQcEurSdAgi2lXxPOJ0OhhIa\n",
       "ALNsSC46soZsIp0d0y27fu/PImQzlw7UlvZzmiZMIHqvceAzl2NNkhI7y0KEP9e/tKc34FekBNwJ\n",
       "YQAAAkxBmmdJqEFomUwIT//98QAO2iXKdX9ACwS+/H0U+magDRFrvRNMUvVIR54PR9oh1RonrWyS\n",
       "B4S4P+UdEQQaTsue9XjXUjzt5dVvM/djZSTJLXZkiijhMkXxDx1kLNt+PPM2NddEKSpqCtsT9Dgr\n",
       "gZxYHUvD3Smefnj8+tTRrJ2U04lMF8R1hZ4IeXUbl/CwdeuQ2RJFlxrQNE7jpje8LrjBVGXPLsxF\n",
       "iWo0KeHLJjGs7VEJoF3PRIlTSt6trq7GCorqn3GCfUQmqzJ+B994jwQPg2viccwTQ8mN7W8uznQQ\n",
       "WTliPLZ8KZBJ71zv9X2bTWAHQqnwkD1qkNcHVVZItNeV4yA9+kCgO+BDgmDbQ6o0SVL/qY9EAc0n\n",
       "EBFiyTKnXF/lj8PgymPvmRSBQ9GtMBJuZsc0jeyXJ/9wuVYdCgx9r3yysSqWHTBC9mPwGDDzyou1\n",
       "UgLA5GLKlRa/UicwLQFFDtARUpgFivNwSHlipEwG7wQYtSlVHRY6IOAo3XdF/yIooxDPb6jm54Ej\n",
       "9k06dqjVnPVe3brEL9hfQ2eqMNMzyaGnshYtML/NRq31C+43HjNOQsFuhnumMZoHLMXbDEC8hHYT\n",
       "/uhp3gEU2k0j2mkPHAKGlBJJj4njEW+reuJraKI9A3ueZ6LGlUV5qXA0XmPftEbuki7g8JHNFl5g\n",
       "Wp/O4hXO4vijaNkVdfPrV2DivOi2GquW+Az+flCWvs7fdaJ8BShKbVRZT1pMwRDwuCJiIzkHKdNG\n",
       "0K1xSLN3VIdxSDWM1EWHndc8Cdsy2A4AAAD+QZ6FRREsbwD+DC/oAVgOvjNiYG1D+OhbofUA7G10\n",
       "ohKMYW+mnzXxV8BEkomzj47fOiQ/VZQegVwtt2lFZhSxu+0N/yLlr4hL3+0/xYKZ8jrtu7Ac4KbX\n",
       "sttkN96K4zNrOO9G1lSd325biEyxlEjI89CkY3XLRRtJJBEn2j5cBiLE0k9+UXpkOaeHTVle+XWj\n",
       "lPn7jh3d8mmI2fpwfCMLHsfFNVBUe/jHdvS/RNPWuf9uORBPtHoJbzZDvLV03HxAMEUraWMsj5HE\n",
       "kIG0KNnQzeWzJmglXSb0+9RqXQLAiWH4vpufqKqzRN4u2StckzJmFqP6d6lRlyeQ7uZ02CgAAABo\n",
       "AZ6kdEX/AUbiFimd4WTeQHDqQ3GDqUtVH3sMgXNi6sHVp+Y0+oceVVc0iJq9PRmzs6shUgZB7BwD\n",
       "ZL1JZjaagJxrQ7aPWbX4/PRwTjZZ2lLXMlptQ4mb/d7A/JgBXJ5aEn8TYeBm3MEAAACXAZ6makX/\n",
       "AUfTkAAzeGNAYRLKhlDOFSXhUTHmKaQUGgDkTNQNQnaceoKh8AZT03+R0WDmxxf0DEKBKxzvxL9K\n",
       "5FZz8tJggrJqFwzEDnK6b2aV7mZi6iLXSioxun6cE9AnA4Vvl0jZSLrmSimINrUdrc4c7mRm5/T4\n",
       "vJGJC5sZDL6jZjjsqbygtSaedmslSSd0tHBG48q1uAAAAmxBmqtJqEFsmUwIR//94QAU9hBi6ADy\n",
       "+z0tI+8MUX4r8WANQNzTPTaEBOagfAV544Ezz8sb8EJ4Ls6rD3Xh8+tuVr8tiRwvp/OR2dZfCgb2\n",
       "hWPxA4wrjxJThpNQx7omNt0VvXVHQ22CZCt/Rv7ukybmlYlvTiVRhGTh9APoN4+i6s695lsivaNU\n",
       "jPIXMGct0w9Q7jNCxbIk/tORGXAci2HlYHOpBOyC0KiMM+fHZixC4lZGF8NlwRm2solhqbfBxBbM\n",
       "tINl1MPtLJuGySPl/YCH3cpX761Pk8hnC1qHI3Jt3otc934jSSNelKsNFYRayZWPy1/tL7BChZqt\n",
       "i8p+8hobqlN3aS7xSsPNNYFxy9tPj8K7A6PY5ESIO272EMUW/L6Bj5kXi/uixJNIe2Kuure4UIPl\n",
       "FNjTg+uRN2KhgvV9cumICo9w5CyC6xgqBJ6rotfIWpyVQIZGHFwOoUUc4bdKD+SfTmghSON6pCne\n",
       "ANniX/G3Dg8mzjlMH9MVjIaObpLMwP9vUPepE9Kw9s94pUKVlJgM4oCC6BPBXixQYO0CrjZpCSYZ\n",
       "Os477mEVdXHGswvMUKf8TPHRgkhOest26wGoVqbjEVl3RrSyTvWByGIO0rE8y+VPgFjXyL8zPLLP\n",
       "36OLvAW2N/FLPUutlOOHWbsfDiUP4w6RGDeJOOmwRjGSOB41Z5wkievUICz0rPMajUZ2l9/wc+vl\n",
       "cjtkuQ32Wod6JExNzcP1hCiPTWDhieBrVGr4n0c3AnzImm8mXlNBstr3nEUmINkSQCsVfaC/Vbsv\n",
       "0GSo0ZleJsoqqPYxGr0GLAbznG9OdX43AwaWRQAAAQNBnslFFSxvAPM9vdNw1Aey1hg3bqcDr//c\n",
       "JQROZSnhKXrFDTl1S7zKtgAb78epGZre5d+5WyGQQiHKH0oHKHxWSdFStc2/zm7SwisHazARwWkM\n",
       "gNcHIqfqdmyMOXV5n3YCUe0qHfEDDA0ZazBHGOKcaBFx7g13IyjT3zdsOVHiOOL/imN21dYpH88M\n",
       "3HQeT1cKHBT0BUoLswpsTjbPDJubGfHVJG7+TFvmnmq4uXbVUIii5Pu2PrLaRtIoxD+EQhZAnI1z\n",
       "hfgadSTio9OivWE1HBQwTdPNYA/N7omSHoj3qRB3QRDO9nXVYYh407hhe7B9oRiPNv4s9LI20ih6\n",
       "2ciYkSFrAAAAkwGe6HRF/wECEJ70QkLFo6I6cmMJo+vs3Jf4ABbvSsFZV1fF7mc1kD9ur5tdfp3a\n",
       "4WaBRsj6OU8IzRuYmsNMWHnO9HB0y80Xl+m3pn69tMDWCPa4o1VQPZUeJev1qwXyPO02dvNz5yoV\n",
       "ya0pl4xWhyxWi65lX+ZD9F3PgCoR+3b6NGE8KXed3AkGB+T+VH0bnon5oQAAAJwBnupqRf8BNfZd\n",
       "RqMXyvJ+1cYurB9QK2hm+ABX3WdpE1Q4H75Dq00UZ8tFcvuwJM0jW3Z34VgRKvoNqagACmqDrasw\n",
       "uMOJGEE/axg4hT8zvsIOx2n7h06J8yMLjpIUtuQljr2h6HNYF3OBkqoE5YjsCt9n491UWa0tNDxg\n",
       "OT1KtNzX2SK5DN0qGUti41Feyv6WgAao/FiKMh9/zqkAAAIMQZrtSahBbJlMFEwj//3hABfWec2A\n",
       "IL+6GfXdJovZKZh8V9tH0+o47R43NJCf0uhjQYO1Jpsc5tMUFh9sOaYmuJnpX3w1avLSblijPFqn\n",
       "xaqjGLc0lFBpY1wxnkasfdimFz2pPmxUC5liiXs12unSWnuUXIIiZLpIwdxlmcxzYQiCPtdurZRJ\n",
       "5deH6kKxa/c/fVS0inDMVpFJJblmUHElPA3u3SSbHHGUQKomgiGZoPexopdMJxYj/j3UmSwmrB5S\n",
       "KxDbBBjfr2gewwHO4r6smi60V63eB6HoZRxIYWJWXgUHXBv6arebAmjL6sr5J92hzug5TjYNIr0E\n",
       "c087UXgi3XJi9tQOY1mlqdvBWSifDDmH4UZ7S9jp/IpXefBPg+SrWS2+od2ulL+lPdvfV65Ycu4R\n",
       "WHHkr7byEllu00m/EL7DqcfIZlFRr9XzuDxlb+ot7+TeiJaXyv3+mniY+WKzi4/shgFdzt36TqIE\n",
       "iXkCHfS9nRyC1prcFRFn/uXDnMbkRDRN4qvMytESeJOJvRz0dUMuRM6Q3erUlz25A5QailH722QT\n",
       "vrFJW/+gvOjmoRs57I9eSXDiG9lBTQ9To/GE1aB1DTR2l5mq+ojJp1VwOZQ18ScuB/aorIOGePMQ\n",
       "LPFlZOxL2dy0AeM7sXXXZ+6dPUQomA8eURw2icjpethejItMiSQJPigbyRETbkUAAAClAZ8MakX/\n",
       "AUcYpFjS4TQE9MrHlbQgLgb8qbsUTn/esAM2NiY8Ryg0b3fbYHX9H3uGKD7DgN5bVUxdTrhyvwNq\n",
       "A70V1G/9EJUVYAFYvIwjnFCbm7ErVzp8XQTpVfVsgPxBBbKn9D0HMflIedmIYYvVXpnb0iK283Is\n",
       "IQj2HTw9I7IykKWeFvYztgHPtbAYa1/jQPW3FG5IFlueqkx+V8vTdghPENeBAAABekGbDknhClJl\n",
       "MCEf/eEAFPbOcwgvD7M5ZmWFEAGLFfOth5LBBWj5iQq/Dg2g5q1uniVYALOYU5uVmoo7fHP7r8Qa\n",
       "cYzR2XHtZZFYf4ORTGtB26wW84BtwLuD/om0EALUKVKAWApoW5XI9w67NDpTjcNH8DciP9mdw9Ea\n",
       "Q3J/Ns4jlj3xwI3L84Zd2gZ/jwVKq5dK8MUgoZXEE+UXpw/MYwEqglfwoBgtu6qB9aMBpcvaR2vm\n",
       "wy5GisJWGIe9kRNG088BJxZKuFq5ooHyIb0KsGGrs3cAj5FfxuZ0DMn6JSTN8K4dHhhn/7yEiB9O\n",
       "DqcCAs7hG+Jq0JsmsKo89cULUkF7X/Ds9MFWOcBKbbXnEDPeYgyS/tqYM3xNuJvVmVxQGF9/AMuk\n",
       "GXvuJe3QP++0oedPc7nqExFxS1AvlkKqy7pjWAH19HxgoNleer34VrTMqBtCAKVuM+Cwt09MyYh6\n",
       "2A6En35WSItCoVl8twwDVB7kCQolYwF2MJyuOAAAAhVBmzBJ4Q6JlMFNEwj//eEAFRAwAJSf2E90\n",
       "gAIM3+ehMNCxh5p0mP6HZoz/B8LvIBk91pm/IGpFNIN+2NPb5XJq7i8Jy3qC9oHqqHEGFL8Dv90t\n",
       "Cs4pEFIfn7xL+aMQ4ErnKn3wbaxKc67/OtHlFG/GFcasnf25yxaIcdNUEl8s8h23FcnjVszjpF64\n",
       "9mjOa/7OGAMxdhcNp0ONyoldzxWEA3/fG9f7wAPkhuSGUwS70bXBkfE6f4/Pp5bn2ZVt+K54VJVF\n",
       "XOE7fKBzHJuYXrGoWxa2kWfIqv3EG2NG4fGSG+J2Ij1ZVMLrrQjm4Of9pMbZxfCUDvZLB8mCwmKb\n",
       "TzASF60fpbrF6a66j+TU3w13PR/Fbo6Q8QfLtBDMWjbcDDAxDKqXYEWnwYPURreSYiGDUwXtaKEu\n",
       "eXY5dN0Vrw8wado9wSi/wLUpH8HWnTf2X9zOOs+XQM84AdeBCP7TSVu9IctkLuSGGVMwDTfcdw73\n",
       "2GriJYofs63Q4y1ew/rPCwxuw2U8Kzs70yTc1XzAZ2GfEfvS56qT1gSwReaHbZIJsW/RxoLt1epf\n",
       "JT+I6xq/sds/Gh9fC7g1O5zwUTWGD6+jozDH9Thc331ohRZeY4i0ODplJDT1PBXyjZO9aPuAFuWC\n",
       "JMGuiLnFm+fyZBBaX0zW5t4113W3JFweIiIjAAPFRIL2Ks/Iu+26A5NH5mZBuU9gJEBsIAAAAJoB\n",
       "n09qRf8BHTcBFc06yqCykf6G8VKgBr4PrdpolIY0ptyhz+6HxQtv60HaAHMhB25tW30QYzFW6DdH\n",
       "WaP/YNX08zj015bni9Wq0ldSpjs7zxZmOvoWiH2PRVtCvD/sE7z7fYpAMgBGyWlv2nl/5x0mxjJq\n",
       "W207X++4ptYjHGFsrqibOSKKXlwnLMzvC65wtySmyJD/IK+XyoeFAAAB8kGbUknhDyZTBTwj//3h\n",
       "ABfjzOyth4AFeCaee4hvsFK5onNAIbj4bDwEGRrVgtjeBt3l2TEIIQQ8ga5zO8YuJetpBIEsJRJU\n",
       "9VIkMPm9qjfqJe9lXXucZfYlPPvZs2LL1mYn5GuDJnOTXKuMHkCJOuTkQMFr+3XLOEbTBsap+naJ\n",
       "vMTJ6WuKh+EVI6OK1KiuhnP9UfE29hfgeMmsoj2ovqsR4wxGDymZfYJZ4OrPJHDRKxrWNKgSn8D0\n",
       "HoQczpPZgvdZU3rOoDznZGmSVYQ8ldw90DVP675NtItRm9h04fKtMrsjCtEPfknBwwpUb/4Sdcsg\n",
       "nLFSpuclP9B2V3AcxTLNCEnBIWd0HX/r9TUD9ae4c/GSAx55+0EZ4S/mo8TQP4/3Ob10jpD6IeV7\n",
       "ZJrl+u5gYNNWDwLcgCaDPkim2xXVQCd7kWkNo5VqcP7WDhFLEte0nbrI41WwMkdDHBApcES1iXKg\n",
       "VYnd6QkFYeWvCHDlRnpKBd4/Oojtu9Ilo0YKU99KNBQh52OTGEes3l7juZYxzYsWSr93RlENlfye\n",
       "iTKqW5xB+1b9K4qCCjgyaTl/QU4DHXNNBkrQuO5z/EcAs+NHEMJKC/ChnmSWM802v2E8S9LKNNxP\n",
       "BwJAb7zj4yEn5qCJyB4h+cGQJGuxV5SUmmTGsAAAAGwBn3FqRf8BR/LJyf4sqSwAAtzP4FcdkjhF\n",
       "EY3xlpUjAhyg2a/Bl8Wj8AHUqcqzDVP/1ovMY7TQa/kfI053WtcOFg63AU2aGnW7bukvggWnIkEO\n",
       "UVKLN/rtLJiPpuWPYuwLg5kM2CJW0b4vDi4AAAH7QZt0SeEPJlMFPCf//fEADT+1e/0IyJEGN85U\n",
       "cDxaQb9/yfI4cbiRmI9JcewuFBqQGRNQZtu1ixWAIV1VWDYviCxDPk5fHfkVWtj/7Efhxz2gsR5O\n",
       "PSDi84z2UHShCD5bQwVlZbgUcYhxsH7R7mIqpg742TNEhi7VI5YpXkXQDeTHD86hEIqbT1YL3ag8\n",
       "QFuKVyYNxWfh1oj5WFbgfL0j9CUF9BFfnL7T78IXeBHC4GWc3eG9ku0gPps7RQoc7bqZ9OCJFt+1\n",
       "VJw/tlxexBGNrupk+3e7n9ROvTC4SJBnB6j9JLVjp6hqD0Vs3bblXTd060tr6PxqvDbGpHRAVkek\n",
       "a/URg5ReCJ7PJnTR7PaG386mkduH7hPsHXHBK0x6GIlujTf32WSfZRrwPT8GXm9f9nEQe9dZTsTf\n",
       "Jarkxq+lTp6L8DANmHvsfiJwlCpMLWwS7+0vAsJGHrjYAwi020QBLQkcXNAXZDfCX9KojLnsFORS\n",
       "8ufkBFdxMh/abkhDxHIrSTpR987mFdXkKTCYMZmYFQx9mAS8FN1lRSqjrfbQGFw2K5Rapi3x5XmC\n",
       "dTkCZmMCHQEhIdO2vDF3+YWQFdaDQKPwhVM+KJvpnwsbPb6DQsEuumZV5+mppQFedrL89a1HJ3x8\n",
       "21uYBykcPvng8LdHVast2ZSVVGvak6N/AAAAgwGfk2pF/wEd9MHfBDLyr5YYiGDDAC27K/HZ+HJF\n",
       "zH0R2UXXLAxGWmcnNAgw1Q17UFLHvRnNzqhlKH6pBm3LWOGZYQr+N/5x686EufBXzEoZ8pn3yVE7\n",
       "Jha+D29kqLKSprty7tRgS2wXPliNMgrF1Gjssu8aBzFQi/Mu6vHh69WuggNrAAACfEGbmEnhDyZT\n",
       "AhH//eEAF9o8FwENOQ6Nxq/2WKwE9Mg8SAAMvN2lJlmAHAExcHTpdCwpNcezF20Wovdp/lvuFe8c\n",
       "J3/8uojD9ll5IpD56oZ6HriNkAgrWmfZDMUkbnP0lwo179667NSsa/RsDyZnUcPZXPZ1ZQeBJyQx\n",
       "03sHq1Ngm35vnubaIa1cg8an/ZNPeRmg0IjwkLnnl/z6TGK/pGOQTrC4gUtgew3pF7we5jVfxh5X\n",
       "i+jSEOPRav6l6/P01Bc68hIvx/8oYyOrEJHhkypGSWp1yiPzQP0NxoB4basb/dlqpTGBid2d73lX\n",
       "XcNjeVK3CS9ew8imhbDLWdMtzOniiWr1y+QeYuRf3qNx6kdYoQna+tfZTsAhiEpfPkltXy8KBY9j\n",
       "tzYZjPFRG56j+Ux9pGVq4KhEEb79cVptNiVEJshJXcr3hST9HF2PHMPfRZrPM3+8zFNiLV2rFRqK\n",
       "EyquM4SZWBdDqf1awm32kZt0Ytm/3ToHxiUm9MYbGCVOuIfS3z9flmw48PL2UOMxBXn8NgSwGNDs\n",
       "DyFhrDaDH8xZuxaU6Gl6rh18zvrK3x8xpNt3qlVGPN5vz0iFgE4hG6Rsgr6mWh5fiGvzIu6LgL3b\n",
       "V/vUnpQx9EhlgN64QTAp7axi9AvXXQ3UjIpW9nzW6d/gwHPO2HNMLa1PJ5zINPM8snNt3FAWogzB\n",
       "KgIqOOPdM7vVIHW3RmOLCvR9tH9Q7tOfz73CkvHUO2GsiB/TzADp3a1PeP+riMnZvBv5agFzR4tY\n",
       "WGBRwHw73D+bYgAp7yIl1ff1xX+RRNPHtJvocgvyYqPCEYcsyzYLj1kOQvj+Z/QogLdy9TX+55ee\n",
       "4QAAAQdBn7ZFETxvAP3JyGe6yagAU1TGjHwCFtnHz4OJS3f9czSOr82BgCJ1Ma4TTqJRyLQzLJzm\n",
       "xykGj6+a8kdGXczB4M1CV7uebmpom3WmKdbMR5fT7fBDomhWzoWPiw/mhgUCETs+Ep15cKKXB8om\n",
       "V5GnKYsGSDz/98ErCVAFyMVNUSqd4wMpU9CF16SBYL1B3JmzZw2+AfLSvJJsKP3AvqPo71kI2oJo\n",
       "sqMD9GmzDL/HKPx2j5LqHdFpEgCw58/ucMl1zrx5SUR9beCEBVU+LIx9MOOOLF5k47UUDwWfb/4c\n",
       "/NWCiw5YbJZvxqtm+T5hjaD19YvARaa849gj+6rZu6sarvJooqabQAAAAIQBn9V0Rf8BRw75M9TG\n",
       "a1EZmxQgIdROIBVespM2woKAGYkDIgyoguJCOCVGmT28Suc9TWorGA620U9rB7SBL62KigtxBoo8\n",
       "KY3ZZPlpEB+VDpATe/ogwGy80VyMA4aa8BxMHrgBOqW9xGvu8sZZsYOOk6dZbPs7stCcz5wWDVfF\n",
       "seSoDs0AAABxAZ/XakX/AJ95QsIITQTS11t6w0gvJJoGlnUQqDE0HOuhfrDEM87arQvfcZDl6SkJ\n",
       "9fgVFUBSZrwKinuZIUW8DcF5+HtSNFWj+A9jV5Qxoz6VuzZVki7t4ny9WDjux9FKLl6oAbuGE2+7\n",
       "OqRS1Q5uJikAAAHuQZvaSahBaJlMFPCP/eEAFqi7wFuqr/HcWq13KK/fQNmQGTOO5+/Bx+pe7JAd\n",
       "M/W71JDEITa41d8eqb41HowgprTkFuw6q2Hr4EyByKIKdgqGk2fZuHsxJLvSwp8mINtSM9/pnND4\n",
       "qQ3hE5fQptJTtiIzywXBI/53J0kgbzWRBFEngg+XB9498XoepPoW+GAoOizqVAfVKELALnaObloQ\n",
       "j0BvOQKrQMTKkEWB5+z+YR0bCJL9msa8Lhpy5jnSkr1JfM7pRtOIzA3LxPDB94FQdVC7PaiYY0Gx\n",
       "MgDRmaAu1JexPdp5BSllaklnYSKTB7KaPSi/y6a07JbF53Fpjsgq76CQ2I+KOoCSQ40ZJ5eHsq/n\n",
       "G9f/oW9bGMdMdo0/g8VcN10THzmskzRtyPoWGvslemoD7KW+2ObKYQtgW+p/8DXbmsac+ZIRy1yd\n",
       "7HwK1fh9Kt+LQIRd7kG+WDUBIG7XEWI0/AK8ffjrnRW4xwAC0yYidTfeqHyuyf6l1EosG1beBUc0\n",
       "RecvrewWZPsG6z1f/3SvTA9GqXUUq0M0jzjlhVAcfgcr3bkAT/j9BtA1pxZGI/8HlMWG1Cuo0Fc/\n",
       "P74Go+SXsmMxEhfMbiB2U59dnkm1mKsX3vqTiUHcF9id7fQm2oCYzod2c1tfwe/gYEAAAABzAZ/5\n",
       "akX/AJ9c+PCUK4GhiiUnkXbwoXf5VtnXp0XL0VGqYJi2AEmQJ6iFVQEwImCpRj9yBz9pACB5NQQI\n",
       "1bsKcY9gUQao1dWHNUDAoveX8vbQcsm6nxd2unoOJnNBoCXVkgtFtx0KjqLK45N6TCsUq2qEkAAA\n",
       "AepBm/xJ4QpSZTBSwj/94QAX1ni7EHTl6hUooSoQVqz/z61h4JsANT+ju5Wlx7j0Dh3th6eDfyTB\n",
       "dNMFTber17TkgNLDJDf6xv7yxsCPyGIjaZPxMRoUs+8VrCaUxUdAR4RcSFcvyOBq/6AClCqX/0x2\n",
       "lpmAjQP2CcX8pnIkGldSJpRrAX1kK58cqOucdCOIOqF4tLN7iCNAtAwe790n3ua5V6XKbnEK/QfA\n",
       "jB9Vn1B/hLiN19Zf7F1mG/udhBtZNuIUZS7hyrW9hMHkaEnZBBPl31LhVcuz8eAuu8pQsrZSISUK\n",
       "5RIzF5pPDM69qwwFrVBxdz/RC78DgIWkSy/G7GrX7TcgHucVg/qhgZecJd/ewhZLJ0fgaubz1HCL\n",
       "ItGl1vKWAHbTudIuErjHNqPUzGxtB/e6hLFCOZgcbK3KEG+wcRYjDpLjGHxmKdYEX5NF60vZGpQz\n",
       "ILLZnWwxvh6f0etAY9CRAHRRYhl+FKhiN1SDA5UfjL2yNrmMaslcyXG7qS4x9DR9HWPrLlp761+V\n",
       "KSPE5XzbjExAl1TfgGTS7+w/ZhnWsBmfdgiGdPvWOQhI3aShteBmnjVhvquGAEpCuIZyEW1FV2RF\n",
       "pFYp10ooUkCzH8ht1wHfe2Q9s9G2tJtOw+l2gi3bUvzT536BAAAAlgGeG2pF/wFHGKRYkNMAAjBg\n",
       "JqpCkqJACTqzRd7ob5zFDMfEOJLm8o1o7xnvxkRCNxu/tooFigcSPS686vUADhq9Cl3DgZ0yzhyo\n",
       "3KKOwNOV1B+9g2Q94h6IQDWTiD0HyG09Jtic/rviEM+E6T5f2Ziz+sj7mRAlQlJk1rK1XrNywncL\n",
       "g6orugLPu77Vvn7/4jH/G/BsQAAAAeNBmh5J4Q6JlMFEwj/94QAWqLvAV4HewMS6jDm5iqoCsOKq\n",
       "P3DDT6kxK4qXVRjzrCLKHpF/fNDuGfkRNZF5HeuP3Zd1wKpRgFmZaG0ggOt2ZmYygDZKdV4w3vCC\n",
       "blLvKk2NMTEWNHO14Na5ghs7e9MIzDaVtH+XZGe5eUFwQOdWUkqaAEY7rvXYZTJ+igoZCfoLAUqX\n",
       "1CQV2RAWt+FGP3TreNRXN4jVT2yIfCvjtH+X6gHLsgnadx6Ide402Jo33ctRgDFG7sv0EUWc9OEE\n",
       "4TVwUj2T1WzZrVrHFWcsNSQQkYJ4hFc0L9lxWTGdvsAZgMsXLm9O8aERZXInPcKpp2MYh6vb04Gr\n",
       "UxCnzNc8xSSbifwR3V1T2s9PrvqEE63BIhvpdZgG8duRE8t9mhEbyKDAS3kuUSUq9uFRY1AjhCHj\n",
       "7+kT5sltuqsm+2R0Y8Doms3tm0Ep1NNHLPhn9z5whOeNQosTiFddmMSA/VPiu/5G/GHUNzJZ1hzB\n",
       "qoSSEgXI4IWb09tYERPQKyLnpsAUStr3IcfipMJFLGS+jtgybgVc+psenjmzEfV/jZnXbqT/Wrb1\n",
       "xWcVJzteee1b7xQZvz7xc0njP8Df28Xfh9+2WocVAWGP+bJvQk6IYPbNXiAw1TKwakEAAAB1AZ49\n",
       "akX/AJ9l0HLM2KFETDjFcT3czRJ2h57CUnaLpb+ADNsNxjl3M+hAGHaVPusbg3U+0FcKl6OYbhLY\n",
       "cwkLEoKd4H9yiI3Wyj4rhUgTk1hB57NeDhaJNP2epQpmG3q+kIJb1d+yYraoB8oWWiTkQR59jAAh\n",
       "AAACT0GaIEnhDyZTBTwj//3hABfWWL0PUl3zPe8MCfyTCFq1GOh520a6ZAAcGCOzE4lLurkHoQe/\n",
       "TT8TmctQfsiN9vY4tjbo+9i4OntbXxBvsIWpiWtNcDj+GxhIFQ3c5tbiYtIecZfZdlO4PE0h2F4w\n",
       "nJsnhnfw/t+hAerQ5qzTjbUg1GxhHnAHqX8bRwA9lycQ+tqt30ut6tWL1knknkQqVpMYjfMAuTaV\n",
       "PtuZVzX/7W7fZeZ2qdE6/wUacogUTeAfW2s9KfGVSv9ZoUOWuFyUGzm/ax/4riH1urZGj7ZeHh94\n",
       "kTElfOZUFQZh6ZSSJY6oSuqL5QDnZKBe+X1Sowh4dkDcRknkNuDCUFKV2TM84mft6lKFVQI+TIM4\n",
       "V8a4wXIAVaEUPeaTd39EixhPzD7b9S1XFe4dTeF04BIKyg0lfElufp4/Bue4IzDCkVwPYbMzvjWX\n",
       "zAfqDCZPpQP3spiy4jq7INMC4z+HnKDdjuwc9PWwplTxQB4VmRMmVbCvnzUGw2f7C2X3KuHXyX84\n",
       "kOrms6B/zpXWaFeQzE+BNBtDXZo7UHi1AUCdYjyk9Z57615TCCXH0KuvzE+Uke1sRAQA/IWmfl9h\n",
       "iZMblxNWe88sDOREvmaMlA0Cs1AFDeJQXk1trEA6TiZj602FcGIaEFVyDx7ugYlu6izwIa37o5rI\n",
       "D8CXkacbrgEGuNAe6OU+NhbUpitzNqOKF0vN4POuD06BJHFeaU6/N0AgA22MRSVdDm3UfNrXeVVm\n",
       "BrDFQ6W9ODzT3zGEaxev/xg9oYHtDyZGwAAAAJcBnl9qRf8BR80armIvfvQAAATO9yg9USAEztTC\n",
       "4nUCehVzIm6T6eMGVdizfY7nlsXruUtNpcmynE3gEvEGvAZ11+pgfW9PMz93Eb3GAc6jxyE2K7Fw\n",
       "Yw1T257y3As7HbChXi5lm6rAnulbFA3AM6l7tznzQ3WYUnMVopfjfommCzg7qQW8WWsdHfBX2AwP\n",
       "eMdN5zi7Rl1BAAAB3kGaQknhDyZTBTwj//3hAAubcHxyYmOg3tI7vVBs6gAapILeWX/MZ+CrKZBy\n",
       "KVm5VFl9qZbzee3vW91bCR648ggGpi9ixq73INqlxzDOsTOYSlp2692sfL3bHLNc1uksTUp4fz9k\n",
       "7EiP6P1rE6h1R1tFBL32kn23wKAOpPX9vGpC2866Oi5Z5gjJ7eQm+1g0CdJ4gtkmc7UJIw92vCiJ\n",
       "Jt9I3Eb5YSO2+1k0ST6hdFvbUQsqqfDW8Wl4lMpJK3QKUeacF2hJLmez9TP74s9usxFS+ALOUqaH\n",
       "55yrlefbDZyyS7LaYyQv/uJzDJH9p9/zycxLvmofHsUX0nfMNsgOJ96WHLjp2H722tHMZ/cVbSKM\n",
       "l7f4btGPGRQWa2X851rhozdGEN0vv7y4kOJIsT0RKdmtDV44BKSK09nL/6ZzMPu9UlG3CRUmh1iN\n",
       "lrLykrquPuv3nVLQoXla5B39i1yty/mYFU6RtyhcUO66k5R+WD30vRzLP5nxR4W750ZabLUxHvcV\n",
       "e+k6LDvvWtZGhmjxJ/ibPb0zzca+ton76k6LuHVIJKVb3Fcdzs81gAAoG6bFEj9Lhu/FGE++3syr\n",
       "aLTOZ6FfCZnZfK82cPxJf0B7pQd9+LBijGFUwfq/S0/jABsAAABzAZ5hakX/AJKYcyRpzXkj9b4+\n",
       "YBq79/vMs+wjb732ldaAWSjuau1Ln3PFuLNU/VjvwXHZMcpolAAtmMR8FdX0aAIM0oq2UEiaZ4Z9\n",
       "iPQYLZ2Ticy84ePM1PDA1r6jWMkcF2zDj6cjURF50zAmf95odcDcUQAAAV9BmmNJ4Q8mUwIT//3x\n",
       "AAa8xZPT+Y8qAAM6sLxdplXF1MGhh10+S49PZHdALzQVFVlKw8pjVrZDvqsN/tr3gbZ31cCZGUnE\n",
       "ckBBXf5iP+DXwTFJeZb9Oo/pn1ag4VTgJSntq4EkGG4HosRkhiMc7x7+N0sc816DXV+yuMlUEnEf\n",
       "f12lpcAfdd46kHWTnQ/U4nqqQLHHtSqF99lsqsLrZOj0yTGTZex67xyrPqO1gz++aPjpO+BHju94\n",
       "yEt/C9l/eWjwwWa9mtyJcRp96xcz0Elw6pU2dLA/pEvS3CXRsC2nfcsx4Nhg+orAXtYGIPajXcrk\n",
       "XIq2NH9Gtf0OK5poe1hMq4/5ryAhW0xEEWJhX3bHBqtgxi0GPWKj1DPmXnAxRDqH1l2iz39bjJuW\n",
       "KO7OD3J1ZsQRnbar5hr+2GqPj29Rcx/18HfEZHgWMswqC6xvafpcRx9mydkf4N/zweF8JoEAAALO\n",
       "QZqHSeEPJlMCE//98QAO5/JUiLHbXkoRy9r9VPtx3489NYBYklo2/Y2rJUiWEdcp9tCI1IsuXPIG\n",
       "elsvTsWdmwM2+DcJCLvTieGQeJPgpj9V6pzadQkq9bXev/Q5rDote/nUJVWc+x/YekM6C68eAMzL\n",
       "51qeahKVJYGlP+edQD16R8OS2lNlvybfBeYKfq3YRQzDFN60RNdfQjlsx4CuTfEghWE5xX+68+NI\n",
       "BgWhcgZ+ENDGOL2q/a4USJzaFXYsHJvGdmtxotlp0yLSkuUgQCBxfCmc3X9Bz/J/7PWJUX3Paans\n",
       "kc+s9UsNfQVimIN4er22tSgYCpOg9+zqowa6Q3A1sXYk8O2Fpt5ZflzlZvlPgbj8jfgruOg+vt4v\n",
       "JNAOCiz0Acea9ZxFRm40pn/1m8iECvzyc2Rzge/INdNHD5+aWqfLxYn1QVYXttT8g+A+qvo9FOs7\n",
       "jGe8rrPBWrIOFXnzZxNXhvVM8cT1BcNrrD+g7bGkdtvWySWroUGaSnFK0hy4Zvc7BnfVxNjREHET\n",
       "XWQHoMJaEnwJtLU2VeAvcXgiChFGQU6uEQ/4woXOhXiE5GMV1hgDbslGGC3YUhDkrnKnhURm7+tA\n",
       "ke4DZkp9qYK3YBlQid+V/IbfySF9BihFiVka0H9hnjIfyo0bvdUksDXZ+ZpQZ4jSPxtZmlFfy7RP\n",
       "oVDTR64qLFVXKO0zDmNvSLAkU4PRKU3VYsJDn/0nisnlHjVMDy+ul8LevL+IZvwiaio6CPzIHnzp\n",
       "O6h3GlRDVtwDAieCu8fVDzXB+SSJz5CCRqcp/29+klRFcMZ5UBOlZ7lAEQ6II5+QBWULFDmx3nhI\n",
       "ljDIpHIZcDjk92RU2WtXlnkONXYWAws7rQjS42GzffeMSyT+o2hxmht+IKnoD5ScKjluhOIq9DE2\n",
       "MwtODi84wIHrRiNP8hQN8ECfUESmW6n8qwdn6swatfhWwAAAAOtBnqVFETxvAH7kWGnbyvdpvS/T\n",
       "r6QkbG90AAlfaQ+7ZR3FxOKAqgI3Vl9yYzLgHB5mzrAhXxMxz/2NV9HdxPGGxnhpIV9wNwhHnUY0\n",
       "LiTYS1RBaW1mktmvq/IHGBKGjyQ8g9nHJDb8EuFwC2uSBkc6pKXaf/tfWEhpXMCgaufasKSpj9Zd\n",
       "8f/RpvntWQMJmLJKnI2NmvY21on/MLfRDhGGzxym1g+u5zRyBHShRU1MczOzQ1f1VxFJP88DA9TZ\n",
       "pfDJvMM/akr0DFWGgZMfI19udYxN+Wot2N/OKVq/hq9+sGYBtE5m998I6/Q2AAAAlwGexHRF/wCj\n",
       "+qo9KAEnQzpvXvwIM/A+vmN+PENyVbwFD/cua0SbUwhV8GZljSxdQBeyZPHf/uV4GfuggiSrh3d0\n",
       "QDFFlTvzW1w4XYi8lSyWwIh+tT/T9PMQfIkTehVuURLFjjkklhJva5Cd2uNqFinM9NZksUDSIFM1\n",
       "KR7XBwDJ5HpI9R4hvkPBN+5XEx0DsymoZglG8mEAAAB6AZ7GakX/AJ8MW1c9HOE1AXIsaA+bA7Cy\n",
       "WBY+e4tyCndjiAyvi4AO/luqMWC3OnYYKclSKBgyfjYgon3SLkwVmWRGB6lES0XDtKUYKcMozAxi\n",
       "qjEPCr9oAHoShJWNKbnw+Ok6EkHRFdLum56j6Dyj4ZfzYg7nEt4Hg+AAAAKaQZrLSahBaJlMCEf/\n",
       "/eEAC/v7dMs1QGLlReBPi3CAD5LEX7uOhYu40MkVI7aBl1r5OGEQXHWsERvheTbVjuy3eOUhL0Ce\n",
       "fnFaf/fx2hJ38TcgQSXRMKS3vGhGn9GLW4H5V4cGhWET5kKBnr7lyPU6I8bjEwYsSFVoWRUFYvMO\n",
       "mZwSk11yCLQKRY3mrciM7dgz/P9YV5RC6b5Vzw5KFjZj+sq2+CFm3ONPA1UUIK2z3qWEQexPn8FK\n",
       "gNTbFp7iw+CALWpQkSWLOKkpqNH+ODdpVHwFcqWDQaPyCH+hbHAtp83O7VJN0qZA8UtSM5KuZfkA\n",
       "3mgOyEmrAHmIpLcQG97Yo0pP21aDDUSUi54H05dIyeAzuYr+p27fsj+wVth+0DJb7Qv/ebHxtQyP\n",
       "aSymZ8ycBTH+3jnxzpvqdy1HxIoKzMVvMNyae9ntdWdNFZnWsY5U9e4Gu7+Bn+r13It967wyYFTx\n",
       "o7ZS+bzd4slXm1Cc5FxCNbiiZgzrv9NZe998wNhhF76WuiN1MOCeBdAIU8DGZoZ67sjK2L68NYgc\n",
       "Mh8RM/QEOyvAxeVWvS+iYtlL90nQZdpHRm1ZG/aTvO74/s8JyCB/mh3/+zMWc9cgWfA2O4QEufPk\n",
       "o69/vbiIGMEKN3eeSIHV51CZlOcw0x1VLqOlieeXTD4XBl7f/8e0GR2SdunSTh9QTF/lyZeKUBAI\n",
       "aAAhYTmwkWG8LdiaG9YV0EDFrJQNqtAA5RESZ+HqeGBl65JzyzHIrup9C/8Epn23SqiOQZNvjVsd\n",
       "Me7VRbZE/AMgrO74yMToSMeGnQFIltDbNmcJ4sMkVXk8dxDaoqot4JUvBu/8pYy4UzaHT/6dBnkS\n",
       "wx0YdagrV+mSdSGmXp1wNpX/YvnMHVAui+FfAAAA9EGe6UURLG8AfpCoKbWSoWkzFeVkmaeBtPso\n",
       "pWAAIHHFDf7c6Z9pn0HrYlkx5giOpMS1TdKOSbwyrYLD7ecLoy83s1HsuH7QN3wSaEciqlZNBQe/\n",
       "bWEDfEHbWL8cb/5Lu+LxkwABX1xIGFy+H33esu9D/PzWuPkBKMjvven1aj9VHxhoV1/sKjDwSO//\n",
       "L0bZIC7yxhf9+K20aFQfISaYg9RYcn2hFCYO3rNxwRdksDlHhDJ2mXqtqnQCNv9FLFSaPn5HyAtT\n",
       "faLywJ7w8/BfEN7DWIVWBK5eltOA86neLtaWenn9kjWDiBGcWWzj95U7IKR37qgAAAByAZ8IdEX/\n",
       "AKP/lqFjCxb+antfjmbKYTvmT37pfdpM7B7O8h5+gM+7ujf9K4vu6yB0c4szJhu/wo5kiaXDSnFi\n",
       "o8/oNrmq9YU7uRJ5ntISYtRiNhqXi057MCbHbIbdCmim31hAOVaeG9lu96Bus4dNTF6BAAAAmgGf\n",
       "CmpF/wCjjFJw32o1xdACTbFe13AU8I4oDTlCvekxgYf0damLrPzxD/F5DHdSUDUgiPW5DZwp8Voj\n",
       "34tgNv2Q/bs2shrszaqV97JC4LPXT0ojP1N5F6R8j5RtZRY/UOcvqiL2I7Rsl0A//j5wGt9C5djO\n",
       "8qNe1lfb5D7hE2+GZbBTq9YETDLj9dGdtRS7AH7h7vKXd1LctQ0AAAHSQZsNSahBbJlMFEwj//3h\n",
       "ABbPRS7sfZV1d/tc2uMkHKhyT+yRzCwgBt99SNpTj7L98nsVbnGXEG5tsheZ9Cr4CCOGjrAyPhEg\n",
       "Pw3zf4I/FfrOuGuRi1cIks1DbOdXPGlsj8xj2WWtcoAeW3yzv2fRVXIvFSZOHtEUD3DqGobQTt/c\n",
       "J3Yl1LthPlgT6M0bjVFcTiii0hKWfdmQGxHn5/kXF2sWiP9CfLToaJo1UF6SWdNjTmnf0nuPMS8J\n",
       "89+PifAyOTt0+JNbaSp9UrkAk2WuXV5d9Adqsi0qCAtrOrvcYfmrjoLZJeQj3azOcXNFacNFA6YG\n",
       "Qv91/nbaCeGP6b1/4WxDEu9Bzg5uY9GsuQRLs5i/M06xQDmVtaqrduD9LuTFbVzOiqnA6Vrf2PQ1\n",
       "RDOFZl3D6tbCswWdgXIHQcN19FU/KnrKwfQcRiHi/k1AxeCB/r4zMGpG0TIrOwo99GbpvZpBofru\n",
       "bOOGzsYRphs22pBs5hD1YGKneFXa/YR4Y/stZh7eidLgdJ7kzqLcLuknia/nKtd8x2Da1EnSG3p+\n",
       "O7nMuXZ6EJm4ALGEhyv/cNV3xUkjqLcSi2uBBaW1pmrLZbpIENaEabVxZ4bRV0Q7e3s7awAAAIsB\n",
       "nyxqRf8AnsBpyNVrBMloEe73S0BJaldgAZ8zgG6Ip/DH8+gQotB9OA4j7TF1ziHKn+AdAhPfyzDs\n",
       "MgUK//TUDtJqCi+C8wEF02cvLZBVoe/3zJAeMLS5TML9uzCzP5wpE4VhzEXliJ36Q3zVzz/TseWy\n",
       "lk9z6qydLRuJ9U6w6oBCOWihvc9xsvrFAAACbkGbL0nhClJlMFLCf/3xAA6Pmf7tQA5KsTIEX3N+\n",
       "Jrjq6dlhtycK4BQRnqXYtTuElVUxRDQRmSHc3JjzlSq8yzXJNA2od97BqLkNhpull2tpPNrtfhgt\n",
       "TI2h7FY5EunnvoSL72ToumtT8lS6q7J+n1J3ofY6wwpl2vmj3B01IhANpj6y06J8Kp9P0hlIKHr/\n",
       "1mcmfTDBUwA8geSUMPRoKaFhESImGhFHi2pk0dv/yxd+4WgNPnazzkRHNp/BeS0P4SIpguP1TS4K\n",
       "5RSJdiyfQxKBXL/wrBA2AbL5Rfl1g0vaiX3SPoMdO49eVRTUK3NoWaJlu/yqThD5VLMajPE3iiI+\n",
       "yt3CmKfcPy0FlZWGp9HPYvScC8kNflefpwF3+7b+1c5jLhYZZFGJHmFDAzon/kX+k135b1DTJ+sl\n",
       "lMcTWvdGiFLre9yMVQrm7pYVG516GhhwgmSrPVo9vxtsHv8Eds8p5heDSOd0/ubcN0T9KkuQwEsx\n",
       "ehmTWNoC+p9x4UZwGLLQuX/slPgRhnqOaSX2kOqVSJeF42/xYue2cHGi0R84eOafNJHhkCFKw/V5\n",
       "mx6zfZbWe67iMFGmNZ28+ng+0RmRxbgZWy17+zo/WR6P2D2wznO0T5TIOlpXEhPfQhFihDcYDtIn\n",
       "bGLgAbdDIfytf3RXfK5X75FuqSK00gjJWRAyr03ZXDDf/QuGFOz5HAksyJdG9Hi9haZ1Rjq7vn55\n",
       "CB6Ze5q0HeEWLtRX1oECnY4mwQpRqlUFgslwsyM3/HHOrc52LoSrrn8p+bFU+laezenv7Qg33VUd\n",
       "Sqin1aw6QpV0uv3Z8Vop1TvCbe93IoAAAAChAZ9OakX/AKMY5kEAA0MxXtdwJrNcATkGtTF1oJF4\n",
       "ZYSXoUSHv3ANGCJ4zGzfSCNzmR4KVeHkYkEa1g7PDkNTk1JD0zVPpyjuaXu7JYqcw0/mj8zuDmVQ\n",
       "0LyCeRRh9eKjRNuh/ZFvnPsksa1cdxDm2NublVOYYGWbo1lsAswfPwE4Gj+L6NY4fWQJQHEvIlxm\n",
       "JOEdty/HQHIkJ0WxR8X1M2MAAAH1QZtRSeEOiZTBRMJ//fEADueZ+St25WAOd/xUYwhaq8S7vO+C\n",
       "dL3FzxriidrtjA0+jB2Bi1Fq46MM/wOFoBBHySEP0cgnIfrJGaiDiI8LB/11csPphMmXMn3L9wWg\n",
       "PrNspOqdVwolJvB5gTs477e1iF0yrkLcKDeniGNIrg5UY3eoHePgCy/V/vTsUD7D4/XERtbR13i2\n",
       "uzXrGYU1nH/AJuaGTB+VsrPqqGZJVI35PgIVWvEvBVqos0u3WAp6N2B3yh6AS1MKSon31djFKIcV\n",
       "iiZBCdOYPLU6eQZnaR3sqUdGtriFRxr3Geks0eg7PbOHD2kXvLfrc1/v0bebrdhrjpti6gp7s8ep\n",
       "kzjr0hjwZbjVPTW5AH6T/qdmO0QJEHVOl85WJwILtx1SKWO0Aa6tKLFdYPl5h+NFVYAZ3voAPlvc\n",
       "IikqwlMKkMDyO5CGWrkHw3hU8i/9krl7HiwgS1kD5X8l7RU07vKw0gfybjBFEzWhBQFh6q2uf02m\n",
       "4IIncJOj4Qt12L0Dz2EgAsNy8Yvj80k9ba5+hHvMyYZZmMSGY3Gg1+5vXcv5dWdY75AfZ1m+551H\n",
       "clpjdZvXvVgEA2syaMf4VCtB4/AlUhcQDa12KGBSonHbtiznHx9b03odsaeW8ZQ/a2Yb3DwEuaCy\n",
       "eoFEbhqf4OqtAAAAkQGfcGpF/wDtz4AUzXbp+alowEXfquwr6sR69tbSGWuI+ZqXrOryjPQEgIAb\n",
       "qP4CM9lUIyIKjo4hrYhNeGal/OGk5TgaWt08lO5dKWuTNqEd8PUn0Ff51nhEZm7m6DSQLm+2vjlK\n",
       "j7EJHjjJotLLxv+dZSefW5q5T/y5jaRZxNrrJjoIls4I3FbZafXRQ8e7v8AAAAJjQZt1SeEPJlMC\n",
       "Ef/94QAL6zzmwA08fJL1II1bi6qMlkg76wDMDLywa9/2LG3L1X2MKGq8fX3oNUBrMORkuBV9ndOC\n",
       "xqV26EI0gD7ZjCln0NtjTj1Xnc/D3oM0HzBAvEPnL9SoVuaBJBwZ90ujryoZundCHesazikA5YP/\n",
       "McihnqymLWprePH6LYkeUMypuoYbU5+no8sYLDR9fR8OCzTRFA7LGjBlHpdhGKVBEGT9iedh7XrR\n",
       "EH6ExEZRuVf5nRjZ/vt/B5GlNYKr/BLNf/nhUiCcDbE/hkz2WzW3KV9i4WlNiN/al/JKbiMBGgMS\n",
       "Tk4+tpEeoblamsJrZr8lIY/shOh3Jxbh8u8TdcZ1bFuKI4gl0yHSXNk5n12oCvyyLuUyhw1j0YLv\n",
       "Obe9q9bKTZG2UWIz0zuTVp1lVVbys+DXDSHJzeTQty//Qq/MO9sqf3pHbsqDGVbs9pKMgPx1oojp\n",
       "QgwS4dXkrbBMNvGx6TBjHY316PyO0Mk8hjLpixRVGchH1C/THL5NIuU94maBen3UtJFeRfQUPsOI\n",
       "CUrV6AnXmBoWaPCm8742s/PuMtvvxvcaFzDp4JnfPEB0vJl/envMbPYK1y32pCAhbkdVU62Z7mwk\n",
       "t4G0qNcyPyENv70FKE727Zb4J9L/TZKrEAispr8h70FuHlw/WerZoXgv9xd/J9SvnwnyUbpTGqyg\n",
       "AV781Zhwur2ICBg5YfFl4rXNya2IB2JU0ASwrRQhhM5nblVavPLUjNjpo+JwIkby7Jy7a6QkMjF8\n",
       "Wj0jrOYY5XxdxCs4lyt7sQXGgHOdsXmyVcaQOWGWw7MAAAD2QZ+TRRE8bwB+j/pD7H/3UtlKDeQZ\n",
       "QsNpx3Vm/xdYDew1U0+/Ronuq2DdpyPHh+zUQA4xPiUXjABuKRIOHnUKNmuUcuoNgd2azUJUc6T6\n",
       "kqArapVttbL69GE+VSKUcM+gxu5u2tUd47cqu2v3h3GCjXQYV4Y85dMDyoshFf9uQsFpYZ6aIabQ\n",
       "9rhH5Rv91GdhsKeRYEQfz0/ksgMncD4/oEzlIy68+B6bccs1/pCjGrn4IPaJ3aAGer5Cw8twThVc\n",
       "X33V84CvmjxVtUgiJKV+2R0ShRaY50hj+Cc3UujNR5x1GeodrQhupQatDvW14abFzRzZgWFxAAAA\n",
       "ewGfsnRF/wCj9d78Ov+I+VD+eewLXCrSa9DIHFRlCiUBc7uH/iqgBZapjbUSR86qqS5rPo04IiF4\n",
       "5DTfvYGew61dJUtRwCtot0W7BKbF2msTvv9uQ0z2+cqEcpF6XUg0fwvlPD2lrKGgSCjbqPdlYOTq\n",
       "fLjVv3ErwTb3cQAAAH4Bn7RqRf8Ao4xScTV6QAk6OEkqtADnu3jplCiZTnyZ0lVsKrcaIZfaIiV3\n",
       "tPvl2DywLC0u2tpTb1j14XkhGFXODJ7IQfKrQTm5q+uUkni3/v+k+xo565mnyPjbadBsYgU2h9ZT\n",
       "zDhENaWaGL8sGkZA2szpI7lwJkbk5POrH9sAAAG/QZu3SahBaJlMFPCf/fEABxvEVomG8c2cM3I/\n",
       "0YmklBu6NA6t6OuYU/G1gpCSk/N+hzq0gb2yyxJH08fgkF80smVu6+mLf9rSQRN3OvXvphmoNofl\n",
       "ibxJ4yhoyAlF/psOC27DerO1Oelwhj1G7+gjc3RygxlUZlA15hL5RXR2a+T/xFqssDAXAOe6TVF/\n",
       "YxKYSu0ewHEQk+g90Mp/cfZmo2i1EdEL+KojSG3yB7BAlSX/W51Ed6gze81w67ALLK76PV0jFNYs\n",
       "msfoQTGzrxP+TcAp7CcjMm9UnSYFcnE1a4mRpZGj3EIgJ87RXJWHR3+ql2rlXRx2L+/MCkwqLW9Z\n",
       "Fhd3ikG9Wl1bz6bJwHtY8YOfKi9UPicQztqC5SwvZHl3jq+icPaB3DW202OhqOI3KbPqLw9tMUQ5\n",
       "M+QPaEWHk7vocSMcOr1iVF07nKsuuQ/0cevXEP769KCtWba5bM/SxHA6byyBgWcLhG6PMx6HwdCo\n",
       "8s+iU9MpFIRLDmnhqZq4iGMGXTTqoYKslEEzgKYjr6BVHbTyWe+XHpUYYik+tFrPs4uqjlgeu1Cy\n",
       "GAgE8YZNh+tc+j0DLzeDBwM0p+oxAAAAggGf1mpF/wCWmHDZ4QYNchdOxAIjuf2FrFHx8t2jc79a\n",
       "M/S4q7Cs46EqYmd49ddGWj+aOJ4NHprx3gCidQ7S26qTD3Bl4+AXXHqo8rujADLHsb7ipxKJ8aoJ\n",
       "m5Mpt5Sfu0zzR2j3B0AHGD3obf+KCOcBXyxzpPM67LW0aokceciR8pAAAAGrQZvZSeEKUmUwUsJ/\n",
       "/fEAB2g+KNgw3tSoUJwyF/gHBH9uVXL44R1sN832kQa9133cDTW54D9RLHfGnpJV5+QDkRX6XkMP\n",
       "jLXVPg+fEIvd5YWfxuHKP5l438pqZX4HIH0SencrMW5ivODnjLvFLLLRUYFKpl9HvUHo3x0nGWBu\n",
       "ikWpThq4xp1bejK/856Vpwikxl452NGYbcMBJrdTnNizSJHtwtjn3cHEcg/+utYg8T/eEe1YV4Q4\n",
       "YxEwVB7h8zsvUaYflERwktS/QIRjZA5odORSZb64LcvtgcAbB1KkxcPuxbfvInZhveapKGdu+Ajf\n",
       "RO0EU9hR8tVH2w+8hjJKFaN9EpEUUQ7EzfVhOqdwEv3BQhjwMjOd4pg1CxsJXjl/ksgiIsKFTVYf\n",
       "taEvpwNpMexfCMh09/Ci4wkca5CeMuZPTUhe9xXcJKF/jQj1DG3Z5fDWZ4ofpPtjfPzQewQXsd0j\n",
       "SokFayV8FpiPyNdk8JpG10FW91FvzcagYRoAIkFbSDyheIbs+jhctdWmihtdujskUVouc/Nh3mKm\n",
       "9Olpm1aADTDzz6BNVDZr8QAAAHgBn/hqRf8Aovbce6RvgkLJA8MGuXpGgi1+XnbhjrjBvtkybw6n\n",
       "cmi4cKppF8MyTpfgiy02ynoQudq7D3bDI9SKz6lXwzvHesHRSoBcQRAMxHODXfK9LkQAKLO6zvhi\n",
       "yZlXanzBOQwzCwJd8dWddt8D2SK1od+xrBAAAAIiQZv9SeEOiZTAhP/98QAHZQhxB6srAETF56zI\n",
       "L31meb6ON+qJ0A+MpyDd0fSFwS+Ud9tH8zg4aJjCB3zd0S5XuV5B7SEgz01PClThV2s+OfF/025O\n",
       "Lb2W4QhGa0fXG2UCnUwlNeI2XZxv4orAWUeMadVwVe6f+tnQD4Oy85O1a/m6grhvkARZYSazdZNh\n",
       "3kOvki2qbIAacW+M/ZVaeic5bV00EvU0JnwgEdl72eUN1lNHd5EcXmj3PqMvpz2q5n4D2r7XIe+S\n",
       "jOi0jFlVluyEc8DssEI65lgI31QvPppi6rietrUbaQlDu/iQPAQKaXZEwoEVkYRE/sUzjm1+Jbto\n",
       "T1/kBLBWJiqjGU3X6r0do0V2eG+8wDcoWCgO/31p5ShY+VKkAx7ukDdUiJRb4l5I3oJvNgiSIx6I\n",
       "KZi4o4s1yRDzqONwt+VKfyJ0ZzOP9x7l5TxHsh3fIn18Co4o1oiYG1k8CPUCdGZJkoqlnzAC2WIk\n",
       "UwK5vz6ZO7f9XXlhCUs/lpzdi/QEwICpSrcO1RNmJylXsegnBIX+dj+MvlX6b5vj7QT4MWPDMzvw\n",
       "eOS0V5Ruwtfhxbj0g1TeT9I6r0oNzFtnIcc4CffoOFgPMlQv0sxvM7dbp3gGso2W33PlyeynOn50\n",
       "KXOKYUVaR1MyOdtM9tclj/NpCrRlrmYbxj9+pI2SZKtEUj5RFfilPjL6BRbvZceP1yH2jzuhAegU\n",
       "nA06JSZAAAAAvkGeG0UVPG8Afx26RW9PvuA3Q76wTekjb0MG0vhMzA1nVOFt3RADhhF2grGJdlmE\n",
       "/iWxLkB64m4YQXE8o6KPzYqN18Y4zq6OfWDNEPLBO4JgklbYikeqmZR+UpR9AJHmnFXyPrFhXAbF\n",
       "CPuRcsmi+/0RUFlQcoKFuSKK8ztQ09ZSkbkOQzmluo/p0GxUwu2bcDfj+cYK/5/Q0Kk3s+2Ie1aT\n",
       "YlQMvXXaAhK7cynWOEdJTJt1lceB9Ri82d4Gf7cAAACEAZ46dEX/AJqEii/u93RjBE9Nls6P5LNr\n",
       "NgABvaO3q74xRKmwE6HUTaIjafvEEDC3h1SqZyn0ck+TdXCbTEtbslp5mgFv5fbRSdZo3xk9AE6X\n",
       "l8urK2KLSNTpToqLNfq/JFHvVlXVF6/2NcmzxVPIobtG9Xy883MFfC6im6y57Qq5D4zRAAAAbgGe\n",
       "PGpF/wCamFypGhdy4/vLrSXyUTpUvF0jJY3FvYgH6jJ8/B/1GSSPt2K9dIVlz00bm3yM/A0xQsiy\n",
       "+rKatTlnoQIYTop+wVfjpx2qsDa8Ccgqa6OU7GH/NHPUceAQ50P0N1XuRSScXZkSAyNjAAABuUGa\n",
       "P0moQWiZTBTwn/3xAAsfsRlZoY7CAG4y4M0CYYbCQBOmaXdpdvt7h5x3GfvtkLdgpCEC4K1fjOa2\n",
       "sPX5NsLn3HNzRRSPTWwbiqEwaUYC+3DsbHDQBJ96kT8Z90qIQczc1Oywwh8HIUt/h/ugSKqgI9xN\n",
       "5btNhIX8ZSCuZ455dcekr5jVnHf9+d7ij6UL2UGM9BEyJokfLoqqxhJfpabcPlNb5h9BBgRr3kRE\n",
       "kBKzrRYA8Ft5hOjlkIrh7VgpEdFQ/iWllnWnZjyzLgwCyCsMl+oGiqQ9qZ1DNnMAq6sA7Zcf0S9s\n",
       "eeM16vsMuri4I58sLBSwvHhxrU0FNMcvf3lrcVR0+7OIC78EeoibwzVPyYlyrOIUZPeb2qC127kf\n",
       "EbDupUY0XshexqI42xeV0+h5PskO/6l7+aIP9SfTaFryRoy4+ksA2IApGcjCmm3rs9VxNaJnEgxJ\n",
       "/BGmzEHGAk0iBqzk6s4brqZlXm1FaFihe/ByVfy816lN5yA9sY1rUb0c9jQ1L9Nw3yTiUONLz1KP\n",
       "jfDP4Gwh5u14NF7zgMKeazsGDAGuwTzWelvd34KQLc+ssyFO9vgTIQAAAHsBnl5qRf8Ao4xaAsu5\n",
       "JW8s8Bdu5Jpiz8fNpamkEJMe6L04nF4wxX+sWLLpRig/gKPmiUjUs0ceYZjCJC0dKR+hxk2EJDWa\n",
       "W6u5ZQgg9rXH/lNdJ1BBQK/6Rdl4FaMbihWgECkZ6eoogGhtRmZJ0uI8QRG1azRBiBsQzoAAAAHx\n",
       "QZpDSeEKUmUwIT/98QAHaD4inEXapHpOjY+AAl+xQDd7SJNrIZWEvHzkFbu4VAHR2xInk11iqWma\n",
       "uDIhtDEWpMvu3rynynS3u49zcpvHfZk1uw34dL4QOYf7kNlsJMFF011ITFAij5LUWEDJOzejrzK0\n",
       "Nm6P5oVxzZVHKhbNI3uW2bS+PcH9qjUSoM0B5pe/sr2CnW3w5hopMWXIq4tAoN/Qpd1hM/DNWm3V\n",
       "6jptLGoK1NiPwQqqX5z/qEdF7rKAXht2VyuhSqfFofQWimtfFl+lIo72papjjVtft1lIcp3kA+Yq\n",
       "jccJHgRwfgkJT3VmTuTejvxjRD/3HYIPM8VBfmgcypema6WzbhnmlqVnJv0QeOjUD99clfWBT3HW\n",
       "0ZnFPqZQuwgW4VO87JPfS8NjbR6big6l2USVdIiO2qzPUiRXV2vH0GqheI8+bmZU4DtChmm+Op36\n",
       "HoEC+xDC3bxaY0WDLjo4rbfl1iDwChCKZ0oo9yS3dPwlMOcwLsdrIINUx/tVclCc+j/WXuyu/JYO\n",
       "WmPfLVteyIcpY6Rt4sA+t3wuIVbZtDtLpGsbeEt8Y6jJxoXRC++sRcxdIukLwkGmS33xXeC+San+\n",
       "rqyAu5hTjELVkwa7OOQMLat/AEAI3zJTx/8Vk+WME5hMBjryz/rBEusAAADeQZ5hRTRMbwB+tpci\n",
       "QAFwnRMMXGwG6hJ8tWTZuVB63Vkhd+dztmyV43Z7IOu524xPxO8bbZNe/6tpxxTV9agyLyvmRppF\n",
       "zMKfzqauOc/jqDhshMVWWa4WcVyDE7MdG469K7qxeKXqntoiz/xHCBSK5Hfi8xEVkF6jukazJqwd\n",
       "tFAm/ZLWGBBgT2gmbKIfb74rIkrYN/+NjFv9Tz+Zeu/z9GQ/k9VOESAvyfLtetdnPAvclZBehKsw\n",
       "2teWc4rq3LpaODIrqP5Rjn/vggIjAzWDKvP+GM03P2rHNzOtIAWsAAAAagGegHRF/wCerNLe6tpY\n",
       "BzVr6kCeAr+G28N48AoGO/5+1ku9T7yBdq2s7fbVuZzuBvfRi7bdXHDoDL9LnoNTFQByT1cwJmr8\n",
       "vkJa308LBxK5CGEQjgZpQOBl+QRuxVhCgP+rkwAZysCX9FcAAACKAZ6CakX/AKPll8g3k/sAB6g6\n",
       "fFbuAyDLPwFPSJQyqs1MqM1Jn25uWRwMf8JbnkGSC87PaHI6vfKT3ONHjmrXQ8S8MD8vOkSD/lZm\n",
       "0oMUPRjgglt3ZpbMoqGKHZo+EOaL4wq8AKW2zviZSHF/Yqwpn/MJWOjQYQ13+vYq9cSFboT1uR5U\n",
       "VqbL6QSNAAACOUGah0moQWiZTAhH//3hAAvqGfQAjIrDP20Un8cb/omDKtpiaM6GxsGDvIsUPD2E\n",
       "MCOOQjxwRroizKX6Nwz1BHuqhTpIDKM0Qlpcn7TIHj7OnqNFvVdPol5ESIYUgCdP8+ll+JGSmmOA\n",
       "RHu53CZ6CVRzLpOLJKvRb92SjPMc7VM6q/oha2ZTmyPmMeREPQpL+BDRl/zJUG0uwcrJMgVTURHH\n",
       "UYIG1vIem+C1plwXdjxTbugscYvg7FrNZL9CeXibtw4TM1F6UEB4TISA1xcEnFVHdfNjIbCAcIDl\n",
       "+23EbUgwhdFN1gdi+a1Z1SAg50sPGzR3SQjLoFdqRNxboNKoh7dNjh6CZeasq9F5c6deZzcTvKf+\n",
       "O4MLOrOleLnE4g8Uid3mGGd2afBUA5fuH9Da5gIyokJH9Sc4TelnCw26rrbMZP3Ax6fcYY0w5s2t\n",
       "GahK0zumRqe7VRpM+5ycg6ZddGqnhBTmta0eT6BTPg8S0foK0GWag+2YNMHvbvKw3GmVQ/8ctL7H\n",
       "l3bJk8T7XtyVm9t2F49/Oxu9reCyoXNvS8d30Dm4x25OvD/UNmZklUHaraspM95cmqS/PnnEt+Vb\n",
       "0udm4R06ZUkQp1uT9Oy/PJrN2JO8ZEy4yvv4bXzuvpmJzVXgdlsb2nLdrfQW4mdJN+DoGj76LuPC\n",
       "MBSceKxW55ytNedJDliaJBTZ8ODbBcbtcirf7j3Iu5xIzIMugKEZDQXMwg5NDPK5JBiNQtVvrTDL\n",
       "MnEJvZG+ChqgAAAAz0GepUURLG8Ae/VW1LyABN+CwFR6tfOpFCDV8x2IvkmjGJmDMKm/Ve+NhM75\n",
       "zVDKNmvUwPHv9grIhmSqJLNEIq9fGEBu+DD33bQ7bvnKtMAh4IZWu6GRPilJHOtG7qEfH/XjoG01\n",
       "7kE4C4cM4nsaRfGJJI+ZR9T3fPHu7LhjEYfak63TZ0WBo5yA3EZU6j9ZbjuZmzkt8NIlKQ41dvZk\n",
       "hDmAhpijgdJXgJTe1GoMCVGe0aZBpIo1Lgm1VPlKu5dy1nIpD6hoWtuXE5VCy9LRmwAAAG0BnsR0\n",
       "Rf8An2gc3ZQdIvD8mf+LKpJDwmExxh8aoTPtfVw7pdRT0ceJc5Xw0MgfUEmQZeHUk7b1HAx6kk87\n",
       "hyo8EGEuo9heagre3TriaJCIjrk9IMbbuIpWTQm0JjlKjylB5o9NP40tTgZ3MrHdAAAAegGexmpF\n",
       "/wCa7+7H+V7fusokLNlnb9ZShmqJNhd6nX7A+vxsANsa/ypVbHEhl7xiOsGb68SXdQzYQM+uAwIk\n",
       "OrGoXq2O7XWXTi4IHDiXL7mFuc8Q348fB8WpI9Nkbvpep/PIupsa+H30eVYHSO4LVnrOOuL1Q9CE\n",
       "wb7sAAAB1kGayEmoQWyZTAhP//3xAAdxm4rEcsADYciNahUPlq32fZsGcJgFeS+WjlFBooDmIYCl\n",
       "Ap5m+tSAaoicfXW81rkN2z2JnG1Yn6DuEl1G9IbyQxRnkobrE6DhT2J5nVqDR3Ca9Y5eEaofQfuQ\n",
       "v0v0XwECftb49all9RELYcfYkZ7uof3gSY3JsrL1cjme+fji07mXSNDF7VCegMgG2dmLtgWrV+Rj\n",
       "NadWDal+7KJUceqpbZxIJFrx45rjP1Dg25YYNpFSaaWOSUzDZVhmbNsSQA/JcFOihCh/DCk2CD5b\n",
       "5aVsILKxLVL+s/YM/R9Gao/EqHzbXIVoHu7FqLY4V0PWz62uBeJ9ADJDQxuB9ikJwTXlbdinieMy\n",
       "gY+THxi4yURl8MYvpsiAKiM32m1d7Cqf7CG791wyZFPyyw6bFqcjqUBOaPmPpoaaBHvTjhadvxwq\n",
       "SdxXDOEbEFd4QypGo5Ux5VMWUkSyc8X/CjkwyZ/jo4t4q6AnAxIKH68Bo4VYcTj2DUXBqeDHmszU\n",
       "NX7CRRrIn1baIGr4A5E0Pzf8G9r19YZbz9RjUA+06nJiSGUHI+y0L90O27L+C5UuSsPNupULmGP1\n",
       "2/Uq8XQS4WkZjnAoVuI4uv0xM3ehAAACXkGa7EnhClJlMCEf/eEAC/EVdvQArkNHrD8tKasYCJxB\n",
       "HyC24fjfV4s+VGoqN0YRP72KYSxYUOiHuDfbmCL/n3MpkrngAhKgQz15dQh5KWnPTscgxBwrKrT4\n",
       "JA7JKX/9qOJefjHWfK11U+rig/507nfO3agnbFvet/oT3BXaB0SVA4sc0+N6FJRpoF7qmzPeOEwG\n",
       "57D+6qVQELiuP0KIvozqclXvfrZm0XRIR9j7vouDZgVXxDLlP1/am0vKiEvi43F82oIKM/ZIMshq\n",
       "L/KAoGFCcxunJV3W6z8LvvIT05rgmJsDFiYEdXzd/WpJkaFrAryxHh9s3PXqiE9Y0joJhSj/+B3M\n",
       "nrFAcU1y69dRY10Cp1XufzJAd6qsyLI0oG4tdwFmBSUB8DKgMiJHj5+BqRK8N2izgJV2QYwrZXfn\n",
       "zHPw5fHMantaLd6DThN8BaqUvvwmgW9NOMJiS2Bh8fSNLZa8YrhSaka2GEjs69aE5+NGqYdfAfqg\n",
       "wytg/3PuQBf89zvKlWcE28PBoiPywE8Dzd5Z6sqK18wA9hBfcLD88Dksdhn8o48Vp63Jr6elv2OJ\n",
       "DyZmXMj4Pv4VmXgXGSK3Ogv+ElUwq/WX2UYBmthyeTwCGPmiFlLfz4JF44BVAw0N8lgd3wOG2XUx\n",
       "VFRPdDGpJEE6jNyhtpo3Fo1VcX9Upy4fqicqe9wg41C2ucvC+6iGcvvX8/PqVcIQBF/iceHS687f\n",
       "Tb9CTJtN1iGQI63NZkgtipeK2GJen2skGLs151kxLFW1+u2/mddCB3FuTtYslOJJ3HW2RqLeXewj\n",
       "0IxSsgAAAPpBnwpFNExvAHwWpiAAEr8W69JiCR6HW2x/VePra0CkSe1OlwUOPC274cV3UnYKq45f\n",
       "OZhrThVwiXCyke1BO2IRCRNwNMlQvUrKeo5pqrKVLGg1Ix5RuApfcmqHIhGlg+xSsx2xIUbCXaLY\n",
       "+pSSkT51x+qIUue0J/faiQFOiR0jpGztlXRJL/BJQu3FRkfAzGmNXVyEBgLsXrnfU8PVYjLBCfNx\n",
       "4gNuvKVT0u+ajaa2oB0Q497c9YJHm4pHwevv6a5hGbSYZ19sb3rDRxZqzUXOt8CBYxqJkxhexqKW\n",
       "DIryZe//QghOIww2vvHDDYiu1ER7AVtgwTy0EpbRAAAAZQGfKXRF/wCahJv0uRg8yiij2kQP416y\n",
       "Q24mcWoxwdQu7qRvN4qHLaQ57dKFC9ic1J0ds+YqbnAFB88CEE1ZsCaWTnX48zzPnEqeWtxOSBOd\n",
       "Wc1Fvng2LFMup0RhTVqoLbyDM6vFAAAAdgGfK2pF/wCfZfNDWKp5uidPE3wFKifW1AAF1OXafcsz\n",
       "sl4VcgAOMqEZg8KrNugdeeRTq4AemAulXIOr9Xsczo2TNibph7F6VBCkdQshUByqaucrdP3p9kwx\n",
       "Kt927rEw75SgEygvjW+qkQ731rQuiVjfDcGl8mEAAAHuQZsuSahBaJlMFPCf/fEAB2g+sfwBW+Kx\n",
       "FLceXQe0PTkb2S4ej5un4nXmBjbNPPFTS09gMUwi9BqKj4NzOCGRGJiEvTya9idps3t0H/ko1I8p\n",
       "apJDkpUxfNdt4+TF7nv4NDy/QZbDbsTVurIaFC5BiJoooRmgxhezGDGjFzujGWgFU+defcY2O2tq\n",
       "nXwJdoV0OG97r++gzYvRfWhVfSSV2p1IAWfIFrUau4GdZG4VxJ0lMNiFT8N43pdfp5KtJUOnUGKn\n",
       "bk6cEGMgTywh/+HdZ+Av6B10JbewHwftsAbB4Aicjt+/aa6CZwydo8IH5Fl0EcCdMwnxwNJhKi0p\n",
       "Ettq96nakI0Wzpz/g8JpHlSDwIERULGgrTE1Ivg7Mckw2hkgYx+QEHBQAJv6fQwA/HbjUMH2vC2A\n",
       "IHBHoRH1wm02s/I4DdRpkwcoNb8zOi+iDykiajzKaJW53LYAtCWG8Lfv9s9tmI7d0k8ZuKsFtYSw\n",
       "l46cFIZXtXv5xkTEWClRIr4/KNa52u0kSEazcQeAMANwdUEqPQdD0TXPNOmYzmEaHp5BLbPw+wcr\n",
       "iTRVGC2LzR5GgyyvtujQxqsjlk0MLabJH1N66cUi0dCHQ5c8bqk9u77ttYwCapHITbsdR9d12jHE\n",
       "iHUfahIBBaGSmFqimPEAAACRAZ9NakX/AKOLVLq2QAEtbgDxyCfyEKDfkAP8kQeWsbnZdabNztv5\n",
       "WNQUyT3kf0cocx2br68sQO9yQBQ5B25BYPojNUodwGqmjZEJJDvM9ubv6zxqEAgbJbEAdHBX4InT\n",
       "kMuXH3VqR5MwxgBlWJ7NwsVLrNuuGXbK0FUmB7szpSH9s9abmSjGa4txGZa6kPclGAAAAfVBm1BJ\n",
       "4QpSZTBSwn/98QAHOu+ywACCEEJyQFR3CcwFOfWVjT0ne/QnSS7zbHUQNRVdamQc47I6FBp/SoYe\n",
       "OdkYrI+IocbR7se3FsZfA7EI3vzEnDZmZQsmnBi5hDTmDrmvMezz3AMlzf05JBTlNrZQ118LLPsf\n",
       "AMYUY/3MquIy4XVxTw/rFMB6rSCRfZn3KFx+OGh6drkjHaUlfvF5h5J0tcW3JOLoXzuEyKCICMu/\n",
       "556r+qARpcddidhdVkxz1FtcKQ4UgG3UGzX7IzdtZv0OEX/s2bTl3XtQjTvyifeG5INQzYyaw4mb\n",
       "oIMEIgDU/PdBWFibfziW74hDkpM5bB4ARlk5/TAOshhco04z3/eJlTGhSPtqIcwbbSopzPumt6/s\n",
       "SWWl+Dh4rWoQZdeeDPciOe5XXBRhYkY/PH/xRyUrASsT2ZswmXN35XPJvJzYE2u2jgepd6gsvEiI\n",
       "ZG1cyrPdgHgAQLcb6Lm62h81x5Ubl4ezTiMjNck0MYXvXEFW9kzbSV7JiDy5/i9O7+p31ut6s3pu\n",
       "xIhThG5yDAxP8G/FqAY824tbemFjbUQ/C5sXJc5qMZmpq2yU99uqdsWyaE9FgwgPfouBUTtCz/F0\n",
       "z2Vb0yb5wziQ1zXVfLOquAEfpoV/UGS1HoHbns4F2MkDAyqOXlISK4AAAAB5AZ9vakX/AHledexa\n",
       "zjsABKVX4GvHYm3AgdyUtl+z68P9qgbpRil/ouhlARwLgR+Dmk7OkvqBWRdXigUYfTtEQOyhW4FN\n",
       "ndhRXuaH0hl1UFANWsNx0kUspbtl4B/czH5DlqOOCuh5/LzI4+S//wyUXHgnhj02DRUbkQAAAepB\n",
       "m3JJ4Q6JlMFEwn/98QAHaS8Ot0AIxbBqrhzUFSSOzJ0COPOnJr8MMUowK14DODK7TCCwd2PWqD/h\n",
       "fhRTyfwDoBg6cFeGuLJ7ayGuXncMGoH0QbbX2QkC9e/6K6XdhnCddURR1keI+bK0Z3iyzSVx7Tv0\n",
       "09QYqT4wUrlD4/AbDBEK1lI0KnuEIbpIB2pCvkhZKw3naJZ9xPzQ28oQzEF8Czd7oebPDS9XPeAU\n",
       "5xNswcMKso3E88/bO7a1ELE6A8+c+2NUr19+LuBFzvUIi2aEWjhnsLR22DD7fyvI8BdWaV3ZKoQe\n",
       "1nSS3+/EaAER9dhP/UE/rwvN+7b2H8ol6sn8LG1lmJnDMTtt1zOgTvZtsqtL/JvpG/RVT80/x5LN\n",
       "S6CEfXJ1ckI9mgeXKyv6IJVeULoNY/dO4NySeKMLjlNXUc1ixjmsaYwQyIyNLv82Ln02Q6OzSHFn\n",
       "pC3zF6RxEd54av0XPDLZt1UUWdXaKQ850c9sQozKyw+yZSx4BoFqHWyPZLdoVG0NPNl47b1B/JZy\n",
       "5PlRSMx9fO9YBUzOudfi466gjug5dYBfN3Wwm8smOE1K4QnnCj0ck4P/+CcJNi26BKUAiTocU01h\n",
       "aF/FK4YT23hHX27CjosykXN3aQwnZIyK8dfc/VGbzs+oAAAAogGfkWpF/wCj60CAEI6M49iHo9IF\n",
       "1lu59IT7HeAlIuxRbA32QIeD0Qt9DTvCV7sGepWmO0en1VgEmFeLeqQ8p460jnLA9EgnHF86ubCF\n",
       "nr4UVjhv1pTyN0ig6qLzM+/yyRAd77UPJkQSxL6Q4yrZnGufJU3PsuIuQ/JUiCck4AO4Ob9YAMCv\n",
       "C8+72jEXSZZnUiN6eIVa54puekEROwP49UY04AAAAppBm5ZJ4Q8mUwIT//3xAAc6y/1hABD6d2Hz\n",
       "H6ATJ8Waghfc0OKL82JDOUiXVi7d8QeqBFO/9Y2MTYC5df49Ow6Fqw/P4dp66nDEN6eeLgjU7WLp\n",
       "ctkCLqlMJIBUW2pbWZ7vRDricWX3fWKGMB0PrkGYIfNf+cV6pNONQQmyN6KUVq9MW6q6H4KnkCfC\n",
       "KKFiEJkLbjxpJUOAfuYSHV/klEx+rcktdNxPwJ/kibRTkddstCRm5FLiq5rjFywZLOq4mWj1fGyb\n",
       "2L0B9yJ/VkVOlUYWsorLsvKK86fBlS321/UIbT+Ysh8MoZWSj8qj0QLORl18ITH+d54aU1j+r22R\n",
       "MDbU022WWSlUUmTb2KL3iJbXAseY4oT5bxM8sUPpLURQmKLxIrV6WQXzumvUCxvGmy53TvxRYf4y\n",
       "hvgkdR9xgEHTqeimfc5T+bOBuIjar/wCRqvZbGa8srMO+dyAK66cmaSuKSE/CThz8FS6M2wJ0QVz\n",
       "QHp1a/DJH4cOYtFNne/UMbp8ek7qYGFO9OVuiyiduuoYcJU05LGwVVaSeBu6Mgj6qGyQjY7UR+GC\n",
       "f1YXf7ENfKJEeUrdrLasdsdn+I1CmSnaSpXW7ETVauNBcLIw8pJSo4PCuI2MvumtkBDxkIaqoDaM\n",
       "LXMIYg3jVNNW1juC6XXjY5/a6VGOQ/LbYm+ksPYYXP5cLK8o9z2AYMmLY/4kMzdWw8wrlvBZea1r\n",
       "qPRtKbALqnRRXp4NNyvZZV9f1NIDZGfaB0d+x978gTRs/7HKyPkDSo320Aca8D2md6Q+0q0CfllH\n",
       "hBd9DlaJtyToK48il6pb16BzkKVG5LcM+tVxZxxLP+pd0xduJlY58gNwCVD6C5vmuvDRuQ85cyWI\n",
       "rrmuiMVwpC+T1Gk9jPsAAAEEQZ+0RRE8bwB75uY+1Wtpghl8dYsqMgAPwaKTUWihK9iBzWVijAe7\n",
       "IYp7h/zM2YVF9Y7W4K1ltl8NLoE3bfwVIVUl1IR85U+tBPMq0O+WPYdYsaQNSZ7VkA8qFD62ty5u\n",
       "Pgsc6zJI6AI9rBbbptY+wKG36CRDDt3tv+5yGdfL9U7AXFIpZ/lRBxQ7ciJYJpeNYUwLVqYMX9nN\n",
       "JnjDiZQ0aveX5MDlBWGHncbufUi6nJSD040oISNOXL9g4HPqcVYL74xN9BNAlT+hj7edCc3QudBk\n",
       "zAmpsTVG/ufSPzeHp2dT48Mfe8a4PwkbYLfOl/6WEmOgBJkErn8i9tUrRLbgC46O5oUAAABuAZ/T\n",
       "dEX/AHl80cOm8UdWxvsLJxNwA0ZvVEdI77EYIauoAVBfCCiVRFBLRUBeX1k4h0mui/SCP6Cyo7io\n",
       "+ssKCOaxeK6sNIzgF/XCXv2lrOel9fnf7UzSO302nRSHT4xo4oPOLCLlgmrlJ8ksICEAAACEAZ/V\n",
       "akX/AHlirygD0ILFil1su+zERNvOUL5GIaPXhL6aLD0zOhecucqsFCvrGdOKmI2N1WJSyAAaXUW0\n",
       "jUM5DepLTCTrOlvtbS+WuEjp/2Tfo1pRgGt4JS1T3z/DSrpUHScy+GcKY2QvVyf+6Hya6x2nQBd7\n",
       "uFWpvTwP3RBf+JTIO+NSAAACLUGb2kmoQWiZTAhP//3xAAdryoM2VmACw8bZnlbJOGoOr6a34ivN\n",
       "hCSxgicVQyLQao1ymo72N9a45VP9Dzq+eXNT3ITlnky87cERm2tbaBCxF0C3kTZoAe7bWk1E0NO3\n",
       "ZtxjgeAAXKwUv49pcmZmCShdggrzSC03R5CCAJl0ogP5Zl2yXbWilTJ2Ft8M4Obr/vFr0iAw8Czd\n",
       "XDxYb2HBuY/hqI4blDDfbOcrZOsk6G9kQbR+i3ZbHxM7Hhs/Ij/WRctNa7Q7Vg2NH5wynUMYtFZ9\n",
       "lMpbMNhuvaUU/hlo8GGSngfi9/vhJbPCvnJxQEQDR6O/p+XKxEvMrhyWbhWpwBgmd844cu2tY1av\n",
       "H0CMTZ/S+Aw7NfdDZtWiguW4CuQ2bw85JqUbFRYYz0Zbnqi66w7+Tzw0UmrW/rgtEqfRWUdsKHnR\n",
       "7YOdlEcpgJKtxgWsUZA6rUewYw43VSytrZXR/EsOTosAAHY1xb7m6OXYrqS4UXFSoYtt8O5v6pMO\n",
       "HRdiI6YDulsx3rgl92oSfh4spyppIzks+ZBfS99vggb34FvTjrtDFdNUVTYbesTYE3W2G9/QbUyS\n",
       "l34UJCeUmzZpw96iGvJU3ZQyuA3puv4QSIzWaMZCr4uth36GkEiCBbOaXIf5OBREonWdv7AzlcDc\n",
       "UZxZ755jwNcqF6Qo+1nZNCcbWh7iZX/nQSmwTrIv9Ez0hnEi4buBJgtDWm0FEXdj8WqiIEwv9V50\n",
       "rEJ5PUhAAAAA3UGf+EURLG8AfuVzkzagBJbTAjSQzAeS2zBLsV3C++C/1iRVHgoil/0CUjuBIrd0\n",
       "KLXAOwZ0WpQ8dpyQ8zrcTDsrL8VYCKJCItQ3xY3t46qZh8SgAJP26DUfhJNll/Qnkuh5i48ZkHXw\n",
       "SjE3PfxZrG/4XdZJqy4f0y6X4Ae9Cry9GtK0zfXvIF1ZeZmfijWyQ1y7bpGbLs/w5B98FXbpPokT\n",
       "/UqPLDE93kGJn7rU96xjSDFEp1jj6tkA5WUJArG5Rle9/TD5qCiNVmIupTQDXI9Jo2mg7TKrdVZH\n",
       "OJSBAAAAZgGeF3RF/wCkIUWKNmk6G9CcrAAHI87QA8xTu3CB1jiKUH9mUNTU9vqCou8l39Y4M5N3\n",
       "RokJ/tmKhZMzo3+RdYsMpmEW8WGM6sJAhYtcZbipeBlaMn2s803gkRh5oEsZAt6NNYSqoAAAAH0B\n",
       "nhlqRf8AdtsRdhX7VQy/046OVw8jPK4KnYQJ3O7J6GLuaTLxRKtAfgBGWs1SvsT2Pdmd1uuzVOS/\n",
       "/VPhPHQu8XtQBisdMH/DCJ2mUGiNnVY6UtP/un6kiQIzOGG3QpppRHvypyVBeHdGptPKcYFHYpJg\n",
       "FI2+KRt6arsnZAAAAoZBmh5JqEFsmUwIT//98QAHaD5oAAVQBmsFPKg3NAipK2eMVeKZ+zXydGrc\n",
       "1zALODFpXboHOpYen9rhmq3kHAZ0ahA1fOyZ6F74OKlc0EhCRkzNvmUyvJlpVRmmFV07VfRH0vlp\n",
       "htrQgWl9E9aVMqY3PasKj2pBw+Ior+hlj4HhP1Jtsi0QsxZ3+0sCOkrujGXNLtyZXA8km2MiwvGl\n",
       "+YUyprMSrS7EYjKLZztuFCsWAN9mmrc0P5jk1LK7rWDy3jXP8yEB2m5P0AsOOgXFRc+nVq9fcrgI\n",
       "rAJvbkESUIojVaQ637cH60Yqhl99Qrlsi99NTW1vSJW344RLDGe7Kf8ZIcbSLGbYu2kfyFQODL38\n",
       "qXFDpw496aMyWnR3L7FO1QcS6iEtbLcgiHwy+qRPK4g+N0Nn3u5SWElTwQUV2BNVowxnaT8XQ8zR\n",
       "DH25kxCKvPxFAyBbsTW9t97DjDOhYiGRzmSswhIm8vlBEtE7Mu8VGdLK8IIG1NrY+i8m3zzbXhdV\n",
       "DvBnbC9jBj+uOY654N2RJou7Dq/jjFEYGPiogbjOBGu3Q+Hh++UITQZbijBvR4x4ZR2+IOvPkWjs\n",
       "DIBnQyryNxRVqPC8Dd9OAotvx5mFR1GKjJhjn+gk9NPhK0gO9t84T4vL1kU16+D+yFnIv8qCxZ5E\n",
       "ncahTk1H8BuHrlq146yY6ANH5rVHGrPuc2pLNsEJF4wHWlJS2o4DuaHwFZduz7nnmkg2JUqB9lpa\n",
       "PROGzDlVNyzoBkWr2eCLmYqy56uz2emIsSoFoyb0xiMwRjKOxlegeWX5qFB/Hsc3MHrRf856GHDn\n",
       "zSh2DsZL9SIS90QrYvWJxjTQx4uLEQEByGNIrharnqShAAAA2UGePEUVLG8AfuTkM91tW919eACA\n",
       "dRIn98EwHuFejjLI5d18k3mjuHRf/u2qjRmqt9chF6D+EVQuxU4iBrJjewV5zYkXiIrjXoKNjH49\n",
       "ZI89Qwk2ZxaD7ymH/5ByH6KB2R1UGO3/xcYFdV0wrxil6faSbJ9RExklsbCg7FuL8UtOmppcJA9r\n",
       "Ivs7EEJGvTtpU6h6vs0Lt0Q8otCb/UA/43Mz6hjnXalruRx8+5QUDFaX0rb07eqDCQPbG+z1Hq8w\n",
       "sebqknWeiQcS6X3gy/TGnRipbngs7hDmZkAAAABuAZ5bdEX/AKP703i0gfgACOn64jFFFv1PNeAf\n",
       "/O10C/R8Ouo4cSXsEYJjulJh80mQUbB7jZRweyy4SVE/n2WtHEBIbh6Bxq5o64dO63Nsg41QC/2w\n",
       "nCEX6BmDRyqq6JXe6UYK4W9D2ivkkTP2XcEAAABfAZ5dakX/AIavfj4J142cSa9kPk1IiBuYipaT\n",
       "wFlREFY/hI1WkIJ9jgmDlTd1/YNcm8AdT5c8S7DLvkkO1ZnlyCKbHfBCYSUso6L67OfqrlLAIvt1\n",
       "DXhw+lw6XMU51BEAAAJ6QZpCSahBbJlMCEf//eEAC+0eDNEzNJwAIKYvZOiUOnarC9aJYod8ukWz\n",
       "XhO+mUKw6lRwK48BuryCsR/rRi8uLT8UO4Gs/ft263fObCj/+/YL68zaHe0+3d1UgK24NmpNd9x0\n",
       "C+raRdNaFVHI+WMUKtM9pZ0fzWeFb3uzTza3i8C0+hqi8TyMJ4qtDkOhYpHt5eBcElQUtkSFD6Sv\n",
       "BCAt5qTpttcEzqMtkp7ZkO1l3GUX4lfaaV7rL2U9dLVc0pG2gzSO7Xd/Rhq1pZTco1IhlOGMWGZt\n",
       "/YNN14p4ndXg90VreBVcezUmJHmSGh56NxJYCMjQ5+WyRDmIjoBBSu6S6ltQtrubDUXU7KO7hvFP\n",
       "g+TQ1rwaS5I+2AXaKfxbCeU9gS0RX1zun9HqR/tLhtD4PyEPC6U3+6nPxmrGe1Ql6t6S7osAMJUE\n",
       "6qy+zQN0fRCAWBBJv1xSK2eV2Z1fFWNQEfWrkguSytcxgoMBDKvYCdsaRS+zvSq5h42/mDUQ3xTZ\n",
       "xi6upbPEvn7TfJlbPcZwVnBii8cavEvyHvqL7b2VpfgXOgBqXatVEs1JxYeY86dU6L8Bxd+l+r+R\n",
       "eL2F5N3V7gQ2gs4/YzozEP5ruDrcXwfnbhDSVRw/n1m+J6ECC7sv9SnyTh+8cVAhDoDupHXKg7KV\n",
       "oVROivnnafhmgVt9BMnPzJ3S/gqEzxQ7tsUj/oif4NjRzqCDTEu3aH4RE1KnqTwPsicPWWFMm7fN\n",
       "npz/JWsYly6lWm7Fhd09alu/AkJMZKzeYdrnDqc0o7Xbo9IoSK9aY2kQCMzWyrV78phUQb/++pCd\n",
       "8HsNfZzjlZWlvI+35muvjNpbzDF/mAAAAPlBnmBFFSxvAH8duSCoVlQACEJgDvwcO05qa43eCM/r\n",
       "8CiEkqRfJvdF1dxfWd76RKfZVasoDPyHXm4RtoSQQ7Q87+hFvuPyfZmxSC00Z9tsxwlYQi5SgOwq\n",
       "fh+fBMlFokA8iUVlgBUlrO1+zqoajVjshBgujKbdaErm4RyTon3MznANEj+d9IICHS1vKo+T8b+X\n",
       "wjTMu3UkDxTJYgqQ5h3nx+FHyXMDxqhyykYAiinNwyj8PkkxBI+LIK+q14DwTHi+Qk/HyWMQZAME\n",
       "J4DilATkZ++Ej5txgAOSLLDXIaWoZdnNd3EGp1s+DZJZbDVeH4Ee+gcOWr2BX8EAAACGAZ6fdEX/\n",
       "AHaLhnFDiC55oudocjMFmQo0GfD62ibhU5KEZ8Mi2eN3gPfEAE6Iw2UHo2gBG+/g8CiIjtVWj1ge\n",
       "uRyloa7BtWOpd7QSqoO/gdi/CsuqVNRj8UNSPp5/fvO6a55Lpf6MYmwRWmO5trmajqM09piE87n+\n",
       "kLCYcEF1wdbpSnBwisoAAACJAZ6BakX/AKOMWDDxnogA7loOUEkdcApulm5HXB2JG6uNIHTimcMY\n",
       "evO62f753nVwE9xDLvv5dT/TBkaVl+WOPQVOe/TQAA3gtxPxhbqXsy/36jEGAXEl/t8FvTb/GB7g\n",
       "5S3t2h7TnIPoxtdtgZ/tMfWXGWd0ePD6LmIQNbc9HovUZSyoG4UlwjcAAAHeQZqESahBbJlMFEwj\n",
       "//3hAAtXoBTbwcyAEAUIK89FFAlQHAznSFkxsT55Ju+pZy7bBMzs8gclQgBnS8s73SMAFwtdIGWF\n",
       "ctjfg+BoRdk2Gs63ecriTGOQMvEqmHap5EbpHOcQvYEWN5StTHl6hxFEgaMTExLC1EKO6uQR0sCV\n",
       "pOrCEcAnyWiZgI9EzmbmM48tgBhs18odOYFXRuwZ9+iBBHVoRwFf24pW9jJDfCENqw/87LaBk8Wo\n",
       "b3K4LUjQnEhXps849hS2phg9s3xqYNups6DaJNW4q4KrbGJM02mDEecYHc9PwJf9LKo9wVQWkDVb\n",
       "rP1mVWZXfAtNIBHttW/tDk8p5V19B/mcR+Su3Ilo+b6odxrwfdyRP2H6EN97zQvyOW7GDxEhsFDm\n",
       "qsMn0vAcCot1m+Hg1fR7nuPEuLDUTcjw9XicJ50Bl92CScPpxmisq2wJqOZkpFzb9KGn8kFGy6Lg\n",
       "YmmSK6CD6LvQ2lSjLeebeaFTZdzOCdHrLILoOrOJRJCUDXOj2Z9Gjh14VAiUMyM0gUBjgxlx/u4h\n",
       "x4j5mFff6+Wt1vu9hHNSLsNltxlOLb6m1Wi/o8IdT3Y8t9E2JkCYovKUIep7RHaiZm0WBa+691qL\n",
       "EfJfWKb/y52FlQAAAI8BnqNqRf8Agq+IkYDwFlYtr+jekXWLmGABvOdJxNL6xoTyPqSE0u8UpM82\n",
       "h1mhpfR4RyoSIzxGJODRPr9g4/yYZo/RHye+0THBl7rWGeuOkQGXBv0v3BHirsFeNwmGjRL7Brh7\n",
       "M65LPWPGZfuoTfGKwHCS7VCHJ4V5p3a0a+DhF0eCz86mOSfKZuDICCZFIAAAActBmqZJ4QpSZTBS\n",
       "wj/94QAL7R4LgTwXp7dgSmdLZCprHyy5WKYEnBCwBDob0GF8z5/zagIyU4SLD+qlL38osi8g945+\n",
       "8I0EBrhLdyIsWPGyNvIVICggJldMgJSTf5rQg+BoruPA1VOggnl9QTospu7nYomDLiMTJGu7wwI3\n",
       "HvZp3r6X7rV6hA6uZiyN5OxflF/V1iZY5j6BDyong22t2XX8e+MJ9qdW4I0ptRc+km41CCdwr9os\n",
       "qeJX7G64cIYZHHkLuQg/HgXskxTJ/APcfjSclFr6Vedk9maoBl063iq3lv9KZNtpW+o/dDaE0uZS\n",
       "AAp/u4IghgptjtUxsWsLnn0Zz7ciNplJ7kEhIVGqYVJKYAHHyw0OgKnVm2jL9bHUBWUUmxxGPK37\n",
       "o14YaY25cqhZVogDFphszu9KH4EZFYfDZRyJrR3yzp/tUJkcdgbvdOIOZihjH1vSJ9VRlr52C74f\n",
       "6uExJnrPeDdAS9m6O1uw1kzXUdOTr7tvOmxI1ascgkmA5Xm381uDZQ+Bc9WeF5u+2p47BQxl4Z+g\n",
       "y1qwObm40BPC3eCydhZb5XahNDLatTP4oy3hS0G8JOR2QP5pdYs1yq5B9PW3T64AdCQAAACcAZ7F\n",
       "akX/AKPmjVc8AW/hpgAAAwM1ZMvMYIU9NNQqLRHaNP4AWStCznS1OqDAFRD804fKJktZ0t8Wc9h0\n",
       "jErQzw7huQUKLfV2ggRSxUFXB3xqtKGWbae843XtyP391aKkQYaMhiHLPhwLyVUVKaNaUHShaMXk\n",
       "9+pmcILomfiU0/0c/Vcn0N5iQ9WtGLO2ihkmqeCR7x4UAmF31H7BAAABT0Gax0nhDomUwIR//eEA\n",
       "CevJNd9D4/iTUAM0SKUXvtDn4F0l7OxhbEh67DI6FN4OyWZZ8jYqpprP+D6je3kHuZBaLhKx7iuZ\n",
       "naFQGhbZ/zBVaGIbskr7qNjEWp74yVXTZJIk+lZP84FnWoIC28iB9sXr0WKLXqAI7YOTnmQ1Izkd\n",
       "08RtWfTAiTylC97l8qPdB7mo3IEK/4K+xXHqQ0k79vxoAS4yDHHoxDGcsy7dhBm6J16nzvQUzpdh\n",
       "D2RHmQ/mAvSCdretyudf6o1vX2rjUPWdGNoPcgHTde0zNwB7G9EO7TqALBCnNrfygWukRLk1i4Fy\n",
       "hlLSGfXftBn3jtXzCozN5jILmo5uBsRsdYykAtg4YcEtZJA7q0ldoDfMHPzAzORbpSJ9Y3Dn28Kg\n",
       "RGxayM6T3usP8xweOu5yhpU27voRUkF09Ju3pQkn2rVDnQOnAAABZkGa6EnhDyZTAhP//fEABkT2\n",
       "ZRWb7IAbU2aKahRzPnbKV7YRE6lTW75fMcF2fn8Y3TWtvERhNlPLYDxQGSim1MciQkB8LuZWBVwl\n",
       "GS5YRcxh23KrxJhMprvf16XWlOVfLNMBYbBOVIQhE2oGxxwMJ7fWwgJrju9YFVZu3u5oJvl9ywXe\n",
       "bayzU3+n6UYJlvGmziuqz9Fq2rtKXyFkW/0VfIolrYNWCYBpmcWS8haNncvxR7vWd4eKe/LKSkjR\n",
       "cgSOqdPgrDDJ6zgp1uC5uNpI5oxsgAHW3rRt1G2ubjRta/ROwBUhllRRxUmtvlYhChex1axGw1cd\n",
       "50TQEuMisg6uhgKjTNy1mJZqUXleOpPjUDGmXp8zbHWfhU2CYEA5iWoAI7Fwrfetec2WZu62xJn3\n",
       "7OXg9rcEFPyUw5ZG/mX1/GjR5bJMtldUYGU1hfFoNXMwlMVcyIzyl2NFuxvyDKzC0Ld4+cUp5nEA\n",
       "AAKrQZsMSeEPJlMCEf/94QAL6zxdiDpy9QqUUJUIK1sbpOAE8I2Aw2f5y27btHK7bqLaWMGkqd/8\n",
       "YIPzSOrHgq9UsfwPKx4lUvxdVTg6dXzRugkVJw0iQbilmaVzKTDw3uYY/JK3CbI4bP1/LSSB0iTt\n",
       "qZOU1BzB8N3s+UwdxDkDH1uIK9EhL6mLYIAIC/9YZe3Gvi5ik+TW2wME4oz11BnHcebJ4MF5ZDDB\n",
       "gQWIkYB092M1OrGt5nBSqBZDMxBQ2X85mtbLp+HdUYMyXj2oB4To6Zqr2ggF3iRLdFcBIKfXu/iO\n",
       "szz7OA1+437+7f82Hop8Z78H7T+duMMF2ts8GUMkuin+N3Gx8EShTmwk9rBNVDmPH0oM0LX/a0cC\n",
       "rcnUBUL2y6FhKEIsfRBFOA8//9giqFZBGNfA/c8YwX0duLgOjMroRNNXNQBpoNAkbwrcHmUC/sZf\n",
       "oxLpzbMEkXfpPn4vUC+oJQ0/Yatx7lGI+NKM65LO1x/hMJIRIY3eARrD02PxcegUjwpCVYdSznos\n",
       "jIFcPmivU/HHeDWU3FOnYn7IVBRvAZ4OhBCZbLXE5y/prAfpI28C+i4q3FniDvpNx5jXWTrcUGJa\n",
       "ETWpdJFJx+NOn/nKFD9gOA2d+AET7dwGrlLqBKgv3bjgz6FWLURRXLvEk74o9YR/dAwtIKv2VK7l\n",
       "CIRdBKm+34s4cM/jfbwwIDmA7ZaRvByuvgwdKGn2iQQzktFdoozlytC3yBOjgoBk/fXXAwceg6eV\n",
       "oRWBxCpfemjYqg1fBDrB8Xf590zwj6s3JQiHma6omO+Tc0YnOdbsEN0rAtCZ29CvF1TKfiUdxK49\n",
       "+vVEzDnneAQbtWuT6Sg0gXylp20mitgG3EzxonBJmuRqYl1I/WBUpAjkk5AvM88mw9Py15uNV92A\n",
       "8hgAAAFGQZ8qRRE8bwB/HbpuhtnaAgBWRySzHAKwAcJ+a9LqIWLzxvQFEXVyrCm6gX1iyTP9ah2M\n",
       "J+4O+x+Z6b3CYqRC6mEWywW9fEweoEeZIQZoKgiLdj+2QM55RkPyIWc3Af5oF5u9wd91jjfck+PH\n",
       "8GgvgEGJBoh0Qh0B7rzLj08U7aBzi1JE9picJ2ixr0sC4BC7SbUKykfGboNKAt2MbR/qCSUyaH4B\n",
       "Unm5eS29sT46e8UAry0FSHR5ZaX17pcedJeEqQzqK3A8oik5qoVfgwYoiZTSCMumh9IWYFwX7zDQ\n",
       "a7hcd7OHg5dOoLZUXMww9sj5OogM8xXAymYaEoEOIhRrmWVB2oPNYyfzfNguAQ+p+bTxkujs+XPY\n",
       "Xkio8ITBIpWLzZR+1ftnb+D8NP3VVvnzOWkSvxVRdnSgLIlqkPIqwk+c9nFefBkAAACOAZ9JdEX/\n",
       "AFCuqLmNOABs6lULmRhH70KBMTh7i22sodBkSY75G2u8hEdtH74I19xRAaxcYfMQzFG930Uxcz1J\n",
       "FZKB/RbgJE9KHoHY1R8EWOremMV+sHnOHFYt9CNAEooYYruyw/06ePTUjvM+FezI0Hx0Pt6SitAq\n",
       "59mpkIFBSC9n088gCBttjG9hmqYzsQAAAH8Bn0tqRf8Ao4xSLEhpgAEW5ku9vRimtvgVP2enX/Kq\n",
       "s3QB8jT1ABxdurtw9bgoQ3gC6+4yR/R5WMO4gjYczEcZjQgHPz6njSPeANrRNcs75MFQIL9cISkF\n",
       "KtmOndh89G2I3CUoIz0dBbmkDrj9rj8xEYPaCWge4Q7NvArznU2BAAABvEGbTkmoQWiZTBTwj/3h\n",
       "AAucXeBGed7AxK+x1yWzGA2kGpGrxlMSe/tFOx59g5vtYh9f6D3nVozdf/bEOWC1jfV75Xw/OyT/\n",
       "Ng0z2MYljwAv5w1bqDOiDVyyl6H63yEOIRaQn/OJ/6JafWpwxtVoWxemMrJ1qeOUARb1vRO0nrNz\n",
       "6Gpdi/ZGQ4VzZaP0zQP2aap7snLtP7xxw3huG0ncQWpEY1Lg6H+BZY4+4ilAkrbCwA3/+kXr1iEJ\n",
       "Q1TWJPV9LKT6LR/F/PNevbQMkuyNjExd5TomG50Z5x7tRzSLPJxh/RIrD6DBDjf3OMl7r3nzmgQx\n",
       "kDaaTWnZsLkxSFGAAVtQ4EY4M1WoH4ph7BBWrfNslCRynwpm9FaBsZYFsLqmCGtyDHeXexJRWqoy\n",
       "WO5usf7YHvltQGXhWylZa+aK4TQki7jzsjb2Zvjyjun7EHIJxumX0e7JGXU1PK65cQWNkBOyLW3T\n",
       "frh0MeE+sQGlUmcEOz+VvQijTUgAAQ6hZz93YrVkXUrBrhxzvD8bylCACV2EfSxM34FaSE3u8O8m\n",
       "40EHilr6Y48erTNcukGdJCzg5Bf94mVqPPgfcq1uGQAAAHcBn21qRf8AT3rQTN7g0QKX8+vCmxi9\n",
       "ToZB0rPb5N/TKPgEXQlAAINBKShXKoGtwTka9QnrXTGVTUjgsTbaedurmBB9f6XsG5SQl9M6GsfE\n",
       "Zm85sTK0k8ehmmsaaJ3TZALLw9xFvG4F5SI0tcTT3qqG82Ogll8CvgAAAkJBm3BJ4QpSZTBSwj/9\n",
       "4QAL//TkAPhAyqEylJwkVqYI+aWLdUfaXLuJykpU2hGQ5r+a8oSTDbOpcbXyMT5UTALAvOzHcf8p\n",
       "TIqawgec3gcNRF/X0mlibPpWqdlvKA48QjEXywHuuyP9nqR3HoPbL4vdX31LazwAWNsV2hLzIjvk\n",
       "nz+SRyXis6qv4+KoJYph8RYO2+NYX7RaOAbGNwRaoumyHX4jYOrFqHi/htx2p3EAswTqsT3kfgnY\n",
       "N0TVU/i5T9iGxXYEF3TMT98+eng4pYWmHN0v8zS/z0kw7u1t5ckWT+DJH0z8QeWH6WZ1Nkm+fpQ3\n",
       "DPLnVS0jMUu7cQwUEGBkZJawOIfZ16/XUK0mMmQfXHyQzQDJt4J8R7Dr5Co9S83ziOegK45IThyO\n",
       "iUu8tC1drUuT87XBwCZS9pY1mkHf+EbENfNBS6yZv6PJr3rjvomp/9ZW+rc9jGynmNRkS19R9mH4\n",
       "jTZvON5TmyZ92InsvlRbsLbAqVv+d5GOmNMTjPf0cbaU1ZqRki+jvEtQJeXE9IApJqaTMqKfEAnZ\n",
       "7CirSxbOxo1Zp/8C88cFzFPcoFkj3fhAFKN60AC54B8q1+/mE+lJrf2W1p/hvMhKCT40gsYtfH6g\n",
       "fghJ+NAyLZksq3k89/udhm41C4FFa+jyWu7jAG9SWgebfrLd+pvBBBo2Xwm87z2/tq+Ods90MoUV\n",
       "lQjXDyuT0xAeqliJMRi0PZwb/3I6MFU1rXSB4TWgQwVw+7lurbkVriTNhFmRRBttvH/2QAAAAIYB\n",
       "n49qRf8Ao+aNVzCh8AAABgqkoAIf/2tBRLc2RFWFGhC/BZDYyjUd7kzLClEoexn8IQfA9hrg08Q/\n",
       "RCnd7EN8O8kpNZgvYBvLZNCcX8bwTSraD3+cS6HRZxExISO4h9oVFg+6YTXbrdm6Vh1nV5y39ivB\n",
       "WxSbGJtW9v8aJayvVU8l19hfYQAAAYVBm5FJ4Q6JlMCEf/3hAAWoDi9O5VQKACcVVYz+bp7J4zaI\n",
       "QbBI5KsO6tjV0hVGL7TMlaoYh76/aJofSIHlm3JPt1gYbyaD8MUjJL3rV4lb6bpjqG5vorFJA73s\n",
       "JIGXu0ZH8X8POlAdNOB4ZdgJIEgBmJsO+BxV/okmuYa251NTNlAH74/pA2SatQYuT3V23zHBU/DL\n",
       "CF6Q4gQWrbGPVIrXEibDbSUvjBEtoRKAsZgxkuQ1tSEc9ADsyLIED8X1vwGb9CxouHxTfV6aQgPt\n",
       "pXAWkioQSnBxuPhHdGRKNDOuZSKhmIhj80lhuH/26DxMrizcQHZKurhs9qa2Nwa1luca3hdZndeX\n",
       "IEgm0CZwnYxOcx0aEGQSzergvHQel7kUUzy1Xut0E9w3pmu2fbF+L5a5NIxuzMr/WVEUfEMrinfx\n",
       "CFp1Jqed0Aki2uFNSMVuC1swc2Rkncy6Km35gdALALhlr36Dvo02dnkoPpgaAgvgOtyewnbLrd6l\n",
       "FoyyPQExvA6WsAm5zAAAAjxBm7NJ4Q8mUwUVPCf//fEABzuGByaGZS+Jt58RaIagRhIuo0MsWviy\n",
       "44jHx0oE8Q+W7yNieq0yhQYVLkemTbVmKZQ0b6MLRveX3M5V0pi1xSCRIDTz6mxCky5WW0Ue6Frw\n",
       "vszM+yRyaBSdkP43RaGR2TUVnSnRiEAUk+jIINPXdOVzwpZ0b2MJiF6YH5rMKj/KmutwYBd9z0eO\n",
       "yWsZd3UNwnZiugZsjHSZAQtSva8zZm9hUS15H2R/iYMajKGuNYJutToA6s9O5gHgBo/HfDp3GqJD\n",
       "Oez/GraEMWhqS2DsBg96+yW/0qUMZXRnRE55puuidcsHmBx41nMD2i4rKlQ43jOLmfmX/JVhnHO+\n",
       "ZdLpcxJdbLr9NYS8ihjT6B2vYpW/mbWI8ybXu8M5aJ1J7E8B2B9RZuqE7C2inj9T4nPFe4VU+SMi\n",
       "qDE29v8AnySdKIniLVuYcJu4ugtMx8Pfd7MQH/NH7d+vzqrayTOGxrm9mGny9SP2bHO5OdzSIwgw\n",
       "cyLEnYCkMIdYbmmM0skhccLpPYEDHAlniL05BT0GqnEHKJ9g3ziRXAXE0XCguhD7smodqN1RQTcS\n",
       "DYUVMLnY3jpIw3nXcPxr6PFucbwaU+SPoEd3cBFKwsljvzmWg2UbUsp6l1ZnBivvYOA12TqII9K5\n",
       "N7VU/fGV0CNUH34FFL+CjqmSbk8RCXZtQMMIxH3HRH5xgHa16ia4GoKE1gXfCNoVdBReAe36FMHT\n",
       "s/tOLgJYOw7/Rg6N92nMbRQDYAAAAHwBn9JqRf8ARrRNrfgA48Q6ynQYUeTdK4lWyoKWeD5BuCsb\n",
       "2ZmM6iYQUD81B4rc15rAitXKvMOqlsTpH4F+ZcxU8EQvDSenPTOKm1GCgGdjyM6o6/GU5ewiIEt8\n",
       "mro4AW2UegRj+Lw7ugoV/9tMwzVVCf9gCYvld85mnizhAAAB+UGb1UnhDyZTBTwn//3xAAdz+m6C\n",
       "vHbXlN0X2TTFj9ylKlEG9KQ+OzxahqX//qKcb9GDic9cw3j9TAqWicwpCcVO+c1TyJhrVsbsPeM4\n",
       "uuyRJ0qoTe4DKPUU5BO7FxQ8iOnezcBmnPLNAD88o4keZ/uoFDK52jPS3RkNZA49gFh/m7Rxpc6R\n",
       "ptoaqYzv/1/VSVtaio2ONLxPzQwA7euDWD4py0wN1eP2uAFhm3asMdqqBg4rvikAUIvIl2sGoKyu\n",
       "kBX3TbYfryJuO7NKSLCslcHGOCRqY18c2joPGDqdnfFlG0EgEO8077SPa/ZsR36TPd2NkRXN01e5\n",
       "hTx91ieMkQsMJ8ps04q1fxfpLODq79Vr905ExHmSWbIXmLoRqzRChrcPlbpkKTpOXvnTu3fe8UPk\n",
       "6+6/liw0EXULgArLkgTic/l9EW/lLcl1HZSiZLsc4NMnu8JlAHAOXzwuTRe7EIpw5kaMDMvSrE9/\n",
       "KctfQa9L4KGPi2ixq2IcSwMkO+HaqhDUUUV4NZX8nSk03NsxV1aU+ddhomauIG8DYmzyi5lr8NHy\n",
       "RbEF8zq4mKEJU2K3Zd7H461ImFxq4HqL/7bpbd9DBWOgwoFrIjOgyiSvNi3+6+Cl3q6MF1a/3THY\n",
       "Jie0fBvpycgZKqr3oNCfwiDEZkkPZorObmfDQP0AAACdAZ/0akX/AFHfWD2AAgQ8brOm9fdiymyt\n",
       "6gzclW/y4JJyxj4sO2pfZuXlkedhGVUzmrCcktM2fgtVMGcuVtAkUxNC48bgQ3PS/yHBC8nduKaV\n",
       "US22XmUcoMHpdNp8UUIEnJ7uawySYahAVDA6RFLt9ro2wyO8pvtbKgtdy2s7Z49v+VBocJb/najp\n",
       "4LThc7oEzSpENAUhKreQRIrDaQAAArdBm/lJ4Q8mUwIT//3xAAc7goh1JKcnKtegCwRZehDjS7cU\n",
       "ZNmI2iFuH+1cP53d7vnISsJf1EzbtoTdsdDW5jkXqvjt8r1Ibrk+EHfRwZxOMwOzOcnb9q+8WVDc\n",
       "NAup428a9VQ2ai1EEoRzO84gVcddkfOcRD94A1PyA6n/6ZHOllcKSqs7K30/Bbkz6Kqj6Bhvmqna\n",
       "sqabOsFGz+AxXkHVFLroknRqL/UGdV5L70knP+atts3+aMCX8z3HyB7HVsZsy4kkMcKWsePxAHk5\n",
       "4ZTYMm7M/czHS9laNciRqlvfDus1gOMJb2HmEX3diLVk5oN62Fr/EO9/P2QVM0pq+oK7Np869l+t\n",
       "+1tBVLmS0CMiPUxYVdx3ON9Sir2Vmdmdp6WGEFJficI8BJipZSlXQr6H7jv/3LdpfW2vR8Va5Aoq\n",
       "0T3AZiP47y67IC4Ts745JD/YvqKJzRYN5UPP3p39LU1rlLru0zxC+u4lCfzW69S1la5R5KBdRHDu\n",
       "W4+gX4OvHI+ITcG4wbWvo5mf6iyPBNAy4XsGWiCxNSyin37FE1XlnIJsoWtdRHkzJgSR/krIJGm3\n",
       "ADSPTZdx/dUeKj9OKV74jtfaRjyO6EYALG4tdhgfn7HRMJ5Pb22h2ciRzErb2MFBERkpAu2vHFHv\n",
       "IHH19r8gBgYMM4HGQyzqWpFD85ImQWuoXgkAZYmt6UKdyIhIO1RJg03qNU0NdKymK6ey9SW8tczo\n",
       "ThZ4pYs038efBI0pB4K3DFkME8/Xcp1v9gsiLTSvOiDQ8ItoZ7EJjOyEg35wD9CP9s4fUw8EE5sB\n",
       "kB6nPUt6x4qdN/0aU1DKCc1cD5OnFxuvZxO2oZqwKkYiLWHG1zYIQ7698IiFSSF0c/owUFc621JF\n",
       "RCGJh5ia68l3xNuBkeS8fZCImWmW8PaTwmC9vvYCQpViIgAAATBBnhdFETxvADyqmDEcqvALX9mK\n",
       "oPnJoyCa+fMLusCIgkCvhGVJkHABaLtso+gwXSKzS+fxXiWCsoPjTsrlnjwiBw8xs6zQGqCx1p53\n",
       "MSuWWDeHJ1UTRw8eCMUR1599uhs7y53rfBh/XCsZKCT+3JmyLbHdG97+2s5AwK0u6XgkGqM4Ok+W\n",
       "jf3uac2+hI7/PKAMUHTVxCKUbZpPZ5WjKOgfe30aiaCRneZGPfT62bH4jsksYT3yV+QUm6tQKL/D\n",
       "bqHzZkZCJLZIIbyATjUCKpB+P1cnVmcNHwEhA4oXdcDIWRJDBmsMNYW+UgqLCmddKsYz2o6mgAcD\n",
       "tYfmpORFPy/Tp8cCo8p00eVfxRTbHYGGax9Ix0z4PaABftVaySXTeES0PyMwL8eQBVr5Hmcijg4U\n",
       "AAAAiAGeNnRF/wBHcBVwLekk53t7GtUkFZ7oej2d469Rl/hyFvNauAD9ipWqcmcQekexdkK8hUtn\n",
       "We88/nhu+VRqjwch3yQ02wUVfCjJR7B43vLdb6KL45DFB+R0NLZApxT5a8sfjSYDZVe5VcBGelNS\n",
       "Cfe9i3ijlbL4KdqKNypIfqg8jpQuPW1g04EAAAB1AZ44akX/AEFjBJACZT9rmncYtWA/3OvvQTlS\n",
       "Z1bzh9Ha4lW4GbCk3q/iuFAVBtbLdreUmOVL0T2AMrjO8kcJgGO095d7eipo0BmlK+Yq/6KXr2Gz\n",
       "gKxqaI00xvQcEoTrL3zutbrbaOgDnRbyhTjG9bQhSNS8AAAChUGaO0moQWiZTBTwn/3xAAdz03Me\n",
       "1KAAgstRKPFk0U40LTmZc8AH349L197wQRbXSYlpvTI4W2qMYrrBs2j7KfgXPljfzHvhwjP1soCj\n",
       "H80vU5iLMSTyPdE8kPV60/ePNCu1Pqmc/QVoihmW9ASDT7/PeSUG/jMALUXWKSQAtG1NzBXHGEbJ\n",
       "SQiCOm2T2DxHasIKKVVppA3rse4YmOvXfQBWey1yD4f4UuzFL7MDOgJHhfrwVp2AOVKvaYWJNuJF\n",
       "1Mmbx4/RAsDudSuJwgBAOMDeOomAUvRxRf1Zj7pB6KP+UQycGuxcIqldv9svJGabOwUJhf5JYbfx\n",
       "YuqQRdiNXfZbX8G1mwRh6mzVOModsG0Ck+zZVq9L6JXpmyBz+wITNd50zYkZDItSUSt2shC9mz/2\n",
       "NBKom5hzIgVaO3wmzthOYFGeAt2xccF1PIkRb+yP36tJ0QvMpRrL3t4QN1b+b4vmtUimoU42RUSq\n",
       "mCM7bIvNb2KyjTLRwIzYU/Ljj6c0bfhkwGg9MJEwRq8Q6vAlF+Fq5O6PbIiMxYzjjlIsUFSPsdZw\n",
       "AgxhdGGBQQlYPis6odmyE8eBMMoBc7Uavva8JLppta85dH17CQ0oX4ZK6N+LmqTfvXPuHoSahm2y\n",
       "Rx2ouc3yyKcjyMlE6xpA+8gQRHBcLvRyl9trqyt317FsHDMxQGa+ZFKpD+1ImOPo8A/WO+D4M8td\n",
       "Gi/wMeCFOFyLxWKXx9tVeqZX46CQekcfzHeI1hIkUBivYzH5Aw5Nwt7IB2AuFpERiGP85jl6O0QR\n",
       "SU3oanTnUKsE3Y3Oyb6PvBshI7WpZm/gBE3WfKTI5aA90SoOkcaJlpBalilYXhXNG7zGc4JYkAAA\n",
       "AJ4BnlpqRf8AUcYl84G6faYN7Fnb3LxaF0aMFumr9kaF2Z24dlZZsUbpMYs66cKyzJalJ9ZvtjIX\n",
       "1HAy7VffLDw1t798ZIASY2jRrejWxHKSeS+/p3ESOWBUkRNgHUng1d159n8b9Q+FMncii5NAytLK\n",
       "TKukKlP75P1AlABt4ExeTO1rM76qhJGhpHSlJl7uHz84GxGV4ZvsdkkfJeZOkwAAAotBml9J4QpS\n",
       "ZTAhP/3xAAVH1gTj3nMABBpyzyOlpmxAv6hc/qh6h5XaKNIhyaNtOE4C6b+JtYxSqDHgI1gKJHUr\n",
       "MoLIICAXJDiP9UVZme6mEHbPG+40IBXrwwwNE4oHKvRLqF2B4UB9QT1ZUlGzlo1bPm+KaZ4ocX/X\n",
       "Qn9oMiep/+LsTNUod9fEyy+0yw4Yv9tHmfguhpQUJqzSjf513ifpMH/QiI3EouJ8taXUXRlXx1g7\n",
       "9V1f90apOGbXMlx58/fngdUk+IiDa2yA8MEQ75dzWrsvyT9BgiNDHzFkB/7+upd5V3uepWYaT9Rt\n",
       "/wNAPL4ictU9S2dK17TmbtvfSWCVoa0YA4rIn2WU2JgB2j1hOM/A3HumFs9lX2oDHcb4cXe69nDV\n",
       "Li+Wk+dXyDuAvXmns27RNYP8CZXHiEuceKOSKJwYIdSYeGaQDsi5TZM04pqJxBTDoi4Srfa+l1W2\n",
       "Cv6jdpzJ1dq4CJpH9FTItX2sl9RDXiuNfX3UhRn497uU9IghP5Cl+KvxR4WyRZh2Eb3p1na8MPGN\n",
       "3jWz0QQI64C6s2L9rMvX+rX3/on6vB+oYy70J8ExTYUdfjxWRbqzo4LG2hDkwH1gMww314XLYMgO\n",
       "NaI+DeJrsZFN0h/N1midSZjoItRUnX6bFbOSgzKN5/VvKB8xeFeNH1rjGcyK7jAA+KeHL/9akzDQ\n",
       "/nU5V3fxw1iuCvl0psY0c9LPbzPZ6HStHFI3cLQwR4TE9kNQQMPrHtWqeaJLTzWBGVCeuPa+PpJn\n",
       "Z0q/M6LlrjyQKgM4fN7/uRJ1GyyfmIKnY2OFr6mcCrOwiP+x6b5Cy+uZdr/711SjLl2jvd02w4c6\n",
       "nlGk1lcjm6HE2VJqU/jTt0wAAAD+QZ59RTRMbwA/jt1h+z7PecQduAA/ly9OXVn1SNZGnwYl3Vup\n",
       "uScDtNmAYkwsuS5xXRV97Ozqv4pi04ZIyUr2fLE1go7OHyQyf/v5vUecLSlnVY5QBB5qbsqwcNNt\n",
       "C/YSeD2yGjqxVUdw02u15Cxe3xkFuZXltNSQ55cUNgLg309Kcg2mPElPVyqF9ncfziB7DJE3iwz6\n",
       "NqR4LPsJ6zT0NxXbYlfaPtho3x867jeA6FyP9ZQPB+K2bH5QGzRsuUNCja3O5RBS+L6f71ZezaMl\n",
       "rfy2LKAOYRZtOmrsOekPl9NKuINMaGQPqjXYRF5UjdN3P4ifiDt8DIuu/tZ6ZuEAAAB4AZ6cdEX/\n",
       "AEcYfeJOtrMREm79I7+DAALXUUiZakNeJbY0UNepPFJGZzPTVk39GHNXnaLwYf8JJUWBW1Fp/W+v\n",
       "cU+OhKam2FPrWSUlBjLgjFJfbwBxvKMoBQ32BhmepVI44p+8j/bSFkKQO1PE76fSoAPgxv6cqhvx\n",
       "AAAAewGenmpF/wBRe249zA9IIwU9bsAH7VOgOLnPuj97TUR/hHF+q9vYEdCfvusHEcILldWf6/qp\n",
       "2qtmQAalTdToi5ZM2n6Oz1HQDPxFhxvYJeP1Y1RRcB/yf0qEODmKWp4Xzymv5SOpTjRyQge9FK50\n",
       "4MGnlcYAiwbxgYrD6AAAAlJBmoNJqEFomUwIT//98QADsoKtPSzZLQ0a3zQ0AH+bD3YGGY5WvTy+\n",
       "iY7SBYjKPlOzegmoY6ydXvshXgbfULx6aWFKiQKmcVBe6BQ5fvrdSjudjxthHmsul3bmkiEEYPe2\n",
       "qm+YhlnXdPWJSAAdD0lTfHrYLuAGhFwyAoqPFIn7zEhQgoOh+BPL7Cm+Q2Kt/T5pb4imCq1/6taA\n",
       "LrA3O8ZTI+Ro3zCFcOM+dA1OiIl0QXlQeHUNiYnLgjLaMg8Qj8ToAWLucXFCdpG6Xl5FZePSEodM\n",
       "O3UjKgV1DAPLbOOp9hojH7rD3/zGF/hYmyCHxuCyylCi+zQREPwzpUhYC7QlNEsdR+uuwKhsGpI8\n",
       "t8CDGCM5GMA6SGD1X7dn5ZwJRhBQUKYBqOhb/z6u8EK+BUuhMT0PY9Np51Iu5vKlW3gROkW9P0Bg\n",
       "WWmgH5DN8B71p/aBXn0LmsUH6cWuJDFrvQFnEEa+M0Vwlb4japByHnE/n8QIDfPYB7hbOogPmkS2\n",
       "se5HYdBC/GkteandF2DgoD7lPHaWIpSy4BxU7DnnXh2rErp8a6Adb1tPB+EVcZfjpzv4Yyrrd33G\n",
       "6dV5/Aru2kL24592/iioKUZNCwpAGscsWE/P2EvFSTtEhc7gfD/SXZuNhZxfyVej7CQcizrHdAG0\n",
       "F1NpahO8jjC5eco/682sKFbWslST8qRKNA8nVG/cjMgS00377c35JXsS5lFGBURcNm6Os/SKhXB2\n",
       "A8dlU1r4TZaOe96QeyiIXCdZKl7921JQMONQH9K8umsgrDBy/lwsLi0AAADVQZ6hRREsbwB0Hbvu\n",
       "qbsEn+wOMCgBbXvL/Qo9wnS2RluNGiNsgv3+Z5zxWjVvZXw9TW0ndlB1f0U2oMP3nqhghLJ9kGyC\n",
       "+HEYjlqWdX0n2Rrt/NsVCkWNj+7dEZEzdT5Q64pnwwLGAPKdAJOAcyH31dsjubPDQ5thzkeOd3xe\n",
       "PX6Me0Ek3tfr8QLhqByStxABVovHif4wrIVN7ekr0NjMUx883yyKvzIPwGuY/klKOC32huUJ/awu\n",
       "oyc3MBXt96p/NWWXxClerwXfP6KorTlgcjEV0TV1AAAAhQGewHRF/wCTDl0Yfzi4pgw//kJwYQDH\n",
       "jCOH8sMPNmzACnmVUmYrFdBWiABYjIjGJilksjwzs71VLrGVWfVOuRqbBMTuTZihTveRw8mi8PnO\n",
       "MDuSKGtdtPsglM6i35xoyaxDiFayXB2UF+h9IgYN+T5fAfqzmn9r2wPNT81t2vvkr0bj7f8AAAB8\n",
       "AZ7CakX/AJMrFYQc3oTKOWs+xP5jEfMAEoLXUld7GmmseR1WXckX5EQ942jzXwqT6eih2D7scLeo\n",
       "hpcsgrTTc+kART8JXijH4u113XlyH7rGhFhIb71d4++F48hUaDtm4RjR+xfo5AQHPaPQANtI5HC6\n",
       "6iZCBV8dHPWb+QAAAgtBmsVJqEFsmUwUTCf//fEABsfTcxpkxhK2EANTXNv/A8yN+XAMZQadt2fN\n",
       "JQs7uMuOy+lIx0Iw3byDliz1eKV0qsxuZ27pygQ9BIWzjLS1LP7V40q7FnHk+Y7UnJfmbOf+2T8O\n",
       "AlpbzfR0pw7bK3OJGGrZGvvPG9L1vU1A7xomX7XYhnTSpcKLhchp2scOdB9iVdi4RDIYlSFXH52I\n",
       "p/6lwMsn0Hfu/nSne8aBm4Sm2HgCoH/qhAVOZDihhQKbfn/A7WHGYTB3BJ6/YRd8StG/UE1icY/h\n",
       "olT9dHLP2kibQDZaq8NhNfwJCwxiNbDtbfXFRIWeMoFanVl8rztKlMMkZfHHYAlPxMOpTXOB+G6u\n",
       "Y9BtuMf1sTjvmF2PNKIKpYwrn8eCyxMwKCJzv+OMhW+BT0DJc6//XOUv00zqHwmOLcZqJCgunGMm\n",
       "Zjl7E08W6kxGBwuT3Qnkyue0mGoeQsOFnRLMLYYkbVTtPB2klWW+GU9IsnybCO/liGMXWoRbWeeq\n",
       "+LeB/y+90voPYI6XPlmNsGO14dAtk1wh3Tgiul1yHCCwpFH8DvOASYMytGKv0fSdCyHigHIX2nxk\n",
       "+zOy+bYem4k0FNZ5YbqztuC9DxfnXyU06VFyzL8dh85n8NsrIpKwFrplyhNMllJKRYElw3iO5vYZ\n",
       "DV09vzLrFvyiWqSmswGTBwR4683q4meHAAAAnwGe5GpF/wCRBkXiVCEhWUQdQBVnJS1ACWbFYV2g\n",
       "7VI3DwA3tgPmLHx2hhKDOZZxNtrkvQAec1pWkBIJxuwGYVfzcs9oLoGIH71GUzovHu15P9WQkoMg\n",
       "mprHuMUzJtJ8/k8WXLQHlItX7akTGTo7z2HQRi6TnGqg8iDtOQ/K6ou+vaCA75a1+fr9naaVV5+l\n",
       "3JW7wgfz7ZYcL+igp9U5uAAAAn9BmulJ4QpSZTAhP/3xAAbH03bo7zmAAisyaHD9IbNpeeKKfr1v\n",
       "jArdCFkNpXVhZQOJOdMZeOtFt6IsNZBzGgZin7+i2TmffTGyTVbUXUo+0AtXDJczMh+B/f+O4ip8\n",
       "+/yf9m8op60fP4CezHhl8mUFDSyIPeYh6bzytKJcHldG+dmX9HvQInaPaIPeK3XfbnnNHWLF1tgb\n",
       "gHImDJJ6GzKr5/888EyAIBGDfcj/RPTuMEjEO3mcePHs6s66wZ2UmXrePy4VREZwwNNmsC9jKFF4\n",
       "RQ4iiA0n7vlXfBv68E0ZU/vTrFmXwtsMVLzNeURHf7CtOeenetJXcTdnWLmD2RulGVrfAYNRGtut\n",
       "GmqXCOFFwhfGPZFlXdU91C03+Av+JDK3d6s/VVDmu6IDgy0KColTBZPB+eKoVB5AISRKRxNTo41T\n",
       "PiaOFFBYyij0NF36dR9NZy0ncxpNZbP8TehFmNuO1BqasAOggf5tOVQdM1nvWRE6DttB7eXRHX3M\n",
       "DeM85RpTcQH//Lz1qwg1AzNN+0ELVyBaLYmwLshZ5CKfvN8W/5tW6PdfiJZ1IIH2OWD6il+aOOjN\n",
       "P9tUNH/GtMHNeC/HUK1DlzOwSmEkbLDMpFnFEIB8fxDq5iBJLoEIlYlmrittTbumctLRTXMnjmcy\n",
       "Nwc3FHVTVjy9lzXoSAoR9/mqxa0cdthO8UJB8+7lHfXEAEXwqLdgq1b6/Que50KL+FzEDhASIdUE\n",
       "P3pmKVHkB9OyRnnp53izytvfoLGNT7B4Eagounwp9yfFrnVfPPwMySC2Des//qFHwUadzcMx4ucj\n",
       "x54N+nVZvOR38Kqr1e5lwj9/230Zn7HFXHxBSthA4GkAAAELQZ8HRTRMbwBz6FoAswm+z0PUAJOh\n",
       "jIN5jC63xPvN9v3//t3XxdIqZvkMJOkShagubV6JeblPVItFKvALDWEdyZgRWqPKATYhwSZdpqRF\n",
       "gvXIfnneXt2gq599WVrTDzM48/sJZkycvOuKY/QDdXsfVtfim9lnEh+N38BG9exEZIa0ewajm5Vf\n",
       "ZdMLJ+7fmALoew5VryYrVmiihoAij89dpuHALU8ELYbnlrf7QXAp5Votj57ccmXtosO3an5DbERn\n",
       "EEQJM1Iwqh5e/pJ/R2QMEFIMuQAac/g52x3WpPb39tlb0azRtJ3ZPHLmjtVbJCUn2O5yNeo6DvuO\n",
       "rBL714R9kcPJ916HB/IKAw0gAAAAewGfJnRF/wCSkpfoxwKNBlRQc7g9q6wgBDQaqZH+ehUy2fAl\n",
       "9wrXGxXKTXsANxtpIk5iIIsFiTsYTRO3NsIu0Fkc2Q9yCfcYGG3GQedm7gD2LS9nSCIh7k7lK/ge\n",
       "UbbMfgNmcz1IHu56vCrQ+Rat7t/UChn7TWjW+W40sQAAAIsBnyhqRf8AUXtmfuWevhc2obbUovR6\n",
       "zs26vCq6HKFyfDkw1BqN5bEALNGFNV02ig9RzK9/FWCsHuRbCSn/xM7unDJVsVPMhalKuJ7mIuFF\n",
       "Laxnk9wjnChYKJ7VMXtQss0CPgVxsdUqglDKrguY85NKInn1oMuRMzgrJzhjbKHjlkwzXqsm0M+v\n",
       "uq9IAAACL0GbLUmoQWiZTAhP//3xAAYn03c/U/kj3AENHmkYjUV2JjVtVHqZo4PyLPz+BGM47dtN\n",
       "FmeJp2sTUTodpZ0pJ+qg6wFYK88UybqC57/U9NUGB4p8JTrkZGQuefsjp+h6ILh7S4AgEcMOfuch\n",
       "6+MDyCArKbyj3/r1Jc17uVv9tkzhJ3GQWARj7upgE8h+XlCzqlHcfYWZEureTr/3nRqk3oEfTck0\n",
       "fVSO7yeQoi5KSK+I8Kyj4hMaXBfbba20iaB8leXcBUA80KYluzCo4/UIL0sNTef8f/Rz+EGMvtXN\n",
       "/QIgXuU0VXsUxtIVXT+X4XAUqCmr/CbGfQzwo+T5RY1+SLYU5625cGHwLRSi2nioLa3+II4rxBHh\n",
       "Uodv4lQFGDBdkI9OvTDmSebW7wthMsFVHccppNUSek/IP8JhI95PcPPMqQ3bigrZnYWAtMNSYH47\n",
       "fx/NGlE0nvcnQW+ajgS9cGlCBryYjsfS+tK67/8FfRj7g1ZK3+GralGJTyxdnaEskrQgR6C6LAPh\n",
       "KkXmBTN7rlprG20g9r544QZXITdzvrgLlgIqIxlELWZvT6m2lp3GdGlxYjlmB+tBSYd5pGwhAWia\n",
       "sfHs1pFKTVh19QosDhC00OvE+QIP6FrIwrwxKUfDX2bVBB26owWJS6dZfkAdQ35dvaY5GlzkDaXO\n",
       "0ULus23Z2pmQyaqQTpNqucHnGigGlYSFz70TNAMTqwnHCI7NBtUZRVFs/J3orM5l+U1PpuEAAADR\n",
       "QZ9LRREsbwA50ZhUfzaS5wZ5HfbBqQkOgT7nvwAToCjspe1B5QLmsUDYscClseSmfCns7D1vGNqX\n",
       "wgAYVMxMMb4uCeVgKcIOEGoV7BPqA0kY29o85wSCyHBdBDTrCoFGe2WAwYtJPkCzgW66dSjX6jvz\n",
       "oGW+wFp6JstD4Lwf3A1BuHOzPXQvQElBY40Y9Ua5713a4zAXr1RihLUzKZ/zwwn5wPxxOsiFIJ13\n",
       "loYXGga0tr9dnSnlUNNkbVqs5nXFm3aQY+sLdH9T+Yzp9Y2SH0UAAACEAZ9qdEX/AE2I03PzSdpR\n",
       "3w5P4Q3nW06iLZzKN9QXl3chUrm4S58lBTExygg+TewA2BkXGIm8ft8zodERqCiCs3qCfrcUc8z8\n",
       "0BDksjQf++Ems7UD/vhvrYzjT4TwsI0JVtjKxfzv8f77L8OFQo9ijwaMQGC3e+svwQGDr6DZZ3vX\n",
       "La+RAAAAggGfbGpF/wBNWNlgLTadMoeV00JG8GHQC7A4PTsjks22vcjA6yCLEhA7aBTtlgjoNQ9+\n",
       "/pH02CbbHtwAqU/COfACn7DYDGHP4ib374A20+3Pmtd9DVUctxKLk+mbNSSFZfOgYh2LytVT1I0A\n",
       "Zd7vCASDpNTqwCwsgXz53inT6sDTY0MAAAIoQZtvSahBbJlMFEwn//3xAAYn03dE0MdhADcNn35r\n",
       "qG0PmySuBvYJBa2y3ma4JLPJOdVioYMD+CcfriygftrN6VFdtDELPQFnzb0S5TCxovurwGGo4oiU\n",
       "Rivo3n2yj6nCuFqrAPuKIizBTSvP1UHCI8mwDuxm5lrJVRRqCDYZrNOk2cHWy3dXnqjT99yyK30w\n",
       "c8yFmxPgvQq9y2jh3YYInzZu5UKUg71cUVsY2zZbeMHFTfZY5IsIrI/te1/I41mK196u3MJwRK/9\n",
       "SVlBtKPexeXw3rTPZK0RftGiVv6XaJ1nHOGXHd+PKM8Oh1YjmLIdl8efKUPzVrC4y6594tBVpwNn\n",
       "rF33SvddjLVMTRLratL2+qiKp+vDNtBKRzVBsvsMNBf4cp1kVHjvd8n3NNuAr6BtD4wWS8mjgIkY\n",
       "DCRlq/7ixiWxR8yQfJVVdyS+KiwqwZ1Ac3iOwngQ7JfE6zu+m7Ry7Lk3WOgMptu7+Y9eodLwFPam\n",
       "oqS1gE47OPn9kDkelXbBZfTfMCHkGRedepsRo6BH6Q1cwiBSo0nHPU14ip8OvFouNQ2ujQ7mBUNB\n",
       "9JhFlejGlNF+0XoNI2YeTF8oW8VKFqSAaLrLIqJ7CKqahkpq4KMBlFjoGFKvyMpTK8v4BfSdTfn/\n",
       "IAxhRIzA2q0BpEr1sxFxfWKVOYnnO8TRCJoy3xhSly90cVWh/RK6Tp6Deysi/O3zc6y4COzk9Bvo\n",
       "zevrmWNS4WFAAAAAdQGfjmpF/wBRxikToVxcygA/NEEy8/Uhob3AjFPtM2vnUfJsgsYPg+p5dymC\n",
       "xT7a+tUMUO0YAEwqguilUJLreNt6Y++KGQHdwpM2GWX3SfJETNvpQ8HHcEyZw3oMSJCRAaUpUegK\n",
       "/G6zlE33RmvRHvi+eU46XAAAAlFBm5NJ4QpSZTAhP/3xAAcb03bIvCDMlX8nl1JdGVo1ABaVHZaf\n",
       "Qpm/RovS6wH8aa9quVww92EviX2coxcdfdiBcKf6PPwnCPi+5lUXjrE+4MOLogtpJnBo5bKhlomP\n",
       "KZnefjcZlgaFIeLLCTsXa6RnbSa4mKNh/o6a11njw9eLtJy1mwOtWaXQ+2gTEa3xPmVPV/LhNfZG\n",
       "xQKWVPrGDVbQk11uxf1qrUxUqFW890LXkQCbQPGu5qaDPwfXKA3M75NCj78HKoZSAORv0xfDH6Rv\n",
       "X8Nt6B3OJGxou1cdoBtYfWuvjihBFfFhI9+Vyus7FDG4VCBy0xmRoLs1aYPZChixSt32Kpr1jv5I\n",
       "JiphaKdkrKDmXPADF4oUVrukhDfHnblgoQfVS6uFUpF1OJAjD8hQbzOrT1+jZhSo1jQu06WP+dH/\n",
       "4C8Am8C3j/Pm1YX+hV/IONend4og0v8zIAv3JQ0d6/8bHkjtxfGMkHReaG0ppAbTrt23eWgypI/+\n",
       "MLXC7iYCuC3SR4VhaoEEfkyVGU/2mZtqh+TexWNug9+iirZQ93nsm3SAHe4tT6xrGUs8P7o6E5Ic\n",
       "KRJyCwkPGVFJB/c3/JUrxgQMph4VEIjWGZ26odn+vGSSdLlKEy7xhicNr6wocxKwHtH4mXR5g4SD\n",
       "EL2sHGMHTAG3g3UcfOtvazL/F7/rayi/LJNEnijvtt9t8FEMsKHwrdgvmFDmeaewIbaqwqjBe2Ar\n",
       "ubgNbLocfEK8OtnfUd0FF5kx66bm4jmS3AuDq6Kn9tMcXlx9+WjaJYvASQAAAPpBn7FFNExvAD+D\n",
       "C/oAWrGUQeSGCrQbQbkTRvCUl/vDKlg6Oa1V10PqBtBpBCqPYfbuojbBNJExdt6ISZDjQPXCwtTY\n",
       "8P5rr8OfTfC2m6VxfIckyFHhMJ6sDNJDlf4BKYHqxnMKFOGAfAAKP9qNG+vwkh7+P3X5CaPwJeMm\n",
       "bY+N9Ug8FKjFtm6JkjyJkzZitmZxFKE+txmltdofunXnQbt1p/PIbujA32793Dq9cJUIjknC5KL5\n",
       "c6WB0pvsTRvRbZkfcg3Sfh55v3yyCyqT82IksJa7fbsUXK8K3JEbcbP4Rt/i7OH73339oN/r6nCU\n",
       "n1hx5WOkJQJwsYaAAAAAbwGf0HRF/wBJiMENGz1hSrizq8tV/fm7AfCUTnKIK32y/BliL1k/vXPV\n",
       "0SG+h5+jABvxIX0HFHwZzWbK9knBZFKBtU76rZnwCiCSdLPupT5h1j4jxQ4JAxW/Q6ALJOA4BexR\n",
       "jYjErrdD1o0RSKZ0zAAAAJcBn9JqRf8AUfNGq5GHCq1fgDk4AS/LkvbCDZKrryTa2ThjWeMYDqah\n",
       "Rbjy6v4XeFTTTA2pwbVYOiN93u5btGmbutKCy5u31FZknTilxmosNOaY669hLGLBKEPyUR8zP8cl\n",
       "1QS0ttzxU0oJkmzps1ctrW3p6/Ae+6AdMlQsp2d1EYAjJVxrA3/FkgjoZn1sZLH7iz32tUA5AAAC\n",
       "IUGb10moQWiZTAhH//3hAAX1DZ6AFQ8B/ZDyZktnmpYGYWCD6gT7dQg46rs19cM9rlrHRGw97xxl\n",
       "vaefj1qmacGc/gQ/F7gcwTE+R6gZ1Nzy8UJ42t9eOe04Fes5CoZMEsjx+U1ZM3CMf+vfohVV9eXg\n",
       "8xSKLE5qKXIrqf/5JvG4EJsJZkKtowcIRU0LjlAHe6WOvHgBXBj7c7PXVvu+R5i0t8d1GhknVRCg\n",
       "hoCjY1Pf2VU5EQ6swB2m7xpRJc/776ltHTwGqFPNbOVPkm9fTFBoF8mmRjbzV3RFFMqab8mushSj\n",
       "U1q3VElQTRwPspipbii6G5278yPb7SKQ8LxF/L2rLTpW34sfDcEoaNuoM75MWtuN1Notc1a7RT/E\n",
       "suoQ4H8TJQlv3kxIW1w94feOvE3v2NllX2QE14YxRIpyz0Y+02c9CMHNyP6Zv8UGZY/V2VGWZ/Hz\n",
       "3iRHRYgq18ygvGlycCVw0Noiu5YTTxixjgN5utb/kLJ3nrwVBd/Nw1cd/D97FUA2vSI5tfylXBCQ\n",
       "C6emT1xHZxWuQSxRJhdHhdmqdejyX+BAq11XHnqWXqqj5zbDhmQLOi+Ng7YZBUf0G3L4TiEgpQQv\n",
       "rtqjyUcylLD+JTCbiHGUlTx93LVHprQNKHLE8kmfchmpzvToIxcOocaBuGixVZGLxTm4w2+XHRya\n",
       "ewNB6kUzZvCGerBPKjJ40zaA4jRu1al14vWMNHRMnJnBAAAA60Gf9UURLG8APswOeACOVV2K7sM4\n",
       "eJTdS9iJG5O4F0FAJSV1E1PQLQsij7y+DLVbWL4YS7qELT8ox+jbpx1TqZVBrzy71AQW7dNZ8May\n",
       "TRlc3FK7v0+ByfNa3hhc2zFOc34zzJUpn3AaZJeaiLIgHHTfCe0LOyZDD5f3j8Pa9Z3WniGraP8x\n",
       "Sl5QXfJbG0p2EhSTyp7YwlnqJ4wQ6MA7GngcesFXQ7lhaBU6f8Is37r6xT0QePz2P+oaQ+643Xnh\n",
       "tWyaiP3NyIRbZOZ8Xw1gsu9EBTASCmPQLafWJskk6dt56VwaJCxpb9iVMiEAAACOAZ4UdEX/AFIz\n",
       "a9ACCi0f/7LvipsXBdalZfqE/Rnn6ST5xgdaJq6bIlCqYRN0GsqgtYlsMZ3TifwVy1hfQ4fAfAwv\n",
       "GVK1XUIqaSiyFgB4N3cKgz6a95zA+F8pru9vGpudzVJtz622FGDZ1X6hwLK7G9FbZFNyNRHPaDT+\n",
       "n1/qaNbA7ZI0vZ2i4630Belc4AAAAHYBnhZqRf8AUfQYNn9+yr9dt7RLSAAG0YHf1qTfPOqkDefj\n",
       "0T92iBNEDqcw65IuyTqyh29kYs7daJv1rp12+pGAkQ03LelCU/XXE4N7r9TamoqqBkVKFHOVil4j\n",
       "6Y2mrhrWKLlCZkXQeVdB1N3Y9BSDyXjiS+PSAAACBkGaGUmoQWyZTBRMJ//98QADtB9aCAAVq3KM\n",
       "zc+KVd7s7ICbTKFW+UPyem5hAkuDyA/zjdNbFQ3DRg4hG+d2Ws7Fp+QB/bEejzTAwJwMHRNuc886\n",
       "CduUtmCEp/vJWFdxaEtP/U1WB+Sfg8Kf3jg/xUpKDAgXO3OvE0fwo64kRzPaK5pENUe6qIlB6KaC\n",
       "XdmGpEt2RkgRnmq1mslEMNUjO0n7gq2xgB4g8uszVPOKT0oIgkQ/LUVXdvvVqnWpAs9z9hFpxoKS\n",
       "hTiJO6Vgd/7vyUDWHV0FTpH0qgUWUio2N9Ee5UB+yuXlW9OLV3JDXAGJuKW+YDBi6wNLUjL34OJc\n",
       "3A7iRLGRmDFv5ueyeB+/TAeFMUCfg0InyCXFRSSGbqOI0SpEnfzsw7fmcTcvdZajv4cQSIhqrNWm\n",
       "3VNJ2EqJIzkXf280jNsg7I/92X+wm0AvsknjgB9C+xcMRAV5VvljICJG98PKqnSVTXo5Kl81BDIB\n",
       "ASRBgnhE2x0e7oFePyURe7AVQ0M24fnFfg6JVW1iaW3kP4G6q7Gv8wZ/PCeYap0xG7Pm3jJKaLGH\n",
       "bohZgSr2/BkF71wwIGkzwi+TT/1w4yWd192lyR0RN9RRiNyGZ4ei4s2NdxFGfbXlMyo/FRdOXE74\n",
       "NkxMYZV2pOZhpyWvcT7dE/mNJPrhNPHAHRRMl8shw6zevzPVAAAAeQGeOGpF/wBRm6MpYLnAAS1Q\n",
       "Sk2TwEDf1P6lIffjjVEsrnp9wzGwqkCZE9Xblaf0x7uzbIbazo80RPgqmg2pwRd/JOyWQStdKwL8\n",
       "/wcsBAOcgzS9GAK7ZHNlBhT4qY5H4I62xbhvzIzdnbdKPuJqpXpjBp6WtCNJjGoAAAGyQZo7SeEK\n",
       "UmUwUsJ//fEAA7fNgFABZ8PWwSlkionNUgrfwjsQEvTpT/hCy5sujxm1IHmdpitrWJQqTW3Prlgc\n",
       "WPdKRXUTp3PwGRzuI0XlpByY+yTQWmbNlTP5v+vD0X4jZ4LDWNK+gMmgAOhlSG+kK1r3+cQeR85s\n",
       "R5/NAtbbrN7iKzHgf6vCnsPQZ4sJIN94yRbSke5Qzs2D7Vs1ygvQajCcjTGaKCQCeFUrZudrV+Ww\n",
       "aeiTujIcxu9GB+6X9W9cOrlQC5ji95oN0PcmYura1TTYYciUIcs2EQHKz68bCWjLmR7adE+8Ix26\n",
       "HQ1tJhfZkmXQLmW9YblK04QUDLHiIT3zIA3n1L+nShMWFZgKLdJumlumzGNO2P5AdnZ0r/ZYgrfI\n",
       "B1fktPUct1eJmXI8wl+ZDHtbcwYQOvTcFzV5L1nDPeqBKlnQcR6jEDHUuo+9Lmggy6HMpEGuYsJR\n",
       "sk9SC7X4kayYIgIE49p5i1DB89r/zVpFuntl0EfJA2LoIjj5BLXF1L63q+NsyNinxpYxKhbQ5P79\n",
       "fC3Dtl4YlpVBQ+JeM2iaVjg6Jg8qIQ8s4jrpSkAAAACBAZ5aakX/AFH0VCJ87/qRc4hLeoaZ4Qlx\n",
       "+m72EIZJl2a3DlGTHfHDX4SxwVxeg/swX4X2LgbuDgBnzM6N4bIx4ofSWj9fiB7wi+5u6sLAEMfp\n",
       "XzrvXhFM/CPLHNfjP7awKRsVN/tv8GcNfKBpBn7WnA0UUpnshcWaw3ZIbb/h0aiBAAACSUGaX0nh\n",
       "DomUwIT//fEAA7XlQZr94ALRC8Sm6xGk3ia5vGen4J43Mu+Tyl3zGenosnq0OrSJc2vL4y4+qZId\n",
       "DXFodO892x0eQRyR3JK/LHk9IiIm2yd1COITsnYlw6fHQGCXQhkNcWzXEMQ6jlrjxAjMAfucXzbg\n",
       "MthSjkZ5bDs9yYoNaIbrllPEBmk6tAbhx/AFurl4mdVVyqmAcRt+7dcD4OgErA2pUp8ssqRU7QGF\n",
       "GlVPPwNN4+DIt8bNX5XGtJ77bvw0/Eg4+lmSRnjevUMNv6RGUvceDAbEJdoz4o0BAjyss47aJY6Y\n",
       "dCuqbI2tA8KmpMI18DcteUZM3BRPpJsxgVVmGmwYeCIJYqk99a6jnWwM8EQYsiZu2ufrZFnu6U+5\n",
       "VIQ3lt4mBLtukYTRMI6qmBrGqnnXJ2U2cZStwnhGEW5PtRRjE3bf+6e4BEHsIyQw3nP8HQuoHyr5\n",
       "ltXty/xLrNqy0OhPsrZ6tRfvsjCtSwPaBNiFDBhQmRuGms5J/wk94ZAuMKGRJEOb6urtpPPa9JQs\n",
       "q39uycnmX3+VUXnXLB5sdLQGcWMxOJXQ7/KaXxAo82+z365ok6muk+oBABxWFHWNAgt17CP3qVYy\n",
       "a5O+o6joA1/tDykO4ulbWmO+qBPU4U9lqZG42Ey52VuxJpUT56vn3EdwbrkI3kEoTKZSV3JULw9M\n",
       "F3Vb4nvdNZmKdvcZvm4YTEOfdMWrD6+jyAT9/1qA/xFXjXG3peP0tguGESGOEhgK12Bofy5JmMBf\n",
       "OXnD7elzOSfHwAAAAQtBnn1FFTxvAD8Gt3QZtzskd1hwJqf3Yjqj5WI2WrCFD2iDiQrLCT+spABb\n",
       "Ml205pS+7zrTo+NTif60bzRUtFmS++bFomOUR5IHbG4E4qYTUpjXmw0lSrt7iYyDXndi6U/l0zC3\n",
       "ih5yK2V5SOlILeg5m4inUfOL665dvcrJYZ+dDIduId2Sr1pPsp9zvzoXKAQ8iuf1gKHUNZs+XX7D\n",
       "jPcwGDznM9e8mO9Hn1mYQ5HF7o+9R1TcBDzx1tfpeceiA4VVGsPEOE3jW2KzM5SX4lyMnojg4L0B\n",
       "rp1kPa+HaOKEfIDma1dk7YpKAcT4Ot2VBXrDQh1SF+PtSQJShm4AxSn9fbufJESfIloY2jkAAACf\n",
       "AZ6cdEX/AFIEYgAG0y1lEPsO9jAXlU8VCpCyhqjpvTNyi3XTbvypvvv+BncqdjSBa/HNfIArP6ev\n",
       "IgOAjW3IxkzAdUCVIQFhA6aUVOeEkMVuH093lV5ZrqWQNIPwesNu6CiBJThaDtmnuXxOFsnOKuFF\n",
       "xVAXEIsq9FV8GyUhqzxhGAkUX4oRwtvDj1Rwhf0+M4ukVT57Wa9vkkUeVMDRAAAAggGenmpF/wBP\n",
       "hf+49AYwZlYG7ewik3fiReDAC3dy5Ijxx/rBNZGGWkkP8ZKeN9BKPYYmBVXueHAW/baosIn2Ake8\n",
       "HG1jo98VUWPYetxJio5gRFiGgdAj79gL3q0N8Kg0gEd3PJhx4tpxIdQjYOvGXMPgySOExWZkIp4B\n",
       "+DOamt6jjzIAAAJqQZqDSahBaJlMCEf//eEABfoCXfRE2AIirGauWz8GLQSZ0e1npOHk1q0anIra\n",
       "HHdl0euSQ8QnrYh+7RVDhyXG3FAA4L7iT3Og5y/t1gDKyRREc9uZIp3Gj6PZFFX7CZLrIX99mX6B\n",
       "YzAhBoxaeeTMLdH5cIhe+f3ZabGLvU0TKSiJd7hlQvgwNHSJgLDzjHb1aps59zJQQPh8mFMk7ETC\n",
       "XI6FRRY0H7NttTzs+Srh8vB9sNSHgTVrdSywuG/0VD4hgB+DgpYGYwkM8xZDgpc3mxRsnLkKbUHm\n",
       "kwYn5iT2sv6atosUmjcVyBVgmV/OVhgGvCPOGhYMVasTk6nZ2HTyQHNMvkeEHzVQ+Umm2Aql2afw\n",
       "KBaaEwnz3avt/gb+9K1iud6ZXZv+KbR3r2sxK6bEG9/nVxw7A4h949/6wXHSWBmD2lyy11xcN+aV\n",
       "AdFLfywn6VQZ88C3gPiwDA974pjDr8EuJRwSwvHseadmrIGJEK0fg3Nk4jwZJmP5YEZFWTYyZ8Zk\n",
       "Doo9F+vK/crkx7Ja+0W+zrx27LoFRVmKUIzm6PvdQBYw86RgyrroDqim9o9qF8oJ2wU59ACY7MWE\n",
       "idn3owtCkNLCl2wkFpr86m1ckBnYwFfi58Kl8Hrn3x//gfITyl9n8PK45Xo0fZcinMjM7DtBMkPG\n",
       "css6VxeZIXHNlJc4JvLh2/s6SYI/F3w6l6NqCnCmWgmYwQOHUq3a5ZeW/fpijzkFG+t1M/ms8Niv\n",
       "UF3Q1IdQHWr6IK8ciVcVs+ghza+RGAmbBAQcXlA+dRFt8MuvNl3FsKRV0BaY85q7sqSTr8sBoaln\n",
       "hetnAAAA7UGeoUURLG8AP1tLl2gAJaz5wznByjP1Eb545UpjDd8qbs1brPvIJgOLyq6DopKD4951\n",
       "ystKoYP7UxZlE3pwDLEyNBe8dsH6rV+DTxiuqN4M/XxhuQ77Ub3qrZcLzv/F0mdJ5C91QG8QQeSg\n",
       "YOOd/9sIemNIIL1LqvPqx4cdgHX8j9ekkJz+4m+vVieXdU6hlZLh6LknKXSRRp/iMNXyH4/nLopM\n",
       "UkNYhf00Qr20TMX87kjS3aXM8MGbdHxobQOqcMnTOTfcvWCripsNE4ZIA5omgRGzYYzkYwSwLFy1\n",
       "xCcnA4bfrKioDyDps+Hc4AAAAH4BnsB0Rf8AUf/kqUGpMXd362LfQMzVW/DGFQAqqX9hrJ5HZexh\n",
       "B7l/cFRHvkm2aLhm8uNrbx92K91VPuL9ULIDYSnPqPcQ5QTBmFgdNaxHnlSUIZ2BXQ0dNeDCxuoM\n",
       "N/b/FuiKymlfo9aB/r/klAqFbs/GW+++aGLGm3JsWtkAAACBAZ7CakX/AFGboylb1IvVikL876eY\n",
       "DaR8l4H7S58AIxp1fbC4zFqgQemMX35/wWzHhk4k58StJr+zeTh9O2TltvY+qp+is0o597kRz0k2\n",
       "PYWdgePMw+paVzlNbYHtXRV6QP2R2VzTbNFLjUmhIoahJ8JlRxcMCB0yiuR7avgOPmrxAAAB50Ga\n",
       "xUmoQWyZTBRMI//94QAF+I1iMAHHoETnPJCnWTGvVOt/9+jjx94FmwxjazbaXFUP7zUi/QRpktQj\n",
       "TrhSvjCREduGVUbCJs8yaZkUMa5YX33C3R7FLxZ/e5koUC6+Jqis6x70bf4+2/HZTOVdJnY6KoHf\n",
       "JfmKZ8HV5/RT+DIlZWGzHhX8QiSsdQsCWvX6SYwksjfp+reSwvGOegteNumXvM9vxgEsRwtj7Dn7\n",
       "tB2zYbP4HIwF90YD26F1ym8Q9zJAfge/OBnRyhJu5+SA5W53lbzFvhX0BgTt8ziVbVcdtxoxxBFU\n",
       "3clm/I/YLowNEsGhaW4uqTqj0Yjd7vt0i3K6tp8OCuKPUaEmRyYkh3RX+kJeVIAk8pnKpYtvhurC\n",
       "kaX4x5WTyKsSVmOEn92nkx5XRoAjHnkrlGJpghlxdPL81X394nrnGPmod55x7Pv5UtqOLkXKtvjd\n",
       "lmwu97urKmxFrv5GEfzuNJ5coHDGK+zUa3S3h3StzP7I97Vd+JKPug3AmuvuWK3nFsljV9698QWf\n",
       "CaRJ9EQwJAMa0tL8xmQMEOdMNaeYKhFGqk+eQpczlXxyrxg2FvQlZCPtfqLtIemSgo3zXAyNoLHh\n",
       "FatwnGuXlOE+TS04kGcLwdh90raSB2tyNn4uNOgAAACFAZ7kakX/AEtLsB4Z7yAoJmHL/t/XuEpi\n",
       "fdACwLIvV2H6/fO2E3LbiMU4VnvmqeHKBjUuCvsxhwsifAVFFWg6vabQ9IVqbfEQmsJJE6hvi6WA\n",
       "zg0dZ9UVUJzfsESeAZvClSJJ25Px041g+b7h4lH9MvJKA19hSO0lTOy1S6Nbr1zwMfr+1AAAAf1B\n",
       "mudJ4QpSZTBSwj/94QAF+PM4WxfQAsL4duJkrpuLBG6WFeWVSgtZ/FCd+M+Y8qoSgp/P60rGl6fY\n",
       "Dt7QNMv+JvBEYarU3RZ8dKL/RgfFY4f5a42kVYQGulAVbrIyyj3DjceSCxN/5oWzgBeJ7Z6jHX32\n",
       "pvGA6RkFrzTgypZ9hQTDRnOWUTtnPT5qaUCB78WcGi+ugJUTiJ8HnxDxbmYOKREDP7vebP7vW5dm\n",
       "WuhvdDmmwDbEsmpGSXY6Ys2p5S3QWN3ev8JA1yleR1XJirSKPCx04DmDjS8W1W2f2KGMQ9+QEF61\n",
       "+Wle23abs2asVyCOBXdBk6ruN+Gv2LAIXL5Hfxfd+SgkQ0xWRcwkjh5o9kZ46ULbSR20LWJ0t4ff\n",
       "AyhaNTn7m6+I0mcYv+XFEEwNIilgibOfbygvy1ED+WaWszOdZKCtl4JgEMuh80eqwP3QKg+5BYxo\n",
       "2PaIqx5U05JPJiylkzwIYzA4No0A6wj8bb2M+8pmfoMZjM4CVt9PrOJV3JNyzYuOyPBeQOUrRKr6\n",
       "QdJYV2Y1tpWbpW/DNX/ICwJjPfqTG0peDgBIfk4l4BP0SIrxptPYRenWl0qA8llIz+CoDUt7OhqS\n",
       "uyLUg2dEJ0zEF5+9fOv3HYEZKziTKq7w2bprUJbAn1J+Qvmi+hTTJSSLxXZEecIAg+aIgQAAAH4B\n",
       "nwZqRf8AUfNGqKIjGR2E/nYf502zNNkVe7CFieMaO03jWHGuSlzZKK8vCfSPeeNtWUeXU3mM1jQE\n",
       "f3CcFrEvVEI/dpb3dVRyCJDRCR2JLLX8vzEAQZgmk/HZa+YI0RS7T0oUBAaUVvSI5nrR5PEegawY\n",
       "53cPhUpanFKBIMAAAAGcQZsISeEOiZTAhP/98QADiHRIJuDgkWqb+L7yb/UNrMqElFEXHe0vsMir\n",
       "UNR24LMBvdK4gB0ehTWC0dJ5R2p1i+RoMRSzTFzFKBN9V2hpvNJK+iK99E9XRFIty75O5l8nr3pW\n",
       "WBhzlMn8xv3Q/x9jerZNcKmvSsIyvoG9OqhzfMOYEgYB9+6Zhg7+CTgj2oUBBVvDTuh5zOt7vEH/\n",
       "CQhd/RsOtnSlHtOzIKOjbYgckNhOKSZQRrLgOk253YV5xxkxds6bhqd4L7CEuJmwjqzsK1VVfS88\n",
       "J+CuYHvc4lBbnOxudnCCbT3FnDb8t8v9Aoltr+R1FLc6GWTKGe9EnUbGQ01kYeR69/f94Y1vtGrQ\n",
       "IKUjOtbQ8IufwwKi9GYMQLh6JWZOr8EvWaHJYCIU6AaOWW5Z65h6V6YmKYZZvZKh4RYv3HYklbfr\n",
       "dA8tfBaXGJ9rMB8jGiDmW4tRL9Us33OgNgaJrY0+7Z4vyfzjaW/vYlf454+Uo4QmfE9/3Ey2ecMr\n",
       "wUcl7LXwA8BaOEP5KWxZJibu9B7R3MbCYEx4IQAAAitBmypJ4Q8mUwUVPCf//fEAA7WsclQA+4Ij\n",
       "Zw9wNLeVRWN5Q3RYiCVSfcWRUlvUwHyBXUwpqoegbjT16ETF1vMyhA8nO81fXmMoxc/d6LjWAPW6\n",
       "rJQNKJeocIzI/oTnC+z7XZPgiyJNiBrWBlqxNIHhkd9yC6XIw7W9DO1XFVWfzP20kC50M6AE93/E\n",
       "0SVk023QbhxrMJRydUEdeLFesWQDIVcYqL+9hW7GUty+dDO3r73k4s95yJD2oxlT+uxO41IpOIyB\n",
       "L6/hPtIdbN1JzM4RrckYjTkIRpb0ciUSYLYdaqh+Mj0A+xjHP61JbZO3J+8gSBFbtFxXIICLp9Jx\n",
       "T8fnauQdb87qCBFL38A2MssP373sjfC9bVCCYTlgpeLn7YyxUTpNn41kr1JjJw+pa6lvzR5CLTEL\n",
       "Zt0mMzh3erqCdcNcotZZsa8W7cuwGSMfmr5y/ZsnXfIo/gDBsCShUOEQck7pEC8bZap2hWZeEzs8\n",
       "2yKgsjazX6Uzh7XdqvnlMMZCjldC71ssWZHpgceNwGKp2YTf3CFWm4xemAP+NmxIk5haCssaJTAo\n",
       "NgqF+V1FkA6z/mHA4S+e16QpKud+PVj40ZH9nVldTIR9tb/ELdqV1kVC/y6Bm5iXToD0v87hvgqY\n",
       "4NcFuaWAxogZBf03KgdMUSzYQKsXm/3CZaArtHyfETDWmtAz50EcM2iARMdBn6tGdszdTNS4DT9R\n",
       "rl076MviWeX8KpV+HCn6rFgAAAB1AZ9JakX/AE0RhoiBiOzaTXdh3oq/NmGA+V0wVhFxV9G1Q15r\n",
       "naqBUrBRfAgNmR2Bt0zEHCrHClctP2mcnqUHMnewP0W7naXTg913TDPLqHHNhP71Y18O3kDlg7xy\n",
       "Y8OkNRz2lWfgVQ1P/QpBLZ77lfKUj62BAAACoEGbTknhDyZTAhP//fEAA7XlOqDB4Aaf5Ty/sHYk\n",
       "Wp4QQEtW5sRXQCwiDTdEp9jlicBcg+sdW/d6VxywaRUDaEPkPDw2yyU1FeK2hOsLMiIgFxtXQ/xA\n",
       "ls6AaixX3IbZXGANHMyv58MZHwQFGtoLGzMZnvLZysNzboAq1vsTrZvDH1XlAoe/2Kq7g7MXfsu/\n",
       "kmVedPqTyBYarFr+JUWHKSyitXyU2o7jHctnFJWHJZqmdutHWRH7H8e7IToUzJWfkERQhJZPa1Vn\n",
       "AGpakE+6SRqMyEdAi53hOyW1VSYALcV9wL7eGy2oNgW8B8I7/d+mXk2jz0ogMu7WSBs+kqdnd0cd\n",
       "EwpPerhGEn+AEp/9YPsM4BBzVC5wLkx3AFZdwkbsFfn2YbS2MGhoNasSZwkru0RrnJ/32eEvr+/3\n",
       "rdNTJ0zCuY3CGl1jpTfY46OtJ7QWDXeIRpl6wRsT+PowGW0udXQthiJFBQdoKhrwIB37sr/ojjIY\n",
       "VrEpwJe0XSzORV7VPM8CZp3tjv8Efm3XiUtQ0m9THBP4J3A/R9GvAkhessNPddURMVJ/JPRo/pFl\n",
       "jhYDVkLEjvw6V/vuNrjuc6gytCSzt/xJV4R1qIIqDABZBcNeR0ZMMgZXwq5lrPp1feLo46G766vb\n",
       "4MYI/52lIkLsv6kwbvxufuNnGbnEqwPn6F1IWRxpAl/bzhRtgwIdIpn9X83B5MQCK7SFvtdO4p9C\n",
       "KPD8nLddPmZBhHpCy5kiPCVGf9oZC1E4XNt3lsvQ26MA3mNif+vufUxCDo0eYcczwF6vPcuufm+p\n",
       "6Qu2Oa7Y9L86AO91qO4UxRZlEttP9C0Xsyxml3DaRet6QWzxZl8Vx/pEzFMO4fCYOWO62Sz/wS8o\n",
       "+MjnI3sSSY3sdaF5DLf0YQAAARdBn2xFETxvAD9NMzYYLNQAkt6xCd8l4yaCuerz3pBIZjUvAyH5\n",
       "qiutSitYQlC3A/vBEJ9mw3np+bW2whgXznhSZH3cA7lkrTL9AtWspyjJ8NILcwr+TTruSmRXb/bb\n",
       "QImz/GANDJmUA1NW2aLCajbztcvTCrjrRQy8AaCBnJXeHvPZqj/5Md+XFp+OSCPuHW0n7WWnVCIj\n",
       "H8UMyk3PPgik20HqEkYehPP+dq+raW6+0dOi9HHHRJZ+4NdNUUX7REm7QuDbDJdQtW2x/M3Qc+pL\n",
       "SilL86glIUM5nbYA5oVzCabqYLHZ/TFfYfW0n0hU/YB3l1Z2zDrKQ3uedGJIIy2tPhVUBn4indTr\n",
       "xEU+19O8rdOMgy1H6hEAAACkAZ+LdEX/AFH95ZTZ3LIQP1gPdMAAkyRsTGl2+DlnLiaxDxFDjF5v\n",
       "quTNjUKJRcvXtNzEKIHHvcR0QOG3x6m5+bBwPk/Bu7e2Kq73bz1PpFUCQQRvWZcOZME0U2uYXMOp\n",
       "/I8Tx2xyja8CN9sQzH7Z3yJRV4nzq2dTwtOHGWqH/sU4jPquYh+XmoHWbjJiCHdCDY4cL7eJ/m43\n",
       "7tU6oZCM0VQwjIEAAAB/AZ+NakX/AE19pFt6mfAVXWqF+i62v8/KBx6fB1mIlkYlOxoYdBMemHhg\n",
       "ULmQAkx+5ajC/kEZHof9w+EnC+KEyndckKa30Hww+1eY/nNhpqz6NiVPNIivpKxQ5SGs121Jn/Li\n",
       "xZ52muLvXHzuYsMIfTW+OOA7XW/gK5C9Z5ymxAAAAqlBm5JJqEFomUwIR//94QAF+PM0XTIABviL\n",
       "EFDG+veSx0mvGku6trkjyoDjEPP+EUaH5oeHHm9GRrJcucHDjfRgOm3/4qJwXR54ek5nwKH9HdT7\n",
       "eV+zgAG0jBsgt+hmqZ48fIB3RO7sDPHtwVx0bC4nb8S8rNPdpZOyGmhr0+Zl9wLKtXrSwuVMusMr\n",
       "LQRlCkGRr1eyqqJ0+KuC8VQttCqTFepdqOoY8jidGEn2ZHlS2d1mRyeEAZL99649UXKeqw2Rre/e\n",
       "0dIR3iUjxKrA6tHciGwwBLgUO0rNeshGagbjRgHpbqfM+s9FykuOzSgBDwiC2qpkdnG2RbexpQ6l\n",
       "BHVngh0D3Ay/Widanfd4vT/rWDuRNOTRxOFXCSCgT+BaQ9++gFGDurQ+P+RWkb0VGk06lReNKsfq\n",
       "a7TEcuamGKxIsmzd7tuJthX8qdlNsiJcppU1fb1CxwE7uRu52v+aai0oY3lIDIMZqt3U+S7wkFs1\n",
       "T/XXXzw9MeStcilkB41KuWNcoN2IvG0rzyrSEInZaG5tM6Rvchl3senuVLq4yJU73m1+KJLBfUJ3\n",
       "FzeksqF70olTfkTeAvAfz9YNQV1PAAjOWuDCryNQcLhjL9kHEAkzJg34VVQZUPqBU1Inm8MNn35p\n",
       "yM0pP/+tIxqUTMbQGyUqbhPf4VQrwX90YusjUGp9cUGvPI3PXSOk+gbWPSs0j7TOsOSj6UJXAgzj\n",
       "ynvOGs+bSOtOS2nQNgIqlG80DmoEHVcgjzJsL5L55YKcZwe4tNw68W2iZ4TUkoEloKPXU2FGylR1\n",
       "8vCJM2B1iOioehwKwO8qvxuM+EpFy3mz6i8reFB7bvJG+VZ4UN/IyJNLUYM6gGAQzpoXb6l4f0K5\n",
       "pQmaxQLL6jgNLJVyNUKISzngehkCa8hYFwt2QTgAAAEDQZ+wRREsbwA/gwv6ADbh12+r5qkDZtEA\n",
       "PRRPM8cScFuDw0AmjRkBz9RMQKqLRAN7Rg4ivwK690QHB9cEpzRcgWajYkDR4cqf3lygYl7khDyE\n",
       "5ONwYn6xqVWmjFzEbl9IKjLnEWPe8R/EBNhkOGIBs7q5JFER4/BQFRKpbZHxWBfJaqtmcRg9Yu+p\n",
       "kiYwNnSBvXUQ1zECR8k9W2kxFR/QTDSaeVUiEWAZQyNg2o+wBh8xZ4JTsHZikx9WFWw4uHdmx1tq\n",
       "cCMZK/pmYknqnqvx8S/2P13jG7HvrwrxcE4jl3KbIymLo5HKgx20BhqFWE6DbVB4RnyP+IMMWTvq\n",
       "TZ3HUf+i4QAAAIQBn890Rf8AUf/o2lL7vDC18aQCJIpPn/lRQZISrH8UGt4MwhHRKgwLigAwFVoD\n",
       "Tvx2gybaU0BYcZxF0kvcsfehYaHPF6D2rt7gqltr9CooSGadCW1m9GHe7oWqfjAAb0tE3gJ+XsH4\n",
       "2AiuXx2oAUaOTL3p9zNj4+8+vUWyXseWCK7KM2AAAACKAZ/RakX/AFHGKRfsxXEu0ACT+PPsJxFh\n",
       "RGRpOu5ZC2dJSuqXZwLA9LobBDnlEUfkgmyKJBxyvigBHyIsTGKMRISBjyD27I/pF3ZOB1hqgDBp\n",
       "+6/F8uEyiEhCNniHcfXouqEvStPodBhXUV+7DZSq2XY2PrUKRCZ1uw11o54No1t3bMkeP4MHfd2w\n",
       "AAABt0Gb1EmoQWyZTBRMJ//98QADnaCl7lHyc3QJcHamY6GUK+y4CQ7ZlM965m3MMd92vlZ/849s\n",
       "tEeE2cf2vIpcZi2LKsOHDsjYaBgIh78zsiag0FvgdHndIglrjhw7njIcUHg7E7/GrvTEkAKq5pQR\n",
       "egS6bAszN2JsvW6/RdSV5t/N/3xy65xeAwTP70nsl+Ew9ulT1uJwsgRFlDte2G6XG7+RLGVyFx82\n",
       "DTFebiGYoDDUT5PQ+ROySWPc9HPnzE2u0dJjxwfDEPckEenLO+gyUCz8Etdz8qyIPOIvCm/2HMK/\n",
       "m52JZbDUWKJwhbEaFaBjtGkF+yKD2viRxeEB4ZuHDwywVRBIzOzQ60DD9JIqjDMN4H22OHda3AzW\n",
       "iJE8WZxEjopaYpIMpP9mXzniwEriG6yLRxK+puyUQEqx68Tlg7vS3Vm69knO23/JkDADq5aaJSsx\n",
       "e7bmGPntfY9TqDMV3Y03r7TxoqAcQAyH/5p+vTL1ptU5xPndNn2fqNL4wHxi7ZtBLB5sWF/+eOOo\n",
       "JUlasClZYixvrVrlEfrL8xicCbI8O81aXqGSHBfzHt3AEZaGGPXAA6speoEAAACOAZ/zakX/AEl6\n",
       "PI8BKAnQbIITHXCL8HYCta9YHXExfGs3mf4LnSEeLrqBArIbjjNyJek3SV0YkJdOPQg/urBWONf+\n",
       "uE+17X69kNOpwRvuYLvACUnFs0SD9+DDdGm1bXndVbGBNMxjg1eWaOSvmLQc9aVTcmMpHUpAqplA\n",
       "CnSMXS59emWLZrnQj7sNn5ZGDQAAAoJBm/hJ4QpSZTAhH/3hAAX2jwXAnuk4AbLbRyF4L6WR/gCM\n",
       "w61Uqiwj/qhGKEsDkQZG5brxUDnlpd/bt+R/S7hCb933bqOAffCS1e6vWRELbsEZZMPlq+ARCkfA\n",
       "XNb8GMGhcAytoPlQTd06N6n4/9TYicePCzaBck83XR68ZvzedEOEEwNpOzvzBgoCl5Jafy1ay5Me\n",
       "x2OiVrvtfAK+LwTUc9lBMsq+D3VEPHcdU8+XdVySpbFmTp+dHiwizBzRGxc58LexWJG/zW/30gb2\n",
       "RtLxZKoGZ7mbOITvjmlX+BIr4c8m0kaTwg36XcwykIEtBTamoABfBRY3MB5j+o8Wm2lBJHT37uo8\n",
       "MJJjxFBdC/SW4vQUI9xFKQTpY1aSwu20cREnnZuZcxHn/aNr2NbBFO03mRzCe7NqlWHuXtA8KSCP\n",
       "05tX1WIZoV8R1mnqVLQa/1pdqUFaFI58afASVDJSK6qw6eo+9baMUidr4vJK461NziQxiBOH/D9K\n",
       "Ln5h8JPQJlRgFN4IBxg9EjNajiSiuqqwvdcmmvrc7mK9nD/5Cv8lCAfbek17f/ZctUNMmqzvWGcG\n",
       "PU18weoCnTlD/fmC/aceWkBuu7Ji3RZ/hAcB5X928YBpCtR35Thck6ZuBkmenrVtFcgSTWXCWWc2\n",
       "CwhHdMmvXfNhuo5CevxevvCf/X9wcn/cDrpMpiWAKdo5VZJk4LVr8I3QNwYf7409tCocD+UjD2Cp\n",
       "Ym9YWEjqDEZsr1utaUZ9+4O197/bxgURbkTqdpXziR+tuxbMcY2h5qNfk52fsd97DE6rYkFH3WmW\n",
       "vu2zZ4hLLK0CB1jxAl5Af8LazJj6jhE+FHXhVRF8D2rNO6gQgzEAAADTQZ4WRTRMbwA/cnIZ7rJq\n",
       "ABTS90fjUaUABuRrsRaAU2ATSOdHDFvYzqfx/dPddK7ylX5rictWHubbdl+EGsTgsZR486n+7/GR\n",
       "yTvLYtXxvZps0vT49XadiNM3XJkmX30hAnrbSPFB2Sg4sLra3oSm39dlMnHGoxZn3KRgF2eGra7U\n",
       "XQ6vbMYN1lXYVEeDAtghl6/RfSOhSHGVQtrOtlz9KVX/Dc+0Dwz6q/UhgKGEUvGvQSQ0KCoDPV1N\n",
       "aqCUjKZdKrfmMRk0Bek32+gdpPxJr0ZxwAAAAJABnjV0Rf8AUf3ptOwJyd9CwADYHG+GjuIAG850\n",
       "nFB2v1Erbl2l9OGxUEO4Qc9WCAHqxNuAJULI3vS+xM+rtWJFQu70c5BmjW+s4UINWHVF6hke+fDC\n",
       "+oHvoVCHlzBfAuHxGlyP1jYWJZGQS/g44tRatST61PCOM/0lQYlWwxlwg0KB73l+dj3QaxYpAoEr\n",
       "+cAAAAByAZ43akX/ACa+2jW9bNtbAwnoS80TNBWSANRlCg1tZdxLHREfp/2Ni8ALUBeIifi6etke\n",
       "2q+7k7D1OAgH0jGmFWnZwjZ2t16LBUjol50fy8RlCWbL/5BWU5r38iiyZmVV9lEW1WEKjAtFKCDC\n",
       "JqiqAKiNAAACP0GaO0moQWiZTAhH//3hAAX2jwXAQ05Do3Hw7peoxgJl8IZRlkJwlfj0g54AOVXq\n",
       "l7VJsgjsBMyUKSMkBHfYqlwL333ANetVE1/w3CQPZWmGh/8RUC1BTAmUE2pAFZfAb6u88BZT4sV+\n",
       "SAmA4wmBshLMzdZUqnTfruYbPbATwyh0m37hgWVGItzaERxQWwzBtOnUsC3Zr4AwhTB4GJAGVsoj\n",
       "awmi2FU1H+ssaIEsXAksjo8r/FV1Uuish/Bf7Yhpnass8JdG1J9fmQh/UorueuBs0kTfS9FtGW7X\n",
       "q+2racdK9uphN6aF+0NuHmAOZ2P383pupqOrE3wUuOMq4iXLIZVoqoit2y9I48Ee/KV/dawoVk2F\n",
       "ImLxBlt/l7pDhjyfCTLBmb2NAyWZQbeGON/r1iIVehF0AxnNda7qz0VqrAE2b2uDaGtFJ8muzsBn\n",
       "txY8BayUw/YTmXGXGXdINzdwH9lPHyBFBuSkTspuKiFtJCp2oB6/Yenjq+kh8p/hYalftLV2WWyj\n",
       "gRHA/6gluJVG7ov5iPHbjCSseldWvwbwsAY48qLV3AQmESHAZWRCGcrspsMV+rvEPn+xJzHGsD0B\n",
       "V2yZhZYjo5bAnde7+L1B/qkuYhIGYC8a68euChlDkRbb7Aw6JWvJG/8mzyrZtW32oY2taeERPQ45\n",
       "TLvsgzy+iOJlzE4LoNIcjCv15kHKyI7i6rXGz/jBfRzZ7tDq1xUWRBurbAe9sIyXL+rdD8mNqFIK\n",
       "n4JqGVhovb6NYUSGxzXUAAAAyEGeWUURLF8AUfMsHpQAkkIZoAWitFaEKAAEjKoz3YscG9DCfSm8\n",
       "LVXCM8grEydHi5Mc1mh+rtdYfO6SJA/LChrILKCyOufO5WaE73XkNBCZMVx+ONrkuG8ZH0bfNRxP\n",
       "DjLDBp0rdgtysEelpKMkB/w0dt+umc9GdzBisvCPdRSzttQYeUXLubVilP7om/0q4v8iP2AMEoEu\n",
       "e7KnuCnD7tEsQOs13pf74aFjcGJASMSVjEXc05X+85LLsONa9S9oQuww5erpGNXAAAAAnwGeempF\n",
       "/wBR80armFD4AAIYH5DT/vw/nGAFtlIT+SfDwzS82kJyE6nXobdqwgT7LWcFOptGgKL4h5V2OCV4\n",
       "jSeykPmWnnDu+N6R1HrYCJ7mdZ33CAx+rT039uJh40P8diUM3VL1kHbmlQWSCVjPL9UkqabAJn6S\n",
       "ZB0y15O3N8AShZ/rE4qwYgsn8yIUetzi+vvXMgHGa7jgZ5AhErkfwQAAAYVBmnxJqEFsmUwIR//9\n",
       "4QAC6NW9uCgBYVbE5RxXiXN1gEkYDbXb2TwMCsZ3rXbf/DmVt6tBzIsVhsD4zpPMFi8ZFq10kGkE\n",
       "xOLy5p+IdAJ7o1QpcaQ+M5A4sxv2rANho1iFGW19X7dl9BswtEod98VTpa+0Lzt8v+a4IWt6aBFd\n",
       "Mln5325D2pliSIdZ3lNOzv14a3X0zDJDkIHFj0jzs0XM5TgllmuRecMpe13aDP1PDR9IIDCzdXAO\n",
       "bT29uyv6orZUNEmLdlQqg+NWR21LC9xzUk1d7FRBr+o32zY2nODeRVPuzxvfjWXl85V48z3ZTgYp\n",
       "NUSNBwbRmf/Owg/zu1F81rrGCOp5XVIXeM2U1eW7vogt4eeWsoP21Rs9HRJ1Jo/WtOD+pcdvb+l0\n",
       "1INKBjTI0BrvKqDkvSiBMTsBkJtpe/l65g4Vyj0kK+LE/dUa3nLQeiej4nlcZCN8tPI22++6Wjeb\n",
       "ce/bUJmmlNIBwu3zMTEHlLNx/QE3H2mzi5qM1muKLyGEPAAAAVZBmp1J4QpSZTAhP/3xAAHOPI4y\n",
       "wQfeiAEXdjHXWx1JLSMC8jn6GkvSkEAf9r+ApSVeNVD/vkOSSFRU+vST/pZ3iH/Jyqa7TzyX2J48\n",
       "DFEWw8YPsmIjcSRTasfoVFr68W09AYIm6+AtjCKAi4aijI+7I8b99Z4hH5vW5KbKu6J2vxbpodHN\n",
       "WTh+tpoV99vvWKc9Utb83Lnuc0HnbAG3SNrtZTeeIqdVwlVGLov7z9I9J/YEp3GjnAd1RarMWpGq\n",
       "p6UO5ehPa+W3aC25mS8AazVydEaSOJ1xxwzliZwy+pHxpeTGLu8jWe07PvcfH3UNsy7Ph/hjv/fd\n",
       "vc8ewgM0pt9VhSU8U/EW4sangaGxDbeGU4GKIpqJwxGSCAFP3BZu5OLiLQHSYfrTqfW4rTqIKPD9\n",
       "8vZEdXd3LOJ8ozcpc6vRjJhzck9Iq1Zfsuhmw9MdJSwwULd9nAkAAAJsQZqgSeEOiZTAhP/98QAD\n",
       "uf03QVk2PCIykMLcOraMDsTfJeAQ/t9HaBlrZ5O2CmPHmVSyOO6G/d4wYjDH8TVbCQjLJfO2e2Fs\n",
       "eOBgc2SNLbDRnp2awf+fi5ay4BeDWiYF5BDkbtXnsMI9HBzF4/JLRsP+iVEwJJko1JJzw+XQZ6TP\n",
       "jLAr4q3mbB5y3hgBIOdqp85Nw5fcU9uVG4B3dCrPf/ymmFhbBKPUp3LcQeAhdORgFiCkPOKqGmwP\n",
       "xBV7sHa9JqDFYSc42DrT9hP7MSMjTt0NonnTWtwufiFzIG9HI94ZsbKSFcL9M1w6++Ao1dvSl6GH\n",
       "J8neXCS82bSJ5Z/7YnvZm/kWNRhmplWNaCIKWNPg47Myg3RDXn311pZgmtn17pnk8OZN1DztYGdI\n",
       "ahSvfDCtl/AxwDGI1YMeCCJoVn6iU6WXz+wJ0KNIS7FIXX4JAvN4zyEW9VBRcsz0yU4LvFARETc6\n",
       "fXhod8sM6nN9SK+1/LUJSfR3cVvsQmFsILMBdEahBfTuJ1qITTGgYWqs137tkP4GLxG0dNm23iUr\n",
       "q8GrqdkNJmOxCQKXcYsGRhig///1keWW8F27o7DuJ+RXV19sX4w6LVDlnzAvrCgHdLA5QImaJUnW\n",
       "55S4cPjttI7kmgqSrTyvuUz5yqp4gQuhlg8+bziK0gAVZCHhZcHi4OiZty27u/fvwQVGF62Q3TKD\n",
       "FsCnTJacleHH+JwMK5mNsGAZXC8GrMV4kZHJfpQchCEq++h2XtdN8XnSGx+MEqUKNDF3m5p/PFD8\n",
       "FY+dbyfy7TH/CecbwjrLarfu4t21E7Q1OMGk7p2okJ+DjEkAAAC0QZ7eRRE8XwBR80armFD4AAAD\n",
       "Av7G2UDP3u4bnkABv/oERw/5A3z5BM5VjZTVYEsTitZVUVi7Scp3yUSO4EZcjy0PVeuOqK8szEM0\n",
       "yQGHTHeUYgFWrmUoZbn9soXO4UJzKkRtZBUvlg1YzkTKDE1KUITHcPArhSmwRz7GZ+a1qrYxJH66\n",
       "3rL2rLL1pLVHb344LGxaQzQIiumxtZlBl5CeNpXhtk576JsxxF3BRKb0/DB15i+gAAAAjQGe/2pF\n",
       "/wBR80armFD4AAADAwLtBgwNrGhYCT6gJoc83kxjzg0YVOpnMAWrgRLitdhvfHOid3ABrFT6hYQ8\n",
       "phjC1C3BvYzMrVkLIZ0i+n8On9q1TdLbyOG2efbdrbyl6ty0/Lwbdad2ZWb+6aq/r0oj1vf/ipXl\n",
       "JL4AomxTrO+Ikh9xfDXGE89i2SOS8wAAAZ1BmuJJqEFomUwU8J/98QADnclgp3EPKUDoQoCQKnXG\n",
       "YvlhaLUasUsrbDqqf60N6J5XWwiF5NRG+3E739USl+KlXA/yNDuseOjLDMSxNjGnaFrIrUiG8l4R\n",
       "+PDhuDN8zelHHZsKikuzp1PVCCx1sHhHHdc65rXpm4m+LU4pfF9yn+frsB809891EfRNRTP1xAST\n",
       "B5HXq0rpouwp/sS6YkenIBqNpxqqfMyjRmohhTVSj8XIdNrIw8NkafdAz2+YjYx57BPqDiD6QmPd\n",
       "kI5VBJPDQKKWPFQDs3Cbd+2uXy+chLW03JkrpwATlDlPW0q8bK+L0Cjx/SEan2rtIDuGSZI3242L\n",
       "T5zZI0R57KnrcSI3nOspYx5kixqxc3FshGkHrFznTefW99hFymQ0VTRu1dfxaI1KVNMOJDQ10Txu\n",
       "7StjMHAoTypC7TAurCDJbIkeELiOZVMBwYvw912MNol5eBY1QFHA/w69NELuVr3AEUPiwziEE6pp\n",
       "sRd42BQq8lPmD4jVoW9juTwzH+Md35sXeCwBC9Zmb9r7F4uCnDdKgAAAAGcBnwFqRf8AI7wTmhdh\n",
       "fiYjtaI0s+hDg+Anvk5/kMg6HjzEKMMOVopwASjlAQxahUqSUINgNYKda4doFW7VAScH4dnWTIlV\n",
       "IIkS0+oErFe1fYDFSb5Yy3feRX/ImWXEzs8Nl3Ff2gxRAAACgEGbBknhClJlMCE//fEAA7n8lSCR\n",
       "uIPEoM/PS8hRoWZD03l1ZYdx0P0adEiL+vzWLyv1EWcCVSQL/BDcK2rrNGVIkEEcT5S1G5SsgGqj\n",
       "mYfB7ZasfGTutTrQF1u3k5zFkPx17ADNqEnsnTYbw6OUH5DaYkYL8cqgdUVL2wytA6X5/wjZtlIL\n",
       "HdGtXxKp87FQYlqvyvGHFzAD0y2czQJbQJ50VrAjxJUCnChYN+KUqYI/u5b3yyn0w/rgFTbsMqLg\n",
       "azmH1d+nq9x5r6Rz/ATlUbGg/liZ+jQASxYAFSt7UtdTzzGq8LxSg7oE4bgaG69JLVPVseAug/ae\n",
       "C8/GC9OEefzi6sbbqmENTFVn3OXUAEovis6V5jXch8k9OdwObN94Yzf6qd1aT8KCrXMze58P1nA3\n",
       "U2/6U98pf1/su17RhaXRFUUXEUaKb6oLGgXqtVkL101vkC/on7lo+AOkG/GBKYZHg7hoeMLYX4Qg\n",
       "Jgad1PyA893rLdYDBmL1ufYnSYbuZPIqJVTTFcH8/BtE1oKhIFwMIFygRcSXZt2B2lIfht/rRBPr\n",
       "8Y7faxfdztyn4tcyjl4xLwNkJfPIuetsiPdmFVnI1nAVjSUzP6zoKhjEB4oFZnPTLzcopcLJ9ATb\n",
       "Nm94r08fNUHedNDF9oww+ENR/gpkOq1jQjIINWWgZPkSKvh8evRMs5EfZWQLPBtEmRwJQ/IyREQq\n",
       "4v3vz18KqH3hdQon3xU4vB9K+pL3dVkFy8gEXDj9JlFYLVFzvfzzG1ew6sLET2yuTJ2zU4St5wJI\n",
       "9Tel/VkUvj74GpOnqRAxAJuP2Rb2sJuC4eEpS7FxVTnfIYi5y/yGffDlm6BxQLIQuIEAAAD4QZ8k\n",
       "RTRMbwAfx1CtA154AEO22c6LfIQbhc8NNMbrxWWHcEs5xXMJs1U79D0IViRwDNrZtkiGl2Cl1GbI\n",
       "4kqpF+kXM/rcK1uFwtNbJRLd0qrlyrx2kw1xHW/x2oFoJDMhdyFTnNDUMBJDS4CdwDNZqa0R4teU\n",
       "nKgaTbs0nYsTXbDj3LIaqYuZg9OqmvDEEamLq2AjyK6u6INBNXWMFuIeUGGcc/a2zYZnQp/JUvo4\n",
       "3UXfXAuPfL+hyJKoFeFDNXEsP6+UlBC1FCEf5xXZyIgKN4lonKoRNupkV4b/BW41xksnUzrKvJRA\n",
       "qSxIoN6ODeSWKllq6wqvEkYAAABoAZ9DdEX/ACaMPQV5t6DVMg1LYptAF3URNhfkP8uVhD25XzQ8\n",
       "DaAFnEZ49UjtG+qw+pm1KjrDeRqDn/z4AJTLeKupD5qpdTz5o3Xif7/svAjU3Bxibk97s4EOGZN1\n",
       "D3HpxJ2hMfiS9PAAAACHAZ9FakX/ACjjEsXLbVKTdjHjwAEqDaeimuxr1wtA2gLBvzgCjz21k3J+\n",
       "ucr5K57FyC+HjRQ7V8XQvjUisp3oEBrQ+5KjYNaAPa/vDDgLiViN13St/J4ydC0lPqmTGUg1hs1E\n",
       "7z3RZq78YG9IgBBMLMM46X2FxVlIs54Vv0nc742DQsAKyoVhAAABzEGbSEmoQWiZTBTwn/3xAAOH\n",
       "xc3P5esN5bMjCoASnHT8L13XsXsvrT7YJi/BIdfOLVMVs2s3QU6Oqa2xZrhp5/BIW/QLRT0Y3+xN\n",
       "PbYql/ZMd2+HNMcAuPObax34SK6aXE2ru0wnWku7AvEsOWztsxFI3m1KvYRIJkmKKyvNg2NVAi1K\n",
       "iNjkbL8nF7HlvlgccPBPQYXyteSpKeztbl9AvewhdOgfyYJ1ODMBisjTjeZ+vK7kXvm8MzTf+gCj\n",
       "M1zfP2Cn/dqo2Kt4kbil17dzchSp/pCo961uPjg8Kg8Gibs5gWn5Zmq+jvdPmeQ6k16SrI/R6jJk\n",
       "BMmFHRiEYwJMvGUFJ2ZUeSHgxGNEQq+awyQ3trahdiomL2wfLMUUBiJMRvsLcojY1/GjV2tVA2yY\n",
       "iGP4ATkPreoWTTGg0VZbLN41/kpfD9XwUTt0KCLWX0BktaC+N1C9QYQ8ICV3htP3AUCo4nzT3Vt2\n",
       "HMLBXzscx5IQQNrS/jabpDiREaPYWblRIwp4UpKi96qmnqWrhv3JqOsaiHFcrlOcSAC+KUChxtT3\n",
       "zHnmc2TIcoft5sX4t4NueUkJvhPaTGuP+64+bt//it4ugx6MO0lfF8XjqggAAAB5AZ9nakX/ACKm\n",
       "XPrUVGST5GyugLNXAjX/2kR0K/pZMkMiBrxleeco+9lY9EQUWjUWQWFEdlyrpTiYNwG7Fs6xCmNa\n",
       "LIR47isAMWZg014O72FQ9mY9vYH8vme1JrPafnPjhi6/bzqILabMyz0KK2kX4kAFoW05G1qUgQAA\n",
       "AptBm2xJ4QpSZTAhP/3xAAO593pEXeX/43iRwYULIQ/SKtfFAlAeDFdKBm2nugVPEzX7FaNfrqtf\n",
       "V+KbXpP9UyzbuFrLiZhH4mGSkNo+05bKAZCU9TDzg009QoGEY965raqx7gPRDu3SlMhLCKLr1d+H\n",
       "amp1VaO5a2ARuI+fcAcFGVJto/k9UCdfecYZ/F0yF7jTIT88E0HRf016pl7gEyocO+acE7MvYUKo\n",
       "DvMWG6Ug7xAe1v6dxqAjU7YHqV37qVLmBDyaKRu7dWVgyNtuv3zpK7/mNmocew1RtZuRGvkYmhkm\n",
       "IpBPbBQJHbjRDSrByxu4ko8b/lrYj+mkwZy/b27A1UsPuHH87FK63hsvDTJJGr9KF+4HLkeJGHfr\n",
       "oFV80XrDAZOBmQJvjVW6RYeMV9Z0rvto8aIwxL6M2y3HQaWxOxqr0eOpZ0m5UvlRRP/SToV9Uo3d\n",
       "AfIvUq/YZSOlHl0vqZQyMp5BnJUqYaj6Y0+WLzPZZub29+QmHBdEqyYpa2/KST1fVukbPUnfblX6\n",
       "VMZDym+9Nw7LqbQyIIstlZpgrkMWAb4QKiV6CiqTKg2BfZRm/gsyQfk/WTgNbf/TFD6RjFWOTRp5\n",
       "ve8xm60hgnU6swW5yuaah4PhSXPdOjuDo3bzcbXfe3hTQQENuKKt0cIqvYIpqo7DNbryX80QftjW\n",
       "aCOhFvKavDsWqcbuAoBNw6c8/73sMT/FoYdZB8tg3P5EPyDFqaLCP6H58lBn+Pcb7YV9GVB+I8EJ\n",
       "2Scu4acydTSZNywZhwF0m+nIm1izP3/AGqK7OkjPwzib4zGcJMpDKQO9oMKediZSnu3D8Wx2KjxP\n",
       "yeHJ+mTNftePSN2QK6pezEDR1Gyh9KlSqn65/ti7ZU/PRs1kBgRXF2tAAAAA3UGfikU0TG8AH7j/\n",
       "swVXA2ultxfD/QAd8XXCvoAXGbHtWKiKu+exV/n4cLqyjDjuYxPeZTIvK4N7K6KD5RskRsC5FkXW\n",
       "n6nGQNgszRPCd/uS43oXdxV0wMm7atxL0FzG98tnNmI5MudKZ8fOImbpXCCyWfSyluxZgJmC3/Tt\n",
       "Vaf0WwNuPMWLfSbVXgJoyIg3u/gdRkoYYxZ4VfCftpFxbMwuQepKYllZcQn6DnU9bsfjL8iyRKLW\n",
       "jcV9XbyIAvEcTxqXHwdr2pUHNiXVlRCacWUmP6y3inPN/JkEIOKBAAAAlwGfqXRF/wBPv4SRpuof\n",
       "Vw1IAAS1WR9jPefJgzjUhgNCQvcBILdZQBPCVyLtRASemSyKSSjmtukNFcxSI2wa0fqzVF97ogW/\n",
       "xEYH5AolUV7LVGnIR1V8F4fofL54K4PflCcnnrMS2EWuXTru1Ca8muy3bPaAQWbcxPu432jITPzQ\n",
       "ZlKKjzngK3um+cWgiEI19EOiu65QwIEAAAByAZ+rakX/ACfDHPpVYA+qRCdiCVXeAekLxnqI9ghz\n",
       "faBUAEtKzIVTzgFWImPHfiQ2eIfGx5/hMObKM1rLEMRhpcOP/SkNkDCLL7z1prA8GLtzDPG9NYBY\n",
       "SF+3Q08O5KvY3CeGEz/FW/zWDo8sxKhkY32BAAACOkGbsEmoQWiZTAhH//3hAAL6zzmwCjS9Mb5p\n",
       "2m//uMIA/WSmd4/mcqxVWqH4D6Os4gI2HJ0XVBiDFcP6WxqWyaNIrJC3Qx73Wmy7Kmkq3y7q7qDV\n",
       "7oC49Rury1E5XKYS0EQu2brxcSlOE0Gc36nJdJcQfKXzd0ESq5IoKh7svwzKMVBWbdHy9yfyjghN\n",
       "JjUG1KXX/0G+pEourRA+coChpsJbX+wHWHCyr/bVoxV2YDHg6IbazxzOBQ9O8lfOLD+DfsM7C+4D\n",
       "ZuLT/tCv5QrUWsu1lOHWYLuXn/wVM95Q7J/BNRWXoDqcL/jnceHIYUGHFzuLUo5x3xVqumiIyBhx\n",
       "NHgkNeD81IoSGXNuwuekwufHEPzWoYeF3iJBe77ej55vogX5Ly1ruXhlOAiQq7yZmslsFkIJ+gtA\n",
       "SZEZS5wcR2Ey6D4hi1WSRwp7ozCnsgNKfZ31XN921GKq225Ke011TYE+QCjMBqg+ms0e8CvYXazS\n",
       "h2H0YX6o5Oof6LzKpH0HJOPZQD+3uTei00shA2xROa0b1kvLv61i7+ax2QwgCPYUKTT9kBMlCjVK\n",
       "w20V9qKuuW74fUGJMpUeMtU+rperhRCBEwUBpPhQrWi64yPiVffmzyabiqQZr3KLAqJ1R6qscsPQ\n",
       "JGrzPgDLBtaJTYv9XHG+TZjNSBvWWND+jkKX9Vj6dPl5oigCAmtpVwsRw7ODxUEY0DCaVGTj4dxp\n",
       "2cBtKkqiEhzN3BFyJiCEJiJP7QcVu+S2eexbJkt6+QAAASFBn85FESxvAB/HE2OfXnvNdPI3pUn5\n",
       "MNk4ALCuwBFFV3QDAzMa2VVKPOGxg3uZGfuO1nAIyf81S31FIe+UYRLUE+zadeiqBNHwA6Uqb6Mw\n",
       "Jd40ZBnUuvzTPNbhHTl4R5vZ+skDKBRKhtSvE5ObVaVzbLGTQ/c5w/OCNg0rTMxAKymV2crcmtRn\n",
       "JpMm//SkwyF+NjKAu8C4ADU46MktsMaxUm1RJF/kBnf/6DxXw2hL0hG9QX+kkQ4v/6npyTuOm4rr\n",
       "3uXqcYmxswFb8+0CM2L2Nd8C4Wc/B1J1grGZky+6lBhxUeh/n8FGGYAyP2wo2EOKaVnN1GPqSMRs\n",
       "TKyES103IAojUTuWLkPVVEs3NCom5302qVJc/VXx0lE//y+ILcxIAAAAfAGf7XRF/wAnqCQleH24\n",
       "J7UhSU6Y7scQouNgmtgA4e85s97ksiJ2r3YQdRQW9euRNwKnDNmTNpP1V10BvhyNONsvfp6QosJq\n",
       "NYmMXWx7NQXTUcCDCIl9VBMYH4AsPsmCpDOHY/MZijimfUIbPoOtotnrRYJEz6RrOYkrmBgAAACd\n",
       "AZ/vakX/ACjjFGRyM/SnuMuvlhrpOWVSVkC0AXB04fiDUHtgAKwQaivSy7ml1W9wxO5SbJw8idsT\n",
       "WRVvODg5LnXRDEXDE5vFQ9aABiq1DqmA0DikILfpQkrhHWNbH5gFvPnHT3EQ3hDkj7a2tANkZpT5\n",
       "lwPsiJ+4nGfYAwHFghf7AtI5aPJquH0Gu0XbsPn7Ut3oiqQugEADRSYnGQAAAcxBm/JJqEFsmUwU\n",
       "TCf//fEAAc/TZUAANlbjX6alBGVE84fRSj9hm+xIDtKZDOeoZMOBcfhMracrzl0w0qWI5cyvEwl0\n",
       "KuOGhKMphLOut/p8UAq6Ku5B1vGrYQmqDjpdmQN4C6JG75SWVu/FdoEASnm46p/ss4dk9DCqI4pP\n",
       "w7L7YpEiWOXISx9so1DaPW3kgj+53Gn82QFBxAS8G03SizJZfYud2LdwehqMPgZUXp8j8LkCNs1V\n",
       "Pb0YQrvWiGOSOvv3X0Xv+kdhUUG4rEFD/K0xlMAU7lV6lGb/LinjWNJd9Dn7G4qXDNZyYGOXpb3l\n",
       "EYhwZF3eV9NlX+fHwACgDL+RIvh7SEz7MtPw1o7QXmj+RS+rKPaB2+Yuk5N+H9pXO1XwmaLcoZt+\n",
       "1vxekxdEXm3IgVah424gVckYUJ8zC47auYgU/lxhHB/eBinPXqlaL4r6vRBjKXToOHWkSUeHhbxt\n",
       "U0xyF9PTXl7TPDz6IwlHkrsLD74Ykvirs5GTGMF3bgatf/Q5nYpz7ZyxskmpOT1h3Oo3sXbWyId+\n",
       "gq/4pEcXSewszg2kf638JWvwO8MMDSQbWS7tHZQ/XF/r5iWgivV4b0JFBzC477A0OV0rAAAAiAGe\n",
       "EWpF/wBPh7qBdSIVEeZJL/8+ReCuh0iYPdzYLg2OKvEqUmh5Ao6DyX6vfnYAbnl2+8bvgRoeGQzu\n",
       "YwY8+FZjjBQ6GPY5Knh4ZEDXMsO7NsVBBcgOdFQ01GGk0f8FanyaxSFTRMhufMP5+WQkYxB7b53G\n",
       "KTXjfCkHshuny5HK0fzdQYJYTmwAAAHvQZoUSeEKUmUwUsJ//fEAAdpLwUgMqQ8QjkABW1CoK8iU\n",
       "pTaMVKwzRK2XefpsG+o0wF8Q59+BK7DwAO+S0TtVgEAJnrG8a+Tdlp4My5Y3A4dEEWtiQjOrnTBY\n",
       "aq632rnbjtloSNmUh2wCdShWAsHyA4kefM6NCXIuuR7obbQDeyfWubOV8HhfRfAqqMA5V7MvARuf\n",
       "T8YzT93AE9Rbj9UXlqevL0BONiLURbzF/iO/9b4Ax5WW7N8kvGOlbDqs3DqQmD95E2vS4zrM2Gkm\n",
       "ZrVmAogMRuR8VKxFE401GMYSW7xbKSQSenD6bSeV8urckUN/Rs29Yw/j8vNjQBrfxVUoTUw2nd0E\n",
       "XGMt5Go11vKovnZ7REQKVih4iSOJLYyva/+LX1SJye0Za/VFA2y2m37Bb+1sAgwxDTzzIo99KlzL\n",
       "Z3WLBt+K/OW/4wsXxwx/fxRPbZ++Gvjuw0w0VBuauRtZmL0uacfjb5X5yOTuJd7yS9LRCSJCZpCo\n",
       "CDYS6c4a+YexKkcpFcLdGH0y9FBDwpYSgp+zbZXakooQNRfOdlgWvxoo/tgkEqUbsmyVcZ/A7xKB\n",
       "CPMlS/qmj+5RRzBIA4ZJv2Q0N4lA8uiMDZV1N2O7UF3a6i+UMHRJGW5ZUuE0uJzCFfV2KJdXFahR\n",
       "DDxxqyyhAAAAjQGeM2pF/wAo+NU6s/D1D4n4av0ZEU5tIEF1ISngQjWNMMwuNQJnhBVsgqoB3OI8\n",
       "cnxL2X72+nHRucl80ToKQkqmrFrZMIkjIQcxKJbtShp7sDR5On17v7qG0UASRs8QJMO0C4C82VRL\n",
       "9V2YJkT4nOp+Fh8p8ky6wzb2e24Wffy2dmBUxoVv3xGU8FEkswAAAjlBmjhJ4Q6JlMCE//3xAAHO\n",
       "P4STrBk3e4AOMWEPfp5+xMj5pEtszdjbCnq1XaqKhUvoO8TJQCYi06wb0zv1VKGF0b0/vWHCF2tv\n",
       "1+7OIs70DYF5Zj0RJBcoEPdVijrJPeZMp132ZoNLfBQNG08bM5nTJL03AaBCSes89M5PEe1XWTZx\n",
       "mrVp1dArqMtW+O2yBSJZJQdqyTxH9hSRhRlpeVMRWni3x9vhOA/uHNUWBj2r/XlD/xKjNcilz/CF\n",
       "OhsZlu0MRg3PIefHLlDfYVQwRm17a4EIl7UxvVvsDSqmQSD1tV1v1Mxbua30y3omGrLC9Iwp5oMb\n",
       "yY2bZr6R/5m3rYACYy7Mpf9rwed0aegHs+mahoGDGCTzTH1tpmfsm1ucFqsHz1UE/yO0IMKdzGJg\n",
       "jgsNQJVqeY8L4yuPnTP7CLWjU6ET53wTwkq0x54uARfwG3d3xWtvhF+TZeCPK1NQ8lI6zPfHzZ96\n",
       "WG1YhMMuBODVly8dxKzjugsBxNEQURmWRyM8kNZTilMSNo1rHz5LiHn29feeCahYGefjtNmHAAds\n",
       "LcODJRDA/nzGezTEmQhh8DGqHEpupbsPAxpmLuZ+TcyZJ1O/tbtMhKQSKXsYyJVVMAmba9T2jDdy\n",
       "I2XObLw9HxwLsTsa41AWl/v5AMO1rPq+CUHCJKvvcT4fa1/jHLlUopUN3bVXflRzbJDOkZlDLcy9\n",
       "OtNZpvJFaFE54oQ+elU47AvS4wm2/tQVLHAnHZ9IBAiobo8zvXaiNwAAAN9BnlZFFTxvAB7xf6jx\n",
       "SNeNItFIG1zvfI567BkCAFZgp0srqokayX4Z8APRvwTamXZVMra9SmWFWX9g1JsTFyfmlsxhvI5c\n",
       "fVAVlounbfK9+SJB88EDjpb5zeOoze3YCGKCkinU1oh2QRc6tpz9hd4UjQEj1SYBL1nFJ/eEOcIp\n",
       "dBgcqO5t5jXO68ZFg3FPuvpxb85PmPTTzRzKXc5xvg1Zy2nnzwE+8kW984VWBB4qGNhMD6hta5Ue\n",
       "e+PPyIu3+05w4OsUoENmCZxbYqwJlyhZkpNkjeMv9Q9n0YuKB7y8AAAAcgGedXRF/wAmpO2XWViC\n",
       "zyoFh5EFqTQ4T3Ftkf2ew+k0EAAaVuscoqCk8ZvCsrSyerH4RFgqZcJO67edeBq7WERWCWktLNT2\n",
       "nxLrdFY97stlfvqtHJuPVyulvbWPzoydAWZV3XnIp5VNiewWy3rNSiONqAAAAHEBnndqRf8AJ9mk\n",
       "Dugx3bW4S/rmfxugvoZsTW2633NePo4IpzWpdIgPMmgEXsnRLRJ12/9li7dRnLuTbWBUALZjbbKz\n",
       "rnXjelmQAqRtfCqpOynxrT6IoooCFWEzmA9xtPIdCjLGoqUXwV+tmfvKrQYfgQAAAlZBmntJqEFo\n",
       "mUwIR//94QAC+s85sAsiVqJgVVLgf/AGAiz+tzPF1+Ak470eaEBLveKY/XLo8uQUS2rAGjQKOpa0\n",
       "qQ7Osw7aBTcEwSDP776+fFaSyzdJHbWcnXqEA1TSkWnfjdm2d+i3fIrmWF1tHUmvrTkCiYjcjy2h\n",
       "RJJ7Cj1qnR/HAWwnSNJ8RyX1WMp7k6arYnz9RNYb1fvQKabHfs9iWx8UCnjV1360YTrhu/yInAAh\n",
       "MJMSvypxeboH01qvfnS2LKtHYF0pPuiXuezAP1WwuX8YlB7tVfHiZOzW4CYJIJ48z0ANP43KQoCL\n",
       "yZTK60bygdu6bexJceSFmk2BLkqT4ixpztgxDNzcQs/j/havOxuG3YnnWH0rYvGJH/xXsKrCxmyS\n",
       "8vyLwdEB+ArII5ZnMvvHT5BQHcnSfdwyXx6dG1s4+JvQPIxbHfd9BPEHBp3/sxT3s7cssBFQTLMK\n",
       "br7IUMkasglxp370FsJgUcP1DoDvSw1+M4Dsg2oTRa7hy/H0ZHQ/quioGNKelFIP+yqSDGEx9mCo\n",
       "fYk3afB9OPw9wKQOiFmbFpoBHe98+GitFQym9E/JE3DzKHvBpBuyz+oQRifRq1AKM22wHlFEof2r\n",
       "tfodMgBJ8/Sqod2msoczyhDgPWTMo0vH1psv4RSUQ0Lw534i2i0PRqXYq9rQ4piZR08pQVHtVTgl\n",
       "GiAe2wPLB1y0B/GGy/FKMXswowPdLtVg9pRyyQ9/fCOjNh2n7ZO/+IUR78wtr6EsWEylCyDk9JEn\n",
       "gbf876h9HymDPoR0vwHwV/nOin/AAAAArUGemUURLF8AKOMWfBLuNoqBDqf+xACzYhpHs6+UcH7B\n",
       "SacfphXxhe+vrPug4DKiW9rgPXn+/+RqlMBVrf5P3mWRsofqKOJEZqIYAcioAUXeo3yXt3jH2qMt\n",
       "zUDwO/MY6epEljKbEAj8Q07kuKSOvEya9IkyEWlbQIHOlLE1sotvLzCMigeRf+TqTbtjAF+zAyHE\n",
       "6fw4iTetjFZ0bMKvy/abx2wfvk6PlP3ustiAAAAAaQGeumpF/wAmrEjf3rnRVN8orL5vW6ETisLX\n",
       "oBj+OUPM22vekEq9VM920Swr5QM3xRu2Kh2gg2TR4bbHU+LqyC4eh8MUPqMsTFrsSCyrOdK/sUPO\n",
       "yGDAEqLJDlVLkmg07OlSEeQF/YeZbwAAAjBBmr5JqEFsmUwIR//94QAC+0eCr0EWsxdYMCZIBK4E\n",
       "Gjw52hgAfzLO92UQrY1LQBGdcqfs4lxIMwybrJUp7IRG9hthvDIDgMAkrUBESbPL7La0cSSxnMRf\n",
       "8/3uw7xmArRZfdVkinUmWkaWqemVgltxOv4aRe4LfInHNEUs+fIZrk0g5VY7UhWM029Fn3K5DSbj\n",
       "956YLbEtCLeChn99n1Kej98UtFDEZznz9t1qQiEpQbOf/ME0MeJzFSf1DUzVO1HbOEfvv4vVq9iy\n",
       "+u+Op9mU6Ooqe2ZO1rAhYlYXollUrQsnxZAd7lWH6KnnqozJXmsEf8FLZG5EGpyxwEWCknQ5c450\n",
       "rNcse8t0BxmqfPMR38UuOJWUfSyRtKazvYY2wMyEBsbdt0WVWloAu5MFuNMKkvohks6joXCKuUxc\n",
       "P8ki80DDUmHQfsQuZfMJ1Z5givp0/XRyz5zboQ0ZkvZQKuB0P8bHGEnLPZS2oI8V4XUe8BXs0jsj\n",
       "xdGJ/BruolXkj/ggDJdj6Uj2r0ZLey+uzbmZMiHA50HAG7dD0/1IOw9DccPYUMauQi9vSH4NJCBd\n",
       "4xsrWYgI6fZ603hQmdaO/8tb2WNsCHx39KPlsIb/R8uB5Iu0nm2eXkpEl4/TtDyEfU8FRPg8iGKw\n",
       "ZJ3VJJsAZlW/ktkPDxGB8RIJHw1o5O3LE+Z3wguONE37EhpJT4ngrzyTx97Rk8830gkTdEJnedaV\n",
       "40ma0g3n3dD8QAlPNaf/KwAAAJ9BntxFFSxfACj5o3EM1DpDzjpqA4ACNtfXRdpoNO5jarCwyKlt\n",
       "jrz2yz08VnXOBEUaw1i2OX2zZcvQPso6RvxawXiX1VnLC2j8AFs4G08BZ8CQSO2JUWCUodhYJI8n\n",
       "619fAcL1kQ9oN8Hk14aU1BttLx5f6PZ3u5wn+/y49wy76ch5bm/sjn6+leBQ6lWa8w1GvUBwgKKo\n",
       "KrmSP0MesuEAAACXAZ79akX/ACj5VVQ41kAATTgYP7UUixaiRlK2m0+QSBK2zUuH1tu1MLNYozjl\n",
       "rgj/buEgpwXAP6sHL0es9d8gjDJOnRwJDmubc6RsiT32/fgBu0SsFHxEDkMRTkf9aVtQKtQGUa1E\n",
       "ayLrLwV7Ss9FwrzZl2KnAh1b88NsOxWkLn7IwAxDo/va1QRI0pfcwzjmqsl3NCu6kwAAAWBBmv9J\n",
       "qEFsmUwIR//94QAEu6Jtj3FCzrkUABW3yqcGCwYWtDm0oKAI4xQFGxkPaTqS+0/W51U20l+2YUza\n",
       "VmhS/P4fVdDaf0uRUlsneJ+FwKIRnTU0/7rsVNUOt/OxZwGdVRYWGAWlfWmZN1oREQba4jHPdn/R\n",
       "8lpwLeExKZWxdFM2eJVUORHBuLLSxeY4CXmZDdH4vXgi9ptstf6Wi7UCDsr06YH0/SiI4Ls2DTsH\n",
       "VPzlJDqRtsl8sXsWgnUgxsud2s+S3ADbxSRReIOWrl+0Req+N3IGPee2fB7iYQJh3D1amtGbQpIM\n",
       "WKT+UqJfKi6iy7xijuCcNYAqwp4tss2g/8YloPUc3WdjvkxLVUG6uzJSyqaTf86SQ9N1UzVkqHlO\n",
       "ANx7onMayU2NIFd/fPm70bRrCBkQ68fVVeFQ1CWuAKniiGezbyyz33XzRBB160arUDQ9e2uY+ACs\n",
       "OsLa6wY0AAABkEGbAEnhClJlMCE//fEAAcPDG0goPAC/qAEt/e8yW8uMVZV7rtT4z1ZBwL0Rjl8D\n",
       "KN6I0jh5qmhLRWjusMGnJdmux0FgIUkPM95xOUKf0UuyRx1e7vODRsDp6bLosZbzWbBjji/IBD5l\n",
       "bXnNwTE+nCVwyUnp5/OWROiTwrwa68dXRhqATYIGP3WH7U/MxXiuzVBAACpC3fxuP4hAmud+4m6H\n",
       "7+UwfCDjd3cf9UU4E0ej71eaELPaaN97EYeamDoqViV8OuC2AVuDygrI/Tq8tNCEkSaRqIKcP+w8\n",
       "9jr9rKe5/CfZGj511P139A0XLq+oDo/9dRsvpjXg6ylf4kvuhJ1StMQBRDj7GN/NVWLUaw+P4g1Y\n",
       "2FKy5xOZxsQUhCP/9DkLOJMRv64qeXTRXfUYpkYxMDBhKWt/hOXsW7KcTRFMwIoAOM6kFoNPQeSO\n",
       "Ul5s8Ll9rQ/JLYIj6W6UUEJP5AurYbszofv6n3z/ocQwiiFpzRzqud1c6uBWx8t7V+r4VPhlaqoG\n",
       "swG2JKd7vNN1V0MAAAK2QZskSeEOiZTAhP/98QAB2g+aAAIThXiwnJji5KEC8alMBb2v+6Er3XyQ\n",
       "D5iqBVVfoRH918eTWsMr/iOS706Dq3F0x52fMQ/Saq81l1ZKAiAnFtORNNfgGBtlKx28JNNeDAGm\n",
       "vebECZMVuUAmOBLd5qJQ2hX1v4iRB+i7rzhpZwrZSaF3KEYDyKwd7hTxtkYRK7tzHXYGvbSjcJu/\n",
       "9aPf2AFxAPtsD8hss7VFZ2h85rTngmPIv9lUz61/GZpzPVCg3jlJ0IaWXBt+DkVIbwfBazNj23Po\n",
       "R8Ah7Eoyls5hfMqAGSjaQIF9TThkf17fqFdZg1+CnvylpYjP75grv9pYqBc4LhHpcrI41jWJ7Yna\n",
       "4vN5237NYjbkThDeiZ5+5y7cmjM9UqUbLNuEKdBNGyFbIBwI1rTagh0Mg0Uuw8/kvpmGMRFm36D0\n",
       "aybo3gdezB3/KFcJH5tzaEEPlqUcqVAs70MtuDvcbAdmu+whrnmkPEmbD0+nYCqmC7QbJLNw/43D\n",
       "taf2sfZB4O+B7i3xWlbgiSpxxkPkBjr4ptGN7Amm/9iiNMWI5XmweKbmujFfnnY55wOOm1wmVGFo\n",
       "1/ydVpbLKh87hBTraJeKfu+f4ErUN/D71io/6ZalujYkug8TUXxa2wl+CU2V9w+wjzrIhKC1ALQ6\n",
       "FTvP0UAUKUohCUrByq8iVLdvjzs5fMTu9NbSzvjC0e0JIK9FiFJFefERo+hOXibvZhmKbdbdr/45\n",
       "AS9joWBJ95A5tYbNOI14mAi1GYVJqqaMZUxaPECbXG/g2U/IG5N691OrsYhgQYk13M2D5en4+bIi\n",
       "O9qqKMP2fUi8QYn70mpkBMSELlv1WnIMXuleniyy4Jxjvqc2KKBtNNxOY/nd3RJ8dj9ciqcwrZxT\n",
       "pkohrSGHfuR0IEI4nhLvhwwljoQ9l56kAwAAAR9Bn0JFETxvADTSVZchmEABAFyx0JXtk09rk/N6\n",
       "s4hnmAA6lGyAhDolX5wo0PTxeQfDi+1vPuOnEeP6HFPtGERX26EMe0xpzB1hWY7aqoiYNAMxV0e8\n",
       "08WLaFU+gCHnxapRN1LzpDOIXo9xvqwwMAlfS0cXHj30DA58349RRjjj4lBNcG/hWXJuTZ4PdJdH\n",
       "d9Nwr7IQCAmipk3gs0FhFsQO19ewcH6IJ82nXtab+DGjQPCFXFSAuS1bkbXPKa8qba29024+w/Qg\n",
       "FStS1M3jsz25aPUfSJ4PRy9DgcKE4lqrPqzROA+iLVUTmAlGMWFTNR9BxtpffuLLgOGdV9C5pDZW\n",
       "R4nXmDC+GOUWlCqJrmtnzvh+4u9vkIUPC8YGgUvlTQAAAIYBn2F0Rf8AJsRMTOJIFZeGXwDUvpXh\n",
       "AMb3yAASYjy+JzHQCFIikVLieYPFEf0tdlBS7hGExsJo/0fCX4ITmrIwS/As3CGvqq/0sMnUvdsD\n",
       "izmL7/B8XzAA18dNBURydGdfMrtVBmMVIZO8TTmUiNlkp+P5bhYCh1ZfzM8PmKVRhLto6wh2gQAA\n",
       "AIsBn2NqRf8AQX06RuxKFHp7JPYbAK5Gv6eOxsiXVGAgBKTjtsnsT0nfU4zSTz7/hoXYVEg7oguA\n",
       "g7eext3xEWtmVxTiNWl0t/mu0SFnZB5A6XoXEiLokj9cxQ/OWswitX0GMadlFQEs9h9X7/u19P4p\n",
       "ar+X2OEarefTu+9ZK5bDwOfvrCQfspjdcg3IAAAClkGbaEmoQWiZTAhP//3xAAHaS8FHn9AbmG/t\n",
       "AbD1JzABfpZrGXa9te5oikIbFXbeAVXxEbDMivrYGHUhE4X9obqSDWyN2jIAsfAe70EE5c3M3SZ1\n",
       "tbaTlLbF7WS4Y+58WJNuNAhJ51Ezq+4Sj6O/2E/5rGMfTEKZ6hvO8RWADVhtDDmdK8KlmfUWVl/h\n",
       "o6ki32Teggj78JB6/cmLEz/IqrGWuSIg6nlOQPByPQraCPnC4F3NpwYZekHLmWvZJRk6uQgafULq\n",
       "Rml2LQfQCXeadRE6YcGKMmKBdPu59NmZhaHAnaS11od2pn6SUCEOaJZSq/IHp6hUC2v9MDXJoG9G\n",
       "XvPdR1dO1kpFro0OIDfkUDTr5J27jeh0EVmI04zv/e3JAixqSfQGzOhWTNFZcWIzbX30jM7mu4Jb\n",
       "ilk4/h6d5wNWPIKEaT6NyVCxswAad8K7Kykrh6P7nCLSougyYoF5wsD2XGHsVmy6hbYDXlkqw4jF\n",
       "Gd7f+jDjK5Nhd2I42lldVS5PCSR6+x89bQIUtRnjmIx3PvO4/htYeAUTBXr3CE2MFTe0Geyr8OCp\n",
       "YT7lX3oMnqFem//VBDnOPTkfxC2vMUnk8Ja18lfDeVzs3uTDi3y3fOCmiq/BMnAuLkHUxxdmcF1Q\n",
       "Ur5iXAE0e/a5+gz7priArkdCj2Z0CaAWbnQ1wcb/AB8JZcsGXJ6gXpR1SoETHeECL6aJE+06jJah\n",
       "ymMZ93zUvzucWIV5FE8kV7jAd+fhYR3H0RJVtlJaONPkOqgozS5OuqPCa6SnY4P7cCrn7eTpNpQb\n",
       "lh/LEcoBFWC0ZxIzoUXCiNH1P+/ffiEzYoMweTcOzEcLCO06ZzuH8QeMtLrUHQ9c3kbAKpqLm4Kt\n",
       "SuolFZRQjP+IAAAA9EGfhkURLG8ANfvmMO7Ao9Ovr1vTPYk97sFpSIXFAALfS6Y1NemtfjqxanUF\n",
       "o78BiWvFt1oOqxy3i4zm2aACXh9I3ntbPxnHMWX5JHq5hIOA9k74fT2HuvfXI+AJZsoZn6tkXBKg\n",
       "kvrwBfXNABaihzW2ndhUTTvxQFaNS8nI8XNSXtsVk78yBKE2+pOtJnm0ISmfFhLnOVvWiaTf9500\n",
       "Mv5TaEw2OjUOc2NBKAOHiYXYaPElMTAUDkAYd2qvwW6f/6WwCZd5//zPtkQvb6RHEaujptM/K+vj\n",
       "krCcRKd4EROeIGUQIqYZiVVCK5n6LksyGLnmTBEAAABsAZ+ldEX/AENIQR1Xpfz92r7dKhFDoojl\n",
       "dUWKM8M7DVMyhS/NXPO8lWNSE9r16ZudpSLxaZjSFa836oVZXaULrfUxwKSOv1uCP0hyOc6l+O5m\n",
       "7BRrqMGVu5a1cdKk6EFtUf1TachZZiHA6b2gAAAAiwGfp2pF/wAo+aWlkAJqDhJhz0UWoRBnatRu\n",
       "9NCLzgldKqXy0rcN/NEbB1R7oMon0BDyNfS7A8xdU4cEVqI5DpvBjed8yo0NLKjV8EK1pqevMf7V\n",
       "aRmNmlRGBcy4ttCJqXxdiqGQiydGrfA2clj7AlDoubkk8YL3t3PyYcvs+mgwT57st94ahmZgXWUA\n",
       "AAHkQZurSahBbJlMCE///fEAAcPDO8gBusoy+5oFr8HDYC5/d5S78fUDiLeVdGDp69/UMM7fvJtT\n",
       "EFDEHqLueR1JAPwFLry7VvJ7uEnz4ToP5iLgCrbip06OPmI8ZsmQSsKlBHb+c1TCh96GyQDxK7OZ\n",
       "GgJnR6rLHm2SeS+lgs1cv2seBQgW3rzWhxUf96B3WPI6UguLgPkumjNCBagcRqqqbOlk8ufqTJ+X\n",
       "YKRqJjlIaTtEn6A358bJuEnhLU/xT4GKQiEhYJCO4jb8B0+NovDg+R62sllvBuuTHFtSCYXFFpDC\n",
       "2dJGuDkHLMA8mGhiBC5h5srvE0SQQY8TEETopLTSbLrlto4036oWj1eu33MeBJXzcKUIQhqPKXY7\n",
       "qOl4dojdtycOTqjkDc6Hx8SJ98gxjarIPhqZPpsi4ZnaDs4XZ7Bok7pZhR4ey1ZeA3nX5ZYQqUpy\n",
       "6cq7EPZKeDA0LvP9fLp8Tb6q48zW2BE6ChT7KNB0VJ7cfNqrJhR1AUalVYdIk8qhuLcrpVkgw0/U\n",
       "GbhqCfe1uslDzueu/zp7AOWDR7EcsmdI5rCfavh5qmGfG4Vhsi6r85Rpb+womRgVYOeidwaMqdFx\n",
       "/IoXI8wzkO6wA1Wwqeyw3/ka5yt2w5YSJDbh9tjBvQAAAJhBn8lFFSxfACCicmKBxsSpx6CiAtAp\n",
       "FK4SOWqpeILkuZ4B869I6xwvoAIni2Tc5IgIH9AYXL0ft1CFlJ99cTxWC/IcezAVIXLC337LELYr\n",
       "pCPCXd0nVEUb5ROv4FXslzTdB2nMT2cCqqVJesXdHIK8lGfBEx1Hgk7uFpkskfh0fnGxk9xmfNxc\n",
       "junw5eaI1BRljPxYPPqo4QAAAHoBn+pqRf8AJqw6VMsuljUSQcpjgPdPo5ckE8F9+T+/NGE4D5vf\n",
       "ofQgA4BWozJXkVg+ctPQllbYAjePUSwP2hW7TNfyYy0BfHkK7SivLY2dwXb0N7/knhybsUPftrvA\n",
       "h9XYvy0XAsh+t7l4XxQ1dE3qpM8aoCIDsoe+MQAAAmBBm+9JqEFsmUwIT//98QAB2g+aAALyL39f\n",
       "jotmPzC+xWsLZV/q1LSJ1Ixo6H7mOmiQJRziSvxSeYCdOKYSa/iHmtJkzR7CebpNXYZvj7jxp/nN\n",
       "Eydepdu2H1Tm6tHwY1TpsJLRHDbQtgQQ+QnoOSJPrbPo3og8z9Ro0Pts2WPZTvh16OcBENkqmvdQ\n",
       "RIB/GfQ5A2hXv2Y5ZCa0IAxRHDQEto+Y2ToJtMoploFd7/+BwXJjeRChkY8Y7BWyU9jnFNKDHfmT\n",
       "8W5SvLMCsU+g2BjnQuClCjSyCXg5o/Pk7/5Ko9CCgtHr/f+jN2vTrdzGLzRsEYALl5Bmap3E/X6y\n",
       "W0QUpKecbcKhW2S6DOnJIzhBYLEAgT/ZL1Mwh6yntAQaXKpjK0YjoSueMzYB4FheVze1BVhAl6bQ\n",
       "BF/uYEl8DHR0ljLimB72Wyndt+sunJlU95jgWqKH8jtlXh4UmxwITxsp8+7JUgv1rQnCvCXRndQw\n",
       "n5OT5I0ZLDdKKB3dDDb3YNJzxX8RTadrS5uvLg6WwTQJJP9ZBz1laI5IjvC1kzC9gBBqUN02TIVp\n",
       "wFtqzl7yUabWv3bgfGkqQgFrT9nHpuBk/2ZyuR0iPEQczRIzPTh7E0+J7OsXzHFSTa2tKG/GZipL\n",
       "OJnmpFsjPzSI4s54h/KDh48NBFVvSusqpFCVRIHu0DBiXfAGUGXFwAwVZQmKzgKEarMlKXRHjLi6\n",
       "D4z8ycz3GsrT8R3uvj2X0u095NJBr5vFXfv+aU6ybNegy+JYtG6woVCDCAs6zzmK1yCE8dUa1cCP\n",
       "55WR8Hzu8tnIaj+SYQAAANFBng1FFSxvADS8Zg/hlQrD+MAAkUhvQAJhyJrOEnTw/rVsjplOLeMu\n",
       "PaAZc/DAl2evmlTWXuHXNWQfYtH8AZv7rj8TE9gERYFyny/6s3WGp6o8cqgfxdQZALVuC+qrbQ0d\n",
       "p+W0u8jpPIJHCYEACbctNiO6ndCTXC+ZPtfmA2y4ann/eRreuqQatp60/RckI69YohEOqb20VI9d\n",
       "lmmKObiweCW9Q4wN37P0pniXl0jWQnaekU6FHmIZFjOUUwpZvkENp/iDaONiHi1aJCpvjvkWlQAA\n",
       "AJ4Bnix0Rf8AKP7+FkAJp/e2LF2Eu7k43p94RJO5B03ppDo+FQLao6IeCHRN61Q1SPJskTU+77mO\n",
       "mZpK5tntr2De1fNaZvcmMgJ+0UtqNeFz54BEdaq5HwQBsdxHSVfChJvg4Y3XXJOSYIpl1tLR77Lq\n",
       "OxVpoP5/cAxEax5YFuf62Q+LW6XIBFxqDONxH5b1zJGz79a2excBA+zhKkhm5AAAAHMBni5qRf8A\n",
       "Jqr5rhAnEemjOx1oSvLrMDgz1eTXVpSfwZU0Gyt5Vf0IwUPPldJq05Qwq64OegcBDX8deON4uc+O\n",
       "w/WOnGFmhkrDLDvjBADOOhLIdd4XucPAQEMNxO7PIxQh/e5LCSzxfqJ/TkYXcKY1mxpoAAACVkGa\n",
       "M0moQWyZTAhP//3xAAHaS8FYQj4AECdMMxDKiUDeob0BRkQK2Ing5Q9E7FSMzLpLte/8818ZCWJd\n",
       "pL9o/wFweiSlDNiMShz03GOhfREJQYT0efH03pmSW2N7jOxifNtRjqmh06p66NZvHQ7jTP/USTbI\n",
       "yrq2lw3oCvo6ZHjKd/TB025h3SCwJ0N816ZB+v+M/L4wcizjchOpK0OxhUs7mVOzUOO1v8QNqTCj\n",
       "Mszcz4enSAgqkWRv0Di5x0dJWK0jKmnLe9kHPVqSfm38vzXuYWMr85/QAiltnItT8rL5WjtQd2Nq\n",
       "W2wSdonVKb4XwuVBhSYHbDkIu0j+BU/CDFYpTp9I+o9YTqs96e2TlbAPf4rRF3uiuRnM4myqFRuD\n",
       "544C5G28Z1a/ATjaYyquMcTRjFFHJre/Yuz3QDRp1oWiQPAmy83RpYQEzjFgOIK6V5bJjh0pkulR\n",
       "tZZWlVY/6S+tp1/JQGb3WCFKhZMnUIVC9IwOLzqtlGjW2SoZdxu9qlLZCZW1RKx4LI/04bkhxChl\n",
       "ene1nHqSrKpk6UIuhqGsj9k6znhyMF7veiLI6vEenIe1J9GaS1wyJyk2PdD5WBoMzWap87OJKbez\n",
       "c1x8FDifZyN92z+Ve90Py3pWwFmfdNA/mlsfYM9SJA3yHGlyIxOEcQpwpmuixJNzI6S7ABhSCjCX\n",
       "jcfZwODky0GJyc8BfIgn9xQqERdlkWpU/5CuHAHv4Vj7tkXknfwBJ9AwR+QBwKOT+YPSa0ggsK55\n",
       "f/7YNXHoPml/oA5/KoVE3UHv0qsS6F+DnCEAAADbQZ5RRRUsbwAfx3CJIAG0xn1Dq8+8tK+Pl8H4\n",
       "x3JHU/XYItG5UvjLF7f7YYhFDkWIHsaCP6NHxGtU+FWumLP1bOkPXgZm/Nnm4FxLScj+CMqdEvMy\n",
       "ZoK+PRhwaMwFjiEyqHlIrXzg4AAEDbV4MO2B+Ws2zeNpqeV4aNX6KRIXxLZsyMSRmGuXb1wSmjN9\n",
       "s2eJIW8Xdeu+QFUmI8fle8s1dpmTCuXl900VddJ+cwftu8Zp/Cja3UFQACXsDieIKwbVga7iJQfa\n",
       "DeuJdsTD5hCUzkR/5wmDA9KsjgRcAAAAcAGecHRF/wAmxDtgOT5klwQAfSwyzTDAHwfk/730Vmoa\n",
       "M5A9B4VkbEEEZS/P8od2kmaQc1kAIMWSHoXO1sp2gSw35qU7ZTNhsKkDe9mPGawDVd8WqEKmw+sJ\n",
       "gxiYvjy9BBb0brLPHKstG5ePVgxBonwAAACBAZ5yakX/ACjjAJLmbvFauA5FilgBIdnjNPohEoRM\n",
       "fTTp6uT2ynkdH0x67wHmJt06ErjMyp9Km0qDzr/eQDBVrZHW/xSFAcui7ps2PpcU4RXXONjuBL9D\n",
       "hMusEfPfoX6sgG7ULliO3Wx1B4WCfz1FtMCrWDqtWqVNhs5w8T4y2M/BAAACU0Gad0moQWyZTAhH\n",
       "//3hAAL7I0ZorxAFV5pH3JQK7rW71F48PmG/g7Phz3RQXab2u60CJ8VnrylWunSjtb4kYp9yRTmX\n",
       "dd48Z9U+3iGqmG+LaOZB0hIJ0DCdAPwv8VS2MpuWDqlTcFdJPz+1EK3jm9SEFS+OxgQivsefbpuZ\n",
       "twDXEEZteUYWpXOBF+17Qr7ap7lbzBNRvPz735fgPY589++BJzsOGsqnU92b5RPcsI+PBAMxABNa\n",
       "NNTuv+BQ2bkYvq0BcV87BIqeFnB/O2g7jNOMDZRVLbyJlDctl1ukwhP+4bYHmlwCxxLmaXdgppEr\n",
       "uAlUwHHZopzmijIDhCDcaEgw48x3q4BuQbX3vdi+B7DLVku7lgDjuu5fekQtcaep+699RrjtkF7T\n",
       "hA78pSuTVzw1dJGZcBx1iaoroEuxJdNUy34W4UlgY/8aEUq/7Qkcgzpqm1ryeRjNurjkQUGSigdr\n",
       "i6e6NmYkQUPfWOYmXnn4EcWpuUJOXlqfkjTtm6jpXn76QdVhRsOzIRXbcYgVtK8VmFCkLBRmOK+w\n",
       "lawT7IHkcdnVqplMkgSZsyM8FA44q8Eqwbb9QAsC5BDqOPjfPiRBTlro7glyIN4bJg+G01KTYiXe\n",
       "TGE57uSIK9iMAMzX7Ah7aJIqbEavH1HywkvJwe4b++LWmw6n24tMRZjukKl/6CROdhoxAFtlzxUG\n",
       "b4sriyoxz9WHOFT0WuYAEYHEUjVftQGw0Sa32002OCxu4JCdA7swmxdGqGBu8/xpORBZ8j+Y0tig\n",
       "0LOjIFDOoTkqL9iD2oEAAADyQZ6VRRUsbwAfyHbwASwvFK783Ihx1ztAHO7tY4qU6Z1GFHoz+eHm\n",
       "DUF1xRvgDmEuWvygm2B9ePzKSerTRpoKE3a3Yk4T/rfXlYB8EsvPuxcZFlYVkhSnN32lpmfHJf2A\n",
       "6FkiOBiOSG6dVC9pf92Es0pGU3J7ZvtJ+suy/ePtrxik8cRbW2V+tpwyTVwV2hxtoJFYe55StXTf\n",
       "67mXr5wBZYK9u7Ih9X4v/j8DiUzhKu04k1mUVDfRASkMk9Y39RIDhz8EAoKaPbLWHNQ5z2M0a2AO\n",
       "oRCtX8ABknkDSBJPiYnCMY6h5bssA/kBw7cI2kKvMPUAAAB5AZ60dEX/ACjcaM1WBZgvZH/J2Upu\n",
       "I1BVFl0PbSl9SuRAA0AJxOK0Zm8wgx7D/R8xignD+aVqXdKAF7dvke1Md4q+wOfT8QnDAR4htgMp\n",
       "zb6CckSTFg48v9ofJzPHB8QtzI52dDb4o+XMjEYqHGT6xAzypLFnS19QTAAAAIcBnrZqRf8AKPm1\n",
       "VuctAqfLjwgVJqH7JAAh9Vte/aTsg2gTEt8W65ZIxZY5FZ2wIv6YBJ0RicbOwA+uRt2xXEd26q7u\n",
       "Na7pddfF8gAYs/0jw1nhT50HMX18XwwMZrK5rEEFAOMPajUs0VZRCZ7krY2b8/QXM4fUZy5cfuU6\n",
       "r0/Bwa7febvb+PwAAAG2QZq5SahBbJlMFEwj//3hAAL7SAc2AOkf0xi7vsbkBTyCdO1SV+vY98fv\n",
       "kJ3JYWnpboBg2Y/0+IAf8n2eFd5KSDipDeHx8PqdSj+sdcwBvp8AH2ljpi6cHrwaWPttC8d4BnCO\n",
       "ZoOnYMHR+BBuXEKEsx/DTINbPWPG8kSuuD0+harVv3EbxQV9CU5Ev3pBdDyFjSH2mRUryvLoybzZ\n",
       "nWyvFvvlokaoO5IJmZTkxQZF4kdVcrC4wQNJFXK9Y2uFdayNRZhfV/ic/JQ9qRrWD+RnLfW+zIaA\n",
       "IUjkdrDLI+HgnPn+dYLolRz1r10ZVSh5MY8IJ18GVSsBB4MpNzcczEdkB9PyZOr7mfotlW9ZL9I7\n",
       "KFfy/3aifNMtubGjGXAFdIi+JXa3jS6jU2kOOLxJsdib25DS4+AGWaX1v4p16l38uhuM+QqhxqFK\n",
       "Yjr5yiHrZ0Esc1N+RCJvyg0RkUoljdvGa7ZwlkZhTFD80vHcwXMCd4ebEiOw4q1b6u9hr6uuWvHN\n",
       "K66HV+f812lAsGh/SNsddHMNQxRsZ1BXd2lbNhJ2y6rCRBLNbtJph3IoYl9iBEmLxCdvmANdAAAA\n",
       "fQGe2GpF/wBNV6sJtJxVCnMP2nefK4w1A7rymawHr31gTx6IHJ7a5xyDl4k8lflG0xpTRSuGYOSG\n",
       "usieQp/BbqUroImxPAvcqM0bmF9XWZSdYmcbMYNWB2JHWEVseNi9iqyF9qhbNFoxqRUT1AlcI0oB\n",
       "kxcjge4pTMtA/rpAAAALMGWIhAAz//727L4FNf2f0JcRLMXaSnA+KqSAgHc0wAAAAwAAeB0oXw3/\n",
       "ho3bMA2e7v5GevqlOEVukBd4Qlks7izawUwUDO0dYh8nCvbx+SxMgWbthDOxpBD3Aw+mkuskRL/g\n",
       "dFQ2Zy/T8d3xJRNY1f/GZGQtPBIzP+q/KBtg2vhFuqas+9TJ+ZVsyEAAAZxYNVUAAYhXfgrZdRkG\n",
       "ehKrRMJNAIwjFErg51oAhzztc85agik46j26XNjbm8DCfTEDuHwnU5WvG1WARKCXrLC98PYTvPFu\n",
       "x1CKo+2p5Cm0IDO/RkVcxtoFFgMzpPCatPFiszVe54D5OpKyEJ7WB1JS/YM+OZK25SFpazVYGQnf\n",
       "W4RRtWzidrVrDMla/zu7B9IqyWwAO74sWP/1YERPgGBLEuSVeIqjy6DSJGXP2z3W9OQf0RQOBsVI\n",
       "iBGAHRrd8Gg8r5ULJ/0cG7AZPSM0QboypkZbMRaKqKGABn6aufxn8Bn2esZjkTOxpCsUcRbyi25+\n",
       "VtkuOVsJQAHTOoMw7M8LTyofl4UavyoHpiinD19EJLMe1BO0yihzzVbSdP0P0Ww9YzSv8iV3eX7v\n",
       "NovHn+WvbE8QgTGmVaXwjfrUWpdkLtCd6+QmgaqmUH2MoDlAkF67MQCMGqm4DthUx0xExJykUcau\n",
       "AJwP8UFR5EYa/Y/GbZJnYs3i/6lFlguBUjlgJQ/JPXRmt0v4eev8nP69oJrPe0NYBhqgfVRrJ9F4\n",
       "L7RkPSsTHqXAa9J2ZJVZexyCDX12xAX2nZbl5ZdQk0Fxtfbjks/PtdFukjUPOU1NbYFFIcyO0WvQ\n",
       "QU8n16Dj9fBEqVrwT43l+HWaERFwAxHIbuE6W6VwxQeKRSFNEPV3asINaQInt9Z55auB5dS/pihW\n",
       "X2Sv9espsoQhaGvFUa5pwS2RMU9yMxu7hFl++pG8gUOfKliwqfTDNXnpa5IMlUwvH0JUK4N/Fem5\n",
       "caBhoKgvsiN/1e1K7ZMAHoITLL053VuIPdos3+J92l1Ht2chJW+7BujXeP5tjyqI59vu0RYe32M2\n",
       "pRI9cEQuK0gtVKQl4cdidSc4qeOk9yvJWq9LfZoHMi0uwLlSPNl40PH5FfzSNvT2xIcBlid61O1b\n",
       "tNTD2tArxtDixZsXTlIFkCVUd2Wi0bd9gs+8RSvrvieabuBHSaMATdGYj1zRwX4DdTkedYFFhOsF\n",
       "rg3FqUsbfgexA1AA6OvoeYngRBZhhQF+qu3bGv0KuhGedWrRQnWdcZyNC5ZB/4gKOT1n1xwP6uWv\n",
       "5zgm4ABvIH3+1lanwAzV8Iil4lVjljBWsh8XD+rHT3B9drFxPm5Z26epLdJcsq6oLXNMkI5+ibDe\n",
       "/xnr7wV/DsoW6SjQIcJByiRIgk0YtR0NMFcqkaEiUeGWPxr4xwVwHoeEzz4pN/B+l+QleKh9KnPT\n",
       "XR+94uKzII7D/CRiwhdQuzCp6cLEVz/IBjrbJ8dv3eL1koiKlAtEJDYn49RkbbTRsdb80GulffCh\n",
       "9s0NoLY/OwGbRiIIVu1+F93npJRLe+0VJWJzc64hbL0EW0OgHSuXkzgMbp4it9LZfhxzgbVCQjy1\n",
       "RkcDzCYu8waS4dhQVVbdM//5njn/RHtDgZoRKRo3yd/pmnwXdKs/JfBVPUZBI2qdkldBieUbDC24\n",
       "3avEkGF8lkZi9ZUK4VEdOSwCEQxtzjPzNVaqnFjK/lT2FLRZ49CpiGBWUIBYm9gFq0Uf22gvFTN3\n",
       "s3LknaN68p0lFgbE8h+ldkHLD7gVrz2yqx9Mt5IURsZYRZVIgqSdhWm8tjMrPk/oABraLMXuRkuZ\n",
       "WX3SEY3MQz0QEz5PL/qahkaWCNUIiKPpSrlF9SGoC+aiAqGJTG/Mjt4MWr/Y1+x8k3Ws9sjN7m5W\n",
       "PmzcBJQmGtFhC+QBxNRm3zqktHfHno4+tatc+qd5Npt625hDX4073QF3IUjqdyWBV1EdXdhiHhou\n",
       "9wUC+eFk3dBBZYvMeN0gFNFd5XSbVvXwq+5LTQe9zXD4Hy8voncMyRD/zNPiSyJpRm7kftnqFlbM\n",
       "RzVOKjt7bggVFom8cTUAvUxt7CozzSVGTc7GgdyG7YYF5Cmv73Ih1TC4w3WZJJWUesSQHERJ84bd\n",
       "Ljg+SmKD29Wg/HHIJyWhuCgWQI06v2j3oBahc1n6FATCKtuJzlkhNSnESJq+9ToAEZaH3RaXP+P3\n",
       "hP1jw6Y0vv3ZhVtkmZhhQD4xaqpPcaJAoFMK/tcwz21rpLXLnXyYOFDmrh6dyFZnJe82hBgHCJAC\n",
       "CVlCrq+16i/G4EECgtWWfQB6W6LXiECuXKGL+P/6+m7FaKJohKq/4xffgD91TSPbJYG2BZZf5l5D\n",
       "QeQWPJ2XVH6pjoTIqH8teACO1yYBTrAn/k6tZZ/qi8n1urRS5HNX2RQi6GZvapuh81npgPxQt3h1\n",
       "quYdYva/gwRjLqx/9XLs3z3sV6Ky6HhVOqdvMCp7AdN2lu9zhFlMxs3dW4e/fZ/V2OKw/hjvuLGU\n",
       "IPYFSypDeoqqGGjUso1rSo50eB+tYEQsnBRgtkwQncTVdzRbmJwSnUz7CSfuev4enJfjUE7aKcnZ\n",
       "HoOwNydA1f5u3Bb+S5ohn6sfoSqnQW09xeDTxZbrWF4UQtRNt3Cf63UgavgMJTR3HB+PXK1br7J+\n",
       "Ts7WUd90wK3tdvgVdlD1DrRV4ZWUWZV32kxP3kpdZYq7iYd+5AljlUwwMvv0fFF0rqZL4wgK/v8l\n",
       "ME2AhDWj0hSgmBT1tB5ro6w4TOkXoeOjY5oaMxqUg0kCBdSP6oJjCVsrXpRnYVZ9oZrNoGw7HMef\n",
       "tzBfQX/M9mAWRYq8n/HWVKH4aIrD2WG0AJ2Wr+vICuATxDB2rTq5jyL+vW7/EFfKkQDbLWBkz/wx\n",
       "qLEmSPydwvtMTkGWtEoRTtPNxxHJo+m0Kb5QywBn96yrrjbO3rEFJ6ubIlmD4lVj+o0xMd40RmyM\n",
       "1h+uC+E7CT5PL4rGYj8YLBk8UxOr553BvRrJtO2KjEdUTm+38FXQ0fkAwm393NtdEoyeJ4PkjCQZ\n",
       "ZD/VcD0CNKt/p5P9XMufbffbgVVKSe86s/odU0Tue/70GO65Z92v7CdFWZvLlFZky2BkQn1JOYlR\n",
       "timYmCBTradaL0xxuzFWGWGXQ9d/oWHLChHomNSTjdX+6X6K3rlxdLcNLSXCk+wDUKNEAo2BtTGT\n",
       "SA9eRnfgjhpgeVclDvnlwqIxRs0xMwAkavRQWFrsF15GfuR7wPshrFZBUzTSEnCMdJYxjVVfTyd1\n",
       "Mov2VFZq7P3ilfE5KVqPTCJ1JW178Dtz/bYOtaggDzw3Y2pWt2DSAY1WVHmnJ+qswXLXmY53gvuK\n",
       "TQ2f+Q9J1ezMxD1ifM3t9O4zUPlrQnLx+7aQ7gEJkkD22YztxaywAAANF/mFpTS53CvCOWmTYtT2\n",
       "APYJQ7pB6fqFzeCYUg8UdXnuKdPI8ohy2q6MdQoIrpA73VeyW/0Z2hOGQzU6qhq5q4uv4jTNIayj\n",
       "oHsg+XG8lyVxImaBcEeOJjREaI+YlpC7ASHKWVDCcxWdQBjhZv92VmZF+LNCejjixvfDlJAYct79\n",
       "zDtSCDgL3OICKvT1egYKHIUZzWvTuKE+Gf+j8/k9iJiqYSpfBVmbiOhwQMg0LZ1MLrLdmSMQQcnR\n",
       "chTrARxSwcX6Te1fboxK3T3/zaj5tHdW1ut2E4Lx+WUbykW0RwkqLdVqSlgSkG2E5t8v983AjxfG\n",
       "+WmdqKzU1S2F86FaKBWhJ6ToxIvLK5fSvVJCsSdr2JhgNWsqeHo2nhJ73BI//sjzti6U+56HvSuo\n",
       "rzZt7OLj4cyKNaGfFySTDPvo8S0HNMKwAF9FYAJuAAACMkGaJGxCP/3hAAL7urgoAIvZrz5UQ0MY\n",
       "ovs/TJV1RHyKmCK8kOIgKHK2JWdI1Zi0UTu0cKYgHZ7ojnbfE/RUzdxoY6vk2kYUtCR7i1I6YD2f\n",
       "q0XWA78+L2bm4OplygnuDDQ7QfUnGLJJvsB5mrHWO7zusEpfDEG42EYZ30e32vOyPxvTtFHQdQjZ\n",
       "IspJY2zlb/P9r8GPnn+k1oXVSQ2MmVQigCMBhaFgHzdiVWaI0PM7cbJXZ7XwZo3W7/SufdowqIVR\n",
       "d2+uLWYPpFFgpSWiOsMQV8tkiizD/c8ujfgQ88U48cNo/MSat8FJ0K7uVsBzX+fFQqghuFyu9MIV\n",
       "qefxjpiWNUW3Ek6gjRiGomyQtgjJXvjS6yKnWrgSAhsvboIxePvkSH6MTDqyouZcjBxk6uwu/5Va\n",
       "Bj8qi0AdPk2U4sIs2Q/EL5L/eac6daFwg4PeGEgJo5Tar0pBagYm6l93C81C1qqysSOI9bEmMYng\n",
       "On7uUKQ0regPcgjFQy8gl2qpCYGM06k1cp7uSS0pbasibdilpaQzjqTnX8jlezgB0MNWfCyFIxhF\n",
       "6kuF9JhT7wsKj/hVkQ7yp0oA0EerptHG/qgszRmZ+Rd1ghoxVmup+o9kXjp13mhZzrbSRBP2kP5T\n",
       "8QINIH/7pMYlnayDFozvyz9hIbr30NlARHW1xdxhdtUMy6xmubD1JaJZ7uOpj057omPlXO+VKiaM\n",
       "k6/LG8yJk1+5NVGlQh//LAo+WjMr/b51F4EAAADgQZ5CeI3/AB+5ORNJGW4lADm8fYrq8A2xEg1U\n",
       "obpjgANsx2nOq+ZJZDFpfGDc66tKINsfti7WBfIzCR7Nk6hzIpTNHhsbniXQfkC96qd8HOjNL3/Y\n",
       "hy+oPlGepFIYwG+0Yen4XbBmZXB+kVlrQ4fx7LlMj2WvYGBqZ7yKGO308h/dCwUxLNCLYFmA1tUi\n",
       "bGLof48NnWv9Q/CosBds1J8vtBWUUdN8K3aybiKgM+Lud3uCYeXO+F8bupFfR7hP5ORfhktUbQNa\n",
       "I/ZSgjzlUT7r8ofq7h1IMrMIS7BVQt67A2wAAAB8AZ5hdEX/ACjh3yZ/Ln81zPRVdqornthdAW1t\n",
       "8vfw20jpzfUWDfb45bvCP1wJyXUgYFqxWFtB7wK/uK3Byk9w5VoA3BR/FMjEKS776YnltXwwZUmk\n",
       "P6JE8IK4iszCrHVDJGK9HMfyvs10xeLMlXhL1zWwAafU5EEefeRJgQAAAHsBnmNqRf8AJautfhda\n",
       "gWZBPej12jAg+mswRa7pg0243ugoHmK09+szzfR1AOv42RdmLdtv7i7f/EVcdd5VqgAJVQat3pRZ\n",
       "aTwiOycXR5o0qmUAJXF+idlqScXe37vl+70KVjfiEw1WStM+H+MhQhtEE6aw43Pi3eZhOrEAAAF2\n",
       "QZpmSahBaJlMFPCP/eEAAsSyNtYKyHoAONgJF8roA+QnJl/+szQpeJuAKVXpuN7+yucjmEvOugIh\n",
       "87GTcVEGV1Fx/+WDHu+glLQzkKMcOIdn/FXBZIrUuHOotViOQSAmqUzrG3Zhdk1TMyc+09iLLyIH\n",
       "zX4rOGmUii6AW94LOv6zB7IIN4dprWD16DrmPM1A++VrovCvWn0067EYQr8/pA+/uauX057E9mcj\n",
       "9T/nuPEX5ecBYaCEyNV7zB9nUcODu9d1unfPSm5v+RgNnD9Dz7+TVSQzA1Ve5MMT6uxN2L9rNNHo\n",
       "gvkeOQK9ptXnSs1l1M8tJpzPElCg4/XpP/+K0PdDcGHM/mEoJIvTjurlX72ItgtbW52TRHCo9yG+\n",
       "Z/yD+wtJck1hlFpSVppUEnTwpNFQH/YsmbjNtcmY7JnvrSa2SGlsQamzxmvhH4zmMnyImu4Z8ygh\n",
       "yet9SnKT0s0o/vnhZPNO6G3OOJS+Mml1LNo7nSNA/dgAAAB5AZ6FakX/ACW8FjNZMR1U4G6aNOML\n",
       "ElvgAbZg0UzzwdYZsYRkVRMXgYCK+jZRmI+TyeIHEFe6LXy+IJPq+R+HTtwW7jLqLyEsfDY5A/cJ\n",
       "/0v3ZFxIb3VSHN9hxKn/kzBBymvgFouyJThsBnRrMBpQbvl1PXkTKxV8KQAAAaFBmohJ4QpSZTBS\n",
       "wj/94QAC+s8V+9R4ZoAqyJIvJ69ldsGSogIouxyZ4mpMGUNAZlizFZtRP+AGNnf1TjG8y8g0FEaj\n",
       "9oH8ZQbzyHMeWsZ1xJBXB4dHKFRjXdwU5ke9jL2cGUntUmm9NT92g96gbL7ZkptoHTReoyl+BbK6\n",
       "G4gEnuqSKlQdpqjW68Zajhhc2LZs7fVwtgMkRPAnjZQXxIW2JOlq7hMJF1+OrwQIV3OxVyl5u86I\n",
       "uT5Ph9TfKzaG5TeIlTJCpa6cetnASJ9z5T+0BoWhJSiMMrwNiJ84Iq3vN8k+jrofuWXAjkSzZDy0\n",
       "uMfdcNtDjVKWiqfH9qePCyyA5BtegaZgOByaWCGFVDG+ZNkuBhmTXTejm9bxlNVBQwefpJYDCISI\n",
       "oolPkcHo9TuJgNN9W4gPJQZgVDz4xNm4GFiiHI+rCwLSi/Y3N2OhVxXjHBtSWcWVLiYbOahMKFBu\n",
       "/HCfJM0uMwB10ASfaH+W6QYlcL4L7QaD17T+xzejyguIinZV3RG/JS9M5bunTL6J1IQtcuCIUTRD\n",
       "ia0tvnjL1IAAAABrAZ6nakX/ACjjFIsSGmAASZgBBL4h8/skZMwAFzsI751TlMMIqOaXeguuI9CC\n",
       "AoPcWf+FiDj50itaZDwyBhnZNu+7bK4B6bzhVzot3qbTpWn3zYhNxn/oote6I4iPnN6/LW84pteZ\n",
       "nBwHiLsAAAEpQZqpSeEOiZTAhP/98QABuTKbm7s9+ADSV0sTsI8hf/+vui9oXkUaoD1clQb4LCRM\n",
       "SA1kT6VdEMQjHV1gpZ8RTKGwMEirQtDIir1hmGcXwxXTsJHCeYZxzesayDYIxpad3smE7/5mU9tB\n",
       "Z0rnc+twPYPa78Bpx2WKfHRai0P+Cj2mOB1Nm9GO++jIk5ZkYs/lfXkfSfTJU08ElPK3DQsmTQWv\n",
       "nRqwh9RJtzorpvqGszicF7CBMkgmpMYwqif0MAExbT+rk2LGLr9ruY023SyKDzq+4ACE/znF4Sp5\n",
       "NGc5rYMXFgTVu1+pJLFmEGkNePlQmQIubrgH83FjduqdeluqmhSjvHhAMZReeqK1ArF5xvyk0JI7\n",
       "DVw1aNqCwtmW5yMCmjZVJ6zoGulBAAACOUGazUnhDyZTAhH//eEAAvrPObACya+Z9C1cP2jHf8pf\n",
       "Q6QSjQg7AOWIjCWWmMW+OrRyWCy6GrLoROCLKqPE0ru94qGTWGykkIgGzsiMcbG0nipAS+3NPgdn\n",
       "H/pKKCoQu85ZMf1an5HQoGLUvfCYZ3I6DtJgmmGijsFuDAfaJfvzkfxzau2BxJkrWRO4E9/+d6x2\n",
       "rBHYkXEdC9SJCDczcg67EpDuQPk8CC/tskx7+7xEY5vegkAMCbGaSFp99z58bQP4/N3/loTYJx9L\n",
       "8aVSnEbps2W8phh0GHC4++t3MfeXcb6P79meEmlSMRL3MjfKv8v0D0lTZRDR9HuYlVqw5xdnX28W\n",
       "ufT8QS6lcl474hiFoWycw4r9bC18eMHVuO8VzASTsIVHE8LIUo78+HkkpRERDqwN5ez301K8bUyA\n",
       "EHnInXflzpzUkYax3C/uM4VqHZOaL0mglRXIDXjbhWDhHlkVAPq++7IPQAxcTMEGV6KxQTyt56O4\n",
       "M+YkUXfdcxA+xWsnpvJLwGroStg7vVT/4zdh38Sq7pR2gBPLxYqCki9LXa0Tj0kAPVFyTFZ/CswT\n",
       "DK+ot7D6FBfmXWWWAHgzM8i/hluBRTafb2RPxJbv5APkjou81YwZ+0Xap3HlUujUsJYc07Y6rE2r\n",
       "X7iUN4AYE6DLMYMBXxx4dCjcn1YnsHltRsOT+SOSzb5pRHfP5OYDOFmwB6Z3xWOj1X5+mxfBx83O\n",
       "tnSRMDIXnlbN075MyWXeaMKI/4hkNJ1AAAAA10Ge60URPG8AH8F/JrlbPXGamfZcKjBuXvGvRMtj\n",
       "p0cqmIev5v9kkrw3kWQJpZNWhjHCRcLxWGKHU/hnTl8Zbeg0g9FVV9j+ZFNeZFhOpaMn9cVr03ey\n",
       "JmbQwKhAYbTG8TqxjAAsJlA8RfXArfCyZvYSMgV8Z9SOVmrZN3mOw5w8RWqletKm/u+JZLSo/x49\n",
       "J5XLjN+J3ZUCaWKgaUAunzLd/UjtgBL6Oeu6SnjwzZfob35XVq0zsWvjiDfN+0DUc/gwF8/rqogo\n",
       "gi91CJRLfJ7p1QUg3b+AAAAAewGfCnRF/wAlxCnlG/Cy8t2D4WjvuTusY+tP2Ed+fNVs2INQVYEg\n",
       "bGkPnw+4eQ1EOFHHbr4WLjAO5L8wiAAhP507IA85lP3yTt05665IINLQrKAxtx5gBo28YymB6J7F\n",
       "SUmFxOeV5ex9wwYeSjMFCXHJgEg2LhHcwEJm4QAAAG0BnwxqRf8AKOMUixIaYABKZAOeE0RicOiD\n",
       "zEY8QAsNoqWmFS2n173O+Nne0/Wnh1n+P5PVxd4cbDzNohF680U7BN18FM/Icxa4EMAl6V05eOLt\n",
       "vAFxgqZGQWXpntVnbI+6tdv3Oxxejj13Ah/iAAACbEGbEUmoQWiZTAj//IQAC52byF38Bla8A5E1\n",
       "e3u6JToCnC3PiXF1UqFQrQbd9dG4G+AE3IBMIoLiN/hdVsUbGTrLzBwag64I1HbCWWqBBup43FMZ\n",
       "igG3fDcgQASVm/PBByQlX+Pi4SoquA+Ua5E+Wz4/bATqyWcvqshe31e/c5WuA7qPVADV9GTFkUPM\n",
       "LHsq0TxwreeDvFgWMnAs5A3KI8iFpolKJ0LFzbU6wwcY999HGwcTPKifNTtna0ZATxtCx3YD1xyo\n",
       "88LHDQ0eRDQISJb1Hl/ri9QYGvOtSq+h0Ub81gl0BcOmtcc5CRcV0UzUrcS67X3X0UZAXWM5kSyu\n",
       "jX8EZMmRcyym8w9NACBFSABjyBPFBUOjVVWYJzCPti6SSHj+rQlcrVFH0zB+ZMW5gQRbRCZxSRl9\n",
       "viFxI5ukG7aCeTR3Pehc4GxMqPF+2iEWH6VRjlKlsInqbNtVYEwzncmBDefaXUO5kqtQVFsydQU0\n",
       "Ra2pGPMAkDKtVEdKme3llikYoEQIHOwFajk6ZKpq3OqoHjOM9LsUrGXKtjZyZUnOj3OKzM0MYDvy\n",
       "RB/ot+vz2IQew0+PR4K6r8pm/98dWNJS3zQyrhJ0CASg0t8ohMcy2gjooArc3c4ovVe3aFPCZ48t\n",
       "uX9asQCJ+kjcXy0o52Qx/4HI3MHuwN77gSWTEvteIM1KZmnxp0KKQdFLXLgWZ8CHdFeQ1LyMEL69\n",
       "0byBY8zBRMrocPpHxLeb+TmGmiPx4EsH1vERa+9I3r40BfhHPuXkSq/fT/0XxhYMAjGxf2QiRuTO\n",
       "dgE1ZCigyoFM7SpAzNKPxmks3X5gfJGBAAABHEGfL0URLG8AH8dum+ZJz+ysAAPG4iQvufCQBOWC\n",
       "UZiQ5SRmpp+FJC+bjPL27F3HrFEgHM5UToPeK5i/2s/6m8+YnJhIx5X4PsixWk+AhQEyUiGiHNYG\n",
       "sidsg/qZ7DI3jzmSIVMGVxjf12TB+tSRmjPAq7o1yRIIGGJtdX0b9jkcZvA0wxuGPcSwlqI9l9JM\n",
       "4Xtsx79cl4NHx2Ot5KCmAKuHAlXCFxbx/YFlBMPBHvfL5MJOyGvvH/inIQ7jIOyGsxtEpp1GZ7M8\n",
       "pVHJ1izFTIIxgXCFikbD2u6KbM5fKRFw3NSfZLsmf9AK3v635iPB1epKCncHbaUpYIfkEBrnTHh3\n",
       "zu46j/YbcdB2SIS6Urcn2z+XWwo8+xOTdIXwAAAAfwGfTnRF/wAS0oHSrPPRMiw6aAEe3b6gjj3w\n",
       "7LcJ3frJrN9/D45NrW14nokyRi+09AamJLEcB9r4bH32BE4JcrTBoTwgAiZLYYjps0RoWvCe+Rc8\n",
       "/WvutBRKbLW2xfyrX6tSumIoR8Z0VC/z0bpiYHVYPiaXA8CSGQmsjpW9lIEAAACWAZ9QakX/ACj5\n",
       "o1LI4dRM0EnvwAZX/76+AASrqb52/Y9+FOhSfKfnEB7jftEj2ouxurS3Yqr34VnSqWarEh33+dts\n",
       "hSL03/Cy6+htGRppmXEFYzRXYdpyoxkwIc3W9if0cu1w8zgEt/exb1TMMOeM10sR2y8Qy4xlaLL8\n",
       "V83SW49mO+TkYyc6ipEHE6TD9OhbLY6ov6zBAAABTEGbUkmoQWyZTAj//IQABWnJZqOi9XNYd4BW\n",
       "friAES9ujOPXM4MJorpv1ClWdAeXvBbRPX/iLRGVkVTSNG4DlDMz+AniV9KNVUdwtvBAJAuqtpEv\n",
       "EIFE9lModmLvHaQDYBz2vKNrUcq0tQzKYXfQX6gPi58MiVgMS6UNAAyffWES8KILw5APtQoNfMN3\n",
       "+c70Sx3toJrRWqi3UamxIeY29r+fOCqgOHw8VR39DnAj8NpeFCmH1Dzts09geRgHCtxB/mJsfX/c\n",
       "3ZMxNwlvxawDdCcbgp4LFzpLqaVqCjFEFiK/ZiFHwAMX9QBN/zU7WAkuRk05Ur9bWspuk2lYXSQ2\n",
       "Ao1C+3F9YK4gPZ44mdx2mbt5gbqMhMS04KtNNiDrZ5MQtl3Dr1QATMXV4XJVsenugY20ZRN8Ua/U\n",
       "jiAnP2yRU+aybYcsECXNUtNmHa5rAAABSUGbc0nhClJlMCEf/eEAAVjM1uT2fan7izEgNKAT3Sr6\n",
       "/1WAB+0xoHiBkHKOeE86jZ6mAtd4cqiQ7x2DEW3H29qwURQIcvBHCwnqzLjxob+ibMO1HjdPdp4W\n",
       "PerMtSvCw6syShwdnZ2V6mF52B8xMpyXHCrssROiZ10CQF69m5H/HSBq+xITHfyOFHPAHP1v/MaJ\n",
       "fSixdoa9ULnyA7CDbpt1ovRsTCLiqjwqo4T4eS7XDYIF2j78z1ZLirFUe4+JVyIL8Ib+Cqgn91pk\n",
       "rSxFKIc45Cm6wOv7tSMQNaRiMvC4zk4XPOivHNln/kznIM5cBYJ6ghE+APpF8eSQXyXWo3DEBu+R\n",
       "q75hQ5kEFcrzIrUIoG8++5VwhEL8a9GddMcGtleY6eJb/HPeE8Khg3n0QKvE9I15RxEQo457dii9\n",
       "0u6jZJOpRLRpydbxAAABB0GblEnhDomUwIR//eEAAWMp/4LPGW2NE+XiIQAqbbBd3YfA5iXzyQDb\n",
       "9LlrNCe7RCAJiS6d0gK/LTd9+QJ0vCff7gO2j2cNr3mfSTaiMDd8fzb7ILTu9XSaZ51NgWWds3ia\n",
       "z7pVDtULVSptAaQTBSRAchnzAeaAYWQU5JUlBXQdWdFDtFd1+S8DZf4GIkchd6blqOOoPp+WzyHd\n",
       "J8LZ35inW5BIb4hwa7QFxjOY5Ao5IrmE9uhknR+Bxqp9eVR6HE5+gIDVnMW0IM+pPX0TUPagcKwG\n",
       "L+azqSkVqepZW3zF5msdjW7IXFG4NdaTvRy0rQI8CpCAnWwHmkVSAIvcxU/veGVaurbAAAACJEGb\n",
       "tknhDyZTBRE8f/yEAAuvo4Yx8sdcACVM8ytsXLRa5QDN/8zf3/gvfvFgSjV+yOdcPBtMtuGSJpV2\n",
       "YlHUqWJEqSp2EjuR94rAhBx7cbaW9VS9YPsQ2R+s68gydiNmgZIMUDEyNzgae3ADgEQg8dXutdUc\n",
       "5Bhdx4dJvtg+sadBEVqN8y5vFbOrb7CEwEQX9sCoJ8Ns6jnG6byR4LmmDbfsG0C7PejpTvYebMkT\n",
       "Ul6Vyy5tpxGCFs3yjHeQjtJEWAytSWMYrFwSf+x0R4+1DGTCYVD33Dg1M4vTXUr/PdObFh8LTvkZ\n",
       "5btCjnoclewDOfzc1lEI7TzfodQY/qvY64DGL9DGaHck1xP9GNIQsnovZ7oLc0V3PLhc6nCTfjaz\n",
       "h9246m5OiCHxREA75idjglbimu/aEnIy/zF1ynlv4PC4GU1/zoKgoN5PDALKmQR+kTZlzWzFnVzi\n",
       "5pVcu7X2OfDQ0RLFv+jUgOxcv796dTHzeAlkparqHeurP4446vKTdbRME6nQtPIkhiK9jGBt17IP\n",
       "d0i3U4jbCJAtGwXusYvuvr2u99ouLYJl+Chjq9xLCZedK/I2jDZl15VCSuFKAljlgQ7kjJnQ64HW\n",
       "2+R++/NOiMqQYGmbSbG9owhYJBkiGfTbddb2UBKHV1L8bHd9JO/5RdKq4teXmN/zbT7hIdnT2W2w\n",
       "9QAH88Vypf4iLZGfI6nd0ee9v98UCThaGL8DAXhqPENAAAAAjwGf1WpF/wAo+aNVzCh8AAADAYfX\n",
       "xoAGzX1nS6QmmTQQtqBZhSSQWzlKMzOUXy+Z51f0l2AccT7f7g5H3xTdIbareNqzPNIyktVdSrLy\n",
       "+EnCkcpB6ZwSS9uEYctmGUdbECYbaaE6aht80zjpWb0YOX9TJ3Ct0En3NuOLyfnXFw/neVeLMrNy\n",
       "zv3a5JFq8NaBAAABW0Gb10nhDyZTAhH//eEAAVo4PFprbOpbxK+UzdAFWrDUyDqXgzq3oL1FUqpP\n",
       "Mp9DQtgEK0hTCk1HToFMgDM9h8tn3RPEK+VNBCNrCohlyqlzfwjw/rrsejdkWK5dlRqC7/hpL4Fg\n",
       "dShwk2ZJRCrVLgHnezV0Hxqf2xX8XW2K/tTfCY2kYID30VtD4FIEWGgCGmKFN7diXvqYcQglvNJn\n",
       "FMs++jw7YdazE4MlOt+bMxUGRrY0rONF0oBVhRkY2+S1cFAIjoAtCroy6TYAKQLeldSY8uCZQM2V\n",
       "6OSpnulTC0yz44vl3yS1TxZ3vmFEMK5IivYjKM9IX9HtHCAs+Yb8g/proYoXnG2/bEYcN55eVn5X\n",
       "6rUsaJfdq6AiKDanj+Ba9vel0morgieOF5uLGPNX9PPu+RFpAr7J1z79IcgoEqsvaIZNEUPg4dLf\n",
       "xrumVGgLoxMbG3egIsaDJN8QAAABZ0Gb+EnhDyZTAhH//eEAAvp3eB4axhnVicQwkMu3bvGSGWhd\n",
       "KZPKcbs9rY58SnBSj2+oTz5sAMGfhzAJEFx09kpUFbG8rSpzcUawasOxSGOQnJR8svH/oQigmFNv\n",
       "R99lW6mLN/wW2BNpcyQn7Ca2BFj65whBc1URz7cxyNTVahgjQ+I3TloT+0PpJYTqRfIySsfTLdPO\n",
       "FzZcD+HhoEgOL/wEJRRNvJbF30CebU3yrcvimHfQD9JrT5DPM2sNhuBdyiB+3kOTTJWCEjriSneV\n",
       "MeFLp2X66mZ+y4LK41C29rGnfTsH84Ei4MNKjcI54sUmMhX1gg3XM6MRs2zgtVIha0KU/sIRqdme\n",
       "yyvapZ12c1dmwDI7bUGUqppC8k1GltSZ/b+jA2twOGBiU+Gapm6emt6O3yxAzBL8uPAwrHVQvbow\n",
       "pctZjnniqZieKGzp35zvb+5KqSyNg2HuG9Km5PbEX4XKWkS7IxY8AAABZkGaGUnhDyZTAhP//fEA\n",
       "ANiLDEqkw7PjkJ9jYSRwbAAEw630D/KQ8+p0zbhQ2PZktRZV1nIRqwSeD36g8YCAp74LvIzulcyn\n",
       "NCNxpc7rQdwExAuwvQK47eAnEv5lM/qRl39rQ9fTov3D7RBhuJWjcfTyMnb79P9ES7fmwFjdmNde\n",
       "pkxRxgh0WIH8gEKj9RHeymGIntHFwu5e3uVgPEjcsePrraqU1SKSggVsxD/AUs3/MbVhWqMOfQSQ\n",
       "AJZrpIJtycqesXVJvessW6jn+C+UfRysTUtiMGr0/c9jIUhN0q/IEBqEWC3JWwWM4MkcAGphzIbS\n",
       "NrYjyh9Jr+ZcN70TqBW2Q2txYn/sS6qJWThDBVfztMVHioZEQJ1caaQSbet5P5qFDaIG5RCogKfi\n",
       "f/QM4hg3ZTlwr5dsvuZQad0TcC0cl2j+m0Rxy3Soa9GVxwVs4h21BytO9QykT8q6c8qyNidnNymm\n",
       "S4EAAAIwQZo8SeEPJlMCEf/94QAC+z2QATzyNXZzTdcrhj8pYd2GKk/vYWVTgtSHbjljsUjwiPyO\n",
       "V3vw/NxOm8YoT08RIAPZjUtdMOna18q0OAvEfVeXYlMjj4m9YPb0iIpb5gZ7y3485BEWJoktI5rQ\n",
       "Oy7SMFwV4CGMEbyfFpM/xnfV1NGyq9onlS3ZnUOUHpA64Qsg2/uR9+ifmjtE6R4JHDKxRc3J9BcW\n",
       "YJNM5TqhlOXThjArO7zX3pdxnWhVJ8ga1QyyHwIguLbcZXNRU7dMdvhLjbMj7TNZ4Wmrf7U7Sgh9\n",
       "Xql3BCzmw55i6Y/pgd5+ADCLXzzuALEb68bKXGHejU5xabhJeB40mNl+J2k0IXe3jctX0Fuh3N/e\n",
       "cxzHupT9nl/2acb6G9JInnsXs1dqo53DwOiUyaU/gL5Ou3Tnuq4LgXJFl+QE4mj5mFy1lUfnJoBc\n",
       "/ONyhZAMLL+wlJsgggUbReC3Zlzo7NtL8iLJ8oUpwULpCnOIhvj/eAK5EIUUpysL5S8Cl1pTRGjX\n",
       "fKDD/hAFYqgXjCNPOkDIGpHdGbGa2wFN8dSVCbemo1JgmkstDywyuqG47tWCkP6SoBZyBTSgEPc4\n",
       "uOjQ7zOtL4uGaj2k9q66trHpG0bYZXalAinvLDAycYdFwxGwhK959VV0a8YIGOHmwYMRWhDFnV+m\n",
       "Oy6A+0NVSaUA4eReTlSsSkg6xT9B3IYIwz47IBBEq81Cq8NnXhNGbdKW2/6xJ6o8uBA0CkEAAACb\n",
       "QZ5aRRE8XwAUfjPoACAagz/SfxGzYnrmDVe0CDQibkNpmC1rqH7vjvjkKcLzc3M9TG0EW5GYyN6l\n",
       "r0oCfUxXZLuRfHKXcvLlAj9So4Xzr2tl193msayVsjUssxuDRmWv1gWlIsTagELIPHZiD8HQepou\n",
       "zJRT3SCScIBAE665bSlk2acNgnHLLFZGVQerNfKYPvsXwbJQeEETjmEAAAB/AZ57akX/ABRxbQy3\n",
       "FBlxgrMzeVLKRSmWAAlqW8Ni3Etlzs+6DDI5Ly0DQB5eD6SvtJY/BagM1pF5w6mgZF33NJP/jSju\n",
       "hFsoESdk+Gf/4gAwyD+Jpq55WdP8RQZBqSmsg+ADMvdIPzA2Tasva7PHTmo/mBxmKzOTpArHMnjS\n",
       "4AAAAcVBmn5JqEFomUwU8J/98QABzuRfhdLEfjgBU2Ue2ZZIjWwXIYAri5ShQ9lazkPIOuRi46aJ\n",
       "SRYR6XwxJ5f88rx7sJaqgWghLr5fvUTeFctNitbU/2vhOvPZiWme4JB8onbynW0EI+HXsuBxpSbi\n",
       "IonJbaSw6fsGscbjAi3Q0iB/MINEP1XF1bh7jBHlXxT/BTOPUdDbFJovbms7SZPsJL6SNI6kS2OE\n",
       "+paJfCE1P/ObDdvCnfYGYjXDbwZoxN6j4ltsf5CjgtsjQK04Ghj03RxMNA9+tS7D7xsGi9/dbTX5\n",
       "1EusR2H/QHuIBEfBLhiMLSni9ncrltzb8/59sX1nWLX/ZgynJGwQ3FkObTQ9uFzPImEeH37s87EC\n",
       "Efo2rU4b+/eHRkjMC3n97hmsreJ9xlLQ3p38vFqJCEX31vFw6HX5PJJoRnT/0qcnGk43w4PKQBkS\n",
       "QMK1gwhGgd6YyPzTgW/xJZ+MsAdrR3FFZSNjoJlc4++/GZBl+wXO1lZyCMX1gKbdJyAnNbILLq4O\n",
       "5vqeZjELPUKGRPZonrYTqdIYfCcm3jwK3jBwM5x/cRYUb50eMlByC74UX65O5Iwsdrf3okvwqsHO\n",
       "IaAAAABfAZ6dakX/ABLfW6NcEHjA05UhMQBuArMZw/51BIWAFeMIp/uZ4L9AC2QWZRdFawtEzfb+\n",
       "Tco4nlGFSZAjQUjk+MpgYwRA8SfCuNQXtbIDgz1dwJWrJu94bqOlVtSAMaEAAAKQQZqCSeEKUmUw\n",
       "IR/94QAC68nJzKPLvHtSnmwFDH0phid+afoLh75oAiPvP9/Ui6LOy2vAU+QkAL2xIk+WYfAg0HyY\n",
       "5jQ1euA1QkOrjFGZhkt/Y7eZtHW4OSAU4u+KBkep3RxIqYJlHrgrpYhVxGrX7PX+L9MCgnyI/IXY\n",
       "1SFOD6XGDq7vmI+FKVphy4eEQe8HQBbAIg3Hu0V5X/tktDXiqOv+UJHLKEqc4xY+eWQJCKLHvzHv\n",
       "SJksQUXZ0tgn2Mc8pC3bY/HT9p1hqCfPR1fXAVVIhJNZsYIbLSZXwBsiKvrYy0g0Tmz0Bokoe1Tg\n",
       "4N1owUpOzee5v8lC4Igepfodm5fIM3zCf0szWIaiJBKyOXg8BimT7of26TwD3OwxJiU1wBu5l/6p\n",
       "YGGFb5zqx9HSVXrocMMsJlESz5qWvPtNQCkjqb5K/YpyoUisb87ucQ9PV8AlM/XLOrQ70O5Azb+/\n",
       "N80nVgdOkZT2lN4jlLu/G/bpEkr1glNWwPhcfccgiamAPLXtCMEgWsBgJDBiujUI7AbWXx9LhXU7\n",
       "S5yMrlJqlwpuPA9ycL/nPKzEyo7BlWoSx94zjSAcE4tWT7s1IT9juZ6Sd+3GyB4IREzrgtfCQLA9\n",
       "AEiUGyRqyiXl4pumv4mGlbpe+bvJmfOcokxlcS+Ja4UIRcUFi6t42h72jpaxUwGSJJRIE2Qq3lRq\n",
       "MZxR9N3YNNH9nILdf9wO4y2nJAZcjrx6m+fOF/eeDc5HZULJu5k/GfWqRa7U96tL7cSqfgPkGVk5\n",
       "zqQNf875ttYRHBbM9uo5vU/ChtmMcyKgo6XEIyIK6X7vn7OLs6KNLymEPHmosPcSiVhoLvCcYoZl\n",
       "xq7dKT8UVGSMBAXGIEItTvGW2+AAAAD3QZ6gRTRMbwAP3JyDO7QzNhAB7vYe8z+SfBKCozKVnfuW\n",
       "g+7R4QtkTmH6rLepsJOPjgVBpBUfmrsZsMPncqS1kLL2cOOXB8o6/XbgavnStaJslG1ecrYpQKVo\n",
       "HX4bQdf6SL3UxrFtjhApSczugIJltBlsddP9Nax1Ks77is/DZxIq0biGJaUSADyZ28pznqTv1NYH\n",
       "Pbt5NgGMXRpm4ChJdZp0VDIvRUdnjA56qrGRmbV5Mly53iqHgliKDEVb9zFUHHJmVGFAHKqkwZeS\n",
       "3sM62rfLhfwoftNsTCesuZ0FNVhQIBhI+sjFEi8SSXiMNIBVthQGtn0jzAAAAGgBnt90Rf8AFII0\n",
       "WADaZOxDzPt75HCy/X1yJsaESehfafQ/kHqTVM5Q0Seq3XnFOKsMhgHvbCP/oCCCLTukR6QZybW5\n",
       "yvSMNWvTzI+Ul53rIoxPyDz5vj6gpfbOhthy8eT8PG+Uccj8gQAAAGoBnsFqRf8AEj+IZ/og52HN\n",
       "9vYJLU8e+wsXri2LwHGjwRqotGpYMzGXr4t/Az++A7mCWkm7+/mWAuR11kGaIUOSoRREEcBgAK7B\n",
       "axBJKmeTXKww0Uv1HldayNKFPFC6E+zn3/VWq+KoZxTAAAABZ0Gaw0moQWiZTAhH//3hAAIN7qyP\n",
       "a2kteHoANQVR5pgOzl2F3dP9UxiIUBg4zi9UzDBS8fMTVzBe7jaPLuWwd01Si5qflyCgcpicSXnB\n",
       "00tULKG7KeB5hwNibXIstXsgpn0tD4WeB0iz/KykguGtFtiFgCAY9HRsw5FuMq9Axy2J+g94s+Jk\n",
       "mpNVMjVeOyNn1Tl9UOMvmuG6haLAV74ayp8P0xwjZqB/gtCa4Exu15PEYTl6s2yVGn+b5X2J1UjS\n",
       "b4VpTzGTnx60UX0m8v2BLTxdfOpj/INoUbs/uEFTe7Cq6l8jOQIJBTh03JnQGc36/L8kaiuIFX4+\n",
       "JGvIbQM12QFYsbjmCtKnrOeoXQmrnCyrz8wP3e4Fvjrm2GezcuJHaXVn3jRp76jkw227QIW7ILCV\n",
       "Y7PWXVgst40oO1YCGo0bOr6hE6jt3m2K2iQPWeuZAxsmCNl/WveY9swNo/mUW5HmxyQW81aBAAAC\n",
       "SUGa5UnhClJlMFESwn/98QAA7KPdOyseLEOADi4W0O9nclSrwuvORch4t8WBjOxttGGCueSwTmd2\n",
       "CRhuDicoLvJMEicTQhCy2Y63/pGwW9+TgYPPKIb+voodVQr+vppsmZEArDbDsn52KcSA1jvn8dJH\n",
       "FTSeU00nevf5lU71Q5LKhKT48kq15DXOm2k9ZS8pQrMdOX5B+xpFzV7IhfNH04PIGX09L/1DUNv5\n",
       "wCtAGhdg6flWmwJrim6s5ZkgCwV2nNoaLQV5rq0TmPyz05v18vq8bwVUgCOqfQU05yXr93PC8eqn\n",
       "x5hn3rZXMfPiRgMywjdJKkaUXVIcjhA0yaI4vB/RWVIh1TqR/N6iHl4z3F7oWH/xgzmVQ7TeMi8C\n",
       "+GQsq1fhi9q/RyddKkL4Gfa2Irg9TFrnzqECg7VRZ0VsE3bp939LR6ymY60li2IghP97DuxyEdre\n",
       "lmEv5ymjrShTv6B+XXyUuxuCzxP9okeTdjiBlIjgHHNLMhZXQjQ7lY44tXZme2HNoCdAILZL+SEM\n",
       "71dOrlTMxavWyeIivv7i1v7M43cAsISv8aN8XGOyhrdvsJ4u99WvlvrUB83IXAeQw4VYVhY7R62l\n",
       "cmh6zMCTSo+n7U2SVS9LL7cBJ1AEsEvKg53ioQKyAi0i0yyKt61CHxv/FQ4GxBwDxiFGNqfjhy/n\n",
       "Zc2p381ATjq0TTexMOjHbwaKU4ODR2bfdbBwbMLa7xtWD8/4CahuxHcxvxz9j7FhwRO7DSgzsSrx\n",
       "hcFETVzYZ6Xb/UKb9gi1MwAAAKkBnwRqRf8AHcESn2gflAB+fcKSMhPvYVEV1sc/Yi1UpqKRW3lK\n",
       "7Q+Baf4TXsxCfus591RE5I+6ADkQgHJ+wCtK+25WDdXQjpmovW+nJPWi1voaSVIEnWplBJ/NdHLD\n",
       "+6IgphPTGbTU2yVXsJNIW3Jsdlxc3Ck89OUim6r7eM6n10tWnSw2orl675bJxZBdUkjnqpRQAkrT\n",
       "Ct7q4nN5yJRroEoDoS0SCmQUAAACQkGbCEnhDomUwIR//eEAAi3urHLrfEpn1iiAEA4bIs5TqsiO\n",
       "xn9klBd+vsbgbHJPZrP3Cg8yLl4BoDnPM17IAtib++DHhwBGkp6emTZOAzbQMo91ICAQ1XsrLMGy\n",
       "3+IMevZV8NSHqS8679/oELR2oXXI7+V6USxoH/axQUW9FJz76sFaJuYurNCZEoNDlIP7BORpMbrJ\n",
       "RN65a/pHqa3OLqec/FLz+Dmu4D0uBEPhlxzJxDC8Ed7dhKeMmX2szR2bwDvn7f/RWuXglJvMp46A\n",
       "QuYhnlrshg6IEaKbu3+u06v9GihuefywNqmBk3B70cvdlmxYlDMQFc97U7dpikpgrlwgq1YLoG4D\n",
       "r8V3ES3UYMEC8vPxKJWOU71SMMYoIQXifOI25KKF5vygS4MmqhfrDp+fKOn5FdPNa3kBY3a8dKna\n",
       "QVM9SL98FHBgL7kKEcsUgJAiNPy7TOilDBz35JdiTc/ikq9DiTcQC541oKNAUTiTL6hadkFM3bjM\n",
       "jaFAT9MHyQqB9Mge9qr1aysMgzyz2CK5DfXy+8ok7g/GVhhhTJIc7Y0Wa8EYshFHw/StNvsj6xhX\n",
       "bncDiyQkovjqHtqPxsOCH0Z3pQvWcXUB0dyMeYkInAGYDXSH/+eb0ST+bY2ZbAfDBW3qGHV/6f9C\n",
       "O+/QZPzLMf9bxFWKdvCgXZjisNYNdvYTtO5GIr/L2vUPzyEg6DHPUNwGYjTX2wtTEFuGpKEk02oy\n",
       "/wVoawRanm3gJDao4jXa2Qy9GlsBwXxM9SulDohhAAAApEGfJkUVPF8AJb60fWvL1eH2FUcTr+3/\n",
       "5PefkvZhYxSKgAt8UsJ3mS4937VMCZ5dCiywUSHeunOUP7Pz4C8122kRgl3BI/J2vTDYs995+A+p\n",
       "RLIVMGQGISQfNp8Qv9rNp15PAAVGsNk/JFd5SvnjJsxt4IJsgh2eC4OECzXNdc3nraxat3tFkweO\n",
       "+4k/6r38XMvzSRkpUO387sngROwYuUQooUr4AAAAZgGfR2pF/wAlvoLPULofsZloMaVu7HouXyZu\n",
       "WU1ASYtUOvsEbsdB66dmRmpvBN6/RLH0E2920sFlRZO/WMswEmVwQ84YOO0nKfzAKDnXvFQODBj2\n",
       "g0a/eBkDB+23FtBGPPu4LNBNiQAAAlJBm0pJqEFomUwU8I/94QACLe6sgouIGWDHzeSgCMitHnq0\n",
       "oOULoDwoUfwdXcFp6VXFuEGia86G2/+KoLQFHsJkwLuaCo3OSFTwBgXH3/B7YMP1qw5UlBLueMnM\n",
       "4ISlB/uSWo9ES/mOVBnFos+1yexsIWfBIOjZDb7ixG55jLsEzjFUu2puCq+cHUgYjLqcUIcwk/RB\n",
       "okQkyAlO1z0KPSZusTCpRRziv1+ts5Q3ONasvFbWbEGZ14cbVSZEivlFyn8gjLEZ/Ja7nPANGHjf\n",
       "mElddA+yhNwBV4CSXnTSEdrOlJ5ygLV4hZRi8iVs/LLUxb3DB/BH/y8zOcyC5Md6dfBL1Iz5xFNe\n",
       "ykCAczZG6QrquyMxAIDdSj3dv6hCb/YD1iMg8W6oXblfZD3BAhrjstJPzvoxhtPIkw/oLZLrh6wO\n",
       "ozwio2vz67LrGXBigfCxi9jpcaBOziJvXspqzDlhjdqDYY6q6hrYE6KgXeHecaJVrVx5Kfs1jxIC\n",
       "ozQCS+J6ikZ/a0ltE/unKf3+3gvHuBw4bf3/7IAfjin9EqHWQ8fTulVdQ/zAVULJ4IeR+mahrS5t\n",
       "YMk3bKJNC3EV/SGfqiZs82jXtGBpBYSMWIUZEOMymRfpTKP1Qs7Zpv5zimOPJfyvcZFDAyuLbEpZ\n",
       "49gL4FkVzph7OoodIClAhsww9ciLf6msgzpjLjA7SquVEyAYltFY/38tMztSXy8ueFFymlRH/6Xf\n",
       "yuOFrzrVY1LANhzfo2uC7ixzNetwpBVwd9rTmLn+N9JYN6AECZbqmF4x/Iklj+UAAACYAZ9pakX/\n",
       "ACXKxWsIW5XqncgTpkChdXYVbG0ai3Ww4GUkBbf/EAJJOt98E9ZaBUQ1y5g30NjxYv02zmhbCqBh\n",
       "9Dqs0zI+XlJTWy58nBcEfGI8G3XDsIPwNUGzvEXbpj8vMs5WtrfeGcqPJjsIuI2L4Ic0/zKa6hvp\n",
       "EXaAUDP4t+bkRdfDpSsbeCYA9c39PYcg9Dwmb+RVgLAAAAHYQZtsSeEKUmUwUsJ//fEAAN19xYGI\n",
       "14AMuv6lwAvGCt5oPlORovE88Usct5JobuhbaOOWYLX31zll159jJ7/7ClsAeo6cFsSQaUAuQwK8\n",
       "3HjvNK4fYhoxvBTQpglwjZLOxReyJRXa0krmkLxsiJXnyNocdfq8kPywJ7Qlb9bfJtWeZ6qaqnbA\n",
       "vPsE1ZMK2nt6gAhdy/f7NyEHi/j/6f/T5nTw6gC8HkA9ocbKNZr5DayTqzMIyHDSRy9MOWohPX9Y\n",
       "SYaK3ZgtBE/Qhj4Cvbtk4fAMqzsQPE0MaxpXWxcqbzurepkNl/70SmFYIw3YRNTvVvGWLSl8b64s\n",
       "ghEJ8tOlEcsuEsgTeIfAWsq0mNmrEMzcaazwFdwQAN5HvFAZu0NoEg6a1Z0S4lt+NdGSp7vaxdLs\n",
       "ws9GnxlxtMmA+BBrEopP4QOJpxaXzEZqoYZFoTFMc6S2WVmZX5QBeb6QCFb4xEpBIKxKC0Pvjkg/\n",
       "PMGjMSPumtzjCiTby5J4pMY4ctylbHgm02R/XVdrFh6hq1ovHemn5rrE4veIz3nSPc7HLg8u7ouL\n",
       "6u3TXzdPRLG70Jy9POCEAw3cz5pEV+QlNpJ+bbm0hVbpNBQYzLuKHvsmdwThXPBFMAwoIAAAAIgB\n",
       "n4tqRf8AJUGTNlXHgBNMma7Tr40GaESz7qbjVzYkd+jMi60zl30/zUitXkkxLo4K7VvHqR8vr5Tr\n",
       "XbQs9FColAnnSmemXjEA5CAf8QVjcfQaIiiryG3jCi3ESaLCLEO8sSZhVBtJ+jWKuGUdrCMhfe96\n",
       "yN9BQRfwmn9mPXgRvUVS5z3Bq2/BAAACoUGbj0nhDomUwIT//fEAAOyhxAyvdC+dCAEZHA8+zhWB\n",
       "uIUs602EABh/6hoW8lGaFOyIcIcG4d+GQfnVOqqEZJmKWoceDelnA0sabF7P2WoYfHwQ0x0ypP7o\n",
       "IIuudGbsersNdAQR/SCngeu+U08NUvC3wy7vzYhiDfuFc2M6CNdmnUQodlkfM0avfrY1JLS55ZHR\n",
       "AYGl8pTPWZ6lRDhyKAKgVtLxUz+AEm6S2x/JOS3b9opT72Dcvt5HkbQtyOydlqUgNQTXzkNUtZDD\n",
       "MJ6j2XD+RNan/e9t8KkUPV31lZ9jv5BoE7XaYXBAoHRVz5r1VnhgAbonT+QWvao35GfAokDJhWTh\n",
       "mC/MEsCnXj//LnNJMxsY0uicDF9ak1lZUNqZ5VHz/8lftbiUB31xVcSgn/fpvefW051cmMU4fLpT\n",
       "TcGUkZXV57XpNIq6yKFz9BmO2QCICN6TgxN3MpXQ4uV2Rzr8D5K/YAj6+PhDO2/BPSuODJcomYlH\n",
       "WPPrD6IO2s2RzfJCMjOfJrDT+7dlt3gMva49w1bSbfLALY8ISwOt3UrYcgi/W2UuhY/psZyTMK+6\n",
       "zCM+mNxS2Ou0gXIG0TaJuWu3ZlrlxhlglkGXUXq2qtw05aaYWoUmdyHN2cH/g4usTG9W2PW2aunY\n",
       "ckvBUJZ3HZfAirlyEEiovD1uhjxkpqKbjY4vX5fGrb4j2FQX98mR5XLr+FI1vDlXCMulCItAvOl5\n",
       "qPe/WGrkD2Ew4ipQAw4bxEcq/vwLD4Op9pJSLBVJ18b1g28Kcds/fR6Ew5aR8jgYyf/cTfUNkmM1\n",
       "68b2w3zyZRa/dacG1V4ksLjvmAbtGK+D3OgYcWiVacBtmppq9Wp4AJZTH0khqGo2J06/99Pfrcpp\n",
       "3/B+qJKDVUJvglU6NswAAACvQZ+tRRU8XwAlQZOurkr2Te9XqAEm2KwrtCxaCEksCxqP7fNBVAVZ\n",
       "ro6mg8tfYSTfLERBDY31H6a1NTUR513b/IQjtZnO9iaJOCHiYDAdoz3Z+sq5hFWYlXLKpJMUMAVU\n",
       "Vw0R0QKLVUcvvwN917SoiPNh71JaDNhRpsqa8Vj91Cde41hUFLJVdzR4bgFIuHWkebiM4nIs1Kre\n",
       "3fNs0chdoJoF5XFFKdxyy8qlcr3qQwAAAJgBn85qRf8AJUGTrWAuJIAEC+4LaYOC76zWCZskXMpm\n",
       "N7BCqAvXSDbYflYHRyAKLPoljWg8CkeyhvC+NevrXfJPcXelZeDpTuQAxd0NvFkFzhXLWVGPt3y1\n",
       "VbcDBExCKnyeduqm9neeDAsccyxpbpuCsOqQmOscppaEQUYRp3EuVN8S9ijl8soXkiMcCqHXxND1\n",
       "ORBHn2AQ8AAAAdNBm9FJqEFomUwU8J/98QABf/Td0BWN3dFao0aaACk/T/84/4iSPUD72CnqZMKS\n",
       "18jdMQ5uXSJU4pi3M+YyYc72Hwz/1v0FZBBNx4jM+6tmuGnPCbiaKANuocWB/+0+Wt/SMyV+MJKq\n",
       "9MUz1qbpeOxfqnC7ffX5yeMHtu5tHaxC/lChw3Epl7WQeVWfZrdAn4WP13Cl0DqwtAeAsNwRVqRo\n",
       "V+eip8T388vStEtnOpsAglO9mFXMD/WCuVbwUtvpxZmSkdBA4GePxzABTB9qTlwbg88Njzs7pJ8W\n",
       "cggbBmFLEJSnHZydk9PbUG9SAOz6S1G/UPv3YWijQvNJ0mengRvQ6+vqppAweZIocgO4YnZRpIhI\n",
       "m1zmmn8G0HeinD+QX4shWHRXZB4F3vMqO+ywN9cNMvd1FHrzvlr7Uo6xi3y1vntVDBonoYSkUIXw\n",
       "p/jOVFjiHCquyMZuVha/6qiNLqVKGOOAtjG/5zUYdqEguSQz6B3AG/WJiNjhyDXKuI+HvSAME5LQ\n",
       "dXBNlFVR4PnfbpJXtRzfDHOcwJCQDkJR/T/Y4v7lA1qM2TJ4o4WMbbH+gEYjEzvX1hBwUuy9Fv72\n",
       "8PvQnefoAiTZkAFJ/c1aEFuMRjEPmQAAAHMBn/BqRf8AJUGTqELMTdwLAB3QZ578sFle0VUW1BXg\n",
       "gHYpzHFY6q0omQyP/H5yIgCAKk1w4PzAVKKrkms0jRZ/HEwPcYWoBSSm4ILUHlDxOAnJTelW2o9S\n",
       "BrzXWnSHnTyiZwC31YCj3Sa35I2k3VYVaqBBAAACwkGb9UnhClJlMCE//fEAAOyhxP/BjxMAA4Qn\n",
       "3365hhsMDnohuXUmwExJ6brPkNLySitOX2QwiPWaChX9BT5uze54pZAqQESoKvp5UR4SXmvV83pu\n",
       "tqpvoJPp/LzaLsX/lHGqhNljfT3ARGmidKgWGLgJgAQeEnfnz7JtVglSWDeQba7Od5XtulSASs3w\n",
       "9glco8UJiRB7CjfFTsgp+nR2a5VtGNIU9O8j+uhnp40iXwjgadk3VtiCYzyU8aFkqOFoI84TwjXI\n",
       "jESNEpfopDXeAy5IiYJRI0e1qXBL6I8btohOZf/Iosb4cPT7n678bhqpV6CEmlefj9UhIYPRbpJb\n",
       "mhLFmARgopwUUZlpqgGpBHA94tp+ZjMJDpgDv/Le9yKhB9LTT1SzX6f66GJqcUXQwe/3oYNCOHnX\n",
       "8BRRHm2UB0eMAy46lq3rH/wBeAaaAqWNoarFlJcxkoQw5bUBlPck2e4Mv9zPEMqUjiTjZ+vVkDMF\n",
       "ZwO/RnkijCIOiXVpOlul+OQTqnBB+zTMc3ikcF6Ka6abpO+A3FD6QkotwhjeGypmm9dSiRbvEz6Y\n",
       "qJncpvXbXh2dJ3sXQeIoNXC5VdW9SdE1M0zu4amUZHGjZVKmIlrPzNNQjdpJ3yVV30Q6cQbWGL2b\n",
       "5BGNaY4rzDAFW2yUF7a/nlpbctbJ1N7YlMWmcK2bPNWAZZoGL5UuAR46/A0cpqsH4wz0dVulO1wA\n",
       "dF5jGLtc1HqHF2voCeLVbONCO1c94FVjUQblYbTcaVYcxTUb0tikGPwb5Uak+TB26DLGI8dtaVYe\n",
       "CajYMCNKdNkYq3Qyx0wWyB0Sb5TSMgflYvrWKOLAcXpYKFetoqdnj5Lk77elVbeX1JCAdpRvcWFv\n",
       "uF4ez79A52ybQDQUTxS1VctRr/+iPShCiZ97Q0PaAximLUCYseGnfc7PVns/ahAYv74jPcMAAAEO\n",
       "QZ4TRTRMbwAdYHlSjpZpIwQ8UFEe6jC7Mu5/c/cQAmYujXFplYjLo2rPd9ve049bj7EZcgZN4H2/\n",
       "3SVg4ApRtSFa/a+d3CZOmQjNoqRKaOulHdFBGB7vPL6hteFDBIKXQtIknlM5rKzWx1Ci9vKTxfuH\n",
       "R5Z2H/LCM3smbHcThMLdWTK0tbaMHOaq2ZTP1vhPKwrauMVZmH+q0XwKnYaizctVoPkQDqgO/1HI\n",
       "VrfhTA9JdBsVus1+nNK0plyp99LcCkN4jKWvkzFXtTbX1vwDyC2zfFv6U2cIqRxnLNtbwIl8tNYh\n",
       "8ITCwyAwZ9LwA0hgshBpbb7tq8i6fSEwKOcNDNkvHGqJk2ObPkFp2NShAAAAkAGeMnRF/wAlpD/z\n",
       "iKzdeyRV3iecfBwhRNbZX4ASKxjR4/Z3eiSt4s3XBJKYG54ZiA0P19MYAW2UegQc51nQfoxb3Zw5\n",
       "0ft3vioZqVKhu8BabEvRbjV+Jz6VwfCa7nlP8usXLxWWFWNMDnwKsvEcUzT8+lGtZLX74b7nMkmn\n",
       "VB+WBxYngmWI4QMo5318w2Xl4AAAAGsBnjRqRf8AJb42zVlcKAg5OG9Hu1HgKgxD1v0Icc5J6raK\n",
       "A/bzcU0ZSwpu8TVp5L6Ns/9ZLgb6hlxzIB0/vhEz39UbiRimMNJcQiPYdew5/oNe9yvddqYCpdNF\n",
       "xW1JgQYljqtggK3Qvbdz4AAAAo5BmjlJqEFomUwIR//94QACTdE2zYWuvB3kuIAKYw7WmmObrCNS\n",
       "zQPurcTGLUsMA0Yqa9lEVIuVgfImPyc5e+hnrftXb2JVjDNNTo3Aqen0y7tSklZ28FwicL8IySJA\n",
       "yW/C91pFm4JQu/5GNXiKaONjrsgDZFH3b6Z/WsDizFtMYZxhisTmaezCUkJUt/o5PjpWJbaSQlFH\n",
       "gfAZ5bMJUELAHk6bsUh5Dm/MEFUKMsppkwtp0eZ9K3PKR1aneuuoyJvX+sKqNYNKWqJk03KlwFNg\n",
       "nWATg6VYTBJDO1WiPghdht+5b52sIg0cq28+OdOhExTvVHW3uVDnMkIoXvBeq444Na+QqL1O5ULS\n",
       "sbtVzzg6TbnritdGJBkV8VzwZrnBdMOiPbFjnkJ6mOeYwzY55WahosIHRWatDrXQ3Jt4Z/fLPXti\n",
       "+jnG3k74LuadJ7ATTmG6mvJqptSOwIBI7p2DKUorWA6CsM86ShxC2g7204zRbyQfzAMVKWsrbfgb\n",
       "ot7/jBCem51QwzipAZxGgXi++QEcY8aWpegOswRwBsecFw5Av1m0ll4EQZeEOlpbTjLrZJxFBE1F\n",
       "tropKHgf/8xTVsOtH5eg4v1kf+NpjuHHiYhszgkhvcqCmO1kvz+XnPELSIBkBhheYyCps0Uve3Tw\n",
       "EIVJJNxXpgJj3k32Qz0pj6jXQbfF2w/GyCSdwUJyJlJeoOw6EVljtWBKGufju099Tt+0+UQiXXeT\n",
       "jY9KbTZ4pJnC5kFX97rNSImXr1TtAk3mI57ICfNHVTYa4RaD5tMT2qiPnbaXgIcxDmeaVJEgM+db\n",
       "8WzXFf5plOLRrELIqP+4kL1941rmZoCMJEp06Pcf5ohOBj9PpEbYdag0D8IZoZ0AAADUQZ5XRREs\n",
       "bwAdv7hJNRRzbgAff3DRiAkUsqgnQQ7g7Wl2wXHJwTrlUM0Fy2iEtJoMrapcTfr4T3FmvWnDkmVn\n",
       "Wbgc8MUFqmOpK7XTFlgQO/RkYueu4r7cffLS8fdm3VjrWfs8VTf6jL4sLlPSW10+yLuYAo644Mv8\n",
       "VQOGG8O2qlfk3HKTUL6GtXRP8JP6wcReBjMH/cV2ZN24m6TpCfV7vZ4fpxa5bHcoKAziSS7bPTAV\n",
       "lvv26Bz8aQHYowoS1AAUkjz7cvoOF8+3I5/8PzVQFwerfoAAAAB6AZ52dEX/ACWko7ZYatcnjPhc\n",
       "5PJUSOwNHmjSuLNbMRUu8HUREAI023XWl+ybq0Yyqq4vdjPzmeCv8jncZhG4B6zK/JpKwlZHuHIp\n",
       "jxE2kdqV5mCisuQhnCyjkPgDKy5fyI+MvHk4GkvNEh9WepCDFNfkMA2MnFkcmZAAAACPAZ54akX/\n",
       "ACW+lvTgI31ABnsww/L13IjJXkwXGvV6LEesR+PnRo/99n1Ia6NCigNbxI97bfSFTWOT7lg15M9A\n",
       "4UmI1OsJQXkfjz75DUFFsK2rXS5oKq3sU9v0WgfZkG2l5BoKAw6QVDoedE3XlII5idD7mVb7jfAJ\n",
       "nNZeg7cG1FMwmxZlp8wcBCT+zGYf8ikAAAGvQZp7SahBbJlMFEwn//3xAADXlpiEADXtJtZKDoTn\n",
       "vbldgsbRmPOZQk9Nmkzg/yKuWPojn6QhiJVadh6f/hawKkXzmNvI4Lzrf0HBN5livLpeilreds4U\n",
       "omGfVV2kZqB8eg+0axSlbyScTLMB+NSnMTy8p0bHcE2utTWk23HnFrXrKQtUHzRc8gq4XrHK2a0l\n",
       "HG89US5tAOeBYDH1GZqWrE/2Q5dTaCi6t+LBWtcUoMPgH2x41+Zc4ayJeWzV9WVjYi7FvLHPPqeV\n",
       "EgKr18/0CXGgiG+QccobdRUixsry0L4Jpo/L5rW9nAQDO0809a0Yv7Z2wMTgNI5zLI/m0KxNh3vT\n",
       "G/4g64FV5gDDIzaK23xKsNnPcW1jkiuKT3QcNtPvUn7A7EBre39XA6Lwv1jnMEBe/Ea6LWAXy8YH\n",
       "3SAU4E1rqPEVz4iEE0CEs8qDrFweWfrrG7uQEBKSaIUmS/C2woxlyRyzb2PToFr5FaqeXSMMhAha\n",
       "O4B2fO/vXrh8q4mJNGsIjXQqa+n+tfAmfTMyPwARlTES4HWIU+JsJ+xME/Bs77hzNj8ADnQLFz3j\n",
       "R1cAAABiAZ6aakX/ACXK3Ii9I4VXjrlcL0QkzlROVQ6oT28eABbQ9vLZMXDDUSv4ytE0p3T7ulSW\n",
       "20ApBC+ACkZ6qDD33WPc15Mb18D28nkcIjKqTb38jz+RSkd9C5IJxSLZlU8U84EAAAINQZqdSeEK\n",
       "UmUwUsJ//fEAAO1p6oOACu4j74p0pyqsh/c+7W1ZnybT8AIHq7WfwU+TkrpUeHtUhTJHSdmB+SXk\n",
       "75AkbYbdc74kWdwcxshRHsEI/2VOsY8oG/Rh7Mm9jgrWP8UunFPnMdoU1RhltpDWhPS4Z/ONqRtm\n",
       "sQBE2OXHCJwwL+y8N4hCmmNAks33aMKq/+vLuJUsid7Cs8qX3XZju3m4/ISUQr3/1c9DbR7gLO3P\n",
       "BQiztEmGBivev/oY8qyNfCCqeTVQGgeogVV3RtHycoY//2E0siFwaM65EDEJQhrOA83v7QvSxw2H\n",
       "6ozhGHM8aYwRwXidAfVrxWfEV7FC+n8yDCSNoOBz913nudcLpXOnaihPiE/uI5KdmBdgc6UvVtn0\n",
       "0mln2Jmttx2mqX5hZ3GJTawMZOmLOCAmCfzhaJXFAw0Bq89IX9FwL+8QF4PxbHISL9fmEYTb2J11\n",
       "FyyAKK7y2tUqCsvRG7ytG8iLpiGnY+mv7jRhKBjuLgmrPhWZSs0KqCWBhOo2nux0vnO3KVeuu65P\n",
       "QkuWFaw53SUDMq5qgdR4gFNBRQ6dg+3VNDKXPfzAvW8rlOu6YNqTRpz2g5D4Zmpsv4K0ojUzDLRQ\n",
       "9TglGH+fqOG0yvDyXw+M0pzBbG/H/OTRx84hWdTDUyAbUs6iQC3J0fs7XwHL0g95SXKKkoHb5RII\n",
       "qhPgZvtwAAAAcgGevGpF/wAUfNIXIa3J+6sSzVxCWfFNhPpeesQAsVT6wm8hkkcRCMWI7Sa5mduC\n",
       "byLqqxGvCW0Lz5y+GxCrkltlfOleiOnPT8rcWU+1/L0JJwMLWh3JJVh/Pc9vLKRwB4rju+OS9acK\n",
       "jvkONo+mUPlutAAAArhBmqFJ4Q6JlMCEf/3hAAF/KpH36iAIIg1ljLBYyGaWV68Qm3JTqe1iGMs5\n",
       "QslCcTag5OWzlObmQYhShsCfUktSWyJrQYamsegAutAPhhY9rX2qIAyexfyLZHX8OGRXpntNuW+6\n",
       "hozYpy/SBthArLQkVNIerFnq3SVcEnwB+NHSh9EbrNhn+UHxSt5MvIt8duZJkn0Sx0Hontw04r81\n",
       "zuMeu/+ENBG53NC6pyd3oEUDtt8y9RGFyyDSMgAqE49q9vPYO8IHi0RuxIXIwDg9lwumkGY9jurn\n",
       "XiV7KH3HjsYvge4YTv96VN0OFTmjL6+9Sp1x6g7g5h7iEowQx8mUdIgRKgx9EAY3m/0PGv/hmTIj\n",
       "OPA6bvsNYV7u2CQl4mQs1HvK+Xy671Ul9OaYTQBMLBHp8Wa1tvIrKNLP6k87GSSrmsbJV982UjfD\n",
       "2dqNiIhn+Dxqv9AWqLR0oe6gmnoCfjc364NKupl0P1rD3rjlcyQ6b4I5JZuvAJ0qEIj5AtQjAAOm\n",
       "avehCsjOhH8toe+BGqRw26M3WQhIV2OSGayhOrn0iANfY6cUHUp5tKe8f5PNX1oDLaDoWn6nx/pb\n",
       "nk5wQAnMuKOvf+h22omZcV50fxQRJNh8f2nW2b6fSyOGZFXRpjF/lL7KH+DCQwJRFcapYB4w9Swa\n",
       "m5Wa6mYZrC6CdNqBW16peq2/nmomupAhYYrYVKUKNhf0Ry150+YdRnUpxJ+EYAZhZb3czMX9kHJ1\n",
       "N1GYiGJ7ADNs10qdvf24Og8HAD7Jf4dxw9PeFBensNZ1RVpRWi2RYTOvQdvpLJOGjoBiQI+j+Tog\n",
       "hY5UEVco/UidzAdrCS59ZKKvxyLR/wfIkW8YyAQeWvkUhnZvZB8hafSHwNNNVktXdJfIj4/jbaOE\n",
       "Ujn3jKIsMa8WEY7TUUF4+kZF6NOQtR0fCOEAAADLQZ7fRRU8bwAc+cXH7MwYY/lbyFxiSiuusJ8v\n",
       "rfbKELuccVeL+bODcnlC1GaACUuyiM4vbfuxv1qKShhpUp0BQwbGo3Xu2OfJ7j6MDv+JWaWEpO0i\n",
       "VdcRYUw8CDZLZLy+klmuhxWNG/v8RSqnJSI0ysfpFTYOqnvWRbbG9LLIGJ+8T/3sZEzvnPv14DEt\n",
       "hVmJvZ6T/eU5/P8JXlM+Ser4p5bGyyaOokrzZf3zUmaXXFbgoEI4sug6y0LnXbPXFRBMGhSFpkBe\n",
       "48i+QmAAAAByAZ7+dEX/ACSkqHokEosnHxUjUyj498oaYNNlRNtACD3qNV/tjFaRVzIJ3LUIDuTn\n",
       "bYynBeGztLWYGOXMy1+7ooV9QWCFght4pr+yadOFVe1gFLYh8YbM5k3HtsjsDVSXSEMcmS1AoI8a\n",
       "OtNGFuaGjFbAAAAAYAGe4GpF/wAQVjOPiWX/3BBL1MK3ZsY9H3NosOXS1DpPan8AKgqAulYUgKkM\n",
       "sZTdlY3Mn5lAxwRbntzhIOek4LRhGMn9Y6O5dPh50UNXxR8pOZSVnuh2xXmo+qHz+AxjQQAAAlpB\n",
       "muRJqEFomUwIR//94QABfjzOyojgC8cOztCqKDrC3TX0spF78jCQu1/XzTLxW/DD7cCNRsBjK1hd\n",
       "WVHNmwflFyP30y8IVstXLmjVDjMfjeRBd5gWbNfKQBkGAUSBVymC517jAyi1asVAtJsjElUNr6zw\n",
       "RxECKZ27q7I0joR77EsawvktxP1ZQqdy0o/QyxTF022AdD0A/fkSSildLBGlM/+/b6rP+O95E7WJ\n",
       "vlm30BPmQbxlq0F5YNSRANZd7nn1z+MrelqMIzicDBdUwD7b5ntLxjRDwcSI4438qnbhZmJPv9pn\n",
       "8uz1LnINBWqJ0607MiDpqKZmqZX4g7h7r/9bo6pgoxgOx4qUN9enI/WoBFqgYhh6pZ0Iw4w9zAfM\n",
       "MFcWsyk1aA3CPCU41r4JvKxGVzpdllLpo/4+0dJyTJxFfEwORCLk0oaB6/FABzVpuwZHvRXcrhEg\n",
       "O7Khc8OgOPwXZX7KloMtg/dLWnXlngHX8Vw2Phe+FjbAY8EyEchNN2KhyDmaIMJyO/bzAI7Jmka8\n",
       "sjv4oVp6PtDdwhlYAKLNRHxz4P58qJH2ycR5/xUR/jGYdAZAMjr4UtGDII5e1c12WmcQjdJir6PN\n",
       "m48A7JjYZGGObbhdJLXfOkBVpua0OPMCQl0ZDqqssvFZv60mq1rS4YnhPv3qAK35Bgetks22d2LP\n",
       "adG1p6n35miFtxqPAknCD0yQvkb3+MmXo1DIyH6UN7cycDWFCcD5H4K5lkQkqj+FuITyuBb3gr3E\n",
       "AxbQDQ3zEYdG5LLbxM2fnTYLIEoDFNCqh73gb382gAAAAOJBnwJFESxfABR302DAAQOEi1R03qeh\n",
       "g0bschYCMjsJ1ISaNrLE25t60Z4hC1ZZQ2lumoMbzRRob6kVqheo7ADjj3LW0jEn49OprebKowEr\n",
       "X8OYbbx984E6zYHyZ3qLaaEqxoxal5EqF2YakWWQQ/0s2GnROk6Pm3vrVxuwHfh5MMV692ec323g\n",
       "hmCCXdFx/SIrhkx9E81bXPgLIM8UjubaWMOdazyqxd5qTMjSDU/pH0Zourldwu+0cQi5QsCGoXAp\n",
       "U730+W+4z9FRszXFHHpN2RfL8/Rg/fX5F88p8pDiJdhfAAAAlQGfI2pF/wAUcYpFjSTUIg597VlT\n",
       "x1ifqrq//jxaDONLy9V/yIAWBIG0nxq+ZQiTkTfUWnnGYam9/8nhodrYRxAWGB1sntyPw4e0AOCj\n",
       "2bZAdTRvdwbtP5iervA844S8dti/sD3j+jivKLiZR69bHZVsAf2s6oByQrizcg2sUxBgGt1hrmsL\n",
       "u7a7jGalhg03AcmRJW9BAAABuUGbJkmoQWyZTBRMI//94QABUFpeig8AAsyWHqUyp5P78Erpmjj1\n",
       "lVkI/CSrAt+DkfqgujwQf2+8QfK/Xe8fyhDpd4pRBfpq2fX5xx9CAexcgn/xEaYa9Ot54AWBkSeu\n",
       "t4LqSZ7VLqMwl6QrsI3WLiZrFUyaRfCmVvl/eprJUhwBphSHn6UfqzN/X8f1KDD/UlZQCDoXVQVU\n",
       "JoBN9mQg7JnsaMUxhBeTiNZM3Iui5Q5FT1PIiuY3VBn297NCXW1Ysv9M1SaNqHctthTb6z+F45/+\n",
       "nNkt04qM/OOVUitPa3X8ws+ib9EwRF49GnqpyjPqVyvnQIUAeeetBKY7iIWhNnkYtjHuZ0+W9xCu\n",
       "m+2A42oFc79eexbKXo0bu+ycRs2Pl8bJjVQDyqkCW06GVH/ii0gS3Y2AR+B0RwEpbwDg8ehDwv75\n",
       "wjTjpwtWNDhzhB1VZO6/NICqhGz8rrC/Wi35cvpwgnJ+3v7gtgKq/Xckwomg7WaBQk64R5exSalG\n",
       "oYi1FBYCJxbdwDwAIgMsfcgciQQ3dpKfyoytTGJ0PEbFIjKELuRfGMl3yybqQyF+BlTt38XHjBnF\n",
       "k3OGyAAAAHwBn0VqRf8AEdLzigAIbSS4pfRkwL2njy+ghoDUrF8XWHTuB/tb2rbn+6SZEPktV1QP\n",
       "QPOmmdi4KnyDpEr0iutVaie7xGug9uHAhOmnEFmjWfm9Yu+Ix6g/5DrBDxvmDYMS2Cexk1mzUgoD\n",
       "IkeKuQG9k0L/Ao0EXPq9MxdBAAACOUGbSEnhClJlMFLCP/3hAAF+paSv+/UQBQlwusNDtgLKH4X7\n",
       "I6hSwbyKNCYB4jL256ofvCS7FQiuunEofMatf8b6OGST/dOTdO0+LCgAh+ocloiSiTa0QQzLMWW1\n",
       "nK4bPXdW5sc4DLCP2n7WPLJlTcIwaHUoLkIp6jI49sMm12YVi+Nud4Wj2jBHZJZSPoqEc9efOT+3\n",
       "v4SDHYH5ClUcUmrpCk/Lhx8KM6iuYFd7A5vK1zaqcuQ3Y+FO1E/ljUbdjLsq85GRvePCE/0eYyZX\n",
       "GmXvEbrDGx0FbJlFrwO0MYmsY+zrfBwave24U8ThTu+WbUC6Q8ksv0H/l/64B/t4GtD8ye6ER4Mc\n",
       "ZE0M2BfPtm3Ns2M0MzhNzfcQiNAi2XJmx3pYdSm5R4ICkqvAQbLwK567forqzKJUORIFqANdHWtA\n",
       "FfgGeuDnN+O+9QY15MPY20QFQuqk6dzb2BBoDaPwoFxE91vwb/JaZH4HPjvFN43Wci51H0aspdJD\n",
       "9sLlf2o81tNvjGq1dv8ReuYOLW5FeUhHceAfHwo+l7EcJibU1RzWk0jYD+/f4JoVkBuDlNqtfEwO\n",
       "YuHIl1O43QFuWOUpYhTIE38BFAm7iuKZE+UsruqVs82gGfrpk6LaNoGHCue5kKaHx4+9rntVn2Su\n",
       "L++RsPueqUAmBUe5Abzu6EtivD3T1eFxUQd0zzpu9nL4bemP1Mzh9YyB/xsH13TDknmyiQGS/8+o\n",
       "FVNUJqXIOTw9XweslcXpAJ+qkunwAAAApwGfZ2pF/wAlq9epAQYwAbTJ2MFavdi/p81CORsdQCUq\n",
       "aWgmE12NGSMJwZFcKozb5wVd5rDyOfi4T94UwXVRxTkChr2p3RuLFiY902ySQu39iCjMECOg8o2G\n",
       "pEtrM1/ofzYnliUyHTQjM7RfTOKBnui9rVVn4wCZV/jLAdMmXcAlSELCYadn6HS0cHnf1GHwdovY\n",
       "BuqpilNc075N6bfZU5s1U/OPN0WBAAABqkGbaknhDomUwUTCP/3hAAFROCFegA3NYC13cPwnZtZ1\n",
       "DkzJtHCFYvGUwDyqv3kMnjr6nmYJPYTQjzS5QhJtReWbxAcUf1SKTlTVtx/yY144P1PSnaXxN1bJ\n",
       "EnTko6JjB+GwpLw8I/UWDcW2MqVebJiS4/WRo9skPGxcucWw5fKx+/rtPf98IOhNyi/4vRwDgxlO\n",
       "bUphuooNQmRDBHc5G52V4NJRGmlmXLJ4r6pSgeiN5nLvuKIL3owg5mwj95/0bNujA13Y1VKEfdno\n",
       "cKXCDWcHs2tC65M0Hixls6RMikBFdAUhRYEtF7W028Ocd71YQwqbpPM8o/09emqka3Sq8OPy/WX2\n",
       "qcqwnwYMZxB0025vGonfgibLA9RVvYioRdueGVMsS3o7KXu2/Hwy+4uzOJlJmpH8HkH68VOznxEj\n",
       "BAdYcYqahKFfHlt5bJMClk00Ve2ryEu6iT3xDP40gNr7ivfqKKRC0MHYuIJi7lLVmGSat97oiAZQ\n",
       "HW92UGDMJU+PwcPTZZNlg/DSPCheY6oJYiHJMP6//DS5YBu6zwI4BTwpUZX68DmGiAYBnQAAAHUB\n",
       "n4lqRf8AEcRT++pSs+13RyIfCWAvZ5p3XNDAOZJITC//2ky5dKiKPE566/vdDNjYoieEXfKtABw1\n",
       "rNAik/xJVAri3Ug33VqiTqufbbXObnwdasptHpKvNERGeCTAGIIB8y2lAPA7NWnVtaGuvVo3CRCT\n",
       "xogAAAEiQZuLSeEPJlMCEf/94QABfiKpYABSxsO0dEzMlGQZaXGw9BFYEdNd8WYm3QpwPjHNJnp7\n",
       "ulR0B7+HLK9cLq61sNxqJF9KckG1F6BexcJoz0lsdu0w2ogtLgL8TFfPsn+gGS55pLuDY9y8gBh+\n",
       "jZluAqi6uuDScmSu1+49R9we8zBSvo1fiPJFLuPMydIXubC4tDcgrvqf/Qk7Y2FCn56YGPt/wh6z\n",
       "3p6JBLZlI8LjeN+/N1m6LhVrJmIFNu1m6HqA6t9V8K4dIsEk5WryFySqBr3zSGraNVW9NFK8++di\n",
       "QjnOI2QzgjBWG2IEbZ2OzXLWUSGF7N3WWz6AfdAbSswp9bfxAP+OUZDuzSrehNXGRkCfJSbT+7au\n",
       "jL24xRxtAJegVEAAAAIJQZutSeEPJlMFETwj//3hAAF9Z5zYAqvzZAI+zv57T8Km8uYDJ9lox21B\n",
       "hqax57q3P6ilCJOv+sCTOnrAuKBIXzFaPasyev6NjcN33lnpBQLxMwP4y1j1jgdsrP0bP105lf2T\n",
       "9CREEyGTzW/3mUsbxisijOqy2ETSjRAUkIQ/HN6SehKvn2xvBOgosr21GqrWzFtB2EhOf5q6rh7h\n",
       "eCkMCz9bnRouA1WS0igluo0INgEOK2qQK7OaBHLc5tTmdxorEJ2ia98cOZFkJ0b1fNUhKZXgx/dF\n",
       "NCtVVd+nDlzma8vB7agQkJmcwuh+hc9ALfxpAY4UCy+wubmHyTa31NK61t2/cflfdzmUDlrNouZz\n",
       "a4C/LWnOh3OhDMl+0C9PJmrjsrO9H/UftURbqQL2U3+GRXy9Wqn2FtNN9QZwlyJKxecytrTqjmZ5\n",
       "ymMHqyt+0TPfRmAOhDF2QEn0ARYF/oldPhpY2Sm+TbpiWSqBa/JfpbrRE6zYMxTYvjZ9udFCQHFi\n",
       "XmFiWI+nRcLJ1mqmMSyBblyxhvvHYbLUOiIJZXpBGcZbiKV4/RpuWDF5HxQq0GeluPJSqOqQe4Fa\n",
       "Io5IIwEfYGQE8kneGxgevl9oIP4bZA8ijfix5U7/awpeoT9euU1tXzcKoKo2TKXCBJwjeceY4b15\n",
       "Ko0brq5uXv8jgF9W5ZKgL+eavJJs70EAAACXAZ/MakX/ABR80amyhPkQOqun4B9vQAkbehSwauYs\n",
       "fzQqy3wloTt2WSYkUsWQTu0W/PvUIjHLPxXvkIL53cdOUmJyspJXgnTHI6VOIQGDwJNNqODBNLPL\n",
       "w1b3AExNKW13+SWYrq4TLtuxNfw7lfMgvrcK7mUML2zWsOxZO/tn15iowRTBY68+RgyJPKMWNIXz\n",
       "THfenOwOAgAAAgFBm89J4Q8mUwU8I//94QABauIjozFlBEq3zuAiOyIiARYf0xixaz7M/C9EykR8\n",
       "ahzHMjzFwKUgtbvLSDwmOkJNAEVkBQ5ZPhSaIhsejCVd4fCX666i3dTIN5OODvHHSU50gpsE2zEm\n",
       "k6m/bC920AQ/Bw9yiUBTpsPnm9NQfmboV8SqTuVOVc5F5jmKCIihtP0xNvY1tsHfwrddGkgY9nPQ\n",
       "9kESmzPJYt4Ij51tO63kFXnIeN0sW1EVadyMAGnKUo6Xee6agetqB7S6SEA67oGC8HlZWo51oLy5\n",
       "bpbrOF6YNw/RE7o5u/DEMwzudMBoI3QmGJ/05UATH1g1pfjsR2OsbEJTf8pc4p4oFk1bgmkFGiGZ\n",
       "VrBz3rJMSP+ZtQSmKvDvD3BpdKqeZ8hK18RXNddS7ecOsgTDXlaoWRPU//eNUcNIEi9p2A6RMIZy\n",
       "O0WJUox4V4nSuZADfhA6JRPtG/g1vHFrqcKYkiPMe+Rh7CocTYaJtzQFPbjxlqu+gATKl9PyZRen\n",
       "n+9xMNcON74oUqIkJ7VD4C4vuIvOGE1Oed5U/RnBR4CldYakzgRHZ7vzT1NXT87TKgEKh6uHS0T7\n",
       "1CLveOSCjghQbIQp9fiTxUB5TJIKHuzmaptlWCGoxCuAqIGGMz1yYcM3HcypgHQYna9rOLV9kPM9\n",
       "bZVxegX6Y2zwAPkAAAB0AZ/uakX/ABNWMp6hrofTNDKQBaTVRfgtigBpc71ilMqbmnceaDA8A8+S\n",
       "wIgsoTNxXXDMKlwo09kxoOzmMSdbI3ioV/3okdQkbkrS4XZVUjMCC59jdkSikizRU+51xJF3c2kO\n",
       "jFaovQelWxmYPXnomRKyyTQAAAIHQZvxSeEPJlMFPCP//eEAAX4iQ/QAHSLqtXR0cSvrYS1Rv2ZW\n",
       "7rfEEGJ1gQd6vFXAGk20KDDT7l60Wg2Z42iDoAeS272SHW23OiLJR+FKqMPE7wMdk+AcfqvjLHYN\n",
       "WVJFvzm+lP0LpwG2xccGv7h7OhWIAbGOfEjf3tL176ndo4awX3OPzhw1RYlMh8SfCZfluCFufPPs\n",
       "pp5KQAvUPJgCQjA2NHU1PIrp4rVs569BAqR6sX58NLqvlsr+BIXhwi5Bx/j0ivAkXOkj/o5Ur6S2\n",
       "bjvmXYfVJ6GotOQI7P7DeS847doRuP/8s4A34hVtGEMsMI84BuU/uFJHXTQmMKJQGOKS959BGFjY\n",
       "Os6rAAyPKP1lk7JD5hhzMk6L2fCWktKL0k6041eCqCIRmFtGr2Ci1RjK2FHqDnyHqd6g9Vq4AM4p\n",
       "WQvACvV0Gf3VOLFkMgQuHVHl+3VQyQ3th1lVrEQ3BIuTm068PGzQt6TB0S6PRGB8NDgXAss7K9WV\n",
       "j7pK15PvarK40E+LgfVa4X6+Fzc3fFhrmF4C1l1mALAD1YOcks5Aomo4Vv+yLyiNMA5WpUJMnk9a\n",
       "3FGc+XDcAEbfGWZToe4l/WuqAQe3T+YOc0AK2ArYiyEt3ODEvlo1CT+UeR0DYMDiOzTziBSvNQJX\n",
       "Y0NvPjrEktraU4ub6KFNsP4NjyYPtb3dBWNhAAAAbwGeEGpF/wAR1W9JMmu1arUoXzVV7VJ7hPd2\n",
       "cbGIvYv4bPpZqPriJDOQ9cIbPrLaY/pj1Es4mJ8AAtGSWd6NHwifyA/GdDhTvIO41zVA1fOVjh+F\n",
       "oAj7Kes5jl0DoXIK0CghVHtyHw98RBvh2vlFgQAAActBmhJJ4Q8mUwIR//3hAAF9Z5zYAgv7oDwo\n",
       "IVkj52esJD7FXun1B99VlXI47BjNq8LzPfm+YByRoEhBAVAKSVMXgqv6N7obJtAUKM0vi/U638vM\n",
       "LqIqBrXVWGjafVIHA6LwPP6RIFm0GxY43rZxDb4GPKkBeyaSfZBd7WvWWQI7toQWc/aL7uG2XVBw\n",
       "BTxBc1Lt2emAnHGMtfAh3+RDGDAf7cDm4ElN1vFjZ2TI9/YyintN/zykS3aAW+K+FQqdRs2FBqIJ\n",
       "TlB5du39mGBiNvOm/1BuAY0jlu3AAhrNK6unaGv1ud+WlT8v3cS3kt5NgWVV8pcjyyOJHkXV3DOD\n",
       "N+n+kF+R791d2FfV2UkBNxin0vsLMVeH90Yom9NYT0jH/EOdiXud/uydeTh6RWwKr5tVitTCvwto\n",
       "vNvXi3DJuKVUm4cCydOJUKSyT7FCEcrYkpAvDZ0wh7HHmCc/mLA3F8STKnl1hfzvdLQ7MfPPBMHp\n",
       "FSE5HPRVQt9A+qqo+1MgWz5eZm9mu4BWARh3lkmZrV7welAtXjM0Cse/Wbg0kY8QTdjHUirc6j/7\n",
       "OAACYWRgijDX2ZKKRC75D1khD1WA471kA5NUgYnRNW/MP3UAAAHsQZo0SeEPJlMFETwn//3xAADS\n",
       "mUbTE7lMbQAEEsxHefyTa0zP3fAYikriyyWqHJ9l2pK+O6jWuAtEck4SRsZEnU71xk0J++CjA+nY\n",
       "xSyFRMBe7TTT82wLJCZmh7C3flaOfBivLIGSVRbKpHtOVuhBn4rFamV6BEmSRx5LAO/OKXALTGNU\n",
       "gECqR5qxbzJBmwMqzCBa0AsgE/4+CWe3684zQEEaPjAfe9F7jNm3SA84OixcMTGpDQEVF2EnvmZX\n",
       "/dOEw/NPLJjxDju6mWiv+TUZ/czA78pg9eldNx6E2t/cz1XJvhge8nE5WzvnTB+D14OkB9Wo9uLZ\n",
       "OKOfwiqhQ+ouMQZyQn6wJn6DGfIVdYVPUF+H2iq+Js5k3UPkZRVUmFTnzF0lLtqmEMnCF5wQq50I\n",
       "yBmswkn284imD18JtUUuMKK0kWfUPLRFejGixSQKNK1EBeTl8wU39/ErYQedYYxlSZeCyFauAVKX\n",
       "sms3U55zmc0+/2Zw82pOYZRQPjkecObxaiJWRAMp2nNIgKufIUVNH/5MV/R0wutVjTkaWvYCfTKt\n",
       "Vdl+ZgX7L/Ymta6/IZPg9qK8UMUY7xbk5gsqgmUbLwSRRK86ME4EtYW5E0DOmdncL0imUpUX2Z4I\n",
       "RtESGWIrrKi1MdDH2O9FRbjBAAAAcAGeU2pF/wAR320ItaMOU/XrpWoKh3kt83Sr1qAFbJ4z3DMu\n",
       "diP5567zqAqOiaYPRBb7+WxRYc9130m67NTmkjOxj2wp9CyZtS44S4ohHQCKWDYRTtKzTGwTMmq2\n",
       "hoIeauXf0rgCWuhYvfyD1XWrI74AAAJVQZpYSeEPJlMCEf/94QABfp4hm3AX09MVAtEVAEAZh8p4\n",
       "5NjwOU1pTca0+j3ziWK9AzSwoKMhpK6rxt2YW0XPstA+ceZtz/W17KqBV7KV5k38wDuJtQocemc3\n",
       "nwPEF+fgvSpyefirS/huneQIN5IGeQPDw0bv5fytEQRA78cJZpQs0MY8CHpsfUn2ozJeG/crScOB\n",
       "Guar1+V+nHC+4Z/d5AVyPaee0lGjurwYjP0NgmucXtIaJDwVmW6aQ7tbwQ9tMRH4LkDKRhH+Fi0A\n",
       "oCKLCKYkhjF9ug0FVgJ5O1BVEcjD+jfjzCEHWjH7P9PO68WPKFCJR8EYLLIKTvjMjXFkkz/Z5I43\n",
       "BVLBENW2INIlZsox/U/lDcvHhcDOnP0ES6xnCgBDNLLgmtrb0RqAgnY2zPSgTMxGoZT5zKXirzo4\n",
       "C9gydfiv9y9oA5teQBpy+N2Nv9HJR/2IcygzGRx42PemJrOh3f05tCaqrG3DwI/4b1Qkf63dC2En\n",
       "sxLhJO5fsJ315IMDP1cb+wvtyrZ8AlB20cqBTpmknS2pN2ikATyC6omqAFxEs9SOsuaDCAVP0Wiv\n",
       "ZmLF9OasVk6Un1XVNfXeXW/NXrnDpwmaAaUf0+hwcoY9dVczA6EpbyjpXPY+95nuL3daPl8q/QTe\n",
       "IUD7vJG4K8W7iccx9/UlFdlFq+l0oqywHlIv6h+VRMIlkBylnP6Ga69w41rIc6QMh4ZkKwuiDVyU\n",
       "DpNvNtXSk/ZWRJO6hbcVRX5y1FpZgegoTPYgmie+9tiJqN/jd2G91Gg4hsQ+px+XNMroAAABDUGe\n",
       "dkURPG8AD9T0w+SHEReMjlBcjLu0uAM0AHgrEif3y76INoz/uQF7wPc6u8sv4GySQTs637rydLQ2\n",
       "4zBoPiZ/tUMWHta7iQqpHFD1B7XAyhE1Dl47Nf50OqD85IL5v/q6mCWfGbIC0d7cIyOKvv2HKui+\n",
       "OFmcdcZvaC4GlDFmerGc9yRvBpt1QG9Zj5R/kAZLYLaiSXQd3OQHYSUm1hkQGv8Xbr84vR3ul1hW\n",
       "isLwdnIB598i1lituK1u2gVZ1RKUitDYcaxynLie7P05tTkrUrhJ6Xhz3UA4RtYazqlXhkkElGve\n",
       "nm+cs22Fvt5ZynYGyXW/nWiJ2///ZJwMBFLJV1uZO2pSu213ECtzAAAAeQGelXRF/wARXXDzIBhK\n",
       "LvnVhr5jrtCm6ajKpCQKADt7KxgslMs/RsPkW9l8NYn9oCm3LzJT4piW9chKPalpMo0LHclSmsAG\n",
       "iNu9s4AfrTr7EPkTEPBjTXoD/mRU9fUy0aSGe3nfONQenL0MjpqaJk3E94rA+/O7TZ4AAACJAZ6X\n",
       "akX/ABRxikWJTkicjWeBlnMU94m3GG2x0N14SHzpVhOBlaLZiXyzKA5pJvCI2POiyT3F1dExnbZy\n",
       "vWnMlPHHeiuOxqUz3aGTkAH0NxtsUv1FbVpTmlDdxi/kJWWsL3qm/0IX3s+ZL953X5OdkiuDIuKQ\n",
       "SIl3kG5mZ3+MZHgNWBBIfoVC0l8AAAFzQZqZSahBaJlMCEf//eEAAU9uCSf8S23AapAEI7zhowS8\n",
       "J6lP5m7Mn8pppKWiKIwCrMS0zfAdyOh2iZ6G2JHfNJFcHH02zlkYXh6WafRefF3XvNdXODjnPvGj\n",
       "swWT2+giVOLgBddIhuVZYfGbuxK9qNkb3Ws5XmM0iR7zK0ZkZInXRWTzxHrnU5FIw2Bxu21qhCZi\n",
       "2V6muihkOZSId8ZGni5XAJWn20WRAwtnDqFsZz9SLjsH0CtWOX8CSDVX2yGAxPl/bfNjH6jj2bSD\n",
       "iSrYTtpXmwm/3xvsEr9ptyVw0DvSb4scX17I1gHmMYar+r/Zll0RsnlsUXpVf4sKmm8h6PTYUJl1\n",
       "7EnOhPLJMIiI46AXTVylgNkr7Ej9ij1R2MopEhqNBB2JaxQtq+J6YAjm5WOi8/Fqs7FKYBgkGDgy\n",
       "UUJsVNbmfYZr6UeFxtPprXgUSeXDb2LK7ySajR9UE2yPhPVXrEUTl37FLjfEfcXgpFFIBwsAAAJK\n",
       "QZq7SeEKUmUwURLCP/3hAAF+IDLPwDUL/flH/ozLDfnmeiU+z0qjH1mYNxMYySByDkqs1nqc601c\n",
       "RaJkTcvxAXWF9wbjP5/8hNqiljRJEyxLaOkovpL+0UfNDkbV/BRcgbaNmehls8khA5xoAm1rC+qS\n",
       "Fdm3x7cKfonlu+qB/nNuUvwog8EnxPni/lBGyaLiO5ZeooX9q59dnNd5CZNZZWbE0RFcLnE2g9iV\n",
       "pBdBgzPc2NFY98AXNQN2Mh6paKOzGt8UBEIHi6PltIcS3JytzbZGErS/xiQitFYAahjJ2wyvN6Zu\n",
       "Fb4xZd7jIdaEenlvi5k2z8O8AeAvV9NMLe1nfKLP4xOmqtpiAHktUuQHzvy81jln14TFfaFuPf4S\n",
       "HBWYA2DYFBD4HV7OejlwbxUb9gtxGQqfCGyz2hJyoLKP8vcxNPq3GY6YYQn++cNYfbi9XBYSulpH\n",
       "J410ji4knO6jwTl57GsOQm0J1CzSltZribG7IXmTI7X0ei5xol6nUmGCIhRNWdjwzMkchRQnMa4k\n",
       "ULvYs5LmnJsWP7DksqDMtNwRBBlUcHmEJ8e6wh4AhK98mMWZZS8Ftqw9YxoqWsf8sotIkcES4akR\n",
       "D8WkHArNCHz+LHBXBv50A/Iwl/EWAAOi6LqbHWitVdbqucHtXZfPriKIgLyTgHxGHxPpaSqxNBrx\n",
       "IL5Cv5MD68DHNljsHSIJ6JuYLzuTGr7097y5dhhaE1K/Ibsn5D/q3xJLwPOxtJ03uGfgmMPFR0G7\n",
       "JGoj8+ZI0YWDP+Qrcx3mwQAAAJUBntpqRf8AE56/rtwjiPF1E/sHyJLYeS8QAtZYVqxRQG3lU7xF\n",
       "bNj+Ha3sbMfNPmh1k6K6gLZTFsaEKfrHrNTevmAi3L88nSLFCI/kvuggmk9PqJCZm4ElQsZR2MJJ\n",
       "UzQqWkOf+i/uCosWxx7NbT777Foa04aZhQtYN4/Li4JuZICGbc2Z1TssefLlgOe8ejVQnMWJwQAA\n",
       "AiRBmt1J4Q6JlMFEwj/94QABfWec2ALbpCeFjyfQuFsBzgY+aJx9PYwPnd0JtgiWsK7tJUpU8wKF\n",
       "tR8CNXDLKsC/7Cy+PjPvu740XLUSMzY6qSJOrgqoKzMYLPU/7UyJ+TN8vRiWJP3oY5NvdkYdvQFr\n",
       "hnrV9mPEwRC+SujvFc1wAU4TswMxRCCF9174ra1ktjl8PAxIm1kcNDvdZnjNNa8XwzJ4fKa3sM15\n",
       "UZ1xtXw1YB9jImvsw9G0LwrnXwKWTnaxRfW60Cy2rh8oXeqEoGYjAhc1owtCh0za4qK7bJbn8P2B\n",
       "UNBiZYLWX+xWyHAeON4esKg05+4IdMxyGSNcdBQ8YLGYw1PPd3lXLGdptKwIaRfTIBV+tXap3GwV\n",
       "9hqfT3IuoXUBvSZC2qRmm5dZUp5rzj1SlRIez4E926VRp62lPEOMgbre6ANYp8N9uz1v3zYCmua1\n",
       "BgPW2Ns9YzChE+ouS/S9Efd7uwpaaAH8n57iMrCtn/HOs6kyBblSrHRiGlfPg86zGHhcFiluURV+\n",
       "mELXF/flodqXcBl+auLc1zYfoVUd9lcZ90nj9t7B8GFGLAulWvQjPXSAXWBI1FmTri8OFeDodYyf\n",
       "E6ppB5Pa8v3//4b8XuRUvjAWyT7yMEkVL1HOKIZAI154Se9qZF5uN9aFRbk+zvaM3zYUIGyTUTKj\n",
       "sx0XA+2o2hCvRDgkkBRkyPqdRAzd2ZlbDjrVyVAVMQCENV0QgAAAAHABnvxqRf8AFHGKRYkNMAAl\n",
       "MO/JYPUsACXtkR0T2O9KQN9N0EAK1WGTwDw8019GsBhzeGX/EWW0VuSY7QwglzwM0RcmcRUFj+V6\n",
       "ULSxxNOBSYHN9xc9imQhvqiXF4HuAxXr33aIq6YPT2Z2n1zrmZL6AAABS0Ga/knhDyZTAhP//fEA\n",
       "AHZ5LAAb4dTRx9gu+1EdSMrahVTBmfYJbOlCqbkJY111akNQ/pFK9oKTAi5S1guFymn8rDQWIDdO\n",
       "8Vp60C/Ss4GIifid/L3j3dKzfIKDtXQ+a5sLnHopY6j/P2LLNhgwmMG1j5fdws3uBcNiQDROi1/p\n",
       "P3higTG1cFg/dfTc7ZaUjEjU/5X7CLp55vzkchjQJKxVd5K4Pzen4WQuZAasBiaKh/8AgLeIZIS0\n",
       "IkXBkmYBGPS/wHVJsKdC6xdf7KaWJaGzFHsELlndq84T1Gl1fx0VRuodaubghO1vfUrubB7lWDac\n",
       "FT9/ehQeJNjc5yPjs3xknAqgAtPzv00nuLgBGXgsFkBIA6LS4isSwPR2w+Njw5KcZ/YXVaBG3VvN\n",
       "1fQgrO2r/fSO2dPVcpX2x15Rson6KOlI5JCpanqdGoEAAAJbQZsBSeEPJlMCEf/94QABfWec2AUC\n",
       "cvnzDS8pezabwz6Y9z8jtxhe9OJABHixD+VboinrjG2Siy78+ou3KXGi6zA1hbZv9qbEGEDmS/1r\n",
       "wKS+D2gbxVAdBRMun+k6gyYbPpb/8FrsCIyMiLVTV07oZLRmjs8RkXrIAxu7SO5edt2pp3bTJAjL\n",
       "EjkJG9rttrsWe/xRQAtydeYjIwH8YASJZwc+7iMVt4om4GdV2Q5bg/ZMr0t8BWKJfgosdiM9TxnM\n",
       "05nzTUDC8t5Gk5RzEaPSmF9zppmYPsPcyECZmVaDncB8zhwRLekR4t+IImwprSD0al6cmOLkHI4L\n",
       "MUKf6u7MnxE07yo3Qqbsx/jUz+YLdzeEUS/Ax4G7Z1K1tWUcBkyj1ceAp0VpCs2K1PJOlNMlWywh\n",
       "LSDSpelXlN5UsdLfEIOKEHTO06N4lPtwNP5SSRYtkvP5+St17wuJXYsiKAn1PYrQUu2nulWY4457\n",
       "YxmkcUoAXyF3bSpdSaJ9U/80zD5FygssySRlPa11MDKyInqoAv9/ZUtX/YDXtAz1QPqCoLbC7n6U\n",
       "1fM/Wc8r9vMbgVdQhK8DkXvIT+PrFiBvsbpfUxfbDhHHhRPy5KpVYkuMvcIwrVgLt4eiu09TmP2X\n",
       "TXnuI3+B/0t1CwUIbZAqiDinQr+sX4MK+NNUggwClc+LsCJ0l11LF0lY1wGNsF2qKdN7vbX25hvx\n",
       "XQ/KLeSbcMGZfTDkqnLWIBP8KIOpdfwEmDgvlwx0EhxSKaRHhEvKxMZpwhVur6Zj28LQxNkqv2q5\n",
       "JXDNwXbLzOQ2uHsMAAAA30GfP0URPF8AFHzRquYUPgAHMNnAA0oQzQAgfoRDdYFPn7aremHyYwOO\n",
       "JHcSd628XScSjdh3dhAKnxZie+ainLeFg+gHQ/bGhTZfQ9HJbLf3FiQMZH7uxWRT5P3ISQ53KP67\n",
       "zFWFL55njvNQrwFrEaIS61r1dBaqh82XyiPfSN9GMA8/o7h4q8KrmtFFgapt1HuvFVL2GRIcDDk+\n",
       "ARt/cz6LU6UgWAMTNOcM0N3wMXBrICoNN77tu/P+AtWc65q5G8LiXVD9ed4LsiP6fUpQQOeljXWX\n",
       "dGcWxRSKjXVzD4YAAACjAZ9AakX/ABR80armFD4AAAMAvvbAxgBbdi8i6KvLMN52c40w1q78Upbj\n",
       "grtgcmGX9cIJo/x/4kmZDFj3g+4SYrz1p+32//pAPgMkgKqD57rAJ5blz5TCEaxUVamqP2WBolna\n",
       "LCCCBg3633QTVqNxcvAzYVqwOIRk2KOEXxVnvDj51+UZ1AFXDsM4gyO8RHKU796vhZhOeBDGF7OC\n",
       "HmjThX7JgQAAAbpBm0NJqEFomUwU8I/94QAAsMxaQBM1kyFHU1WH5P2oeLB545f0EGZaCrQY6go6\n",
       "OmhTRLQQQcECFhgIW2OFiwwPqbzIWupDF5kzo+aSa3RQvUWlANMorloAhyx7d3lnrXzinJIXeQvO\n",
       "eWDJajniOO1hK0uHca9NnOBY5XbhYsQJFzL02mpPqd7PQl7gd0mPzhkMpLzsDMRDXMYoEovjqltQ\n",
       "oVdLgRTAROpuayp1ucSA9Dl5s8v7x096tF3aeD7VlOqJyco4W+0ojmwGr94sVDxSmeSKol5vCTnd\n",
       "a0Drandw7JN8vVeCJJqwZ+IhFL6M+QPldhZ6gQG1Lyhsm3NqAHdtxbCygBGY58/mBzJIK1k4gu3p\n",
       "tVcX50naiXmCf/APYjM3b7hxKr/bdxeyYT8PLx2z+RR0dnSoiVKSo/HxxU8/MAr+/VDVvOqYEGJc\n",
       "4MR39P03/3HDCX1MEFRCAZlNXNP2KlldFtmKzUeOf7+JsVf3s9EKkyo2hhhL1Xiye/iXlNWSua22\n",
       "eUZx+fv3AcNHHSq9569pI/3/0fIFr+cGB4k1FsXkoE62+tnwkh6T+ozgoY7dXfIzuCYyhXBQAAAA\n",
       "XQGfYmpF/wAJKx0kesREdEHhf3K1ZV7L6q7WlmjGi3gU89wgFI0uE6jrU20xMOYZLE6ctM1vUHNE\n",
       "4puJKcHR+vjC04Os75rGde2S+RtmThDYPGL+FtlCNFeFCiSEFQAAAeNBm2VJ4QpSZTBSwn/98QAA\n",
       "c+8yX0wPkb6QANYSR/e1f8fp3vHtl830BPBV5Ja61uR/PCvjs/f1/qWj1RX92TL0Sol9temLXUic\n",
       "r8vJc2occItTq9SBHJWL2u0B5GoxxLNOcDTC9qszIrjPj1AdabSBLXHj9tPj/8GxNOWG7+/UFKG1\n",
       "oQGY2yJfTxihQnvsFl6bYRcZARAnA/LqfH9gjYOrj1LmIpV1uzY3W3gA8FPvpOlkF2ubj7+Qc4b+\n",
       "e64MIFH/jew7ljJTNbOasRRTW4gn6KlX/8CGZiFjNDk7CssBHHUsvKbJYfi2UNB4/G1amKvR8XBv\n",
       "Z1nMJZfg1A9gC/b0RVB7I71r/k3WUtJut+LXC0Qz0M3x34oQqOe60RwL7jew6ufX7FGmaYwYc+ir\n",
       "ppSzqZKKtFNd95keOet/9MTw6Lz1XfB/nICGwF3/rWCARwfZW7hq2yq5miF6gh/NsvbO0fITJuTp\n",
       "R9keHuKYyc97iVT+XcCKb+9bJHqfWo9YQluXxMdIoCIr2i3YqwVTEnWVwadOfRgO3P9oB3cLO5rU\n",
       "jxCWrYw4HuMvT0spzf9VT7O1n3RD4ghSO2OTaTofR7ybmJPDCwYHHLlVAdBSkdi3LNDc64tLZ1MO\n",
       "L7FvhfWqI9Vhp4EAAABsAZ+EakX/AAnxLDTvBgPVXEwwyAN/8rVhc6dGhrYRtzGJtLrTNdaKIABB\n",
       "p+8D+I7aHgFUfJzhmxtHuw9BecGxox+HkkjWBJfsp2fGoosb2X8eYxszxgXcCGguLvlYH4gTn4Ju\n",
       "xXt3zDZg3szoAAACIEGbiEnhDomUwIR//eEAALnPoXQBDlKgk831lT01UM/zYE4MWcZmVtVTY0Ex\n",
       "0sBqGnmBwZmDcVV1f91tkMi3XJe25JpmpMJ+fWDoyZ2hWMN8Svg2rLa+O0B4kLKeVSHiphFgUQTi\n",
       "5lq50WN8ttbUg96hbi7YNV+EGpefxFVRlkcRCEWX9kWWRySw5M6ZMVXbmD/Vz9HzWqFqrm5D7ZKL\n",
       "H7zelS2+7cJOovBmzHf99u1GKIl/R5Ih/61BUzJGL9b93mEEStFMBNCCd16p2umFi/cLcvDWe+WL\n",
       "GXBHuJ8LaLVhb4iirhiusBpjsEAeV+IBGJvw7kOxnbuMx/08gIa9N6PsCfH+HNgg//ha4Llw2DCT\n",
       "7cPbcTQP9l0bSg7fOUHQBK8HXxr2SC8Z7L8gwS/Ozno8REOn+RYfMTxQN/07iJkTtcxVHOovYiHb\n",
       "hfTSej6dlBmEiRhr1AhgR/N5OrehOWip38DaeQcCR/25L+KFXAY3lVQwMHKylnV49YG/3ZbobBiC\n",
       "BGvG+M+EVJ7Ohkjs3RyVPmqtzOWftsf6VLQe0PVP9IShAFesN0AomAD7sCNaDmRRBviotipeKES1\n",
       "EvOA5Z9tiNqtm3rIEpGL2ZT+IFHaoUHl+W3aKz8wS1uILxDSxSUHTGTvu9DvhxDOnU4AUcVVj19k\n",
       "VcukFOJ2XSnRScR/mrb01I8lOBOwWSUaWlKrdhWdQkShdTJBzgglxVdNJ4EAAACTQZ+mRRU8XwAJ\n",
       "8SDiCyF+GyAFqMyvQfJnzIGbU/eKOknqseDZOlFMpJSloxz9nvoT5yDd4rUF9U2c7ZNp8h/vvZya\n",
       "kIvMNZ4rhvyBAs9dM/gPTJKHvrJaflxKb0myz75K21OpLn2QnszB0IU64O0rXt7+o2DUENs1Ryua\n",
       "9QUnag4B9J308pu/nPtP8z41Cpn+iHPFAAAAdQGfx2pF/wAJKx0kyIQkABOjGNHZcUJDby6ysiDj\n",
       "O0WzuFMOHD8I7zF/sXMPMU/SLRDxip1xtPci5Gp5RbMWESZf0shTBON+jylhaNjGZF7PTfUtrD7S\n",
       "tAe1h9HSbPwzu+3qip6NAEmJEFuZLGKj1shxtrF9NQAAAdtBm8pJqEFomUwU8J/98QAAc7DL3ADN\n",
       "ryXBGlkbstnCc99qkSib3XL4JZF850OnDwxJe9dKqhJaXx0humXnQ55GYTEneChDCeNik7wSiN2I\n",
       "+KlmDD2jFv60+qEH/qFPGDoXfdEx9WjqkaSgUAVMjrFBLa2qMwRAS6LJ+hlayxl2W0auKYg1Ahz0\n",
       "mvsjsRnYbmAcARFWD4wi69Ch6viHopX5uAJG6yy3NTlIrnXqHSHqWO3S+nBJ+RYQsN0rpxw9cwZN\n",
       "gjMOVWMHBikM1oox5btR1L6YixpF2+wQv9BPxlWCZuBDo+nG09zusVm62rywJdB62GqYEHPFfFel\n",
       "GBrv3MfvMl7NOEUQXa9JCxHSy309ngItQTFKfaz2CMDykHT3sSmlxRqfQwYILxDu0ozKdF00CuJZ\n",
       "W8HMQaUinchS4JhyQCvkq5bUGiKskPmzXMIGLBiOgL20gmIb3V+27LpzZpoZHJlNdfff1oxMEJmC\n",
       "q9F98Vhg2Fpr0aWaO2qaRRF/dBM3xmSnzize6K94wfRPfwUIsETUrUTbbl1sI5j/6yZPCCiN9kHI\n",
       "ReipZfz5weCAmH2lY+fEDpQy2lxLZNEI1mV35Uo4CzgXEw4+18pd7HT46kCJA8Nx7ab11DLJAAAA\n",
       "aAGf6WpF/wAJ8Mc2QqFqmoAP7jOBv/4rz7iINYPHVtzTmwjWAmA4tEdye384VdebMhBo/r9CA5Jq\n",
       "F3C+wQhTDWqK96aP64RAg8piya4rcXAXLadfluuXUrgddblrt04yAAVZ3rcikinyAAACY0Gb7knh\n",
       "ClJlMCEf/eEAALotOT1KAEPXkSusxk8VTLZnoPew9/CyZjrB0YOlT55XGQ/AMW34vBxeTHVGUsml\n",
       "jYcEwmnBVZ8Nr5Hk1NbprOVdyAA37sNgRNcIMb1pdWpndb3gJjgZkvTSuwhKfNEJ5B0nKDa/ZZkS\n",
       "gFrtRNqhp5WcCUrjrJdgyDm7ujxtnPsxMy20k7rK2zSRLzmBW5zyJEmx1O/muDZs7GnSx0jafWhZ\n",
       "xV2NUGb3XV59BkzLhMwLY6C8XPbhFo6EZOt0WbTQK0o2QAQk3J6jCmhVUNJIlML7TAiUp3JNvYZ7\n",
       "JzxT7rTSZ264hvnfswCNDl11CSRbIdskEmeIZmF+EaRxh7R75CzDMzMD86C+84Rg0aYQsKX7TMGT\n",
       "0bRTcGQ6gHc1K0vzEG5K0opJnQJ8u4/5E6bMIdq3WyCfqok7E71ZWzJfJl9A38uxQZ3NEvvWhPn6\n",
       "nf22CVOxE6n3tspQ7p+rI8NMCYfrzGqBjHMkO/inuM8x5QBZ4jiLw5A9Yi3gslh973ONuewUtjx0\n",
       "4CgQ+JZ2I8y5hdKNHUbOOZQWUFMqzz62SwzK1kvsRU4tF2b5ZHmOUZSvZDV++Sf3+FfndhE+rY/X\n",
       "IPhuUCuQwT+6d2q8dU1hY1sEl/qYUVAYrR5YWzA7q/zGaSVHf6qPrJPeh+EMVduh4nqiBgOp6y8p\n",
       "8MXrixMuUcaDkhu0+Cn7Rq22rDZBulHW73br5n7W8soiCVapSJr0B8mzJUpALIt7QDi/XlYCbAed\n",
       "77+lHZSRE61m+IHIeWimK4QprYuTcDFJTyRdgkIBeo8biJxgAAAA8UGeDEU0TG8AB8GLW+EyNRrO\n",
       "cAAFrPuJ91NQsUDmJwIEq7eLSR4wN1uOQFBacCacABl386CCOjPxgJdzpNQpIu0SFjX3D3tFFwdn\n",
       "uocWHbcFbGB3ENceypEIIyDBzvsMJsG2aiJl5dCRstGkWyl9TaJDHQ+eKqzP2ls6o8cwdMGQoeD8\n",
       "EPY9M1Fx+z6rUglkbDdsE8fLTO0cRCRNxSzeeE0l8g6hQNcFb1FQUrwyzFu0HAo49vsivajix+GU\n",
       "cUlodUIu66xxBaKR1Z9yhOWJl98i1q4b2+hDdSdRSFzEE+D4gPcVqt2agREVkue0DjmNAEUAAABn\n",
       "AZ4rdEX/AAn3vg8AGr8VWA4DsyUdFzbaFpPgMpXyeUdYWgvl5ODNrp3PaOKik4GFRKGsTIsRqQfE\n",
       "5MJI8DBZRj4kKrV1effsIIjLclbGAG2juSZTuo+WMmADf2ieJvFgBC5ZT5SuTAAAAG8Bni1qRf8A\n",
       "CfEnCmz2QsMw5udxbJ3dqLU4JlWqDAynGiFuW0T3K6T/qE9IOdc612hqYaG4zLz/kDLWt/69AD3c\n",
       "Ivnk7/xL8u2v0X7FZJOtjLUI0AMyVrXjH/i9pCkgmOp3ThYrPS9h5RLK1COaZ+sAAAHoQZowSahB\n",
       "aJlMFPCP/eEAAKezgMAALaK9NThKEp+z+zKHFjIxtj8MVk2N0w7JfdMWIDarbwZp+K+pXY0ChLgO\n",
       "Tsl3Qy4oE6zEffbKteVH4p091U88HtUVMd+ZKPc4/5RVqg+TMzVgvnSraglxNG6nzo0/8VFKNBNM\n",
       "tCt8Wags/4hnfMbf0gkPRyH2iu7xYi6NOyqYViTrEgxZNUNMLukQJZOumiZ5qRArXdfp2anz49oD\n",
       "+tCg0mcpL3CoaxEauXq46l6yDZzbekqVvkmQLj8O9ZE+ew1oAyab5C7HT/2UbhLkPozZY3rliJfR\n",
       "Mfbu9W2vYWhqrraJbmnGPGgoTueNLvkCM1N9XT/38JbkEJXhUrIjObJbZ6WZjywlz4PxtFrB7t1B\n",
       "ZmNDaOgFQJI0QSqbyBZSfX0Bg9wFvVTuIj5uD7naF8fHBQPLHS7nnHBVmnpqf0QfBBf+E0LBUXtX\n",
       "JVQecNvAv6RN1fqatGoK0DeCj9s67E+f5yjqJHk1vj3UcWC5+ZJuXjHNCeRGz1YGwGXWiW8KUk0h\n",
       "OOkPDWyoZ2atQ8aiLFY4RfsPdwGwyOfSFN1Ufh7ug90G3uYBraT5aT5VUG5ZHc/+RsYzZtQtoygZ\n",
       "PL24ugVI7ii4V68rHsFJEN2WXj1C7GfuNI4AAAByAZ5PakX/AAilhtly/C8qBBnPtrf6HK7gyvh1\n",
       "2FvjFjpnKOIuw4a6JWp/ACMafIi0oanVVS/nXzeo57TA9pYLXmjcrR/MVV3OMCfZIFJMKeLf4rp4\n",
       "Rt3vu1U2RAbdolUwrIHKXaDkbx8qiecJ0uQwi0o5AAAB50GaUknhClJlMFLCP/3hAAC6lhB0rYAq\n",
       "ktQ9P0DIX+2Cnnzg0zX8c6yifKaxdEp2wraBEH+BMlO2z2esMpQeeE2PXhKRvCBAo4lffMv1J7NS\n",
       "hvxeYOKwNZyomxPaDXJmJYvpS6ov0T8Q8it1+UBXr2fgwLDxezEV5EMLHJEFBuQAlN+mOHzrPZel\n",
       "iWEqRbvBEPvg8R+bNHJDSSRxmtBvEWFAqvIhuCTSof1+0XFcRX67NdUA9K4YetoEK9VzvuztW7gE\n",
       "A7NCA/o48BgWGiiyp2OBhdNr3ZhoK+k03C09VZeHKXL806jzRTtSdBW7ohAB+hti+zwEnOiX3v/3\n",
       "ZQB1wFIc4C2PgJQZ+8sBJoz1VA3pEUlaNERK1fjqtMHC9bf0F1Fysv1c4yQjhbmMUwGVs6sS5rRU\n",
       "pqjXG3YQSVwk9ZEwHBEaC6RD7Q9Hq6EhDWuzV8njIGdWXMVlgUs3Hq9rfamnoKw3uX/vfXJbPYg+\n",
       "icHS3mIfAvRqcAw0En3L/Mc3dVRrmtfCTC37nPTg8+1rDZfVAv9/r2+UI4UXc+QQOCHil2lg9riZ\n",
       "L0Rmodk8RZsTe1E0jKxZNq+dS4dgJk9R9T4AC0Fw2q1JkplPdK5mV72+E32UGfh/pJf3YfZZOv7n\n",
       "85NXFGxmxkEAAABrAZ5xakX/AAnoT41kgA+QI3uIgWKFZkTtlVz9RtJAqlEA+/UdibqKQGQaZllc\n",
       "xIzwaT6srBHkYpgs8xo6vI7JfAjHsOzUYTEu05VPSFyVoA/yHtmZxX2MsScrhnJHsy7/pAdppaM5\n",
       "pncj7OMAAAHzQZp0SeEOiZTBRMI//eEAAKeCLQUZp+VsQAEUd9yN3dh2Tm3ZgeompZZzKV1S4N6z\n",
       "+9a1Eokm/q1FB4tDhdjf2XC+Fby07fHmEwrlDNn4Wug2ugP+69TOFJIkYB4Y+YVPPFAGfCVFDtAb\n",
       "KaNy7Q1zAWLaKHKPs5F+XZqvItvzA370rTtso+kOg/p6pJCCE1Tsx9nMjRw7DlpnyTrRjz113YpA\n",
       "YfEjwN4CFiHG+yhQ5hFJTcHlZN6XMMJTX8auv+8uLpkGhrNSYAFh9c/Ddk0tgphGQfa+7Zp2FCyF\n",
       "9rtyKOW/yllLJ+Tt+OnO0OK5AHhz/WY5FAko9w613IsQKWXwXV4LDMSjqdUJX/YqmF56NFxCK25t\n",
       "W8xMT/716QJel97SWcQ+MtjRRfah5E0ADWb41tSOOZEcrEEzieAhplNZXO6s1oNWZFwY7oBheONW\n",
       "nAnJGyOigZO5bLsulBp32MVEdAhH1oRMvpbebpcCzVyQwY7SqhY2jFp3EL9eCEhCStmP7JtOF9lS\n",
       "O0jfk2D1QAn/33e8+MI4hXH8f1uFrAhDXdyWBIyZa8NB0gGg87YHzAiiBKJ2roKBau+CTeQp844X\n",
       "fSXAbvdAq9yvwWlika6lTbl85w5uI1ITdDgIde8AQsANV1Rgyhsly3SgEk5ICivGBHyuoQAAAH0B\n",
       "npNqRf8ACO7y0yluvCPvE8+YWGvk/td8a9OgKYrLz0NSWXeLN0ABbBGsWDkmkXmcTmq1lesdW2IH\n",
       "sE3+4Cf02hNJwlMQbpaCvlEdG8bRi8oj3yTMpunCrlCDlzUKXb3kGpU3j9aHQVpsOWajAJam44Pg\n",
       "V24AkTa4xbjh7wAAAcdBmpZJ4Q8mUwU8I//94QAAp7OAwAA4DWdfos4Fswmr3Q1pqLTWyoxrH2kT\n",
       "DXIztooe/R3NvB003zB6e4PdJvUhuCc5EXIwtnrluY1HfmaHPwGPbyzsOE4WkMlW8vpXW+3+e6lc\n",
       "uvCz7V+dby65qcYBZw1L14nGpgzqjaSUxn1CuaEZKTtPkIq+cinYbRU95f79wpCWojtzMxLYv/8i\n",
       "8DOv1EFddVC44vKUJuD2vUIbb3wtJMdfASVKFUQTyeRYol8uuZe9/99FLy0tA+zH8NK6didiFkmy\n",
       "3sjfRYTvUHLzUJ5p6E9QCPtziFgAQ9abMtg5rbNzIDHaPKDd5Let/YHwvIJn2hMkAo3DrudkZftt\n",
       "3XEn8gwzQ3LKxrJJSEThowoRkwrCCNGhdmf8BE1m5xGuHCOw9Vzjlo4/xu5/dZo5za4K0hb5cfNj\n",
       "4qf9JaV/rXz0E/Yqv4BUJmH5xOhYy+iClmm+6AcgMdGZ0OwOnCThUctiD4LMcFIJVm83i84kuB4B\n",
       "LGR2ImudCuWKghmlYqu4rk9o2sCoG5pMmygeWcvXWRzlJrtDCCt/med402NiMcqShxpuGMqAPvaB\n",
       "Qt1HHKCMejllJPqiawAAAGUBnrVqRf8ACOmFHgop0MlSAo70brE+w4NjHmPXOP5B6ohNeYT2I8Wi\n",
       "cDIEoszjq1xr6YXvWXvmKHBZSpZsgQQYQCd0z1aDT92ivOKW0LoeOLGOTm6frwjeZRpED97sL5uR\n",
       "zqF60QAAAZJBmrdJ4Q8mUwIR//3hAAC5gXaso99TABwYJLUxsczeJ98Sl+r3ZM65NOQgzqqJDjBi\n",
       "mUinqCKddDrTUFodBsn3r6MDkvUy6BJ3PXUeh60gFOsBBvkGNgItuOwKS2py4SR9nrBa7//IUjT5\n",
       "Y87/TR95g8cNxCw0L/fzWW4GAtLk0wh+CN0jbL2u5QD7HJGreMEKjYTH/5gf7d0PuVUKZ6Zh8hv5\n",
       "KszzR4WxNTELT2amR+FnjtWXvn5giwhAu7LIe8z7g832SEA0hI5Szt0RCK7SiobQrV2S2W6Rjoje\n",
       "50IdOBHmA0ATtZuCQAdpGBTTFMH8uyuKMdy+ocmq2tqNnAf8VBnGHBp2wy0f6Ms2bjo8XaPGUwaG\n",
       "H/VihyvfJu6KwWKaEvW2Gzv479wR2C28apvzL3J2jHYke5wjyWzajFECxo37rTti2ZHejEp4PV9I\n",
       "Il1Rg9iY84KY2WKt0ncsIMPkHisB97XsIbyFwGv/78FwLfWFlqbPQX63bovIuwQorRhOTIiy1ktg\n",
       "IadFoCz0WXgBaoAAAAH9QZrZSeEPJlMFETwn//3xAABpMo0GE8NlRJtKFRDCEOACU0vsmXIPzX2s\n",
       "8nlxwpFanV/y9i6X2KWSsfpU6YlpGiZt9jxnGY9TwjK8lvnpJtzNVYsIOvA7QOghKuF1PgyB7pkd\n",
       "euip/EUfbtD5CEZpwhNGk1ZMlH9vr9ZMFLJDAGDNxewGNTSUqjEXN5B8ImU98tS9X5CRKh//EC4p\n",
       "l1v9MZbmAFXWON0ZqNmQ9kWBh+o4B0zqv7/15pJ6sBshpnRvUqPkPRSEqDcDNS7f+Xw2m5JovXJu\n",
       "wz5iCj797TdwP2BQw+tZJUbEGTdWc77v0eVrI0aXwXDd78LJwqG1kaaHFMe+XGp2phWD8MROk/Bj\n",
       "3Nj+nTlHn0mgptN/inQtwH5F7Ecz2CUvJH2eR3ZMJfxSJJg0seU+8tiHmuxwAcgmXxHLpyuUcizu\n",
       "sxWXLmGpZb18EpwW8mMTRztrSO8Co3M5rH740qkkU5hXOj0Blo94tJIe6dxqg71RZ6e9l7UuBT5z\n",
       "w3Chf2m8z7+kWXUx9ZHU+4ZoF8VTu6Gydwwgg0p+btiUfup/sAeAv+zuE/ZxqlOIC8Nes7CkJDAN\n",
       "qRIEfKD19NZF2vjZmPxaxufzummltKx4k6CJ2RlQbgSuAbn9CB90mYJRGFatOpVhUedxS7rwhSUg\n",
       "mdqSsrbTkc4X7b8AAACFAZ74akX/AAjphSvtkiEhogutQc6nZzM+4wi/EAN1yxSIiJYUAC2/4uk/\n",
       "95dIyQQyQfzrKyKzflK5PQX3kUtKB2AOrEWICIqZ+7MAk26BhyNWllP+uuxqLc1OUqqYGGpa8pyc\n",
       "3jf8ylHrgRKh6jaVsM9ZUeRdjF1XS02Bm8zPP5dJZvFUgQAAAmZBmv1J4Q8mUwIR//3hAAC+okOg\n",
       "BEg5pUZCdF215k1ymdrUsdxva3+KHZkiXPU6hEM1lko2SEQ7NnjXXXhRTFRlCJSTw8WT1LtVwX+U\n",
       "lIBDcWBxXAAzqp6GmuSNxsV/PcCESDB2Wzmpar0HLN5aWQHGIsPGgFAQ5jZB5YOC8KEcq0WC0g5M\n",
       "z1/YKyYis+8cUR1Q3MhSMeqR/5u94wlPhcG0Q6hWb0Ag7qqPgE8p5Cs499Id57pOl5IKhkLtv1FX\n",
       "SJSj8IEOUtARqI1ybFl65qXGwrpauPrHttF5HbGshm7ROp83rrW41b8w8gfUsmSXh+ooZKISvH1j\n",
       "Ut2OeFA1p7hUcDIcyNXbQvjzW5IZJP/4Pk/MhBXGcPfHYKhA6KWVO3J6Nn2yu3Q89lC62lzUwsHL\n",
       "Tf/K3OarztqqleGc045ifw9fAtQKTrIHrCwRalXen62IJr8If6B6FAyGeW7Te3+wTKCSaagXcnRa\n",
       "U4IFAn1x+Xf4/t7wPZofobmSsG007b1V5kN1a4lilOxJ4OYEkURmWDRTTth7kFJxT1jvkpbpN3LW\n",
       "GOsfoPyYyGilcxbNE2pDGtY1/JSe6j0MtwOmnp1hSNHEiMvZDNpXIUZ7mjIG0DoBOCaDIQyhvh+f\n",
       "1sEIyMAfzbzbTCoqonm/RCL9R2NwUKc+LnncsK/5/fPlnBmxXbOji6rxgOxd8ep0TSTyFX7Mxsxf\n",
       "WNxU3SdWi1JVep81Q2AWcRhJSrBkcJuaAfOYmdjPeDQbGJdapJ++YuIrKA4ESwoSxMxsGICuMNPk\n",
       "hb1rFo6ndD1ltc7F+AHlipmWRvL7UynFEQAAAPFBnxtFETxvAAfx26dIqW1+WnmP7b+yaBj3ilWg\n",
       "Ah5phBcY/z+HuqWTEe44WhdexXpmO23Oosr+pcmRwJEmqbp/54jIWEKTaQ5l0OIMcgMj7QyT0048\n",
       "enwdyw9MbwmV7Dca3ZNddY7z2HC5mbNvTR6pI15qqr1UcRbkXS+Yo/xgpW0jAC1YNhz5iEU5+Khm\n",
       "Bx2n649T2SEU4rZVC2v7J5dV8RvUg9qTgMlpQrZyGHHjO17wQeF5h3jV8q7ZgUM+uu6ImVH3A2Z6\n",
       "c6jDfe+sh4Fk/zsOaU90TLUf3hAl2LPOVeI7BbswF+JwT1mEEdCyaUhJAAAAYwGfOnRF/wAIzNCa\n",
       "uhd0wQ0L6u6X17i/T0Wr73UEMgQyycPYZGHOjeyqT9nNUXBGeRgldZcMYHx+hzsxUAHw3mJ+gqS8\n",
       "UXRMCz+udlNgsYrGsY7FbFMEXdZAZKA31kLUiiQOWAAAAIYBnzxqRf8ACjnlNAAhyFhdMimllrWO\n",
       "bwT4VF8iAQ/yHL/vCjTa9CJXEtaGFZfnwew8E17hB20Z14yNQKX6n+lfwK4gijUCBdhsgX6384cz\n",
       "zMP2UKcM/dBX4c6R4Yb0Semf6z+kLjLXy1KVsgq1GNEj8m7dYhdwnd8zAI1T1tlx3ZORdapXhAAA\n",
       "AaRBmz9JqEFomUwU8I/94QAAvqIXAAjAVTy1ZLvRG696jnJ5JdnezEJzs6fKb1dQn4IRfy4bMVTS\n",
       "AsbZdx4sIxFp1ZiOvsfbAruXoHx0+1WO9ZjCscGAv4t8MoT3+zWWhPz7HSyKdUJOSgHRr/lnoVuM\n",
       "EyS/9p1MXNxijQaHmQpVGRPfJoUqs04L7xk2Ezm9sWIWvoQNgRFmfCncNCbA0wmm9+x6YLFMpSWo\n",
       "nP+GBNuiBxyvU7fn+roYdobhUTfTkOmkNPk1EyhonfixLX1kBceM//7Q5Ny4kXoU6CUToEAYm1c6\n",
       "0+bGi7lJjvgGxiG/G7czR2XvFASd4N4InkP39ct+zQawEWbSmqAg/y5asIrGLwmihCwcczda6mlL\n",
       "BXCyRT42nq/t3Vx5CLworgH8CFefhHR2+Kb82TwwDM5ucdQAiPngMeeqZOUgGSSptS4/6tkeyshg\n",
       "XWlotiBXb1QPtGGinvXGkSVru0MC2p4oEtGa6VBsWoBNtJLUJU3/fdlDAexlQppTr3P3ZZip8FEX\n",
       "75I8qmgtUF3n+tiArhXAx2hzm53V/bkAAABuAZ9eakX/AAku/jpHBmxGT5ZYxxvR+ay9xywCcg7x\n",
       "pjEm4XqSkncYrEPlcQAezRBIXtynXRSzwk0hDlpSmq3CJc+1oQg0J4j83q6vuXy8mDk9wdSs/X5g\n",
       "+4/ExNbpDwgOHZd9cVwsv0mJKCQ6WJgAAAE8QZtASeEKUmUwIT/98QAAdlCII+xaAEZGg5vXqTgc\n",
       "I6YR47v7twEgs1t6AmHWMGjjDMtZq7kauUW2gj0Hz9bZhHG5zuSto9ZbxDdrWOLxd1zox3V7J7S+\n",
       "uxo7hVFV8OAXRtof4G3aoo8u2/8qMDTz45zMg+E41IrwVayTGd9rDKkCIerI+1O7Yal+kAlJ50qL\n",
       "89c9afwtpPih94RvRRWU/psbDUnefBgWgqN05z0UxT5OJy+j4tit3kALL9dRbftd7clgHgVwtM5E\n",
       "JhKU6221sBviRrxQpdRorUR8dU+d6RdFXP0nDQyR/BMx1/gYp4h1pDEuUsZz9+3mDx5VknSAjIXH\n",
       "Yw5fYp/NM/Sf3x9yArtctjXLw47ioL2YHJIkXwK4XQOlJZKtlFNE342Up7Iz0wLOrSSv2R/bKYcf\n",
       "0AAAAk9Bm2RJ4Q6JlMCEf/3hAAC/j5iIpDSmzfoAF0uJM7iiwcOlSZkzdvGw5pxNEP5WtbcigE42\n",
       "lgThV2NMFpbtgiIPHfKwP/WSN8G11xktBBjmY4VMuqSEmez49JDZp5yDI/rC/f7NzoIH1+IVbEPD\n",
       "pgw7pbddz/UFsQs/FCIIExoq2w0OaMczA5EChGCO2vekUzg+OwMFJVLEDzGzgxNpL6e1g+SXjPIB\n",
       "559nvtsmnTvGidfZalW0zpzrF3nQq5iXmW4yHYdOQxSmrsvChAcvBeaGiHmgHN7zV7bPpNSprUQj\n",
       "msYOsCMCQ3CS0EqI0CosVBaum8co7Ir47c9OgFXAICWneQOSZYJrLyg1I2pNDcRRw5DBVVA/6uWA\n",
       "wdpICng3PHnSOsVJlbMd2hM+Hss7sJb9NHvOh4bJfpxYjQ6gfux6A5czIJSe+rHqW71c6K9jsupF\n",
       "RJ3UQRFE7LuEgihOYP2z4VjTvzXnItkIudTEAPkdghLZfOWZYmgjmpNE964HLVlc/rWyOcX4jJ/M\n",
       "btE/gCl+HmkHIr7ROE9PO7srd7SbjJR48XNx7MYQCZxFsAmSDBMfmHTb6hzV3oJPWfXLzD/HMQVE\n",
       "hcBFf2Z57WTrPUSVs/mdb1F9Bqww1LcKz0QQK1zUzNeTD04/pedZdW2YsW/8DNknB0tJmB2nHFtc\n",
       "AaqofmkstubiDrw11AFX/1/KordQ5tiGmQWT4eo+9ejoDj6+TnK/A98LUkh5ujQH161BAz8L6Ew1\n",
       "lIDtS3POkwGpGIcEjTwyp82JK8q6Pc8r6cEAAAD7QZ+CRRE8bwAHvi+qanABb2fY8s59TntskX3V\n",
       "7eYRv5FdkMPEYEP5Z8/r1Eh+vqRt/yTyOqoLCnAdiupeV6eM9SsdRabmcJJKev+lfpvS8ZPRjxcv\n",
       "ENfANspXAle2fQaYLhVyRbEuG4JH3yswnB08t5nMOpbrZn1KU4Ay4SfMsmPinEH4Xa5yyr/y7QOc\n",
       "cnzjYpBIkSAsB9PpYMU5xq376SrYlC5JIQk/agZXWJHAw/RnJxqdaL6UhL6pHrAb7fxVb7I4iVbM\n",
       "6up6ZZWw63+LmuS0PrpUfD2HhljZYWEO0MXohtgOCMMDXRHO/JHfyQw7DpD/Q2mj7yQp5ewAAABw\n",
       "AZ+hdEX/AAkwAQKbnqTz0pMZmCMHKlluepeA3WKtf8qyP5kJ2DKQptOmNcGo7q14Sls1wAC2KBRX\n",
       "GrZRk1d4ZJm8XbYzvscMjoL2FkmCCjo9r/ku1KCfQvNKIV6I3gxE4scNsaq/NgsH/b4oqxZNIQAA\n",
       "AGcBn6NqRf8ACS7/HbJ6qr8yEtzRv8DUdeIeNugNRGVTRQZIMABdEefpJfjFZ8bLLVvzKcTQO25i\n",
       "VJqf0nVtHi6s4oRHSMQicdShOyW9LGNTfoDPkeTKIv1AWhJdSoEdE2p8GYjIx3nBAAABvkGbpkmo\n",
       "QWiZTBTwj/3hAAC6lGETuFoAJh5OCWKky1/c9yNgUSJuQN74fv9uBviFyayYMI+mfdzBwVbcQmEh\n",
       "fZvOF8E4Xa7hGp6N/4Pu+tg0wDqF4ylm3ySLfRr4e+PeWCCTsC0FDyDA4sqcDWJdaB0hnZ/6jf9S\n",
       "EukogvRZc/CJKXfoUGivLhDhMzcL/nw9ehlbUUZw5ZQ2Eshm8HoZWs4XYPyGVJ61HEGR5khEeXAt\n",
       "Y2v5KT78+xq2ZXAyny6EWtTr+RvsLME6q75KQWNt5QcU/v2Wb0evtkTWtWlfMGKO/4Tm7eUKxzcO\n",
       "J+CkqrsgA81EGkRZ21/gStpmNxejQw09DuyUpTW1n3bpUXnDSFK7NpI8E5AQc+8By4ZN/GB6Wrql\n",
       "P6CSKEW4nzolHbPfue1CIU89TgolBRR1kNc+Y/LSLXsqrtJ7k5Oh7ScADpJeg5GauuphOz4QNE2G\n",
       "VpOdsyWtaIBDXFfNYfTZssTTkME6VK+eNZxCiRY4prA5sPZSjt9rPqzZ27h6qW3sJwn6qTlpu94b\n",
       "/QklHMFptcuDMyDuu2/Kc6i9Wx6BSD+uRtXjNi617raB3SLXbGYII2laAAAAYgGfxWpF/wAJqx5J\n",
       "n0zc0ErYgrKNRTHV6mY+X5xbHGbM4YR81onjaHWbr3LAALY6L8apsOI1ZT/zNrpRWf7Zy8gibhZ5\n",
       "xd2xxUV/5DI39f9hZQzuNEKSImpGf85adyyOwaSBAAABv0GbyEnhClJlMFLCP/3hAAC5gfd+dbbk\n",
       "YAV3aSGhUQb6qzfU2Sbh8hN8J1BtJyV0ljNc2ji2E9KsinU6GLEGG99zvnGOaCPjGkcBtrIyg67J\n",
       "VTnnaoU8nEm9XqazXwOzBIGGUB+dQ8p+9QOReXj9EnHHuZpP2VvGv7+1EGWeJDWV5szW5J2JPwOi\n",
       "5K6fqY7dJD1hsq/Ef7Yu6DYffdin5t6B35GSapJMHMByJZtGZUGZiwgMmuzGNb9Z2u3f1arwS6gU\n",
       "q69RSJ+FceuJn4ADAFimrnFK+XVeuowh34sbCSzkG+mmOmDXgOK4iR4yofE2EzhgP2GpUwJcMrO8\n",
       "a9i0+W9615kF8FX/R1qkV9cCLI84DX7U91J1QQsFL7LCJo285SRNrCyqzAJcQqUgbK1bOBI326kU\n",
       "Zwdw2Y5+dE7/gOc0JRvxZeDNBpqqmjsxqg73kUBBRQS/n6Eb7oWHJHbzg7alkIun7l2bEFXDr53e\n",
       "8e/igkZsqTeODzRNw+4+CcPSvM2UggB7b85/ZHpu0cIZOhIhu481FGwK8yfUsQxPljhGYw+TIh7V\n",
       "rV1Z+mPilxYE+7ybgXM8riz3tP8BLa3fMAAAAGEBn+dqRf8ACehOm+pZRcuTAYFSN1+v9fAFjt1s\n",
       "Bv0lAI0ZKWovnH42L4Cjna35/Hdy0AJSdIVulBhWfkKYCRcUG/HJiy5Gc5xVed5XW9f2lY0x7L0c\n",
       "nUHoTVFz3emHafCBAAAB20Gb6knhDomUwUTCP/3hAAC+Wo4KxAe4dpLOpbQAOIAdQj/iAIhDvNmf\n",
       "8iXHtoaebtMhqkRu8pp9eTn0yiVXw36n/XXbQ7YXyKa+bByqISGWGuejcWyTo/vEE6mX/b3BZhdj\n",
       "CwgxI/Xo14L1h+hCp2Z/EmCUTOPqB1weY9HgwNWljfKXz57T8MH+atDFTErOtbMjPWD88SpH30Td\n",
       "X6RjqjuVz3o3Y1NX1579uMrwbikROCDGapneCBPHEtC48IsQljer664Q2AKMxbpgkCFHfE4a0qpj\n",
       "WoTZIq/2rTLluCGugiIsrjGnMRN3t/LrXEmWhYZzPcuRUUpmXEIMl3Xb9pXZh1FGgfJMkOsElc6J\n",
       "p5LLMiWaiIjTv+V/w/DDlgeZzzfcsRg6iY1u5lcsCqDPphOd4Snf7LfGFPw3ooWeLoAtvnJVOQco\n",
       "FcuX4tjGh2ZDWgwyebTxKZA/tXHuJC+tCXgYdaVLcK0hRE99UQ+X2MKfwd4bv3oA2GScjQiBUmP/\n",
       "VxuPEcg2zDlQQGPYR8npiCbxL84T6rnDtydEjguVqiZ4W2+2ftfC1SfFObDx98J2JOZwDgNQSrRQ\n",
       "CGSlJ2I/j2cysUP+/1BlRhX3yHKJhRnHm698PaNTwHjVaC0AAABuAZ4JakX/AAmm+r+XnH08RMTd\n",
       "cBYABNWgjxJHFhSoO7uVzPFXafsI7bW1bsGPmOHUxkQZXFqDJqjd3dXWOctBzAcMLJLjK93x4lyV\n",
       "a+Qzqwa0U47Erf9FMK+2l02mYoI8fj7i8yJ3faC4f6wa/agAAAFdQZoLSeEPJlMCEf/94QAAvxEz\n",
       "xivzCfmABb/Dj5FX2Xi0NDEHX8UKS5Y9RgYLDQS7ybKY4bon8tqlwbqfe69wKxiqLTaddgS3NSrk\n",
       "LPbpzwopyv03ORkRhGF1AA7WW2fLpRTr4mVtIkxZa2Rha3EoRmmDklLZvxaV3CeoMZM9P3c9mRn3\n",
       "KsDLJ/FAKylFGbacsNlrc4EfHzI9DATkK8GRsVZX6eWz9MJ1+wrsgG7eWVZzDaL8iDMgf4jGiSdt\n",
       "DwDThF4FnU7jtCGK+twJHyz+Y17dDu2kK7QGl7pGyiNhnKISSIGe9aldt4Pg3r/+YERWUiJI6vKi\n",
       "UJfItb8ZGAh3Z2/ZW9kBYcdlymwQfZBLheLEqjtQyQuYdoSZNxlAOvxbnlBtjRus5gPVus64Thkf\n",
       "044rHb5tNtaWm7gAdY70fWrHxGELtC089XEsY/uEns4pJM8Kpwit8Dq1N1PI8AAAAiVBmi5J4Q8m\n",
       "UwIR//3hAAC+Wo0jwgjO7xo4LfQAskJ841FxZSohM+52AF0EzG0UQedYYnK+VDT3Ryd2kgtJ9LRo\n",
       "tobC6XQwb24q/c6T4MCoAEigFk6L7Wz010rKvl+F6QVlssU8ccg13bIAhWdocr22hSBkEGDHwoWs\n",
       "wxRYwRT6FlEX+WlKVj0tlb6OvA8WWVtavpcPvcq4WCfECGVkqjsmHeTYjQraBaFwupDvEvavdpgN\n",
       "6ZPdp0XL8hQiIKLlUBEwbkxFtrd3f0KY70umT3CDHLlOxy/1pQhQuosskSXE+y9v9+3l89rTCYEp\n",
       "87Q0Yob4kJZ/86w/kW7r/dRf1UuEqp7k4bEFtCbpwilgEGQWVhCS7cZ2RST6uCcdI93tBUxXd6Ad\n",
       "kwxDYq8AWwAYpJAUeL5gpF6dfVkrWugrW25GMmQ4YCasEwOsecczObmzHdkp5wUefITqEVOam6JC\n",
       "e0nuI2ErDUQOZ7dLEcSZlcTdwhoMAmE52k32nlgts5NQIdNh4l9GeSA7ESwiMhfB6EwRg5sqDNxd\n",
       "/ssdkrzwm09H964IydaB73ZsEAN9pq7UCaNkvDdzVKJeTT6seF0GL9rDnaX3RaeQyD6qtWiONWTB\n",
       "fEkpGl/Jlz2HsQVQlVDuX2N5fgd+WVz9F/3yhWSQ5MsK38VHgGBwkzTlvHwTw2zkAGSLTT+7yYgv\n",
       "TF+nhfQrx26e5+QK1P7adhrrcmqRIzxohvpm1uEAAACoQZ5MRRE8XwAJjOTMJqIASBWNbhnKdaJ7\n",
       "zhXufsH2EWxAkFf6FPz7N8m2boPA9s1ItaIelSbKLoikEeTW+D3NsaCxkmf6Lpfa22YV9WL14B9u\n",
       "/p8baTQWwV7npDXLrD7k3NUxW/eqhM8eTnIBMI7tGbJPYrtUcAeaQ0tWw7R3QaDce3gsaBXhduLH\n",
       "/O9Pzc9gn+lm/Zr7EZg6CWBrzd6i+FqQpLx+ehVgAAAAZQGebWpF/wAIZMPvsDukRSwjXwm8iKIr\n",
       "FqWZbiLX+0JgFMYkCAEI/E+jTVv9fjm8Tlg8DOYu39E9CwFFd+aEn80QYTVRy76uWX0415XoKuJ+\n",
       "2jdMP4CZP/nen7eVwpNge7ZzreF5AAABw0GacEmoQWiZTBTx//yEAALlNBCw/VczgxRo+AAhbTsW\n",
       "tfiKk67KXESZBVH5GU1qecIjhCz9RHADm8a8d4GJax8OFDVL2CV8AoYBOmEGKbnHrjzBfHDG7LnZ\n",
       "2CMtDvRI5wZSa08nWHTAPH6AGw4TiwTxV6ZEw0gzMl21oalzOCQA9VD446VdevlyyKH+2LHyfSJ5\n",
       "DkUcHepPNoiOB1qgyRGOWWWnJLZtsFxXhtk2G/laqNnKMnD5hKXXeSm9mzcxXjS9AYu4U3y6kZ+s\n",
       "7ATtQicPSv4dsbNkbaviLq4eIv6pTx5hDmRMONJ7bP4yUWZxfZ02YFvbO+hJaaBnGugqGnJXZ7dM\n",
       "XbAUU7Ewloy7kVUR574yYWkgDSi3eb89nrCBa3K9Q9m1q2Ae251xCSKH99i5v315tl9zJ0EY8871\n",
       "nrL6cvvw4iCxJkDPqrAMqNlmGalEUwYix7lUfBKfzrBLE1ecvbgPy8+q4RT4Hl/0LtBrTgxn0oq6\n",
       "3X8TWCQcDIMj9WNYQkYICawC5/pITaVLQ930UUBDWdDTP9I2RSO52Ojs9wbEam4DX+n4b5Djjiyj\n",
       "bYwNISCP4yilgZ3e/d6NTd9GU4AAAACAAZ6PakX/AAnfRd5V5Hj4SsFr53FTj7lxUAD2pHtNThcW\n",
       "HRQATVSryS9rq0hxLj7x9/0vnS5LkVAr1scJt2pieCFwEpSqEYHrL4McryjEYsv2uHgN4VEE5OxC\n",
       "S6Oy+9SUMUUj9CGVCvBcc56oKNIInC9QqzohhpvQCK26yhwdxoEAAAE9QZqRSeEKUmUwI//8hAAC\n",
       "5TQT0ivsgP7moAZymY6bHM4ByLmH5XfS4IwLwTCjTHXygsRrukhsjGD2g+WyaZPgLtbTr5FQV35W\n",
       "5kjl0Ho7E+37Yno6vNI76HtftY8zq5YwPy5/A0pFJCT5EwXL5p3A0g5U7uYgVCx+PVMi5i+dLzYO\n",
       "Sok0ItTURuCCUYjWqlxxDAfL43VRQX+b2tfTXX9Sag/tci4jsMKhpVoDfKy1tFVMesLYJ+GSpCzM\n",
       "fVvf5WLoxw2MNMg+r4cBUUQvB6trZA/6bgIBZ9VvqPaswROUsyBIGfNzXziZ5MBddgt+DswBw1Ff\n",
       "jSFDyDIpvT4uU7+4Kgg+cuCTuryoTEe0e/IU6DjOHRXgi1mpjer94/T3DzT3RH/ZxnweMNT0wVCa\n",
       "ox/REnNT+p19IU22GAPadJEAAAHQQZqySeEOiZTAj//8hAAC6Ln+1UAFww9jRL6h6eA/qwSLvzqC\n",
       "E/0F8gWYBcRBVsuPI7rODGkFuRxiePtXY4TKIJ/wyYMDs7YAwquSI3cT4juNL5yiZqATNw2rcgLg\n",
       "5yyp06EtQbCnc5N7dMJIZkEeMjtv7oze8Ub5J7xgOgt2HKAol6OpAZqQGww8N0vY50OEcACeOhAc\n",
       "eT6JBoT0FUoWNbczrfXK/EUNkltJjpfEutEYRT5WO3cghY4rQbSpWm18NptCNf7xetLdBoMx0l3y\n",
       "bQMIHfGS9Fbzqgd+foD98tVzb5Arz85frOmjVWAG6nWnncKs8NHQqT4dBX33/3Dra7ewIHZRvqS3\n",
       "TkHrwfBVys7SH/vpWlB2Lp23EB4gyiLE06GIabwlNn9zsa21sH6Q8/3L5yTdoZz7+ABItwRamNud\n",
       "MBsBPw7CskoDk/JkGtQrnynoZuJTwoQkvsrPCZnlmU3fzsIaL98oMduYAygnioQ5gIsbmsBWalWO\n",
       "u0M6lh1ovF8/yU15n7ihRkgAib0sDosYugmBEF5lTXov/9BHpfuo+sxEu9Jb0bw9SSdkmj8SUCbK\n",
       "LkYgnQ5pTe21jeCVpt8caM/oY3IbjGOt8V78j30AAAGKQZrTSeEPJlMCEf/94QAAvxE8E6ACZOok\n",
       "GGaZ0hT0VCV9ALeL8bjVSfyLN7LOOlb48fyCN/UW04TXdJIhWEd7U1XB9Ple0QJ2+kmfGqDkm31g\n",
       "VA8z2iuzaoZhmOyWQ50rPG6F/Qhx1c4OXqP08ffgDwkVVNKk3qkmsXL8kNx5690RAb+21SHqCR3F\n",
       "Qo+clVC+d2jD8l3LCN1UgOqqTw8C/hGgMaWtz52MY06CR7AJyRU0Z5QKsmc0arhMBRd/jjKkuYUz\n",
       "BZIUCchYvJcxqcs+wjdIUoC9cmbAGgQS8SAhMbgehpRUZkAscVlE5W0S1Sffvqo211WIiK5A17z4\n",
       "8PX6bBiGh2QDr5ZOcg1zHL1vpDxg3NjFOGoS8DhFMKXEu1EKUZuSOkc+FqdZIS6ZOvJhIZca3D7V\n",
       "jCZIX9by8CzKF1WRzm9KhHgqDuaPq+3BsJEv1yN6xbg6H0JQQBET20QBl+BC3n0DeRJTUEE6LHF/\n",
       "o2eS5/tbB+0/CURFQuu5u/5knk/3S2hgfEJJhwAAAbFBmvRJ4Q8mUwIR//3hAAC+WpQu+wUMAD+d\n",
       "7MzQq2/udSUtjU+FXl+jeVDySGJdTcQ3CsL5FXfj33Zs0/onPIQ74wJlGQKw74IgkU/PMNsXZ3t4\n",
       "hQUGNleYJqMacRwc8fgH76WJrXhKkUmJNiOaYzV4s5wPhao6YcLW4wctd5LRAYpkr1hC/97DwaAT\n",
       "KArDoV6hvyf2sMmPVxIUAOFxIvKuvMeIBNyEWzbD1LfAskySMZJlFtuvgeqLV2ZHhwqJZcDv9LR1\n",
       "L6m0pOAZFTX3+revOBop/6zaWKCmcWA2qFK01fWwjGxaUZDjXtxjmEX0PeAqrM68LJn3Nhth+qOk\n",
       "COwPA787i1fKaQjgzsfWbeCCCxsZEkRuF/HbkTI8BgAy9jKp7XXkjFnB3fRpy1ekbrqUYXQgnnLe\n",
       "TlQ3+Ht2d5oFXMfw8KDRdiwjLkBLTulZYCfquLB077PrpBA2SvBc7ypmol0rbmrc+62LjNGqgGRE\n",
       "2Q6IiauJPxepynJfBHZ8rVTsuM/n+ku45ziBUeJMudUT2jkO0CC+bxnev0kViIEnSWPnPghlM0e4\n",
       "mNGjFU6YiL2AAAAB7kGbFknhDyZTBRE8I//94QAAvlzsE8JY90dABbgRTOtpJW0AitOGIj+cttXr\n",
       "gAPMjzLbZJ0oYtx+yAVBFrjLv1mRn5eVW7FkamJMnwQ1F1IGWNN1a2JulnwZziT8SuFpMD4Vgmqp\n",
       "zKpBVhnDVVqhxIKd06h2PJd4P/1w0MPJLZc1q2SWM0BUTjHYBHEX5Q3mwvKzSLVhxzRYIyzEFN38\n",
       "/SsQpkPvONcjtox3DfNpyNVG9Eao9KDK4kYaLs6+2wTk4oLSdtIAZWs1qWMEdJgCgWutM1rA79kP\n",
       "GhjzshzfORhWMGVe+BH23C3Tkv55azCiQAJv05/l0forhf1xEhXkXknrhTtwr6b2qrq4lyjYwEN/\n",
       "De0fuas2IgnMs9VJfEvntpP7CG7d7rNHYN1o8T5j1kWp6gchq7Euzjym+HXFiiX193X1/6Ib8bNt\n",
       "l/WsxRSk7SytyEJBiUEsTkc8mkdtD0AfmhUtmYRgs+6nXCRJXr/bOCzYGlugut2N+6cYHqs0Ozj+\n",
       "jQg9Q7MPFZTQegtc6oHuG4plBWlCYiUWFz5qZNI4fwB30kpnnepPbnskxMJsF2FkWJ5Yj0OODqKs\n",
       "vIiAyGnq1eCEp6O1SlWhell1iTOW15/4RpEijVSudde686olKbb/gvW/LA3oHTC8roWXAAAAgAGf\n",
       "NWpF/wAJr7aEtqBMpmEZSqUibIABLbSgzR+GByqkQKknhK4wMFfwua2+Rgq4EPnEeIGC+wQe6wd3\n",
       "faMRq6JSJ5gd7XLb/OJCOor6UsRQL3weMHBZMbocz85DVzkv1bFxNZmtqSiz4o094UOclZw74DYH\n",
       "dy9qzo70Zo2oz6XVAAABSkGbN0nhDyZTAhH//eEAAL8Q67joALcCKuDe5DrCDSkoeJjRAjDKFAoy\n",
       "z+SZwbgyI0X/PDMbW8ksOUdJ6dYYMscW/LJIuGZEtL7bnqVgxJ82B4LyT1+9GIWMetaolBZ5GYW8\n",
       "MF6yA4IrOxP0QcFF4wpDDUbg6fI2y3DXen7JT3v+zS/rFduGnth9wxbYHvINpgm9cEIaRTf9Q/RV\n",
       "Ok5kjQZqi6ByIYoYQvANuAuV7stbdJ3eMoYA1o9ak2D8EakMxQbKamWjOPFs5ApGo1K4AYXL3wGT\n",
       "5pFWjqy0D9gdAP9DftGRShoC3FMdgT/s0Mf6HaZM34y3VsFo0kyp/nnO7TBJeOtCLE0ZbnkbdSE6\n",
       "ZKrNv46aIdKoZL+AQh1LZWV3uh1YI1qRHaFn7sdsOg1SYbXV6pwp6CodsPWK5dVXbJp8CWugAqHc\n",
       "hQxxVAAAAeZBm1lJ4Q8mUwURPCP//eEAAL6oQ5AAugAo3zbLqmLwBdPFlJpwvewWu+f9pxmzMWK+\n",
       "gupNqhoiYV+Y7EONtviiLlPENzNN7nJB4S7x5vUAZoOwvYuZCMNQCth/Gr8R4pp7SWLUXdej4X46\n",
       "pYxx/RrT2qqN0jOnp7QTf/5Py5zj625phzQIzOcUaZVV2FNCXP3ZuJzdTOzelO14mNq4DGUQbh5l\n",
       "4+jKSvhK7AqoJ5ncbRtnSpNE2hrj3qVAkZLQZknl9fDpWjPyWHPL8qyGw1bUREStBgCub30tRyYS\n",
       "EuUQtKQxLRKMrPK8L551DZ7MqP3J3shh7BgA1Nf4OvJE5x9lSW8i1Wccz7GRHSpKtPd9tfOr7NQ+\n",
       "gMlEAAgNwkeLgdYAwy9etEjuYVFM3Lcicdmi3xZeylVWGN54Pl110JUqfnpIYd8FZwpY1MUKeJSb\n",
       "6mdUXvXWF+dFuWrMOvQXkGulcufbOrniNFp05/uMuBGWAUBWSPD3Q2Bp16avXgn7AMRCaxVhyCMV\n",
       "ie/H5b2oVyCnbSIKZD8cP2ZvcjCcM/7vL6clEyjjrInXeU2NJSjfTzuHt9g58zro32e17tInZ6oA\n",
       "1Zg+OBmFxsJlCuRTmfGxqqXQSvto5gmcYqKluZnJjdvwC2WF0HAAAABhAZ94akX/AAmj01MuP+MQ\n",
       "YWsslqrJCD1ACs3XUCRxd8ehM/leu+bAj1bA30Y1lHGxsiFV+uAkyGiP0QODuxdicPVIU36m+Phj\n",
       "BOvDuEcXOD8vkNi2WGMYEnn5RtgBIv1rdwAAAVVBm3pJ4Q8mUwIT//3xAAB3GgMDYJkAF0C5DEW/\n",
       "fyy9HwsttIXGmdfUaixX/Slrx7csNRBlv/yNjipFGoFBQStCEJfztOZbvrYH/GTHBb5j49lZ5uA0\n",
       "BL6WcfEFu/fgJgcbaNAau3eWz431UEwnNIp7qGYbpqjhADNB+VEnaURJomkd6rI87D41LzA9Gj5D\n",
       "BrIsdZj8HAfH4IRCfftVnltE1Bk45dq9s4q74724HyJB7C/d5TeA7iW/M9XnXRIHsU8la6cgWfpl\n",
       "Coj+cC/yHmejSS0Kyj8zFNZN0GOs1985db7o6NV+cKbBKj50cl+7qBU+pvG6JDDdpYL+xeAsy6Dy\n",
       "AiSo73fsSyouaAOc0NxG01bzm5QByo7FqwcSwMh3xk57Zed4GviLhEoqCbsBUpCTaVfS5iwhIVu3\n",
       "8mCFjme3s7GOWCi96BmLo95JQP9st1EVMa0DYQAAAtJBm55J4Q8mUwIR//3hAAC+oktAAK6Zr9z8\n",
       "nyf91VHKakPL6hpK5+1w4DEm3Irmn4FC+ihs/aX1iW8YrXlJBM9HrZXfZmQCp3BXON1BkiPQ+OBP\n",
       "YDo/EB1vWlMzrniSrwQQq+k/6/ORdnMeAwbZf/7xFq6RUMQCOYBYOv+OO5Z4yZ2FxcqP9ubQkTrr\n",
       "Xfzn7kP706HjL+4IMehvxbOLtHUzwCBa/MSE/4dhbgDl/d/BQY59cyxT/UkwT0RY2qeuGjOjVDi8\n",
       "aEMrXkDRPnBJrT9hRlqsU69B2LwCQEy1ykJ6A+DxhLbjy6HoeGp8Qb8URyNOgtl1ot+/w48A2tez\n",
       "c9CzswH+tZIQd7UGXSpH2B4dbOHQ1W3EYr06l9LjxsOdTceG1EK4KtEnd9TW3spfk3GSehZoEBn6\n",
       "Zf8P1qoEGbNJJbfQfidfpk2wQR+KoUY5XdYFOceeldoQZplpuWk8tsquF0ba+p60jEf48ELLnIXM\n",
       "ZFuYNprABZrQ60lnqgmJHzLj32kypATYStajR1NNNc3AKLm/eDejN1u1fOY04QvK0DRWPGGxcYyZ\n",
       "UrOGTepezP1SC1l88x31b4ccb7eOPofxbz8tHAJT1DAzrMkIPMM+SM8gkXLJP/vuY/KS6HcjCctx\n",
       "bymru8MzY798QB5EqjYsBE2J5Bsf0iC2HenkWvoqsvVr0s29a6l523zmfTvqSQ2NkRYUy+Fa4JnF\n",
       "mDavvj0dr0rLbwi4EuPqWSOFJTw3/+DenhA9DDdnArzpFaZYD9m98f+pNVqLhlWniEDYxg7nYB/Y\n",
       "Hr4dEzUihyZFWAMvE4uc8Vx5PwTN1GntHMK4tpwFybjS6Vb8iXvYwIUAs31OvN6vooDxsgoy1V52\n",
       "NsiKPEVWfAb2VNx/TI8tgtbTCC+0+a3QRDtc1uTWVSdmGfveo8NVPqBhVO5VWYSvyrBDa/iQZ5oP\n",
       "XrVDGbp4D8ZqxGL04QAAAQdBn7xFETxvAAfo+E5U2lQAQfnUuRJGTiEQT4KP+tRTHrVo+JjvLWp+\n",
       "KhaeE2dEAm/kl13wQHVdR7j4iXTqh+z4KHxIeDIdo6tUAX9gyvgsJQT4Pdq/12pMdQGod9FZqCPZ\n",
       "i8EesUY4CUtqm5uSm70UGY/Ws+Pt3kjOVZj2sw+pFywHqm1dseBMxFpL1Gyzk6//BIQf+fNPSLCQ\n",
       "/UXnbSuRJHVNskQ60d0bAsZmoRdd6AQGDn87TTQHGH63Q3wGzRPKWaGKdYe+g/oKlh8Sck5BR8BQ\n",
       "Sl2wu+fb3l60pSwUBZVCDaNVA7/y/EitdYcuQRyAIXCiv4id+/vdBFjeQegn7qHd97P20wAAAIcB\n",
       "n9t0Rf8ACj+BxMDQFb1Q2e4OWf+MCbbQAl6DwWKaQr5QMIZ4+cA5PzRcYyImgmpj0We4CE6KIzzp\n",
       "Y4WLtHzgH3Sf4+BQ2bMrtDohoa9R/qqSxx0EmoDV2pfTJWPDEycvhTui/Zwh/rRaZcer6dRSjZyl\n",
       "Fs/IrT9FqKBMzkO7MVCLVIESxWEAAABfAZ/dakX/AAnkgLHNy4D+Aq04DLTdmKMAAnAAyh7+UGmb\n",
       "bjfWDBCJAYCSp2P7Aa3TK1OZh7deFKh1kWHbggUO+acJlktpMd92XUmnMeNmH0a/eFicOolkan/2\n",
       "aPpnBU0AAAI2QZvBSahBaJlMCEf//eEAAL+PkSg5AAun3+BFZOk32WC6co3ey3ajyw5yuXTQZX/G\n",
       "VQcrpOe3S//P8VW8YEynSmIijD4fjqL3lz9G9QKpOiKfOgLsK1O6hHOPYfEhCc8/Si5Bky6SpeOj\n",
       "7pH2RlUdViblxslqd3Ev8SU2QMBcnzqeJI8mkIUPQS4HlvhbEHffwPrXMSG0iHAmzHOImeoX/GlW\n",
       "kXuIYWoBebQ/asnzJTnmQWgTLZHG4RIomxKbE0JuADxt6lo185JeADVMFneXcNfVQGPMXZpNwboz\n",
       "Q1uswxA6zFftK7SJQpH5VOq6OpvKnDFXO9/cvR/hOllfoHDiGO5goEj9pOkQ9Dgn46Zv2wM6qsk8\n",
       "HxGtdzf0bOMhc9X16LEXKuPyoiYJ5C1f8cD2o8zR2Dr2dBYiocl3MVTtoqRFGUhh19/DvrYyss1k\n",
       "0oKMbequA8ZnBhyFs6YlcgXP2ngyJFJ/UYWe00N3Xe7lBOn9o77mZCrP2IgZ377wKqFpkNXNPswI\n",
       "L2SxP9FzssethHCD6cpZ+yjjdWT9O9CeGlvK0FxRBjJuXGHiNk4MTPtHOhRzeiG+Xq+oTXWAYl9h\n",
       "cazmIN9rzodvtw8ZBn4rbRlkmhH5SCtj5+u14h9hHQga69lHoMMICLrH2MEv2GY0oeXMHOmsFgJq\n",
       "ldsdB9SBQB2UCEAn+YsbqxW+7jbMLpWd8ZMaBPOhIeB/ph3MG2Hv9unZ5o/Ml1MyD0FbTFgg5pWA\n",
       "KoeeIkoAAAClQZ//RREsXwAKPkErjtXIYgAC2EwdRZy1wS86HVq7Y8EVNGgLGeC81CbhjSTeZjMQ\n",
       "ndw77SlABghDgAnpkrASgY/+S8h1V1nD+YdVz2oi91+WRzUJPkoIyU6jJHzaapTsg2KFxfvO2vyc\n",
       "T4mvq53k4lxn9KMMU0mPrPVVlfevGj8p0xXBTUAhlByW2wRtgA76MeAjZ90Bspu3iVUQwWxsAlxn\n",
       "rtKgAAAAaAGeAGpF/wAJsr0cyyRy6zHpbmVOsgS6pObi3EFwZIhG6MpY2RhD5g91ACSoTNgHyKhl\n",
       "DOs6fQ8+oe89AYJz0xAUpdk3m2lU2UDRzz+3z7BxFTRC9qxgFy3qKq7Ru3r1MYy4QjgICSGxAAAB\n",
       "YUGaAkmoQWyZTAhH//3hAAC/ESP1IAEzyxZ3Yv8vTr61yEYNT8L8UzysNkVmknGymtc5MTfp6xi1\n",
       "ayIsEwt2KlMyjRdBujiJ8nayo0yZGPczR3cGw0STGrlKu/eJ2FyEzxhhLYC9UFwQ6CnK+c1pVesV\n",
       "0Ns9QzngyZKRzHXvgHAAT6MGlhC9FeFnQt9ewxzyIonA+pG6kXcTX0ecivw0AH4Ssa0G3nTLAX4p\n",
       "0ottg4NbqoM94f6MP+j0DaHZhKv4Xru6jgMYcOwX5cQ4ffn2w0ejIZnHeI7zsCO8BIOPQn7B2E9z\n",
       "3qqzRJAaEpqoQ0FK0+9fheSspB14KUqBG7WVeqZb9eM878sPZhi7iJPvuH5iugH1fic3SZOvKH+E\n",
       "CenfifrWV7IguOf7yvp6zQ02aAuHdMVEof7dr6r3RT+jDOohAG6rs1Ibzaiy7ztiE3kNBL+Jw3Mh\n",
       "vXSJxhN804TseTNgAAACEEGaJEnhClJlMFFSwj/94QAAvl0Ke6WWRjACat/aphNyylY9pUSs6kUj\n",
       "LWKs/M89V7nXFBTY6CTRgjKrtxNSVpflgLHzitlJhvelZq/FVeaYxXuqq8/iZk4kxHjqKonmEIO2\n",
       "tB3P4ZMSGfL8T49KIFvHVwB81yNCjHr1zsr/4hjPTKl2ZSV8T20gKHT1ZY/2tHJc+xzaz0epgYny\n",
       "nmAIsK9CJ9wOsYaxzK7pNLNRP0ScEjOf1ojsz5vgvrYrN0wXulNSVi+qORY+mDJBWWFrcDUY12Rl\n",
       "lF2oKIr6uFVJx7ZA+cREU5FGS6j+ZU+UMjM/fsm+G8d6wYQpdsBLzdGQaPo5W9Q4c6o7bGu21spO\n",
       "7qFTdBjrRFygKB1Dl4o8hZbODJPJp7KrgML/fa0Rw3He5Qtymr2eGtQ0MWBHJSNi33VOarkBBJ7O\n",
       "bqseBgzwPQZkdvtpvCgYt5to877vWQ4Rr/nfzHZPzhfVq6xrrXCsqEKCs8WLnWBJmVK23NW6WM3f\n",
       "j/tERn4lGC84kARjvxlog8rk1ETc0TaXvAoTujH/KHxKZOTCNMa8vvI6UozoGM9lArqFb1lqKYRo\n",
       "jN8i3S5sbOb4bFz7JL13TvOR8u1W0HW/WxVR7TO06nKWKakDBoZbfp3pdJ4SXB3CTtV/vVEGDblA\n",
       "veaGKt712VnsOaTCWChmLrzbTJCDc6ibva7Ej8O1wQAAAF0BnkNqRf8ACasUtRy1efw8YYPlY3yh\n",
       "aON2nKFyloHBnvJFXfEVuwyZS4LgzUIvZSiH9UH+QAH+F3BAAfhDXR4Ym2VLxqRf6Ds6n4II8p/b\n",
       "Zhh/gtmsTKewd+AM2iEAAAGUQZpFSeEOiZTAhH/94QAAvlzueB/4vigAuo3jEsdf6ERVPtTDHx6s\n",
       "Fu4CJplbFk5/7+MLcskjvt7f5uZILU8GFjIPfNJ95YS5k9iUZ0Qnjlf98JTURcLfPNxC0ByO1FYS\n",
       "cYHvAqgeXqUSLuuMFDMLQ0iVgJC4WlzPyGwFzLw+tkKc4kGkn52AbKCr7R/sRUOMFR2ICHRuOnKD\n",
       "b/N4NBDhvBFS/51DERXs+ZcMnHZTnsJUsEchzXkIY+yaUmi82RzS3+3mAo2eKmF3671D0yM69e/t\n",
       "2tANKVnANvLvWynqK1l0MwUxQEBZtHWtnAfV++VFnprZRqecOweZgN+t4h03SXb2DS93WURHuBBd\n",
       "72hiQ5QkR4tEqfBbatvH+2aAKlgMBCOyQmYpAXxcPgUGvGtxAUSMFFOH3WxP9gvg9mEoh46srlQn\n",
       "PK/6iyPPlEYI4r1bdxrCgkYUpeh2IrKdxmUOVd+5c7rhJIrBNXhlZ04oaX+iO3cnMngQKl1a6A6Z\n",
       "MzD63tF8W74dX7c0mN53PEMBam6W0SAAAAHbQZpnSeEPJlMFFTwj//3hAAC+WkXDnc/xQAcboNbs\n",
       "rr+h41LnYr23XTsF/QaFYIQjYOiQ+KlWWKzqzCffoFUg8luKJQMs9UDpnWmxUnnRYkDfPDmG91ie\n",
       "pTAn+5XpnP/tWYN25yuqH9hEYrlf/rhNLdI/6PBVR4fbfUtsKL66zMgrM/HCC10pJz+OvTA7/CDL\n",
       "lMv/AzverMHFJpDRYbwy0aP+77K7P88UqQI66+ezwxX+x+jalHFLLg7r3LJbVwV0oY2ks0Sjf0V4\n",
       "nlslyjoUoqGUcsDnnEfsD8H37r/k6+KP4OhLEVJA+VMLXYQAJu0Bx5+yCQbjUBuC1vo1PnqfmiCv\n",
       "HgIf5sUnp9ZkQCV+jLKuz+0vi+YjbCzlfRbJgUJC7bYcxgnfZYrzz6b+1D4GhDkseXlc+7e8+oDi\n",
       "4PFr8WSpdH4vwjEysKNHQH6Uo3RndHDEgL1g90BYfZ/Us5WO2AqktEDGYJujhmxZziD3QAM4Mtt5\n",
       "t6MS7vMkG84SDDtBuycqDOz4flkK2POsiaBsbTb0DqCMAt5eO4lluVzv1H2JzUuKy3B7F1fHvLZR\n",
       "f9E0P+1/cAFsgAlQgdo4zH3fEEzYtZWFkjgLx66O3xp2jvbhRpIhr94zT0Q0IQAAAGIBnoZqRf8A\n",
       "Cj5dYnIAPtb85oHaV3NoF65CWU/YhoFQrSIg4Yn2KPqzemdcQLUy+19/CMItpvh4XqJZWFpsGfvF\n",
       "0zR2d7xlshdTcGxaQgT7MSBxmKbQWILgnxLCBDs5zSDuOAAAAh1BmolJ4Q8mUwU8I//94QAAvxFk\n",
       "z64oAONrGgB9vyyVT3Qf0KanPpU5RXFPlBW5bdhW9B7R99NLiDjFRKUvfJN9os1S6Nd/BfzA6nw0\n",
       "adTa8pIipk1mrULLxhwid/2TqqT/j2efVzCddqltymbyCHYMJrx4Lkn12NON1xUR9fN8RmnSiane\n",
       "x2KjVGogPBYpsnqdmbfr1d5e6in7ZZtWnCiskvayEbgvyT8djnmL7PWj8QeYDh9SFepoPrqkJp4I\n",
       "FfyWKz0MofG/Q6OhilSGERLcWr5BNCyJ5qECCE9SPNHS6ZK75NpYFZUCOjrSDDsjGbYusRFTwZxz\n",
       "QfIphLWUcp4WJSYNLUU1qFQb623dtB9t7b3NhANLdrn3izhoatLTdwOuZPL+cTAV0BeLKbybHfFt\n",
       "yQ4K/ymv/MfuOsCSYCIxzkZyR2N5MT0N162D6OXB0FyM78x9vnFIU6amBgfsr6vIXwsMey+NIXHa\n",
       "mXUxUZUxm9yDdT4Q/Pih0atpq8k2aO7ay51zQf9FpjB52kPIhIiXdc09Jm4ToHNFmxw0YLYNAbKa\n",
       "y8TmC42ur8zHZUNSSh38OfBQF0brcA6+bSlZGhtIgmY5Q4cxaRJ67bQsLtwOM8Mid98cDklOPp8a\n",
       "ibbuHmejzLhWxpx65u2HVAXvSh6UTAShSkT76qBbnBkTf3kPeHIfwYs/JHepDSbfGfkpn8/RgA8S\n",
       "owOWB3MnUD6hAAAAegGeqGpF/wAJ7FmSAD+612fDXucs2E8U0Z2a2aPDj9OTkIuw9v6doKGuCgTP\n",
       "IIic5dhqjH7CS1KanZ0Hrb8ZyALDKVG9DU1lWTql3/1Jox0LzhUgNFpBMu3sH79COSv5iB7W2kH9\n",
       "8r+J0Uh4GNVZ5g1D7bUe49rTKLp9AAAB1EGaq0nhDyZTBTwj//3hAAC/EbHt0AKfmrXcRMRL2ECo\n",
       "MqOQLsoASs5hgDw4DJdPKR+/roJbBembdOI/5ikOAg2KnFo3H2p7JUsNKG3eqJZ+2RC/10uTCb9z\n",
       "mm7NRc8yBK8VCik5w3KFU6CHxWrexjiAD/DVesq+gLzEaGRr+bGtU9CZkwt9XNsNmoN+3dkAjjhI\n",
       "txNQMYjz5YxkDJjz63qesWHSnLSTbBp6p1vcti8LvO7FGySUgxtLi50aLxr3S68kKYGolhrsyDzh\n",
       "puR0tZtYOAoiKMd76hSzidsWbOX/a/nY05lLhwvAiIy5YmRGNcPoy/3A0Baz0pob+CI/5gKiPEkK\n",
       "+/PFZkul2C4TzrIAOEMY3845hX1Suw3k/uAaQBybgZrbybSkWhQp7nVMSw+usXwBHeZ12awSmaL1\n",
       "PbITtiO016b33mqDmTf8J9HJed+0zyfFRZausnFbIk9sNsXi7kQZxW8ilafuv9D6GgfpABjXHqfu\n",
       "LOl0wrDDSWA7+0py6AlUsoTZW4EJ9g5O+LW60+hGtb7D2Mp7bu4Hoi4DO7jdw+YOFZancBoco72L\n",
       "jVkUaPQ/ttl4llz/UXqj1YGROU1LnxHWiI8eToYMkHyXnV8mPAAAAG0BnspqRf8ACfEwbFi94AAm\n",
       "w78ugWM9jCWcD2AsoA3QZTePC+X4FNwijxduG+D+KAlQi2sFeBplTnixZoRzoXgFIv+1DoralN32\n",
       "69YID3mbeejZ1C9Vgz8PIr8CQe3nx/yfxzDY4G/KhPoM4kLQAAAB1EGazUnhDyZTBTwj//3hAAC/\n",
       "EbHt0AM/010t//EKeIIZzuW4+h+G6e6fEHnCO1OgCdHvQS5lwZYWycVaf6NwzfpuCrGT7SOaMhkG\n",
       "rXLIyMsFWt2mc/bzEe/PN1YOtdiHZNTXD0UQAALvxfgyem6QXpsyRsoynjeBTZOvpxn48MGi5T+e\n",
       "7Wi3FI1O9zzbpTA7S7XqRnUXUG7GFYwYDMpuHmRqrEv+BGfFmaa4x8i5I8f0MFXzo2uvQD0KsKiZ\n",
       "hoc6fyUyCyyAztpzK98kHlwcqEW+5rVg/327QFYctPPNdkUKS+/S8k2Iiv+YrE+DMy0TWZIqQ/nb\n",
       "BwnyXSOaCvviV3+lydlsFxsg0EZDSvOKtcbUuKdptBgi69fbI4o95MR+QpkF8S7qmZSS1HBsJVk4\n",
       "VEH30GNABzGVF5hNHjEqvH9VpqGyEnSDvPVLYyUttFhkH82go24XPohS113YM44H9KLBD5KRF+48\n",
       "VlK2nCha63hg+5dOjHWGjpLgV3SnalCnLC4AP9koLrbxrod0k0b9AFK2S42kIpDIRYXylVFI4qD2\n",
       "fa7pmn5wxfWaIDQSQz/AlFWL2B3PoNMaM/li/6zJHtc+XysK0f8gpHJc+btWdBzlBrRz4QAAAF8B\n",
       "nuxqRf8ACfCCXOwendcTWnh+aW0E7IpAXgn5S0wxoBNDe6E/39EPmCSwor2iBaDZDXoIeOi44e+2\n",
       "AAuturXJlcmJz9uIGmgbBXwWziWslfpw4oh8H+K5Z3UYj0tbbgAAAcZBmu9J4Q8mUwU8I//94QAA\n",
       "vxEtANEAQK6vfPqiRqTAhpHyXi2z87VqvJ30Rw4Igp7Tz8F0ufAr2Wmp1jrimX1Ac3O0Ra+6Yn7l\n",
       "PnZOZLyGuhWW7zGFhiO5Btf/SeaF6tEPj/iCfGqb/tg+u3o6LrvFPYoJQAsNF0RyVUlUj/97p7Jm\n",
       "nUnFTcp2Z+tc/McCvaI8eiTdsw2w7M+WsikDr9jxDxzB+8xy4THU2BirclgMOM6XDZR9AbC9Cl7w\n",
       "ym8+5DdkFmQhjDlYwznbcBN+4GX53zREtxwWYCo5g3IKJ0goTeR05byrFfwQWHzRk3Z+gv/7PrlG\n",
       "cmYzGzigAAlXvg788BEMk75+Dt/OcoARWDlfqVta2l/W+FiHtWzPCq7aTOlTlvjGH7F2Y+GSqpzO\n",
       "0n65YRjxPKsZ9ItjoDomScE/RPVpbDKcDucA/3llZvUD+WSm0n/XZd9RAmYaZiJzL2TmSzbgt0P5\n",
       "3CPylxN5i/pIqAHB/3iFVt/rJZKIA5sSmINf0U2nS5LziQwGXNUCDqkGqirGXITF3VnVykpiR7jN\n",
       "1F/lNqNEiCQSv3fpjuuUigNghmJzn4hu1XZ/zYQwyrNLRFiwEiHbAAAAagGfDmpF/wAKOMdpCZtP\n",
       "dNgAJv+4dQdXJi0lrLFskgj6TZ1xYgVEtAAbo2Yvx6a1+RfCEzATXTtI90unqGqRBNdJUHMZLPah\n",
       "1wE1fW1qI2NyhMdEeo/SsI2H2jbx87NCuh98dyo+xJmz3nAAAAHDQZsRSeEPJlMFPH/8hAAC5TIs\n",
       "Dpm2O8AK5Mq3xmvi7Ac96KUmrmQmhJwwV84eQ1af7LGaA04so0B3fhBnEZJhD0oiwem/gBNLURaB\n",
       "s54IGjhjnCY0TWrc+KTPkWeTFcYQ9OnaQZfzo48w4Aj9J554wdgDDHb+R+5fJ/6AzdFeECN0GIGA\n",
       "TpTtMubx1DxqXiyjaigvlVd3t3tRcQZYtgxdzHDKYJl6xuODAijEgz67ns5R9JYUfsYWljoj4sKc\n",
       "DXzOgwNvTIqRenNj0T9UtWve/tVi2Z26+4mQ0a3qgxKTcw4gxIRXa8wrS3FAnKy+pfiCEOqTIEyv\n",
       "EOH63r6DvA/wBv6IaZNDTpCfyHniZ2peDyNUrCOSj8IB90UJWoe36F/7wMAv/5MM6AhCKoWQYPEe\n",
       "MXXo3d2mxu544tXL9lKyG3+4G9u1gYMtOltpqroicw+b9M4j1sQ3bbM9rHnJ7bI/5az1zfdke2n1\n",
       "JPv+X3rmcp9WnlzGXdsGvGWk/5Y4tBqn6WkTlOHuEKnWpq45JrOvAtRPT3sCZRqQnu+AVDKPRu5j\n",
       "hfALCofXdxmTrLMGSDSuymjrntm3ekVrP/9Lqhl1YO/gBwAAAEsBnzBqRf8ACNhITl7Vn0nXjSKR\n",
       "SyfR+07FBxq3thQF9YaTYnaEdkUuXkJNm5pjJdOuiwJcKIkhfZk0BZXjjF6P4kS41HNnDWu+wTUA\n",
       "AAFEQZsySeEPJlMCP//8hAAC6mRpxgAj3NtNvAOHGtKFwpyFDNNvNI4wrjH9PWmng87+ZugGFzO2\n",
       "T2XSzuxm24WOk4a2IPBdxi3cKLh4/kSNqXbmlfniz+MZy/p/rxAXZOeAsr3UlGSSb7/Q3nNy/i15\n",
       "3tX5yh4Sl5VVw1PsPjGl6E0e1jgc8L0p30qw+hOnrE7eeAwPq96otDVtakmDnHv+3+b0SAxwlCo7\n",
       "lwzEBGBv+mXAbCS/C6fMGhNQUu4rX4AJ/UXFdAvc2xtI9NnEjDyAniD/NyZ3GdsXm+Z/SvEwSHPz\n",
       "KjVc+w1PLekmrcf8Zs5mi4TnWjLGPwAqO2X7crEAgTfAERg1kUwX9RyOG/rTlJNyNVhnwZRLoPst\n",
       "PwVohAyjnwpsSeGPhRe0kISfTZBT4EboE6gMxKYqS8I9ecCxBnCnf0cdAAABQUGbU0nhDyZTAhH/\n",
       "/eEAAL5aO3hSTmZA/uWYAITFhgpQ9xZM3qocv62IUe8Uh3d20jMXP+FbjkTHIGRttuFgxJn8SuxK\n",
       "tgzQFG0id2H1YpKImVb8vNXnG65hslHQAq9WPUsvprxhmI4+AbL7ffvdspFi3BsBjq8Hz2eT4UIR\n",
       "6a7fbN/okjNtGCHyu8i5i54bj59Dz22AgopfNvNPUh4b41M+OuplnHPuirXvMUPCjx+9ndDgivZc\n",
       "15VZTLYEJCK31M850LTy0JWDWu9b3/W5pgJ1BmqGZ7cHJ2osJ0j/37MofP4wWUN9tJIXk0TlBBxv\n",
       "gc5RdojAUd+yn9z/RXVQ7SvSJeAIWYTnvtBTb30YT1gWELCZxEMx0yH9s0unNkr/DrPZLlMNb537\n",
       "P8sWlDlms8Rv1JDvFZ9zlJPuGHIW2gDtgQAAAWtBm3RJ4Q8mUwIR//3hAAC+WkV7vDe535cAA7HS\n",
       "ea8Ahpmx8HFcS2tsGrV72cGJrIpegLRQaYo9htibsHy8jleShUcM4U3BBQkD/xg0Qofjo77+tOdb\n",
       "GxGG/U0lvfJEg3Y+3AiLV7sqDA5BODynLaLcb8Rd3jZy1tzYNAOLeLOKMv4iwIDA5I1wwFQfv+YJ\n",
       "/ur9heFpcAR3fbDU3ekdWA75vtufvol72dqaR6Pib0Kdjoc8V8nb7Sl40+y4isZLFz7akRBgav5M\n",
       "+UvIrTUl/AhZ3E9n5wGbTZYHTHK1EBTZyxXm5ouJAdGxWJbmYdKIRY7CkrHgePjA+wc6rie8S36w\n",
       "VT7MlMkav3tcYNnZAn/xhEBKSAs+sWSORCrEtB0Nsjxx90+c40k8B52R2hO7hW2y9IqSCNO8xKgL\n",
       "/aFbPAuro3KnLO5BeOxCDgV1CC8jt3idBKvdrJb6D9eqC9Ywk2SBcu1KY87dy4qWI+AAAAGwQZuW\n",
       "SeEPJlMFETwj//3hAAC+Wihf32s0QBFYusfxftXPJwbWzJYsU8di0vq0YQ9JHKnaw5RmyECkbZEO\n",
       "rWn8vsL3ZaKM8ld5/MQvk/jxOQuumAoiJ48UmX/iCXUH6+/pmMO3Ragu4qqoL8q7UqgK7O9KWiSo\n",
       "2zhPM+Rmn4vNlpD9Yr5f2dWwilWU4PdBdJKX5b/bebPEdElPHhGN4Q6QtRt27oTkfVNncJ/HNJXH\n",
       "/MYBEtXRrRU6gKK1+PfSsNasZfYprNb1F2yJUtlZXY2nLOWEaOu+jDd/86FFpYNwnZwI83w/CHNw\n",
       "sKeNTfr/rxUzSgesD7YySqfdj7kkzI84kPZ7TAxoxEfrQSFwMBn+zOUCbcIPUdUGw8qJwrxMKCjH\n",
       "6nCdcAZmB8TnH9MdA/t436HLiLBJ4q9K23C1LddNLE5LtZGFe5Y5N4hfJ/x3La8MKEwjs2h5/ufd\n",
       "704sI+k2PbweeqEcpWeY1NMLoDLPXVsqDJ2EeQf1cGmgnl3q7PBA9PztjhOLRPjVH6GPHKQdXC71\n",
       "/c6TRmVTxWNUxSEsSSvkxXDavDeTz4hk1o8eZYddAAAAXQGftWpF/wAJzZPbe+zWoYvJU/l7ncS2\n",
       "Q/IDP9VD7NJ9B7rGfPbY/JgNA1nnggAcd9TITLorQolyCNAk4GZvykIKPWs3+6qFUiid5b/qKN8a\n",
       "26ZvWtk0Nn9tkVymgQAAAY1Bm7hJ4Q8mUwU8f/yEAALlNA2FL6Se7htKTuNA7gAExKScThRX38Dt\n",
       "s0kaTH/p4eJF38WQt4H5GwylYdm7V0PkFfTIqvdM7m98rnfo5A0blOh+udaoG7o8rrQ3i04QRXE0\n",
       "gGHNDcH3VxDqvri9P2TFhRqmSsvaHo68kYf0olNSMhU25/KJP3e662/akF2rIKv3+N6x59RABd6w\n",
       "aahTVNwaZR1he+B7Z5eRM+9I6WEbOemzZlZjTnXTKdZqr+17jbRuzEJYwW/aEZse2JCEz/iFw1LW\n",
       "Xix0ee9vRrTIxIQNa9AFa5lLzkbVM7VcTTyalhmqhcjs2k57DTWjQaiS7VfqDMriEutkA2qVuXB6\n",
       "N50gTtzqnZkwgr9pt0Lf1b9ulojA5+P4u6gvso0V1G25GolHMLBDVEyCcmSoR6Sho95gCd9lMQk5\n",
       "YLmY7IfdudMff+3dr0uLgxHgfXoILecFXAVxkUeLnElp3snZ1/kwYOn2txdifSmJCWdXiHab1PIs\n",
       "T4Kln0jqzWiAICmAKSjwAAAAcQGf12pF/wAJ5jf0X3e3JINFn1IVf9SAgA/n4rgQ1Eu9R60U5qax\n",
       "Gl66GqFxIXEci0Je5dTLN9E12xtYVfsMEF2zdxB/lQ28WI2VI17qCvnR8HkZ7aHoQyxQzUZrU1V1\n",
       "uZca+2JKO5GmFQixB187GA94AAABQkGb2UnhDyZTAj///IQAAtjOnYgAFaxs3VQDQwM39YogD33W\n",
       "83STTGVo76/4tuYUwXFo0eo7LU6dwlLkZskzA9ZtMzoJeoJaYAwpiCmQ7TDAP6Q51uQqAyqM+93h\n",
       "uOApPXEQbGTX0+IAW1Axh6Q8Z5c58Xj8UtlOmY5Nmi8SeusjqkKYcL7jUqgjkRmfk/ipjRUcwiuA\n",
       "VcX500YKQO/aqQDCYEtRC+VUZEZtbMHL95twHR1lRczdSAlRdqQdFQH2Kmawny+3SOeizUjV/BA/\n",
       "BnKMFFHmMGv6/CkZYsL1O6I1WdU05qJu4Cu4WbO9n2xHPPE91gXxsV9bR65YKmMxmr0t0vkNS/pr\n",
       "za6jF5TSlz1kREVaKxJQovH6/rWLediHgNnCElhCENOF17N7XmPtPn+4L6703So1PreXvi7b0PrJ\n",
       "8TEAAAFGQZv6SeEPJlMCEf/94QAAuYJ1EeQj0i4gBIdIm/arLWkMZDj1RkrMxBBzXgirvqpQZuiF\n",
       "VSyPbe7ufvJPy77edYae+zGj/wI20iEUtRBM6GlNnMHdYlgNqWwuPKDKuYa68eVxq+49u5cyrG+G\n",
       "ckbgYto53ZeKbk4gC/YHQdCJyeL4qd1rlLfAwtcwxAhrsnxvlJSvKXjCaI29Bs8s18pwGGv7az7u\n",
       "Pfa5Uuxa8cj9CaZG4VGJFKE3VBhyhXr7xC1ayq00Ttq2MWkoNRcBIvMaXogMTmIlEzMdby4K8fmq\n",
       "pIAZJGqeXhEJOvG6VVDG3TkPxBw1aPvfpMijH/1VjLTIDVYf0GerwsbCj0D171mnYDloEiipt7BM\n",
       "uAU2P4qCyae5UIbmkoTVp6iK5T27YB86/dVtXonNvXjHh1bPGPOFcRSVTT4l9IEAAAFHQZobSeEP\n",
       "JlMCEf/94QAAtfpaJrsAAlLVpViQrhvNU44qQJKVyHh6j50ixVT7PS9p6sH9jUHDFjbhN8pUrkPE\n",
       "3XJf5p4g/0OTiUi/FBq7nExEKHXi8fnhf/b2mOi9MoswNnyzB+z0+t7+NV99vDQFcaHn2Ii+LrkZ\n",
       "JnQNLv7dXMChXqPRvom/8klSTgySdHvU58YQt7543Tlf9PiTTyaaTcIJT8uD43kbX/8aGWssfZQh\n",
       "2ueL6TzycRQiMDnbYzIM9DxVtYEwQiMlBeIV12Uo4uUQe/Z7xRCjkNn6NeD2Tq4Nko3T87wXYb8t\n",
       "3a0mBZHzTSW++n3WZDhw+0UFcAuUL/U8Np9lx4415eaQwbT9WTvyuTj4AebZr2dWh8Y+FFz5VKyW\n",
       "2DWlBjchHuBL9Aw6zI++c0bIdtcjme0pFAKqcBqKzXBfYRUlAAABZUGaPEnhDyZTAhH//eEAALmC\n",
       "eHsQ6GkXEAJiFZx2Z4BaY5ZXCCO5paPo03+siPBFli7BGXW8xu94XZepVbpTpzpi0LOCZ35Jcypx\n",
       "hkWM0HaxoK/EsfCN/q21K5VwYO8SazUsBYas8OEBBsh7Il1qitR5eW+/YbS9ZWJ0k+SMFEVPWLQO\n",
       "4YX69yDelNJwX0lc0u6zAiDqUcQcHHlYQgEEsGHo9JAY4WqpT2IJy99zOlIJ5eukpchA1XanNnhH\n",
       "MTunayws1iZqCPCDW7Eot/Sa5O81v9ilxHMD0Avji+pe49QSSCTD8/No3C9ZMIoJ0uAv8BbO9/Au\n",
       "gDUDouJ0CzavDmmNhxBJ2fzeHbzwxbq3KhQ3V4DUsHmmQ9bLzS4cursfCZnsLolyrLe7vYuSaK7z\n",
       "0/BvX6M0Kmp6uWWf/mmk7X2kHdkWvJUR2DNi7m1eDUk+ws7/J/49c1k6WVDL2GG9Ym7u3KksaAAA\n",
       "AY5Bml5J4Q8mUwURPCP//eEAALmCdQuyVDEcRCYvktAB3rf6pFj571EWdiE6rMHbCogX1/iBc7ln\n",
       "dFZFuW4RJ2NM5r6RcS2btEC/XNGgu5AwEl/fbCTim/wxPu/WieWkJSmTG22Lnafl4mTsQFh7gnT7\n",
       "L0H2MeZ+cNFPrrbYEf9LZOU7DFmSePMCHUe/nNrfIVObxGA/uOQakNV5vEDnB4iCmsjBlFFJ5ziA\n",
       "fRFdGBLGBRPEcwflJIXyj6T1dLl7SmLsv33ddrk2/ugTPqCiXDQDngjdAwzhKzfdiOjD4BGLKKJo\n",
       "EKt+/UFVFBFqayXPniORlvk9dsgL7aVyoiUkYIpZW9lx4aLdS0O4WUs3cr04l77WOeWijUGhWoUD\n",
       "sknIinDs84HxlS1LSHRsETg5xL2FjJ5xe/wVYhiQU6OVI++A9ZWSt3jsjDSB3hcTVV1dc5TpOXiK\n",
       "vlwb5jP9C9XfpHrPtLySj2SkXZCn5/YWldhN1kq4R7uWGx7oBPvZSjsXNB3pp5GHf40x/wLro3Ss\n",
       "hAAAAF8Bnn1qRf8ACKUE3wWAATKVoT0+lf7P32w0tjdC7E4sTFBsf5HuX+3aAqLK0TxZsjCTOQjl\n",
       "dP2UCvMDJ7qWJAf+M+28Wyd6X+0zhVOyQQctWH3Pc/h5YD5glZmDM+e+ewAAAj5BmmJJ4Q8mUwIR\n",
       "//3hAAC5sr04WeReFEXB1C2oAO9QJ5mt8E52fNzURRtBRsmvtCaWvCL3Rde3gv1MSMyWcCbZaqg5\n",
       "s5ojO+k3rcFWFyPcuydhI3S1EK5z1+qY57ZWcEhF2vwMfnNqmJKAk+CK6YonbuHLzCm2+ftrVQKH\n",
       "mHQ2s9tidEQbNDl88nBsn3f5dMyxkbRHpSyN85YPpR/qKxCu/Y70brHptl7g2Ntv994yW1VOrMco\n",
       "/7M7BG1B1SdMiLP7IoT1blOqHjGkzYCGhyvt29BdBXjjf++/RPTzJrP6EUBZE0jh7Rl7uy3O58LF\n",
       "ML7YSaOweFj2CWbvE04tTXwVrvY0K0JmVtanqXa4LMvbeZgD7/CguDn5NMtJRELD8MkVb0s7I9WB\n",
       "3YZXnvV6UH+Gu7IIdOiILv1i6VaUIJLRq28R3qmbvHtvmCR7/d7/VXeQ50HXDRa/2C//NhFI35uU\n",
       "H4zTXPWlUinv0D6W7OF5cOqolBfrFa600tetgOSkMXUu/hHWGsyB5J1pRSnRMmn3vYxsUFotgcUp\n",
       "xlt7fBA/ltYwx/tUae/db8QauoH4W2YNwxhevd755ILaaiIEo14wMGg/Xyrl1Ivpq/74PD3ne/i6\n",
       "BzPYuhdXxvFUPoOf8uoDVdFqMxO4M6VeKKBbvdhTi8LXk9msPscbenEjFQWXUHXETa1dTcjRLg+l\n",
       "ErHyCUAvY7mVlURTOF8MIS7zQqfd/h06qTbTw6n23lbqI99pz/9H9sJFKxWmAQEvx8cFAAABAUGe\n",
       "gEURPG8AB4dGkW+TTEAJC5QdUQMDYwp1/idR5SyQ/Ci1VG6Hqxo1elehXBUVIKy/Ahp19jhXQC6K\n",
       "E7zTcXWb6PmOg/g7A3cbc8IrCbKD1RP0x68u8BvH1WIAf+jm5pcZq9UIb2yYrjthpCfDexMKWPNm\n",
       "6VUaurcWe826Kv9lCNTMnYvNZriv+HwziyUdv9ykKJgDh0+jtVavPxWq6duyK0FdIpMVhlC+wYqs\n",
       "UpRR6RXAnDDCSgbdtv5Fc+HooUOUevhi2aFj0qioov7k3llAdqyKXSzDv/Da44wJoO8lmVsWdbtT\n",
       "4R5xO8Nlu3AXY9pl8eikDXtEuZWqqaSm1obAAAAAbgGev3RF/wAJ9/NbvXqADxckij9dXz+aXh/K\n",
       "JN2/Nuw76qIv+RmcTLol1Y32lY7UkukhXCT5VO1cxBwXCYCKamwgbIv0N95cs97MYJXlayrArbVk\n",
       "HoElHJbK1cKan5E7CTxNnz7WBqZQplt3OCxRAAAAaAGeoWpF/wAJ53Vuto6LuAAlr1rPZLkOmP9N\n",
       "EWZAanav61itk+5WeBa4sVD05O818tUwveIqTYvYkpPunt8DdSVevT2GN5fmwJmshsTnbhfsXFqT\n",
       "BXQMNq7YUCpS4ODd2cDSwqt1JA2/AAABmUGapEmoQWiZTBTx//yEAALZ/d/AqKrL/m0m/vNsz5Ky\n",
       "JL2/ETrsfe+OuFOjzdW164tdyXTnrbkKrs024ecqVuId1ygbEZCMAI1N5pvdCQiZgVASfsS94MGI\n",
       "BE6P0QMf3OYPGwp7d6wCD3n0cl6yD+uTFSUuTDkrqX3EryZxGuTE92FxlFD32g2MlLOuEtVRXfqB\n",
       "/ACYJgmFjJjcMXXgL/1cBe4+3OGyrFwOc0kicCoZ+uguRFSRqP3QbgRmbCCMtoHMv1tMjJJPnT7B\n",
       "euTmo/2AHdGiHtQwZY7khJLNl3ur4k7pl7NnKnU4jZiUwJ7u/+u9Zq5YhTkpO3z+UliH5ERNiEUK\n",
       "M9cfm7V31WZ7ndLeL03daQ/N1W4Bg0R+D54QUfysmuscyJCNQ+KdD6bOGXknj6fJ1OSuPJwSwxZQ\n",
       "MohGcUC5D323X6Hpj1VGS7m//htR3rJSr+QFXXXmd7gellRzQd3Hg7n628yA4JnX5oRZo4+OBqEK\n",
       "VSuHp2DqNyeIbyJz+WpNzyTL7Qsm90Mwzys+dg1QvEvZ8i0AAABuAZ7DakX/AAnxJwPEfI+0AB+p\n",
       "ep3FzLfbkjXJhvUZx95dJocD9mf+XX7ryz9HqvEkiDtFFyia1GdqsdNyiYVj25HEmhzgrWK6p+A7\n",
       "Oi6GL6aqKkVy1pWpnzmsPVxwR5hLhJoTSG3lBYYx5XACFy0AAAFrQZrGSeEKUmUwUsb/+lgABXRS\n",
       "HFikwAW3ZbF0MSjrb7Pn+hOO01N0QN2W369gkmlRGK+njI6cVMf918JiPonE2D5F/x6ln6qe12H9\n",
       "VSXPWBfpGcLTnR9B9QYdfHgFFMFz+Y46rQNh8amAOpKbzFC8DDcAa65HsKeEZ9RMAgzJ8MTjKfwI\n",
       "qs3c9ZGN6TPcLFQ7Xd+YZWoARSbfuyHmqqUppF15IIzOASYSDhwWN6WjuHZzRiqo5h/b909QDVRk\n",
       "q//88WOAWQaVPW3jHsrDKU72sbBs129pwGMIh2SkeyoBkV8pOIixIddIB0leD3lQeuikOomZdx3H\n",
       "5U9KCm1+ObCaTBSf46k8xo3ER3yFC1sneuQMr4Q5nJKx25R1U+V6bYiEoKyaQH8n1ALhuOQoD8lR\n",
       "AQBx04NW6W1W4ygsDfdZZVxecdP9wzPtphJ2tIuc1xKf6Hxhtyz68QE5v2BOrdI5BMApgMOvFgNW\n",
       "14FAAAAAcQGe5WpF/wAIrxz0ZMJJeNQes169p7dsiuS6X9IeDghcUmGascvLZmsFMHMQSFW9crZS\n",
       "m+AFP2JlKVSBZDDvpQPFgAJnsOtI2np2jOR5L6Yv6fnItfx/OVHjSxrUO27O96YARYHOFHufFnF4\n",
       "b1imnAkhAAAA2EGa50nhDomUwIv/+lgABW2AyAD+c4axNwvVs+LuwltwBHz9Hg7uqG35nLthbERG\n",
       "ZeT5dlLgxCbc6WUBxPPL52XFp94xrIPSDSU7HCi9XXV+UObjTuWuVL7NlwY1O8LPc20MeZ11n0V8\n",
       "io39mDE2fGReY+vxLKntOtBnIO8o88iSR/11i94XpPNF18JkEHP0GA32qyxlSajQPMbfM58efblm\n",
       "JPOUcr9e+lbOhOpW/KnkBwRuhoE+T3bnRx6qx/6+uxEfub5GQzkonTrr0F1mT0JZWp22oeY4ygAA\n",
       "Ir5tb292AAAAbG12aGQAAAAAAAAAAAAAAAAAAAPoAAAbWAABAAABAAAAAAAAAAAAAAAAAQAAAAAA\n",
       "AAAAAAAAAAAAAAEAAAAAAAAAAAAAAAAAAEAAAAAAAAAAAAAAAAAAAAAAAAAAAAAAAAAAAAAAAAAC\n",
       "AAAh6HRyYWsAAABcdGtoZAAAAAMAAAAAAAAAAAAAAAEAAAAAAAAbWAAAAAAAAAAAAAAAAAAAAAAA\n",
       "AQAAAAAAAAAAAAAAAAAAAAEAAAAAAAAAAAAAAAAAAEAAAAABsAAAASAAAAAAACRlZHRzAAAAHGVs\n",
       "c3QAAAAAAAAAAQAAG1gAAAEAAAEAAAAAIWBtZGlhAAAAIG1kaGQAAAAAAAAAAAAAAAAAADIAAAFe\n",
       "AFXEAAAAAAAtaGRscgAAAAAAAAAAdmlkZQAAAAAAAAAAAAAAAFZpZGVvSGFuZGxlcgAAACELbWlu\n",
       "ZgAAABR2bWhkAAAAAQAAAAAAAAAAAAAAJGRpbmYAAAAcZHJlZgAAAAAAAAABAAAADHVybCAAAAAB\n",
       "AAAgy3N0YmwAAACzc3RzZAAAAAAAAAABAAAAo2F2YzEAAAAAAAAAAQAAAAAAAAAAAAAAAAAAAAAB\n",
       "sAEgAEgAAABIAAAAAAAAAAEAAAAAAAAAAAAAAAAAAAAAAAAAAAAAAAAAAAAAAAAAAAAY//8AAAAx\n",
       "YXZjQwFkAB//4QAYZ2QAH6zZQbCWhAAAAwAEAAADAyA8YMZYAQAGaOvjyyLAAAAAHHV1aWRraEDy\n",
       "XyRPxbo5pRvPAyPzAAAAAAAAABhzdHRzAAAAAAAAAAEAAAK8AAAAgAAAABxzdHNzAAAAAAAAAAMA\n",
       "AAABAAAA+wAAAfUAABSoY3R0cwAAAAAAAAKTAAAAAgAAAQAAAAABAAABgAAAAAEAAACAAAAAAQAA\n",
       "AYAAAAABAAAAgAAAAAEAAAGAAAAAAQAAAIAAAAABAAABgAAAAAEAAACAAAAAAQAAAYAAAAABAAAA\n",
       "gAAAAAEAAAGAAAAAAQAAAIAAAAABAAACgAAAAAEAAAEAAAAAAQAAAAAAAAABAAAAgAAAAAEAAAKA\n",
       "AAAAAQAAAQAAAAABAAAAAAAAAAEAAACAAAAAAQAAAYAAAAABAAAAgAAAAAEAAAGAAAAAAQAAAIAA\n",
       "AAABAAABgAAAAAEAAACAAAAAAQAAAoAAAAABAAABAAAAAAEAAAAAAAAAAQAAAIAAAAABAAABgAAA\n",
       "AAEAAACAAAAAAQAAAoAAAAABAAABAAAAAAEAAAAAAAAAAQAAAIAAAAABAAACgAAAAAEAAAEAAAAA\n",
       "AQAAAAAAAAABAAAAgAAAAAEAAAGAAAAAAQAAAIAAAAABAAACgAAAAAEAAAEAAAAAAQAAAAAAAAAB\n",
       "AAAAgAAAAAEAAAGAAAAAAQAAAIAAAAABAAACAAAAAAIAAACAAAAAAQAAAYAAAAABAAAAgAAAAAEA\n",
       "AAKAAAAAAQAAAQAAAAABAAAAAAAAAAEAAACAAAAAAQAAAoAAAAABAAABAAAAAAEAAAAAAAAAAQAA\n",
       "AIAAAAABAAABgAAAAAEAAACAAAAAAQAAAYAAAAABAAAAgAAAAAEAAAIAAAAAAgAAAIAAAAABAAAC\n",
       "gAAAAAEAAAEAAAAAAQAAAAAAAAABAAAAgAAAAAEAAAKAAAAAAQAAAQAAAAABAAAAAAAAAAEAAACA\n",
       "AAAAAQAAAoAAAAABAAABAAAAAAEAAAAAAAAAAQAAAIAAAAABAAABgAAAAAEAAACAAAAAAQAAAYAA\n",
       "AAABAAAAgAAAAAEAAAGAAAAAAQAAAIAAAAABAAACgAAAAAEAAAEAAAAAAQAAAAAAAAABAAAAgAAA\n",
       "AAEAAAKAAAAAAQAAAQAAAAABAAAAAAAAAAEAAACAAAAAAQAAAYAAAAABAAAAgAAAAAEAAAGAAAAA\n",
       "AQAAAIAAAAABAAACgAAAAAEAAAEAAAAAAQAAAAAAAAABAAAAgAAAAAEAAAKAAAAAAQAAAQAAAAAB\n",
       "AAAAAAAAAAEAAACAAAAAAQAAAYAAAAABAAAAgAAAAAEAAAGAAAAAAQAAAIAAAAABAAABgAAAAAEA\n",
       "AACAAAAAAQAAAYAAAAABAAAAgAAAAAEAAAKAAAAAAQAAAQAAAAABAAAAAAAAAAEAAACAAAAAAQAA\n",
       "AYAAAAABAAAAgAAAAAEAAAGAAAAAAQAAAIAAAAABAAABgAAAAAEAAACAAAAAAQAAAgAAAAACAAAA\n",
       "gAAAAAEAAAGAAAAAAQAAAIAAAAABAAACAAAAAAIAAACAAAAAAQAAAYAAAAABAAAAgAAAAAEAAAKA\n",
       "AAAAAQAAAQAAAAABAAAAAAAAAAEAAACAAAAAAQAAAYAAAAABAAAAgAAAAAEAAAKAAAAAAQAAAQAA\n",
       "AAABAAAAAAAAAAEAAACAAAAAAQAAAoAAAAABAAABAAAAAAEAAAAAAAAAAQAAAIAAAAABAAACgAAA\n",
       "AAEAAAEAAAAAAQAAAAAAAAABAAAAgAAAAAEAAAKAAAAAAQAAAQAAAAABAAAAAAAAAAEAAACAAAAA\n",
       "AQAAAYAAAAABAAAAgAAAAAEAAAIAAAAAAgAAAIAAAAABAAABgAAAAAEAAACAAAAAAQAAAQAAAAAB\n",
       "AAACgAAAAAEAAAEAAAAAAQAAAAAAAAABAAAAgAAAAAEAAAIAAAAAAgAAAIAAAAABAAACAAAAAAIA\n",
       "AACAAAAAAQAAAYAAAAABAAAAgAAAAAEAAAKAAAAAAQAAAQAAAAABAAAAAAAAAAEAAACAAAAAAQAA\n",
       "AoAAAAABAAABAAAAAAEAAAAAAAAAAQAAAIAAAAABAAACAAAAAAIAAACAAAAAAQAAAoAAAAABAAAB\n",
       "AAAAAAEAAAAAAAAAAQAAAIAAAAABAAABgAAAAAEAAACAAAAAAQAAAgAAAAACAAAAgAAAAAEAAAKA\n",
       "AAAAAQAAAQAAAAABAAAAAAAAAAEAAACAAAAAAQAAAYAAAAABAAAAgAAAAAEAAAKAAAAAAQAAAQAA\n",
       "AAABAAAAAAAAAAEAAACAAAAAAQAAAoAAAAABAAABAAAAAAEAAAAAAAAAAQAAAIAAAAABAAACgAAA\n",
       "AAEAAAEAAAAAAQAAAAAAAAABAAAAgAAAAAEAAAKAAAAAAQAAAQAAAAABAAAAAAAAAAEAAACAAAAA\n",
       "AQAAAoAAAAABAAABAAAAAAEAAAAAAAAAAQAAAIAAAAABAAABgAAAAAEAAACAAAAAAQAAAYAAAAAB\n",
       "AAAAgAAAAAEAAAGAAAAAAQAAAIAAAAABAAACgAAAAAEAAAEAAAAAAQAAAAAAAAABAAAAgAAAAAEA\n",
       "AAGAAAAAAQAAAIAAAAABAAABgAAAAAEAAACAAAAAAQAAAoAAAAABAAABAAAAAAEAAAAAAAAAAQAA\n",
       "AIAAAAABAAACgAAAAAEAAAEAAAAAAQAAAAAAAAABAAAAgAAAAAEAAAIAAAAAAgAAAIAAAAACAAAB\n",
       "AAAAAAEAAAIAAAAAAgAAAIAAAAABAAACgAAAAAEAAAEAAAAAAQAAAAAAAAABAAAAgAAAAAEAAAKA\n",
       "AAAAAQAAAQAAAAABAAAAAAAAAAEAAACAAAAAAQAAAYAAAAABAAAAgAAAAAEAAAEAAAAAAQAAAYAA\n",
       "AAABAAAAgAAAAAEAAAGAAAAAAQAAAIAAAAABAAABgAAAAAEAAACAAAAAAQAAAoAAAAABAAABAAAA\n",
       "AAEAAAAAAAAAAQAAAIAAAAABAAABgAAAAAEAAACAAAAAAQAAAYAAAAABAAAAgAAAAAEAAAGAAAAA\n",
       "AQAAAIAAAAABAAABgAAAAAEAAACAAAAAAQAAAYAAAAABAAAAgAAAAAEAAAEAAAAAAQAAAoAAAAAB\n",
       "AAABAAAAAAEAAAAAAAAAAQAAAIAAAAABAAACgAAAAAEAAAEAAAAAAQAAAAAAAAABAAAAgAAAAAEA\n",
       "AAGAAAAAAQAAAIAAAAABAAABgAAAAAEAAACAAAAAAQAAAYAAAAABAAAAgAAAAAEAAAKAAAAAAQAA\n",
       "AQAAAAABAAAAAAAAAAEAAACAAAAAAQAAAYAAAAABAAAAgAAAAAEAAAGAAAAAAQAAAIAAAAABAAAC\n",
       "gAAAAAEAAAEAAAAAAQAAAAAAAAABAAAAgAAAAAEAAAGAAAAAAQAAAIAAAAABAAACgAAAAAEAAAEA\n",
       "AAAAAQAAAAAAAAABAAAAgAAAAAEAAAKAAAAAAQAAAQAAAAABAAAAAAAAAAEAAACAAAAAAQAAAQAA\n",
       "AAABAAACgAAAAAEAAAEAAAAAAQAAAAAAAAABAAAAgAAAAAEAAAGAAAAAAQAAAIAAAAABAAABgAAA\n",
       "AAEAAACAAAAAAQAAAYAAAAABAAAAgAAAAAEAAAKAAAAAAQAAAQAAAAABAAAAAAAAAAEAAACAAAAA\n",
       "AQAAAoAAAAABAAABAAAAAAEAAAAAAAAAAQAAAIAAAAABAAACgAAAAAEAAAEAAAAAAQAAAAAAAAAB\n",
       "AAAAgAAAAAEAAAKAAAAAAQAAAQAAAAABAAAAAAAAAAEAAACAAAAAAQAAAYAAAAABAAAAgAAAAAEA\n",
       "AAGAAAAAAQAAAIAAAAACAAABAAAAAAEAAAKAAAAAAQAAAQAAAAABAAAAAAAAAAEAAACAAAAAAQAA\n",
       "AYAAAAABAAAAgAAAAAEAAAGAAAAAAQAAAIAAAAABAAABAAAAAAEAAAGAAAAAAQAAAIAAAAABAAAB\n",
       "gAAAAAEAAACAAAAAAQAAAoAAAAABAAABAAAAAAEAAAAAAAAAAQAAAIAAAAABAAABgAAAAAEAAACA\n",
       "AAAAAQAAAoAAAAABAAABAAAAAAEAAAAAAAAAAQAAAIAAAAABAAACgAAAAAEAAAEAAAAAAQAAAAAA\n",
       "AAABAAAAgAAAAAEAAAGAAAAAAQAAAIAAAAABAAACgAAAAAEAAAEAAAAAAQAAAAAAAAABAAAAgAAA\n",
       "AAEAAAKAAAAAAQAAAQAAAAABAAAAAAAAAAEAAACAAAAAAQAAAYAAAAABAAAAgAAAAAEAAAKAAAAA\n",
       "AQAAAQAAAAABAAAAAAAAAAEAAACAAAAAAQAAAoAAAAABAAABAAAAAAEAAAAAAAAAAQAAAIAAAAAB\n",
       "AAABgAAAAAEAAACAAAAAAQAAAYAAAAABAAAAgAAAAAEAAAKAAAAAAQAAAQAAAAABAAAAAAAAAAEA\n",
       "AACAAAAAAQAAAoAAAAABAAABAAAAAAEAAAAAAAAAAQAAAIAAAAABAAABgAAAAAEAAACAAAAAAQAA\n",
       "AYAAAAABAAAAgAAAAAEAAAEAAAAAAQAAAYAAAAABAAAAgAAAAAEAAAKAAAAAAQAAAQAAAAABAAAA\n",
       "AAAAAAEAAACAAAAAAQAAAoAAAAABAAABAAAAAAEAAAAAAAAAAQAAAIAAAAABAAABgAAAAAEAAACA\n",
       "AAAAAQAAAoAAAAABAAABAAAAAAEAAAAAAAAAAQAAAIAAAAABAAACAAAAAAIAAACAAAAAAgAAAQAA\n",
       "AAABAAACAAAAAAIAAACAAAAAAQAAAYAAAAABAAAAgAAAAAEAAAKAAAAAAQAAAQAAAAABAAAAAAAA\n",
       "AAEAAACAAAAAAQAAAYAAAAABAAAAgAAAAAEAAAKAAAAAAQAAAQAAAAABAAAAAAAAAAEAAACAAAAA\n",
       "AQAAAoAAAAABAAABAAAAAAEAAAAAAAAAAQAAAIAAAAABAAABgAAAAAEAAACAAAAAAQAAAYAAAAAB\n",
       "AAAAgAAAAAEAAAKAAAAAAQAAAQAAAAABAAAAAAAAAAEAAACAAAAAAQAAAgAAAAACAAAAgAAAAAEA\n",
       "AAIAAAAAAgAAAIAAAAACAAABAAAAAAEAAAKAAAAAAQAAAQAAAAABAAAAAAAAAAEAAACAAAAAAQAA\n",
       "AoAAAAABAAABAAAAAAEAAAAAAAAAAQAAAIAAAAABAAACAAAAAAIAAACAAAAAAQAAAoAAAAABAAAB\n",
       "AAAAAAEAAAAAAAAAAQAAAIAAAAABAAACgAAAAAEAAAEAAAAAAQAAAAAAAAABAAAAgAAAAAEAAAKA\n",
       "AAAAAQAAAQAAAAABAAAAAAAAAAEAAACAAAAAAQAAAYAAAAABAAAAgAAAAAEAAAEAAAAAAQAAAoAA\n",
       "AAABAAABAAAAAAEAAAAAAAAAAQAAAIAAAAABAAABgAAAAAEAAACAAAAAAQAAAYAAAAABAAAAgAAA\n",
       "AAEAAAEAAAAAAQAAAoAAAAABAAABAAAAAAEAAAAAAAAAAQAAAIAAAAABAAACgAAAAAEAAAEAAAAA\n",
       "AQAAAAAAAAABAAAAgAAAAAMAAAEAAAAAAQAAAYAAAAABAAAAgAAAAAMAAAEAAAAAAQAAAgAAAAAC\n",
       "AAAAgAAAAAEAAAGAAAAAAQAAAIAAAAABAAACgAAAAAEAAAEAAAAAAQAAAAAAAAABAAAAgAAAAAEA\n",
       "AAEAAAAAAQAAAYAAAAABAAAAgAAAAAEAAAIAAAAAAgAAAIAAAAABAAABgAAAAAEAAACAAAAAAQAA\n",
       "AYAAAAABAAAAgAAAAAEAAAIAAAAAAgAAAIAAAAABAAABgAAAAAEAAACAAAAAAQAAAoAAAAABAAAB\n",
       "AAAAAAEAAAAAAAAAAQAAAIAAAAABAAACgAAAAAEAAAEAAAAAAQAAAAAAAAABAAAAgAAAAAEAAAGA\n",
       "AAAAAQAAAIAAAAABAAABgAAAAAEAAACAAAAAAQAAAoAAAAABAAABAAAAAAEAAAAAAAAAAQAAAIAA\n",
       "AAABAAACAAAAAAIAAACAAAAAAQAAAYAAAAABAAAAgAAAAAEAAAGAAAAAAQAAAIAAAAABAAABgAAA\n",
       "AAEAAACAAAAAAQAAAQAAAAABAAABgAAAAAEAAACAAAAAAQAAAYAAAAABAAAAgAAAAAEAAAGAAAAA\n",
       "AQAAAIAAAAABAAABAAAAAAEAAAGAAAAAAQAAAIAAAAABAAACgAAAAAEAAAEAAAAAAQAAAAAAAAAB\n",
       "AAAAgAAAAAEAAAEAAAAAAQAAAYAAAAABAAAAgAAAAAEAAAGAAAAAAQAAAIAAAAABAAABAAAAAAEA\n",
       "AAIAAAAAAgAAAIAAAAABAAABgAAAAAEAAACAAAAAAQAAAYAAAAABAAAAgAAAAAEAAAIAAAAAAgAA\n",
       "AIAAAAABAAABgAAAAAEAAACAAAAAAQAAAoAAAAABAAABAAAAAAEAAAAAAAAAAQAAAIAAAAABAAAB\n",
       "gAAAAAEAAACAAAAAAQAAAYAAAAABAAAAgAAAAAEAAAGAAAAAAQAAAIAAAAABAAABgAAAAAEAAACA\n",
       "AAAAAQAAAQAAAAABAAABgAAAAAEAAACAAAAAAQAAAoAAAAABAAABAAAAAAEAAAAAAAAAAQAAAIAA\n",
       "AAABAAABgAAAAAEAAACAAAAAAQAAAQAAAAABAAACgAAAAAEAAAEAAAAAAQAAAAAAAAABAAAAgAAA\n",
       "AAEAAAGAAAAAAQAAAIAAAAABAAABgAAAAAEAAACAAAAAAQAAAYAAAAABAAAAgAAAAAEAAAEAAAAA\n",
       "AQAAAgAAAAACAAAAgAAAAAEAAAGAAAAAAQAAAIAAAAAEAAABAAAAAAEAAAGAAAAAAQAAAIAAAAAB\n",
       "AAABAAAAAAEAAAGAAAAAAQAAAIAAAAABAAABAAAAAAEAAAKAAAAAAQAAAQAAAAABAAAAAAAAAAEA\n",
       "AACAAAAAAQAAAgAAAAACAAAAgAAAAAEAAAEAAAAAAQAAAYAAAAABAAAAgAAAAAEAAAEAAAAAAQAA\n",
       "AYAAAAABAAAAgAAAAAEAAAGAAAAAAQAAAIAAAAABAAABgAAAAAEAAACAAAAAAQAAAYAAAAABAAAA\n",
       "gAAAAAEAAAGAAAAAAQAAAIAAAAABAAABgAAAAAEAAACAAAAAAwAAAQAAAAABAAABgAAAAAEAAACA\n",
       "AAAAAQAAAYAAAAABAAAAgAAAAAQAAAEAAAAAAQAAAYAAAAABAAAAgAAAAAEAAAKAAAAAAQAAAQAA\n",
       "AAABAAAAAAAAAAEAAACAAAAAAQAAAYAAAAABAAAAgAAAAAEAAAGAAAAAAQAAAIAAAAABAAABAAAA\n",
       "ABxzdHNjAAAAAAAAAAEAAAABAAACvAAAAAEAAAsEc3RzegAAAAAAAAAAAAACvAAAC4YAAAFYAAAC\n",
       "IAAAAJsAAAH+AAAAkAAAAjYAAACRAAAB+gAAAJcAAAIPAAAAkgAAAoUAAACgAAAC9QAAARIAAACE\n",
       "AAAAmwAAAqEAAADlAAAAkgAAAI0AAAIZAAAAkAAAAaUAAACDAAAB/AAAAI8AAAJHAAAA1gAAAHMA\n",
       "AAB6AAACEgAAAIYAAAKZAAABEgAAAIoAAACmAAACYgAAARoAAACJAAAAkwAAAnUAAACbAAACmgAA\n",
       "ATMAAACaAAAAjgAAAfQAAACEAAACAwAAAKgAAACGAAAB1gAAAHQAAAJ8AAAA9AAAAI0AAACMAAAC\n",
       "WQAAAO4AAACVAAAAigAAAXQAAACEAAABsQAAAIkAAAIcAAAApgAAAIgAAAIlAAAA6AAAAHsAAACD\n",
       "AAACOwAAAP4AAACKAAAAoQAAAesAAADzAAAAeQAAAHgAAAHlAAAAgQAAAakAAAB9AAABmQAAAIwA\n",
       "AAHOAAAAxwAAAHwAAAB7AAABxwAAAMoAAACJAAAAagAAAbAAAACNAAAB3AAAAIYAAAJvAAABFwAA\n",
       "AG8AAACwAAACYQAAASQAAACcAAAAjwAAAeIAAABzAAACBwAAAIMAAAISAAAApAAAAbcAAAB4AAAC\n",
       "VwAAAQEAAACoAAAAgQAAAbYAAACHAAACXAAAAJUAAAHkAAAAgwAAAjoAAAC9AAAAhwAAAZQAAAB1\n",
       "AAACDAAAALYAAACRAAACGwAAAJwAAAITAAAA4wAAAJoAAACEAAABwQAAAH4AAAJrAAAA0wAAAJEA\n",
       "AACDAAACpwAAAQYAAACgAAAAhwAAAj0AAAEKAAAAegAAAIgAAALFAAABGAAAAIMAAACgAAACBgAA\n",
       "AIcAAAIcAAAAugAAAJYAAAHIAAAAgQAAATMAAAKLAAAAyQAAAI4AAAB/AAAB9gAAALAAAACIAAAC\n",
       "BQAAAJYAAACDAAAB0QAAAIsAAAIpAAAA7QAAAH8AAACTAAACjwAAAN8AAACSAAAAgQAAAiUAAACU\n",
       "AAAAkQAAAgwAAADhAAAAkQAAAKQAAAIRAAAAogAAAlsAAACwAAAAswAAAnMAAAEUAAAAiwAAAHIA\n",
       "AAH1AAAAjAAAAhoAAADOAAAAbQAAAHIAAAJGAAAA2AAAAIQAAAB0AAACbwAAAMkAAACNAAAAfAAA\n",
       "AlEAAADeAAAAggAAAIkAAAIrAAAA4gAAAIMAAAB5AAAB0AAAAHAAAAG+AAAAhgAAAZ8AAAB4AAAC\n",
       "NwAAAO4AAAB0AAAAiwAAAaoAAACUAAACLgAAAJoAAAIXAAAA/wAAAJEAAAB4AAACtgAAAPsAAAB2\n",
       "AAAAfwAAAiwAAADEAAAAiwAAAKEAAAozAAACFQAAAJcAAACYAAACUAAAAQIAAABsAAAAmwAAAnAA\n",
       "AAEHAAAAlwAAAKAAAAIQAAAAqQAAAX4AAAIZAAAAngAAAfYAAABwAAAB/wAAAIcAAAKAAAABCwAA\n",
       "AIgAAAB1AAAB8gAAAHcAAAHuAAAAmgAAAecAAAB5AAACUwAAAJsAAAHiAAAAdwAAAWMAAALSAAAA\n",
       "7wAAAJsAAAB+AAACngAAAPgAAAB2AAAAngAAAdYAAACPAAACcgAAAKUAAAH5AAAAlQAAAmcAAAD6\n",
       "AAAAfwAAAIIAAAHDAAAAhgAAAa8AAAB8AAACJgAAAMIAAACIAAAAcgAAAb0AAAB/AAAB9QAAAOIA\n",
       "AABuAAAAjgAAAj0AAADTAAAAcQAAAH4AAAHaAAACYgAAAP4AAABpAAAAegAAAfIAAACVAAAB+QAA\n",
       "AH0AAAHuAAAApgAAAp4AAAEIAAAAcgAAAIgAAAIxAAAA4QAAAGoAAACBAAACigAAAN0AAAByAAAA\n",
       "YwAAAn4AAAD9AAAAigAAAI0AAAHiAAAAkwAAAc8AAACgAAABUwAAAWoAAAKvAAABSgAAAJIAAACD\n",
       "AAABwAAAAHsAAAJGAAAAigAAAYkAAAJAAAAAgAAAAf0AAAChAAACuwAAATQAAACMAAAAeQAAAokA\n",
       "AACiAAACjwAAAQIAAAB8AAAAfwAAAlYAAADZAAAAiQAAAIAAAAIPAAAAowAAAoMAAAEPAAAAfwAA\n",
       "AI8AAAIzAAAA1QAAAIgAAACGAAACLAAAAHkAAAJVAAAA/gAAAHMAAACbAAACJQAAAO8AAACSAAAA\n",
       "egAAAgoAAAB9AAABtgAAAIUAAAJNAAABDwAAAKMAAACGAAACbgAAAPEAAACCAAAAhQAAAesAAACJ\n",
       "AAACAQAAAIIAAAGgAAACLwAAAHkAAAKkAAABGwAAAKgAAACDAAACrQAAAQcAAACIAAAAjgAAAbsA\n",
       "AACSAAAChgAAANcAAACUAAAAdgAAAkMAAADMAAAAowAAAYkAAAFaAAACcAAAALgAAACRAAABoQAA\n",
       "AGsAAAKEAAAA/AAAAGwAAACLAAAB0AAAAH0AAAKfAAAA4QAAAJsAAAB2AAACPgAAASUAAACAAAAA\n",
       "oQAAAdAAAACMAAAB8wAAAJEAAAI9AAAA4wAAAHYAAAB1AAACWgAAALEAAABtAAACNAAAAKMAAACb\n",
       "AAABZAAAAZQAAAK6AAABIwAAAIoAAACPAAACmgAAAPgAAABwAAAAjwAAAegAAACcAAAAfgAAAmQA\n",
       "AADVAAAAogAAAHcAAAJaAAAA3wAAAHQAAACFAAACVwAAAPYAAAB9AAAAiwAAAboAAACBAAALNAAA\n",
       "AjYAAADkAAAAgAAAAH8AAAF6AAAAfQAAAaUAAABvAAABLQAAAj0AAADbAAAAfwAAAHEAAAJwAAAB\n",
       "IAAAAIMAAACaAAABUAAAAU0AAAELAAACKAAAAJMAAAFfAAABawAAAWoAAAI0AAAAnwAAAIMAAAHJ\n",
       "AAAAYwAAApQAAAD7AAAAbAAAAG4AAAFrAAACTQAAAK0AAAJGAAAAqAAAAGoAAAJWAAAAnAAAAdwA\n",
       "AACMAAACpQAAALMAAACcAAAB1wAAAHcAAALGAAABEgAAAJQAAABvAAACkgAAANgAAAB+AAAAkwAA\n",
       "AbMAAABmAAACEQAAAHYAAAK8AAAAzwAAAHYAAABkAAACXgAAAOYAAACZAAABvQAAAIAAAAI9AAAA\n",
       "qwAAAa4AAAB5AAABJgAAAg0AAACbAAACBQAAAHgAAAILAAAAcwAAAc8AAAHwAAAAdAAAAlkAAAER\n",
       "AAAAfQAAAI0AAAF3AAACTgAAAJkAAAIoAAAAdAAAAU8AAAJfAAAA4wAAAKcAAAG+AAAAYQAAAecA\n",
       "AABwAAACJAAAAJcAAAB5AAAB3wAAAGwAAAJnAAAA9QAAAGsAAABzAAAB7AAAAHYAAAHrAAAAbwAA\n",
       "AfcAAACBAAABywAAAGkAAAGWAAACAQAAAIkAAAJqAAAA9QAAAGcAAACKAAABqAAAAHIAAAFAAAAC\n",
       "UwAAAP8AAAB0AAAAawAAAcIAAABmAAABwwAAAGUAAAHfAAAAcgAAAWEAAAIpAAAArAAAAGkAAAHH\n",
       "AAAAhAAAAUEAAAHUAAABjgAAAbUAAAHyAAAAhAAAAU4AAAHqAAAAZQAAAVkAAALWAAABCwAAAIsA\n",
       "AABjAAACOgAAAKkAAABsAAABZQAAAhQAAABhAAABmAAAAd8AAABmAAACIQAAAH4AAAHYAAAAcQAA\n",
       "AdgAAABjAAABygAAAG4AAAHHAAAATwAAAUgAAAFFAAABbwAAAbQAAABhAAABkQAAAHUAAAFGAAAB\n",
       "SgAAAUsAAAFpAAABkgAAAGMAAAJCAAABBQAAAHIAAABsAAABnQAAAHIAAAFvAAAAdQAAANwAAAAU\n",
       "c3RjbwAAAAAAAAABAAAALAAAAGJ1ZHRhAAAAWm1ldGEAAAAAAAAAIWhkbHIAAAAAAAAAAG1kaXJh\n",
       "cHBsAAAAAAAAAAAAAAAALWlsc3QAAAAlqXRvbwAAAB1kYXRhAAAAAQAAAABMYXZmNTguMjkuMTAw\n",
       "\">\n",
       "  Your browser does not support the video tag.\n",
       "</video>"
      ],
      "text/plain": [
       "<IPython.core.display.HTML object>"
      ]
     },
     "execution_count": 58,
     "metadata": {},
     "output_type": "execute_result"
    }
   ],
   "source": [
    "%run -i ./scripts/particle_box.py\n",
    "\n",
    "HTML(ani.to_html5_video())"
   ]
  },
  {
   "cell_type": "markdown",
   "metadata": {},
   "source": [
    "### Simulate trapping fish\n",
    "\n",
    "### Simulate harvesting fish - add plot (similar to tide plot)\n",
    "\n",
    "\n",
    "---> Robust code for harvesting. \n",
    "\n",
    "4. plot for harvesting (text based input is okay)"
   ]
  },
  {
   "cell_type": "code",
   "execution_count": 62,
   "metadata": {},
   "outputs": [],
   "source": [
    "flag = False\n",
    "results = []\n",
    "selected_harvest = 0\n",
    "while(not flag):\n",
    "    results = run_trap_harvesting(prev_values = results, selected_harvest = selected_harvest)\n",
    "    selected_harvest = math.floor(results[1][-1])\n",
    "    flag = results[4]\n",
    "fish_simulation = {\"Total harvested fish\":results[0],\n",
    "                    \"Total fish in the trap\":results[1],\n",
    "                    \"Total fish outside the trap\":results[2]}"
   ]
  },
  {
   "cell_type": "code",
   "execution_count": 63,
   "metadata": {},
   "outputs": [
    {
     "data": {
      "application/vnd.plotly.v1+json": {
       "config": {
        "plotlyServerURL": "https://plot.ly"
       },
       "data": [
        {
         "hovertemplate": "%{text}<br>%{y:} fish caught",
         "legendgroup": "",
         "line": {
          "color": "#636efa",
          "dash": "solid",
          "shape": "spline"
         },
         "mode": "lines",
         "name": "",
         "orientation": "v",
         "showlegend": false,
         "text": [
          "<b>Day</b>: 0<br><b>Hour</b>: 0",
          "<b>Day</b>: 0<br><b>Hour</b>: 1",
          "<b>Day</b>: 0<br><b>Hour</b>: 2",
          "<b>Day</b>: 0<br><b>Hour</b>: 3",
          "<b>Day</b>: 0<br><b>Hour</b>: 4",
          "<b>Day</b>: 0<br><b>Hour</b>: 5",
          "<b>Day</b>: 0<br><b>Hour</b>: 6",
          "<b>Day</b>: 0<br><b>Hour</b>: 7",
          "<b>Day</b>: 0<br><b>Hour</b>: 8",
          "<b>Day</b>: 0<br><b>Hour</b>: 9",
          "<b>Day</b>: 0<br><b>Hour</b>: 10",
          "<b>Day</b>: 0<br><b>Hour</b>: 11",
          "<b>Day</b>: 0<br><b>Hour</b>: 12",
          "<b>Day</b>: 0<br><b>Hour</b>: 13",
          "<b>Day</b>: 0<br><b>Hour</b>: 14",
          "<b>Day</b>: 0<br><b>Hour</b>: 15",
          "<b>Day</b>: 0<br><b>Hour</b>: 16",
          "<b>Day</b>: 0<br><b>Hour</b>: 17",
          "<b>Day</b>: 0<br><b>Hour</b>: 18",
          "<b>Day</b>: 0<br><b>Hour</b>: 19",
          "<b>Day</b>: 0<br><b>Hour</b>: 20",
          "<b>Day</b>: 0<br><b>Hour</b>: 21",
          "<b>Day</b>: 0<br><b>Hour</b>: 22",
          "<b>Day</b>: 0<br><b>Hour</b>: 23",
          "<b>Day</b>: 1<br><b>Hour</b>: 0",
          "<b>Day</b>: 1<br><b>Hour</b>: 1",
          "<b>Day</b>: 1<br><b>Hour</b>: 2",
          "<b>Day</b>: 1<br><b>Hour</b>: 3",
          "<b>Day</b>: 1<br><b>Hour</b>: 4",
          "<b>Day</b>: 1<br><b>Hour</b>: 5",
          "<b>Day</b>: 1<br><b>Hour</b>: 6",
          "<b>Day</b>: 1<br><b>Hour</b>: 7",
          "<b>Day</b>: 1<br><b>Hour</b>: 8",
          "<b>Day</b>: 1<br><b>Hour</b>: 9",
          "<b>Day</b>: 1<br><b>Hour</b>: 10",
          "<b>Day</b>: 1<br><b>Hour</b>: 11",
          "<b>Day</b>: 1<br><b>Hour</b>: 12",
          "<b>Day</b>: 1<br><b>Hour</b>: 13",
          "<b>Day</b>: 1<br><b>Hour</b>: 14",
          "<b>Day</b>: 1<br><b>Hour</b>: 15",
          "<b>Day</b>: 1<br><b>Hour</b>: 16",
          "<b>Day</b>: 1<br><b>Hour</b>: 17",
          "<b>Day</b>: 1<br><b>Hour</b>: 18",
          "<b>Day</b>: 1<br><b>Hour</b>: 19",
          "<b>Day</b>: 1<br><b>Hour</b>: 20",
          "<b>Day</b>: 1<br><b>Hour</b>: 21",
          "<b>Day</b>: 1<br><b>Hour</b>: 22",
          "<b>Day</b>: 1<br><b>Hour</b>: 23",
          "<b>Day</b>: 2<br><b>Hour</b>: 0",
          "<b>Day</b>: 2<br><b>Hour</b>: 1",
          "<b>Day</b>: 2<br><b>Hour</b>: 2",
          "<b>Day</b>: 2<br><b>Hour</b>: 3",
          "<b>Day</b>: 2<br><b>Hour</b>: 4",
          "<b>Day</b>: 2<br><b>Hour</b>: 5",
          "<b>Day</b>: 2<br><b>Hour</b>: 6",
          "<b>Day</b>: 2<br><b>Hour</b>: 7",
          "<b>Day</b>: 2<br><b>Hour</b>: 8",
          "<b>Day</b>: 2<br><b>Hour</b>: 9",
          "<b>Day</b>: 2<br><b>Hour</b>: 10",
          "<b>Day</b>: 2<br><b>Hour</b>: 11",
          "<b>Day</b>: 2<br><b>Hour</b>: 12",
          "<b>Day</b>: 2<br><b>Hour</b>: 13",
          "<b>Day</b>: 2<br><b>Hour</b>: 14",
          "<b>Day</b>: 2<br><b>Hour</b>: 15",
          "<b>Day</b>: 2<br><b>Hour</b>: 16",
          "<b>Day</b>: 2<br><b>Hour</b>: 17",
          "<b>Day</b>: 2<br><b>Hour</b>: 18",
          "<b>Day</b>: 2<br><b>Hour</b>: 19",
          "<b>Day</b>: 2<br><b>Hour</b>: 20",
          "<b>Day</b>: 2<br><b>Hour</b>: 21",
          "<b>Day</b>: 2<br><b>Hour</b>: 22",
          "<b>Day</b>: 2<br><b>Hour</b>: 23",
          "<b>Day</b>: 3<br><b>Hour</b>: 0",
          "<b>Day</b>: 3<br><b>Hour</b>: 1",
          "<b>Day</b>: 3<br><b>Hour</b>: 2",
          "<b>Day</b>: 3<br><b>Hour</b>: 3",
          "<b>Day</b>: 3<br><b>Hour</b>: 4",
          "<b>Day</b>: 3<br><b>Hour</b>: 5",
          "<b>Day</b>: 3<br><b>Hour</b>: 6",
          "<b>Day</b>: 3<br><b>Hour</b>: 7",
          "<b>Day</b>: 3<br><b>Hour</b>: 8",
          "<b>Day</b>: 3<br><b>Hour</b>: 9",
          "<b>Day</b>: 3<br><b>Hour</b>: 10",
          "<b>Day</b>: 3<br><b>Hour</b>: 11",
          "<b>Day</b>: 3<br><b>Hour</b>: 12",
          "<b>Day</b>: 3<br><b>Hour</b>: 13",
          "<b>Day</b>: 3<br><b>Hour</b>: 14",
          "<b>Day</b>: 3<br><b>Hour</b>: 15",
          "<b>Day</b>: 3<br><b>Hour</b>: 16",
          "<b>Day</b>: 3<br><b>Hour</b>: 17",
          "<b>Day</b>: 3<br><b>Hour</b>: 18",
          "<b>Day</b>: 3<br><b>Hour</b>: 19",
          "<b>Day</b>: 3<br><b>Hour</b>: 20",
          "<b>Day</b>: 3<br><b>Hour</b>: 21",
          "<b>Day</b>: 3<br><b>Hour</b>: 22",
          "<b>Day</b>: 3<br><b>Hour</b>: 23",
          "<b>Day</b>: 4<br><b>Hour</b>: 0",
          "<b>Day</b>: 4<br><b>Hour</b>: 1",
          "<b>Day</b>: 4<br><b>Hour</b>: 2",
          "<b>Day</b>: 4<br><b>Hour</b>: 3",
          "<b>Day</b>: 4<br><b>Hour</b>: 4",
          "<b>Day</b>: 4<br><b>Hour</b>: 5",
          "<b>Day</b>: 4<br><b>Hour</b>: 6",
          "<b>Day</b>: 4<br><b>Hour</b>: 7",
          "<b>Day</b>: 4<br><b>Hour</b>: 8",
          "<b>Day</b>: 4<br><b>Hour</b>: 9",
          "<b>Day</b>: 4<br><b>Hour</b>: 10",
          "<b>Day</b>: 4<br><b>Hour</b>: 11",
          "<b>Day</b>: 4<br><b>Hour</b>: 12",
          "<b>Day</b>: 4<br><b>Hour</b>: 13",
          "<b>Day</b>: 4<br><b>Hour</b>: 14",
          "<b>Day</b>: 4<br><b>Hour</b>: 15",
          "<b>Day</b>: 4<br><b>Hour</b>: 16",
          "<b>Day</b>: 4<br><b>Hour</b>: 17",
          "<b>Day</b>: 4<br><b>Hour</b>: 18",
          "<b>Day</b>: 4<br><b>Hour</b>: 19",
          "<b>Day</b>: 4<br><b>Hour</b>: 20",
          "<b>Day</b>: 4<br><b>Hour</b>: 21",
          "<b>Day</b>: 4<br><b>Hour</b>: 22",
          "<b>Day</b>: 4<br><b>Hour</b>: 23",
          "<b>Day</b>: 5<br><b>Hour</b>: 0",
          "<b>Day</b>: 5<br><b>Hour</b>: 1",
          "<b>Day</b>: 5<br><b>Hour</b>: 2",
          "<b>Day</b>: 5<br><b>Hour</b>: 3",
          "<b>Day</b>: 5<br><b>Hour</b>: 4",
          "<b>Day</b>: 5<br><b>Hour</b>: 5",
          "<b>Day</b>: 5<br><b>Hour</b>: 6",
          "<b>Day</b>: 5<br><b>Hour</b>: 7",
          "<b>Day</b>: 5<br><b>Hour</b>: 8",
          "<b>Day</b>: 5<br><b>Hour</b>: 9",
          "<b>Day</b>: 5<br><b>Hour</b>: 10",
          "<b>Day</b>: 5<br><b>Hour</b>: 11",
          "<b>Day</b>: 5<br><b>Hour</b>: 12",
          "<b>Day</b>: 5<br><b>Hour</b>: 13",
          "<b>Day</b>: 5<br><b>Hour</b>: 14",
          "<b>Day</b>: 5<br><b>Hour</b>: 15",
          "<b>Day</b>: 5<br><b>Hour</b>: 16",
          "<b>Day</b>: 5<br><b>Hour</b>: 17",
          "<b>Day</b>: 5<br><b>Hour</b>: 18",
          "<b>Day</b>: 5<br><b>Hour</b>: 19",
          "<b>Day</b>: 5<br><b>Hour</b>: 20",
          "<b>Day</b>: 5<br><b>Hour</b>: 21",
          "<b>Day</b>: 5<br><b>Hour</b>: 22",
          "<b>Day</b>: 5<br><b>Hour</b>: 23",
          "<b>Day</b>: 6<br><b>Hour</b>: 0",
          "<b>Day</b>: 6<br><b>Hour</b>: 1",
          "<b>Day</b>: 6<br><b>Hour</b>: 2",
          "<b>Day</b>: 6<br><b>Hour</b>: 3",
          "<b>Day</b>: 6<br><b>Hour</b>: 4",
          "<b>Day</b>: 6<br><b>Hour</b>: 5",
          "<b>Day</b>: 6<br><b>Hour</b>: 6",
          "<b>Day</b>: 6<br><b>Hour</b>: 7",
          "<b>Day</b>: 6<br><b>Hour</b>: 8",
          "<b>Day</b>: 6<br><b>Hour</b>: 9",
          "<b>Day</b>: 6<br><b>Hour</b>: 10",
          "<b>Day</b>: 6<br><b>Hour</b>: 11",
          "<b>Day</b>: 6<br><b>Hour</b>: 12",
          "<b>Day</b>: 6<br><b>Hour</b>: 13",
          "<b>Day</b>: 6<br><b>Hour</b>: 14",
          "<b>Day</b>: 6<br><b>Hour</b>: 15",
          "<b>Day</b>: 6<br><b>Hour</b>: 16",
          "<b>Day</b>: 6<br><b>Hour</b>: 17",
          "<b>Day</b>: 6<br><b>Hour</b>: 18",
          "<b>Day</b>: 6<br><b>Hour</b>: 19",
          "<b>Day</b>: 6<br><b>Hour</b>: 20",
          "<b>Day</b>: 6<br><b>Hour</b>: 21",
          "<b>Day</b>: 6<br><b>Hour</b>: 22",
          "<b>Day</b>: 6<br><b>Hour</b>: 23",
          "<b>Day</b>: 7<br><b>Hour</b>: 0"
         ],
         "type": "scatter",
         "x": [
          0,
          1,
          2,
          3,
          4,
          5,
          6,
          7,
          8,
          9,
          10,
          11,
          12,
          13,
          14,
          15,
          16,
          17,
          18,
          19,
          20,
          21,
          22,
          23,
          24,
          25,
          26,
          27,
          28,
          29,
          30,
          31,
          32,
          33,
          34,
          35,
          36,
          37,
          38,
          39,
          40,
          41,
          42,
          43,
          44,
          45,
          46,
          47,
          48,
          49,
          50,
          51,
          52,
          53,
          54,
          55,
          56,
          57,
          58,
          59,
          60,
          61,
          62,
          63,
          64,
          65,
          66,
          67,
          68,
          69,
          70,
          71,
          72,
          73,
          74,
          75,
          76,
          77,
          78,
          79,
          80,
          81,
          82,
          83,
          84,
          85,
          86,
          87,
          88,
          89,
          90,
          91,
          92,
          93,
          94,
          95,
          96,
          97,
          98,
          99,
          100,
          101,
          102,
          103,
          104,
          105,
          106,
          107,
          108,
          109,
          110,
          111,
          112,
          113,
          114,
          115,
          116,
          117,
          118,
          119,
          120,
          121,
          122,
          123,
          124,
          125,
          126,
          127,
          128,
          129,
          130,
          131,
          132,
          133,
          134,
          135,
          136,
          137,
          138,
          139,
          140,
          141,
          142,
          143,
          144,
          145,
          146,
          147,
          148,
          149,
          150,
          151,
          152,
          153,
          154,
          155,
          156,
          157,
          158,
          159,
          160,
          161,
          162,
          163,
          164,
          165,
          166,
          167,
          168
         ],
         "xaxis": "x",
         "y": [
          0,
          26,
          53,
          80,
          103,
          123,
          140,
          153,
          163,
          172,
          182,
          192,
          203,
          214,
          223,
          230,
          0,
          0,
          0,
          0,
          0,
          0,
          0,
          0,
          14,
          35,
          60,
          86,
          111,
          132,
          150,
          164,
          173,
          180,
          184,
          190,
          197,
          207,
          218,
          228,
          236,
          241,
          0,
          0,
          0,
          0,
          0,
          0,
          0,
          15,
          38,
          64,
          91,
          116,
          136,
          152,
          162,
          0,
          0,
          0,
          0,
          10,
          24,
          43,
          62,
          79,
          90,
          0,
          0,
          0,
          0,
          0,
          0,
          7,
          26,
          50,
          77,
          103,
          126,
          145,
          157,
          162,
          0,
          0,
          0,
          0,
          0,
          15,
          36,
          58,
          78,
          93,
          102,
          0,
          0,
          0,
          0,
          0,
          12,
          33,
          59,
          87,
          112,
          134,
          150,
          158,
          0,
          0,
          0,
          0,
          0,
          0,
          17,
          40,
          63,
          85,
          103,
          115,
          0,
          0,
          0,
          0,
          0,
          18,
          42,
          69,
          96,
          120,
          139,
          151,
          0,
          0,
          0,
          0,
          0,
          0,
          0,
          20,
          44,
          71,
          95,
          115,
          130,
          138,
          0,
          0,
          0,
          14,
          35,
          61,
          89,
          115,
          136,
          152,
          157,
          0,
          0,
          0,
          0,
          0,
          0,
          0,
          22,
          48,
          76,
          101,
          123,
          139,
          150
         ],
         "yaxis": "y"
        }
       ],
       "layout": {
        "legend": {
         "tracegroupgap": 0
        },
        "margin": {
         "t": 60
        },
        "template": {
         "data": {
          "bar": [
           {
            "error_x": {
             "color": "#2a3f5f"
            },
            "error_y": {
             "color": "#2a3f5f"
            },
            "marker": {
             "line": {
              "color": "#E5ECF6",
              "width": 0.5
             }
            },
            "type": "bar"
           }
          ],
          "barpolar": [
           {
            "marker": {
             "line": {
              "color": "#E5ECF6",
              "width": 0.5
             }
            },
            "type": "barpolar"
           }
          ],
          "carpet": [
           {
            "aaxis": {
             "endlinecolor": "#2a3f5f",
             "gridcolor": "white",
             "linecolor": "white",
             "minorgridcolor": "white",
             "startlinecolor": "#2a3f5f"
            },
            "baxis": {
             "endlinecolor": "#2a3f5f",
             "gridcolor": "white",
             "linecolor": "white",
             "minorgridcolor": "white",
             "startlinecolor": "#2a3f5f"
            },
            "type": "carpet"
           }
          ],
          "choropleth": [
           {
            "colorbar": {
             "outlinewidth": 0,
             "ticks": ""
            },
            "type": "choropleth"
           }
          ],
          "contour": [
           {
            "colorbar": {
             "outlinewidth": 0,
             "ticks": ""
            },
            "colorscale": [
             [
              0,
              "#0d0887"
             ],
             [
              0.1111111111111111,
              "#46039f"
             ],
             [
              0.2222222222222222,
              "#7201a8"
             ],
             [
              0.3333333333333333,
              "#9c179e"
             ],
             [
              0.4444444444444444,
              "#bd3786"
             ],
             [
              0.5555555555555556,
              "#d8576b"
             ],
             [
              0.6666666666666666,
              "#ed7953"
             ],
             [
              0.7777777777777778,
              "#fb9f3a"
             ],
             [
              0.8888888888888888,
              "#fdca26"
             ],
             [
              1,
              "#f0f921"
             ]
            ],
            "type": "contour"
           }
          ],
          "contourcarpet": [
           {
            "colorbar": {
             "outlinewidth": 0,
             "ticks": ""
            },
            "type": "contourcarpet"
           }
          ],
          "heatmap": [
           {
            "colorbar": {
             "outlinewidth": 0,
             "ticks": ""
            },
            "colorscale": [
             [
              0,
              "#0d0887"
             ],
             [
              0.1111111111111111,
              "#46039f"
             ],
             [
              0.2222222222222222,
              "#7201a8"
             ],
             [
              0.3333333333333333,
              "#9c179e"
             ],
             [
              0.4444444444444444,
              "#bd3786"
             ],
             [
              0.5555555555555556,
              "#d8576b"
             ],
             [
              0.6666666666666666,
              "#ed7953"
             ],
             [
              0.7777777777777778,
              "#fb9f3a"
             ],
             [
              0.8888888888888888,
              "#fdca26"
             ],
             [
              1,
              "#f0f921"
             ]
            ],
            "type": "heatmap"
           }
          ],
          "heatmapgl": [
           {
            "colorbar": {
             "outlinewidth": 0,
             "ticks": ""
            },
            "colorscale": [
             [
              0,
              "#0d0887"
             ],
             [
              0.1111111111111111,
              "#46039f"
             ],
             [
              0.2222222222222222,
              "#7201a8"
             ],
             [
              0.3333333333333333,
              "#9c179e"
             ],
             [
              0.4444444444444444,
              "#bd3786"
             ],
             [
              0.5555555555555556,
              "#d8576b"
             ],
             [
              0.6666666666666666,
              "#ed7953"
             ],
             [
              0.7777777777777778,
              "#fb9f3a"
             ],
             [
              0.8888888888888888,
              "#fdca26"
             ],
             [
              1,
              "#f0f921"
             ]
            ],
            "type": "heatmapgl"
           }
          ],
          "histogram": [
           {
            "marker": {
             "colorbar": {
              "outlinewidth": 0,
              "ticks": ""
             }
            },
            "type": "histogram"
           }
          ],
          "histogram2d": [
           {
            "colorbar": {
             "outlinewidth": 0,
             "ticks": ""
            },
            "colorscale": [
             [
              0,
              "#0d0887"
             ],
             [
              0.1111111111111111,
              "#46039f"
             ],
             [
              0.2222222222222222,
              "#7201a8"
             ],
             [
              0.3333333333333333,
              "#9c179e"
             ],
             [
              0.4444444444444444,
              "#bd3786"
             ],
             [
              0.5555555555555556,
              "#d8576b"
             ],
             [
              0.6666666666666666,
              "#ed7953"
             ],
             [
              0.7777777777777778,
              "#fb9f3a"
             ],
             [
              0.8888888888888888,
              "#fdca26"
             ],
             [
              1,
              "#f0f921"
             ]
            ],
            "type": "histogram2d"
           }
          ],
          "histogram2dcontour": [
           {
            "colorbar": {
             "outlinewidth": 0,
             "ticks": ""
            },
            "colorscale": [
             [
              0,
              "#0d0887"
             ],
             [
              0.1111111111111111,
              "#46039f"
             ],
             [
              0.2222222222222222,
              "#7201a8"
             ],
             [
              0.3333333333333333,
              "#9c179e"
             ],
             [
              0.4444444444444444,
              "#bd3786"
             ],
             [
              0.5555555555555556,
              "#d8576b"
             ],
             [
              0.6666666666666666,
              "#ed7953"
             ],
             [
              0.7777777777777778,
              "#fb9f3a"
             ],
             [
              0.8888888888888888,
              "#fdca26"
             ],
             [
              1,
              "#f0f921"
             ]
            ],
            "type": "histogram2dcontour"
           }
          ],
          "mesh3d": [
           {
            "colorbar": {
             "outlinewidth": 0,
             "ticks": ""
            },
            "type": "mesh3d"
           }
          ],
          "parcoords": [
           {
            "line": {
             "colorbar": {
              "outlinewidth": 0,
              "ticks": ""
             }
            },
            "type": "parcoords"
           }
          ],
          "pie": [
           {
            "automargin": true,
            "type": "pie"
           }
          ],
          "scatter": [
           {
            "marker": {
             "colorbar": {
              "outlinewidth": 0,
              "ticks": ""
             }
            },
            "type": "scatter"
           }
          ],
          "scatter3d": [
           {
            "line": {
             "colorbar": {
              "outlinewidth": 0,
              "ticks": ""
             }
            },
            "marker": {
             "colorbar": {
              "outlinewidth": 0,
              "ticks": ""
             }
            },
            "type": "scatter3d"
           }
          ],
          "scattercarpet": [
           {
            "marker": {
             "colorbar": {
              "outlinewidth": 0,
              "ticks": ""
             }
            },
            "type": "scattercarpet"
           }
          ],
          "scattergeo": [
           {
            "marker": {
             "colorbar": {
              "outlinewidth": 0,
              "ticks": ""
             }
            },
            "type": "scattergeo"
           }
          ],
          "scattergl": [
           {
            "marker": {
             "colorbar": {
              "outlinewidth": 0,
              "ticks": ""
             }
            },
            "type": "scattergl"
           }
          ],
          "scattermapbox": [
           {
            "marker": {
             "colorbar": {
              "outlinewidth": 0,
              "ticks": ""
             }
            },
            "type": "scattermapbox"
           }
          ],
          "scatterpolar": [
           {
            "marker": {
             "colorbar": {
              "outlinewidth": 0,
              "ticks": ""
             }
            },
            "type": "scatterpolar"
           }
          ],
          "scatterpolargl": [
           {
            "marker": {
             "colorbar": {
              "outlinewidth": 0,
              "ticks": ""
             }
            },
            "type": "scatterpolargl"
           }
          ],
          "scatterternary": [
           {
            "marker": {
             "colorbar": {
              "outlinewidth": 0,
              "ticks": ""
             }
            },
            "type": "scatterternary"
           }
          ],
          "surface": [
           {
            "colorbar": {
             "outlinewidth": 0,
             "ticks": ""
            },
            "colorscale": [
             [
              0,
              "#0d0887"
             ],
             [
              0.1111111111111111,
              "#46039f"
             ],
             [
              0.2222222222222222,
              "#7201a8"
             ],
             [
              0.3333333333333333,
              "#9c179e"
             ],
             [
              0.4444444444444444,
              "#bd3786"
             ],
             [
              0.5555555555555556,
              "#d8576b"
             ],
             [
              0.6666666666666666,
              "#ed7953"
             ],
             [
              0.7777777777777778,
              "#fb9f3a"
             ],
             [
              0.8888888888888888,
              "#fdca26"
             ],
             [
              1,
              "#f0f921"
             ]
            ],
            "type": "surface"
           }
          ],
          "table": [
           {
            "cells": {
             "fill": {
              "color": "#EBF0F8"
             },
             "line": {
              "color": "white"
             }
            },
            "header": {
             "fill": {
              "color": "#C8D4E3"
             },
             "line": {
              "color": "white"
             }
            },
            "type": "table"
           }
          ]
         },
         "layout": {
          "annotationdefaults": {
           "arrowcolor": "#2a3f5f",
           "arrowhead": 0,
           "arrowwidth": 1
          },
          "coloraxis": {
           "colorbar": {
            "outlinewidth": 0,
            "ticks": ""
           }
          },
          "colorscale": {
           "diverging": [
            [
             0,
             "#8e0152"
            ],
            [
             0.1,
             "#c51b7d"
            ],
            [
             0.2,
             "#de77ae"
            ],
            [
             0.3,
             "#f1b6da"
            ],
            [
             0.4,
             "#fde0ef"
            ],
            [
             0.5,
             "#f7f7f7"
            ],
            [
             0.6,
             "#e6f5d0"
            ],
            [
             0.7,
             "#b8e186"
            ],
            [
             0.8,
             "#7fbc41"
            ],
            [
             0.9,
             "#4d9221"
            ],
            [
             1,
             "#276419"
            ]
           ],
           "sequential": [
            [
             0,
             "#0d0887"
            ],
            [
             0.1111111111111111,
             "#46039f"
            ],
            [
             0.2222222222222222,
             "#7201a8"
            ],
            [
             0.3333333333333333,
             "#9c179e"
            ],
            [
             0.4444444444444444,
             "#bd3786"
            ],
            [
             0.5555555555555556,
             "#d8576b"
            ],
            [
             0.6666666666666666,
             "#ed7953"
            ],
            [
             0.7777777777777778,
             "#fb9f3a"
            ],
            [
             0.8888888888888888,
             "#fdca26"
            ],
            [
             1,
             "#f0f921"
            ]
           ],
           "sequentialminus": [
            [
             0,
             "#0d0887"
            ],
            [
             0.1111111111111111,
             "#46039f"
            ],
            [
             0.2222222222222222,
             "#7201a8"
            ],
            [
             0.3333333333333333,
             "#9c179e"
            ],
            [
             0.4444444444444444,
             "#bd3786"
            ],
            [
             0.5555555555555556,
             "#d8576b"
            ],
            [
             0.6666666666666666,
             "#ed7953"
            ],
            [
             0.7777777777777778,
             "#fb9f3a"
            ],
            [
             0.8888888888888888,
             "#fdca26"
            ],
            [
             1,
             "#f0f921"
            ]
           ]
          },
          "colorway": [
           "#636efa",
           "#EF553B",
           "#00cc96",
           "#ab63fa",
           "#FFA15A",
           "#19d3f3",
           "#FF6692",
           "#B6E880",
           "#FF97FF",
           "#FECB52"
          ],
          "font": {
           "color": "#2a3f5f"
          },
          "geo": {
           "bgcolor": "white",
           "lakecolor": "white",
           "landcolor": "#E5ECF6",
           "showlakes": true,
           "showland": true,
           "subunitcolor": "white"
          },
          "hoverlabel": {
           "align": "left"
          },
          "hovermode": "closest",
          "mapbox": {
           "style": "light"
          },
          "paper_bgcolor": "white",
          "plot_bgcolor": "#E5ECF6",
          "polar": {
           "angularaxis": {
            "gridcolor": "white",
            "linecolor": "white",
            "ticks": ""
           },
           "bgcolor": "#E5ECF6",
           "radialaxis": {
            "gridcolor": "white",
            "linecolor": "white",
            "ticks": ""
           }
          },
          "scene": {
           "xaxis": {
            "backgroundcolor": "#E5ECF6",
            "gridcolor": "white",
            "gridwidth": 2,
            "linecolor": "white",
            "showbackground": true,
            "ticks": "",
            "zerolinecolor": "white"
           },
           "yaxis": {
            "backgroundcolor": "#E5ECF6",
            "gridcolor": "white",
            "gridwidth": 2,
            "linecolor": "white",
            "showbackground": true,
            "ticks": "",
            "zerolinecolor": "white"
           },
           "zaxis": {
            "backgroundcolor": "#E5ECF6",
            "gridcolor": "white",
            "gridwidth": 2,
            "linecolor": "white",
            "showbackground": true,
            "ticks": "",
            "zerolinecolor": "white"
           }
          },
          "shapedefaults": {
           "line": {
            "color": "#2a3f5f"
           }
          },
          "ternary": {
           "aaxis": {
            "gridcolor": "white",
            "linecolor": "white",
            "ticks": ""
           },
           "baxis": {
            "gridcolor": "white",
            "linecolor": "white",
            "ticks": ""
           },
           "bgcolor": "#E5ECF6",
           "caxis": {
            "gridcolor": "white",
            "linecolor": "white",
            "ticks": ""
           }
          },
          "title": {
           "x": 0.05
          },
          "xaxis": {
           "automargin": true,
           "gridcolor": "white",
           "linecolor": "white",
           "ticks": "",
           "title": {
            "standoff": 15
           },
           "zerolinecolor": "white",
           "zerolinewidth": 2
          },
          "yaxis": {
           "automargin": true,
           "gridcolor": "white",
           "linecolor": "white",
           "ticks": "",
           "title": {
            "standoff": 15
           },
           "zerolinecolor": "white",
           "zerolinewidth": 2
          }
         }
        },
        "title": {
         "text": "Number of Fish Trapped using circular trap model at Comox Harbour"
        },
        "xaxis": {
         "anchor": "y",
         "domain": [
          0,
          1
         ],
         "ticktext": [
          0,
          1,
          2,
          3,
          4,
          5,
          6,
          7
         ],
         "tickvals": [
          0,
          24,
          48,
          72,
          96,
          120,
          144,
          168
         ],
         "title": {
          "text": "Time (Days Since Start)"
         }
        },
        "yaxis": {
         "anchor": "x",
         "domain": [
          0,
          1
         ],
         "title": {
          "text": "Number of trapped fish"
         }
        }
       }
      },
      "text/html": [
       "<div>\n",
       "        \n",
       "        \n",
       "            <div id=\"d18f9489-152f-4aba-9482-36101d581099\" class=\"plotly-graph-div\" style=\"height:525px; width:100%;\"></div>\n",
       "            <script type=\"text/javascript\">\n",
       "                require([\"plotly\"], function(Plotly) {\n",
       "                    window.PLOTLYENV=window.PLOTLYENV || {};\n",
       "                    \n",
       "                if (document.getElementById(\"d18f9489-152f-4aba-9482-36101d581099\")) {\n",
       "                    Plotly.newPlot(\n",
       "                        'd18f9489-152f-4aba-9482-36101d581099',\n",
       "                        [{\"hovertemplate\": \"%{text}<br>%{y:} fish caught\", \"legendgroup\": \"\", \"line\": {\"color\": \"#636efa\", \"dash\": \"solid\", \"shape\": \"spline\"}, \"mode\": \"lines\", \"name\": \"\", \"orientation\": \"v\", \"showlegend\": false, \"text\": [\"<b>Day</b>: 0<br><b>Hour</b>: 0\", \"<b>Day</b>: 0<br><b>Hour</b>: 1\", \"<b>Day</b>: 0<br><b>Hour</b>: 2\", \"<b>Day</b>: 0<br><b>Hour</b>: 3\", \"<b>Day</b>: 0<br><b>Hour</b>: 4\", \"<b>Day</b>: 0<br><b>Hour</b>: 5\", \"<b>Day</b>: 0<br><b>Hour</b>: 6\", \"<b>Day</b>: 0<br><b>Hour</b>: 7\", \"<b>Day</b>: 0<br><b>Hour</b>: 8\", \"<b>Day</b>: 0<br><b>Hour</b>: 9\", \"<b>Day</b>: 0<br><b>Hour</b>: 10\", \"<b>Day</b>: 0<br><b>Hour</b>: 11\", \"<b>Day</b>: 0<br><b>Hour</b>: 12\", \"<b>Day</b>: 0<br><b>Hour</b>: 13\", \"<b>Day</b>: 0<br><b>Hour</b>: 14\", \"<b>Day</b>: 0<br><b>Hour</b>: 15\", \"<b>Day</b>: 0<br><b>Hour</b>: 16\", \"<b>Day</b>: 0<br><b>Hour</b>: 17\", \"<b>Day</b>: 0<br><b>Hour</b>: 18\", \"<b>Day</b>: 0<br><b>Hour</b>: 19\", \"<b>Day</b>: 0<br><b>Hour</b>: 20\", \"<b>Day</b>: 0<br><b>Hour</b>: 21\", \"<b>Day</b>: 0<br><b>Hour</b>: 22\", \"<b>Day</b>: 0<br><b>Hour</b>: 23\", \"<b>Day</b>: 1<br><b>Hour</b>: 0\", \"<b>Day</b>: 1<br><b>Hour</b>: 1\", \"<b>Day</b>: 1<br><b>Hour</b>: 2\", \"<b>Day</b>: 1<br><b>Hour</b>: 3\", \"<b>Day</b>: 1<br><b>Hour</b>: 4\", \"<b>Day</b>: 1<br><b>Hour</b>: 5\", \"<b>Day</b>: 1<br><b>Hour</b>: 6\", \"<b>Day</b>: 1<br><b>Hour</b>: 7\", \"<b>Day</b>: 1<br><b>Hour</b>: 8\", \"<b>Day</b>: 1<br><b>Hour</b>: 9\", \"<b>Day</b>: 1<br><b>Hour</b>: 10\", \"<b>Day</b>: 1<br><b>Hour</b>: 11\", \"<b>Day</b>: 1<br><b>Hour</b>: 12\", \"<b>Day</b>: 1<br><b>Hour</b>: 13\", \"<b>Day</b>: 1<br><b>Hour</b>: 14\", \"<b>Day</b>: 1<br><b>Hour</b>: 15\", \"<b>Day</b>: 1<br><b>Hour</b>: 16\", \"<b>Day</b>: 1<br><b>Hour</b>: 17\", \"<b>Day</b>: 1<br><b>Hour</b>: 18\", \"<b>Day</b>: 1<br><b>Hour</b>: 19\", \"<b>Day</b>: 1<br><b>Hour</b>: 20\", \"<b>Day</b>: 1<br><b>Hour</b>: 21\", \"<b>Day</b>: 1<br><b>Hour</b>: 22\", \"<b>Day</b>: 1<br><b>Hour</b>: 23\", \"<b>Day</b>: 2<br><b>Hour</b>: 0\", \"<b>Day</b>: 2<br><b>Hour</b>: 1\", \"<b>Day</b>: 2<br><b>Hour</b>: 2\", \"<b>Day</b>: 2<br><b>Hour</b>: 3\", \"<b>Day</b>: 2<br><b>Hour</b>: 4\", \"<b>Day</b>: 2<br><b>Hour</b>: 5\", \"<b>Day</b>: 2<br><b>Hour</b>: 6\", \"<b>Day</b>: 2<br><b>Hour</b>: 7\", \"<b>Day</b>: 2<br><b>Hour</b>: 8\", \"<b>Day</b>: 2<br><b>Hour</b>: 9\", \"<b>Day</b>: 2<br><b>Hour</b>: 10\", \"<b>Day</b>: 2<br><b>Hour</b>: 11\", \"<b>Day</b>: 2<br><b>Hour</b>: 12\", \"<b>Day</b>: 2<br><b>Hour</b>: 13\", \"<b>Day</b>: 2<br><b>Hour</b>: 14\", \"<b>Day</b>: 2<br><b>Hour</b>: 15\", \"<b>Day</b>: 2<br><b>Hour</b>: 16\", \"<b>Day</b>: 2<br><b>Hour</b>: 17\", \"<b>Day</b>: 2<br><b>Hour</b>: 18\", \"<b>Day</b>: 2<br><b>Hour</b>: 19\", \"<b>Day</b>: 2<br><b>Hour</b>: 20\", \"<b>Day</b>: 2<br><b>Hour</b>: 21\", \"<b>Day</b>: 2<br><b>Hour</b>: 22\", \"<b>Day</b>: 2<br><b>Hour</b>: 23\", \"<b>Day</b>: 3<br><b>Hour</b>: 0\", \"<b>Day</b>: 3<br><b>Hour</b>: 1\", \"<b>Day</b>: 3<br><b>Hour</b>: 2\", \"<b>Day</b>: 3<br><b>Hour</b>: 3\", \"<b>Day</b>: 3<br><b>Hour</b>: 4\", \"<b>Day</b>: 3<br><b>Hour</b>: 5\", \"<b>Day</b>: 3<br><b>Hour</b>: 6\", \"<b>Day</b>: 3<br><b>Hour</b>: 7\", \"<b>Day</b>: 3<br><b>Hour</b>: 8\", \"<b>Day</b>: 3<br><b>Hour</b>: 9\", \"<b>Day</b>: 3<br><b>Hour</b>: 10\", \"<b>Day</b>: 3<br><b>Hour</b>: 11\", \"<b>Day</b>: 3<br><b>Hour</b>: 12\", \"<b>Day</b>: 3<br><b>Hour</b>: 13\", \"<b>Day</b>: 3<br><b>Hour</b>: 14\", \"<b>Day</b>: 3<br><b>Hour</b>: 15\", \"<b>Day</b>: 3<br><b>Hour</b>: 16\", \"<b>Day</b>: 3<br><b>Hour</b>: 17\", \"<b>Day</b>: 3<br><b>Hour</b>: 18\", \"<b>Day</b>: 3<br><b>Hour</b>: 19\", \"<b>Day</b>: 3<br><b>Hour</b>: 20\", \"<b>Day</b>: 3<br><b>Hour</b>: 21\", \"<b>Day</b>: 3<br><b>Hour</b>: 22\", \"<b>Day</b>: 3<br><b>Hour</b>: 23\", \"<b>Day</b>: 4<br><b>Hour</b>: 0\", \"<b>Day</b>: 4<br><b>Hour</b>: 1\", \"<b>Day</b>: 4<br><b>Hour</b>: 2\", \"<b>Day</b>: 4<br><b>Hour</b>: 3\", \"<b>Day</b>: 4<br><b>Hour</b>: 4\", \"<b>Day</b>: 4<br><b>Hour</b>: 5\", \"<b>Day</b>: 4<br><b>Hour</b>: 6\", \"<b>Day</b>: 4<br><b>Hour</b>: 7\", \"<b>Day</b>: 4<br><b>Hour</b>: 8\", \"<b>Day</b>: 4<br><b>Hour</b>: 9\", \"<b>Day</b>: 4<br><b>Hour</b>: 10\", \"<b>Day</b>: 4<br><b>Hour</b>: 11\", \"<b>Day</b>: 4<br><b>Hour</b>: 12\", \"<b>Day</b>: 4<br><b>Hour</b>: 13\", \"<b>Day</b>: 4<br><b>Hour</b>: 14\", \"<b>Day</b>: 4<br><b>Hour</b>: 15\", \"<b>Day</b>: 4<br><b>Hour</b>: 16\", \"<b>Day</b>: 4<br><b>Hour</b>: 17\", \"<b>Day</b>: 4<br><b>Hour</b>: 18\", \"<b>Day</b>: 4<br><b>Hour</b>: 19\", \"<b>Day</b>: 4<br><b>Hour</b>: 20\", \"<b>Day</b>: 4<br><b>Hour</b>: 21\", \"<b>Day</b>: 4<br><b>Hour</b>: 22\", \"<b>Day</b>: 4<br><b>Hour</b>: 23\", \"<b>Day</b>: 5<br><b>Hour</b>: 0\", \"<b>Day</b>: 5<br><b>Hour</b>: 1\", \"<b>Day</b>: 5<br><b>Hour</b>: 2\", \"<b>Day</b>: 5<br><b>Hour</b>: 3\", \"<b>Day</b>: 5<br><b>Hour</b>: 4\", \"<b>Day</b>: 5<br><b>Hour</b>: 5\", \"<b>Day</b>: 5<br><b>Hour</b>: 6\", \"<b>Day</b>: 5<br><b>Hour</b>: 7\", \"<b>Day</b>: 5<br><b>Hour</b>: 8\", \"<b>Day</b>: 5<br><b>Hour</b>: 9\", \"<b>Day</b>: 5<br><b>Hour</b>: 10\", \"<b>Day</b>: 5<br><b>Hour</b>: 11\", \"<b>Day</b>: 5<br><b>Hour</b>: 12\", \"<b>Day</b>: 5<br><b>Hour</b>: 13\", \"<b>Day</b>: 5<br><b>Hour</b>: 14\", \"<b>Day</b>: 5<br><b>Hour</b>: 15\", \"<b>Day</b>: 5<br><b>Hour</b>: 16\", \"<b>Day</b>: 5<br><b>Hour</b>: 17\", \"<b>Day</b>: 5<br><b>Hour</b>: 18\", \"<b>Day</b>: 5<br><b>Hour</b>: 19\", \"<b>Day</b>: 5<br><b>Hour</b>: 20\", \"<b>Day</b>: 5<br><b>Hour</b>: 21\", \"<b>Day</b>: 5<br><b>Hour</b>: 22\", \"<b>Day</b>: 5<br><b>Hour</b>: 23\", \"<b>Day</b>: 6<br><b>Hour</b>: 0\", \"<b>Day</b>: 6<br><b>Hour</b>: 1\", \"<b>Day</b>: 6<br><b>Hour</b>: 2\", \"<b>Day</b>: 6<br><b>Hour</b>: 3\", \"<b>Day</b>: 6<br><b>Hour</b>: 4\", \"<b>Day</b>: 6<br><b>Hour</b>: 5\", \"<b>Day</b>: 6<br><b>Hour</b>: 6\", \"<b>Day</b>: 6<br><b>Hour</b>: 7\", \"<b>Day</b>: 6<br><b>Hour</b>: 8\", \"<b>Day</b>: 6<br><b>Hour</b>: 9\", \"<b>Day</b>: 6<br><b>Hour</b>: 10\", \"<b>Day</b>: 6<br><b>Hour</b>: 11\", \"<b>Day</b>: 6<br><b>Hour</b>: 12\", \"<b>Day</b>: 6<br><b>Hour</b>: 13\", \"<b>Day</b>: 6<br><b>Hour</b>: 14\", \"<b>Day</b>: 6<br><b>Hour</b>: 15\", \"<b>Day</b>: 6<br><b>Hour</b>: 16\", \"<b>Day</b>: 6<br><b>Hour</b>: 17\", \"<b>Day</b>: 6<br><b>Hour</b>: 18\", \"<b>Day</b>: 6<br><b>Hour</b>: 19\", \"<b>Day</b>: 6<br><b>Hour</b>: 20\", \"<b>Day</b>: 6<br><b>Hour</b>: 21\", \"<b>Day</b>: 6<br><b>Hour</b>: 22\", \"<b>Day</b>: 6<br><b>Hour</b>: 23\", \"<b>Day</b>: 7<br><b>Hour</b>: 0\"], \"type\": \"scatter\", \"x\": [0, 1, 2, 3, 4, 5, 6, 7, 8, 9, 10, 11, 12, 13, 14, 15, 16, 17, 18, 19, 20, 21, 22, 23, 24, 25, 26, 27, 28, 29, 30, 31, 32, 33, 34, 35, 36, 37, 38, 39, 40, 41, 42, 43, 44, 45, 46, 47, 48, 49, 50, 51, 52, 53, 54, 55, 56, 57, 58, 59, 60, 61, 62, 63, 64, 65, 66, 67, 68, 69, 70, 71, 72, 73, 74, 75, 76, 77, 78, 79, 80, 81, 82, 83, 84, 85, 86, 87, 88, 89, 90, 91, 92, 93, 94, 95, 96, 97, 98, 99, 100, 101, 102, 103, 104, 105, 106, 107, 108, 109, 110, 111, 112, 113, 114, 115, 116, 117, 118, 119, 120, 121, 122, 123, 124, 125, 126, 127, 128, 129, 130, 131, 132, 133, 134, 135, 136, 137, 138, 139, 140, 141, 142, 143, 144, 145, 146, 147, 148, 149, 150, 151, 152, 153, 154, 155, 156, 157, 158, 159, 160, 161, 162, 163, 164, 165, 166, 167, 168], \"xaxis\": \"x\", \"y\": [0.0, 26.0, 53.0, 80.0, 103.0, 123.0, 140.0, 153.0, 163.0, 172.0, 182.0, 192.0, 203.0, 214.0, 223.0, 230.0, 0.0, 0.0, 0.0, 0.0, 0.0, 0.0, 0.0, 0.0, 14.0, 35.0, 60.0, 86.0, 111.0, 132.0, 150.0, 164.0, 173.0, 180.0, 184.0, 190.0, 197.0, 207.0, 218.0, 228.0, 236.0, 241.0, 0.0, 0.0, 0.0, 0.0, 0.0, 0.0, 0.0, 15.0, 38.0, 64.0, 91.0, 116.0, 136.0, 152.0, 162.0, 0.0, 0.0, 0.0, 0.0, 10.0, 24.0, 43.0, 62.0, 79.0, 90.0, 0.0, 0.0, 0.0, 0.0, 0.0, 0.0, 7.0, 26.0, 50.0, 77.0, 103.0, 126.0, 145.0, 157.0, 162.0, 0.0, 0.0, 0.0, 0.0, 0.0, 15.0, 36.0, 58.0, 78.0, 93.0, 102.0, 0.0, 0.0, 0.0, 0.0, 0.0, 12.0, 33.0, 59.0, 87.0, 112.0, 134.0, 150.0, 158.0, 0.0, 0.0, 0.0, 0.0, 0.0, 0.0, 17.0, 40.0, 63.0, 85.0, 103.0, 115.0, 0.0, 0.0, 0.0, 0.0, 0.0, 18.0, 42.0, 69.0, 96.0, 120.0, 139.0, 151.0, 0.0, 0.0, 0.0, 0.0, 0.0, 0.0, 0.0, 20.0, 44.0, 71.0, 95.0, 115.0, 130.0, 138.0, 0.0, 0.0, 0.0, 14.0, 35.0, 61.0, 89.0, 115.0, 136.0, 152.0, 157.0, 0.0, 0.0, 0.0, 0.0, 0.0, 0.0, 0.0, 22.0, 48.0, 76.0, 101.0, 123.0, 139.0, 150.0], \"yaxis\": \"y\"}],\n",
       "                        {\"legend\": {\"tracegroupgap\": 0}, \"margin\": {\"t\": 60}, \"template\": {\"data\": {\"bar\": [{\"error_x\": {\"color\": \"#2a3f5f\"}, \"error_y\": {\"color\": \"#2a3f5f\"}, \"marker\": {\"line\": {\"color\": \"#E5ECF6\", \"width\": 0.5}}, \"type\": \"bar\"}], \"barpolar\": [{\"marker\": {\"line\": {\"color\": \"#E5ECF6\", \"width\": 0.5}}, \"type\": \"barpolar\"}], \"carpet\": [{\"aaxis\": {\"endlinecolor\": \"#2a3f5f\", \"gridcolor\": \"white\", \"linecolor\": \"white\", \"minorgridcolor\": \"white\", \"startlinecolor\": \"#2a3f5f\"}, \"baxis\": {\"endlinecolor\": \"#2a3f5f\", \"gridcolor\": \"white\", \"linecolor\": \"white\", \"minorgridcolor\": \"white\", \"startlinecolor\": \"#2a3f5f\"}, \"type\": \"carpet\"}], \"choropleth\": [{\"colorbar\": {\"outlinewidth\": 0, \"ticks\": \"\"}, \"type\": \"choropleth\"}], \"contour\": [{\"colorbar\": {\"outlinewidth\": 0, \"ticks\": \"\"}, \"colorscale\": [[0.0, \"#0d0887\"], [0.1111111111111111, \"#46039f\"], [0.2222222222222222, \"#7201a8\"], [0.3333333333333333, \"#9c179e\"], [0.4444444444444444, \"#bd3786\"], [0.5555555555555556, \"#d8576b\"], [0.6666666666666666, \"#ed7953\"], [0.7777777777777778, \"#fb9f3a\"], [0.8888888888888888, \"#fdca26\"], [1.0, \"#f0f921\"]], \"type\": \"contour\"}], \"contourcarpet\": [{\"colorbar\": {\"outlinewidth\": 0, \"ticks\": \"\"}, \"type\": \"contourcarpet\"}], \"heatmap\": [{\"colorbar\": {\"outlinewidth\": 0, \"ticks\": \"\"}, \"colorscale\": [[0.0, \"#0d0887\"], [0.1111111111111111, \"#46039f\"], [0.2222222222222222, \"#7201a8\"], [0.3333333333333333, \"#9c179e\"], [0.4444444444444444, \"#bd3786\"], [0.5555555555555556, \"#d8576b\"], [0.6666666666666666, \"#ed7953\"], [0.7777777777777778, \"#fb9f3a\"], [0.8888888888888888, \"#fdca26\"], [1.0, \"#f0f921\"]], \"type\": \"heatmap\"}], \"heatmapgl\": [{\"colorbar\": {\"outlinewidth\": 0, \"ticks\": \"\"}, \"colorscale\": [[0.0, \"#0d0887\"], [0.1111111111111111, \"#46039f\"], [0.2222222222222222, \"#7201a8\"], [0.3333333333333333, \"#9c179e\"], [0.4444444444444444, \"#bd3786\"], [0.5555555555555556, \"#d8576b\"], [0.6666666666666666, \"#ed7953\"], [0.7777777777777778, \"#fb9f3a\"], [0.8888888888888888, \"#fdca26\"], [1.0, \"#f0f921\"]], \"type\": \"heatmapgl\"}], \"histogram\": [{\"marker\": {\"colorbar\": {\"outlinewidth\": 0, \"ticks\": \"\"}}, \"type\": \"histogram\"}], \"histogram2d\": [{\"colorbar\": {\"outlinewidth\": 0, \"ticks\": \"\"}, \"colorscale\": [[0.0, \"#0d0887\"], [0.1111111111111111, \"#46039f\"], [0.2222222222222222, \"#7201a8\"], [0.3333333333333333, \"#9c179e\"], [0.4444444444444444, \"#bd3786\"], [0.5555555555555556, \"#d8576b\"], [0.6666666666666666, \"#ed7953\"], [0.7777777777777778, \"#fb9f3a\"], [0.8888888888888888, \"#fdca26\"], [1.0, \"#f0f921\"]], \"type\": \"histogram2d\"}], \"histogram2dcontour\": [{\"colorbar\": {\"outlinewidth\": 0, \"ticks\": \"\"}, \"colorscale\": [[0.0, \"#0d0887\"], [0.1111111111111111, \"#46039f\"], [0.2222222222222222, \"#7201a8\"], [0.3333333333333333, \"#9c179e\"], [0.4444444444444444, \"#bd3786\"], [0.5555555555555556, \"#d8576b\"], [0.6666666666666666, \"#ed7953\"], [0.7777777777777778, \"#fb9f3a\"], [0.8888888888888888, \"#fdca26\"], [1.0, \"#f0f921\"]], \"type\": \"histogram2dcontour\"}], \"mesh3d\": [{\"colorbar\": {\"outlinewidth\": 0, \"ticks\": \"\"}, \"type\": \"mesh3d\"}], \"parcoords\": [{\"line\": {\"colorbar\": {\"outlinewidth\": 0, \"ticks\": \"\"}}, \"type\": \"parcoords\"}], \"pie\": [{\"automargin\": true, \"type\": \"pie\"}], \"scatter\": [{\"marker\": {\"colorbar\": {\"outlinewidth\": 0, \"ticks\": \"\"}}, \"type\": \"scatter\"}], \"scatter3d\": [{\"line\": {\"colorbar\": {\"outlinewidth\": 0, \"ticks\": \"\"}}, \"marker\": {\"colorbar\": {\"outlinewidth\": 0, \"ticks\": \"\"}}, \"type\": \"scatter3d\"}], \"scattercarpet\": [{\"marker\": {\"colorbar\": {\"outlinewidth\": 0, \"ticks\": \"\"}}, \"type\": \"scattercarpet\"}], \"scattergeo\": [{\"marker\": {\"colorbar\": {\"outlinewidth\": 0, \"ticks\": \"\"}}, \"type\": \"scattergeo\"}], \"scattergl\": [{\"marker\": {\"colorbar\": {\"outlinewidth\": 0, \"ticks\": \"\"}}, \"type\": \"scattergl\"}], \"scattermapbox\": [{\"marker\": {\"colorbar\": {\"outlinewidth\": 0, \"ticks\": \"\"}}, \"type\": \"scattermapbox\"}], \"scatterpolar\": [{\"marker\": {\"colorbar\": {\"outlinewidth\": 0, \"ticks\": \"\"}}, \"type\": \"scatterpolar\"}], \"scatterpolargl\": [{\"marker\": {\"colorbar\": {\"outlinewidth\": 0, \"ticks\": \"\"}}, \"type\": \"scatterpolargl\"}], \"scatterternary\": [{\"marker\": {\"colorbar\": {\"outlinewidth\": 0, \"ticks\": \"\"}}, \"type\": \"scatterternary\"}], \"surface\": [{\"colorbar\": {\"outlinewidth\": 0, \"ticks\": \"\"}, \"colorscale\": [[0.0, \"#0d0887\"], [0.1111111111111111, \"#46039f\"], [0.2222222222222222, \"#7201a8\"], [0.3333333333333333, \"#9c179e\"], [0.4444444444444444, \"#bd3786\"], [0.5555555555555556, \"#d8576b\"], [0.6666666666666666, \"#ed7953\"], [0.7777777777777778, \"#fb9f3a\"], [0.8888888888888888, \"#fdca26\"], [1.0, \"#f0f921\"]], \"type\": \"surface\"}], \"table\": [{\"cells\": {\"fill\": {\"color\": \"#EBF0F8\"}, \"line\": {\"color\": \"white\"}}, \"header\": {\"fill\": {\"color\": \"#C8D4E3\"}, \"line\": {\"color\": \"white\"}}, \"type\": \"table\"}]}, \"layout\": {\"annotationdefaults\": {\"arrowcolor\": \"#2a3f5f\", \"arrowhead\": 0, \"arrowwidth\": 1}, \"coloraxis\": {\"colorbar\": {\"outlinewidth\": 0, \"ticks\": \"\"}}, \"colorscale\": {\"diverging\": [[0, \"#8e0152\"], [0.1, \"#c51b7d\"], [0.2, \"#de77ae\"], [0.3, \"#f1b6da\"], [0.4, \"#fde0ef\"], [0.5, \"#f7f7f7\"], [0.6, \"#e6f5d0\"], [0.7, \"#b8e186\"], [0.8, \"#7fbc41\"], [0.9, \"#4d9221\"], [1, \"#276419\"]], \"sequential\": [[0.0, \"#0d0887\"], [0.1111111111111111, \"#46039f\"], [0.2222222222222222, \"#7201a8\"], [0.3333333333333333, \"#9c179e\"], [0.4444444444444444, \"#bd3786\"], [0.5555555555555556, \"#d8576b\"], [0.6666666666666666, \"#ed7953\"], [0.7777777777777778, \"#fb9f3a\"], [0.8888888888888888, \"#fdca26\"], [1.0, \"#f0f921\"]], \"sequentialminus\": [[0.0, \"#0d0887\"], [0.1111111111111111, \"#46039f\"], [0.2222222222222222, \"#7201a8\"], [0.3333333333333333, \"#9c179e\"], [0.4444444444444444, \"#bd3786\"], [0.5555555555555556, \"#d8576b\"], [0.6666666666666666, \"#ed7953\"], [0.7777777777777778, \"#fb9f3a\"], [0.8888888888888888, \"#fdca26\"], [1.0, \"#f0f921\"]]}, \"colorway\": [\"#636efa\", \"#EF553B\", \"#00cc96\", \"#ab63fa\", \"#FFA15A\", \"#19d3f3\", \"#FF6692\", \"#B6E880\", \"#FF97FF\", \"#FECB52\"], \"font\": {\"color\": \"#2a3f5f\"}, \"geo\": {\"bgcolor\": \"white\", \"lakecolor\": \"white\", \"landcolor\": \"#E5ECF6\", \"showlakes\": true, \"showland\": true, \"subunitcolor\": \"white\"}, \"hoverlabel\": {\"align\": \"left\"}, \"hovermode\": \"closest\", \"mapbox\": {\"style\": \"light\"}, \"paper_bgcolor\": \"white\", \"plot_bgcolor\": \"#E5ECF6\", \"polar\": {\"angularaxis\": {\"gridcolor\": \"white\", \"linecolor\": \"white\", \"ticks\": \"\"}, \"bgcolor\": \"#E5ECF6\", \"radialaxis\": {\"gridcolor\": \"white\", \"linecolor\": \"white\", \"ticks\": \"\"}}, \"scene\": {\"xaxis\": {\"backgroundcolor\": \"#E5ECF6\", \"gridcolor\": \"white\", \"gridwidth\": 2, \"linecolor\": \"white\", \"showbackground\": true, \"ticks\": \"\", \"zerolinecolor\": \"white\"}, \"yaxis\": {\"backgroundcolor\": \"#E5ECF6\", \"gridcolor\": \"white\", \"gridwidth\": 2, \"linecolor\": \"white\", \"showbackground\": true, \"ticks\": \"\", \"zerolinecolor\": \"white\"}, \"zaxis\": {\"backgroundcolor\": \"#E5ECF6\", \"gridcolor\": \"white\", \"gridwidth\": 2, \"linecolor\": \"white\", \"showbackground\": true, \"ticks\": \"\", \"zerolinecolor\": \"white\"}}, \"shapedefaults\": {\"line\": {\"color\": \"#2a3f5f\"}}, \"ternary\": {\"aaxis\": {\"gridcolor\": \"white\", \"linecolor\": \"white\", \"ticks\": \"\"}, \"baxis\": {\"gridcolor\": \"white\", \"linecolor\": \"white\", \"ticks\": \"\"}, \"bgcolor\": \"#E5ECF6\", \"caxis\": {\"gridcolor\": \"white\", \"linecolor\": \"white\", \"ticks\": \"\"}}, \"title\": {\"x\": 0.05}, \"xaxis\": {\"automargin\": true, \"gridcolor\": \"white\", \"linecolor\": \"white\", \"ticks\": \"\", \"title\": {\"standoff\": 15}, \"zerolinecolor\": \"white\", \"zerolinewidth\": 2}, \"yaxis\": {\"automargin\": true, \"gridcolor\": \"white\", \"linecolor\": \"white\", \"ticks\": \"\", \"title\": {\"standoff\": 15}, \"zerolinecolor\": \"white\", \"zerolinewidth\": 2}}}, \"title\": {\"text\": \"Number of Fish Trapped using circular trap model at Comox Harbour\"}, \"xaxis\": {\"anchor\": \"y\", \"domain\": [0.0, 1.0], \"ticktext\": [0, 1, 2, 3, 4, 5, 6, 7], \"tickvals\": [0, 24, 48, 72, 96, 120, 144, 168], \"title\": {\"text\": \"Time (Days Since Start)\"}}, \"yaxis\": {\"anchor\": \"x\", \"domain\": [0.0, 1.0], \"title\": {\"text\": \"Number of trapped fish\"}}},\n",
       "                        {\"responsive\": true}\n",
       "                    ).then(function(){\n",
       "                            \n",
       "var gd = document.getElementById('d18f9489-152f-4aba-9482-36101d581099');\n",
       "var x = new MutationObserver(function (mutations, observer) {{\n",
       "        var display = window.getComputedStyle(gd).display;\n",
       "        if (!display || display === 'none') {{\n",
       "            console.log([gd, 'removed!']);\n",
       "            Plotly.purge(gd);\n",
       "            observer.disconnect();\n",
       "        }}\n",
       "}});\n",
       "\n",
       "// Listen for the removal of the full notebook cells\n",
       "var notebookContainer = gd.closest('#notebook-container');\n",
       "if (notebookContainer) {{\n",
       "    x.observe(notebookContainer, {childList: true});\n",
       "}}\n",
       "\n",
       "// Listen for the clearing of the current output cell\n",
       "var outputEl = gd.closest('.output');\n",
       "if (outputEl) {{\n",
       "    x.observe(outputEl, {childList: true});\n",
       "}}\n",
       "\n",
       "                        })\n",
       "                };\n",
       "                });\n",
       "            </script>\n",
       "        </div>"
      ]
     },
     "metadata": {},
     "output_type": "display_data"
    }
   ],
   "source": [
    "plot_caught_fish(fish_simulation)"
   ]
  },
  {
   "cell_type": "code",
   "execution_count": 64,
   "metadata": {},
   "outputs": [
    {
     "data": {
      "application/vnd.plotly.v1+json": {
       "config": {
        "plotlyServerURL": "https://plot.ly"
       },
       "data": [
        {
         "name": "tide",
         "type": "scatter",
         "x": [
          0,
          1,
          2,
          3,
          4,
          5,
          6,
          7,
          8,
          9,
          10,
          11,
          12,
          13,
          14,
          15,
          16,
          17,
          18,
          19,
          20,
          21,
          22,
          23,
          24,
          25,
          26,
          27,
          28,
          29,
          30,
          31,
          32,
          33,
          34,
          35,
          36,
          37,
          38,
          39,
          40,
          41,
          42,
          43,
          44,
          45,
          46,
          47,
          48,
          49,
          50,
          51,
          52,
          53,
          54,
          55,
          56,
          57,
          58,
          59,
          60,
          61,
          62,
          63,
          64,
          65,
          66,
          67,
          68,
          69,
          70,
          71,
          72,
          73,
          74,
          75,
          76,
          77,
          78,
          79,
          80,
          81,
          82,
          83,
          84,
          85,
          86,
          87,
          88,
          89,
          90,
          91,
          92,
          93,
          94,
          95,
          96,
          97,
          98,
          99,
          100,
          101,
          102,
          103,
          104,
          105,
          106,
          107,
          108,
          109,
          110,
          111,
          112,
          113,
          114,
          115,
          116,
          117,
          118,
          119,
          120,
          121,
          122,
          123,
          124,
          125,
          126,
          127,
          128,
          129,
          130,
          131,
          132,
          133,
          134,
          135,
          136,
          137,
          138,
          139,
          140,
          141,
          142,
          143,
          144,
          145,
          146,
          147,
          148,
          149,
          150,
          151,
          152,
          153,
          154,
          155,
          156,
          157,
          158,
          159,
          160,
          161,
          162,
          163,
          164,
          165,
          166,
          167
         ],
         "y": [
          4.3,
          4.6,
          4.7,
          4.5,
          4.3,
          3.9,
          3.6,
          3.4,
          3.3,
          3.4,
          3.5,
          3.6,
          3.6,
          3.5,
          3.2,
          2.9,
          2.4,
          2,
          1.7,
          1.5,
          1.7,
          2.1,
          2.6,
          3.3,
          3.9,
          4.4,
          4.7,
          4.7,
          4.5,
          4.2,
          3.7,
          3.3,
          3.1,
          3,
          3.1,
          3.2,
          3.5,
          3.6,
          3.6,
          3.4,
          3.1,
          2.6,
          2.2,
          1.8,
          1.7,
          1.8,
          2.2,
          2.8,
          3.4,
          4.1,
          4.6,
          4.8,
          4.7,
          4.4,
          3.9,
          3.4,
          2.9,
          2.6,
          2.6,
          2.7,
          3.1,
          3.4,
          3.7,
          3.8,
          3.7,
          3.3,
          2.9,
          2.4,
          2,
          1.8,
          1.9,
          2.3,
          3,
          3.7,
          4.3,
          4.7,
          4.8,
          4.6,
          4.2,
          3.6,
          3,
          2.4,
          2.1,
          2.1,
          2.4,
          2.9,
          3.4,
          3.9,
          4.1,
          4,
          3.6,
          3.2,
          2.7,
          2.2,
          2,
          2.2,
          2.6,
          3.2,
          3.9,
          4.5,
          4.9,
          4.8,
          4.5,
          3.9,
          3.2,
          2.4,
          1.9,
          1.6,
          1.7,
          2.2,
          2.8,
          3.5,
          4.1,
          4.3,
          4.2,
          3.9,
          3.4,
          2.9,
          2.5,
          2.3,
          2.5,
          2.9,
          3.6,
          4.2,
          4.7,
          4.9,
          4.7,
          4.2,
          3.5,
          2.7,
          1.9,
          1.3,
          1.1,
          1.4,
          2,
          2.8,
          3.7,
          4.3,
          4.6,
          4.5,
          4.2,
          3.7,
          3.2,
          2.7,
          2.6,
          2.8,
          3.3,
          3.9,
          4.5,
          4.9,
          4.9,
          4.5,
          3.9,
          3,
          2.1,
          1.3,
          0.8,
          0.8,
          1.2,
          2,
          2.9,
          3.9,
          4.5,
          4.8,
          4.7,
          4.4,
          3.9,
          3.4
         ]
        },
        {
         "name": "Trap",
         "type": "scatter",
         "x": [
          0,
          1,
          2,
          3,
          4,
          5,
          6,
          7,
          8,
          9,
          10,
          11,
          12,
          13,
          14,
          15,
          16,
          17,
          18,
          19,
          20,
          21,
          22,
          23,
          24,
          25,
          26,
          27,
          28,
          29,
          30,
          31,
          32,
          33,
          34,
          35,
          36,
          37,
          38,
          39,
          40,
          41,
          42,
          43,
          44,
          45,
          46,
          47,
          48,
          49,
          50,
          51,
          52,
          53,
          54,
          55,
          56,
          57,
          58,
          59,
          60,
          61,
          62,
          63,
          64,
          65,
          66,
          67,
          68,
          69,
          70,
          71,
          72,
          73,
          74,
          75,
          76,
          77,
          78,
          79,
          80,
          81,
          82,
          83,
          84,
          85,
          86,
          87,
          88,
          89,
          90,
          91,
          92,
          93,
          94,
          95,
          96,
          97,
          98,
          99,
          100,
          101,
          102,
          103,
          104,
          105,
          106,
          107,
          108,
          109,
          110,
          111,
          112,
          113,
          114,
          115,
          116,
          117,
          118,
          119,
          120,
          121,
          122,
          123,
          124,
          125,
          126,
          127,
          128,
          129,
          130,
          131,
          132,
          133,
          134,
          135,
          136,
          137,
          138,
          139,
          140,
          141,
          142,
          143,
          144,
          145,
          146,
          147,
          148,
          149,
          150,
          151,
          152,
          153,
          154,
          155,
          156,
          157,
          158,
          159,
          160,
          161,
          162,
          163,
          164,
          165,
          166,
          167,
          168
         ],
         "y": [
          0,
          26,
          53,
          80,
          103,
          123,
          140,
          153,
          163,
          172,
          182,
          192,
          203,
          214,
          223,
          230,
          0,
          0,
          0,
          0,
          0,
          0,
          0,
          0,
          14,
          35,
          60,
          86,
          111,
          132,
          150,
          164,
          173,
          180,
          184,
          190,
          197,
          207,
          218,
          228,
          236,
          241,
          0,
          0,
          0,
          0,
          0,
          0,
          0,
          15,
          38,
          64,
          91,
          116,
          136,
          152,
          162,
          0,
          0,
          0,
          0,
          10,
          24,
          43,
          62,
          79,
          90,
          0,
          0,
          0,
          0,
          0,
          0,
          7,
          26,
          50,
          77,
          103,
          126,
          145,
          157,
          162,
          0,
          0,
          0,
          0,
          0,
          15,
          36,
          58,
          78,
          93,
          102,
          0,
          0,
          0,
          0,
          0,
          12,
          33,
          59,
          87,
          112,
          134,
          150,
          158,
          0,
          0,
          0,
          0,
          0,
          0,
          17,
          40,
          63,
          85,
          103,
          115,
          0,
          0,
          0,
          0,
          0,
          18,
          42,
          69,
          96,
          120,
          139,
          151,
          0,
          0,
          0,
          0,
          0,
          0,
          0,
          20,
          44,
          71,
          95,
          115,
          130,
          138,
          0,
          0,
          0,
          14,
          35,
          61,
          89,
          115,
          136,
          152,
          157,
          0,
          0,
          0,
          0,
          0,
          0,
          0,
          22,
          48,
          76,
          101,
          123,
          139,
          150
         ],
         "yaxis": "y2"
        }
       ],
       "layout": {
        "showlegend": false,
        "template": {
         "data": {
          "bar": [
           {
            "error_x": {
             "color": "#2a3f5f"
            },
            "error_y": {
             "color": "#2a3f5f"
            },
            "marker": {
             "line": {
              "color": "#E5ECF6",
              "width": 0.5
             }
            },
            "type": "bar"
           }
          ],
          "barpolar": [
           {
            "marker": {
             "line": {
              "color": "#E5ECF6",
              "width": 0.5
             }
            },
            "type": "barpolar"
           }
          ],
          "carpet": [
           {
            "aaxis": {
             "endlinecolor": "#2a3f5f",
             "gridcolor": "white",
             "linecolor": "white",
             "minorgridcolor": "white",
             "startlinecolor": "#2a3f5f"
            },
            "baxis": {
             "endlinecolor": "#2a3f5f",
             "gridcolor": "white",
             "linecolor": "white",
             "minorgridcolor": "white",
             "startlinecolor": "#2a3f5f"
            },
            "type": "carpet"
           }
          ],
          "choropleth": [
           {
            "colorbar": {
             "outlinewidth": 0,
             "ticks": ""
            },
            "type": "choropleth"
           }
          ],
          "contour": [
           {
            "colorbar": {
             "outlinewidth": 0,
             "ticks": ""
            },
            "colorscale": [
             [
              0,
              "#0d0887"
             ],
             [
              0.1111111111111111,
              "#46039f"
             ],
             [
              0.2222222222222222,
              "#7201a8"
             ],
             [
              0.3333333333333333,
              "#9c179e"
             ],
             [
              0.4444444444444444,
              "#bd3786"
             ],
             [
              0.5555555555555556,
              "#d8576b"
             ],
             [
              0.6666666666666666,
              "#ed7953"
             ],
             [
              0.7777777777777778,
              "#fb9f3a"
             ],
             [
              0.8888888888888888,
              "#fdca26"
             ],
             [
              1,
              "#f0f921"
             ]
            ],
            "type": "contour"
           }
          ],
          "contourcarpet": [
           {
            "colorbar": {
             "outlinewidth": 0,
             "ticks": ""
            },
            "type": "contourcarpet"
           }
          ],
          "heatmap": [
           {
            "colorbar": {
             "outlinewidth": 0,
             "ticks": ""
            },
            "colorscale": [
             [
              0,
              "#0d0887"
             ],
             [
              0.1111111111111111,
              "#46039f"
             ],
             [
              0.2222222222222222,
              "#7201a8"
             ],
             [
              0.3333333333333333,
              "#9c179e"
             ],
             [
              0.4444444444444444,
              "#bd3786"
             ],
             [
              0.5555555555555556,
              "#d8576b"
             ],
             [
              0.6666666666666666,
              "#ed7953"
             ],
             [
              0.7777777777777778,
              "#fb9f3a"
             ],
             [
              0.8888888888888888,
              "#fdca26"
             ],
             [
              1,
              "#f0f921"
             ]
            ],
            "type": "heatmap"
           }
          ],
          "heatmapgl": [
           {
            "colorbar": {
             "outlinewidth": 0,
             "ticks": ""
            },
            "colorscale": [
             [
              0,
              "#0d0887"
             ],
             [
              0.1111111111111111,
              "#46039f"
             ],
             [
              0.2222222222222222,
              "#7201a8"
             ],
             [
              0.3333333333333333,
              "#9c179e"
             ],
             [
              0.4444444444444444,
              "#bd3786"
             ],
             [
              0.5555555555555556,
              "#d8576b"
             ],
             [
              0.6666666666666666,
              "#ed7953"
             ],
             [
              0.7777777777777778,
              "#fb9f3a"
             ],
             [
              0.8888888888888888,
              "#fdca26"
             ],
             [
              1,
              "#f0f921"
             ]
            ],
            "type": "heatmapgl"
           }
          ],
          "histogram": [
           {
            "marker": {
             "colorbar": {
              "outlinewidth": 0,
              "ticks": ""
             }
            },
            "type": "histogram"
           }
          ],
          "histogram2d": [
           {
            "colorbar": {
             "outlinewidth": 0,
             "ticks": ""
            },
            "colorscale": [
             [
              0,
              "#0d0887"
             ],
             [
              0.1111111111111111,
              "#46039f"
             ],
             [
              0.2222222222222222,
              "#7201a8"
             ],
             [
              0.3333333333333333,
              "#9c179e"
             ],
             [
              0.4444444444444444,
              "#bd3786"
             ],
             [
              0.5555555555555556,
              "#d8576b"
             ],
             [
              0.6666666666666666,
              "#ed7953"
             ],
             [
              0.7777777777777778,
              "#fb9f3a"
             ],
             [
              0.8888888888888888,
              "#fdca26"
             ],
             [
              1,
              "#f0f921"
             ]
            ],
            "type": "histogram2d"
           }
          ],
          "histogram2dcontour": [
           {
            "colorbar": {
             "outlinewidth": 0,
             "ticks": ""
            },
            "colorscale": [
             [
              0,
              "#0d0887"
             ],
             [
              0.1111111111111111,
              "#46039f"
             ],
             [
              0.2222222222222222,
              "#7201a8"
             ],
             [
              0.3333333333333333,
              "#9c179e"
             ],
             [
              0.4444444444444444,
              "#bd3786"
             ],
             [
              0.5555555555555556,
              "#d8576b"
             ],
             [
              0.6666666666666666,
              "#ed7953"
             ],
             [
              0.7777777777777778,
              "#fb9f3a"
             ],
             [
              0.8888888888888888,
              "#fdca26"
             ],
             [
              1,
              "#f0f921"
             ]
            ],
            "type": "histogram2dcontour"
           }
          ],
          "mesh3d": [
           {
            "colorbar": {
             "outlinewidth": 0,
             "ticks": ""
            },
            "type": "mesh3d"
           }
          ],
          "parcoords": [
           {
            "line": {
             "colorbar": {
              "outlinewidth": 0,
              "ticks": ""
             }
            },
            "type": "parcoords"
           }
          ],
          "pie": [
           {
            "automargin": true,
            "type": "pie"
           }
          ],
          "scatter": [
           {
            "marker": {
             "colorbar": {
              "outlinewidth": 0,
              "ticks": ""
             }
            },
            "type": "scatter"
           }
          ],
          "scatter3d": [
           {
            "line": {
             "colorbar": {
              "outlinewidth": 0,
              "ticks": ""
             }
            },
            "marker": {
             "colorbar": {
              "outlinewidth": 0,
              "ticks": ""
             }
            },
            "type": "scatter3d"
           }
          ],
          "scattercarpet": [
           {
            "marker": {
             "colorbar": {
              "outlinewidth": 0,
              "ticks": ""
             }
            },
            "type": "scattercarpet"
           }
          ],
          "scattergeo": [
           {
            "marker": {
             "colorbar": {
              "outlinewidth": 0,
              "ticks": ""
             }
            },
            "type": "scattergeo"
           }
          ],
          "scattergl": [
           {
            "marker": {
             "colorbar": {
              "outlinewidth": 0,
              "ticks": ""
             }
            },
            "type": "scattergl"
           }
          ],
          "scattermapbox": [
           {
            "marker": {
             "colorbar": {
              "outlinewidth": 0,
              "ticks": ""
             }
            },
            "type": "scattermapbox"
           }
          ],
          "scatterpolar": [
           {
            "marker": {
             "colorbar": {
              "outlinewidth": 0,
              "ticks": ""
             }
            },
            "type": "scatterpolar"
           }
          ],
          "scatterpolargl": [
           {
            "marker": {
             "colorbar": {
              "outlinewidth": 0,
              "ticks": ""
             }
            },
            "type": "scatterpolargl"
           }
          ],
          "scatterternary": [
           {
            "marker": {
             "colorbar": {
              "outlinewidth": 0,
              "ticks": ""
             }
            },
            "type": "scatterternary"
           }
          ],
          "surface": [
           {
            "colorbar": {
             "outlinewidth": 0,
             "ticks": ""
            },
            "colorscale": [
             [
              0,
              "#0d0887"
             ],
             [
              0.1111111111111111,
              "#46039f"
             ],
             [
              0.2222222222222222,
              "#7201a8"
             ],
             [
              0.3333333333333333,
              "#9c179e"
             ],
             [
              0.4444444444444444,
              "#bd3786"
             ],
             [
              0.5555555555555556,
              "#d8576b"
             ],
             [
              0.6666666666666666,
              "#ed7953"
             ],
             [
              0.7777777777777778,
              "#fb9f3a"
             ],
             [
              0.8888888888888888,
              "#fdca26"
             ],
             [
              1,
              "#f0f921"
             ]
            ],
            "type": "surface"
           }
          ],
          "table": [
           {
            "cells": {
             "fill": {
              "color": "#EBF0F8"
             },
             "line": {
              "color": "white"
             }
            },
            "header": {
             "fill": {
              "color": "#C8D4E3"
             },
             "line": {
              "color": "white"
             }
            },
            "type": "table"
           }
          ]
         },
         "layout": {
          "annotationdefaults": {
           "arrowcolor": "#2a3f5f",
           "arrowhead": 0,
           "arrowwidth": 1
          },
          "coloraxis": {
           "colorbar": {
            "outlinewidth": 0,
            "ticks": ""
           }
          },
          "colorscale": {
           "diverging": [
            [
             0,
             "#8e0152"
            ],
            [
             0.1,
             "#c51b7d"
            ],
            [
             0.2,
             "#de77ae"
            ],
            [
             0.3,
             "#f1b6da"
            ],
            [
             0.4,
             "#fde0ef"
            ],
            [
             0.5,
             "#f7f7f7"
            ],
            [
             0.6,
             "#e6f5d0"
            ],
            [
             0.7,
             "#b8e186"
            ],
            [
             0.8,
             "#7fbc41"
            ],
            [
             0.9,
             "#4d9221"
            ],
            [
             1,
             "#276419"
            ]
           ],
           "sequential": [
            [
             0,
             "#0d0887"
            ],
            [
             0.1111111111111111,
             "#46039f"
            ],
            [
             0.2222222222222222,
             "#7201a8"
            ],
            [
             0.3333333333333333,
             "#9c179e"
            ],
            [
             0.4444444444444444,
             "#bd3786"
            ],
            [
             0.5555555555555556,
             "#d8576b"
            ],
            [
             0.6666666666666666,
             "#ed7953"
            ],
            [
             0.7777777777777778,
             "#fb9f3a"
            ],
            [
             0.8888888888888888,
             "#fdca26"
            ],
            [
             1,
             "#f0f921"
            ]
           ],
           "sequentialminus": [
            [
             0,
             "#0d0887"
            ],
            [
             0.1111111111111111,
             "#46039f"
            ],
            [
             0.2222222222222222,
             "#7201a8"
            ],
            [
             0.3333333333333333,
             "#9c179e"
            ],
            [
             0.4444444444444444,
             "#bd3786"
            ],
            [
             0.5555555555555556,
             "#d8576b"
            ],
            [
             0.6666666666666666,
             "#ed7953"
            ],
            [
             0.7777777777777778,
             "#fb9f3a"
            ],
            [
             0.8888888888888888,
             "#fdca26"
            ],
            [
             1,
             "#f0f921"
            ]
           ]
          },
          "colorway": [
           "#636efa",
           "#EF553B",
           "#00cc96",
           "#ab63fa",
           "#FFA15A",
           "#19d3f3",
           "#FF6692",
           "#B6E880",
           "#FF97FF",
           "#FECB52"
          ],
          "font": {
           "color": "#2a3f5f"
          },
          "geo": {
           "bgcolor": "white",
           "lakecolor": "white",
           "landcolor": "#E5ECF6",
           "showlakes": true,
           "showland": true,
           "subunitcolor": "white"
          },
          "hoverlabel": {
           "align": "left"
          },
          "hovermode": "closest",
          "mapbox": {
           "style": "light"
          },
          "paper_bgcolor": "white",
          "plot_bgcolor": "#E5ECF6",
          "polar": {
           "angularaxis": {
            "gridcolor": "white",
            "linecolor": "white",
            "ticks": ""
           },
           "bgcolor": "#E5ECF6",
           "radialaxis": {
            "gridcolor": "white",
            "linecolor": "white",
            "ticks": ""
           }
          },
          "scene": {
           "xaxis": {
            "backgroundcolor": "#E5ECF6",
            "gridcolor": "white",
            "gridwidth": 2,
            "linecolor": "white",
            "showbackground": true,
            "ticks": "",
            "zerolinecolor": "white"
           },
           "yaxis": {
            "backgroundcolor": "#E5ECF6",
            "gridcolor": "white",
            "gridwidth": 2,
            "linecolor": "white",
            "showbackground": true,
            "ticks": "",
            "zerolinecolor": "white"
           },
           "zaxis": {
            "backgroundcolor": "#E5ECF6",
            "gridcolor": "white",
            "gridwidth": 2,
            "linecolor": "white",
            "showbackground": true,
            "ticks": "",
            "zerolinecolor": "white"
           }
          },
          "shapedefaults": {
           "line": {
            "color": "#2a3f5f"
           }
          },
          "ternary": {
           "aaxis": {
            "gridcolor": "white",
            "linecolor": "white",
            "ticks": ""
           },
           "baxis": {
            "gridcolor": "white",
            "linecolor": "white",
            "ticks": ""
           },
           "bgcolor": "#E5ECF6",
           "caxis": {
            "gridcolor": "white",
            "linecolor": "white",
            "ticks": ""
           }
          },
          "title": {
           "x": 0.05
          },
          "xaxis": {
           "automargin": true,
           "gridcolor": "white",
           "linecolor": "white",
           "ticks": "",
           "title": {
            "standoff": 15
           },
           "zerolinecolor": "white",
           "zerolinewidth": 2
          },
          "yaxis": {
           "automargin": true,
           "gridcolor": "white",
           "linecolor": "white",
           "ticks": "",
           "title": {
            "standoff": 15
           },
           "zerolinecolor": "white",
           "zerolinewidth": 2
          }
         }
        },
        "title": {
         "text": "Number of fish trapped vs tide level"
        },
        "yaxis": {
         "showgrid": true,
         "tickfont": {
          "color": "blue"
         },
         "title": {
          "font": {
           "color": "blue"
          },
          "text": "Tide level"
         }
        },
        "yaxis2": {
         "overlaying": "y",
         "showgrid": true,
         "side": "right",
         "tickfont": {
          "color": "red"
         },
         "title": {
          "font": {
           "color": "red"
          },
          "text": "Number of fish in trap"
         }
        }
       }
      },
      "text/html": [
       "<div>\n",
       "        \n",
       "        \n",
       "            <div id=\"a65e0042-ab40-4bcf-80a1-87e754a24e74\" class=\"plotly-graph-div\" style=\"height:525px; width:100%;\"></div>\n",
       "            <script type=\"text/javascript\">\n",
       "                require([\"plotly\"], function(Plotly) {\n",
       "                    window.PLOTLYENV=window.PLOTLYENV || {};\n",
       "                    \n",
       "                if (document.getElementById(\"a65e0042-ab40-4bcf-80a1-87e754a24e74\")) {\n",
       "                    Plotly.newPlot(\n",
       "                        'a65e0042-ab40-4bcf-80a1-87e754a24e74',\n",
       "                        [{\"name\": \"tide\", \"type\": \"scatter\", \"x\": [0, 1, 2, 3, 4, 5, 6, 7, 8, 9, 10, 11, 12, 13, 14, 15, 16, 17, 18, 19, 20, 21, 22, 23, 24, 25, 26, 27, 28, 29, 30, 31, 32, 33, 34, 35, 36, 37, 38, 39, 40, 41, 42, 43, 44, 45, 46, 47, 48, 49, 50, 51, 52, 53, 54, 55, 56, 57, 58, 59, 60, 61, 62, 63, 64, 65, 66, 67, 68, 69, 70, 71, 72, 73, 74, 75, 76, 77, 78, 79, 80, 81, 82, 83, 84, 85, 86, 87, 88, 89, 90, 91, 92, 93, 94, 95, 96, 97, 98, 99, 100, 101, 102, 103, 104, 105, 106, 107, 108, 109, 110, 111, 112, 113, 114, 115, 116, 117, 118, 119, 120, 121, 122, 123, 124, 125, 126, 127, 128, 129, 130, 131, 132, 133, 134, 135, 136, 137, 138, 139, 140, 141, 142, 143, 144, 145, 146, 147, 148, 149, 150, 151, 152, 153, 154, 155, 156, 157, 158, 159, 160, 161, 162, 163, 164, 165, 166, 167], \"y\": [4.3, 4.6, 4.7, 4.5, 4.3, 3.9, 3.6, 3.4, 3.3, 3.4, 3.5, 3.6, 3.6, 3.5, 3.2, 2.9, 2.4, 2.0, 1.7, 1.5, 1.7, 2.1, 2.6, 3.3, 3.9, 4.4, 4.7, 4.7, 4.5, 4.2, 3.7, 3.3, 3.1, 3.0, 3.1, 3.2, 3.5, 3.6, 3.6, 3.4, 3.1, 2.6, 2.2, 1.8, 1.7, 1.8, 2.2, 2.8, 3.4, 4.1, 4.6, 4.8, 4.7, 4.4, 3.9, 3.4, 2.9, 2.6, 2.6, 2.7, 3.1, 3.4, 3.7, 3.8, 3.7, 3.3, 2.9, 2.4, 2.0, 1.8, 1.9, 2.3, 3.0, 3.7, 4.3, 4.7, 4.8, 4.6, 4.2, 3.6, 3.0, 2.4, 2.1, 2.1, 2.4, 2.9, 3.4, 3.9, 4.1, 4.0, 3.6, 3.2, 2.7, 2.2, 2.0, 2.2, 2.6, 3.2, 3.9, 4.5, 4.9, 4.8, 4.5, 3.9, 3.2, 2.4, 1.9, 1.6, 1.7, 2.2, 2.8, 3.5, 4.1, 4.3, 4.2, 3.9, 3.4, 2.9, 2.5, 2.3, 2.5, 2.9, 3.6, 4.2, 4.7, 4.9, 4.7, 4.2, 3.5, 2.7, 1.9, 1.3, 1.1, 1.4, 2.0, 2.8, 3.7, 4.3, 4.6, 4.5, 4.2, 3.7, 3.2, 2.7, 2.6, 2.8, 3.3, 3.9, 4.5, 4.9, 4.9, 4.5, 3.9, 3.0, 2.1, 1.3, 0.8, 0.8, 1.2, 2.0, 2.9, 3.9, 4.5, 4.8, 4.7, 4.4, 3.9, 3.4]}, {\"name\": \"Trap\", \"type\": \"scatter\", \"x\": [0, 1, 2, 3, 4, 5, 6, 7, 8, 9, 10, 11, 12, 13, 14, 15, 16, 17, 18, 19, 20, 21, 22, 23, 24, 25, 26, 27, 28, 29, 30, 31, 32, 33, 34, 35, 36, 37, 38, 39, 40, 41, 42, 43, 44, 45, 46, 47, 48, 49, 50, 51, 52, 53, 54, 55, 56, 57, 58, 59, 60, 61, 62, 63, 64, 65, 66, 67, 68, 69, 70, 71, 72, 73, 74, 75, 76, 77, 78, 79, 80, 81, 82, 83, 84, 85, 86, 87, 88, 89, 90, 91, 92, 93, 94, 95, 96, 97, 98, 99, 100, 101, 102, 103, 104, 105, 106, 107, 108, 109, 110, 111, 112, 113, 114, 115, 116, 117, 118, 119, 120, 121, 122, 123, 124, 125, 126, 127, 128, 129, 130, 131, 132, 133, 134, 135, 136, 137, 138, 139, 140, 141, 142, 143, 144, 145, 146, 147, 148, 149, 150, 151, 152, 153, 154, 155, 156, 157, 158, 159, 160, 161, 162, 163, 164, 165, 166, 167, 168], \"y\": [0.0, 26.0, 53.0, 80.0, 103.0, 123.0, 140.0, 153.0, 163.0, 172.0, 182.0, 192.0, 203.0, 214.0, 223.0, 230.0, 0.0, 0.0, 0.0, 0.0, 0.0, 0.0, 0.0, 0.0, 14.0, 35.0, 60.0, 86.0, 111.0, 132.0, 150.0, 164.0, 173.0, 180.0, 184.0, 190.0, 197.0, 207.0, 218.0, 228.0, 236.0, 241.0, 0.0, 0.0, 0.0, 0.0, 0.0, 0.0, 0.0, 15.0, 38.0, 64.0, 91.0, 116.0, 136.0, 152.0, 162.0, 0.0, 0.0, 0.0, 0.0, 10.0, 24.0, 43.0, 62.0, 79.0, 90.0, 0.0, 0.0, 0.0, 0.0, 0.0, 0.0, 7.0, 26.0, 50.0, 77.0, 103.0, 126.0, 145.0, 157.0, 162.0, 0.0, 0.0, 0.0, 0.0, 0.0, 15.0, 36.0, 58.0, 78.0, 93.0, 102.0, 0.0, 0.0, 0.0, 0.0, 0.0, 12.0, 33.0, 59.0, 87.0, 112.0, 134.0, 150.0, 158.0, 0.0, 0.0, 0.0, 0.0, 0.0, 0.0, 17.0, 40.0, 63.0, 85.0, 103.0, 115.0, 0.0, 0.0, 0.0, 0.0, 0.0, 18.0, 42.0, 69.0, 96.0, 120.0, 139.0, 151.0, 0.0, 0.0, 0.0, 0.0, 0.0, 0.0, 0.0, 20.0, 44.0, 71.0, 95.0, 115.0, 130.0, 138.0, 0.0, 0.0, 0.0, 14.0, 35.0, 61.0, 89.0, 115.0, 136.0, 152.0, 157.0, 0.0, 0.0, 0.0, 0.0, 0.0, 0.0, 0.0, 22.0, 48.0, 76.0, 101.0, 123.0, 139.0, 150.0], \"yaxis\": \"y2\"}],\n",
       "                        {\"showlegend\": false, \"template\": {\"data\": {\"bar\": [{\"error_x\": {\"color\": \"#2a3f5f\"}, \"error_y\": {\"color\": \"#2a3f5f\"}, \"marker\": {\"line\": {\"color\": \"#E5ECF6\", \"width\": 0.5}}, \"type\": \"bar\"}], \"barpolar\": [{\"marker\": {\"line\": {\"color\": \"#E5ECF6\", \"width\": 0.5}}, \"type\": \"barpolar\"}], \"carpet\": [{\"aaxis\": {\"endlinecolor\": \"#2a3f5f\", \"gridcolor\": \"white\", \"linecolor\": \"white\", \"minorgridcolor\": \"white\", \"startlinecolor\": \"#2a3f5f\"}, \"baxis\": {\"endlinecolor\": \"#2a3f5f\", \"gridcolor\": \"white\", \"linecolor\": \"white\", \"minorgridcolor\": \"white\", \"startlinecolor\": \"#2a3f5f\"}, \"type\": \"carpet\"}], \"choropleth\": [{\"colorbar\": {\"outlinewidth\": 0, \"ticks\": \"\"}, \"type\": \"choropleth\"}], \"contour\": [{\"colorbar\": {\"outlinewidth\": 0, \"ticks\": \"\"}, \"colorscale\": [[0.0, \"#0d0887\"], [0.1111111111111111, \"#46039f\"], [0.2222222222222222, \"#7201a8\"], [0.3333333333333333, \"#9c179e\"], [0.4444444444444444, \"#bd3786\"], [0.5555555555555556, \"#d8576b\"], [0.6666666666666666, \"#ed7953\"], [0.7777777777777778, \"#fb9f3a\"], [0.8888888888888888, \"#fdca26\"], [1.0, \"#f0f921\"]], \"type\": \"contour\"}], \"contourcarpet\": [{\"colorbar\": {\"outlinewidth\": 0, \"ticks\": \"\"}, \"type\": \"contourcarpet\"}], \"heatmap\": [{\"colorbar\": {\"outlinewidth\": 0, \"ticks\": \"\"}, \"colorscale\": [[0.0, \"#0d0887\"], [0.1111111111111111, \"#46039f\"], [0.2222222222222222, \"#7201a8\"], [0.3333333333333333, \"#9c179e\"], [0.4444444444444444, \"#bd3786\"], [0.5555555555555556, \"#d8576b\"], [0.6666666666666666, \"#ed7953\"], [0.7777777777777778, \"#fb9f3a\"], [0.8888888888888888, \"#fdca26\"], [1.0, \"#f0f921\"]], \"type\": \"heatmap\"}], \"heatmapgl\": [{\"colorbar\": {\"outlinewidth\": 0, \"ticks\": \"\"}, \"colorscale\": [[0.0, \"#0d0887\"], [0.1111111111111111, \"#46039f\"], [0.2222222222222222, \"#7201a8\"], [0.3333333333333333, \"#9c179e\"], [0.4444444444444444, \"#bd3786\"], [0.5555555555555556, \"#d8576b\"], [0.6666666666666666, \"#ed7953\"], [0.7777777777777778, \"#fb9f3a\"], [0.8888888888888888, \"#fdca26\"], [1.0, \"#f0f921\"]], \"type\": \"heatmapgl\"}], \"histogram\": [{\"marker\": {\"colorbar\": {\"outlinewidth\": 0, \"ticks\": \"\"}}, \"type\": \"histogram\"}], \"histogram2d\": [{\"colorbar\": {\"outlinewidth\": 0, \"ticks\": \"\"}, \"colorscale\": [[0.0, \"#0d0887\"], [0.1111111111111111, \"#46039f\"], [0.2222222222222222, \"#7201a8\"], [0.3333333333333333, \"#9c179e\"], [0.4444444444444444, \"#bd3786\"], [0.5555555555555556, \"#d8576b\"], [0.6666666666666666, \"#ed7953\"], [0.7777777777777778, \"#fb9f3a\"], [0.8888888888888888, \"#fdca26\"], [1.0, \"#f0f921\"]], \"type\": \"histogram2d\"}], \"histogram2dcontour\": [{\"colorbar\": {\"outlinewidth\": 0, \"ticks\": \"\"}, \"colorscale\": [[0.0, \"#0d0887\"], [0.1111111111111111, \"#46039f\"], [0.2222222222222222, \"#7201a8\"], [0.3333333333333333, \"#9c179e\"], [0.4444444444444444, \"#bd3786\"], [0.5555555555555556, \"#d8576b\"], [0.6666666666666666, \"#ed7953\"], [0.7777777777777778, \"#fb9f3a\"], [0.8888888888888888, \"#fdca26\"], [1.0, \"#f0f921\"]], \"type\": \"histogram2dcontour\"}], \"mesh3d\": [{\"colorbar\": {\"outlinewidth\": 0, \"ticks\": \"\"}, \"type\": \"mesh3d\"}], \"parcoords\": [{\"line\": {\"colorbar\": {\"outlinewidth\": 0, \"ticks\": \"\"}}, \"type\": \"parcoords\"}], \"pie\": [{\"automargin\": true, \"type\": \"pie\"}], \"scatter\": [{\"marker\": {\"colorbar\": {\"outlinewidth\": 0, \"ticks\": \"\"}}, \"type\": \"scatter\"}], \"scatter3d\": [{\"line\": {\"colorbar\": {\"outlinewidth\": 0, \"ticks\": \"\"}}, \"marker\": {\"colorbar\": {\"outlinewidth\": 0, \"ticks\": \"\"}}, \"type\": \"scatter3d\"}], \"scattercarpet\": [{\"marker\": {\"colorbar\": {\"outlinewidth\": 0, \"ticks\": \"\"}}, \"type\": \"scattercarpet\"}], \"scattergeo\": [{\"marker\": {\"colorbar\": {\"outlinewidth\": 0, \"ticks\": \"\"}}, \"type\": \"scattergeo\"}], \"scattergl\": [{\"marker\": {\"colorbar\": {\"outlinewidth\": 0, \"ticks\": \"\"}}, \"type\": \"scattergl\"}], \"scattermapbox\": [{\"marker\": {\"colorbar\": {\"outlinewidth\": 0, \"ticks\": \"\"}}, \"type\": \"scattermapbox\"}], \"scatterpolar\": [{\"marker\": {\"colorbar\": {\"outlinewidth\": 0, \"ticks\": \"\"}}, \"type\": \"scatterpolar\"}], \"scatterpolargl\": [{\"marker\": {\"colorbar\": {\"outlinewidth\": 0, \"ticks\": \"\"}}, \"type\": \"scatterpolargl\"}], \"scatterternary\": [{\"marker\": {\"colorbar\": {\"outlinewidth\": 0, \"ticks\": \"\"}}, \"type\": \"scatterternary\"}], \"surface\": [{\"colorbar\": {\"outlinewidth\": 0, \"ticks\": \"\"}, \"colorscale\": [[0.0, \"#0d0887\"], [0.1111111111111111, \"#46039f\"], [0.2222222222222222, \"#7201a8\"], [0.3333333333333333, \"#9c179e\"], [0.4444444444444444, \"#bd3786\"], [0.5555555555555556, \"#d8576b\"], [0.6666666666666666, \"#ed7953\"], [0.7777777777777778, \"#fb9f3a\"], [0.8888888888888888, \"#fdca26\"], [1.0, \"#f0f921\"]], \"type\": \"surface\"}], \"table\": [{\"cells\": {\"fill\": {\"color\": \"#EBF0F8\"}, \"line\": {\"color\": \"white\"}}, \"header\": {\"fill\": {\"color\": \"#C8D4E3\"}, \"line\": {\"color\": \"white\"}}, \"type\": \"table\"}]}, \"layout\": {\"annotationdefaults\": {\"arrowcolor\": \"#2a3f5f\", \"arrowhead\": 0, \"arrowwidth\": 1}, \"coloraxis\": {\"colorbar\": {\"outlinewidth\": 0, \"ticks\": \"\"}}, \"colorscale\": {\"diverging\": [[0, \"#8e0152\"], [0.1, \"#c51b7d\"], [0.2, \"#de77ae\"], [0.3, \"#f1b6da\"], [0.4, \"#fde0ef\"], [0.5, \"#f7f7f7\"], [0.6, \"#e6f5d0\"], [0.7, \"#b8e186\"], [0.8, \"#7fbc41\"], [0.9, \"#4d9221\"], [1, \"#276419\"]], \"sequential\": [[0.0, \"#0d0887\"], [0.1111111111111111, \"#46039f\"], [0.2222222222222222, \"#7201a8\"], [0.3333333333333333, \"#9c179e\"], [0.4444444444444444, \"#bd3786\"], [0.5555555555555556, \"#d8576b\"], [0.6666666666666666, \"#ed7953\"], [0.7777777777777778, \"#fb9f3a\"], [0.8888888888888888, \"#fdca26\"], [1.0, \"#f0f921\"]], \"sequentialminus\": [[0.0, \"#0d0887\"], [0.1111111111111111, \"#46039f\"], [0.2222222222222222, \"#7201a8\"], [0.3333333333333333, \"#9c179e\"], [0.4444444444444444, \"#bd3786\"], [0.5555555555555556, \"#d8576b\"], [0.6666666666666666, \"#ed7953\"], [0.7777777777777778, \"#fb9f3a\"], [0.8888888888888888, \"#fdca26\"], [1.0, \"#f0f921\"]]}, \"colorway\": [\"#636efa\", \"#EF553B\", \"#00cc96\", \"#ab63fa\", \"#FFA15A\", \"#19d3f3\", \"#FF6692\", \"#B6E880\", \"#FF97FF\", \"#FECB52\"], \"font\": {\"color\": \"#2a3f5f\"}, \"geo\": {\"bgcolor\": \"white\", \"lakecolor\": \"white\", \"landcolor\": \"#E5ECF6\", \"showlakes\": true, \"showland\": true, \"subunitcolor\": \"white\"}, \"hoverlabel\": {\"align\": \"left\"}, \"hovermode\": \"closest\", \"mapbox\": {\"style\": \"light\"}, \"paper_bgcolor\": \"white\", \"plot_bgcolor\": \"#E5ECF6\", \"polar\": {\"angularaxis\": {\"gridcolor\": \"white\", \"linecolor\": \"white\", \"ticks\": \"\"}, \"bgcolor\": \"#E5ECF6\", \"radialaxis\": {\"gridcolor\": \"white\", \"linecolor\": \"white\", \"ticks\": \"\"}}, \"scene\": {\"xaxis\": {\"backgroundcolor\": \"#E5ECF6\", \"gridcolor\": \"white\", \"gridwidth\": 2, \"linecolor\": \"white\", \"showbackground\": true, \"ticks\": \"\", \"zerolinecolor\": \"white\"}, \"yaxis\": {\"backgroundcolor\": \"#E5ECF6\", \"gridcolor\": \"white\", \"gridwidth\": 2, \"linecolor\": \"white\", \"showbackground\": true, \"ticks\": \"\", \"zerolinecolor\": \"white\"}, \"zaxis\": {\"backgroundcolor\": \"#E5ECF6\", \"gridcolor\": \"white\", \"gridwidth\": 2, \"linecolor\": \"white\", \"showbackground\": true, \"ticks\": \"\", \"zerolinecolor\": \"white\"}}, \"shapedefaults\": {\"line\": {\"color\": \"#2a3f5f\"}}, \"ternary\": {\"aaxis\": {\"gridcolor\": \"white\", \"linecolor\": \"white\", \"ticks\": \"\"}, \"baxis\": {\"gridcolor\": \"white\", \"linecolor\": \"white\", \"ticks\": \"\"}, \"bgcolor\": \"#E5ECF6\", \"caxis\": {\"gridcolor\": \"white\", \"linecolor\": \"white\", \"ticks\": \"\"}}, \"title\": {\"x\": 0.05}, \"xaxis\": {\"automargin\": true, \"gridcolor\": \"white\", \"linecolor\": \"white\", \"ticks\": \"\", \"title\": {\"standoff\": 15}, \"zerolinecolor\": \"white\", \"zerolinewidth\": 2}, \"yaxis\": {\"automargin\": true, \"gridcolor\": \"white\", \"linecolor\": \"white\", \"ticks\": \"\", \"title\": {\"standoff\": 15}, \"zerolinecolor\": \"white\", \"zerolinewidth\": 2}}}, \"title\": {\"text\": \"Number of fish trapped vs tide level\"}, \"yaxis\": {\"showgrid\": true, \"tickfont\": {\"color\": \"blue\"}, \"title\": {\"font\": {\"color\": \"blue\"}, \"text\": \"Tide level\"}}, \"yaxis2\": {\"overlaying\": \"y\", \"showgrid\": true, \"side\": \"right\", \"tickfont\": {\"color\": \"red\"}, \"title\": {\"font\": {\"color\": \"red\"}, \"text\": \"Number of fish in trap\"}}},\n",
       "                        {\"responsive\": true}\n",
       "                    ).then(function(){\n",
       "                            \n",
       "var gd = document.getElementById('a65e0042-ab40-4bcf-80a1-87e754a24e74');\n",
       "var x = new MutationObserver(function (mutations, observer) {{\n",
       "        var display = window.getComputedStyle(gd).display;\n",
       "        if (!display || display === 'none') {{\n",
       "            console.log([gd, 'removed!']);\n",
       "            Plotly.purge(gd);\n",
       "            observer.disconnect();\n",
       "        }}\n",
       "}});\n",
       "\n",
       "// Listen for the removal of the full notebook cells\n",
       "var notebookContainer = gd.closest('#notebook-container');\n",
       "if (notebookContainer) {{\n",
       "    x.observe(notebookContainer, {childList: true});\n",
       "}}\n",
       "\n",
       "// Listen for the clearing of the current output cell\n",
       "var outputEl = gd.closest('.output');\n",
       "if (outputEl) {{\n",
       "    x.observe(outputEl, {childList: true});\n",
       "}}\n",
       "\n",
       "                        })\n",
       "                };\n",
       "                });\n",
       "            </script>\n",
       "        </div>"
      ]
     },
     "metadata": {},
     "output_type": "display_data"
    }
   ],
   "source": [
    "# Getting fish data\n",
    "df = generate_df_from_simulation(fish_simulation)\n",
    "\n",
    "# Getting tide data\n",
    "tide_df = pd.DataFrame(get_tide_values())\n",
    "tide_df = tide_df.rename(columns = {0:'tide_level'})\n",
    "tide_df['hour'] = tide_df.index\n",
    "tide_df[\"day_hour\"] = tide_df[\"hour\"] % 24\n",
    "tide_df[\"day\"] = tide_df['hour'] // 24\n",
    "\n",
    "\n",
    "x = tide_df.hour\n",
    "y = tide_df.tide_level\n",
    "\n",
    "x1 = df['hour']\n",
    "y1 = df['In Trap']\n",
    "\n",
    "\n",
    "trace1 = go.Scatter(x=x,y=y,name='tide')\n",
    "trace2 = go.Scatter(x=x1,y=y1,name='Trap',yaxis='y2')\n",
    "    \n",
    "layout = go.Layout(\n",
    "        title= ('Number of fish trapped vs tide level'),\n",
    "        yaxis=dict(title='Tide level',\\\n",
    "                   titlefont=dict(color='blue'), tickfont=dict(color='blue')),\n",
    "        yaxis2=dict(title='Number of fish in trap', titlefont=dict(color='red'), \\\n",
    "                    tickfont=dict(color='red'), overlaying='y', side='right'),\n",
    "        showlegend=False)\n",
    "fig = go.Figure(data=[trace1,trace2],layout=layout)\n",
    "fig.update_yaxes(showgrid=True)\n",
    "fig.show()"
   ]
  },
  {
   "cell_type": "markdown",
   "metadata": {},
   "source": [
    "5. explore problems and benefits of modelling different shapes"
   ]
  },
  {
   "cell_type": "markdown",
   "metadata": {},
   "source": [
    "[![Callysto.ca License](https://github.com/callysto/curriculum-notebooks/blob/master/callysto-notebook-banner-bottom.jpg?raw=true)](https://github.com/callysto/curriculum-notebooks/blob/master/LICENSE.md)"
   ]
  }
 ],
 "metadata": {
  "kernelspec": {
   "display_name": "Python 3",
   "language": "python",
   "name": "python3"
  },
  "language_info": {
   "codemirror_mode": {
    "name": "ipython",
    "version": 3
   },
   "file_extension": ".py",
   "mimetype": "text/x-python",
   "name": "python",
   "nbconvert_exporter": "python",
   "pygments_lexer": "ipython3",
   "version": "3.8.4"
  }
 },
 "nbformat": 4,
 "nbformat_minor": 4
}
